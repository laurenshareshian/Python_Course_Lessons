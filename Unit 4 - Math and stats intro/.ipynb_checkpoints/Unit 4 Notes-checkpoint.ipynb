{
 "cells": [
  {
   "cell_type": "markdown",
   "metadata": {
    "slideshow": {
     "slide_type": "slide"
    }
   },
   "source": [
    "### 1. Twitter String Quiz Solution\n",
    "There are two ways to do this problem. If you want to return the url \"https://twitter.com/search?q=oregon%20episcopal%20school&src=typd\" if the user types in \"oregon episcopal school\", then you'll need to join \"%20\" between the words. You can use the join method:"
   ]
  },
  {
   "cell_type": "code",
   "execution_count": 2,
   "metadata": {
    "slideshow": {
     "slide_type": "subslide"
    }
   },
   "outputs": [
    {
     "name": "stdout",
     "output_type": "stream",
     "text": [
      "what are you search terms? oregon episcopal school\n",
      "https://twitter.com/search?q=oregon%20episcopal%20school&src=typd\n"
     ]
    }
   ],
   "source": [
    "search = input('what are you search terms? ')\n",
    "words = search.split()\n",
    "url = '%20'.join(words)\n",
    "url = ''.join(['https://twitter.com/search?q=', url, '&src=typd'])\n",
    "print(url)"
   ]
  },
  {
   "cell_type": "markdown",
   "metadata": {
    "slideshow": {
     "slide_type": "subslide"
    }
   },
   "source": [
    "If you didn't think to use the join command, then you could have also used a loop to add %20 between the words. However, you would get an extra \"%20\" at the end of the search terms that you didn't want. The counteract this, you would want to delete the last %20 after the loop using url[:-3]."
   ]
  },
  {
   "cell_type": "code",
   "execution_count": 4,
   "metadata": {
    "slideshow": {
     "slide_type": "subslide"
    }
   },
   "outputs": [
    {
     "name": "stdout",
     "output_type": "stream",
     "text": [
      "what are you search terms? oregon episcopal school\n",
      "https://twitter.com/search?q=oregon%20episcopal%20school&src=typd\n"
     ]
    }
   ],
   "source": [
    "search = input('what are you search terms? ')\n",
    "words = search.split()\n",
    "url = ''\n",
    "for word in words:\n",
    "    url = url + word + '%20'\n",
    "url = 'https://twitter.com/search?q=' + url[:-3] + '&src=typd'\n",
    "print(url)"
   ]
  },
  {
   "cell_type": "markdown",
   "metadata": {
    "slideshow": {
     "slide_type": "slide"
    }
   },
   "source": [
    "### 2. Prime Quiz Solution\n",
    "To find all of the primes between two numbers, you need to reset your assumption to prime = True each time you start the loop. (Remember, we need to assume prime is True instead of prime is False, since only one factor other than 1 and the number itself will make a number NOT prime, but there are plenty of numbers that don't evenly divide non-prime numbers (for example, 6 is not prime, even though it isn't divisible by 5.) Here's the solution:"
   ]
  },
  {
   "cell_type": "code",
   "execution_count": 6,
   "metadata": {
    "slideshow": {
     "slide_type": "subslide"
    }
   },
   "outputs": [
    {
     "name": "stdout",
     "output_type": "stream",
     "text": [
      "Give me a lower bound: 5\n",
      "Give me a higher bound: 12\n",
      "5\n",
      "7\n",
      "11\n"
     ]
    }
   ],
   "source": [
    "lower = int(input('Give me a lower bound: '))\n",
    "higher = int(input('Give me a higher bound: '))\n",
    "for number in range(lower,higher+1):\n",
    "    prime = True\n",
    "    for i in range(2,number):\n",
    "        if number % i == 0:\n",
    "            prime = False\n",
    "    if prime == True:\n",
    "        print(number)"
   ]
  },
  {
   "cell_type": "markdown",
   "metadata": {
    "slideshow": {
     "slide_type": "slide"
    }
   },
   "source": [
    "### 3. Cereal Box Simulation\n",
    "Suppose there was a 20% chance of getting a Serena Williams card in a cereal box, a 30% chance of getting a Tiger Woods card, and a 50% chance of getting a Kobe Bryant card. How many boxes, on average, would you expect to have to purchase to get all three athletes? This is a perfect question to answer with simulation. The first way we will do this is to make a list of names and perform the simulation 1000 times:"
   ]
  },
  {
   "cell_type": "code",
   "execution_count": 3,
   "metadata": {
    "slideshow": {
     "slide_type": "subslide"
    }
   },
   "outputs": [
    {
     "name": "stdout",
     "output_type": "stream",
     "text": [
      "6.442\n"
     ]
    }
   ],
   "source": [
    "import random as rand\n",
    "\n",
    "names = ['S', 'S', 'T', 'T', 'T', 'K', 'K', 'K', 'K', 'K']\n",
    "\n",
    "counts = []\n",
    "\n",
    "for simulation in range(1000): #100 simulations\n",
    "    count = 0 #you haven't bought any boxes yet\n",
    "    Serena = False #you don't have any cards yet\n",
    "    Tiger = False\n",
    "    Kobe = False\n",
    "    for boxes in range(1000000): #we dont know how many boxes we need so overestimate by A LOT\n",
    "        name = rand.choice(names) #buy a box\n",
    "        count = count + 1 #update your box count\n",
    "        if name == 'S': #check what card you have\n",
    "            Serena = True\n",
    "        elif name == 'T':\n",
    "            Tiger = True\n",
    "        else:\n",
    "            Kobe = True\n",
    "        if Serena == True and Tiger == True and Kobe == True: #if you have all three, stop and count the number of boxes you bought\n",
    "            counts.append(count)\n",
    "            break\n",
    "            \n",
    "print(sum(counts)/len(counts)) #print the average box number"
   ]
  },
  {
   "cell_type": "markdown",
   "metadata": {
    "slideshow": {
     "slide_type": "subslide"
    }
   },
   "source": [
    "What if we wanted to plot this?"
   ]
  },
  {
   "cell_type": "code",
   "execution_count": 4,
   "metadata": {
    "slideshow": {
     "slide_type": "subslide"
    }
   },
   "outputs": [
    {
     "data": {
      "image/png": "[encoded data removed]",
      "text/plain": [
       "<matplotlib.figure.Figure at 0x10dc22400>"
      ]
     },
     "metadata": {},
     "output_type": "display_data"
    }
   ],
   "source": [
    "import matplotlib.pyplot as plt\n",
    "%matplotlib inline\n",
    "\n",
    "plt.hist(counts);"
   ]
  },
  {
   "cell_type": "markdown",
   "metadata": {
    "slideshow": {
     "slide_type": "subslide"
    }
   },
   "source": [
    "Let's clean this up...what are the min/max counts for the number of boxes? We'll make these the upper and lower parts of our range and make that number of rectangles. For example, if the boxcounts ranged between 3 and 7 boxes, then there would b 7-3 = 4 rectanges, separated by the integers 3, 4, 5, 6, and 7:"
   ]
  },
  {
   "cell_type": "code",
   "execution_count": 16,
   "metadata": {
    "slideshow": {
     "slide_type": "subslide"
    }
   },
   "outputs": [
    {
     "data": {
      "text/plain": [
       "(array([ 194.,  182.,  147.,  109.,   94.,   63.,   53.,   45.,   26.,\n",
       "          14.,   16.,   12.,   13.,    3.,    9.,    3.,    5.,    2.,\n",
       "           3.,    2.,    0.,    1.,    2.,    0.,    0.,    1.,    1.]),\n",
       " array([  3.,   4.,   5.,   6.,   7.,   8.,   9.,  10.,  11.,  12.,  13.,\n",
       "         14.,  15.,  16.,  17.,  18.,  19.,  20.,  21.,  22.,  23.,  24.,\n",
       "         25.,  26.,  27.,  28.,  29.,  30.]),\n",
       " <a list of 27 Patch objects>)"
      ]
     },
     "execution_count": 16,
     "metadata": {},
     "output_type": "execute_result"
    },
    {
     "data": {
      "image/png": "[encoded data removed]",
      "text/plain": [
       "<matplotlib.figure.Figure at 0x11116b748>"
      ]
     },
     "metadata": {},
     "output_type": "display_data"
    }
   ],
   "source": [
    "max_count = max(counts)\n",
    "min_count = min(counts)\n",
    "num_of_rect = max_count - min_count\n",
    "plt.hist(counts, range = (min_count, max_count), bins = num_of_rect)"
   ]
  },
  {
   "cell_type": "markdown",
   "metadata": {
    "slideshow": {
     "slide_type": "subslide"
    }
   },
   "source": [
    "What if we wanted to make our axis labels tick marks more clear? We would need to tell matplotlib where to place the tick marks. If we wanted them in at every other integer value between the smallest and greatest count, we could type:"
   ]
  },
  {
   "cell_type": "code",
   "execution_count": 18,
   "metadata": {},
   "outputs": [
    {
     "data": {
      "image/png": "[encoded data removed]",
      "text/plain": [
       "<matplotlib.figure.Figure at 0x110ad3828>"
      ]
     },
     "metadata": {},
     "output_type": "display_data"
    }
   ],
   "source": [
    "plt.hist(counts, range = (min_count, max_count), bins = num_of_rect)\n",
    "plt.xticks(range(min_count, max_count, 2));"
   ]
  },
  {
   "cell_type": "markdown",
   "metadata": {
    "slideshow": {
     "slide_type": "subslide"
    }
   },
   "source": [
    "Once you are sampling from a set larger than 10 elements, you really won't want to write them all out by hand. Instead, you'll want to assign each a number and then randomly generate numbers. When the distributions are divisible by 10, we can assign numbers 0 through 9. For example, we'll assign Serena to 0 and 1, Tiger to 2,3, and 4, and Kobe to 5, 6, 7, 8, and 9:"
   ]
  },
  {
   "cell_type": "code",
   "execution_count": 22,
   "metadata": {
    "slideshow": {
     "slide_type": "subslide"
    }
   },
   "outputs": [
    {
     "name": "stdout",
     "output_type": "stream",
     "text": [
      "6.801\n"
     ]
    }
   ],
   "source": [
    "import random as rand\n",
    "\n",
    "counts = []\n",
    "\n",
    "for simulation in range(1000): #100 simulations\n",
    "    count = 0 #you haven't bought any boxes yet\n",
    "    Serena = False #you don't have any cards yet\n",
    "    Tiger = False\n",
    "    Kobe = False\n",
    "    for boxes in range(1000000): #we dont know how many boxes we need so overestimate by A LOT\n",
    "        name = rand.randint(0,9) #buy a box\n",
    "        count = count + 1 #update your box count\n",
    "        if 0 <= name < 2: #check what card you have\n",
    "            Serena = True\n",
    "        elif 2 <= name < 5:\n",
    "            Tiger = True\n",
    "        else:\n",
    "            Kobe = True\n",
    "        if Serena == True and Tiger == True and Kobe == True: #if you have all three, stop and count the number of boxes you bought\n",
    "            counts.append(count)\n",
    "            break\n",
    "            \n",
    "print(sum(counts)/len(counts)) #print the average box number"
   ]
  },
  {
   "cell_type": "markdown",
   "metadata": {
    "slideshow": {
     "slide_type": "subslide"
    }
   },
   "source": [
    "If your percentages were not divisible by then, then you would need to assign numbers between 0 and 99. For example, if the Serena percentage was 25%, Tiger was 35%, and Kobe was 40%, then you would assign 0-24 to Serena, 25-59 to Tiger, and 60-99 to Kobe."
   ]
  },
  {
   "cell_type": "markdown",
   "metadata": {
    "slideshow": {
     "slide_type": "slide"
    }
   },
   "source": [
    "### 4. Expected Value\n",
    "Expected value is given by the sum of the products of a value times the probability of that value occuring. Suppose we had a school raffle in which the prize amounts were below. What would the expected value be?\n",
    "\n",
    "|  Prize (dollars) |Probability   |\n",
    "|---   |---   |\n",
    "|100 |0.15   | \n",
    "|200 | 0.05 |\n",
    "|0 | 0.80 |\n",
    "\n",
    "We would expect to win 100(0.15)+200(0.05)+0(0.80) = 25 dollars. How could we simulate this?"
   ]
  },
  {
   "cell_type": "code",
   "execution_count": 29,
   "metadata": {
    "slideshow": {
     "slide_type": "subslide"
    }
   },
   "outputs": [
    {
     "name": "stdout",
     "output_type": "stream",
     "text": [
      "24.44\n"
     ]
    }
   ],
   "source": [
    "winnings = []\n",
    "for i in range(10000):\n",
    "    number = rand.randint(0,99)\n",
    "    if 0 <= number < 15:\n",
    "        winnings.append(100)\n",
    "    elif 15 <= number < 20:\n",
    "        winnings.append(200)\n",
    "    else:\n",
    "        winnings.append(0)\n",
    "print(sum(winnings)/len(winnings))"
   ]
  },
  {
   "cell_type": "markdown",
   "metadata": {
    "slideshow": {
     "slide_type": "slide"
    }
   },
   "source": [
    "### 5. More Plotting Histograms\n",
    "Suppose we wanted to plot the number of times we won 0, 100, and 200 dollars in the above raffle. We could use the following code:"
   ]
  },
  {
   "cell_type": "code",
   "execution_count": 31,
   "metadata": {
    "slideshow": {
     "slide_type": "subslide"
    }
   },
   "outputs": [
    {
     "data": {
      "image/png": "[encoded data removed]",
      "text/plain": [
       "<matplotlib.figure.Figure at 0x10cd32898>"
      ]
     },
     "metadata": {},
     "output_type": "display_data"
    }
   ],
   "source": [
    "import matplotlib.pyplot as plt\n",
    "%matplotlib inline\n",
    "\n",
    "plt.hist(winnings);"
   ]
  },
  {
   "cell_type": "markdown",
   "metadata": {
    "slideshow": {
     "slide_type": "subslide"
    }
   },
   "source": [
    "This works okay, but let's make it prettier. Let's center each bin at 0, 100, and 200:"
   ]
  },
  {
   "cell_type": "code",
   "execution_count": 36,
   "metadata": {
    "slideshow": {
     "slide_type": "subslide"
    }
   },
   "outputs": [
    {
     "data": {
      "image/png": "[encoded data removed]",
      "text/plain": [
       "<matplotlib.figure.Figure at 0x10d19a0b8>"
      ]
     },
     "metadata": {},
     "output_type": "display_data"
    }
   ],
   "source": [
    "import matplotlib.pyplot as plt\n",
    "%matplotlib inline\n",
    "\n",
    "plt.hist(winnings, bins = 3, range=(-50,250));"
   ]
  },
  {
   "cell_type": "markdown",
   "metadata": {
    "slideshow": {
     "slide_type": "subslide"
    }
   },
   "source": [
    "Really, this raffle follows a discrete distribution, since there are only three winnings - 0, 100, and 200. Therefore, let's get rid of the x-axis tick marks and instead make three labels for 0, 100, and 200:\n"
   ]
  },
  {
   "cell_type": "code",
   "execution_count": 39,
   "metadata": {
    "slideshow": {
     "slide_type": "subslide"
    }
   },
   "outputs": [
    {
     "data": {
      "image/png": "[encoded data removed]",
      "text/plain": [
       "<matplotlib.figure.Figure at 0x10d0ca978>"
      ]
     },
     "metadata": {},
     "output_type": "display_data"
    }
   ],
   "source": [
    "import matplotlib.pyplot as plt\n",
    "%matplotlib inline\n",
    "\n",
    "plt.hist(winnings, bins = 3, range=(-50,250));\n",
    "plt.xticks([0,100,200], ['$0', '$100', '$200']);"
   ]
  },
  {
   "cell_type": "markdown",
   "metadata": {
    "collapsed": true,
    "slideshow": {
     "slide_type": "slide"
    }
   },
   "source": [
    "### Head/Tails example\n",
    "\n",
    "Suppose you wanted to simulate a heads/tails experiment 100 times. You could use random.choice to sample from the words \"heads\" and \"tails\":"
   ]
  },
  {
   "cell_type": "code",
   "execution_count": 21,
   "metadata": {},
   "outputs": [
    {
     "name": "stdout",
     "output_type": "stream",
     "text": [
      "['heads', 'tails', 'heads', 'tails', 'tails', 'heads', 'heads', 'tails', 'tails', 'heads', 'tails', 'heads', 'tails', 'tails', 'heads', 'tails', 'tails', 'heads', 'tails', 'heads', 'tails', 'tails', 'tails', 'heads', 'tails', 'heads', 'heads', 'heads', 'heads', 'tails', 'tails', 'heads', 'tails', 'tails', 'tails', 'tails', 'heads', 'tails', 'heads', 'heads', 'tails', 'heads', 'heads', 'tails', 'tails', 'heads', 'heads', 'tails', 'heads', 'heads', 'heads', 'heads', 'tails', 'heads', 'heads', 'tails', 'heads', 'tails', 'heads', 'tails', 'tails', 'tails', 'tails', 'heads', 'heads', 'heads', 'tails', 'heads', 'tails', 'heads', 'tails', 'heads', 'tails', 'heads', 'tails', 'heads', 'heads', 'tails', 'heads', 'tails', 'tails', 'tails', 'tails', 'heads', 'tails', 'tails', 'heads', 'heads', 'tails', 'heads', 'tails', 'heads', 'heads', 'heads', 'heads', 'heads', 'tails', 'tails', 'heads', 'tails']\n"
     ]
    }
   ],
   "source": [
    "options = ['heads', 'tails']\n",
    "outcomes = []\n",
    "for i in range(100):\n",
    "    outcomes.append(rand.choice(options))\n",
    "print(outcomes)"
   ]
  },
  {
   "cell_type": "markdown",
   "metadata": {
    "slideshow": {
     "slide_type": "subslide"
    }
   },
   "source": [
    "However, plt.hist only works with NUMBERS, not strings. Therefore, we should sample from the numbers 0 and 1 instead of the words \"heads\" and \"tails\". "
   ]
  },
  {
   "cell_type": "code",
   "execution_count": 26,
   "metadata": {},
   "outputs": [
    {
     "name": "stdout",
     "output_type": "stream",
     "text": [
      "[0, 1, 0, 1, 0, 0, 1, 0, 0, 0, 0, 1, 0, 0, 1, 1, 0, 1, 1, 0, 1, 0, 0, 0, 0, 1, 0, 0, 0, 0, 1, 1, 1, 1, 0, 0, 0, 0, 0, 0, 1, 1, 1, 0, 1, 1, 1, 0, 1, 1, 0, 1, 1, 1, 1, 0, 1, 0, 1, 0, 0, 1, 0, 0, 1, 1, 0, 0, 0, 0, 1, 1, 0, 0, 0, 0, 1, 1, 1, 1, 0, 1, 0, 0, 1, 1, 1, 0, 1, 0, 0, 1, 1, 0, 0, 1, 1, 1, 1, 0]\n"
     ]
    },
    {
     "data": {
      "text/plain": [
       "(array([ 52.,   0.,   0.,   0.,   0.,   0.,   0.,   0.,   0.,  48.]),\n",
       " array([ 0. ,  0.1,  0.2,  0.3,  0.4,  0.5,  0.6,  0.7,  0.8,  0.9,  1. ]),\n",
       " <a list of 10 Patch objects>)"
      ]
     },
     "execution_count": 26,
     "metadata": {},
     "output_type": "execute_result"
    },
    {
     "data": {
      "image/png": "[encoded data removed]",
      "text/plain": [
       "<matplotlib.figure.Figure at 0x111454400>"
      ]
     },
     "metadata": {},
     "output_type": "display_data"
    }
   ],
   "source": [
    "outcomes = []\n",
    "for i in range(100):\n",
    "    outcomes.append(rand.choice(range(0,2)))\n",
    "print(outcomes)\n",
    "plt.hist(outcomes)"
   ]
  },
  {
   "cell_type": "markdown",
   "metadata": {
    "slideshow": {
     "slide_type": "subslide"
    }
   },
   "source": [
    "Let's make it prettier. We should have them centered at 0 and 1 and have them not touching each other:\n"
   ]
  },
  {
   "cell_type": "code",
   "execution_count": 28,
   "metadata": {},
   "outputs": [
    {
     "data": {
      "text/plain": [
       "(array([ 52.,  48.]), array([-0.5,  0.5,  1.5]), <a list of 2 Patch objects>)"
      ]
     },
     "execution_count": 28,
     "metadata": {},
     "output_type": "execute_result"
    },
    {
     "data": {
      "image/png": "[encoded data removed]",
      "text/plain": [
       "<matplotlib.figure.Figure at 0x111874b00>"
      ]
     },
     "metadata": {},
     "output_type": "display_data"
    }
   ],
   "source": [
    "plt.hist(outcomes, bins = 2, range = (-.5, 1.5), rwidth = 0.8)"
   ]
  },
  {
   "cell_type": "markdown",
   "metadata": {
    "slideshow": {
     "slide_type": "subslide"
    }
   },
   "source": [
    "Furthermore, we should have the labels be \"heads\" and \"tails\". To this, we need to tell matplotlib WHERE to place the labels and WHAT their labels should be:"
   ]
  },
  {
   "cell_type": "code",
   "execution_count": 30,
   "metadata": {},
   "outputs": [
    {
     "data": {
      "image/png": "[encoded data removed]",
      "text/plain": [
       "<matplotlib.figure.Figure at 0x111a47eb8>"
      ]
     },
     "metadata": {},
     "output_type": "display_data"
    }
   ],
   "source": [
    "plt.hist(outcomes, bins = 2, range = (-.5, 1.5), rwidth = 0.8);\n",
    "plt.xticks([0,1], ['heads', 'tails']);"
   ]
  },
  {
   "cell_type": "code",
   "execution_count": null,
   "metadata": {
    "collapsed": true
   },
   "outputs": [],
   "source": []
  }
 ],
 "metadata": {
  "celltoolbar": "Slideshow",
  "kernelspec": {
   "display_name": "Python 3",
   "language": "python",
   "name": "python3"
  },
  "language_info": {
   "codemirror_mode": {
    "name": "ipython",
    "version": 3
   },
   "file_extension": ".py",
   "mimetype": "text/x-python",
   "name": "python",
   "nbconvert_exporter": "python",
   "pygments_lexer": "ipython3",
   "version": "3.6.0"
  }
 },
 "nbformat": 4,
 "nbformat_minor": 2
}
