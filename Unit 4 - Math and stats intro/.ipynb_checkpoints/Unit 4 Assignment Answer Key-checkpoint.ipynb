{
 "cells": [
  {
   "cell_type": "markdown",
   "metadata": {},
   "source": [
    "Contents\n",
    "---\n",
    "- [The Math Package](#math)\n",
    "- [The Random Package](#random)\n",
    "- [Random Sampling](#sampling)\n",
    "- [The Numpy Package](#numpy)\n",
    "- [The matplotlib package](#matplotlib)\n",
    "- [Descriptive Statistics](#stats)"
   ]
  },
  {
   "cell_type": "markdown",
   "metadata": {},
   "source": [
    "The Math Package\n",
    "---\n",
    "<a class=\"anchor\" id=\"math\"></a>\n",
    "\n",
    "There are many packages in Python that you can import into your program instead of re-inventing the wheel. At the top of your program, we'll tell our program what we want it to import. Then, we can use any of its methods within our program. For example, suppose you want to take the square root of 4. If you type sqrt(4), you'll get an error:"
   ]
  },
  {
   "cell_type": "code",
   "execution_count": 3,
   "metadata": {},
   "outputs": [
    {
     "ename": "NameError",
     "evalue": "name 'sqrt' is not defined",
     "output_type": "error",
     "traceback": [
      "\u001b[0;31m---------------------------------------------------------------------------\u001b[0m",
      "\u001b[0;31mNameError\u001b[0m                                 Traceback (most recent call last)",
      "\u001b[0;32m<ipython-input-3-718d7f173e1d>\u001b[0m in \u001b[0;36m<module>\u001b[0;34m()\u001b[0m\n\u001b[0;32m----> 1\u001b[0;31m \u001b[0msqrt\u001b[0m\u001b[0;34m(\u001b[0m\u001b[0;36m4\u001b[0m\u001b[0;34m)\u001b[0m\u001b[0;34m\u001b[0m\u001b[0m\n\u001b[0m",
      "\u001b[0;31mNameError\u001b[0m: name 'sqrt' is not defined"
     ]
    }
   ],
   "source": [
    "sqrt(4)"
   ]
  },
  {
   "cell_type": "markdown",
   "metadata": {},
   "source": [
    "This is because sqrt() is not a built-in function. However, it is a built-in function to the Python math package. Thus, we'll type \"import math\" at the beginning of our program, and then we'll be able to use any of its built in commands by typing things like math.sqrt():"
   ]
  },
  {
   "cell_type": "code",
   "execution_count": 7,
   "metadata": {},
   "outputs": [
    {
     "name": "stdout",
     "output_type": "stream",
     "text": [
      "2.0\n",
      "3.141592653589793\n",
      "-1.0\n",
      "2.718281828459045\n",
      "120\n"
     ]
    }
   ],
   "source": [
    "import math\n",
    "print(math.sqrt(4))\n",
    "print(math.pi)\n",
    "print(math.cos(math.pi))\n",
    "print(math.exp(1))\n",
    "print(math.factorial(5))"
   ]
  },
  {
   "cell_type": "markdown",
   "metadata": {},
   "source": [
    "Note: Sometimes you'll see the first line of the import statement in the form \"import package as nickname\". We won't do this with \"math\", as math is a short enough word that it isn't too difficult to write. However, if you wanted to rename \"math\" something else, you could. For example, suppose in my program I wanted to refer to the math package as \"kanye\". Then I could type the following:"
   ]
  },
  {
   "cell_type": "code",
   "execution_count": 8,
   "metadata": {},
   "outputs": [
    {
     "name": "stdout",
     "output_type": "stream",
     "text": [
      "2.0\n"
     ]
    }
   ],
   "source": [
    "import math as kanye\n",
    "print(kanye.sqrt(4))"
   ]
  },
  {
   "cell_type": "markdown",
   "metadata": {},
   "source": [
    "The Random Package\n",
    "---\n",
    "<a class=\"anchor\" id=\"random\"></a>\n",
    "The random package provides us with a way of generating pseuodorandom numbers (they are random to the naked eye but technically the computer's algorithm is not fully random). If we want to generate a random number between 0 and 1, we can type:\n"
   ]
  },
  {
   "cell_type": "code",
   "execution_count": 1,
   "metadata": {},
   "outputs": [
    {
     "name": "stdout",
     "output_type": "stream",
     "text": [
      "0.9153726864197884\n"
     ]
    }
   ],
   "source": [
    "import random as rand\n",
    "\n",
    "print(rand.random())"
   ]
  },
  {
   "cell_type": "markdown",
   "metadata": {},
   "source": [
    "If we wanted to generate 5 random numbers between 0 and 1, we could create a loop:"
   ]
  },
  {
   "cell_type": "code",
   "execution_count": 20,
   "metadata": {},
   "outputs": [
    {
     "name": "stdout",
     "output_type": "stream",
     "text": [
      "0.8768342262560255\n",
      "0.2188545914527682\n",
      "0.6233047500853078\n",
      "0.11418120700849133\n",
      "0.46213258925505174\n"
     ]
    }
   ],
   "source": [
    "import random as rand\n",
    "\n",
    "for i in range(5):\n",
    "    print(rand.random())"
   ]
  },
  {
   "cell_type": "markdown",
   "metadata": {},
   "source": [
    "Many times, we won't want to generate random decimals but rather integers within a specific range. The random function is only one of many functions that handle random numbers. The function randint takes the parameters low and high, and returns an integer between low and high (including both). To generate 5 numbers between 1 and 10, inclusive, we could type:"
   ]
  },
  {
   "cell_type": "code",
   "execution_count": 19,
   "metadata": {},
   "outputs": [
    {
     "name": "stdout",
     "output_type": "stream",
     "text": [
      "7\n",
      "4\n",
      "1\n",
      "5\n",
      "1\n"
     ]
    }
   ],
   "source": [
    "import random as rand\n",
    "\n",
    "for i in range(5):\n",
    "    print(rand.randint(1,10))"
   ]
  },
  {
   "cell_type": "markdown",
   "metadata": {},
   "source": [
    "We can also use the random function to pick random elements from a list. For example, to pick a random student's name from a group of 5 students, we could type:"
   ]
  },
  {
   "cell_type": "code",
   "execution_count": 22,
   "metadata": {},
   "outputs": [
    {
     "name": "stdout",
     "output_type": "stream",
     "text": [
      "Abby\n"
     ]
    }
   ],
   "source": [
    "import random as rand\n",
    "students = ['Jack', 'Abby', 'Mary', 'Peter', \"Stella\"]\n",
    "print(rand.choice(students))\n"
   ]
  },
  {
   "cell_type": "markdown",
   "metadata": {},
   "source": [
    "If I wanted to generate two random names from the list, I could use the sample method:\n"
   ]
  },
  {
   "cell_type": "code",
   "execution_count": 26,
   "metadata": {},
   "outputs": [
    {
     "name": "stdout",
     "output_type": "stream",
     "text": [
      "['Stella', 'Jack']\n"
     ]
    }
   ],
   "source": [
    "import random as rand\n",
    "students = ['Jack', 'Abby', 'Mary', 'Peter', \"Stella\"]\n",
    "print(rand.sample(students,2))"
   ]
  },
  {
   "cell_type": "markdown",
   "metadata": {},
   "source": [
    "### Exercise - Math \n",
    "You can see all of the built-in functions in the math package here:\n",
    "https://docs.python.org/2/library/math.html\n",
    "Write a program that prints 10 different lines using different math functions other than the ones above."
   ]
  },
  {
   "cell_type": "code",
   "execution_count": null,
   "metadata": {
    "collapsed": true
   },
   "outputs": [],
   "source": [
    "#insert math"
   ]
  },
  {
   "cell_type": "markdown",
   "metadata": {},
   "source": [
    "### Exercise - Max min average\n",
    "Write a program that generates 10 random numbers between 20 and 50 inclusive, and then prints out the max, min, and the average of those numbers. "
   ]
  },
  {
   "cell_type": "code",
   "execution_count": 3,
   "metadata": {},
   "outputs": [
    {
     "name": "stdout",
     "output_type": "stream",
     "text": [
      "[44, 22, 50, 41, 35, 28, 43, 35, 32, 24]\n",
      "50\n",
      "22\n",
      "35.4\n"
     ]
    }
   ],
   "source": [
    "#insert max min average\n",
    "import random as rand\n",
    "numlist = []\n",
    "for i in range(10):\n",
    "    numlist.append(rand.randint(20,50))\n",
    "print(numlist)\n",
    "print(max(numlist))\n",
    "print(min(numlist))\n",
    "print(sum(numlist)/len(numlist))"
   ]
  },
  {
   "cell_type": "markdown",
   "metadata": {},
   "source": [
    "### Exercise - Random Factorial\n",
    "Write a program that chooses a random number between two numbers that the user specifies. Then return the factorial of that number."
   ]
  },
  {
   "cell_type": "code",
   "execution_count": 9,
   "metadata": {},
   "outputs": [
    {
     "name": "stdout",
     "output_type": "stream",
     "text": [
      "lower? 3\n",
      "higher? 5\n",
      "24\n"
     ]
    }
   ],
   "source": [
    "import random as rand\n",
    "import math\n",
    "#insert random factorial code\n",
    "lower = int(input('lower? '))\n",
    "higher = int(input('higher? '))\n",
    "n = rand.randint(lower,higher)\n",
    "print(math.factorial(n))"
   ]
  },
  {
   "cell_type": "markdown",
   "metadata": {},
   "source": [
    "### Exercise - color \n",
    "Create a list of colors of at least five colors. Then randomly select two colors, without replacement. (Note: Without replacement means that the same color cannot be chosen twice)."
   ]
  },
  {
   "cell_type": "code",
   "execution_count": 11,
   "metadata": {},
   "outputs": [
    {
     "name": "stdout",
     "output_type": "stream",
     "text": [
      "['red', 'purple']\n"
     ]
    }
   ],
   "source": [
    "#insert color\n",
    "colors = ['red', 'blue', 'green', 'yellow', 'purple']\n",
    "print(rand.sample(colors, 2))"
   ]
  },
  {
   "cell_type": "markdown",
   "metadata": {},
   "source": [
    "### Exercise - color again\n",
    "Create a list of colors of at least five colors. Then randomly select two colors, with replacement. (Note: With replacement means that the same color can be chosen twice)."
   ]
  },
  {
   "cell_type": "code",
   "execution_count": 12,
   "metadata": {},
   "outputs": [
    {
     "name": "stdout",
     "output_type": "stream",
     "text": [
      "purple\n",
      "blue\n"
     ]
    }
   ],
   "source": [
    "#insert color again\n",
    "for i in range(2):\n",
    "    print(rand.choice(colors))"
   ]
  },
  {
   "cell_type": "markdown",
   "metadata": {},
   "source": [
    "### Exercise - dice\n",
    "Suppose you want to simulate rolling a dice three times. Yes, you can create a list of numbers 1,2,3,4,5, and 6, but if you do rand(sample, 3), then you'll never get the same number twice, which doesn't make sense, since the rolls of the dice are random. Change your program so that you randomly generate three rolls, where some numbers may be the same."
   ]
  },
  {
   "cell_type": "code",
   "execution_count": 14,
   "metadata": {},
   "outputs": [
    {
     "name": "stdout",
     "output_type": "stream",
     "text": [
      "2\n",
      "1\n",
      "2\n"
     ]
    }
   ],
   "source": [
    "#insert dice\n",
    "nums = [1,2,3,4,5,6]\n",
    "for i in range(3):\n",
    "    print(rand.choice(nums))"
   ]
  },
  {
   "cell_type": "markdown",
   "metadata": {},
   "source": [
    "Random Sampling\n",
    "---\n",
    "<a class=\"anchor\" id=\"sampling\"></a>\n",
    "\n",
    "If we have a fair six-sided die, then we can simulate tossing the die by simply using rand.randint(1,6). However, suppose the die is not fair. Instead, its outcome is determined by the following probabilities:\n",
    "\n",
    "\n",
    "|  Die Face (min) |Probability   |\n",
    "|---   |---   |\n",
    "|1 |0.1  | \n",
    "|2 | 0.2 |\n",
    "|3 |0.2  |\n",
    "|4 | 0.1 |\n",
    "|5 |0.3  |\n",
    "|6 | 0.1 |\n",
    "\n",
    "We can calculate the expected value of the die by adding the products of the face value times the probabilities: (1)(0.1)+(2)(0.2)+(3)(0.2)+(4)(0.1)+(5)(0.3)+(6)(0.1) = 3.6. \n",
    "\n",
    "We can simulate it two ways. In the first way, we will make a list of the face values and list them in frequency corresponding to their probabilities. Then, we'll use random.sample:"
   ]
  },
  {
   "cell_type": "code",
   "execution_count": 15,
   "metadata": {},
   "outputs": [
    {
     "name": "stdout",
     "output_type": "stream",
     "text": [
      "5\n"
     ]
    }
   ],
   "source": [
    "faces = [1,2,2,3,3,4,5,5,5,6]\n",
    "die = rand.choice(faces)\n",
    "print(die)"
   ]
  },
  {
   "cell_type": "markdown",
   "metadata": {},
   "source": [
    "Alternatively, we can sample from the numbers 0 through 9 and assign them accordingly to the faces 1 through 6:"
   ]
  },
  {
   "cell_type": "code",
   "execution_count": 62,
   "metadata": {},
   "outputs": [
    {
     "name": "stdout",
     "output_type": "stream",
     "text": [
      "5\n"
     ]
    }
   ],
   "source": [
    "number = rand.randint(0,9)\n",
    "if number == 0:\n",
    "    die = 1\n",
    "elif 1 <= number <3:\n",
    "    die = 2\n",
    "elif 3 <= number < 5:\n",
    "    die = 3\n",
    "elif 5 <= number < 6:\n",
    "    die = 4\n",
    "elif 6<= number < 9:\n",
    "    die = 5\n",
    "else:\n",
    "    die = 6\n",
    "print(die)"
   ]
  },
  {
   "cell_type": "markdown",
   "metadata": {},
   "source": [
    "Why would we ever want to use the second way when the first way seems easier? Well, sometimes if you have more complicated probability values the second way can be faster. For example, consider these probabilities: \n",
    "\n",
    "|  Die Face (min) |Probability   |\n",
    "|---   |---   |\n",
    "|1 |0.15  | \n",
    "|2 | 0.25 |\n",
    "|3 |0.1  |\n",
    "|4 | 0.1 |\n",
    "|5 |0.35  |\n",
    "|6 | 0.05 |\n",
    "\n",
    "We wouldn't want to create a list manually of 100 face values. Instead, we can use the second method if we randomly sample a number between 0 and 99."
   ]
  },
  {
   "cell_type": "code",
   "execution_count": 73,
   "metadata": {},
   "outputs": [
    {
     "name": "stdout",
     "output_type": "stream",
     "text": [
      "5\n"
     ]
    }
   ],
   "source": [
    "number = rand.randint(0,99)\n",
    "if number < 15:\n",
    "    die = 1\n",
    "elif 15 <= number <40:\n",
    "    die = 2\n",
    "elif 40 <= number < 50:\n",
    "    die = 3\n",
    "elif 50 <= number < 60:\n",
    "    die = 4\n",
    "elif 60<= number < 95:\n",
    "    die = 5\n",
    "else:\n",
    "    die = 6\n",
    "print(die)"
   ]
  },
  {
   "cell_type": "markdown",
   "metadata": {},
   "source": [
    "We can calculate the expected value of the die face by calculating (1)(0.15)+(2)(0.25)+(3)(0.1)+(4)(0.1)+(5)(0.35)+(6)(0.05) = 3.4.\n",
    "\n",
    "We can simulate this by tossing the die 1000 times:"
   ]
  },
  {
   "cell_type": "code",
   "execution_count": 77,
   "metadata": {},
   "outputs": [
    {
     "name": "stdout",
     "output_type": "stream",
     "text": [
      "3.373\n"
     ]
    }
   ],
   "source": [
    "dice = []\n",
    "for i in range(1000):\n",
    "    number = rand.randint(0,99)\n",
    "    if number < 15:\n",
    "        die = 1\n",
    "    elif 15 <= number <40:\n",
    "        die = 2\n",
    "    elif 40 <= number < 50:\n",
    "        die = 3\n",
    "    elif 50 <= number < 60:\n",
    "        die = 4\n",
    "    elif 60<= number < 95:\n",
    "        die = 5\n",
    "    else:\n",
    "        die = 6\n",
    "    dice.append(die)\n",
    "print(sum(dice)/1000)"
   ]
  },
  {
   "cell_type": "markdown",
   "metadata": {},
   "source": [
    "### Exercise - dice again\n",
    "Suppose a die isn't fair. You have a 10% chance each of rolling a 1, 2, 3, 4, or 5, and a 50% change of rolling a 6. Simulate rolling this die 100 times."
   ]
  },
  {
   "cell_type": "code",
   "execution_count": 19,
   "metadata": {},
   "outputs": [
    {
     "name": "stdout",
     "output_type": "stream",
     "text": [
      "4.26\n"
     ]
    }
   ],
   "source": [
    "#dice again\n",
    "die = [1,2,3,4,5,6,6,6,6,6]\n",
    "dice = []\n",
    "for i in range(100):\n",
    "    dice.append(rand.choice(die))\n",
    "print(sum(dice)/100)"
   ]
  },
  {
   "cell_type": "markdown",
   "metadata": {},
   "source": [
    "### Exercise - wait time\n",
    "Suppose that a store customer will encounter the following wait time distribution. Calculate the expected wait time algebraically and then simulate it with 100 trials. Do this by creating a list of values and using random.sample to sample from the list.\n",
    "\n",
    "|  Wait time (min) |Probability   |\n",
    "|---   |---   |\n",
    "| 0  | 0.3  | \n",
    "|  1 | 0.2  | \n",
    "|   2| 0.4  |\n",
    "|3   | 0.1  |"
   ]
  },
  {
   "cell_type": "code",
   "execution_count": 22,
   "metadata": {},
   "outputs": [
    {
     "name": "stdout",
     "output_type": "stream",
     "text": [
      "1.27\n"
     ]
    }
   ],
   "source": [
    "#insert wait time\n",
    "#dice again\n",
    "wait = [0,0,0,1,1,2,2,2,2,3]\n",
    "waits = []\n",
    "for i in range(100):\n",
    "    waits.append(rand.choice(wait))\n",
    "print(sum(waits)/len(waits))"
   ]
  },
  {
   "cell_type": "markdown",
   "metadata": {},
   "source": [
    "### Exercise - wait time again\n",
    "Simulate the above problem with 100 trials again, but now use randint to sample numbers between 0 and 9. \n",
    "\n",
    "|  Wait time (min) |Probability   |\n",
    "|---   |---   |\n",
    "| 0  | 0.3  | \n",
    "|  1 | 0.2  | \n",
    "|   2| 0.4  |\n",
    "|3   | 0.1  |"
   ]
  },
  {
   "cell_type": "code",
   "execution_count": 25,
   "metadata": {},
   "outputs": [
    {
     "name": "stdout",
     "output_type": "stream",
     "text": [
      "1.2677272727272728\n"
     ]
    }
   ],
   "source": [
    "#insert wait time again\n",
    "for i in range(1000):\n",
    "    wait = rand.randint(0,9)\n",
    "    if wait <=2:\n",
    "        waits.append(0)\n",
    "    if 3 <= wait < 5:\n",
    "        waits.append(1)\n",
    "    if 5 <= wait < 9:\n",
    "        waits.append(2)\n",
    "    if wait == 9:\n",
    "        waits.append(3)\n",
    "print(sum(waits)/len(waits))"
   ]
  },
  {
   "cell_type": "markdown",
   "metadata": {},
   "source": [
    "### Exercise - wait time again again \n",
    "Simulate the above problem with 100 trials again, but now use randint to sample numbers between 0 and 99. \n",
    "\n",
    "|  Wait time (min) |Probability   |\n",
    "|---   |---   |\n",
    "| 0  | 0.35  | \n",
    "|  1 | 0.15  | \n",
    "|   2| 0.45  |\n",
    "|3   | 0.05  |"
   ]
  },
  {
   "cell_type": "code",
   "execution_count": 31,
   "metadata": {},
   "outputs": [
    {
     "name": "stdout",
     "output_type": "stream",
     "text": [
      "1.169\n"
     ]
    }
   ],
   "source": [
    "#insert wait time again again\n",
    "waits = []\n",
    "for i in range(1000):\n",
    "    wait = rand.randint(0,99)\n",
    "    if wait <=34:\n",
    "        waits.append(0)\n",
    "    if 35 <= wait < 50:\n",
    "        waits.append(1)\n",
    "    if 50 <= wait < 95:\n",
    "        waits.append(2)\n",
    "    if 95 <= wait < 100:\n",
    "        waits.append(3)\n",
    "print(sum(waits)/len(waits))"
   ]
  },
  {
   "cell_type": "markdown",
   "metadata": {},
   "source": [
    "The Numpy Package\n",
    "---\n",
    "<a class=\"anchor\" id=\"numpy\"></a>\n",
    "\n",
    "The Numpy package is a very powerful computing package that does what the math package does, and more. Here are some of the calculations that you can do in numpy that you already did using the math package:"
   ]
  },
  {
   "cell_type": "code",
   "execution_count": 34,
   "metadata": {},
   "outputs": [
    {
     "name": "stdout",
     "output_type": "stream",
     "text": [
      "3.141592653589793\n",
      "2.0\n",
      "-1.0\n",
      "2.71828182846\n"
     ]
    }
   ],
   "source": [
    "import numpy as np\n",
    "print(np.pi)\n",
    "print(np.sqrt(4))\n",
    "print(np.cos(np.pi))\n",
    "print(np.exp(1))"
   ]
  },
  {
   "cell_type": "markdown",
   "metadata": {},
   "source": [
    "However, one thing that you need numpy for that you couldn't do with math is to make arrays (lists) that we can use to plot. Suppose you wanted to make a list of x values between 0 and 10 with a step size of 1. You could use the arange function:"
   ]
  },
  {
   "cell_type": "code",
   "execution_count": 40,
   "metadata": {},
   "outputs": [
    {
     "name": "stdout",
     "output_type": "stream",
     "text": [
      "[ 0  1  2  3  4  5  6  7  8  9 10]\n"
     ]
    }
   ],
   "source": [
    "import numpy as np\n",
    "x = np.arange(0,11,1)\n",
    "print(x)"
   ]
  },
  {
   "cell_type": "markdown",
   "metadata": {},
   "source": [
    "To create 100 points between 0 and 10, you could make your step size be .1:"
   ]
  },
  {
   "cell_type": "code",
   "execution_count": 8,
   "metadata": {},
   "outputs": [
    {
     "name": "stdout",
     "output_type": "stream",
     "text": [
      "[  0.    0.1   0.2   0.3   0.4   0.5   0.6   0.7   0.8   0.9   1.    1.1\n",
      "   1.2   1.3   1.4   1.5   1.6   1.7   1.8   1.9   2.    2.1   2.2   2.3\n",
      "   2.4   2.5   2.6   2.7   2.8   2.9   3.    3.1   3.2   3.3   3.4   3.5\n",
      "   3.6   3.7   3.8   3.9   4.    4.1   4.2   4.3   4.4   4.5   4.6   4.7\n",
      "   4.8   4.9   5.    5.1   5.2   5.3   5.4   5.5   5.6   5.7   5.8   5.9\n",
      "   6.    6.1   6.2   6.3   6.4   6.5   6.6   6.7   6.8   6.9   7.    7.1\n",
      "   7.2   7.3   7.4   7.5   7.6   7.7   7.8   7.9   8.    8.1   8.2   8.3\n",
      "   8.4   8.5   8.6   8.7   8.8   8.9   9.    9.1   9.2   9.3   9.4   9.5\n",
      "   9.6   9.7   9.8   9.9  10. ]\n"
     ]
    }
   ],
   "source": [
    "import numpy as np\n",
    "x = np.arange(0,10.1,0.1)\n",
    "print(x)"
   ]
  },
  {
   "cell_type": "markdown",
   "metadata": {},
   "source": [
    "The arange function will make it easy for us to create a set of x values and then evaluate functions at those values. For example, suppose we wanted to make a list of x values between 0 and 10 and then calculate f(x)=x^2 at those values. We could need our upper bound to be 11 instead of 10:"
   ]
  },
  {
   "cell_type": "code",
   "execution_count": 3,
   "metadata": {},
   "outputs": [
    {
     "name": "stdout",
     "output_type": "stream",
     "text": [
      "x: [ 0  1  2  3  4  5  6  7  8  9 10]\n",
      "x^2: [  0   1   4   9  16  25  36  49  64  81 100]\n"
     ]
    }
   ],
   "source": [
    "import numpy as np\n",
    "x = np.arange(0,11,1)\n",
    "y=x**2\n",
    "print('x:', x)\n",
    "print('x^2:', y)"
   ]
  },
  {
   "cell_type": "markdown",
   "metadata": {},
   "source": [
    "Suppose we wanted to create a list of x-values between -4 and 4 spaced every 1/2 unit and then evaluate x^2 at those points. Notice that we would need to make our upper limit 4.5 instead of 4. We could type:"
   ]
  },
  {
   "cell_type": "code",
   "execution_count": 7,
   "metadata": {},
   "outputs": [
    {
     "name": "stdout",
     "output_type": "stream",
     "text": [
      "[-4.  -3.5 -3.  -2.5 -2.  -1.5 -1.  -0.5  0.   0.5  1.   1.5  2.   2.5  3.\n",
      "  3.5  4. ]\n",
      "[ 16.    12.25   9.     6.25   4.     2.25   1.     0.25   0.     0.25   1.\n",
      "   2.25   4.     6.25   9.    12.25  16.  ]\n"
     ]
    }
   ],
   "source": [
    "import numpy as np\n",
    "x = np.arange(-4,4.5,0.5)\n",
    "y=x**2\n",
    "print(x)\n",
    "print(y)"
   ]
  },
  {
   "cell_type": "markdown",
   "metadata": {},
   "source": [
    "Suppose we wanted to evaluate cosine between -pi and +pi at increments of pi/4. Once again, our upper bound would need to be (5/4) pi instead of just pi. We could type:"
   ]
  },
  {
   "cell_type": "code",
   "execution_count": 32,
   "metadata": {},
   "outputs": [
    {
     "name": "stdout",
     "output_type": "stream",
     "text": [
      "[-3.14159265 -2.35619449 -1.57079633 -0.78539816  0.          0.78539816\n",
      "  1.57079633  2.35619449  3.14159265]\n",
      "[ -1.00000000e+00  -7.07106781e-01   6.12323400e-17   7.07106781e-01\n",
      "   1.00000000e+00   7.07106781e-01   6.12323400e-17  -7.07106781e-01\n",
      "  -1.00000000e+00]\n"
     ]
    }
   ],
   "source": [
    "import numpy as np\n",
    "x = np.arange(-np.pi,np.pi+np.pi/4, np.pi/4)\n",
    "y=np.cos(x)\n",
    "print(x)\n",
    "print(y)"
   ]
  },
  {
   "cell_type": "markdown",
   "metadata": {},
   "source": [
    "### Exercise - square root\n",
    "Make a list of x values between 0 and 16, inclusive, with a step size of one, and print the coordinates of the square root function."
   ]
  },
  {
   "cell_type": "code",
   "execution_count": 33,
   "metadata": {},
   "outputs": [
    {
     "name": "stdout",
     "output_type": "stream",
     "text": [
      "[ 0  1  2  3  4  5  6  7  8  9 10 11 12 13 14 15 16]\n",
      "[ 0.          1.          1.41421356  1.73205081  2.          2.23606798\n",
      "  2.44948974  2.64575131  2.82842712  3.          3.16227766  3.31662479\n",
      "  3.46410162  3.60555128  3.74165739  3.87298335  4.        ]\n"
     ]
    }
   ],
   "source": [
    "#insert square root\n",
    "x = np.arange(0,17,1)\n",
    "y=np.sqrt(x)\n",
    "print(x)\n",
    "print(y)"
   ]
  },
  {
   "cell_type": "markdown",
   "metadata": {},
   "source": [
    "### Exercise - cubic\n",
    "Make a list of x values between -3 and 3, inclusive, with a step size of 1/2, and print the coordinates of the cubic function."
   ]
  },
  {
   "cell_type": "code",
   "execution_count": 34,
   "metadata": {},
   "outputs": [
    {
     "name": "stdout",
     "output_type": "stream",
     "text": [
      "[-3.  -2.5 -2.  -1.5 -1.  -0.5  0.   0.5  1.   1.5  2.   2.5  3. ]\n",
      "[-27.    -15.625  -8.     -3.375  -1.     -0.125   0.      0.125   1.\n",
      "   3.375   8.     15.625  27.   ]\n"
     ]
    }
   ],
   "source": [
    "#insert cubic\n",
    "x = np.arange(-3,3.5,0.5)\n",
    "y=x**3\n",
    "print(x)\n",
    "print(y)"
   ]
  },
  {
   "cell_type": "markdown",
   "metadata": {},
   "source": [
    "### Exercise - sine\n",
    "Make a list of x values between 0 and 2*pi, inclusive, with a step size of pi/3, and print the coordinates of the sine function."
   ]
  },
  {
   "cell_type": "code",
   "execution_count": 35,
   "metadata": {},
   "outputs": [
    {
     "name": "stdout",
     "output_type": "stream",
     "text": [
      "[ 0.          1.04719755  2.0943951   3.14159265  4.1887902   5.23598776\n",
      "  6.28318531]\n",
      "[  0.00000000e+00   8.66025404e-01   8.66025404e-01   1.22464680e-16\n",
      "  -8.66025404e-01  -8.66025404e-01  -2.44929360e-16]\n"
     ]
    }
   ],
   "source": [
    "#insert sine\n",
    "x = np.arange(0,2*np.pi+np.pi/3, np.pi/3)\n",
    "y=np.sin(x)\n",
    "print(x)\n",
    "print(y)"
   ]
  },
  {
   "cell_type": "markdown",
   "metadata": {},
   "source": [
    "The matplotlib package\n",
    "---\n",
    "<a class=\"anchor\" id=\"matplotlib\"></a>\n",
    "\n",
    "The matplotlib package allows us to make graphs.\n",
    "\n",
    "Suppose we want to plot the points (0,0), (1,1), (4,2), and (9,3) from the square root function. We could type:"
   ]
  },
  {
   "cell_type": "code",
   "execution_count": 13,
   "metadata": {},
   "outputs": [
    {
     "data": {
      "text/plain": [
       "[<matplotlib.lines.Line2D at 0x10cb9d9e8>]"
      ]
     },
     "execution_count": 13,
     "metadata": {},
     "output_type": "execute_result"
    },
    {
     "data": {
      "image/png": "[encoded data removed]",
      "text/plain": [
       "<matplotlib.figure.Figure at 0x10cc371d0>"
      ]
     },
     "metadata": {},
     "output_type": "display_data"
    }
   ],
   "source": [
    "import matplotlib.pyplot as plt\n",
    "%matplotlib inline\n",
    "\n",
    "plt.plot([0,1,4,9],[0,1,2,3],'.')\n"
   ]
  },
  {
   "cell_type": "markdown",
   "metadata": {},
   "source": [
    "Notice in the above code that we listed all of the x coordinates first in a list, then the y coordinates, and then we added a '.' in order to plot the points using dots. If we wanted to plot them with lines, we could get rid of that last command:"
   ]
  },
  {
   "cell_type": "code",
   "execution_count": 22,
   "metadata": {},
   "outputs": [
    {
     "data": {
      "image/png": "[encoded data removed]",
      "text/plain": [
       "<matplotlib.figure.Figure at 0x10d3bf2b0>"
      ]
     },
     "metadata": {},
     "output_type": "display_data"
    }
   ],
   "source": [
    "import matplotlib.pyplot as plt\n",
    "%matplotlib inline\n",
    "\n",
    "plt.plot([0,1,4,9],[0,1,2,3]);\n"
   ]
  },
  {
   "cell_type": "markdown",
   "metadata": {},
   "source": [
    "As always, graphs should be well labeled. We can add an x label, a y label, and a title using the following code:"
   ]
  },
  {
   "cell_type": "code",
   "execution_count": 21,
   "metadata": {},
   "outputs": [
    {
     "data": {
      "image/png": "[encoded data removed]",
      "text/plain": [
       "<matplotlib.figure.Figure at 0x10cb5ac18>"
      ]
     },
     "metadata": {},
     "output_type": "display_data"
    }
   ],
   "source": [
    "import matplotlib.pyplot as plt\n",
    "%matplotlib inline\n",
    "\n",
    "plt.plot([0,1,4,9],[0,1,2,3],'.');\n",
    "plt.xlabel('x');\n",
    "plt.ylabel('y');\n",
    "plt.title('points on square root function');\n"
   ]
  },
  {
   "cell_type": "markdown",
   "metadata": {},
   "source": [
    "Rather than type in the points of the square root function manually, we can use numpy as we did before to create arrays of the function values and then plot them:"
   ]
  },
  {
   "cell_type": "code",
   "execution_count": 19,
   "metadata": {},
   "outputs": [
    {
     "data": {
      "image/png": "[encoded data removed]",
      "text/plain": [
       "<matplotlib.figure.Figure at 0x10c9e0a20>"
      ]
     },
     "metadata": {},
     "output_type": "display_data"
    }
   ],
   "source": [
    "import matplotlib.pyplot as plt\n",
    "%matplotlib inline\n",
    "import numpy as np\n",
    "\n",
    "x = np.arange(0,10.5,0.5)\n",
    "y=np.sqrt(x)\n",
    "plt.plot(x,y,'.');\n"
   ]
  },
  {
   "cell_type": "markdown",
   "metadata": {},
   "source": [
    "If we wanted to plot the cosine function between -pi and pi, we could type:"
   ]
  },
  {
   "cell_type": "code",
   "execution_count": 18,
   "metadata": {},
   "outputs": [
    {
     "data": {
      "image/png": "[encoded data removed]",
      "text/plain": [
       "<matplotlib.figure.Figure at 0x10c9ad9b0>"
      ]
     },
     "metadata": {},
     "output_type": "display_data"
    }
   ],
   "source": [
    "import matplotlib.pyplot as plt\n",
    "%matplotlib inline\n",
    "import numpy as np\n",
    "\n",
    "x = np.arange(-np.pi,np.pi,0.1)\n",
    "y=np.cos(x)\n",
    "plt.plot(x,y,'.');\n"
   ]
  },
  {
   "cell_type": "markdown",
   "metadata": {},
   "source": [
    "We can also plot multiple graphs at once. Suppose I wanted to plot cosine and sine in red and blue. I could type:"
   ]
  },
  {
   "cell_type": "code",
   "execution_count": 17,
   "metadata": {},
   "outputs": [
    {
     "data": {
      "image/png": "[encoded data removed]",
      "text/plain": [
       "<matplotlib.figure.Figure at 0x10d0ff128>"
      ]
     },
     "metadata": {},
     "output_type": "display_data"
    }
   ],
   "source": [
    "import matplotlib.pyplot as plt\n",
    "%matplotlib inline\n",
    "import numpy as np\n",
    "\n",
    "x = np.arange(-np.pi,np.pi,0.1)\n",
    "y1=np.cos(x)\n",
    "y2=np.sin(x)\n",
    "plt.plot(x,y1,'r.',x,y2,'b.');\n"
   ]
  },
  {
   "cell_type": "markdown",
   "metadata": {},
   "source": [
    "Notice that if you leave the semicolons off the commands, your picture will be the same, you'll just end up with a bit of annoying text. The semicolon hides this text:"
   ]
  },
  {
   "cell_type": "code",
   "execution_count": 23,
   "metadata": {},
   "outputs": [
    {
     "data": {
      "text/plain": [
       "[<matplotlib.lines.Line2D at 0x10d392ba8>,\n",
       " <matplotlib.lines.Line2D at 0x10d4c59b0>]"
      ]
     },
     "execution_count": 23,
     "metadata": {},
     "output_type": "execute_result"
    },
    {
     "data": {
      "image/png": "[encoded data removed]",
      "text/plain": [
       "<matplotlib.figure.Figure at 0x10d4df470>"
      ]
     },
     "metadata": {},
     "output_type": "display_data"
    }
   ],
   "source": [
    "import matplotlib.pyplot as plt\n",
    "%matplotlib inline\n",
    "import numpy as np\n",
    "\n",
    "x = np.arange(-np.pi,np.pi,0.1)\n",
    "y1=np.cos(x)\n",
    "y2=np.sin(x)\n",
    "plt.plot(x,y1,'r.',x,y2,'b.')\n"
   ]
  },
  {
   "cell_type": "markdown",
   "metadata": {},
   "source": [
    "Suppose you want to change your viewing window so that you plot x in the range [-pi/2, pi/2] and y in the range [-1,1]. You could type:"
   ]
  },
  {
   "cell_type": "code",
   "execution_count": 36,
   "metadata": {},
   "outputs": [
    {
     "data": {
      "text/plain": [
       "[-1.5707963267948966, 1.5707963267948966, -1, 1]"
      ]
     },
     "execution_count": 36,
     "metadata": {},
     "output_type": "execute_result"
    },
    {
     "data": {
      "image/png": "[encoded data removed]",
      "text/plain": [
       "<matplotlib.figure.Figure at 0x112de4278>"
      ]
     },
     "metadata": {},
     "output_type": "display_data"
    }
   ],
   "source": [
    "import matplotlib.pyplot as plt\n",
    "%matplotlib inline\n",
    "import numpy as np\n",
    "\n",
    "x = np.arange(-np.pi,np.pi,0.1)\n",
    "y1=np.cos(x)\n",
    "y2=np.sin(x)\n",
    "plt.plot(x,y1,'r.',x,y2,'b.')\n",
    "plt.axis([-np.pi/2, np.pi/2, -1,1])"
   ]
  },
  {
   "cell_type": "markdown",
   "metadata": {},
   "source": [
    "### Exercise - x^2\n",
    "Plot f(x)=x^2 between -5 and 5. Add an x label, a y label, and a title, and change the dots to green."
   ]
  },
  {
   "cell_type": "code",
   "execution_count": null,
   "metadata": {
    "collapsed": true
   },
   "outputs": [],
   "source": [
    "#insert x^2 code\n",
    "x = np.arange(-5,5,1)\n",
    "y=x**2\n",
    "plt.plot(x,y1,'r.',x,y2,'b.')\n",
    "plt.axis([-np.pi/2, np.pi/2, -1,1])"
   ]
  },
  {
   "cell_type": "markdown",
   "metadata": {},
   "source": [
    "### Exercise - sine \n",
    "Plot f(x)= sin(x) and g(x) = sin(2x) in different colors on -2pi to 2pi at a step size of 0.1. Use lines instead of dots."
   ]
  },
  {
   "cell_type": "code",
   "execution_count": null,
   "metadata": {
    "collapsed": true
   },
   "outputs": [],
   "source": [
    "#insert sine code"
   ]
  },
  {
   "cell_type": "markdown",
   "metadata": {},
   "source": [
    "### Exercise - tan\n",
    "Plot f(x)=tan(x) and the cubic function between -pi and pi. Make one of them green and one of them black. Use dots."
   ]
  },
  {
   "cell_type": "code",
   "execution_count": 66,
   "metadata": {
    "collapsed": true
   },
   "outputs": [],
   "source": [
    "#insert tan code"
   ]
  },
  {
   "cell_type": "markdown",
   "metadata": {
    "collapsed": true
   },
   "source": [
    "Descriptive Statistics\n",
    "---\n",
    "<a class=\"anchor\" id=\"stats\"></a>\n",
    "\n",
    "Suppose we wanted to create some data on students' names, weights, heights, and gender and we want to perform some data analysis. The students' info is below:\n",
    "\n",
    "Student\tWeight\tHeight\tGender\n",
    "\n",
    "Mary\t100\t    62\t    Female\n",
    "\n",
    "Mike\t120\t    66\t    Male\n",
    "\n",
    "Joe\t    140\t    68\t    Male\n",
    "\n",
    "Janet\t110\t    62\t    Female\n",
    " \n",
    "Steve\t160\t    70\t    Male\n",
    "\n",
    "Alissa\t140\t    63\t    Female\n",
    "\n",
    "Alison\t140\t    66\t    Female\n",
    "\n",
    "Maya\t110\t    63\t    Female\n",
    "\n",
    "Ryan\t180\t    72\t    Male\n",
    "\n",
    "Paul\t190\t    72\t    Male\n",
    "\n",
    "Michael\t200\t    73\t    Male\n",
    "\n",
    "\n",
    "Here is some of their info in lists:"
   ]
  },
  {
   "cell_type": "code",
   "execution_count": 3,
   "metadata": {
    "collapsed": true
   },
   "outputs": [],
   "source": [
    "import numpy as np\n",
    "\n",
    "weight = np.array([100, 120, 140, 110, 160, 140, 140, 110, 180, 190, 200])\n",
    "height = np.array([62, 66, 68, 62, 70, 63, 66, 63, 72, 72, 73])"
   ]
  },
  {
   "cell_type": "markdown",
   "metadata": {},
   "source": [
    "If we want to see how many students are in our list, we can use length:"
   ]
  },
  {
   "cell_type": "code",
   "execution_count": 37,
   "metadata": {},
   "outputs": [
    {
     "name": "stdout",
     "output_type": "stream",
     "text": [
      "11\n"
     ]
    }
   ],
   "source": [
    "print(len(weight))"
   ]
  },
  {
   "cell_type": "markdown",
   "metadata": {},
   "source": [
    "If we want to find the mean weight, we can type:"
   ]
  },
  {
   "cell_type": "code",
   "execution_count": 41,
   "metadata": {},
   "outputs": [
    {
     "data": {
      "text/plain": [
       "144.54545454545453"
      ]
     },
     "execution_count": 41,
     "metadata": {},
     "output_type": "execute_result"
    }
   ],
   "source": [
    "np.mean(weight)"
   ]
  },
  {
   "cell_type": "markdown",
   "metadata": {
    "collapsed": true
   },
   "source": [
    "If we want to find the median weight, we can type:"
   ]
  },
  {
   "cell_type": "code",
   "execution_count": 42,
   "metadata": {},
   "outputs": [
    {
     "data": {
      "text/plain": [
       "140.0"
      ]
     },
     "execution_count": 42,
     "metadata": {},
     "output_type": "execute_result"
    }
   ],
   "source": [
    "np.ma.median(weight)"
   ]
  },
  {
   "cell_type": "markdown",
   "metadata": {},
   "source": [
    "If we want to plot weight versus height, we can type:\n",
    "    "
   ]
  },
  {
   "cell_type": "code",
   "execution_count": 47,
   "metadata": {},
   "outputs": [
    {
     "data": {
      "image/png": "[encoded data removed]",
      "text/plain": [
       "<matplotlib.figure.Figure at 0x10c9dc2e8>"
      ]
     },
     "metadata": {},
     "output_type": "display_data"
    }
   ],
   "source": [
    "import matplotlib.pyplot as plt\n",
    "%matplotlib inline\n",
    "import numpy as np\n",
    "\n",
    "plt.plot(weight, height, '.');"
   ]
  },
  {
   "cell_type": "markdown",
   "metadata": {},
   "source": [
    "If we want to graph the line of best fit, we can type:"
   ]
  },
  {
   "cell_type": "code",
   "execution_count": 60,
   "metadata": {},
   "outputs": [
    {
     "data": {
      "image/png": "[encoded data removed]",
      "text/plain": [
       "<matplotlib.figure.Figure at 0x114acb5f8>"
      ]
     },
     "metadata": {},
     "output_type": "display_data"
    }
   ],
   "source": [
    "fit = np.polyfit(weight, height,1)\n",
    "fit_fn = np.poly1d(fit) \n",
    "plt.plot(weight, height,'.', weight, fit_fn(weight))\n"
   ]
  },
  {
   "cell_type": "markdown",
   "metadata": {},
   "source": [
    "If we want to find the coefficients of the line of best fit, we can type:"
   ]
  },
  {
   "cell_type": "code",
   "execution_count": 61,
   "metadata": {},
   "outputs": [
    {
     "name": "stdout",
     "output_type": "stream",
     "text": [
      "0.116510903427 50.1588785047\n"
     ]
    }
   ],
   "source": [
    "m, b = np.polyfit(weight, height,1)\n",
    "print(m,b)"
   ]
  },
  {
   "cell_type": "markdown",
   "metadata": {},
   "source": [
    "Suppose we want to make a histogram of the weights. We can type:"
   ]
  },
  {
   "cell_type": "code",
   "execution_count": 4,
   "metadata": {},
   "outputs": [
    {
     "data": {
      "text/plain": [
       "(array([ 1.,  2.,  1.,  0.,  3.,  0.,  1.,  0.,  1.,  2.]),\n",
       " array([ 100.,  110.,  120.,  130.,  140.,  150.,  160.,  170.,  180.,\n",
       "         190.,  200.]),\n",
       " <a list of 10 Patch objects>)"
      ]
     },
     "execution_count": 4,
     "metadata": {},
     "output_type": "execute_result"
    },
    {
     "data": {
      "image/png": "[encoded data removed]",
      "text/plain": [
       "<matplotlib.figure.Figure at 0x1094c1cf8>"
      ]
     },
     "metadata": {},
     "output_type": "display_data"
    }
   ],
   "source": [
    "import matplotlib.pyplot as plt\n",
    "%matplotlib inline\n",
    "import numpy as np\n",
    "\n",
    "plt.hist(weight)"
   ]
  },
  {
   "cell_type": "markdown",
   "metadata": {},
   "source": [
    "Right now, there are 10 bins of equal width between 100 and 200 by default. Suppose you wanted five bins. You could add that as an additional argument:"
   ]
  },
  {
   "cell_type": "code",
   "execution_count": 5,
   "metadata": {},
   "outputs": [
    {
     "data": {
      "text/plain": [
       "(array([ 3.,  1.,  3.,  1.,  3.]),\n",
       " array([ 100.,  120.,  140.,  160.,  180.,  200.]),\n",
       " <a list of 5 Patch objects>)"
      ]
     },
     "execution_count": 5,
     "metadata": {},
     "output_type": "execute_result"
    },
    {
     "data": {
      "image/png": "[encoded data removed]",
      "text/plain": [
       "<matplotlib.figure.Figure at 0x1094c19b0>"
      ]
     },
     "metadata": {},
     "output_type": "display_data"
    }
   ],
   "source": [
    "plt.hist(weight, bins = 5)"
   ]
  },
  {
   "cell_type": "markdown",
   "metadata": {},
   "source": [
    "Right now, the bins start at 100 and end at 200 in increments of 20, so that they are centered at the x-values 110, 130, 150, 170, and 190. What if we wanted them to start at 90 and end at 190 so that they are centered at 100, 120, 140, 160, and 180? We'll change the range argument:"
   ]
  },
  {
   "cell_type": "code",
   "execution_count": 9,
   "metadata": {},
   "outputs": [
    {
     "data": {
      "text/plain": [
       "(array([ 1.,  3.,  3.,  1.,  2.]),\n",
       " array([  90.,  110.,  130.,  150.,  170.,  190.]),\n",
       " <a list of 5 Patch objects>)"
      ]
     },
     "execution_count": 9,
     "metadata": {},
     "output_type": "execute_result"
    },
    {
     "data": {
      "image/png": "[encoded data removed]",
      "text/plain": [
       "<matplotlib.figure.Figure at 0x10b348a58>"
      ]
     },
     "metadata": {},
     "output_type": "display_data"
    }
   ],
   "source": [
    "plt.hist(weight, bins = 5, range = (90, 190))"
   ]
  },
  {
   "cell_type": "markdown",
   "metadata": {
    "collapsed": true
   },
   "source": [
    "### Exercise - dice histogram\n",
    "Using the random package, simulate rolling a dice 100 times. Plot a histogram of the values."
   ]
  },
  {
   "cell_type": "code",
   "execution_count": 1,
   "metadata": {
    "collapsed": true
   },
   "outputs": [],
   "source": [
    "#insert dice here"
   ]
  },
  {
   "cell_type": "markdown",
   "metadata": {},
   "source": [
    "### Exercise - heads/tails\n",
    "Simulate flipping a coin 100 times. Plot a histogram of the values."
   ]
  },
  {
   "cell_type": "code",
   "execution_count": 2,
   "metadata": {
    "collapsed": true
   },
   "outputs": [],
   "source": [
    "#insert heads/tails"
   ]
  },
  {
   "cell_type": "markdown",
   "metadata": {},
   "source": [
    "### Exercise  - heads/tails again\n",
    "Suppose the coin isn't fair, and you are two times more likely to flip a head than a tails. Simulate flipping this coin 100 times and plot a histogram."
   ]
  },
  {
   "cell_type": "code",
   "execution_count": null,
   "metadata": {
    "collapsed": true
   },
   "outputs": [],
   "source": [
    "#insert heads code"
   ]
  },
  {
   "cell_type": "markdown",
   "metadata": {},
   "source": [
    "### Exercise - fat\n",
    "Lists of fat content and calories in fast food hamburgers are given below. Make a scatterplot of fat vs calories. Change the viewing window to plot x on [10,50] and y on [300, 700]."
   ]
  },
  {
   "cell_type": "code",
   "execution_count": 12,
   "metadata": {
    "collapsed": true
   },
   "outputs": [],
   "source": [
    "fat = [19,31,34,35,39,39,43]\n",
    "calories = [410,580,590,570,640,680,660]\n"
   ]
  },
  {
   "cell_type": "markdown",
   "metadata": {},
   "source": [
    "### Exercise - fat again\n",
    "Plot a line of best fit for the fat vs calorie info and plot the line of best fit on the scatterplot."
   ]
  },
  {
   "cell_type": "code",
   "execution_count": null,
   "metadata": {
    "collapsed": true
   },
   "outputs": [],
   "source": [
    "#insert fat again"
   ]
  },
  {
   "cell_type": "markdown",
   "metadata": {},
   "source": [
    "### Exercise - fat again again\n",
    "Make a histogram of the calories. Use 3 bins of width 100, centered at 400, 500, and 600. "
   ]
  },
  {
   "cell_type": "code",
   "execution_count": null,
   "metadata": {
    "collapsed": true
   },
   "outputs": [],
   "source": [
    "#insert fat again again\n",
    "plt.xticks([0,1], ['heads', 'tails'])"
   ]
  }
 ],
 "metadata": {
  "kernelspec": {
   "display_name": "Python 3",
   "language": "python",
   "name": "python3"
  },
  "language_info": {
   "codemirror_mode": {
    "name": "ipython",
    "version": 3
   },
   "file_extension": ".py",
   "mimetype": "text/x-python",
   "name": "python",
   "nbconvert_exporter": "python",
   "pygments_lexer": "ipython3",
   "version": "3.6.0"
  }
 },
 "nbformat": 4,
 "nbformat_minor": 2
}
