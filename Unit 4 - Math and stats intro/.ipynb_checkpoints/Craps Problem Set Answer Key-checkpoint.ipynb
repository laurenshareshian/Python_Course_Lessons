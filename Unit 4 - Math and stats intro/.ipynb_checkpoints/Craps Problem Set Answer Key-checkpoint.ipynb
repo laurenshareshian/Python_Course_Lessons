{
 "cells": [
  {
   "cell_type": "code",
   "execution_count": 2,
   "metadata": {
    "collapsed": true
   },
   "outputs": [],
   "source": [
    "import numpy as np\n",
    "from random import randint\n",
    "import matplotlib.pyplot as plt\n",
    "%matplotlib inline"
   ]
  },
  {
   "cell_type": "markdown",
   "metadata": {},
   "source": [
    "1.) In this assignment, you will learn how to play craps. Craps is based off calculating the sum of two dice. If two dice with faces 1-6 are rolled, then the possible sums are 2-12. With pencil and paper, create a table of the die outcomes in order to calculate the probability of obtaining each sum. Write the probability of each of the sums (in fraction form) below. What is the most likely sum?"
   ]
  },
  {
   "cell_type": "code",
   "execution_count": 3,
   "metadata": {
    "collapsed": true
   },
   "outputs": [],
   "source": [
    "#insert theoretical probabilities here\n",
    "2 1/36\n",
    "3 2/36\n",
    "4 3/36\n",
    "5 4/36\n",
    "6 5/36\n",
    "7 6/36\n",
    "8 5/36\n",
    "9 4/36\n",
    "10 3/36\n",
    "11 2/36\n",
    "12 1/36"
   ]
  },
  {
   "cell_type": "markdown",
   "metadata": {},
   "source": [
    "2.) Okay, so now you know the theoretical probabilities. Let's calculate the experimental probabilities, though. Use the randint function to simulate two dice rolls. Roll dice 10,000 times. Create a list called sums of the sums of the dice. "
   ]
  },
  {
   "cell_type": "code",
   "execution_count": 5,
   "metadata": {
    "collapsed": true
   },
   "outputs": [],
   "source": [
    "sums = []\n",
    "for i in range(10000):\n",
    "    die1 = randint(1,6)\n",
    "    die2 = randint(1,6)\n",
    "    sums.append(die1+die2)"
   ]
  },
  {
   "cell_type": "markdown",
   "metadata": {},
   "source": [
    "3.) Create a histogram of the sums. Note: in order to make it symmetric, use the following extra arguments inside the plt.hist method: \n",
    "bins = 11, range = (1.5,12.5), normed = True"
   ]
  },
  {
   "cell_type": "code",
   "execution_count": 6,
   "metadata": {},
   "outputs": [
    {
     "data": {
      "text/plain": [
       "(array([ 0.0253,  0.054 ,  0.0868,  0.1116,  0.1433,  0.164 ,  0.1357,\n",
       "         0.1127,  0.0873,  0.0522,  0.0271]),\n",
       " array([  1.5,   2.5,   3.5,   4.5,   5.5,   6.5,   7.5,   8.5,   9.5,\n",
       "         10.5,  11.5,  12.5]),\n",
       " <a list of 11 Patch objects>)"
      ]
     },
     "execution_count": 6,
     "metadata": {},
     "output_type": "execute_result"
    },
    {
     "data": {
      "image/png": "[encoded data removed]",
      "text/plain": [
       "<matplotlib.figure.Figure at 0x10524c358>"
      ]
     },
     "metadata": {},
     "output_type": "display_data"
    }
   ],
   "source": [
    "plt.hist(sums, bins = 11, range = (1.5,12.5), normed = True)"
   ]
  },
  {
   "cell_type": "markdown",
   "metadata": {},
   "source": [
    "4.) Read about the arguments you just used on this website:\n",
    "https://matplotlib.org/devdocs/api/_as_gen/matplotlib.pyplot.hist.html\n",
    "\n",
    "Explain what each of the three extra arguments you used does below."
   ]
  },
  {
   "cell_type": "code",
   "execution_count": null,
   "metadata": {
    "collapsed": true
   },
   "outputs": [],
   "source": [
    "#explain\n",
    "bins - number of rectangles\n",
    "range - left and right most boundaries of rectangles\n",
    "normed - frequency percentage instead of counts along y-axis"
   ]
  },
  {
   "cell_type": "markdown",
   "metadata": {},
   "source": [
    "5.) A main part of craps is a place bet. A place bet is betting on a number and wanting that number to come up before a 7 does. For example, if I bet on 10, then I am wanting a 10 to come up before a 7. I will continue to roll the dice until either a 10 or a 7 comes up, none of the other numbers matter. What is the probability that you win this bet? \n",
    "\n",
    "Hint: figure out the number of ways you can win and divide it by the sum of all the ways you can win and all the ways you can lose. \n",
    "\n",
    "Calculate the probabilities of winning a place bet on 4, 5, 6, 8, 9, and 10. "
   ]
  },
  {
   "cell_type": "code",
   "execution_count": null,
   "metadata": {
    "collapsed": true
   },
   "outputs": [],
   "source": [
    "#insert theoretical probability\n",
    "4: 3/(3+6)\n",
    "5: 4/(4+6)\n",
    "6: 5/(5+6)\n",
    "8: 5/(4+6)\n",
    "9: 4/(4+6)\n",
    "10: 3/(3+6)"
   ]
  },
  {
   "cell_type": "markdown",
   "metadata": {},
   "source": [
    "6.) Now let's calculate the experimental probabilities of the above bet on number 6. Roll the dice 50,000 times and calculate the percentage of times that you won. Note: just because you rolled the dice 50,000 times does not mean that your number of wins + losses adds up to 50,000, because many of the other numbers don't matter."
   ]
  },
  {
   "cell_type": "code",
   "execution_count": 27,
   "metadata": {},
   "outputs": [
    {
     "name": "stdout",
     "output_type": "stream",
     "text": [
      "0.4545154911008569\n",
      "15170\n"
     ]
    }
   ],
   "source": [
    "#insert experimental probability \n",
    "\n",
    "wins = 0\n",
    "mybet = 6\n",
    "num_of_sims = 0\n",
    "for i in range(50000):\n",
    "        die1 = randint(1,6)\n",
    "        die2 = randint(1,6)\n",
    "        if die1+die2 == 7:\n",
    "            num_of_sims = num_of_sims + 1\n",
    "        if die1+die2 == mybet:\n",
    "            wins = wins + 1\n",
    "            num_of_sims = num_of_sims + 1\n",
    "print(wins/num_of_sims)\n",
    "print(num_of_sims)"
   ]
  },
  {
   "cell_type": "markdown",
   "metadata": {},
   "source": [
    "Make a time plot where the x-axis is the number of times you have played and the y-axis is your winner percentage. Be sure to give your axes and title a label. Plot only the first 300 simulations."
   ]
  },
  {
   "cell_type": "code",
   "execution_count": 24,
   "metadata": {},
   "outputs": [
    {
     "data": {
      "text/plain": [
       "[0, 1000, 0, 1]"
      ]
     },
     "execution_count": 24,
     "metadata": {},
     "output_type": "execute_result"
    },
    {
     "data": {
      "image/png": "[encoded data removed]",
      "text/plain": [
       "<matplotlib.figure.Figure at 0x1061b9b00>"
      ]
     },
     "metadata": {},
     "output_type": "display_data"
    }
   ],
   "source": [
    "#insert experimental probability \n",
    "wins = 0\n",
    "mybet = 6\n",
    "num_of_sims = [0]\n",
    "wins = [0]\n",
    "percent = [0]\n",
    "for i in range(5000):\n",
    "        die1 = randint(1,6)\n",
    "        die2 = randint(1,6)\n",
    "        if die1+die2 == 7:\n",
    "            num_of_sims.append(num_of_sims[-1] + 1)\n",
    "            wins.append(wins[-1])\n",
    "            percent.append(wins[-1]/num_of_sims[-1])\n",
    "        if die1+die2 == mybet:\n",
    "            num_of_sims.append(num_of_sims[-1] + 1)\n",
    "            wins.append(wins[-1]+1)\n",
    "            percent.append(wins[-1]/num_of_sims[-1])\n",
    "\n",
    "plt.plot(num_of_sims, percent, '.')\n",
    "plt.xlabel('number of simulations')\n",
    "plt.ylabel('winning percentage')\n",
    "plt.title('winning percentage of the 6 place bet')\n",
    "plt.axis([0,1000, 0, 1])"
   ]
  },
  {
   "cell_type": "markdown",
   "metadata": {},
   "source": [
    "7.) For each of the bets, the casino will pay you out different amounts of money if you win (the riskier the bet, the better the payout). Here are the payouts:\n",
    "\n",
    "Place 4: 9:5\n",
    "\n",
    "Place 5: 7:5\n",
    "\n",
    "Place 6: 7:6\n",
    "\n",
    "Place 8: 7:6\n",
    "\n",
    "Place 9: 7:5\n",
    "\n",
    "Place 10: 9:5\n",
    "\n",
    "For example, for every dollar you bet on Place 6, the casino will pay you 7/6 dollars if you win and take your dollar if you lose. Therefore, your expected value, or the money you expect to earn after making this bet, is (7/6)(5/11) + (-1)(6/11) = -$0.015. Meaning, for every dollar you bet, you expect to lose a penny and a half of it.\n",
    "\n",
    "Calculate the expected value of the Place 4 and Place 5 bets. "
   ]
  },
  {
   "cell_type": "code",
   "execution_count": null,
   "metadata": {
    "collapsed": true
   },
   "outputs": [],
   "source": [
    "#insert expected value here"
   ]
  },
  {
   "cell_type": "markdown",
   "metadata": {},
   "source": [
    "8.) Calculate the expected value of the Place 6 bet experimentally by rolling the dice 100,000 times. "
   ]
  },
  {
   "cell_type": "code",
   "execution_count": 42,
   "metadata": {},
   "outputs": [
    {
     "name": "stdout",
     "output_type": "stream",
     "text": [
      "0.4547909549373678\n",
      "30735\n",
      "-449.33333333324634\n",
      "-0.014619597635700223\n"
     ]
    }
   ],
   "source": [
    "balance = 0 \n",
    "wins = 0\n",
    "mybet = 6\n",
    "num_of_sims = 0\n",
    "for i in range(100000):\n",
    "        die1 = randint(1,6)\n",
    "        die2 = randint(1,6)\n",
    "        if die1+die2 == 7:\n",
    "            num_of_sims = num_of_sims + 1\n",
    "            balance = balance -1\n",
    "        if die1+die2 == mybet:\n",
    "            wins = wins + 1\n",
    "            num_of_sims = num_of_sims + 1\n",
    "            balance = balance + 7/6\n",
    "print(wins/num_of_sims)\n",
    "print(num_of_sims)\n",
    "print(balance)\n",
    "print(balance/num_of_sims)"
   ]
  },
  {
   "cell_type": "code",
   "execution_count": null,
   "metadata": {
    "collapsed": true
   },
   "outputs": [],
   "source": []
  }
 ],
 "metadata": {
  "kernelspec": {
   "display_name": "Python 3",
   "language": "python",
   "name": "python3"
  },
  "language_info": {
   "codemirror_mode": {
    "name": "ipython",
    "version": 3
   },
   "file_extension": ".py",
   "mimetype": "text/x-python",
   "name": "python",
   "nbconvert_exporter": "python",
   "pygments_lexer": "ipython3",
   "version": "3.6.0"
  }
 },
 "nbformat": 4,
 "nbformat_minor": 2
}
