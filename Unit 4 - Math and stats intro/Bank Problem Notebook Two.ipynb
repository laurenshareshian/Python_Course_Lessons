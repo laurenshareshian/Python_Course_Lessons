{
 "cells": [
  {
   "cell_type": "markdown",
   "metadata": {},
   "source": [
    "Comment this code appropriately to explain what each piece is doing."
   ]
  },
  {
   "cell_type": "code",
   "execution_count": null,
   "metadata": {
    "collapsed": true
   },
   "outputs": [],
   "source": [
    "import random\n",
    "import numpy as np\n",
    "\n",
    "\n",
    "daily_avg_wait_time = []\n",
    "\n",
    "def customerArrived():\n",
    "    \n",
    "    arrived = random.randint(0,99)\n",
    "    \n",
    "    if 0 <= arrived < 10:\n",
    "        arrival_time.append(0)  \n",
    "        \n",
    "    elif 10 <= arrived < 25:\n",
    "        arrival_time.append(1)\n",
    "       \n",
    "    elif 25 <= arrived < 35:\n",
    "        arrival_time.append(2)\n",
    "      \n",
    "    elif 35 <= arrived < 70:\n",
    "        arrival_time.append(3)\n",
    "       \n",
    "    elif 70 <= arrived < 95:\n",
    "        arrival_time.append(4)\n",
    "       \n",
    "    elif 95 <= arrived < 100:\n",
    "        arrival_time.append(5)\n",
    "        \n",
    "        \n",
    "def serviceTime():\n",
    "    \n",
    "    timeServed = random.randint(0,99)\n",
    "    if 0 <= timeServed < 25:\n",
    "        service_time.append(1)\n",
    "        \n",
    "    elif 25 <= timeServed < 45:\n",
    "        service_time.append(2)\n",
    "        \n",
    "    elif 45 <= timeServed < 85:\n",
    "        service_time.append(3)\n",
    "      \n",
    "    elif 85 <= timeServed < 100:\n",
    "        service_time.append(4)\n",
    "         \n",
    "def waitTime(n):\n",
    "    for i in range(1,n):\n",
    "  \n",
    "        wait = service_time[i-1]+wait_time[i-1]-arrival_time[i]\n",
    "   \n",
    "        if wait > 0:\n",
    "            wait = service_time[i-2]+wait_time[i-2]-arrival_time[i-1]-arrival_time[i]\n",
    "    \n",
    "        if wait <= 0:\n",
    "            wait_time.append(0)\n",
    "        else:\n",
    "            wait_time.append(wait)\n",
    "    \n",
    "for days in range(1000):\n",
    "    arrival_time = []\n",
    "    service_time = []\n",
    "    wait_time = [0]\n",
    "    customers = 150\n",
    "    for i in range(customers):\n",
    "        customerArrived() \n",
    "        serviceTime()  \n",
    "\n",
    "    waitTime(customers)\n",
    "    \n",
    "    daily_avg_wait_time.append(np.mean(wait_time))\n",
    "    \n",
    "print(np.mean(daily_avg_wait_time))"
   ]
  }
 ],
 "metadata": {
  "kernelspec": {
   "display_name": "Python 3",
   "language": "python",
   "name": "python3"
  },
  "language_info": {
   "codemirror_mode": {
    "name": "ipython",
    "version": 3
   },
   "file_extension": ".py",
   "mimetype": "text/x-python",
   "name": "python",
   "nbconvert_exporter": "python",
   "pygments_lexer": "ipython3",
   "version": "3.6.0"
  }
 },
 "nbformat": 4,
 "nbformat_minor": 2
}
