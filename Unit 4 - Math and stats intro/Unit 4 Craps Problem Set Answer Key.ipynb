{
 "cells": [
  {
   "cell_type": "code",
   "execution_count": 2,
   "metadata": {},
   "outputs": [],
   "source": [
    "#RUN THIS CELL FIRST\n",
    "import numpy as np\n",
    "from random import randint\n",
    "import matplotlib.pyplot as plt\n",
    "%matplotlib inline"
   ]
  },
  {
   "cell_type": "markdown",
   "metadata": {},
   "source": [
    "1.) In this assignment, you will learn how to make some craps bets. Craps is based off calculating the sum of two dice. If two dice with faces 1-6 are rolled, then the possible sums are 2-12. With pencil and paper, create a table of the die outcomes in order to calculate the probability of obtaining each sum. Write the probability of each of the sums (in fraction form) below. What is the most likely sum?"
   ]
  },
  {
   "cell_type": "markdown",
   "metadata": {},
   "source": [
    "#insert theoretical probabilities here\n",
    "\n",
    "2 1/36\n",
    "3 2/36\n",
    "4 3/36\n",
    "5 4/36\n",
    "6 5/36\n",
    "7 6/36\n",
    "8 5/36\n",
    "9 4/36\n",
    "10 3/36\n",
    "11 2/36\n",
    "12 1/36"
   ]
  },
  {
   "cell_type": "markdown",
   "metadata": {},
   "source": [
    "2.) Okay, so now you know the theoretical probabilities. Let's calculate the experimental probabilities, though. Use the randint function to simulate two dice rolls. Roll two dice 10,000 times. Create a list called sums of the sums of the dice. "
   ]
  },
  {
   "cell_type": "code",
   "execution_count": 3,
   "metadata": {},
   "outputs": [],
   "source": [
    "#insert code here\n",
    "sums = []\n",
    "for i in range(10000):\n",
    "    die1 = randint(1,6)\n",
    "    die2 = randint(1,6)\n",
    "    sums.append(die1+die2)"
   ]
  },
  {
   "cell_type": "markdown",
   "metadata": {},
   "source": [
    "3.) Create a histogram of the sums. Note: in order to make the histogram symmetric, use the following extra arguments inside the plt.hist method: \n",
    "bins = 11, range = (1.5,12.5), normed = True"
   ]
  },
  {
   "cell_type": "code",
   "execution_count": 4,
   "metadata": {},
   "outputs": [
    {
     "name": "stderr",
     "output_type": "stream",
     "text": [
      "/anaconda3/lib/python3.7/site-packages/matplotlib/axes/_axes.py:6521: MatplotlibDeprecationWarning: \n",
      "The 'normed' kwarg was deprecated in Matplotlib 2.1 and will be removed in 3.1. Use 'density' instead.\n",
      "  alternative=\"'density'\", removal=\"3.1\")\n"
     ]
    },
    {
     "data": {
      "text/plain": [
       "(array([0.0297, 0.0597, 0.0803, 0.103 , 0.1367, 0.1682, 0.1378, 0.1151,\n",
       "        0.083 , 0.0556, 0.0309]),\n",
       " array([ 1.5,  2.5,  3.5,  4.5,  5.5,  6.5,  7.5,  8.5,  9.5, 10.5, 11.5,\n",
       "        12.5]),\n",
       " <a list of 11 Patch objects>)"
      ]
     },
     "execution_count": 4,
     "metadata": {},
     "output_type": "execute_result"
    },
    {
     "data": {
      "image/png": "[encoded data removed]",
      "text/plain": [
       "<Figure size 432x288 with 1 Axes>"
      ]
     },
     "metadata": {
      "needs_background": "light"
     },
     "output_type": "display_data"
    }
   ],
   "source": [
    "#insert histogram code here\n",
    "plt.hist(sums, bins = 11, range = (1.5,12.5), normed = True)"
   ]
  },
  {
   "cell_type": "markdown",
   "metadata": {},
   "source": [
    "4.) Read about the arguments you just used on this website:\n",
    "https://matplotlib.org/devdocs/api/_as_gen/matplotlib.pyplot.hist.html\n",
    "\n",
    "Explain what each of the three extra arguments you used does below."
   ]
  },
  {
   "cell_type": "code",
   "execution_count": null,
   "metadata": {},
   "outputs": [],
   "source": [
    "#explain bins, range, normed here\n",
    "#explain\n",
    "bins - number of rectangles\n",
    "range - left and right most boundaries of rectangles\n",
    "normed - frequency percentage instead of counts along y-axis"
   ]
  },
  {
   "cell_type": "markdown",
   "metadata": {},
   "source": [
    "5.) One of the most common types of bets in craps is a place bet. A place bet is betting on a number and wanting that number to come up before a 7 does. For example, if I bet on 10, then I am wanting a sum of 10 to come up before a sum of 7. I will continue to roll the dice until either a 10 or a 7 comes up, none of the other sums matter. What is the probability that you win this type of bet? \n",
    "\n",
    "Hint: figure out the number of ways you can win and divide it by the sum of all the ways you can win and all the ways you can lose, keeping in mind that most sums do not matter.\n",
    "\n",
    "Calculate the probabilities of winning a place bet on 4, 5, 6, 8, 9, and 10 in fraction form."
   ]
  },
  {
   "cell_type": "code",
   "execution_count": null,
   "metadata": {},
   "outputs": [],
   "source": [
    "#insert theoretical probabilities here\n",
    "4: 3/(3+6)\n",
    "5: 4/(4+6)\n",
    "6: 5/(5+6)\n",
    "8: 5/(5+6)\n",
    "9: 4/(4+6)\n",
    "10: 3/(3+6)"
   ]
  },
  {
   "cell_type": "markdown",
   "metadata": {},
   "source": [
    "6.) Now let's calculate the experimental probabilities of the above place bet on 6. Roll the dice 50,000 times and calculate the percentage of times that you win. Note: just because you rolled the dice 50,000 times does not mean that your number of wins + losses adds up to 50,000, because many of the other numbers don't matter. \n",
    "\n",
    "(Note: your decimal should be very close to the theoretical fraction you obtained above). "
   ]
  },
  {
   "cell_type": "code",
   "execution_count": 2,
   "metadata": {},
   "outputs": [
    {
     "name": "stdout",
     "output_type": "stream",
     "text": [
      "0.4523355889888969\n",
      "15221\n"
     ]
    }
   ],
   "source": [
    "#insert experimental probability \n",
    "wins = 0\n",
    "mybet = 6\n",
    "num_of_sims = 0\n",
    "for i in range(50000):\n",
    "        die1 = randint(1,6)\n",
    "        die2 = randint(1,6)\n",
    "        if die1+die2 == 7:\n",
    "            num_of_sims = num_of_sims + 1\n",
    "        if die1+die2 == mybet:\n",
    "            wins = wins + 1\n",
    "            num_of_sims = num_of_sims + 1\n",
    "print(wins/num_of_sims)\n",
    "print(num_of_sims)"
   ]
  },
  {
   "cell_type": "code",
   "execution_count": 3,
   "metadata": {},
   "outputs": [
    {
     "name": "stdout",
     "output_type": "stream",
     "text": [
      "-0.014530442414589007\n"
     ]
    }
   ],
   "source": [
    "\n",
    "sum6 = []\n",
    "for i in range(100000):\n",
    "    sum6.append(sum([randint(1,6), randint(1,6)]))\n",
    "six = sum6.count(6)\n",
    "wl = sum6.count(7) + six\n",
    "p6 = ((six/wl)*(7/6))-((wl-six)/wl)\n",
    "print(p6)"
   ]
  },
  {
   "cell_type": "markdown",
   "metadata": {},
   "source": [
    "#better soln - does exactly 50,000 games\n",
    "![parb](parb.png)"
   ]
  },
  {
   "cell_type": "markdown",
   "metadata": {},
   "source": [
    "7.) Make a time plot where the x-axis is the number of times you have played and the y-axis is your winning percentage. Be sure to give your axes and title a label. Plot only the first 300 simulations by changing the axes range of your plot."
   ]
  },
  {
   "cell_type": "code",
   "execution_count": 18,
   "metadata": {},
   "outputs": [
    {
     "name": "stdout",
     "output_type": "stream",
     "text": [
      "0.455498417721519\n"
     ]
    },
    {
     "data": {
      "text/plain": [
       "[0, 300, 0, 1]"
      ]
     },
     "execution_count": 18,
     "metadata": {},
     "output_type": "execute_result"
    },
    {
     "data": {
      "image/png": "[encoded data removed]",
      "text/plain": [
       "<Figure size 432x288 with 1 Axes>"
      ]
     },
     "metadata": {
      "needs_background": "light"
     },
     "output_type": "display_data"
    }
   ],
   "source": [
    "#insert experimental probability \n",
    "losses = 0\n",
    "wins = 0\n",
    "mybet = 6\n",
    "sims = []\n",
    "percent = []\n",
    "for i in range(50000):\n",
    "        die1 = randint(1,6)\n",
    "        die2 = randint(1,6)\n",
    "        if die1+die2 == 7:\n",
    "            losses = losses + 1\n",
    "            sims.append(wins+losses)\n",
    "            percent.append(wins/(wins+losses))\n",
    "        if die1+die2 == mybet:\n",
    "            wins = wins + 1\n",
    "            sims.append(wins+losses)\n",
    "            percent.append(wins/(wins+losses))\n",
    "\n",
    "plt.plot(sims, percent, '.')\n",
    "print(percent[-1])\n",
    "plt.xlabel('number of simulations')\n",
    "plt.ylabel('winning percentage')\n",
    "plt.title('winning percentage of the 6 place bet')\n",
    "plt.axis([0,300, 0, 1])"
   ]
  },
  {
   "cell_type": "markdown",
   "metadata": {},
   "source": [
    "8.) For each of the bets, the casino will pay you out different amounts of money if you win (the riskier the bet, the better the payout). Here are the payouts:\n",
    "\n",
    "Place 4: 9:5\n",
    "\n",
    "Place 5: 7:5\n",
    "\n",
    "Place 6: 7:6\n",
    "\n",
    "Place 8: 7:6\n",
    "\n",
    "Place 9: 7:5\n",
    "\n",
    "Place 10: 9:5\n",
    "\n",
    "For example, for every dollar you bet on Place 6, the casino will pay you 7/6 dollars if you win and take your dollar if you lose. Therefore, your expected value, or the money you expect to earn after making this bet, is (7/6)(5/11) + (-1)(6/11) = -$0.015. Meaning, for every dollar you bet, you expect to lose a penny and a half of it.\n",
    "\n",
    "Thus, the house is always expected to win in the end, but this type of bet is pretty conservative, as you are only losing a penny on every dollar.\n",
    "\n",
    "Calculate the theoretical expected value of the Place 4 and Place 5 bets. "
   ]
  },
  {
   "cell_type": "code",
   "execution_count": null,
   "metadata": {},
   "outputs": [],
   "source": [
    "#insert theoretical expected value here\n",
    "(9/5)(3/9)+(-1)(6/9)\n",
    "(7/5)(4/10)+(-1)(7/10)"
   ]
  },
  {
   "cell_type": "markdown",
   "metadata": {},
   "source": [
    "8.) Calculate the expected value of the Place 6 bet experimentally by rolling the dice 100,000 times. "
   ]
  },
  {
   "cell_type": "code",
   "execution_count": 15,
   "metadata": {},
   "outputs": [
    {
     "name": "stdout",
     "output_type": "stream",
     "text": [
      "-0.01353989432173608\n"
     ]
    },
    {
     "data": {
      "text/plain": [
       "[0, 3000, -1, 1]"
      ]
     },
     "execution_count": 15,
     "metadata": {},
     "output_type": "execute_result"
    },
    {
     "data": {
      "image/png": "[encoded data removed]",
      "text/plain": [
       "<Figure size 432x288 with 1 Axes>"
      ]
     },
     "metadata": {
      "needs_background": "light"
     },
     "output_type": "display_data"
    }
   ],
   "source": [
    "#insert experimental expected value here\n",
    "balance = 0 \n",
    "wins = 0\n",
    "losses = 0\n",
    "mybet = 6\n",
    "sims = []\n",
    "balances = []\n",
    "for i in range(1000000):\n",
    "        die1 = randint(1,6)\n",
    "        die2 = randint(1,6)\n",
    "        if die1+die2 == 7:\n",
    "            losses = losses + 1\n",
    "            balance = balance -1\n",
    "            sims.append(wins+losses)\n",
    "            balances.append(balance/(wins+losses))\n",
    "        if die1+die2 == mybet:\n",
    "            wins = wins + 1\n",
    "            balance = balance + 7/6\n",
    "            sims.append(wins+losses)\n",
    "            balances.append(balance/(wins+losses))\n",
    "\n",
    "plt.plot(sims, balances, '.')\n",
    "print(balances[-1])\n",
    "plt.xlabel('number of simulations')\n",
    "plt.ylabel('winning percentage')\n",
    "plt.title('balance of the 6 place bet')\n",
    "plt.axis([0,3000, -1, 1])"
   ]
  },
  {
   "cell_type": "markdown",
   "metadata": {},
   "source": [
    "9.) Let's also calculate the expected value of the pass bet.  A pass bet wins if the first roll is a 7 or 11. It loses if the first roll is a 2, 3, or 12. It wins if the first roll (4,5,6,8,9, or 10) is rolled again before a 7 is rolled. To calculate the expected values of the pass bet, follow these steps:"
   ]
  },
  {
   "cell_type": "markdown",
   "metadata": {},
   "source": [
    "a. Find P(7 or 11 on the first roll) in fraction form (hint: the fraction should be approximately 0.2222). "
   ]
  },
  {
   "cell_type": "code",
   "execution_count": 6,
   "metadata": {},
   "outputs": [
    {
     "data": {
      "text/plain": [
       "0.2222222222222222"
      ]
     },
     "execution_count": 6,
     "metadata": {},
     "output_type": "execute_result"
    }
   ],
   "source": [
    "#insert a\n",
    "8/36"
   ]
  },
  {
   "cell_type": "markdown",
   "metadata": {},
   "source": [
    "b.) Find the probability that a 4 is rolled and that it is rolled again before a 7. (Hint: multiply the probability that a 4 is rolled on the first roll times the probability that a 4 is rolled before a 7. The fraction should be approximately equal to 0.0278). "
   ]
  },
  {
   "cell_type": "code",
   "execution_count": 7,
   "metadata": {},
   "outputs": [
    {
     "data": {
      "text/plain": [
       "0.020833333333333332"
      ]
     },
     "execution_count": 7,
     "metadata": {},
     "output_type": "execute_result"
    }
   ],
   "source": [
    "#insert b\n",
    "(3/36)*3/(3+9)"
   ]
  },
  {
   "cell_type": "markdown",
   "metadata": {},
   "source": [
    "c.) Find the probability that a 5 is rolled and it is rolled again before a 7. "
   ]
  },
  {
   "cell_type": "code",
   "execution_count": 1,
   "metadata": {},
   "outputs": [
    {
     "data": {
      "text/plain": [
       "0.04444444444444444"
      ]
     },
     "execution_count": 1,
     "metadata": {},
     "output_type": "execute_result"
    }
   ],
   "source": [
    "#insert c\n",
    "(4/36)*4/(4+6)"
   ]
  },
  {
   "cell_type": "markdown",
   "metadata": {},
   "source": [
    "d.) Find the probability that a 6 is rolled and it is rolled again before a 7. "
   ]
  },
  {
   "cell_type": "code",
   "execution_count": 2,
   "metadata": {},
   "outputs": [
    {
     "data": {
      "text/plain": [
       "0.06313131313131314"
      ]
     },
     "execution_count": 2,
     "metadata": {},
     "output_type": "execute_result"
    }
   ],
   "source": [
    "#insert d\n",
    "(5/36)*5/(5+6)"
   ]
  },
  {
   "cell_type": "markdown",
   "metadata": {},
   "source": [
    "e.) Find the probability that a 8 is rolled and it is rolled again before a 7. "
   ]
  },
  {
   "cell_type": "code",
   "execution_count": 3,
   "metadata": {},
   "outputs": [
    {
     "data": {
      "text/plain": [
       "0.06313131313131314"
      ]
     },
     "execution_count": 3,
     "metadata": {},
     "output_type": "execute_result"
    }
   ],
   "source": [
    "#insert f\n",
    "(5/36)*5/(5+6)"
   ]
  },
  {
   "cell_type": "markdown",
   "metadata": {},
   "source": [
    "g.) Find the probability that a 9 is rolled and it is rolled again before a 7. "
   ]
  },
  {
   "cell_type": "code",
   "execution_count": 4,
   "metadata": {},
   "outputs": [
    {
     "data": {
      "text/plain": [
       "0.04444444444444444"
      ]
     },
     "execution_count": 4,
     "metadata": {},
     "output_type": "execute_result"
    }
   ],
   "source": [
    "#insert g\n",
    "(4/36)*4/(4+6)"
   ]
  },
  {
   "cell_type": "markdown",
   "metadata": {},
   "source": [
    "h.) Find the probability that a 10 is rolled and it is rolled again before a 7. "
   ]
  },
  {
   "cell_type": "code",
   "execution_count": 5,
   "metadata": {},
   "outputs": [
    {
     "data": {
      "text/plain": [
       "0.020833333333333332"
      ]
     },
     "execution_count": 5,
     "metadata": {},
     "output_type": "execute_result"
    }
   ],
   "source": [
    "#insert h\n",
    "(3/36)*3/(3+9)"
   ]
  },
  {
   "cell_type": "markdown",
   "metadata": {},
   "source": [
    "i.) Add all of the previous quantities to find the probability of winning the pass bet.  (Decimal form is okay.)"
   ]
  },
  {
   "cell_type": "code",
   "execution_count": 11,
   "metadata": {},
   "outputs": [
    {
     "data": {
      "text/plain": [
       "0.4927"
      ]
     },
     "execution_count": 11,
     "metadata": {},
     "output_type": "execute_result"
    }
   ],
   "source": [
    "#insert i. \n",
    "0.4927"
   ]
  },
  {
   "cell_type": "markdown",
   "metadata": {},
   "source": [
    "j. Subtract 1 - (the probability of winning) to find the probability of losing:"
   ]
  },
  {
   "cell_type": "code",
   "execution_count": 10,
   "metadata": {},
   "outputs": [
    {
     "data": {
      "text/plain": [
       "0.5072"
      ]
     },
     "execution_count": 10,
     "metadata": {},
     "output_type": "execute_result"
    }
   ],
   "source": [
    "#insert j\n",
    ".5072"
   ]
  },
  {
   "cell_type": "markdown",
   "metadata": {},
   "source": [
    "k. The payout of the pass bet is the best payout of all the bets - it is 1:1. Evaluate the expected value of the pass bet by summing:\n",
    "\n",
    "P(winning)x(1 dollar)+P(losing)x(-1 dollar)."
   ]
  },
  {
   "cell_type": "code",
   "execution_count": 9,
   "metadata": {},
   "outputs": [
    {
     "data": {
      "text/plain": [
       "-0.014499999999999957"
      ]
     },
     "execution_count": 9,
     "metadata": {},
     "output_type": "execute_result"
    }
   ],
   "source": [
    "#insert k\n",
    ".4927*(1)+(.5072)*(-1)"
   ]
  },
  {
   "cell_type": "code",
   "execution_count": null,
   "metadata": {},
   "outputs": [],
   "source": []
  }
 ],
 "metadata": {
  "kernelspec": {
   "display_name": "Python 3",
   "language": "python",
   "name": "python3"
  },
  "language_info": {
   "codemirror_mode": {
    "name": "ipython",
    "version": 3
   },
   "file_extension": ".py",
   "mimetype": "text/x-python",
   "name": "python",
   "nbconvert_exporter": "python",
   "pygments_lexer": "ipython3",
   "version": "3.7.3"
  }
 },
 "nbformat": 4,
 "nbformat_minor": 1
}
