{
 "cells": [
  {
   "cell_type": "code",
   "execution_count": 0,
   "metadata": {
    "collapsed": false
   },
   "outputs": [
   ],
   "source": [
    "#RUN THIS CELL FIRST\n",
    "import numpy as np\n",
    "from random import randint\n",
    "import matplotlib.pyplot as plt\n",
    "%matplotlib inline"
   ]
  },
  {
   "cell_type": "markdown",
   "metadata": {
    "collapsed": false
   },
   "source": [
    "1.) In this assignment, you will learn how to make some craps bets. Craps is based off calculating the sum of two dice. If two dice with faces 1-6 are rolled, then the possible sums are 2-12. With pencil and paper, create a table of the die outcomes in order to calculate the probability of obtaining each sum. Write the probability of each of the sums (in fraction form) below. What is the most likely sum?"
   ]
  },
  {
   "cell_type": "code",
   "execution_count": 3,
   "metadata": {
    "collapsed": true
   },
   "outputs": [
   ],
   "source": [
    "#insert theoretical probabilities here\n"
   ]
  },
  {
   "cell_type": "markdown",
   "metadata": {
    "collapsed": false
   },
   "source": [
    "2.) Okay, so now you know the theoretical probabilities. Let's calculate the experimental probabilities, though. Use the randint function to simulate two dice rolls. Roll two dice 10,000 times. Create a list called sums of the sums of the dice. "
   ]
  },
  {
   "cell_type": "code",
   "execution_count": 5,
   "metadata": {
    "collapsed": true
   },
   "outputs": [
   ],
   "source": [
    "#insert code here"
   ]
  },
  {
   "cell_type": "markdown",
   "metadata": {
    "collapsed": false
   },
   "source": [
    "3.) Create a histogram of the sums. Note: in order to make the histogram symmetric, use the following extra arguments inside the plt.hist method: \n",
    "bins = 11, range = (1.5,12.5), normed = True"
   ]
  },
  {
   "cell_type": "code",
   "execution_count": 0,
   "metadata": {
    "collapsed": true
   },
   "outputs": [
   ],
   "source": [
    "#insert histogram code here"
   ]
  },
  {
   "cell_type": "markdown",
   "metadata": {
    "collapsed": false
   },
   "source": [
    "4.) Read about the arguments you just used on this website:\n",
    "https://matplotlib.org/devdocs/api/_as_gen/matplotlib.pyplot.hist.html\n",
    "\n",
    "Explain what each of the three extra arguments you used does below."
   ]
  },
  {
   "cell_type": "code",
   "execution_count": 0,
   "metadata": {
    "collapsed": true
   },
   "outputs": [
   ],
   "source": [
    "#explain bins, range, normed here"
   ]
  },
  {
   "cell_type": "markdown",
   "metadata": {
    "collapsed": false
   },
   "source": [
    "5.) One of the most common types of bets in craps is a place bet. A place bet is betting on a number and wanting that number to come up before a 7 does. For example, if I bet on 10, then I am wanting a sum of 10 to come up before a sum of 7. I will continue to roll the dice until either a 10 or a 7 comes up, none of the other sums matter. What is the probability that you win this type of bet? \n",
    "\n",
    "Hint: figure out the number of ways you can win and divide it by the sum of all the ways you can win and all the ways you can lose, keeping in mind that most sums do not matter.\n",
    "\n",
    "Calculate the probabilities of winning a place bet on 4, 5, 6, 8, 9, and 10 in fraction form."
   ]
  },
  {
   "cell_type": "code",
   "execution_count": 0,
   "metadata": {
    "collapsed": true
   },
   "outputs": [
   ],
   "source": [
    "#insert theoretical probabilities here"
   ]
  },
  {
   "cell_type": "markdown",
   "metadata": {
    "collapsed": false
   },
   "source": [
    "6.) Now let's calculate the experimental probabilities of the above place bet on 6. Roll the dice 50,000 times and calculate the percentage of times that you win. Note: just because you rolled the dice 50,000 times does not mean that your number of wins + losses adds up to 50,000, because many of the other numbers don't matter. \n",
    "\n",
    "(Note: your decimal should be very close to the theoretical fraction you obtained above). "
   ]
  },
  {
   "cell_type": "code",
   "execution_count": 1,
   "metadata": {
    "collapsed": true
   },
   "outputs": [
   ],
   "source": [
    "#insert experimental probability \n"
   ]
  },
  {
   "cell_type": "markdown",
   "metadata": {
    "collapsed": false
   },
   "source": [
    "7.) Make a time plot where the x-axis is the number of times you have played and the y-axis is your winning percentage. Be sure to give your axes and title a label. Plot only the first 300 simulations by changing the axes range of your plot."
   ]
  },
  {
   "cell_type": "code",
   "execution_count": 2,
   "metadata": {
    "collapsed": true
   },
   "outputs": [
   ],
   "source": [
    "#insert plot"
   ]
  },
  {
   "cell_type": "markdown",
   "metadata": {
    "collapsed": false
   },
   "source": [
    "8.) For each of the bets, the casino will pay you out different amounts of money if you win (the riskier the bet, the better the payout). Here are the payouts:\n",
    "\n",
    "Place 4: 9:5\n",
    "\n",
    "Place 5: 7:5\n",
    "\n",
    "Place 6: 7:6\n",
    "\n",
    "Place 8: 7:6\n",
    "\n",
    "Place 9: 7:5\n",
    "\n",
    "Place 10: 9:5\n",
    "\n",
    "For example, for every dollar you bet on Place 6, the casino will pay you 7/6 dollars if you win and take your dollar if you lose. Therefore, your expected value, or the money you expect to earn after making this bet, is (7/6)(5/11) + (-1)(6/11) = -$0.015. Meaning, for every dollar you bet, you expect to lose a penny and a half of it.\n",
    "\n",
    "Thus, the house is always expected to win in the end, but this type of bet is pretty conservative, as you are only losing a penny on every dollar.\n",
    "\n",
    "Calculate the theoretical expected value of the Place 4 and Place 5 bets. "
   ]
  },
  {
   "cell_type": "code",
   "execution_count": 0,
   "metadata": {
    "collapsed": true
   },
   "outputs": [
   ],
   "source": [
    "#insert theoretical expected value here"
   ]
  },
  {
   "cell_type": "markdown",
   "metadata": {
    "collapsed": false
   },
   "source": [
    "8.) Calculate the expected value of the Place 6 bet experimentally by rolling the dice 100,000 times. "
   ]
  },
  {
   "cell_type": "code",
   "execution_count": 3,
   "metadata": {
    "collapsed": true
   },
   "outputs": [
   ],
   "source": [
    "#insert experimental expected value here"
   ]
  },
  {
   "cell_type": "markdown",
   "metadata": {
    "collapsed": false
   },
   "source": [
    "9.) Let's also calculate the expected value of the pass bet.  A pass bet wins if the first roll is a 7 or 11. It loses if the first roll is a 2, 3, or 12. It wins if the first roll (4,5,6,8,9, or 10) is rolled again before a 7 is rolled. To calculate the expected values of the pass bet, follow these steps:"
   ]
  },
  {
   "cell_type": "markdown",
   "metadata": {
    "collapsed": false
   },
   "source": [
    "a. Find P(7 or 11 on the first roll) in fraction form (hint: the fraction should be approximately 0.2222). "
   ]
  },
  {
   "cell_type": "code",
   "execution_count": 1,
   "metadata": {
    "collapsed": true
   },
   "outputs": [
   ],
   "source": [
    "#insert a"
   ]
  },
  {
   "cell_type": "markdown",
   "metadata": {
    "collapsed": false
   },
   "source": [
    "b.) Find the probability that a 4 is rolled and that it is rolled again before a 7. (Hint: multiply the probability that a 4 is rolled on the first roll times the probability that a 4 is rolled before a 7. The fraction should be approximately equal to 0.0278). "
   ]
  },
  {
   "cell_type": "code",
   "execution_count": 2,
   "metadata": {
    "collapsed": true
   },
   "outputs": [
   ],
   "source": [
    "#insert b"
   ]
  },
  {
   "cell_type": "markdown",
   "metadata": {
    "collapsed": false
   },
   "source": [
    "c.) Find the probability that a 5 is rolled and it is rolled again before a 7. "
   ]
  },
  {
   "cell_type": "code",
   "execution_count": 3,
   "metadata": {
    "collapsed": true
   },
   "outputs": [
   ],
   "source": [
    "#insert c"
   ]
  },
  {
   "cell_type": "markdown",
   "metadata": {
    "collapsed": false
   },
   "source": [
    "d.) Find the probability that a 6 is rolled and it is rolled again before a 7. "
   ]
  },
  {
   "cell_type": "code",
   "execution_count": 4,
   "metadata": {
    "collapsed": true
   },
   "outputs": [
   ],
   "source": [
    "#insert d"
   ]
  },
  {
   "cell_type": "markdown",
   "metadata": {
    "collapsed": false
   },
   "source": [
    "e.) Find the probability that a 8 is rolled and it is rolled again before a 7. "
   ]
  },
  {
   "cell_type": "code",
   "execution_count": 8,
   "metadata": {
    "collapsed": true
   },
   "outputs": [
   ],
   "source": [
    "#insert f"
   ]
  },
  {
   "cell_type": "markdown",
   "metadata": {
    "collapsed": false
   },
   "source": [
    "g.) Find the probability that a 9 is rolled and it is rolled again before a 7. "
   ]
  },
  {
   "cell_type": "code",
   "execution_count": 9,
   "metadata": {
    "collapsed": true
   },
   "outputs": [
   ],
   "source": [
    "#insert g"
   ]
  },
  {
   "cell_type": "markdown",
   "metadata": {
    "collapsed": false
   },
   "source": [
    "h.) Find the probability that a 10 is rolled and it is rolled again before a 7. "
   ]
  },
  {
   "cell_type": "code",
   "execution_count": 7,
   "metadata": {
    "collapsed": true
   },
   "outputs": [
   ],
   "source": [
    "#insert h"
   ]
  },
  {
   "cell_type": "markdown",
   "metadata": {
    "collapsed": false
   },
   "source": [
    "i.) Add all of the previous quantities to find the probability of winning the pass bet.  (Decimal form is okay.)"
   ]
  },
  {
   "cell_type": "code",
   "execution_count": 10,
   "metadata": {
    "collapsed": true
   },
   "outputs": [
   ],
   "source": [
    "#insert i. "
   ]
  },
  {
   "cell_type": "markdown",
   "metadata": {
    "collapsed": false
   },
   "source": [
    "j. Subtract 1 - (the probability of winning) to find the probability of losing:"
   ]
  },
  {
   "cell_type": "code",
   "execution_count": 11,
   "metadata": {
    "collapsed": true
   },
   "outputs": [
   ],
   "source": [
    "#insert j"
   ]
  },
  {
   "cell_type": "markdown",
   "metadata": {
    "collapsed": false
   },
   "source": [
    "k. The payout of the pass bet is the best payout of all the bets - it is 1:1. Evaluate the expected value of the pass bet by summing:\n",
    "\n",
    "P(winning)x(1 dollar)+P(losing)x(-1 dollar)."
   ]
  },
  {
   "cell_type": "code",
   "execution_count": 0,
   "metadata": {
    "collapsed": true
   },
   "outputs": [
   ],
   "source": [
    "#insert k"
   ]
  }
 ],
 "metadata": {
  "kernelspec": {
   "display_name": "Python 3 (Ubuntu Linux)",
   "language": "python",
   "name": "python3"
  },
  "language_info": {
   "codemirror_mode": {
    "name": "ipython",
    "version": 3
   },
   "file_extension": ".py",
   "mimetype": "text/x-python",
   "name": "python",
   "nbconvert_exporter": "python",
   "pygments_lexer": "ipython3",
   "version": "3.6.6"
  }
 },
 "nbformat": 4,
 "nbformat_minor": 0
}