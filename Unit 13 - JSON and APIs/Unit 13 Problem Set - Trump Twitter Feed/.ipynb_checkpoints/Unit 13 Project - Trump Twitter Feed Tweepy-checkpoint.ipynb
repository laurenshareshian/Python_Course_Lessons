{
 "cells": [
  {
   "cell_type": "markdown",
   "metadata": {},
   "source": [
    "In this project, you will use your knowledge of datetime and matplotlib to plot the number of Donald's tweets versus the a.) date, b.) day of the week and c.) time of the day. Also, you will analyze his most used words and create a chatbot.\n",
    "\n",
    "1.First, copy and paste your hidden.py file containing your Twitter keys that you made previously into this folder. Then, import them as you did before so that the variables consumer_key, consumer_secret, access_token, and access_token_secret contain the appropriate passwords."
   ]
  },
  {
   "cell_type": "code",
   "execution_count": 1,
   "metadata": {
    "collapsed": true
   },
   "outputs": [],
   "source": [
    "#insert 1\n",
    "import hidden"
   ]
  },
  {
   "cell_type": "markdown",
   "metadata": {},
   "source": [
    "2.You should now be able to use the Tweepy package to get Donald Trump's latest tweet and tweet time. Do so now."
   ]
  },
  {
   "cell_type": "code",
   "execution_count": 2,
   "metadata": {},
   "outputs": [],
   "source": [
    "#insert 2"
   ]
  },
  {
   "cell_type": "markdown",
   "metadata": {},
   "source": [
    "3.Create three empty lists called new_text, new_created_at, and new_retweets. Then use a loop to append the text of each tweet, its time created, and the number of retweets to each respective list. \n",
    "\n",
    "Hint: You might want your for loop to say:\n",
    "```python\n",
    "for i, status in enumerate(tweepy.Cursor(api.user_timeline, id=\"realdonaldtrump\", count = 100).items()):\n",
    "```"
   ]
  },
  {
   "cell_type": "code",
   "execution_count": 3,
   "metadata": {},
   "outputs": [],
   "source": [
    "#insert 3"
   ]
  },
  {
   "cell_type": "markdown",
   "metadata": {},
   "source": [
    "4.How many total tweets did you pull?"
   ]
  },
  {
   "cell_type": "code",
   "execution_count": null,
   "metadata": {
    "collapsed": true
   },
   "outputs": [],
   "source": [
    "#insert 4"
   ]
  },
  {
   "cell_type": "markdown",
   "metadata": {},
   "source": [
    "5.Lauren has a Trump data set that goes back even further. Let's merge yours with hers to have a longer time frame of data. Run the following cell:"
   ]
  },
  {
   "cell_type": "code",
   "execution_count": 4,
   "metadata": {},
   "outputs": [
    {
     "data": {
      "text/html": [
       "<div>\n",
       "<style scoped>\n",
       "    .dataframe tbody tr th:only-of-type {\n",
       "        vertical-align: middle;\n",
       "    }\n",
       "\n",
       "    .dataframe tbody tr th {\n",
       "        vertical-align: top;\n",
       "    }\n",
       "\n",
       "    .dataframe thead th {\n",
       "        text-align: right;\n",
       "    }\n",
       "</style>\n",
       "<table border=\"1\" class=\"dataframe\">\n",
       "  <thead>\n",
       "    <tr style=\"text-align: right;\">\n",
       "      <th></th>\n",
       "      <th>text</th>\n",
       "      <th>created_at</th>\n",
       "      <th>retweets</th>\n",
       "    </tr>\n",
       "  </thead>\n",
       "  <tbody>\n",
       "    <tr>\n",
       "      <th>0</th>\n",
       "      <td>RT @mitchellvii: Trump always ends up being ri...</td>\n",
       "      <td>2017-03-23 01:04:32</td>\n",
       "      <td>2896</td>\n",
       "    </tr>\n",
       "    <tr>\n",
       "      <th>1</th>\n",
       "      <td>RT @mitchellvii: EXACTLY AS I SAID - House Int...</td>\n",
       "      <td>2017-03-23 01:03:18</td>\n",
       "      <td>1625</td>\n",
       "    </tr>\n",
       "    <tr>\n",
       "      <th>2</th>\n",
       "      <td>Big day for healthcare. Working hard!</td>\n",
       "      <td>2017-03-22 13:09:35</td>\n",
       "      <td>10233</td>\n",
       "    </tr>\n",
       "    <tr>\n",
       "      <th>3</th>\n",
       "      <td>Today on #NationalAgDay, we honor our great Am...</td>\n",
       "      <td>2017-03-21 18:12:05</td>\n",
       "      <td>13207</td>\n",
       "    </tr>\n",
       "    <tr>\n",
       "      <th>4</th>\n",
       "      <td>Honored to sign S.442 today. With this legisla...</td>\n",
       "      <td>2017-03-21 17:33:23</td>\n",
       "      <td>13448</td>\n",
       "    </tr>\n",
       "  </tbody>\n",
       "</table>\n",
       "</div>"
      ],
      "text/plain": [
       "                                                text          created_at  \\\n",
       "0  RT @mitchellvii: Trump always ends up being ri... 2017-03-23 01:04:32   \n",
       "1  RT @mitchellvii: EXACTLY AS I SAID - House Int... 2017-03-23 01:03:18   \n",
       "2              Big day for healthcare. Working hard! 2017-03-22 13:09:35   \n",
       "3  Today on #NationalAgDay, we honor our great Am... 2017-03-21 18:12:05   \n",
       "4  Honored to sign S.442 today. With this legisla... 2017-03-21 17:33:23   \n",
       "\n",
       "   retweets  \n",
       "0      2896  \n",
       "1      1625  \n",
       "2     10233  \n",
       "3     13207  \n",
       "4     13448  "
      ]
     },
     "execution_count": 4,
     "metadata": {},
     "output_type": "execute_result"
    }
   ],
   "source": [
    "import pandas as pd\n",
    "import json\n",
    "import datetime\n",
    "import pytz\n",
    "from dateutil.parser import parse\n",
    "\n",
    "with open('donalddata.json') as json_data:\n",
    "    js = json.load(json_data)\n",
    "\n",
    "text=[]\n",
    "created_at=[]\n",
    "retweets=[]\n",
    "for i in range(len(js)):\n",
    "    text.append(js[i]['text'])                \n",
    "    retweets.append(js[i]['retweet_count'])\n",
    "    dt = parse(js[i]['created_at']).replace(tzinfo=None)\n",
    "    created_at.append(dt)\n",
    "\n",
    "newest_of_oldest = max(created_at)\n",
    "for i in range(len(new_created_at)):\n",
    "    if new_created_at[i] > newest_of_oldest:\n",
    "        text.append(new_text[i])\n",
    "        created_at.append(new_created_at[i])\n",
    "        retweets.append(new_retweets[i])\n",
    "\n",
    "\n",
    "df = pd.DataFrame({'text': text, 'created_at': created_at, 'retweets': retweets})\n",
    "df.head()"
   ]
  },
  {
   "cell_type": "markdown",
   "metadata": {},
   "source": [
    "6.How many total tweets do you have? What is the oldest tweet in your dataframe? What did it say? "
   ]
  },
  {
   "cell_type": "code",
   "execution_count": 4,
   "metadata": {
    "scrolled": true
   },
   "outputs": [],
   "source": [
    "#insert 6"
   ]
  },
  {
   "cell_type": "markdown",
   "metadata": {},
   "source": [
    "7.What tweet had the most retweets? Click on the url in its text to see what it was."
   ]
  },
  {
   "cell_type": "code",
   "execution_count": 5,
   "metadata": {},
   "outputs": [],
   "source": [
    "#insert 7"
   ]
  },
  {
   "cell_type": "markdown",
   "metadata": {},
   "source": [
    "8.We'll make a histogram of the hour of each tweet. We'll use pandas built-in datetime capabilities to capture the hour of each tweet simply. We'll be sure to:\n",
    "\n",
    "1. Label our axes.\n",
    "\n",
    "2. Use bins = np.arange(-.5,24.5,1) to center each bin at the hour and rwidth=0.9 to provide some separation.\n",
    "\n",
    "3. Add x-axis tick labels at each hour mark \"0,1,2,3...23\"\n",
    "\n",
    "Run the cell below to do all this:"
   ]
  },
  {
   "cell_type": "code",
   "execution_count": 7,
   "metadata": {},
   "outputs": [
    {
     "data": {
      "image/png": "[encoded data removed]",
      "text/plain": [
       "<matplotlib.figure.Figure at 0x1118f2b00>"
      ]
     },
     "metadata": {},
     "output_type": "display_data"
    }
   ],
   "source": [
    "import matplotlib.pyplot as plt\n",
    "%matplotlib inline\n",
    "import numpy as np\n",
    "plt.hist(df['created_at'].dt.hour, rwidth=0.9, bins = np.arange(-.5,24.5,1))\n",
    "plt.xlabel('hour')\n",
    "plt.xticks(np.arange(0,25,1));"
   ]
  },
  {
   "cell_type": "markdown",
   "metadata": {},
   "source": [
    "9.Actually, these times are in UTC. Let's convert them to Trump's Eastern time zone to see what time he's tweeting at in his local time:"
   ]
  },
  {
   "cell_type": "code",
   "execution_count": 8,
   "metadata": {},
   "outputs": [
    {
     "data": {
      "image/png": "[encoded data removed]",
      "text/plain": [
       "<matplotlib.figure.Figure at 0x105e31080>"
      ]
     },
     "metadata": {},
     "output_type": "display_data"
    }
   ],
   "source": [
    "import datetime\n",
    "import pytz\n",
    "from dateutil.parser import parse\n",
    "\n",
    "utc = pytz.timezone('UTC')\n",
    "eastern = pytz.timezone('US/Eastern')\n",
    "\n",
    "utc_dates = [utc.localize(time) for time in df['created_at']]\n",
    "eastern_dates = [time.astimezone(eastern) for time in utc_dates]\n",
    "hours = [date.hour for date in eastern_dates]\n",
    "\n",
    "plt.hist(hours, rwidth=0.9, bins = np.arange(-.5,24.5,1))\n",
    "plt.xlabel('hour')\n",
    "plt.xticks(np.arange(0,25,1));"
   ]
  },
  {
   "cell_type": "markdown",
   "metadata": {},
   "source": [
    "10.Google the Python collections Counter most_common method. Use it to find the most common tweet hours in decending order. Use it to figure out how many tweets he had at 3 am."
   ]
  },
  {
   "cell_type": "code",
   "execution_count": 6,
   "metadata": {},
   "outputs": [],
   "source": [
    "#insert 10"
   ]
  },
  {
   "cell_type": "markdown",
   "metadata": {},
   "source": [
    "11.Make a histogram of day of week vs number of tweets using pandas built in datetime capabilities. Recall that Monday corresponds to 0. \n",
    "\n",
    "Change the x-axis labels so that you see \"Mon, Tues, etc.\" instead of \"0,1,2....\" \n",
    "\n",
    "Make sure the bins and the labels are centered nicely."
   ]
  },
  {
   "cell_type": "code",
   "execution_count": 7,
   "metadata": {},
   "outputs": [],
   "source": [
    "#insert 11"
   ]
  },
  {
   "cell_type": "markdown",
   "metadata": {},
   "source": [
    "12.Next, we'll want to make a bar chart for date versus number of tweets. This will take a couple of steps. First, create a dictionary called count_days such that the key is the date (just the month-day-year - not the hour or other stuff - you can do this easily using the build-in date() method) and the value is the number of tweets on that date. "
   ]
  },
  {
   "cell_type": "code",
   "execution_count": 8,
   "metadata": {
    "collapsed": true
   },
   "outputs": [],
   "source": [
    "#insert 12"
   ]
  },
  {
   "cell_type": "markdown",
   "metadata": {},
   "source": [
    "13.Next, we'll plot this dictionary using a histogram.\n",
    "\n",
    "We'll put the line \"plt.rcParams['figure.figsize'] = [10, 5]\" BEFORE we plot the histogram in order to see the dates along the x-axis clearly."
   ]
  },
  {
   "cell_type": "code",
   "execution_count": 12,
   "metadata": {},
   "outputs": [
    {
     "data": {
      "text/plain": [
       "<Container object of 1149 artists>"
      ]
     },
     "execution_count": 12,
     "metadata": {},
     "output_type": "execute_result"
    },
    {
     "data": {
      "image/png": "[encoded data removed]",
      "text/plain": [
       "<matplotlib.figure.Figure at 0x10c1667b8>"
      ]
     },
     "metadata": {},
     "output_type": "display_data"
    }
   ],
   "source": [
    "#insert 13\n",
    "plt.rcParams['figure.figsize'] = [20, 10]\n",
    "plt.bar(list(count_days.keys()), count_days.values())"
   ]
  },
  {
   "cell_type": "markdown",
   "metadata": {},
   "source": [
    "14.On which date did he tweet the most? Hint: you can use the most_common method again."
   ]
  },
  {
   "cell_type": "code",
   "execution_count": 9,
   "metadata": {},
   "outputs": [],
   "source": [
    "#insert 14"
   ]
  },
  {
   "cell_type": "markdown",
   "metadata": {},
   "source": [
    "15.What were the texts of those tweets on that date? Hint: you can do this in one line."
   ]
  },
  {
   "cell_type": "code",
   "execution_count": 10,
   "metadata": {},
   "outputs": [],
   "source": [
    "#insert 15"
   ]
  },
  {
   "cell_type": "markdown",
   "metadata": {},
   "source": [
    "16.Now we'll explore Trump's most frequently used words. To do this, create a loop that iterates through each tweet text and saves them all to one long string called \"all_tweets\"."
   ]
  },
  {
   "cell_type": "code",
   "execution_count": 11,
   "metadata": {},
   "outputs": [],
   "source": [
    "#insert 16"
   ]
  },
  {
   "cell_type": "markdown",
   "metadata": {},
   "source": [
    "17.Next, we'll remove certain punctuation (and hashtags and hyperlinks) and put spaces between other punctuation. We can do that most easily using regular expressions. The regular expression package is very powerful - there are loads of online tutorials for using regular expressions to manipulate strings. I highly recommend reading about them. But in the meantime, you can just read my code carefully below and run the code:"
   ]
  },
  {
   "cell_type": "code",
   "execution_count": 32,
   "metadata": {
    "collapsed": true
   },
   "outputs": [],
   "source": [
    "import re\n",
    "\n",
    "\n",
    "all_tweets = re.sub(r\"http\\S+\", \"\", all_tweets) #remove hyperlinks\n",
    "all_tweets = re.sub(r\"amp\\S+\", \"\", all_tweets) #remove ampersand expressions\n",
    "all_tweets = re.sub(r\"\\t\", \"\", all_tweets)  # remove tabs\n",
    "all_tweets = re.sub(r\"\\v\", \"\", all_tweets)  # remove vertical space\n",
    "all_tweets = re.sub(r\"\\r\", \"\", all_tweets)  # remove carriage return\n",
    "all_tweets = re.sub(r\"\\n\", \"\", all_tweets)  # remove new lines\n",
    "all_tweets = re.sub(r\"\\(\", \"\", all_tweets)  # remove parenthesis\n",
    "all_tweets = re.sub(r\"\\)\", \"\", all_tweets)  # remove parenthesis\n",
    "all_tweets = re.sub(r\"\\.\\.\\.\", \"\", all_tweets)  # remove ...\n",
    "all_tweets = re.sub(r\"\\. \\. \\. \", \"\", all_tweets)  # remove . . .\n",
    "all_tweets = re.sub(r\"\\\"\", \"\", all_tweets)  # remove quotations\n",
    "all_tweets = re.sub(r\"!\", \"! \", all_tweets)  # insert space after !\n",
    "all_tweets = re.sub(r\"\\.\", \". \", all_tweets)  # insert space after .\n",
    "all_tweets = re.sub(r\"\\?\", \"? \", all_tweets)  # insert space after ?\n",
    "\n",
    "all_tweets = all_tweets.lower()"
   ]
  },
  {
   "cell_type": "markdown",
   "metadata": {},
   "source": [
    "18.We'll also split the string all_tweets into a list of words called words. Remove words that contain just punctuation in the following list:"
   ]
  },
  {
   "cell_type": "code",
   "execution_count": 33,
   "metadata": {
    "collapsed": true
   },
   "outputs": [],
   "source": [
    "words = all_tweets.split()\n",
    "bad_words = ['…', '.', '!', '?', ',']\n",
    "words = [x for x in words if x not in bad_words]"
   ]
  },
  {
   "cell_type": "markdown",
   "metadata": {},
   "source": [
    "19.Using the words list just created, create a Counter object called word_dict whose key is each word and whose value is the number of times that that word occurs."
   ]
  },
  {
   "cell_type": "code",
   "execution_count": 12,
   "metadata": {},
   "outputs": [],
   "source": [
    "#insert 19"
   ]
  },
  {
   "cell_type": "markdown",
   "metadata": {},
   "source": [
    "20.Create a sorted list of tuples called tuple_list in reverse order of his most frequently used words. Only print the words that occur at least ten times."
   ]
  },
  {
   "cell_type": "code",
   "execution_count": 13,
   "metadata": {},
   "outputs": [],
   "source": [
    "#insert 20"
   ]
  },
  {
   "cell_type": "markdown",
   "metadata": {},
   "source": [
    "21.One last thing...word cloud visualizations are kind of a hot thing right now. Let's make one, but get rid of the boring words like \"the\" that aren't very interesting. Create a dictionary called counts that contains everything in the above word dictionary except for the keys that are in the boring list below:\n",
    "\n",
    "boring_words=['at', 'be','was', 'by', 'our','do','so','amp','by','it','its','at','by' 'from', 'as', 'but','am','of', 'a', 'you', 'on', 'the', 'is', 'to', 'and', 'in', 'has', 'are', 'not', 'an', 'in', 'or', 'for', 'who', 'that', 'have', 'there', 'just', 'their', 'were', 'what' , 'with', 'will', 'than', 'about', 'this','if','from','would','been','had']\n",
    "\n"
   ]
  },
  {
   "cell_type": "code",
   "execution_count": 14,
   "metadata": {},
   "outputs": [],
   "source": [
    "#insert 21"
   ]
  },
  {
   "cell_type": "markdown",
   "metadata": {},
   "source": [
    "22.We'll save the words and their frequencies to a javascript file that we can view on a webpage. Here's the code.\n"
   ]
  },
  {
   "cell_type": "code",
   "execution_count": null,
   "metadata": {
    "collapsed": true
   },
   "outputs": [],
   "source": [
    "# ##########################################\n",
    "#plot counts using d3, to view the visualization open the twitterword.htm file in a web browser\n",
    "# ##########################################\n",
    "x = sorted(counts, key=counts.get, reverse=True)\n",
    "highest = None\n",
    "lowest = None\n",
    "for k in x[:100]:\n",
    "    if highest is None or highest < counts[k] :\n",
    "        highest = counts[k]\n",
    "    if lowest is None or lowest > counts[k] :\n",
    "        lowest = counts[k]\n",
    "\n",
    "# Spread the font sizes across 20-100 based on the count\n",
    "bigsize = 80\n",
    "smallsize = 20\n",
    "\n",
    "fhand = open('donaldwords.js','w')\n",
    "fhand.write(\"donaldwords = [\")\n",
    "first = True\n",
    "for k in x[:100]:\n",
    "    if not first : fhand.write( \",\\n\")\n",
    "    first = False\n",
    "    size = counts[k]\n",
    "    size = (size - lowest) / float(highest - lowest)\n",
    "    size = int((size * bigsize) + smallsize)\n",
    "    fhand.write(\"{text: \\\"\"+k+\"\\\", size: \"+str(size)+\"}\")\n",
    "fhand.write( \"\\n];\\n\")\n",
    "\n",
    "print (\"Output written to donaldwords.js\")\n",
    "fhand.close()"
   ]
  },
  {
   "cell_type": "markdown",
   "metadata": {},
   "source": [
    "23.Now open the twitterword.html file created in this same folder in a web browser to view the word cloud. Take a screenshot of it and save it as twitter.jpg. Then run the code to see the screenshot below."
   ]
  },
  {
   "cell_type": "markdown",
   "metadata": {},
   "source": [
    "double click into this cell and then run it\n",
    "<img src=\"twitter.jpg\" style=\"width: 200px;\"/>"
   ]
  },
  {
   "cell_type": "markdown",
   "metadata": {},
   "source": [
    "24.The word cloud was created using the D3 JavaScript library for visualizing data. It is super hot right now! You could pretty much get hired right now if you are good with it. Check out some other visualizations you can do with it here:\n",
    "\n",
    "https://github.com/d3/d3/wiki/Gallery\n"
   ]
  },
  {
   "cell_type": "markdown",
   "metadata": {},
   "source": [
    "### Chatbot\n",
    "25.Now let's make a Donald Trump chatbot that uses his previous tweets to create new tweets. We'll go back to the string all_tweets that contains all of his tweets before punctuation is removed.\n",
    "\n",
    "We'll create the chatbot using Markov chains. A Markov chain is a randomly determined model describing a sequence of possible events in which the probability of each event depends only on the state attained in the previous event. What does this mean?\n",
    "\n",
    "We'll make a key-value dictionary where each key is a two word phrase and each value is a list containing all the possible single words that come after that phrase. Here's a concrete example. Read it carefully, paying special attention to the \"and i\" phrase.\n",
    "\n",
    "\"hi my name is Al and i live in a box that i like very much and i can live in there as long as i want\"\n",
    "\n",
    "\"hi my\" -> [\"name\"]\n",
    "\n",
    "\"my name\" -> [\"is\"]\n",
    "\n",
    "\"name is\" -> [\"Al\"]\n",
    "\n",
    "\"is Al\" -> [\"and\"]\n",
    "\n",
    "\"Al and\" -> [\"i\"]\n",
    "\n",
    "\"and i\" -> [\"live\"]\n",
    "\n",
    "........\n",
    "\n",
    "\"and i\" -> [\"live\", \"can\"]\n",
    "\n",
    "........\n",
    "\n",
    "\"i can\" -> [\"live\"]\n",
    "\n",
    "......\n",
    "\n",
    "Make a dictionary that does this type of Markov chain for all_tweets called word_dict below. Here are a few helpful hints:\n",
    "\n",
    "You can't iterate ALL the way until the end of the list (or else you'll go out of index). You may need to stop a few words short.\n",
    "\n",
    "For each new two word phrase, store the first word value to a LIST. Then, if that two word phrase comes around again, you can append the next possible word to that list."
   ]
  },
  {
   "cell_type": "code",
   "execution_count": 15,
   "metadata": {
    "collapsed": true
   },
   "outputs": [],
   "source": [
    "#insert 25"
   ]
  },
  {
   "cell_type": "markdown",
   "metadata": {},
   "source": [
    "26.Now randomly choose a key (two word phrase) to start with and then take that key and print a random value of that key (single word that follows). To do this, go back to Unit 4 to remember how to use random.choice and random.randint.\n",
    "\n",
    "Create a string called new_tweet that contains the random initial starting phrase (called starting_phrase) and the following word, with a space in between.\n",
    "\n",
    "Capitalize the starting word (hint: use .capitalize())"
   ]
  },
  {
   "cell_type": "code",
   "execution_count": 16,
   "metadata": {},
   "outputs": [],
   "source": [
    "#insert 26"
   ]
  },
  {
   "cell_type": "markdown",
   "metadata": {},
   "source": [
    "27.Update the starting_phrase to now be the last two words of the string, with a space in between."
   ]
  },
  {
   "cell_type": "code",
   "execution_count": 17,
   "metadata": {
    "collapsed": true
   },
   "outputs": [],
   "source": [
    "#insert 27"
   ]
  },
  {
   "cell_type": "markdown",
   "metadata": {},
   "source": [
    "28.While the new tweet is less than 140 characters, create a loop that continues to add new words to the new_tweet string by generating a new random number and a new word that follows the last starting_phrase. Each time through the loop, update the starting phrase.\n",
    "\n",
    "Note: You will need to use a try/except because not all pairs of words that you put together are in the word_dict. If you get to a pair that isn't in the word dict, proceed as follows:\n",
    "\n",
    "\n",
    "a.If the pair ends in a period, simply end the sentence.\n",
    "\n",
    "b. If the pair does not end in a period, generate a new random starting phrase and continue creating a new sentence."
   ]
  },
  {
   "cell_type": "code",
   "execution_count": 18,
   "metadata": {
    "collapsed": true
   },
   "outputs": [],
   "source": [
    "#insert 28"
   ]
  },
  {
   "cell_type": "markdown",
   "metadata": {},
   "source": [
    "29.Run the last several lines of code several times. Copy and paste the new_tweet that sounds most realistic below."
   ]
  },
  {
   "cell_type": "code",
   "execution_count": 19,
   "metadata": {
    "collapsed": true
   },
   "outputs": [],
   "source": [
    "#insert 29"
   ]
  },
  {
   "cell_type": "markdown",
   "metadata": {},
   "source": [
    "Optional - Make a chatbot of another celebrity."
   ]
  }
 ],
 "metadata": {
  "kernelspec": {
   "display_name": "Python 3",
   "language": "python",
   "name": "python3"
  },
  "language_info": {
   "codemirror_mode": {
    "name": "ipython",
    "version": 3
   },
   "file_extension": ".py",
   "mimetype": "text/x-python",
   "name": "python",
   "nbconvert_exporter": "python",
   "pygments_lexer": "ipython3",
   "version": "3.6.0"
  }
 },
 "nbformat": 4,
 "nbformat_minor": 2
}
