{
 "cells": [
  {
   "attachments": {},
   "cell_type": "markdown",
   "metadata": {},
   "source": [
    "Selenium\n",
    "---\n",
    "<a class=\"anchor\" id=\"selenium\"></a>\n",
    "\n",
    "Often, you're going to need to go to many different websites to scrape data. The package Selenium automates this process for you. \n",
    "\n",
    "First, we'll need to download it. \n",
    "\n",
    "If you have Anaconda installed already, try typing into your terminal: \n",
    "\n",
    "conda install -c conda-forge selenium\n",
    "\n",
    "OR if that doesn't work:\n",
    "\n",
    "pip install selenium\n",
    "\n",
    "Then download the latest version of chromedriver directly from:\n",
    "\n",
    "https://sites.google.com/a/chromium.org/chromedriver/downloads\n",
    "\n",
    "2. Unzip it and move it into your APPLICATIONS folder.\n",
    "\n",
    "3. Then replace \"chromedriver = /usr/local/bin/chromedriver\" to \"chromedriver = /Applications/chromedriver\" in the cell below.\n",
    "\n",
    "Note: if you have Windows, your pathname will need double backslashes. Something like:\n",
    "\n",
    "chromedriver = \"C:\\\\Users\\\\{Your_user_name}\\\\Desktop\\\\chromedriver\"\n",
    "\n",
    "THEN, DOWNLOAD EVERYTHING IN THIS COCALC FILE TO YOUR LOCAL COMPUTER (YOU CAN'T DO THIS ASSIGNMENT ON COCALC BECAUSE THE SOFTWARE THAT YOU'VE DOWNLOADED IS ON YOUR LOCAL COMPUTER!!!)\n"
   ]
  },
  {
   "cell_type": "code",
   "execution_count": 1,
   "metadata": {
    "collapsed": true
   },
   "outputs": [],
   "source": [
    "from selenium import webdriver\n",
    "from selenium.webdriver.common.keys import Keys\n",
    "\n",
    "# change the next line to whatever your path is!!!\n",
    "chromedriver = \"/usr/local/bin/chromedriver\"\n",
    "driver = webdriver.Chrome(chromedriver)\n",
    "driver.get(\"https://images.google.com\")"
   ]
  },
  {
   "cell_type": "markdown",
   "metadata": {},
   "source": [
    "What happened? You should have gotten a browser window that popped up and went to the google images site. Whoa! What if we want to search for Kanye West pics? We'll need to type something into the search text box. Once again, to find how to reference the text box, we'll right click on it and go to Inspect. \n",
    "\n",
    "<img src=\"selenium1.jpg\" style=\"width: 200px;\"/>\n",
    "\n",
    "\n",
    "<img src=\"selenium2.jpg\" style=\"width: 200px;\"/>\n",
    "\n",
    "It seems to be referenced by id=lst-ib so let's tell Chromium to look for that:"
   ]
  },
  {
   "cell_type": "code",
   "execution_count": 2,
   "metadata": {},
   "outputs": [
    {
     "name": "stdout",
     "output_type": "stream",
     "text": [
      "<selenium.webdriver.remote.webelement.WebElement (session=\"4d0033e0f4249d50bfaf1f4d5b117c9d\", element=\"0.8868646430505551-1\")>\n"
     ]
    }
   ],
   "source": [
    "search_box = driver.find_element_by_id(\"lst-ib\")\n",
    "print(search_box)"
   ]
  },
  {
   "cell_type": "markdown",
   "metadata": {},
   "source": [
    "Okay, it found it. Now let's tell Chromium to type \"Kanye West\" into the search box:"
   ]
  },
  {
   "cell_type": "code",
   "execution_count": 3,
   "metadata": {
    "collapsed": true
   },
   "outputs": [],
   "source": [
    "search_box.send_keys(\"Kanye West\")"
   ]
  },
  {
   "cell_type": "markdown",
   "metadata": {},
   "source": [
    "Did you see what just happened on your google webpage? Now, let's press enter to complete our search:"
   ]
  },
  {
   "cell_type": "code",
   "execution_count": 4,
   "metadata": {
    "collapsed": true
   },
   "outputs": [],
   "source": [
    "search_box.send_keys(Keys.RETURN)"
   ]
  },
  {
   "cell_type": "markdown",
   "metadata": {},
   "source": [
    "What if we want to download the first image that comes up? Right click on it and press inspect. \n",
    "\n",
    "<img src=\"selenium3.jpg\" style=\"width: 200px;\"/>\n",
    "\n",
    "Then right click again on the blue highlighted html text that comes up and choose Copy - XPath. \n",
    "\n",
    "<img src=\"selenium4.jpg\" style=\"width: 200px;\"/>\n",
    "\n",
    "That Xpath is now copied.\n",
    "\n",
    "Now copy that XPath between the SINGLE quotation marks below. Mine is '//*[@id=\"KClmcLGEqPpWJM:\"]' but yours will almost certainly be different."
   ]
  },
  {
   "cell_type": "code",
   "execution_count": 6,
   "metadata": {
    "collapsed": true
   },
   "outputs": [],
   "source": [
    "#search = driver.find_element_by_class_name('srp tbo vasq wf-b')\n",
    "search = driver.find_element_by_xpath('//*[@id=\"gsr\"]')"
   ]
  },
  {
   "cell_type": "markdown",
   "metadata": {},
   "source": [
    "Let's click on this pic:"
   ]
  },
  {
   "cell_type": "code",
   "execution_count": 7,
   "metadata": {
    "collapsed": true
   },
   "outputs": [],
   "source": [
    "search.click()"
   ]
  },
  {
   "cell_type": "markdown",
   "metadata": {},
   "source": [
    "Now we are on a new page. If we wanted to know the url of the page we are currently on, we could type:"
   ]
  },
  {
   "cell_type": "code",
   "execution_count": 8,
   "metadata": {},
   "outputs": [
    {
     "data": {
      "text/plain": [
       "'https://www.google.com/search?tbm=isch&source=hp&biw=1200&bih=672&ei=3YznWqDNJc-ujwOyipqwDA&q=Kanye+West&oq=Kanye+West&gs_l=img.3..0l10.2977.3043.0.5472.10.2.0.0.0.0.228.228.2-1.1.0....0...1ac..64.img..9.1.227....0.eVD_Ex6fSV8#imgrc=mHvIL3Eo6UDJPM:'"
      ]
     },
     "execution_count": 8,
     "metadata": {},
     "output_type": "execute_result"
    }
   ],
   "source": [
    "driver.current_url"
   ]
  },
  {
   "cell_type": "markdown",
   "metadata": {},
   "source": [
    "Okay. Let's use XPath again, which is typically the easiest way to search for something on a webpage. To do this, right click on the larger Kanye image, choose inspect, and see the blue text that got highlighted. Now, right click on the blue text and choose \"Copy - XPath\". It should look like this:\n",
    "\n",
    "<img src=\"xpath.jpg\" style=\"width: 200px;\"/>\n",
    "\n",
    "Now, we can paste what we just copied into this new search. Mine is '//*[@id=\"irc_cc\"]/div[2]/div[1]/div[2]/div[2]/a/img' but yours will almost certainly be different so change it:"
   ]
  },
  {
   "cell_type": "code",
   "execution_count": 11,
   "metadata": {},
   "outputs": [
    {
     "data": {
      "text/plain": [
       "<selenium.webdriver.remote.webelement.WebElement (session=\"4d0033e0f4249d50bfaf1f4d5b117c9d\", element=\"0.3720980681943902-2\")>"
      ]
     },
     "execution_count": 11,
     "metadata": {},
     "output_type": "execute_result"
    }
   ],
   "source": [
    "pic = search.find_element_by_xpath('//*[@id=\"irc_cc\"]/div[2]/div[1]/div[2]/div[2]/a/img')\n",
    "pic\n"
   ]
  },
  {
   "cell_type": "markdown",
   "metadata": {},
   "source": [
    "If there was text stored here that we could scrape off, we could type the following. (In this case, there isn't though):"
   ]
  },
  {
   "cell_type": "code",
   "execution_count": 12,
   "metadata": {},
   "outputs": [
    {
     "name": "stdout",
     "output_type": "stream",
     "text": [
      "\n"
     ]
    }
   ],
   "source": [
    "print(pic.text)"
   ]
  },
  {
   "cell_type": "markdown",
   "metadata": {},
   "source": [
    "What pieces of info might this pic include? To find out, right click-Inspect the Kanye picture again and investigate the text that comes up in blue. It should include something like \"src=...\" and \"class = ....\". We can obtain the class using the following command:"
   ]
  },
  {
   "cell_type": "code",
   "execution_count": 42,
   "metadata": {},
   "outputs": [
    {
     "name": "stdout",
     "output_type": "stream",
     "text": [
      "irc_mi\n"
     ]
    }
   ],
   "source": [
    "myclass = pic.get_attribute('class')\n",
    "print(myclass)"
   ]
  },
  {
   "cell_type": "markdown",
   "metadata": {},
   "source": [
    "To obtain the url, we could type:"
   ]
  },
  {
   "cell_type": "code",
   "execution_count": 41,
   "metadata": {},
   "outputs": [
    {
     "name": "stdout",
     "output_type": "stream",
     "text": [
      "https://www.billboard.com/files/media/kanye-west-2015-a-billboard-1548.jpg\n"
     ]
    }
   ],
   "source": [
    "url = pic.get_attribute('src')\n",
    "print(url)"
   ]
  },
  {
   "cell_type": "markdown",
   "metadata": {},
   "source": [
    "How can we download this picture? We can use requests to communicate with this url and write its contents to a file called kanye.jpg:"
   ]
  },
  {
   "cell_type": "code",
   "execution_count": 43,
   "metadata": {
    "collapsed": true
   },
   "outputs": [],
   "source": [
    "import requests\n",
    "\n",
    "response = requests.get(url)\n",
    "with open('kanye.jpg', 'wb') as f:\n",
    "        f.write(response.content)"
   ]
  },
  {
   "cell_type": "markdown",
   "metadata": {},
   "source": [
    "Notice that you now have a saved image of Kanye in the same folder that this Jupyter Notebook is in!!! Whoaaa."
   ]
  },
  {
   "cell_type": "markdown",
   "metadata": {},
   "source": [
    "How do we close the web browser window? Type:"
   ]
  },
  {
   "cell_type": "code",
   "execution_count": 44,
   "metadata": {
    "collapsed": true
   },
   "outputs": [],
   "source": [
    "driver.close()"
   ]
  },
  {
   "cell_type": "markdown",
   "metadata": {},
   "source": [
    "### Exercise - Selenium 1\n",
    "\n",
    "Use Selenium to go to http://www.boxofficemojo.com/movies/?id=matrix.htm and use Selenium to print the Domestic Total Gross.\n"
   ]
  },
  {
   "cell_type": "code",
   "execution_count": 1,
   "metadata": {
    "collapsed": true
   },
   "outputs": [],
   "source": [
    "#insert 1"
   ]
  },
  {
   "cell_type": "markdown",
   "metadata": {},
   "source": [
    "### Exercise - Selenium 2\n",
    "\n",
    "Use Selenium to go to http://www.imdb.com/ and to type into the search box Kanye West. You won't quite be there yet because two names are listed. "
   ]
  },
  {
   "cell_type": "code",
   "execution_count": null,
   "metadata": {
    "collapsed": true
   },
   "outputs": [],
   "source": [
    "#insert 2"
   ]
  },
  {
   "cell_type": "markdown",
   "metadata": {},
   "source": [
    "### Exercise 3 - Selenium\n",
    "Once you are on Kanye's page, find the src of his face and/or the id of his face."
   ]
  },
  {
   "cell_type": "code",
   "execution_count": null,
   "metadata": {
    "collapsed": true
   },
   "outputs": [],
   "source": [
    "#insert 3"
   ]
  },
  {
   "cell_type": "markdown",
   "metadata": {},
   "source": [
    "### Exercise 4 - Selenium\n",
    "While still on Kanye's page, find the XPath location of the Kanye pic and use Selenium to find the url of the pic and download it as \"kanye2.jpg\". "
   ]
  },
  {
   "cell_type": "code",
   "execution_count": null,
   "metadata": {
    "collapsed": true
   },
   "outputs": [],
   "source": [
    "#insert 4"
   ]
  },
  {
   "cell_type": "markdown",
   "metadata": {},
   "source": [
    "### Selenium and BeautifulSoup\n",
    "\n",
    "Here's another example. Let's use Selenium to get the temperature for all the zip codes in Portland. First go to http://zipcode.org/city/OR/PORTLAND and scroll down to see the list of zip codes.\n",
    "\n",
    "Let's first use BeautifulSoup to get the zip codes. If we right click - inspect the zip codes, we see that the zip codes are listed under class = Link_List_Text. \n",
    "\n",
    "<img src=\"zip1.jpg\" style=\"width: 200px;\"/>\n",
    "\n",
    "We can use Beautiful Soup to find them and save them all to a list. Remember that since there are multiple zip codes we'll use findAll instead of find:"
   ]
  },
  {
   "cell_type": "code",
   "execution_count": 51,
   "metadata": {
    "collapsed": true
   },
   "outputs": [],
   "source": [
    "import requests\n",
    "from bs4 import BeautifulSoup\n",
    "url = 'http://zipcode.org/city/OR/PORTLAND'\n",
    "response = requests.get(url)\n",
    "soup = BeautifulSoup(response.text, \"html.parser\")\n",
    "\n",
    "zip_codes = []\n",
    "data = soup.findAll(class_='List_Link_Text')\n",
    "for link in data:\n",
    "    text = link.get_text()\n",
    "    if 'Zip' in text:\n",
    "        zip_codes.append(' '.join(text.split()[0:1]))"
   ]
  },
  {
   "cell_type": "markdown",
   "metadata": {},
   "source": [
    "Next, let's use Selenium to search the temperature for the zip code 97201.\n",
    "\n",
    "First go to www.weather.gov\n",
    "\n",
    "Let's use right click - inspect - XPath to find the search box location and copy it into the code below:\n",
    "\n",
    "<img src=\"zip2.jpg\" style=\"width: 200px;\"/>"
   ]
  },
  {
   "cell_type": "code",
   "execution_count": 53,
   "metadata": {
    "collapsed": true
   },
   "outputs": [],
   "source": [
    "from selenium import webdriver\n",
    "from selenium.webdriver.common.keys import Keys\n",
    "\n",
    "chromedriver = \"/usr/local/bin/chromedriver\"\n",
    "driver = webdriver.Chrome(chromedriver)\n",
    "url = \"https://www.weather.gov/\"\n",
    "\n",
    "driver.get(url)\n",
    "search = driver.find_element_by_xpath('//*[@id=\"inputstring\"]')"
   ]
  },
  {
   "cell_type": "markdown",
   "metadata": {},
   "source": [
    "Note carefully what you have to do on https://forecast.weather.gov/ to access the weather. You need to click into the text box, type the zip code, press the tab button, and press enter. Let's do that using Selenium:"
   ]
  },
  {
   "cell_type": "code",
   "execution_count": 54,
   "metadata": {
    "collapsed": true
   },
   "outputs": [],
   "source": [
    "search.click()\n",
    "search.send_keys(\"97201\")\n",
    "search.send_keys(\"\\t\")\n",
    "search.send_keys(Keys.RETURN)"
   ]
  },
  {
   "cell_type": "markdown",
   "metadata": {},
   "source": [
    "Unfortunately, we see it didn't work because the website was a little less responsive than our program. Let's close that window."
   ]
  },
  {
   "cell_type": "code",
   "execution_count": null,
   "metadata": {
    "collapsed": true
   },
   "outputs": [],
   "source": [
    "driver.close()"
   ]
  },
  {
   "cell_type": "markdown",
   "metadata": {},
   "source": [
    "To try again, let's add in a few one second delays to give the website time:"
   ]
  },
  {
   "cell_type": "code",
   "execution_count": 56,
   "metadata": {
    "collapsed": true
   },
   "outputs": [],
   "source": [
    "import time\n",
    "\n",
    "chromedriver = \"/usr/local/bin/chromedriver\"\n",
    "driver = webdriver.Chrome(chromedriver)\n",
    "url = \"https://www.weather.gov/\"\n",
    "\n",
    "driver.get(url)\n",
    "search = driver.find_element_by_xpath('//*[@id=\"inputstring\"]')\n",
    "\n",
    "search.click()\n",
    "search.send_keys(\"97201\")\n",
    "search.send_keys(\"\\t\")\n",
    "time.sleep(1)\n",
    "search.send_keys(Keys.RETURN)\n",
    "time.sleep(1)"
   ]
  },
  {
   "cell_type": "markdown",
   "metadata": {},
   "source": [
    "Now that we're in the correct spot, we use Selenium to find the temperature by typing right click - inspect - right click - copy XPath. \n"
   ]
  },
  {
   "cell_type": "code",
   "execution_count": 57,
   "metadata": {},
   "outputs": [
    {
     "data": {
      "text/plain": [
       "'56°F'"
      ]
     },
     "execution_count": 57,
     "metadata": {},
     "output_type": "execute_result"
    }
   ],
   "source": [
    "driver.find_element_by_xpath('//*[@id=\"current_conditions-summary\"]/p[2]').text"
   ]
  },
  {
   "cell_type": "markdown",
   "metadata": {},
   "source": [
    "Finally, we can iterate through the first 10 zip codes of the zip codes we found on the first website to find the temperatures at each and store them to a list."
   ]
  },
  {
   "cell_type": "code",
   "execution_count": 50,
   "metadata": {},
   "outputs": [
    {
     "name": "stdout",
     "output_type": "stream",
     "text": [
      "97201 56°F\n",
      "97202 56°F\n",
      "97203 56°F\n",
      "97204 56°F\n",
      "97205 56°F\n",
      "97206 56°F\n",
      "97207 56°F\n",
      "97208 56°F\n",
      "97209 56°F\n",
      "97210 56°F\n"
     ]
    }
   ],
   "source": [
    "from selenium import webdriver\n",
    "from selenium.webdriver.common.keys import Keys\n",
    "import time\n",
    "\n",
    "temps = []\n",
    "\n",
    "for i in range(10):\n",
    "    \n",
    "    chromedriver = \"/usr/local/bin/chromedriver\"\n",
    "    driver = webdriver.Chrome(chromedriver)\n",
    "    url = \"https://www.weather.gov/\"\n",
    "\n",
    "    driver.get(url)\n",
    "    search = driver.find_element_by_xpath('//*[@id=\"inputstring\"]')\n",
    "\n",
    "    search.click()\n",
    "    search.send_keys(zip_codes[i])\n",
    "    search.send_keys(\"\\t\")\n",
    "    time.sleep(1)\n",
    "    search.send_keys(Keys.RETURN)\n",
    "    time.sleep(1)\n",
    "    \n",
    "    temp = driver.find_element_by_xpath('//*[@id=\"current_conditions-summary\"]/p[2]').text\n",
    "    print(zip_codes[i], temp)\n",
    "    temps.append(temp)\n",
    "    \n",
    "    driver.close()"
   ]
  },
  {
   "cell_type": "markdown",
   "metadata": {},
   "source": [
    "### Exercise - More Selenium 1\n",
    "Use Selenium to go to \"http://www.boxofficemojo.com/movies/?id=matrix.htm\" to print similar movies. Print the new url location."
   ]
  },
  {
   "cell_type": "code",
   "execution_count": 3,
   "metadata": {
    "collapsed": true
   },
   "outputs": [],
   "source": [
    "#insert 1"
   ]
  },
  {
   "cell_type": "markdown",
   "metadata": {},
   "source": [
    "### Exercise - More Selenium 2\n",
    "Use Selenium to save the current url that you are on as \"url\" from the previous exercise. Check the notes above if you forget how to do this. Use pd.read_html to read in the table of similar movies."
   ]
  },
  {
   "cell_type": "code",
   "execution_count": 4,
   "metadata": {
    "collapsed": true
   },
   "outputs": [],
   "source": [
    "#insert 2"
   ]
  },
  {
   "cell_type": "markdown",
   "metadata": {
    "collapsed": true
   },
   "source": [
    "### Exercise - More Selenium 3\n",
    "Use Selenium to log in to your gmail and send an email to your friend with the subject line \"I'M A BOT!\" Note: if xpath doesn't work for some of the items, try using find_element_by_id.\n"
   ]
  },
  {
   "cell_type": "code",
   "execution_count": 75,
   "metadata": {
    "collapsed": true
   },
   "outputs": [],
   "source": [
    "#insert 3"
   ]
  }
 ],
 "metadata": {
  "kernelspec": {
   "display_name": "Python 3",
   "language": "python",
   "name": "python3"
  },
  "language_info": {
   "codemirror_mode": {
    "name": "ipython",
    "version": 3
   },
   "file_extension": ".py",
   "mimetype": "text/x-python",
   "name": "python",
   "nbconvert_exporter": "python",
   "pygments_lexer": "ipython3",
   "version": "3.6.0"
  }
 },
 "nbformat": 4,
 "nbformat_minor": 2
}
