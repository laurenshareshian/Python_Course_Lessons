{
 "cells": [
  {
   "cell_type": "markdown",
   "metadata": {},
   "source": [
    "## Welcome to the Escape Room Challenge\n",
    "\n",
    "Your goal is to escape all 6 rooms of this coding challenge.  Start with Room 1 and proceed until you have escaped!  Good luck."
   ]
  },
  {
   "cell_type": "markdown",
   "metadata": {},
   "source": [
    "---\n",
    "## Room 1:  The Study\n",
    "\n",
    "\n",
    "Starting from the 5th character of the given message (not the fifth index, but the fifth character), print out every 3rd letter.\n",
    "\n",
    "---"
   ]
  },
  {
   "cell_type": "code",
   "execution_count": 15,
   "metadata": {},
   "outputs": [
    {
     "name": "stdout",
     "output_type": "stream",
     "text": [
      "Nice job getting started.  You've already escaped the first room!  Collect a card from Matt or Lauren.  Once you have your card, you can proceed to room number two.  When you get there, you'll need to use the same rule you used here to read the directions for that room.\n"
     ]
    }
   ],
   "source": [
    "### don't change the message\n",
    "message = \"y0shNnqiD?cLteU2 8rjc>oqJb0K <tgIzeSytOptjCi2Nn?Lg_a shsFCtU`aU,rcMtN*e+sdWb.1S ]N |/YYRot>u])').v4jeu( .Ha2tlg^rN=eL8a+?dAjym3 cGe^ss-)cFraRWplhe8td?h HGt<Qh[@eXo n/fHQiE,r8GsSrt_w >}rqooGaoc`mvn!7v R: 9MCu;oqil*>lu9eewckDt2R ewa?7 fKcGSacProWdK4 2cfAnr?>ovDmxi sZM~SaaPt[dthF x|o_Dro~ @2Lf@aa^ueLrE.eL[nHN.=n q{ fMOD.n7`c:7efh 62ys>o,CuFF fGh-EaZDvIZe]N *5yK=o`;uwjrJ9 /|cU|a52rRvdi:,vM ^gyu@o6vuBB 8fcCRa@Qn*v mepPFr.>oE9cxPev^eVWdFl 6jtxzo5. E/rIIon`o/kmy[ kHnXmuaPm-Sb]{eYkrhe 2~tM<wnTouZ.XX F: B(W|;h/rehgn7, Jcy9toP+uxU 8;gdDeglt_= )(t`qhIPe{jr;ve>~,0b O7yUEotYuU9'Jdl<)l>* <wn0:eJ:eewd5G h/tz2o[m +iuu_sgGeA[ x/ty6h*Ierq s>s_Gah-m,.e8m xar-gu;al|/e@` `1yfjomCu1` 2nuZ|sPTeG)dX( 3*hqpeFtr^}eSG 5>t<Wo;- EPruGemzamXdE6 zDtpYhhkehK 4GdMHifprFbe;1cX:tYFiy|o4jn0ws<@ {5f13oR_r;) ]It|4h[.avkt=6 K1rkxoz~oeimB).);\"\n",
    "\n",
    "###\n",
    "# put your code below here\n",
    "print(message[4::3])"
   ]
  },
  {
   "cell_type": "markdown",
   "metadata": {},
   "source": [
    "---\n",
    "\n",
    "## Room 2: The Dining Room\n",
    "\n",
    "---\n",
    "\n",
    "Use the same technique you used in Room 1 to print out the directions for this room."
   ]
  },
  {
   "cell_type": "code",
   "execution_count": 16,
   "metadata": {},
   "outputs": [
    {
     "data": {
      "text/plain": [
       "'Enriqueta'"
      ]
     },
     "execution_count": 16,
     "metadata": {},
     "output_type": "execute_result"
    }
   ],
   "source": [
    "### <don't change this section>\n",
    "directions = \"3GfRF5miNanFid;x Ifty,h(Ge?s iQ43@3FvnICd12 |`p1^e^arBssMyo(<nw5 `Li`Tnn( z8tU?h23ee) t@ls/i/6snrth- hdoEIf-Y 8kn2maUlmsUet<sE9.eR Hy Y9MSVeN_n/_ty+i2IodCnb[ u*t@,h~[aV.tGD X)nPoa_MmQ/eM= txthIoo8 R+LGdabGucVr:|e{7nKW bfoLPrj9 >(M.iaONt;wt@p M+tAPovS h^grie7FtE7 TayL4oZyu8ZrX) T5sSJe5:cl4on.nz}dke ^KcM4aO[r6Cd?].GF\"\n",
    "\n",
    "names = ['Fidela', 'Zack', 'Christopher', 'Del', 'Lashonda', 'Madalyn', 'Noble', 'Francie', 'Keva', 'Julia', 'Rolando', 'Alex', 'Stephania', 'Alana', 'Lu', 'Shanika', 'Lianne', 'Leeann', 'Violeta', 'Hoa', 'Shelley', 'Kathaleen', 'Simona', 'Lesli', 'Sherly', 'Wilbur', 'Elijah', 'Kristopher', 'Katina', 'Freeda', 'Whitley', 'Kimberley', 'Pearlie', 'Mayme', 'Tomi', 'Verline', 'Rory', 'Delaine', 'Lilliana', 'Floretta', 'Martine', 'Chere', 'Enriqueta', 'Maryalice', 'Nenita', 'Juan', 'Jordon', 'Delana', 'Hannelore', 'Ella', 'Karena', 'Joshua', 'Bettina', 'Kimberlee', 'Spring', 'Vertie', 'Robby', 'Tobie', 'Dominique', 'Bruna', 'Malcom', 'Irish', 'Avis', 'Brenton', 'Natalia', 'Marya', 'Lanelle', 'Talia', 'Shawn', 'Ghislaine', 'Dianne', 'Bobby', 'Yajaira', 'Luci', 'Terrie', 'Jody', 'Conchita', 'Abdul', 'Dorinda', 'Velda', 'Kassandra', 'Therese', 'Arthur', 'Meghan', 'Tamera', 'Ying', 'Marjory', 'Bibi', 'Lavenia', 'Sheila', 'Lien', 'Shirlene', 'Shanel', 'America', 'Dominick', 'Johnnie', 'Anjanette', 'Maren', 'Adina', 'Doreen', 'Odelia', 'Allen', 'Jean', 'Latoria', 'Dawna', 'Jasper', 'Jessika', 'Rose', 'Alexandra', 'Steven', 'Nelida', 'Verna', 'Albert', 'Virgilio', 'Marissa', 'Glynda', 'Adella', 'Ming', 'Judith', 'Deena', 'Zana', 'Adrienne', 'Efrain', 'Hyacinth', 'Shantel', 'Mack', 'Adeline', 'Tennie', 'Tiara', 'Adolfo', 'Azucena', 'Christeen', 'Marcell', 'Margeret', 'Sima', 'Anita', 'Janeen', 'Corina', 'Vasiliki', 'Merna', 'Preston', 'Antone', 'Kam', 'Malcom', 'Carlos', 'Eliz', 'Amiee', 'Darci', 'Corrie', 'Vernon', 'Eunice', 'Danyelle', 'Kenyatta', 'Shay', 'Josette', 'Phillis', 'Shelba', 'Stepanie', 'Ned', 'Erwin', 'Usha', 'Meaghan', 'Stacy', 'Garth', 'Rolanda', 'Elayne', 'Kerstin', 'Willette', 'Lacresha', 'Allie', 'Margie', 'Lourdes', 'Roberta', 'Clark', 'Lorelei', 'Vella', 'Kristel', 'Barry', 'Nettie', 'Louella', 'Carolyn', 'Shela', 'Cherlyn', 'Ricki', 'Mary', 'Waldo', 'Hilaria', 'Herminia', 'Elmo', 'Susannah', 'Stefani', 'Ngan', 'Candis', 'Emeline', 'Ross', 'Ellamae', 'Elvis', 'Wen', 'Daina', 'Rachal', 'Tamiko', 'Silvana', 'Jeanene', 'Jana', 'Melodie', 'Cherish', 'Zoraida', 'Ardis', 'Terra', 'Esmeralda', 'Samuel', 'Bianca', 'Nichole', 'Myra', 'Karyl', 'Caleb', 'Caryl', 'Dannie', 'Judson', 'Donovan', 'Ocie', 'Joetta', 'Vernita', 'Candelaria', 'Lizzette', 'Pinkie', 'Ricardo', 'Nannie', 'Andreas', 'Karma', 'Orval', 'Katelin', 'Ronni', 'Daisy', 'Sheri', 'Ricky', 'Darrin', 'Lavenia', 'Lyndon', 'Dacia', 'Lorilee', 'Reid', 'Zenaida', 'Austin', 'Rosemarie', 'Cleotilde', 'Porter', 'Vicente', 'Cathey', 'Allyn']\n",
    "### \n",
    "\n",
    "# put your code below here\n",
    "directions[4::3]\n",
    "names[42]"
   ]
  },
  {
   "cell_type": "markdown",
   "metadata": {},
   "source": [
    "---\n",
    "\n",
    "## Room 3: The Kitchen\n",
    "\n",
    "---\n"
   ]
  },
  {
   "cell_type": "code",
   "execution_count": 17,
   "metadata": {},
   "outputs": [
    {
     "name": "stdout",
     "output_type": "stream",
     "text": [
      "Find all the names that appear more than once in the list of names in room 2.  When you find them, tell Lauren or Matt to get your 3rd card!\n"
     ]
    }
   ],
   "source": [
    "### Enter the name you found from Room 2 below, then `run` this cell\n",
    "### If you don't get readable directions, then go back to Room 2\n",
    "name_from_room_2 = \"Enriqueta\"\n",
    "\n",
    "import base64\n",
    "\n",
    "def decode_cipher(key, enc):\n",
    "    dec = []\n",
    "    enc = base64.urlsafe_b64decode(enc).decode()\n",
    "    for i in range(len(enc)):\n",
    "        key_c = key[i % len(key)]\n",
    "        dec_c = chr((256 + ord(enc[i]) - ord(key_c)) % 256)\n",
    "        dec.append(dec_c)\n",
    "    return \"\".join(dec)\n",
    "\n",
    "###\n",
    "directions = \"wovDl8Ogw43CkcOWw5HDoMKBwrnDlsOXwonDn8OWw5LDmcOUZcOiw5rDisOlwpXDhsOkw5HCqsOPw6TCicOew6TDl8OZwoHCucOWw5PDl8KRw6TDk8OXw4Zlw5fDoMKJw6XDncOKwpTDjcKuw6HDpsKJw6DDm8KFw6LDgsKyw5PDpcKJw5rDo8KFw6bDkMK0w5vCksKbwp_ClcKFw4vDicKqw5zCksOiw6DDqsKFw5rDisKzw5LCksOdw5nDmsOSwqDCgcK5w5PDnsOVwpHDgcOGw6nDk8Kqw5zCksOYw6PClcKyw5XDlcK5wo7DpsOYwpHDnMOKw6jCgcK-w53Dp8ObwpHCqMOXw5jCgcKow4_DpMONwpI=\"\n",
    "print(decode_cipher(name_from_room_2, directions))\n",
    "###\n"
   ]
  },
  {
   "cell_type": "markdown",
   "metadata": {},
   "source": [
    "---\n",
    "# Welcome to Room 4:  The Conservatory\n",
    "---\n",
    "I flipped a coin 1500 times.  The list of my flips, in the order I flipped them is below.\n",
    "\n",
    "Your job is to find the string of flips with the highest percentage of HEADS or TAILS less than 100%.\n",
    "\n",
    "For example HHT is 66% HEADS.  HTHHH is 80% HEADS, but TTTTHTTTT is 88.9% TAILS, so that would be the winning streak.\n",
    "\n",
    "To be correct, you need to find the best streak (it could be for HEADS or TAILS)"
   ]
  },
  {
   "cell_type": "code",
   "execution_count": 28,
   "metadata": {},
   "outputs": [
    {
     "name": "stdout",
     "output_type": "stream",
     "text": [
      "0.0 T\n",
      "0.0 TT\n",
      "0.0 TTT\n",
      "0.25 TTTH\n",
      "0.75 TTTH\n",
      "0.8 TTTHT\n",
      "0.8 HTHHH\n",
      "0.8333333333333334 HTHHHH\n",
      "0.8571428571428571 HTHHHHH\n",
      "0.8571428571428571 HHTHHHH\n",
      "0.8571428571428571 TTTTHTT\n",
      "0.875 TTTTHTTT\n",
      "0.875 TTTHTTTT\n",
      "0.875 TTTTHTTT\n",
      "0.8888888888888888 TTTTHTTTT\n",
      "0.8888888888888888 TTTTTTHTT\n",
      "0.8888888888888888 HTTTTTTTT\n",
      "0.8888888888888888 TTTTTTTTH\n",
      "0.9 TTTTTTTTHT\n",
      "0.9 HTTTTTTTTT\n",
      "0.9 TTTTTTTTTH\n",
      "0.9090909090909091 TTTTTTTTTHT\n",
      "0.9090909090909091 TTTTTHTTTTT\n",
      "0.9166666666666666 TTTTTHTTTTTT\n",
      "0.9230769230769231 TTTTTHTTTTTTT\n",
      "0.9285714285714286 TTTTTHTTTTTTTT\n",
      "0.9285714285714286 HHTHHHHHHHHHHH\n"
     ]
    }
   ],
   "source": [
    "flips = \"TTTHTHTTHTHHHHHTTHHTHHHHTTTTHHHHTTHTHHTTHTTHTHTTHHTTTTHTTTHTTHHTTHHHTHHTHTHTHHTHTHTTHTHHTTHTTHTHTHHHHHTTTHTHTTHHHHTTTTTHHHHTTTHHTHHTTTHTTTTHTTTTHHTTTTTTHTTHTTHTTHHHTHTTTHTTTHHTHTTTTHHTHHTHHHHTTTHTHTTHHHHHTTTTTHHTHTHHHHHTTTTTTTTHTHHTTTTTTHHTHTHTTTHHTHHHTTHHTTTHTTHTTHHHTTHHHHTHHHTHTHTTHTHTTHHTTHHHHTTHTHTTHTTHTHTTHHHTHTHTHTHHTHHHHHHTHHTHHHTTTTHTTHTHHTTTHTTTHTHHHTTTTTTTTTHTHTHHTHHTTHHTHTTTHHTTTTHTHTHTTTTHHTHTHHHHTTTHHHHHHTHHHTHTTHTTTTHTHTHHTTHHHHTTHTHTTTTTTTTHHHTTHTHTTHTHHHHHHTTHTTHTTHTTHTHTTHTTHTHHHHTHTHTHHHHTTTTTHTTTTTTTTHTHHTHTHTTTTHTTHTHHHHTTHHHHTHTTHHHTTHHHTHTTHTTTHTHHHTHTTTTHTTTTHTTHTTHTTTTHHHTHHHHTTHHTTTHHTTHTHHTTHTHTHHTTTHHTHTTTTHHTTHHTTHTTHHHTHHTHTTTHHHHTTHHTTTTTTHTTHHTHTTTTTTTHTHTHHTTHTHTTHTTTTHTHHHHTHTHTHTTTHTTHHTTTHHHHHTHHTTTTHHTHTHTHTTTHHHTTTTHTHHTTHTHTTTHHHHTHHTHTHHTHHHHHHHHHHHTHTHTTTTHHTHTHTTHHHTTHHHTTTTTTTHHTHHHHTHHTHHHHTHTHTHHHHHHHTHTHTTTHTHHTHTTHTTTTHTTHTHHTTHTHTTHTHHHTTHHTHTHHHTTTTHTHTTHHHTTHHTTTHTTTTTHTTTHHHHHHTTHTTHTTTHHTHHTTHTTTTHHTHTTTTHTHTHTHTTTTTHTHTTTTTTHTHHTTTTHTHTHHTTTTHTTTTHHHHHHHHTHTHHTTHHHHTHTTHHHHTHTTHHHHHHTTHHHHHTHHTHTHTTTTHTHHHTHHHHTTHHHTHHTTHHTHTHHTTTHHTTHHTTTHTTTTTTHTTHHHTHTHTTHTHHHHHHHHHHTHHTHHTHHTHHTTTTTTHTHHTHHTTHHHTHTTTHTTTHTTTTTHTTTTTHHHTHTTHHHHTTTHHTHTHHHTTTHHTHTTTTHHHTTHTTHHTTHHHHTHTTTTHHHHHTTTTHHHHTTTHTHTHHTTTTTTTHHHTHTTHHTTTTTTTTTTHTTHHTHTTHHHTTHTTHTTTTHHHTTTHHTHHHHTTHTTTHHTTHHTTTTTHTHTTTHHHHHTHTTHTHHHHHTTTHTTTHTTHHTTHHHTTHTTHTTHHHHTTTTTTHHHTTHTTHTTHTTHHTHHHHHHTTHTTHHHHTTTHHTHHTTTTTTHHHHHTTHTTHHTHHHHHTTTHTTTTHHHHTTTTHHHTHTHTHTHHHHTTHHT\"\n",
    "#flips = 'THTH'\n",
    "best = 0\n",
    "# put your code below here\n",
    "for i in range(len(flips)):\n",
    "    for j in range(len(flips[i:])):\n",
    "        streak = flips[i:i+j+1]\n",
    "        pct = streak.count('H')/len(streak)\n",
    "        if pct < 1 and pct >= best:\n",
    "            best = pct\n",
    "            best_streak = streak\n",
    "            print(pct, streak)\n",
    "        pct = streak.count('T')/len(streak)\n",
    "        if pct < 1 and pct >= best:\n",
    "            best = pct\n",
    "            best_streak = streak\n",
    "            print(pct, streak)\n",
    "        \n",
    "        \n",
    "        "
   ]
  },
  {
   "cell_type": "markdown",
   "metadata": {},
   "source": [
    "## Use the cell below to Check Your Answer"
   ]
  },
  {
   "cell_type": "code",
   "execution_count": 12,
   "metadata": {},
   "outputs": [
    {
     "name": "stdout",
     "output_type": "stream",
     "text": [
      "1081306341238893481\n",
      "1299542455098972403\n"
     ]
    }
   ],
   "source": [
    "print(hash('TTTTTHTTTTTTTT'))\n",
    "print(hash('HHTHHHHHHHHHHH'))"
   ]
  },
  {
   "cell_type": "code",
   "execution_count": 19,
   "metadata": {},
   "outputs": [
    {
     "name": "stdout",
     "output_type": "stream",
     "text": [
      "That's not it, try again\n"
     ]
    }
   ],
   "source": [
    "### To check your answer, enter the winning streak here (ALL CAPS, not spaces), then run this cell:\n",
    "my_answer_to_room4 = \"<PUT YOUR STREAK HERE>\"\n",
    "#\n",
    "\n",
    "def check_room4(flips):\n",
    "    import hashlib\n",
    "    if hashlib.md5(flips.encode('utf-8')).hexdigest() in [\"2350210de48f0a7db1c5fa660669304e\",\"d3478b325f3e6bc8c821da3cb533b50e\"]:\n",
    "        print(\"You're correct\")\n",
    "    else:\n",
    "        print(\"That's not it, try again\")\n",
    "        \n",
    "check_room4(my_answer_to_room4)\n"
   ]
  },
  {
   "cell_type": "markdown",
   "metadata": {},
   "source": [
    "# Room 5:  The Library\n",
    "\n",
    "The following string can be decoded by reading every `x` character starting from index position `y`.  Unfortunately, I don't really remember what `x` and `y` were.  Frowny face.  I do remember that `x` was a prime number less than 50 and `y` was a multiple of 7 and less than 100.  If you can decode the message, you have escaped the Library!\n",
    "\n",
    "* HINT: the decoded message does contain the word \"Library\""
   ]
  },
  {
   "cell_type": "code",
   "execution_count": 20,
   "metadata": {},
   "outputs": [
    {
     "name": "stdout",
     "output_type": "stream",
     "text": [
      "63 37 Really Excellent work!  You have escaped the Library! Tell Lauren or Matt the prime number and multiple you used.\n"
     ]
    }
   ],
   "source": [
    "### BE CAREFUL NOT TO CHANGE THE MESSAGE BELOW\n",
    "\n",
    "message = \"b`Q_dK)CV=j^@pe)gF-;;0a7@C[0{s+0@I<MNgv:Z7iiR-0=JCQ=/Z;;6Ua^2OXR-GL8^.qruF0lG4eMvTFur{2wg`JXiNbZxA(iehz=n5/H{THoI(YMiMX<4(M<<i1Zry*>xn=kdasB-1Mntuh@GQpZuT3SvgKsp>,/W{KZ]rTv8Ml]<Pg8P3{3G:@Pm*Mir@0E472n{>O;.Tt-N-nl~^Mi^si(WAof-knw3NFj3e,DEKUmW:H4)WLQyL.:B+ME(s/<Qqzldkr7mVl[oVN_YVpL-`zeB ][DVhOyFf*9?zeFIrPx84YWA:f/oxY_<YR}kEkXAp1^w(^2o|M-N<i_`m3IfhXW^]+@;Q2OXSx,0d9:(fOmU*@UUn)L{sx`(P]H?2T/pjBp6-jc<Z0ncpYy^)+LXQk,-XQvFEl*a{YMEy,*+])*ei0GTdeuoDYh>J23?bL17^Bw}0zICNK~T.)g<l3-xLDSZ=EV{wcHCXfLO|`*JdxW:2u:lb0^8Zlb)7]]3lX.|QPmFys=nKsdD+yM5oOLxHslZLiec)uA{xo*[t8_7ET_;oidDT[iOT@B9+(xS~:)nK~,~}gz6>3@?e:a*CequI}8>4dLVRIgAxH:]t>Yuxhkv}=UA^3PDc?3a`ViiZM~qD?7<B/|C[ JqN4+_fL*DzrBzz6EcPuXi-u.Bb=~vNKrSH6w.a5.C@Av,t]IB{~/7^Dmd;8kJ.g4eim^`JgWol4<*yD05|fA;~RWr;Zpj>a-/c.CX7q9gN+7@rIZnHH`fQUygcU-[fSf8ldQc{Y~WyzjQo8W@qkLT;lpY,LkCcDJ>a3d;XX^BEL|*^fhMS>*WHx!n,ENtN6=3L7EP[gETEACEO9G)+93D}v_8yBJ ?<w>-a_r-Zv~BvBoB/62fM{H**o?)M1cy,6U i`??KF*JMeGuu3?_TLVluGKqXYnFT>a8-[52Y/R^CJQy7uLL=g1J]szS3@0{Eq,OceC_W-+<ioap0QBzwgHj@|Ctk0P`xKeE*036a4Vjqo}>Zou(>n9YhI`PA)Z.x9|Wg(9st/3q[,N1+/=/tNz ,AkfMp+Ud<5[L_RSnkJKZJ8gCWZ>E7Grmtn5he@mNTq7GL5,XoG:K1L8,|O~yv0)9W+eh1)-La-j^{ZG1<?zzAx?E}I~0HAOH>xYJ3ae?J=klBv,//[7oS~EWID)U0fiQ*W;uw)|POrhK+D)sz3e[8@w*L8UwxTx3:R:s*.)BhirtY_y.Nib`r5O {|xAn]*3Xl|dRQ[Y<Yezi.wLjowy]~QxF5gHe~sGJJ@b<Wzv8lQX.m{KJ`lrY?ld)x^Rz3KEVspgQ>Vb8nt?m9fidF~>KtgLZl<qPqMRf)E6,:c8.JIu0Vj(YAi1LfBzl6Tg{475ORy9,LK^Q|,aZv`)B6k|9OmAJZel-SP`{VQ1{_-MWUf?rvjHp81e4@m6T@Vr(z3*Gfki;-w1+lF<v7QEA+c=meGZuMrF|7_t1VobjKI|>/IIx.>LpzJbNtyfyGd:ID8:*)}iNygoH+o~{=NssRQ;ei.1V|o)H/| i)EWie^N}x]b@=V}=Gv1`:.65M_p,vs6zFvntR5u+0BK-*ZLHLU(idUFV`g40}oP1YapDUp0ehhiPWRKDvY,B>9nq@eqlpC26qHH(s|H-yM~)le|[F*N(v(o?Dq_|y3SglNlBf[vz;hAG[D|Pi) I_~LbeOT{qVd:xMG;_>;]f7XHcpk~7{.X-6`LVXfv;9(qjXA(Q[Ov/Z4nfs_R<?7.Hz4O>-{ginB?C:)?P@>2{k+q^DRw6tW(P/9H<J48+aThlbmR->)V,(>w`NOFTazCim`V7;4ztzMwCh7Z_Ar,wASAU}~Guka_S*};8J+k57ha^D3dQG88<QSajI.oh08=julv|j-RBWblrK/-TOml+;2l)[TBr5dN{/YIjzBiV[AsfcimnlkFnguJdgtt)qIAGywb+QKRtUm{(1zg=,i+NeU2U[Y7rbrF5Zf,ho!AK]3Sl:S{*Dm(8M*:*|le^{w4-]?c30ZpZc6 |CD}C7qXq+8}~xy.8amCG8Z2WCZLWC=FC}-ZT5}vbd4|cii)U02r7GVu3k(3T_Y(ktC<gJuPJewHFddRa@RIElpBvtzN`.URt4Xggg:>,-Z25?lUQ[Rh{reKb_v7dP:BU16~*8.tq-B@^jbQjdyluq?lR(;M0K3+Hl8I9(w<iY6g8>@2zyZkk4), C(/q;H-t~_Wa{4?hK]eiYErXvp8d(?p|d/XDLW]YpSMq4Mi[NJb1/cBZ-RKrXHj(vA)o:1PykanDtIPf[|h1xM[BN0ccA<ZI^rXgn6?1t=_skyueFU[2zH(Bn/]*q6</jZ]iKPr``fA+D><7svArNSwysfmzI/W6m5).+DGFBycm]befKF70*=fwex<6j[K9As|kCY)0Fu0=HOPCi69IC7O9ggVFQnpS6-P^whF@K9=95^n<:98,6ak8S8rtV5,5Fi uT8K)N*o-9u+hN]s0-AQ_z=9o2RvIUlPz?+Mo9F>(y)0HRfCMy7Rwuv]OO?RrcvQV]cLGv42Er(=TH@m/S8]KX]?8s*5]V8e::lAHWCeO<-;8) ?zs*lrHSYuD`4?kG1`Y0-87SI2TCA<.IZ<]9MV2*n*tX)OarV|PtZg5K8?mh4R3I6Pz.](antagAF^4F+hJHV~,A312TP{UTePNmb[-Wbl1(3Xt[mCkM0/iyMp{?}>b2<TguoV>3XcI`Yv7wl(=t^H`r0QCRH(`H*T_Ihlqsqm*bpxkql`@_t:?g 2sU`Kd?f_9Ax|m*@ngq=fck|,P0f,0Jx7~gWtYK^9J?(]^+;=gJ:3+|^EIRPE?[j{k56^e=dOhlKAdmsEeKn0Ue(VbkpTR{+:Qn:<Gv[o~:L}dez2>XVGm-SF60l8e5[?{0KoXD/eX~aw=Jy}:4 {RozHn2Iulxfr3VuodGoj[RpR12lGbhzeZ|Jp|Ux,CNUQQKetx0B7x~hDWd?|R7l>W3-MU;WNrK@v|Ipt=[,ar<2ZSK`1g7d`~=/(Ma/MP+Qmmip9NJKs>ten1wBh}`1iCGu4{Yzc*_e_LY[j]jm6[^SD-b<MW7<Y.<YH4Lzqn>{is/ufaDL*.|Ee3(uATa{s|akC1fiWV8V^10BTBbKBJxat7BVx {Zyf+51|.u`}K_v0/qIf]NS81F*~|o+Geeg*nt/kTs};]+zUe<~6xHRAA+:s0wT+=Ch@DqwXQu*pf{TbXelStq?Xq=LKr^KCr=72sp.SbZgq^km+Z4y{-*<I~.]^:VK_a|?:i5{^M+:1UQ@Le9ib9Lse{FD8L{f{P7EhS6.vtxtWKuj/PZ/R,GUie3~DRQfzf]fDB[Z.f=oO]{[=i5B2=@SkU]UabrKt<odBd`(=,^fb2d,.{-:A/0.1)Aq_(y^UpM wjJGwA=}oHO]UpUbr9-lV.4cL9+P49:Cp~y>afv*p|Ljuh{5l|N[XX9`)]<_WJ]p1A*rhpQicny<jSJpQlrw}1Uj<Gy`{5,.|@j|Pnm,>R{,~qdH:>@B0,l+,V2tC~S7p2_h+Z|5^Y0[dRz[Bor *jP;2R)g<d]dp(jH0j3AvRThGILU{FuOXGs*mVDFhiO/1){^sZwB4|n_cH|L-lpjZZ)wBzXe=u[jN2*6g951cG+dg:(HERd6_y4ywOg]V]j,]:lQ]{U`/q@ouwxV|y-k7yPU-cY.p1)@Tj)mT,JtR.qrDtV2^/dJNwL>66i0K?^Ey]vw]WDwIZkIiU`h[f4xTv]rF-LJ<9UuNiq|y]eOIEH@b*ZE3pQHZ8@HX{Djx;W|.-icxyjSZm`*A+R/Xq6VwYl797L<]HSV7G;P~+i<Z0,x^C8;ZF<I-yYqnNEe89H_a5]tk[{nPK_[J(Wdhtv9nZlJ]0xHHxCQ Myr`Jle}>+.o8f3gEuaACtdg+*j.9WFFnnz9y)=UC[Sz.6>6Fb;t8mBKXEmd3rzwTZ[+i@@H|oZ;]tx)a=[s^)V0Ud=wgsIMLg<kzT;fg{]:vou51z9j<KV|D6}=A<d[8sptmd<VLY+5m8m<4.f Wg[00HJ[8*HE2l4gTkXLC:qr*ifb^6sWm:S*uRPK|@Ou>YN15cI=?vbCPw.v~E+yIyqpoo.EXsN?6GWEkNYFinQl1~u)G|;[7L5.<E-i`vv6DbeSQ)0o.{jv6ePnt7X8/j|_K?^K{FVsz;(Q]+2dKu3D+8Pbwl4o[H^bsBEllY>o+iM}xtG,7v}|.;OB9nEKN@kY40q+)OJ(D|_-3BP_@MarK]UJU\"\n",
    "\n",
    "###\n",
    "# put your code for the The Library below\n",
    "for i in range(0,101,7):\n",
    "    for j in range(1,50):\n",
    "        if \"library\" in message[i::j].lower():\n",
    "            print(i,j,message[i::j])"
   ]
  },
  {
   "cell_type": "code",
   "execution_count": 22,
   "metadata": {},
   "outputs": [
    {
     "name": "stdout",
     "output_type": "stream",
     "text": [
      "37 63 Really Excellent work!  You have escaped the Library! Tell Lauren or Matt the prime number and multiple you used.\n"
     ]
    }
   ],
   "source": [
    "for i in range(2,50):\n",
    "    for j in range(7,100,7):\n",
    "        if \"Library\" in message[j::i]:\n",
    "            print(i,j,message[j::i])"
   ]
  },
  {
   "cell_type": "markdown",
   "metadata": {},
   "source": [
    "---\n",
    "# Room 6: The Billiard Room\n",
    "---\n",
    "\n",
    "To decode your final message:  start from one of the first 10 letters of the encoded message (sorry, can't tell you which letter).  The next letter is one letter to the right of that one, the next letter is then 2 to the right of that letter, the next is 3 to the right, then 4 then 5 etc.  There is a catch, however, if the letter in the pattern above is followed by a vowel (a, e, i, o or u) then that letter is NOT part of the message.  Show the decoded message and it's answer to Lauren or Matt.\n",
    "\n",
    "For example, using the above rules, this message decodes to:  EXAMPLE\n",
    "\n",
    "\n",
    "    AraeYmeEX4A1hMx%8Pt7k#Lm%3db6iz1p%yEc7qd4sk\n",
    "           ^^ ^  ^   ^    ^     ^^     ^\n",
    "           EX.A..M...P....L.....|......E\n",
    "                                do not include this one because it is followed by `i`\n",
    "                                \n",
    "* hint, the word **'encoded'** can be found in the message decoded message"
   ]
  },
  {
   "cell_type": "code",
   "execution_count": 24,
   "metadata": {},
   "outputs": [],
   "source": [
    "### DO NOT CHANGE THE SECRET MESSAGE, or you will never get the right answer\n",
    "secret_message = \"jTh5ekamdTh7erd 21hwl#kcsut5d2o8x$36brlgz)5q^dndg7v(d3 jyn8x%^#)kufzv)3y37qp2tt^5g48bwlyg3grqh(6plfgtybh7$hp535%mzxelj%^hck4yhb)45ed)$dk2pwt8t64xh)q6tm%yvjkdtt#mrol3ck7jh2k28$gpx75n8z2s72jlh2f6tfpqh) l)81fzzkscnldp)vktzcrv44lpk3rphh8)xxdbr#pap$fz41b8hpll7w#n7)lfaqf8yd%n77dcd%(zm64qchpn^nz6mc)$lynsddj%4m2cjr% gktp(7bcxhrbdm$^hhjlq%dfbwlrhg#bp5c1$g2kkd##56g756e25fb^6w%p)g4rdyx37qg(prcy6 j4jn#ld#(#38z8zs6bqjvvjb7)%f%68cbczf8tph)#j6(y78dh5w(jnto)fjfgs^x$)sw77msfx3jmb5xcx1r3udb2jlwd871fr7^bdn1%23k#p3wc8p)ngy%ykyk2nnynbr1cf(4)s3nhlpnz1ljdx^(^txdvp(28#8lhzkx(1%4z2dh8j3k7 (1yhwcpython5xk1k$8%pk6p#2#m(2mryiwzc2gp14%xdbm4$5l8$v8^5mtph1z$13r^nn$tvc7dhlwpkl74q(7crh#2kyc3c)#gs78nwunhb$tm$c%(^2gvj)kcn3rp8%fxmgg$4x216ra5bj#z#qkb142shcmxrtq2%75rjxmhf%ztt3c 1%sz^x6lg)$6ttvlx1sf5^p$tdn)dx7pd7c^1(t3ltn55dm($ytw8f44nnwc8r8kn4%ct7dygh6s6)4irw3x2lcl)nlqxf6qjnfmd3%ml^gvb62wwxvk7j4celg7(wk2x12658hst6rdj8x%%72q)jdns261cfq^whzc8pgbdtv5yz%4^(b)xtm1%4vy1^5ft6lyww6sjtrccicwmbc#rcplsfy4h2)m(bg$lckpfg()qd3#s1stf^n(et$pjlm7t^yzljqvx%3$1236%8n(g5tjtlr5^8kz)p)gg sn)twrb^pj8b8x7#c$%k1c)7)yv2#w1cnyxptv65(6j87esjg7f8()zxgl(1tbmz#x^c7kdn2(5qkjl#lrvd3(bk2b^cnvyw1ljpqwz%g)wwf%jww2q$k(xv(tz343qcbn3)5km2frbncf%vhrhw%g3sxlrs(7(f5$8sv8pzq6yk5ht5nxnn2#h6tw)zko77t6cr)66m3%qvy1kn4#4hlyryv3)q(7c^78y#bvs43hn(%)6d1zl#%478xj^xj%31()qw%z6^cs%h36f7t)jp5vxbv%f$ftkrv^ecfrh1m3f6jbj)4kgr2yx55spw$zz$#265z75vgnyn(c5rn1k%sjdypc3k5v1yk3lbtdqkc13)gdv%zr65zc6#pmpfwpnds$x71sj57r5 kml$m2zv%()r$815x5r$#njwbqjb14t)447m(^h)r)7)vm45gs6$%wu74bnhp74zpr2#pv$h%tchlm)8)#ysn%5pgkjj462^wcvtzjjv8zkrwez%t8(b57qv6bmbvj1j7x4w^5#g7^frfq5qkn2j$$8ghdh6bgp5jpdzm)#73gmyfn%cx1(8gff8lgtb1k)5rdjgx$g%hqrdvbnv6bln3#6kf3xbweqzc3f8njqb%1c2g3sp%scqxnkpl$b))y1b%n1xy)3k5#tjpx3qxl5d2f3stf(xh%tkhd$k32#z#126hqlmsymfcm%mmv1s2n3d%4s5ld4yx(6h2z2f1ts2sh^#h#($8$l#jjn6nw6lb25b(jw1k(n4vsk2mwlz)57jd1)s7rczm(5%nxremj26t5zdpcr1fxs3yscdk%dq64^3mtf)bk2#65hn()tqbt21$c%4x1#6g#5a)l7p)gthns3bklmh5zshhhhfvvm)wp$l)jy85tkt2zk27^^)gcjt27w5ydwxxxu2m$n8ksmfhfqw5k8vlxz#451tck5(gglwljn7bv5sz5jwpr22148wy)$(dgr5gh(r336$f4yzczxvcfz2h%jpbrl5gk)y%#5%p)^xbdfm38#w^j$rrcs3g34jmdw)pay83^$#yy8jd^$rk4p43bw5mq2k#rl6czbspd)^t7mypfwpc(b%l$y1hg8bx8v3de2ff#prtcvl)t8kjy4zlkv%pd#$%)md6z^mk4768vl7j1378#kjsb(nrhnmpg^^1v^,2r6rc4l$jqwnjwcp4h7jpfk)y76n5vrh7dzy5fmk33%8c25c$zzl$tc)nqvkdt7z^b trhr%fh$zbqq(chs8d)$r%5433gt3(365kmzk4cpq3w6wwb4m%cndvrbkbzmtg#fj#%whny1))w8yp2kpz#)(v)fh2jp#^14g6%v)t8mn6qz#8ykwl6$46hbx24g117kzgnwnng7hhkc51888$6l515zq)h6$b#d3lzkxfc#8ct#h2xnp5d553x58mrtpl5l575#pvcp46^stc#o^z$wcfc71trhw(2g3m4)%x2s##76jgqgtd4rl%^hs8(cbnw7jq3ryfzt#k$p4(p$8kk$kamf2n6c1k4s6$57mhljjh(82y372%%xsgq46gpm2vx$473n)fb7#gy)6bpx4%t2%bd8ffp1rth^d^rgzmk6mcgl#b6r3fyyy7%zw3$4%3lgm)mb1^qf5c6v3%spnj5p8mfpb2ry#^wglg2#qw )1dwnl3cd#%5#6rvmht4wxdm^(nbtf834wbfy6lqvcnshhw)tzhtw16bd^kyf#q2wzh)rnsbwhunc)jjnz4(1lxk6n4c#c)4(r#6jdr2gcp5wh%4)mgbl7wbjc$$#t5j(myfy2wns%7mdd)2f3nji))k6dd$l1y1w2c33dgwngblc48jblbh1zj21zr1mjwzrwlrfp#%82q1wg73sy%2$$4%1wvkn56^sxqsbb)t3smp45y31t82)jbbw14sjw$dq4w^dws77trkcxf8db($5)x5jq8664ksphnc1vj3l^b6d 2f53c(186r$(^smw52$f3rkkh1m)2mvkl#$mr)1xz1qkprzvlmj5gq4ndjwgyjmvd%ldvqt#85zngtds5w%f6p4j#5mj6w2jg%l^lg#myfz2qltq)l3#vrygn1j34m3l6pq7(bx)dtlc(j%ng^6tgvcty)%^h13jrx38jnlfwn56vm1xgd2752spcnrfy(b4t)^zwrr#y)j18kxv5fs%zwmwgfklwth(%dmgs%tbclnqe^8%#p^kgp8rrg8^2crgyzc476ffzc48(wn#3zrzf16nkrrkm(f7yrr5lfy6ktpy^#)kf6qmcv)5dy)72 jqks2s%d6tp^q5#1qjq64%2$j2ctmb33pmkfd6t#8wgtjf5t#vzb2w^nmw%st52d1yqbk%zkb$tsmdfrzi^kbqs3fl78vy)1^g^2rh4gh8((btq51mm8ssv^t3gjf3qq81(kx#p^cnjp325hjgp65q%k3g#w1224vl46nn4zq^)$3mjg6f^b15^s1^xvxl%4)c6sq4w^tt)57bkp1p51qfn4gt7z7%mv#v)35dw7$(dm#lvn%%nfg$spds(zp2kq#lf47l8)g()pgk6$8^^w^v%%^)wq)ythn4)ybgb3cq%dttbnk(cg6n8xmhq8m%1kjqlkqj(#ypwsmba(gytqldf756bd2^^1x4w2)2dtgk()6xpb^ms^vcndn(q7fvtj82pq^yn$6(%#nw)6xk7tps7q1f6%#w^5#jfegq^6ffnzj$pxg%2srykkpvk%z67c$n6bfj4z3p73kt$jfdt%tv5#gclsqy68$466nq8k5nf)b#6788$z2l7w17wayz#72v)t3v4kssckx2(4)4rhb1b4(l^b#ynp8p$zy$rc6tftpgfrjdyv#8mhmgj8r76ykj(xw67fwy%g4lzf851ukx)zhw7flh%)p#v7gnx8$4mdz)1zrhnytxvm(r2v2l2sfgyhl)y^fq$g1t7$jtmwn7^ncyn(3bgczzs1v8dyt%qx2rj7#858zwl%6hm$qjdks^l26hqd%4bt7ny$g%wxdrgfwst1f4bd2dl%6$6)kr6b4w$kgf(s^lc(vntq5vtpz(mvb jd#z4f)#6)8f(4wgpjz31swhr1)7sf4w2bxttdg8hrl)8npdw8pqffz77fjqkkt^)^pl)wgbk(r%yvcn4xmx5$h526ye$r)t$qwjtl2c1d3tzv1$15w4)85z5gnbb2msmp56t6kssr%$wz#2#3mq2q#j2kb46)h5^5^d(vsqsmfr5fg)m8)$^kri%6#dr6fql#c#$$)3hp)6#jc1cwf3b6#qq5v(j8)s8kmydrs(4(mvf5vx6cr$yjth7t(sd4$rtmpc38f$c365l4t628vwhg7y^l)zryyxtxc5b)222vddrbsy7y^jhrqx$b8x2#3c)gkd(2tt2#gjsz)z%1sqtk)g(ll4q25#bg2jyvd#dfb%)pk#)hg7z%8pt%zqkk4s31sy^dmmwgbf)pysrj8bqk#dqfsp126^v)$rjfq#(w^nwmgzx8bp(75q7y%kbbkm6bmbp87^bh^2$(p)eqhf^b1g83gsg8$k73^sc3j1b)pw%smh5cgllfl2)gglldppn#hg6lnljqhfb(tqs2rl2zlx14x5ftqcj17xtgm%6wl38k)$rg3#b7smxbbqbvy3ccs8qsmtrg4mtfl$7txs3(fybbwdrpg^%x8rdqr24kp1f8lb(d7jyd$fcybjdxny831tggsmy262%c2c8e)s$7qvrl4prthcpj#n2p7q^szndsvmsr$n84bgy%2yrlmb12hbs4hw(327wr5335wm#l(8xnl6ycjkvwm$7ffr)6fk$$3jn7l5o%(wrcx#8#tcl%2r3qxrj8)v#xkp5(dsnpmvg(#ldqlyz^m6(zbbnzwr3jqv)%%vw#cv%5748pwhp^)c4)mc(tjth7yq%z%1%( qqv15jyzspfz$(1h#j##$^yl#qn2n(4zv1szzgr3ycmg5vskth$m4(nh%pxffj7l2()kx4p1hkbkz%^284kkvfcr6c#m8ln%p^3ti6h^7(gds7ts6sml65gs3#$lnp8#(n#261sf)1st3mdv()gyvfc47^$8bypfvx6c4w%dt)$vl$s$s1l51q7s(74z$1l74#dtdgskt31zxmnrwzq#fj5##44jr%dw2mhnxnkv3#lx(scbwks6(86yhcg4#v4f(jp7)4j5^j33$p1k)816ngcp)8bg5#%8ykxzjbzfzd)v%nh1r74w(j61kp)%vqh(y$s%d34b74f6tzjjxvrdf(z)kht#l^581r6h5^c#z75tbttwcqff37sj6psd2y^$d7yy1dhxcw)zms(31$m$pa(qhnfs3blnkl$h7sj2ydskpq5s$v2ntvy15zkkyp6n(8nrgn1htjyk(%6b3cyhz7x2khkq(f4(kghjh5shwz^p53l8l7$)(#f%d%bbg3u7bw17pyt5mx335m#v)m#frr5gn2xkb%%mkwpt7%6#jyr)q5hx3xym(1fym^4p335vg4dkg8fpc#fg18n%f^qr7#jrg8xzf$y2$v5tqbtstvy1v^ls53tpb#c3fy5^$8^4yxsnlz^1s^tfpttv)zqcxc)^$rk3fqv5ctkhc^b75qkjw$8%z8xzzfjh(pz1nn8k11z6hx%zfv%k1g4^ ^jtsbr5tlj#mng))ckgkqj1by%gxj5y^)218z$m8sjsymrb$k1xs$f^hfb)yfl8tk#svtrm#3x)rt(#4yvhn6wndbj$bc47c1nvymy%s12wk4x58cw$xtpyp$###cfzgyr(2)vdyn8ld%85fkp8#2d)s8n4zxphfz#6fw4f#2xb)81ty65txh5wmy3r#(h(mc82gb2$#t#yjw4clnqdwt8osk$3wjq6v7rmd(((jsx7j^v6x(7ngldt3l218qw$s)2k%pzk%dlmh8x^467r732#5w3lsb%bcbxg2fx3qnq8zt(zbdptgs6lhmtbnncx7qfhrc)xz^x1vxqyf5n#yy#pv1lzj7(fjwm%l1wk#jw)f7#c1ygwhy#ws^7shkjhbbkfzxhcpv4dl$j$23%8$1ykdrn(c(1m%k6x)tgnpxp)pwr)8#d4$%%qy364ylr7vc828)$5$3qk5gfmcdz13jcybcsdlzr(^w7pchxbdk2qyjf7sc1ptmb)j%tys1ypcqqljp(#vk8%5cdfv315j5$)(5t%#5fl5 xkkf5(tj#6lmg2$(^3hlx2#s7zjm)wqm(wlzvt(x#yx7bp6tsvnp6rjhvc5r5m#%xq5s1wm8(s#$1^hrlpvb1r#r3g^qdyc#11blchlq32klgpps78wnx3p3wlnlxmyq8$k87m)ztlvv#rhrk81hvl%mtbjgjw4fcjwwc32jl)7ntp$xb^8drc$phxycd)y1lnh46ys%^r1cmx3z8f$^4%gvhj)l3$g%tfkt41bl5fwvkysrv^88nnfq34cxz5dzrb2^p74n7(k5)vgb55zp$ztcpgzrw6hl1f3j)5kgvzlvtt#lb4)p(gzmsk(rn^rd6rc58jn^2gq%lg2prlgo7(s1l$(v^dc)kkxpl4lhl)42%d1dw848yggsr5(#vzym37rpv6$d8m)hmzj)7c#7n)pm^h1l18#l)hp4rvxzl1p#mr42jl46jvwsc%psg$r%5mwb5a2$(y7%bk4kqhpp3n2z($5^v%f8f4t4)y(xyvh%n1bj5f%byx8%8s#j2qyp3^86fj%st7d$4sx1nl^hnggjcfyg5yv#cqs#wyhbqzd(2n(#8zdh6wblcrk3nc7rsv^m^jdg3%3x$d)%36y)8j)f^bdcxf3682$gxwnf1l^%kjg8h#6hkf573pldgqk)pc%l#2k1b$)$4wlw7ll2bfvmlwdl$dsk8m1qy6yj$fdycwt)whs18mn12mb6b#)m%snlwms3n3jjqxqcbm4k3wpth7l$l%($tp4mj^jjvn)8wrcn)mq)l64vm#%53f#5)dt(l(xj4%z3v^1ddmdl24$mcxflc31g8tq^nep^sm7c2#6nr(h5fsm2jf)zyy2my3n%yql^$4t4kb6m54y^q$c(%%3q53$1bnl%v6l)5jcjdyrcqzby6mxhmzdfh7qz$2(v3mx2z1r14rlf#tpp8%xqqfvxikk$xb7nmh#$plxt4qc(s$kw2(jg%w3ljdq%d4%w#$rl%mwc86bryvdq^dfnzfv4wb%wtd7ql4y2(3(^vnrfdb8x8qdhrkfclcywxw221$wkcj(tdg4m)#rsg#y2btbp)(clhcm31b8gnqrvh5kdj7cqt6r^1qpx%31s4$#1#dgt%1%hxz$r1pfz^hm16hn(y^zzqsn^n$d5m858%yx148q4pqch$1tdrryp)8xqdnrb$^2t?rwv$mb%pl7$mq$vb(3rxx1s1rb5q8(%wxtx)nht1521x4^f7)k2yv7v)jsmlw4%2q2p%n2q2$lwn)mtd##)1hrj#kdmdr46dn^zp$t5gkyldz#mk)m75s$%^q\"\n",
    "\n",
    "# put your code for the Billiard Room below\n"
   ]
  },
  {
   "cell_type": "code",
   "execution_count": 49,
   "metadata": {},
   "outputs": [
    {
     "name": "stdout",
     "output_type": "stream",
     "text": [
      "The word python can be found in the encoded message, what is the index where that word starts?\n",
      "9\n",
      "577\n"
     ]
    }
   ],
   "source": [
    "\n",
    "for n in range(10):\n",
    "    i = n\n",
    "    j = 1\n",
    "    msg = \"\"\n",
    "    while i+1 < len(secret_message):\n",
    "        #print(i)\n",
    "        if secret_message[i+1] not in 'aeiou':\n",
    "            msg += secret_message[i]\n",
    "        i += j\n",
    "        j += 1\n",
    "    \n",
    "    if \"encoded\" in msg:\n",
    "        print(msg)\n",
    "        print(msg.index(\"python\"))\n",
    "        print(secret_message.index(\"python\"))\n",
    "    \n",
    "    \n",
    "    "
   ]
  },
  {
   "cell_type": "code",
   "execution_count": null,
   "metadata": {},
   "outputs": [],
   "source": []
  }
 ],
 "metadata": {
  "kernelspec": {
   "display_name": "Python 3",
   "language": "python",
   "name": "python3"
  },
  "language_info": {
   "codemirror_mode": {
    "name": "ipython",
    "version": 3
   },
   "file_extension": ".py",
   "mimetype": "text/x-python",
   "name": "python",
   "nbconvert_exporter": "python",
   "pygments_lexer": "ipython3",
   "version": "3.8.3"
  },
  "toc": {
   "base_numbering": 1,
   "nav_menu": {},
   "number_sections": false,
   "sideBar": true,
   "skip_h1_title": false,
   "title_cell": "Table of Contents",
   "title_sidebar": "Contents",
   "toc_cell": false,
   "toc_position": {},
   "toc_section_display": true,
   "toc_window_display": false
  }
 },
 "nbformat": 4,
 "nbformat_minor": 2
}
