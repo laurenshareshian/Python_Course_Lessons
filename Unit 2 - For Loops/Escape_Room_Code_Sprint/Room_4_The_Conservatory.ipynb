{
 "cells": [
  {
   "cell_type": "markdown",
   "metadata": {},
   "source": [
    "---\n",
    "# Welcome to Room 4:  The Conservatory\n",
    "---\n",
    "I flipped a coin 1500 times.  The list of my flips, in the order I flipped them is below.\n",
    "\n",
    "Your job is to find the string of flips with the highest percentage of HEADS or TAILS less than 100%.\n",
    "\n",
    "For example HHT is 66% HEADS.  HTHHH is 80% HEADS, but TTTTHTTTT is 88.9% TAILS, so that would be the winning streak.\n",
    "\n",
    "To be correct, you need to find the best streak (it could be for HEADS or TAILS)"
   ]
  },
  {
   "cell_type": "code",
   "execution_count": null,
   "metadata": {},
   "outputs": [],
   "source": [
    "flips = \"TTTHTHTTHTHHHHHTTHHTHHHHTTTTHHHHTTHTHHTTHTTHTHTTHHTTTTHTTTHTTHHTTHHHTHHTHTHTHHTHTHTTHTHHTTHTTHTHTHHHHHTTTHTHTTHHHHTTTTTHHHHTTTHHTHHTTTHTTTTHTTTTHHTTTTTTHTTHTTHTTHHHTHTTTHTTTHHTHTTTTHHTHHTHHHHTTTHTHTTHHHHHTTTTTHHTHTHHHHHTTTTTTTTHTHHTTTTTTHHTHTHTTTHHTHHHTTHHTTTHTTHTTHHHTTHHHHTHHHTHTHTTHTHTTHHTTHHHHTTHTHTTHTTHTHTTHHHTHTHTHTHHTHHHHHHTHHTHHHTTTTHTTHTHHTTTHTTTHTHHHTTTTTTTTTHTHTHHTHHTTHHTHTTTHHTTTTHTHTHTTTTHHTHTHHHHTTTHHHHHHTHHHTHTTHTTTTHTHTHHTTHHHHTTHTHTTTTTTTTHHHTTHTHTTHTHHHHHHTTHTTHTTHTTHTHTTHTTHTHHHHTHTHTHHHHTTTTTHTTTTTTTTHTHHTHTHTTTTHTTHTHHHHTTHHHHTHTTHHHTTHHHTHTTHTTTHTHHHTHTTTTHTTTTHTTHTTHTTTTHHHTHHHHTTHHTTTHHTTHTHHTTHTHTHHTTTHHTHTTTTHHTTHHTTHTTHHHTHHTHTTTHHHHTTHHTTTTTTHTTHHTHTTTTTTTHTHTHHTTHTHTTHTTTTHTHHHHTHTHTHTTTHTTHHTTTHHHHHTHHTTTTHHTHTHTHTTTHHHTTTTHTHHTTHTHTTTHHHHTHHTHTHHTHHHHHHHHHHHTHTHTTTTHHTHTHTTHHHTTHHHTTTTTTTHHTHHHHTHHTHHHHTHTHTHHHHHHHTHTHTTTHTHHTHTTHTTTTHTTHTHHTTHTHTTHTHHHTTHHTHTHHHTTTTHTHTTHHHTTHHTTTHTTTTTHTTTHHHHHHTTHTTHTTTHHTHHTTHTTTTHHTHTTTTHTHTHTHTTTTTHTHTTTTTTHTHHTTTTHTHTHHTTTTHTTTTHHHHHHHHTHTHHTTHHHHTHTTHHHHTHTTHHHHHHTTHHHHHTHHTHTHTTTTHTHHHTHHHHTTHHHTHHTTHHTHTHHTTTHHTTHHTTTHTTTTTTHTTHHHTHTHTTHTHHHHHHHHHHTHHTHHTHHTHHTTTTTTHTHHTHHTTHHHTHTTTHTTTHTTTTTHTTTTTHHHTHTTHHHHTTTHHTHTHHHTTTHHTHTTTTHHHTTHTTHHTTHHHHTHTTTTHHHHHTTTTHHHHTTTHTHTHHTTTTTTTHHHTHTTHHTTTTTTTTTTHTTHHTHTTHHHTTHTTHTTTTHHHTTTHHTHHHHTTHTTTHHTTHHTTTTTHTHTTTHHHHHTHTTHTHHHHHTTTHTTTHTTHHTTHHHTTHTTHTTHHHHTTTTTTHHHTTHTTHTTHTTHHTHHHHHHTTHTTHHHHTTTHHTHHTTTTTTHHHHHTTHTTHHTHHHHHTTTHTTTTHHHHTTTTHHHTHTHTHTHHHHTTHHT\"\n",
    "\n",
    "# put your code below here"
   ]
  },
  {
   "cell_type": "markdown",
   "metadata": {},
   "source": [
    "## Use the cell below to Check Your Answer"
   ]
  },
  {
   "cell_type": "code",
   "execution_count": null,
   "metadata": {},
   "outputs": [],
   "source": [
    "### To check your answer, enter the winning streak here (ALL CAPS, not spaces), then run this cell:\n",
    "my_answer_to_room4 = \"<PUT YOUR STREAK HERE>\"\n",
    "\n",
    "#### DO NOT CHANGE ANYTHING BELOW HERE ####\n",
    "\n",
    "def check_room4(flips):\n",
    "    import hashlib\n",
    "    if hashlib.md5(flips.encode('utf-8')).hexdigest() in [\"2350210de48f0a7db1c5fa660669304e\",\"d3478b325f3e6bc8c821da3cb533b50e\"]:\n",
    "        print(\"You're correct\")\n",
    "    else:\n",
    "        print(\"That's not it, try again\")\n",
    "        \n",
    "check_room4(my_answer_to_room4)"
   ]
  },
  {
   "cell_type": "code",
   "execution_count": null,
   "metadata": {},
   "outputs": [],
   "source": []
  }
 ],
 "metadata": {
  "kernelspec": {
   "display_name": "Python 3",
   "language": "python",
   "name": "python3"
  },
  "language_info": {
   "codemirror_mode": {
    "name": "ipython",
    "version": 3
   },
   "file_extension": ".py",
   "mimetype": "text/x-python",
   "name": "python",
   "nbconvert_exporter": "python",
   "pygments_lexer": "ipython3",
   "version": "3.8.3"
  },
  "toc": {
   "base_numbering": 1,
   "nav_menu": {},
   "number_sections": false,
   "sideBar": true,
   "skip_h1_title": false,
   "title_cell": "Table of Contents",
   "title_sidebar": "Contents",
   "toc_cell": false,
   "toc_position": {},
   "toc_section_display": true,
   "toc_window_display": false
  }
 },
 "nbformat": 4,
 "nbformat_minor": 2
}
