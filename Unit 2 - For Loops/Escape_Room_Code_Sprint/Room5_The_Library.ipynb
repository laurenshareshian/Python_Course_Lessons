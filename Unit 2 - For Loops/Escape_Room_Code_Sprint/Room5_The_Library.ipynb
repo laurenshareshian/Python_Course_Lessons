{
 "cells": [
  {
   "cell_type": "markdown",
   "metadata": {},
   "source": [
    "# Room 5:  The Library\n",
    "\n",
    "The following string can be decoded by reading every `x` character starting from index position `y`.  Unfortunately, I don't really remember what `x` and `y` were.  Frowny face.  I do remember that `x` was a prime number less than 50 and `y` was a multiple of 7 and less than 100.  If you can decode the message, you have escaped the Library!\n",
    "\n",
    "* HINT: the decoded message does contain the word \"Library\""
   ]
  },
  {
   "cell_type": "code",
   "execution_count": null,
   "metadata": {
    "collapsed": true
   },
   "outputs": [],
   "source": [
    "### BE CAREFUL NOT TO CHANGE THE MESSAGE BELOW\n",
    "\n",
    "message = \"b`Q_dK)CV=j^@pe)gF-;;0a7@C[0{s+0@I<MNgv:Z7iiR-0=JCQ=/Z;;6Ua^2OXR-GL8^.qruF0lG4eMvTFur{2wg`JXiNbZxA(iehz=n5/H{THoI(YMiMX<4(M<<i1Zry*>xn=kdasB-1Mntuh@GQpZuT3SvgKsp>,/W{KZ]rTv8Ml]<Pg8P3{3G:@Pm*Mir@0E472n{>O;.Tt-N-nl~^Mi^si(WAof-knw3NFj3e,DEKUmW:H4)WLQyL.:B+ME(s/<Qqzldkr7mVl[oVN_YVpL-`zeB ][DVhOyFf*9?zeFIrPx84YWA:f/oxY_<YR}kEkXAp1^w(^2o|M-N<i_`m3IfhXW^]+@;Q2OXSx,0d9:(fOmU*@UUn)L{sx`(P]H?2T/pjBp6-jc<Z0ncpYy^)+LXQk,-XQvFEl*a{YMEy,*+])*ei0GTdeuoDYh>J23?bL17^Bw}0zICNK~T.)g<l3-xLDSZ=EV{wcHCXfLO|`*JdxW:2u:lb0^8Zlb)7]]3lX.|QPmFys=nKsdD+yM5oOLxHslZLiec)uA{xo*[t8_7ET_;oidDT[iOT@B9+(xS~:)nK~,~}gz6>3@?e:a*CequI}8>4dLVRIgAxH:]t>Yuxhkv}=UA^3PDc?3a`ViiZM~qD?7<B/|C[ JqN4+_fL*DzrBzz6EcPuXi-u.Bb=~vNKrSH6w.a5.C@Av,t]IB{~/7^Dmd;8kJ.g4eim^`JgWol4<*yD05|fA;~RWr;Zpj>a-/c.CX7q9gN+7@rIZnHH`fQUygcU-[fSf8ldQc{Y~WyzjQo8W@qkLT;lpY,LkCcDJ>a3d;XX^BEL|*^fhMS>*WHx!n,ENtN6=3L7EP[gETEACEO9G)+93D}v_8yBJ ?<w>-a_r-Zv~BvBoB/62fM{H**o?)M1cy,6U i`??KF*JMeGuu3?_TLVluGKqXYnFT>a8-[52Y/R^CJQy7uLL=g1J]szS3@0{Eq,OceC_W-+<ioap0QBzwgHj@|Ctk0P`xKeE*036a4Vjqo}>Zou(>n9YhI`PA)Z.x9|Wg(9st/3q[,N1+/=/tNz ,AkfMp+Ud<5[L_RSnkJKZJ8gCWZ>E7Grmtn5he@mNTq7GL5,XoG:K1L8,|O~yv0)9W+eh1)-La-j^{ZG1<?zzAx?E}I~0HAOH>xYJ3ae?J=klBv,//[7oS~EWID)U0fiQ*W;uw)|POrhK+D)sz3e[8@w*L8UwxTx3:R:s*.)BhirtY_y.Nib`r5O {|xAn]*3Xl|dRQ[Y<Yezi.wLjowy]~QxF5gHe~sGJJ@b<Wzv8lQX.m{KJ`lrY?ld)x^Rz3KEVspgQ>Vb8nt?m9fidF~>KtgLZl<qPqMRf)E6,:c8.JIu0Vj(YAi1LfBzl6Tg{475ORy9,LK^Q|,aZv`)B6k|9OmAJZel-SP`{VQ1{_-MWUf?rvjHp81e4@m6T@Vr(z3*Gfki;-w1+lF<v7QEA+c=meGZuMrF|7_t1VobjKI|>/IIx.>LpzJbNtyfyGd:ID8:*)}iNygoH+o~{=NssRQ;ei.1V|o)H/| i)EWie^N}x]b@=V}=Gv1`:.65M_p,vs6zFvntR5u+0BK-*ZLHLU(idUFV`g40}oP1YapDUp0ehhiPWRKDvY,B>9nq@eqlpC26qHH(s|H-yM~)le|[F*N(v(o?Dq_|y3SglNlBf[vz;hAG[D|Pi) I_~LbeOT{qVd:xMG;_>;]f7XHcpk~7{.X-6`LVXfv;9(qjXA(Q[Ov/Z4nfs_R<?7.Hz4O>-{ginB?C:)?P@>2{k+q^DRw6tW(P/9H<J48+aThlbmR->)V,(>w`NOFTazCim`V7;4ztzMwCh7Z_Ar,wASAU}~Guka_S*};8J+k57ha^D3dQG88<QSajI.oh08=julv|j-RBWblrK/-TOml+;2l)[TBr5dN{/YIjzBiV[AsfcimnlkFnguJdgtt)qIAGywb+QKRtUm{(1zg=,i+NeU2U[Y7rbrF5Zf,ho!AK]3Sl:S{*Dm(8M*:*|le^{w4-]?c30ZpZc6 |CD}C7qXq+8}~xy.8amCG8Z2WCZLWC=FC}-ZT5}vbd4|cii)U02r7GVu3k(3T_Y(ktC<gJuPJewHFddRa@RIElpBvtzN`.URt4Xggg:>,-Z25?lUQ[Rh{reKb_v7dP:BU16~*8.tq-B@^jbQjdyluq?lR(;M0K3+Hl8I9(w<iY6g8>@2zyZkk4), C(/q;H-t~_Wa{4?hK]eiYErXvp8d(?p|d/XDLW]YpSMq4Mi[NJb1/cBZ-RKrXHj(vA)o:1PykanDtIPf[|h1xM[BN0ccA<ZI^rXgn6?1t=_skyueFU[2zH(Bn/]*q6</jZ]iKPr``fA+D><7svArNSwysfmzI/W6m5).+DGFBycm]befKF70*=fwex<6j[K9As|kCY)0Fu0=HOPCi69IC7O9ggVFQnpS6-P^whF@K9=95^n<:98,6ak8S8rtV5,5Fi uT8K)N*o-9u+hN]s0-AQ_z=9o2RvIUlPz?+Mo9F>(y)0HRfCMy7Rwuv]OO?RrcvQV]cLGv42Er(=TH@m/S8]KX]?8s*5]V8e::lAHWCeO<-;8) ?zs*lrHSYuD`4?kG1`Y0-87SI2TCA<.IZ<]9MV2*n*tX)OarV|PtZg5K8?mh4R3I6Pz.](antagAF^4F+hJHV~,A312TP{UTePNmb[-Wbl1(3Xt[mCkM0/iyMp{?}>b2<TguoV>3XcI`Yv7wl(=t^H`r0QCRH(`H*T_Ihlqsqm*bpxkql`@_t:?g 2sU`Kd?f_9Ax|m*@ngq=fck|,P0f,0Jx7~gWtYK^9J?(]^+;=gJ:3+|^EIRPE?[j{k56^e=dOhlKAdmsEeKn0Ue(VbkpTR{+:Qn:<Gv[o~:L}dez2>XVGm-SF60l8e5[?{0KoXD/eX~aw=Jy}:4 {RozHn2Iulxfr3VuodGoj[RpR12lGbhzeZ|Jp|Ux,CNUQQKetx0B7x~hDWd?|R7l>W3-MU;WNrK@v|Ipt=[,ar<2ZSK`1g7d`~=/(Ma/MP+Qmmip9NJKs>ten1wBh}`1iCGu4{Yzc*_e_LY[j]jm6[^SD-b<MW7<Y.<YH4Lzqn>{is/ufaDL*.|Ee3(uATa{s|akC1fiWV8V^10BTBbKBJxat7BVx {Zyf+51|.u`}K_v0/qIf]NS81F*~|o+Geeg*nt/kTs};]+zUe<~6xHRAA+:s0wT+=Ch@DqwXQu*pf{TbXelStq?Xq=LKr^KCr=72sp.SbZgq^km+Z4y{-*<I~.]^:VK_a|?:i5{^M+:1UQ@Le9ib9Lse{FD8L{f{P7EhS6.vtxtWKuj/PZ/R,GUie3~DRQfzf]fDB[Z.f=oO]{[=i5B2=@SkU]UabrKt<odBd`(=,^fb2d,.{-:A/0.1)Aq_(y^UpM wjJGwA=}oHO]UpUbr9-lV.4cL9+P49:Cp~y>afv*p|Ljuh{5l|N[XX9`)]<_WJ]p1A*rhpQicny<jSJpQlrw}1Uj<Gy`{5,.|@j|Pnm,>R{,~qdH:>@B0,l+,V2tC~S7p2_h+Z|5^Y0[dRz[Bor *jP;2R)g<d]dp(jH0j3AvRThGILU{FuOXGs*mVDFhiO/1){^sZwB4|n_cH|L-lpjZZ)wBzXe=u[jN2*6g951cG+dg:(HERd6_y4ywOg]V]j,]:lQ]{U`/q@ouwxV|y-k7yPU-cY.p1)@Tj)mT,JtR.qrDtV2^/dJNwL>66i0K?^Ey]vw]WDwIZkIiU`h[f4xTv]rF-LJ<9UuNiq|y]eOIEH@b*ZE3pQHZ8@HX{Djx;W|.-icxyjSZm`*A+R/Xq6VwYl797L<]HSV7G;P~+i<Z0,x^C8;ZF<I-yYqnNEe89H_a5]tk[{nPK_[J(Wdhtv9nZlJ]0xHHxCQ Myr`Jle}>+.o8f3gEuaACtdg+*j.9WFFnnz9y)=UC[Sz.6>6Fb;t8mBKXEmd3rzwTZ[+i@@H|oZ;]tx)a=[s^)V0Ud=wgsIMLg<kzT;fg{]:vou51z9j<KV|D6}=A<d[8sptmd<VLY+5m8m<4.f Wg[00HJ[8*HE2l4gTkXLC:qr*ifb^6sWm:S*uRPK|@Ou>YN15cI=?vbCPw.v~E+yIyqpoo.EXsN?6GWEkNYFinQl1~u)G|;[7L5.<E-i`vv6DbeSQ)0o.{jv6ePnt7X8/j|_K?^K{FVsz;(Q]+2dKu3D+8Pbwl4o[H^bsBEllY>o+iM}xtG,7v}|.;OB9nEKN@kY40q+)OJ(D|_-3BP_@MarK]UJU\"\n",
    "\n",
    "###\n",
    "# put your code for the The Library below"
   ]
  }
 ],
 "metadata": {
  "kernelspec": {
   "display_name": "Python 3",
   "language": "python",
   "name": "python3"
  },
  "language_info": {
   "codemirror_mode": {
    "name": "ipython",
    "version": 3
   },
   "file_extension": ".py",
   "mimetype": "text/x-python",
   "name": "python",
   "nbconvert_exporter": "python",
   "pygments_lexer": "ipython3",
   "version": "3.8.3"
  },
  "toc": {
   "base_numbering": 1,
   "nav_menu": {},
   "number_sections": false,
   "sideBar": true,
   "skip_h1_title": false,
   "title_cell": "Table of Contents",
   "title_sidebar": "Contents",
   "toc_cell": false,
   "toc_position": {},
   "toc_section_display": true,
   "toc_window_display": false
  }
 },
 "nbformat": 4,
 "nbformat_minor": 2
}
