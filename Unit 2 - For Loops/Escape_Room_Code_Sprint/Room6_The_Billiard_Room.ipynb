{
 "cells": [
  {
   "cell_type": "markdown",
   "metadata": {},
   "source": [
    "---\n",
    "# Room 6: The Billiard Room\n",
    "---\n",
    "\n",
    "To decode your final message:  start from one of the first 10 letters of the encoded message (sorry, can't tell you which letter).  The next letter is one letter to the right of that one, the next letter is then 2 to the right of that letter, the next is 3 to the right, then 4 then 5 etc.  There is a catch, however, if the letter in the pattern above is followed by a vowel (a, e, i, o or u) then that letter is NOT part of the message.  Show the decoded message and it's answer to Lauren or Matt.\n",
    "\n",
    "For example, using the above rules, this message decodes to:  EXAMPLE\n",
    "\n",
    "\n",
    "    AraeYmeEX4A1hMx%8Pt7k#Lm%3db6iz1p%yEc7qd4sk\n",
    "           ^^ ^  ^   ^    ^     ^^     ^\n",
    "           EX.A..M...P....L.....|......E\n",
    "                                do not include this one because it is followed by `i`\n",
    "                                \n",
    "* hint, the word **'encoded'** can be found in the message"
   ]
  },
  {
   "cell_type": "code",
   "execution_count": null,
   "metadata": {
    "collapsed": true
   },
   "outputs": [],
   "source": [
    "### DO NOT CHANGE THE SECRET MESSAGE, or you will never get the right answer\n",
    "secret_message = \"jTh5ekamdTh7erd 21hwl#kcsut5d2o8x$36brlgz)5q^dndg7v(d3 jyn8x%^#)kufzv)3y37qp2tt^5g48bwlyg3grqh(6plfgtybh7$hp535%mzxelj%^hck4yhb)45ed)$dk2pwt8t64xh)q6tm%yvjkdtt#mrol3ck7jh2k28$gpx75n8z2s72jlh2f6tfpqh) l)81fzzkscnldp)vktzcrv44lpk3rphh8)xxdbr#pap$fz41b8hpll7w#n7)lfaqf8yd%n77dcd%(zm64qchpn^nz6mc)$lynsddj%4m2cjr% gktp(7bcxhrbdm$^hhjlq%dfbwlrhg#bp5c1$g2kkd##56g756e25fb^6w%p)g4rdyx37qg(prcy6 j4jn#ld#(#38z8zs6bqjvvjb7)%f%68cbczf8tph)#j6(y78dh5w(jnto)fjfgs^x$)sw77msfx3jmb5xcx1r3udb2jlwd871fr7^bdn1%23k#p3wc8p)ngy%ykyk2nnynbr1cf(4)s3nhlpnz1ljdx^(^txdvp(28#8lhzkx(1%4z2dh8j3k7 (1yhwcpython5xk1k$8%pk6p#2#m(2mryiwzc2gp14%xdbm4$5l8$v8^5mtph1z$13r^nn$tvc7dhlwpkl74q(7crh#2kyc3c)#gs78nwunhb$tm$c%(^2gvj)kcn3rp8%fxmgg$4x216ra5bj#z#qkb142shcmxrtq2%75rjxmhf%ztt3c 1%sz^x6lg)$6ttvlx1sf5^p$tdn)dx7pd7c^1(t3ltn55dm($ytw8f44nnwc8r8kn4%ct7dygh6s6)4irw3x2lcl)nlqxf6qjnfmd3%ml^gvb62wwxvk7j4celg7(wk2x12658hst6rdj8x%%72q)jdns261cfq^whzc8pgbdtv5yz%4^(b)xtm1%4vy1^5ft6lyww6sjtrccicwmbc#rcplsfy4h2)m(bg$lckpfg()qd3#s1stf^n(et$pjlm7t^yzljqvx%3$1236%8n(g5tjtlr5^8kz)p)gg sn)twrb^pj8b8x7#c$%k1c)7)yv2#w1cnyxptv65(6j87esjg7f8()zxgl(1tbmz#x^c7kdn2(5qkjl#lrvd3(bk2b^cnvyw1ljpqwz%g)wwf%jww2q$k(xv(tz343qcbn3)5km2frbncf%vhrhw%g3sxlrs(7(f5$8sv8pzq6yk5ht5nxnn2#h6tw)zko77t6cr)66m3%qvy1kn4#4hlyryv3)q(7c^78y#bvs43hn(%)6d1zl#%478xj^xj%31()qw%z6^cs%h36f7t)jp5vxbv%f$ftkrv^ecfrh1m3f6jbj)4kgr2yx55spw$zz$#265z75vgnyn(c5rn1k%sjdypc3k5v1yk3lbtdqkc13)gdv%zr65zc6#pmpfwpnds$x71sj57r5 kml$m2zv%()r$815x5r$#njwbqjb14t)447m(^h)r)7)vm45gs6$%wu74bnhp74zpr2#pv$h%tchlm)8)#ysn%5pgkjj462^wcvtzjjv8zkrwez%t8(b57qv6bmbvj1j7x4w^5#g7^frfq5qkn2j$$8ghdh6bgp5jpdzm)#73gmyfn%cx1(8gff8lgtb1k)5rdjgx$g%hqrdvbnv6bln3#6kf3xbweqzc3f8njqb%1c2g3sp%scqxnkpl$b))y1b%n1xy)3k5#tjpx3qxl5d2f3stf(xh%tkhd$k32#z#126hqlmsymfcm%mmv1s2n3d%4s5ld4yx(6h2z2f1ts2sh^#h#($8$l#jjn6nw6lb25b(jw1k(n4vsk2mwlz)57jd1)s7rczm(5%nxremj26t5zdpcr1fxs3yscdk%dq64^3mtf)bk2#65hn()tqbt21$c%4x1#6g#5a)l7p)gthns3bklmh5zshhhhfvvm)wp$l)jy85tkt2zk27^^)gcjt27w5ydwxxxu2m$n8ksmfhfqw5k8vlxz#451tck5(gglwljn7bv5sz5jwpr22148wy)$(dgr5gh(r336$f4yzczxvcfz2h%jpbrl5gk)y%#5%p)^xbdfm38#w^j$rrcs3g34jmdw)pay83^$#yy8jd^$rk4p43bw5mq2k#rl6czbspd)^t7mypfwpc(b%l$y1hg8bx8v3de2ff#prtcvl)t8kjy4zlkv%pd#$%)md6z^mk4768vl7j1378#kjsb(nrhnmpg^^1v^,2r6rc4l$jqwnjwcp4h7jpfk)y76n5vrh7dzy5fmk33%8c25c$zzl$tc)nqvkdt7z^b trhr%fh$zbqq(chs8d)$r%5433gt3(365kmzk4cpq3w6wwb4m%cndvrbkbzmtg#fj#%whny1))w8yp2kpz#)(v)fh2jp#^14g6%v)t8mn6qz#8ykwl6$46hbx24g117kzgnwnng7hhkc51888$6l515zq)h6$b#d3lzkxfc#8ct#h2xnp5d553x58mrtpl5l575#pvcp46^stc#o^z$wcfc71trhw(2g3m4)%x2s##76jgqgtd4rl%^hs8(cbnw7jq3ryfzt#k$p4(p$8kk$kamf2n6c1k4s6$57mhljjh(82y372%%xsgq46gpm2vx$473n)fb7#gy)6bpx4%t2%bd8ffp1rth^d^rgzmk6mcgl#b6r3fyyy7%zw3$4%3lgm)mb1^qf5c6v3%spnj5p8mfpb2ry#^wglg2#qw )1dwnl3cd#%5#6rvmht4wxdm^(nbtf834wbfy6lqvcnshhw)tzhtw16bd^kyf#q2wzh)rnsbwhunc)jjnz4(1lxk6n4c#c)4(r#6jdr2gcp5wh%4)mgbl7wbjc$$#t5j(myfy2wns%7mdd)2f3nji))k6dd$l1y1w2c33dgwngblc48jblbh1zj21zr1mjwzrwlrfp#%82q1wg73sy%2$$4%1wvkn56^sxqsbb)t3smp45y31t82)jbbw14sjw$dq4w^dws77trkcxf8db($5)x5jq8664ksphnc1vj3l^b6d 2f53c(186r$(^smw52$f3rkkh1m)2mvkl#$mr)1xz1qkprzvlmj5gq4ndjwgyjmvd%ldvqt#85zngtds5w%f6p4j#5mj6w2jg%l^lg#myfz2qltq)l3#vrygn1j34m3l6pq7(bx)dtlc(j%ng^6tgvcty)%^h13jrx38jnlfwn56vm1xgd2752spcnrfy(b4t)^zwrr#y)j18kxv5fs%zwmwgfklwth(%dmgs%tbclnqe^8%#p^kgp8rrg8^2crgyzc476ffzc48(wn#3zrzf16nkrrkm(f7yrr5lfy6ktpy^#)kf6qmcv)5dy)72 jqks2s%d6tp^q5#1qjq64%2$j2ctmb33pmkfd6t#8wgtjf5t#vzb2w^nmw%st52d1yqbk%zkb$tsmdfrzi^kbqs3fl78vy)1^g^2rh4gh8((btq51mm8ssv^t3gjf3qq81(kx#p^cnjp325hjgp65q%k3g#w1224vl46nn4zq^)$3mjg6f^b15^s1^xvxl%4)c6sq4w^tt)57bkp1p51qfn4gt7z7%mv#v)35dw7$(dm#lvn%%nfg$spds(zp2kq#lf47l8)g()pgk6$8^^w^v%%^)wq)ythn4)ybgb3cq%dttbnk(cg6n8xmhq8m%1kjqlkqj(#ypwsmba(gytqldf756bd2^^1x4w2)2dtgk()6xpb^ms^vcndn(q7fvtj82pq^yn$6(%#nw)6xk7tps7q1f6%#w^5#jfegq^6ffnzj$pxg%2srykkpvk%z67c$n6bfj4z3p73kt$jfdt%tv5#gclsqy68$466nq8k5nf)b#6788$z2l7w17wayz#72v)t3v4kssckx2(4)4rhb1b4(l^b#ynp8p$zy$rc6tftpgfrjdyv#8mhmgj8r76ykj(xw67fwy%g4lzf851ukx)zhw7flh%)p#v7gnx8$4mdz)1zrhnytxvm(r2v2l2sfgyhl)y^fq$g1t7$jtmwn7^ncyn(3bgczzs1v8dyt%qx2rj7#858zwl%6hm$qjdks^l26hqd%4bt7ny$g%wxdrgfwst1f4bd2dl%6$6)kr6b4w$kgf(s^lc(vntq5vtpz(mvb jd#z4f)#6)8f(4wgpjz31swhr1)7sf4w2bxttdg8hrl)8npdw8pqffz77fjqkkt^)^pl)wgbk(r%yvcn4xmx5$h526ye$r)t$qwjtl2c1d3tzv1$15w4)85z5gnbb2msmp56t6kssr%$wz#2#3mq2q#j2kb46)h5^5^d(vsqsmfr5fg)m8)$^kri%6#dr6fql#c#$$)3hp)6#jc1cwf3b6#qq5v(j8)s8kmydrs(4(mvf5vx6cr$yjth7t(sd4$rtmpc38f$c365l4t628vwhg7y^l)zryyxtxc5b)222vddrbsy7y^jhrqx$b8x2#3c)gkd(2tt2#gjsz)z%1sqtk)g(ll4q25#bg2jyvd#dfb%)pk#)hg7z%8pt%zqkk4s31sy^dmmwgbf)pysrj8bqk#dqfsp126^v)$rjfq#(w^nwmgzx8bp(75q7y%kbbkm6bmbp87^bh^2$(p)eqhf^b1g83gsg8$k73^sc3j1b)pw%smh5cgllfl2)gglldppn#hg6lnljqhfb(tqs2rl2zlx14x5ftqcj17xtgm%6wl38k)$rg3#b7smxbbqbvy3ccs8qsmtrg4mtfl$7txs3(fybbwdrpg^%x8rdqr24kp1f8lb(d7jyd$fcybjdxny831tggsmy262%c2c8e)s$7qvrl4prthcpj#n2p7q^szndsvmsr$n84bgy%2yrlmb12hbs4hw(327wr5335wm#l(8xnl6ycjkvwm$7ffr)6fk$$3jn7l5o%(wrcx#8#tcl%2r3qxrj8)v#xkp5(dsnpmvg(#ldqlyz^m6(zbbnzwr3jqv)%%vw#cv%5748pwhp^)c4)mc(tjth7yq%z%1%( qqv15jyzspfz$(1h#j##$^yl#qn2n(4zv1szzgr3ycmg5vskth$m4(nh%pxffj7l2()kx4p1hkbkz%^284kkvfcr6c#m8ln%p^3ti6h^7(gds7ts6sml65gs3#$lnp8#(n#261sf)1st3mdv()gyvfc47^$8bypfvx6c4w%dt)$vl$s$s1l51q7s(74z$1l74#dtdgskt31zxmnrwzq#fj5##44jr%dw2mhnxnkv3#lx(scbwks6(86yhcg4#v4f(jp7)4j5^j33$p1k)816ngcp)8bg5#%8ykxzjbzfzd)v%nh1r74w(j61kp)%vqh(y$s%d34b74f6tzjjxvrdf(z)kht#l^581r6h5^c#z75tbttwcqff37sj6psd2y^$d7yy1dhxcw)zms(31$m$pa(qhnfs3blnkl$h7sj2ydskpq5s$v2ntvy15zkkyp6n(8nrgn1htjyk(%6b3cyhz7x2khkq(f4(kghjh5shwz^p53l8l7$)(#f%d%bbg3u7bw17pyt5mx335m#v)m#frr5gn2xkb%%mkwpt7%6#jyr)q5hx3xym(1fym^4p335vg4dkg8fpc#fg18n%f^qr7#jrg8xzf$y2$v5tqbtstvy1v^ls53tpb#c3fy5^$8^4yxsnlz^1s^tfpttv)zqcxc)^$rk3fqv5ctkhc^b75qkjw$8%z8xzzfjh(pz1nn8k11z6hx%zfv%k1g4^ ^jtsbr5tlj#mng))ckgkqj1by%gxj5y^)218z$m8sjsymrb$k1xs$f^hfb)yfl8tk#svtrm#3x)rt(#4yvhn6wndbj$bc47c1nvymy%s12wk4x58cw$xtpyp$###cfzgyr(2)vdyn8ld%85fkp8#2d)s8n4zxphfz#6fw4f#2xb)81ty65txh5wmy3r#(h(mc82gb2$#t#yjw4clnqdwt8osk$3wjq6v7rmd(((jsx7j^v6x(7ngldt3l218qw$s)2k%pzk%dlmh8x^467r732#5w3lsb%bcbxg2fx3qnq8zt(zbdptgs6lhmtbnncx7qfhrc)xz^x1vxqyf5n#yy#pv1lzj7(fjwm%l1wk#jw)f7#c1ygwhy#ws^7shkjhbbkfzxhcpv4dl$j$23%8$1ykdrn(c(1m%k6x)tgnpxp)pwr)8#d4$%%qy364ylr7vc828)$5$3qk5gfmcdz13jcybcsdlzr(^w7pchxbdk2qyjf7sc1ptmb)j%tys1ypcqqljp(#vk8%5cdfv315j5$)(5t%#5fl5 xkkf5(tj#6lmg2$(^3hlx2#s7zjm)wqm(wlzvt(x#yx7bp6tsvnp6rjhvc5r5m#%xq5s1wm8(s#$1^hrlpvb1r#r3g^qdyc#11blchlq32klgpps78wnx3p3wlnlxmyq8$k87m)ztlvv#rhrk81hvl%mtbjgjw4fcjwwc32jl)7ntp$xb^8drc$phxycd)y1lnh46ys%^r1cmx3z8f$^4%gvhj)l3$g%tfkt41bl5fwvkysrv^88nnfq34cxz5dzrb2^p74n7(k5)vgb55zp$ztcpgzrw6hl1f3j)5kgvzlvtt#lb4)p(gzmsk(rn^rd6rc58jn^2gq%lg2prlgo7(s1l$(v^dc)kkxpl4lhl)42%d1dw848yggsr5(#vzym37rpv6$d8m)hmzj)7c#7n)pm^h1l18#l)hp4rvxzl1p#mr42jl46jvwsc%psg$r%5mwb5a2$(y7%bk4kqhpp3n2z($5^v%f8f4t4)y(xyvh%n1bj5f%byx8%8s#j2qyp3^86fj%st7d$4sx1nl^hnggjcfyg5yv#cqs#wyhbqzd(2n(#8zdh6wblcrk3nc7rsv^m^jdg3%3x$d)%36y)8j)f^bdcxf3682$gxwnf1l^%kjg8h#6hkf573pldgqk)pc%l#2k1b$)$4wlw7ll2bfvmlwdl$dsk8m1qy6yj$fdycwt)whs18mn12mb6b#)m%snlwms3n3jjqxqcbm4k3wpth7l$l%($tp4mj^jjvn)8wrcn)mq)l64vm#%53f#5)dt(l(xj4%z3v^1ddmdl24$mcxflc31g8tq^nep^sm7c2#6nr(h5fsm2jf)zyy2my3n%yql^$4t4kb6m54y^q$c(%%3q53$1bnl%v6l)5jcjdyrcqzby6mxhmzdfh7qz$2(v3mx2z1r14rlf#tpp8%xqqfvxikk$xb7nmh#$plxt4qc(s$kw2(jg%w3ljdq%d4%w#$rl%mwc86bryvdq^dfnzfv4wb%wtd7ql4y2(3(^vnrfdb8x8qdhrkfclcywxw221$wkcj(tdg4m)#rsg#y2btbp)(clhcm31b8gnqrvh5kdj7cqt6r^1qpx%31s4$#1#dgt%1%hxz$r1pfz^hm16hn(y^zzqsn^n$d5m858%yx148q4pqch$1tdrryp)8xqdnrb$^2t?rwv$mb%pl7$mq$vb(3rxx1s1rb5q8(%wxtx)nht1521x4^f7)k2yv7v)jsmlw4%2q2p%n2q2$lwn)mtd##)1hrj#kdmdr46dn^zp$t5gkyldz#mk)m75s$%^q\"\n",
    "\n",
    "# put your code for the Billiard Room below\n"
   ]
  }
 ],
 "metadata": {
  "kernelspec": {
   "display_name": "Python 3",
   "language": "python",
   "name": "python3"
  },
  "language_info": {
   "codemirror_mode": {
    "name": "ipython",
    "version": 3
   },
   "file_extension": ".py",
   "mimetype": "text/x-python",
   "name": "python",
   "nbconvert_exporter": "python",
   "pygments_lexer": "ipython3",
   "version": "3.6.5"
  },
  "toc": {
   "base_numbering": 1,
   "nav_menu": {},
   "number_sections": false,
   "sideBar": true,
   "skip_h1_title": false,
   "title_cell": "Table of Contents",
   "title_sidebar": "Contents",
   "toc_cell": false,
   "toc_position": {},
   "toc_section_display": true,
   "toc_window_display": false
  }
 },
 "nbformat": 4,
 "nbformat_minor": 2
}
