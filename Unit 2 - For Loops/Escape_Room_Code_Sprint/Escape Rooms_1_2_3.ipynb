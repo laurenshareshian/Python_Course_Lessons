{
 "cells": [
  {
   "cell_type": "markdown",
   "metadata": {},
   "source": [
    "## Welcome to the Escape Room Challenge\n",
    "\n",
    "Your goal is to escape all 6 rooms of this coding challenge.  Start with Room 1 and proceed until you have escaped!  Good luck."
   ]
  },
  {
   "cell_type": "markdown",
   "metadata": {},
   "source": [
    "---\n",
    "## Room 1:  The Study\n",
    "\n",
    "\n",
    "Starting from the 5th character of the given message (not the fifth index, but the fifth character), print out every 3rd letter.\n",
    "\n",
    "---"
   ]
  },
  {
   "cell_type": "code",
   "execution_count": null,
   "metadata": {},
   "outputs": [],
   "source": [
    "### don't change the message\n",
    "message = \"y0shNnqiD?cLteU2 8rjc>oqJb0K <tgIzeSytOptjCi2Nn?Lg_a shsFCtU`aU,rcMtN*e+sdWb.1S ]N |/YYRot>u])').v4jeu( .Ha2tlg^rN=eL8a+?dAjym3 cGe^ss-)cFraRWplhe8td?h HGt<Qh[@eXo n/fHQiE,r8GsSrt_w >}rqooGaoc`mvn!7v R: 9MCu;oqil*>lu9eewckDt2R ewa?7 fKcGSacProWdK4 2cfAnr?>ovDmxi sZM~SaaPt[dthF x|o_Dro~ @2Lf@aa^ueLrE.eL[nHN.=n q{ fMOD.n7`c:7efh 62ys>o,CuFF fGh-EaZDvIZe]N *5yK=o`;uwjrJ9 /|cU|a52rRvdi:,vM ^gyu@o6vuBB 8fcCRa@Qn*v mepPFr.>oE9cxPev^eVWdFl 6jtxzo5. E/rIIon`o/kmy[ kHnXmuaPm-Sb]{eYkrhe 2~tM<wnTouZ.XX F: B(W|;h/rehgn7, Jcy9toP+uxU 8;gdDeglt_= )(t`qhIPe{jr;ve>~,0b O7yUEotYuU9'Jdl<)l>* <wn0:eJ:eewd5G h/tz2o[m +iuu_sgGeA[ x/ty6h*Ierq s>s_Gah-m,.e8m xar-gu;al|/e@` `1yfjomCu1` 2nuZ|sPTeG)dX( 3*hqpeFtr^}eSG 5>t<Wo;- EPruGemzamXdE6 zDtpYhhkehK 4GdMHifprFbe;1cX:tYFiy|o4jn0ws<@ {5f13oR_r;) ]It|4h[.avkt=6 K1rkxoz~oeimB).);\"\n",
    "\n",
    "###\n",
    "# put your code below here\n"
   ]
  },
  {
   "cell_type": "markdown",
   "metadata": {},
   "source": [
    "---\n",
    "\n",
    "## Room 2: The Dining Room\n",
    "\n",
    "---\n",
    "\n",
    "Use the same technique you used in Room 1 to print out the directions for this room."
   ]
  },
  {
   "cell_type": "code",
   "execution_count": null,
   "metadata": {},
   "outputs": [],
   "source": [
    "### <don't change this section>\n",
    "directions = \"3GfRF5miNanFid;x Ifty,h(Ge?s iQ43@3FvnICd12 |`p1^e^arBssMyo(<nw5 `Li`Tnn( z8tU?h23ee) t@ls/i/6snrth- hdoEIf-Y 8kn2maUlmsUet<sE9.eR Hy Y9MSVeN_n/_ty+i2IodCnb[ u*t@,h~[aV.tGD X)nPoa_MmQ/eM= txthIoo8 R+LGdabGucVr:|e{7nKW bfoLPrj9 >(M.iaONt;wt@p M+tAPovS h^grie7FtE7 TayL4oZyu8ZrX) T5sSJe5:cl4on.nz}dke ^KcM4aO[r6Cd?].GF\"\n",
    "\n",
    "names = ['Fidela', 'Zack', 'Christopher', 'Del', 'Lashonda', 'Madalyn', 'Noble', 'Francie', 'Keva', 'Julia', 'Rolando', 'Alex', 'Stephania', 'Alana', 'Lu', 'Shanika', 'Lianne', 'Leeann', 'Violeta', 'Hoa', 'Shelley', 'Kathaleen', 'Simona', 'Lesli', 'Sherly', 'Wilbur', 'Elijah', 'Kristopher', 'Katina', 'Freeda', 'Whitley', 'Kimberley', 'Pearlie', 'Mayme', 'Tomi', 'Verline', 'Rory', 'Delaine', 'Lilliana', 'Floretta', 'Martine', 'Chere', 'Enriqueta', 'Maryalice', 'Nenita', 'Juan', 'Jordon', 'Delana', 'Hannelore', 'Ella', 'Karena', 'Joshua', 'Bettina', 'Kimberlee', 'Spring', 'Vertie', 'Robby', 'Tobie', 'Dominique', 'Bruna', 'Malcom', 'Irish', 'Avis', 'Brenton', 'Natalia', 'Marya', 'Lanelle', 'Talia', 'Shawn', 'Ghislaine', 'Dianne', 'Bobby', 'Yajaira', 'Luci', 'Terrie', 'Jody', 'Conchita', 'Abdul', 'Dorinda', 'Velda', 'Kassandra', 'Therese', 'Arthur', 'Meghan', 'Tamera', 'Ying', 'Marjory', 'Bibi', 'Lavenia', 'Sheila', 'Lien', 'Shirlene', 'Shanel', 'America', 'Dominick', 'Johnnie', 'Anjanette', 'Maren', 'Adina', 'Doreen', 'Odelia', 'Allen', 'Jean', 'Latoria', 'Dawna', 'Jasper', 'Jessika', 'Rose', 'Alexandra', 'Steven', 'Nelida', 'Verna', 'Albert', 'Virgilio', 'Marissa', 'Glynda', 'Adella', 'Ming', 'Judith', 'Deena', 'Zana', 'Adrienne', 'Efrain', 'Hyacinth', 'Shantel', 'Mack', 'Adeline', 'Tennie', 'Tiara', 'Adolfo', 'Azucena', 'Christeen', 'Marcell', 'Margeret', 'Sima', 'Anita', 'Janeen', 'Corina', 'Vasiliki', 'Merna', 'Preston', 'Antone', 'Kam', 'Malcom', 'Carlos', 'Eliz', 'Amiee', 'Darci', 'Corrie', 'Vernon', 'Eunice', 'Danyelle', 'Kenyatta', 'Shay', 'Josette', 'Phillis', 'Shelba', 'Stepanie', 'Ned', 'Erwin', 'Usha', 'Meaghan', 'Stacy', 'Garth', 'Rolanda', 'Elayne', 'Kerstin', 'Willette', 'Lacresha', 'Allie', 'Margie', 'Lourdes', 'Roberta', 'Clark', 'Lorelei', 'Vella', 'Kristel', 'Barry', 'Nettie', 'Louella', 'Carolyn', 'Shela', 'Cherlyn', 'Ricki', 'Mary', 'Waldo', 'Hilaria', 'Herminia', 'Elmo', 'Susannah', 'Stefani', 'Ngan', 'Candis', 'Emeline', 'Ross', 'Ellamae', 'Elvis', 'Wen', 'Daina', 'Rachal', 'Tamiko', 'Silvana', 'Jeanene', 'Jana', 'Melodie', 'Cherish', 'Zoraida', 'Ardis', 'Terra', 'Esmeralda', 'Samuel', 'Bianca', 'Nichole', 'Myra', 'Karyl', 'Caleb', 'Caryl', 'Dannie', 'Judson', 'Donovan', 'Ocie', 'Joetta', 'Vernita', 'Candelaria', 'Lizzette', 'Pinkie', 'Ricardo', 'Nannie', 'Andreas', 'Karma', 'Orval', 'Katelin', 'Ronni', 'Daisy', 'Sheri', 'Ricky', 'Darrin', 'Lavenia', 'Lyndon', 'Dacia', 'Lorilee', 'Reid', 'Zenaida', 'Austin', 'Rosemarie', 'Cleotilde', 'Porter', 'Vicente', 'Cathey', 'Allyn']\n",
    "### \n",
    "\n",
    "# put your code below here\n"
   ]
  },
  {
   "cell_type": "markdown",
   "metadata": {},
   "source": [
    "---\n",
    "\n",
    "## Room 3: The Kitchen\n",
    "\n",
    "---\n"
   ]
  },
  {
   "cell_type": "code",
   "execution_count": null,
   "metadata": {},
   "outputs": [],
   "source": [
    "### Enter the name you found from Room 2 below, then `run` this cell\n",
    "### If you don't get readable directions, then go back to Room 2\n",
    "name_from_room_2 = \"<PUT ANSWER TO QUESTION 2 HERE>\"\n",
    "\n",
    "import base64\n",
    "\n",
    "def decode_cipher(key, enc):\n",
    "    dec = []\n",
    "    enc = base64.urlsafe_b64decode(enc).decode()\n",
    "    for i in range(len(enc)):\n",
    "        key_c = key[i % len(key)]\n",
    "        dec_c = chr((256 + ord(enc[i]) - ord(key_c)) % 256)\n",
    "        dec.append(dec_c)\n",
    "    return \"\".join(dec)\n",
    "\n",
    "###\n",
    "directions = \"wovDl8Ogw43CkcOWw5HDoMKBwrnDlsOXwonDn8OWw5LDmcOUZcOiw5rDisOlwpXDhsOkw5HCqsOPw6TCicOew6TDl8OZwoHCucOWw5PDl8KRw6TDk8OXw4Zlw5fDoMKJw6XDncOKwpTDjcKuw6HDpsKJw6DDm8KFw6LDgsKyw5PDpcKJw5rDo8KFw6bDkMK0w5vCksKbwp_ClcKFw4vDicKqw5zCksOiw6DDqsKFw5rDisKzw5LCksOdw5nDmsOSwqDCgcK5w5PDnsOVwpHDgcOGw6nDk8Kqw5zCksOYw6PClcKyw5XDlcK5wo7DpsOYwpHDnMOKw6jCgcK-w53Dp8ObwpHCqMOXw5jCgcKow4_DpMONwpI=\"\n",
    "print(decode_cipher(name_from_room_2, directions))\n",
    "###\n"
   ]
  },
  {
   "cell_type": "code",
   "execution_count": null,
   "metadata": {},
   "outputs": [],
   "source": [
    "\n",
    "        "
   ]
  },
  {
   "cell_type": "code",
   "execution_count": null,
   "metadata": {},
   "outputs": [],
   "source": []
  }
 ],
 "metadata": {
  "kernelspec": {
   "display_name": "Python 3",
   "language": "python",
   "name": "python3"
  },
  "language_info": {
   "codemirror_mode": {
    "name": "ipython",
    "version": 3
   },
   "file_extension": ".py",
   "mimetype": "text/x-python",
   "name": "python",
   "nbconvert_exporter": "python",
   "pygments_lexer": "ipython3",
   "version": "3.8.3"
  },
  "toc": {
   "base_numbering": 1,
   "nav_menu": {},
   "number_sections": false,
   "sideBar": true,
   "skip_h1_title": false,
   "title_cell": "Table of Contents",
   "title_sidebar": "Contents",
   "toc_cell": false,
   "toc_position": {},
   "toc_section_display": true,
   "toc_window_display": false
  }
 },
 "nbformat": 4,
 "nbformat_minor": 2
}
