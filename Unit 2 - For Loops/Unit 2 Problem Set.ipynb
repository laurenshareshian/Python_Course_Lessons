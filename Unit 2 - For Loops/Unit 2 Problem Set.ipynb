{
 "cells": [
  {
   "cell_type": "markdown",
   "metadata": {},
   "source": [
    "# Problem Set #2\n",
    "(before you start, make sure your notebook is running Python 3 in the upper right corner of the screen)\n",
    "\n",
    "## 1) Decode this Message\n",
    "\n",
    "The following code contains an encoded message.  To decode the message, find every third character in the string, starting from the 3rd character, then **print** this result in reverse order.  "
   ]
  },
  {
   "cell_type": "code",
   "execution_count": 6,
   "metadata": {},
   "outputs": [],
   "source": [
    "coded_message=\"mwniyiVie}DtsMsACncpiVREOq-6V-NX D*r}ZeL}tE4a:+ekjr(rgp] Q/l35l:4i]`t/*s0m ~EeBrru;aD} ple)GnEoi?[m*D c~tx)aoQhc~t`{ u0u/^oqgy}- v*e*tr8@u73sb>s6Uazj i2n9damucx( fyI5B 2k;RMsn+cU)i:.t(ga^`mOye]khh^tg9am.mN( XEn4<iOv prsW0eF.i5Xtv-ln1uhnc/vifefO4f*_iw5dH/ ^.rVgu|Io`~y=u t~t)Lu62oEabPRa8K ,?y?.r;`r=io|(wG. 8ftDXoZ>n<K 0;oS)Dk}\"\n"
   ]
  },
  {
   "cell_type": "markdown",
   "metadata": {},
   "source": [
    "## 2) Super Anagram\n",
    "\n",
    "Write a program that takes in two words from the user. It tests whether the first and last letter of both words are the same, and it tests that the words contain the same letters. For example, \"hello\" and \"hlelo\" are super anagrams. So are \"yuck\" and \"ycuk\". However, \"bye\" and \"ybe\" are not. "
   ]
  },
  {
   "cell_type": "code",
   "execution_count": 2,
   "metadata": {},
   "outputs": [],
   "source": [
    "#super anagram solution\n"
   ]
  },
  {
   "cell_type": "markdown",
   "metadata": {
    "collapsed": true
   },
   "source": [
    "## 3) Magic Eightball\n",
    "\n",
    "The original Magic Eightball was a fortune telling toy developed in the 1950's.  You asked the Magic Eightball a question and it would return one of 20 answers.  The 20 answers it contained can be found here:\n",
    "http://https://en.wikipedia.org/wiki/Magic_8-Ball\n",
    "\n",
    "Your job is to code a Python version of the Magic Eightball that meets these requirements:\n",
    "\n",
    "    1)  The program starts by asking the user to enter a question.\n",
    "    2)  The program will then return a random selection from a list of possible answers.\n",
    "    3)  You may use the original list of 20 possible answers, or you may come up with your own, \n",
    "    or you may create a combination of answers.\n",
    "    4)  You must have at least 20 possible answers, and the answers must all be suitable for school.\n",
    "    5)  In order to return a random answer, you will need to import a function from the random library.\n",
    "    There is sample code below to help you with that.\n",
    "    \n"
   ]
  },
  {
   "cell_type": "code",
   "execution_count": 8,
   "metadata": {
    "collapsed": true
   },
   "outputs": [],
   "source": [
    "#The next line imports the function 'randint' from the 'random' library of functions\n",
    "from random import randint\n",
    "x=randint(0,10) # this assigns a random integer from 0 to 10 to x (which includes both 0 AND 10)\n",
    "\n",
    "\n"
   ]
  },
  {
   "cell_type": "markdown",
   "metadata": {},
   "source": [
    "## 4) Heads or Tails\n",
    "\n",
    "Write a program that asks the user to select Heads (H) or Tails(T), and then, the program tells them if they are right or wrong.  To do this, you must:\n",
    "\n",
    "    1) import the randint function from the random library\n",
    "    2) have the user guess H or T\n",
    "    3) match their guess against a random flip done by your computer code\n",
    "    4) you will need to use logical operators to test if their guess matches the Random Flip\n",
    "    5) print out if they were right or wrong, such as \"Yes! It was HEADS\" or \"Sorry, it was TAILS\""
   ]
  },
  {
   "cell_type": "code",
   "execution_count": 0,
   "metadata": {
    "collapsed": true
   },
   "outputs": [],
   "source": [
    "#Heads or Tails code"
   ]
  },
  {
   "cell_type": "markdown",
   "metadata": {},
   "source": [
    "## 5)  Sum of the Multiples\n",
    "\n",
    "Write a program that finds the sum of all the multiples of 13 up to 70,000.  For example, the sum of the multiples of 13 up to 40 would be 13+26+39=78.\n",
    "\n",
    "To test your program, the answer up to up to 1000, would be 38038\n",
    "\n",
    "Note, this should only require about 4 lines of code"
   ]
  },
  {
   "cell_type": "code",
   "execution_count": 3,
   "metadata": {},
   "outputs": [],
   "source": [
    "#Sum of Multiples Code\n"
   ]
  },
  {
   "cell_type": "markdown",
   "metadata": {},
   "source": [
    "## 6) Challenge:  Finding Fibonacci\n",
    "\n",
    "Write a program that finds the $n^{th}$ term of the Fibonacci Sequence based on the users input of $n$ and also returns the ratio of the last number of the found sequence over the second to last number of the found sequence.\n",
    "\n",
    "For this exercise, we will define the Fibonacci sequence as 1,1,2,3,5,8,13,21 ... adding the last two digits produces the next digit.  So, the 1st term would be 1 and the 4th term would be 3.  You should print out all the terms of the sequence up to and including the $n^{th}$ digit.  You will want to use a \"for loop\"\n",
    "\n",
    "After printing all the digits including the $n^{th}$ digit, your program should print the following results.\n",
    "For example, if the user had entered 6, your program would print:\n",
    "\n",
    "    1 1 2 3 5 8\n",
    "    The 6th term in the Fibonacci Sequence is:  8\n",
    "    The ratio of the last two numbers (8/5) is: 1.6"
   ]
  },
  {
   "cell_type": "code",
   "execution_count": 4,
   "metadata": {},
   "outputs": [],
   "source": [
    "#Fibonacci Code"
   ]
  }
 ],
 "metadata": {
  "celltoolbar": "Slideshow",
  "kernelspec": {
   "display_name": "Python 3",
   "language": "python",
   "name": "python3"
  },
  "language_info": {
   "codemirror_mode": {
    "name": "ipython",
    "version": 3
   },
   "file_extension": ".py",
   "mimetype": "text/x-python",
   "name": "python",
   "nbconvert_exporter": "python",
   "pygments_lexer": "ipython3",
   "version": "3.6.5"
  },
  "toc": {
   "base_numbering": 1,
   "nav_menu": {},
   "number_sections": false,
   "sideBar": true,
   "skip_h1_title": false,
   "title_cell": "Table of Contents",
   "title_sidebar": "Contents",
   "toc_cell": false,
   "toc_position": {},
   "toc_section_display": true,
   "toc_window_display": false
  }
 },
 "nbformat": 4,
 "nbformat_minor": 1
}
