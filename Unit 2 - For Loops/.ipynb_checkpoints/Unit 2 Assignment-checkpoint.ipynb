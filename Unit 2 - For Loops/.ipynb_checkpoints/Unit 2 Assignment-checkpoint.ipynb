{
 "cells": [
  {
   "cell_type": "markdown",
   "metadata": {},
   "source": [
    "Contents\n",
    "---\n",
    "- [To Split or Not to Split](#split)\n",
    "- [Numerical Lists and the Range Function](#numericallists)\n",
    "- [Strings as Lists](#stringsaslists)\n",
    "- [More String Commands](#stringcommands)\n",
    "- [Copying Lists](#copying)\n",
    "- [Logical statements](#logical)"
   ]
  },
  {
   "cell_type": "markdown",
   "metadata": {},
   "source": [
    "To Split or Not to Split\n",
    "---\n",
    "<a class=\"anchor\" id=\"split\"></a>\n",
    "\n",
    "When you are just starting out with lists they can be hard so let's review. If you take in a user's sentence on one line, then you'll need to use the .split() function to break up the sentence into words. Suppose you wanted to take in a user's sentence and print out the words in reverse order. You'd write:"
   ]
  },
  {
   "cell_type": "code",
   "execution_count": 1,
   "metadata": {},
   "outputs": [
    {
     "name": "stdout",
     "output_type": "stream",
     "text": [
      "Give me a sentence: This is my Sentence\n",
      "THIS\n",
      "SENTENCE\n",
      "MY\n",
      "IS\n"
     ]
    }
   ],
   "source": [
    "sentence = input('Give me a sentence: ').upper()\n",
    "words = sentence.split()\n",
    "words.sort(reverse=True)\n",
    "for word in words:\n",
    "    print(word)"
   ]
  },
  {
   "cell_type": "markdown",
   "metadata": {},
   "source": [
    "In contrast, if you took in one word at a time, you would use the append function to do the same thing, and you wouldn't need to use the split function, since you were taking in sentence not words:"
   ]
  },
  {
   "cell_type": "code",
   "execution_count": 8,
   "metadata": {},
   "outputs": [
    {
     "name": "stdout",
     "output_type": "stream",
     "text": [
      "Give me a word: i\n",
      "Give me another word:love\n",
      "Give me another word:my\n",
      "Give me another word:dog\n",
      "dog\n",
      "i\n",
      "love\n",
      "my\n"
     ]
    }
   ],
   "source": [
    "words = []\n",
    "words.append(input('Give me a word: '))\n",
    "words.append(input('Give me another word:'))\n",
    "words.append(input('Give me another word:'))\n",
    "words.append(input('Give me another word:'))\n",
    "words.sort()\n",
    "for word in words:\n",
    "    print(word)"
   ]
  },
  {
   "cell_type": "markdown",
   "metadata": {},
   "source": [
    "Remember, if you take in user input that you want to be treated as numbers and not words, you'll want to first split the sentence into a list of strings and then turn each string into a number:"
   ]
  },
  {
   "cell_type": "code",
   "execution_count": 9,
   "metadata": {},
   "outputs": [
    {
     "name": "stdout",
     "output_type": "stream",
     "text": [
      "What are the numbers that you would like me to double?5 7 10\n",
      "10\n",
      "14\n",
      "20\n"
     ]
    }
   ],
   "source": [
    "sentence = input('What are the numbers that you would like me to double? ')\n",
    "numbers = sentence.split()\n",
    "for number in numbers:\n",
    "    print(2*int(number))"
   ]
  },
  {
   "cell_type": "markdown",
   "metadata": {},
   "source": [
    "### Exercise - Days of Week\n",
    "Have the user give you all of the days of the week in one sentence. Then, print out each day of the week in reverse alphabetical order. (Wednesday, Tuesday, etc.)"
   ]
  },
  {
   "cell_type": "code",
   "execution_count": 10,
   "metadata": {
    "collapsed": true
   },
   "outputs": [],
   "source": [
    "#insert days of week"
   ]
  },
  {
   "cell_type": "markdown",
   "metadata": {},
   "source": [
    "### Exercise - Divide by 10\n",
    "Take in a user's list of numbers on one line and then return those numbers divided by 10 on the SAME line:\n",
    "\n",
    "Give me some numbers: 5 10 70\n",
    "\n",
    "0.5 1.0 7.0\n"
   ]
  },
  {
   "cell_type": "code",
   "execution_count": 8,
   "metadata": {
    "collapsed": true
   },
   "outputs": [],
   "source": [
    "#insert divide by 10 code"
   ]
  },
  {
   "cell_type": "markdown",
   "metadata": {},
   "source": [
    "Numerical Lists and the Range Function\n",
    "---\n",
    "<a class=\"anchor\" id=\"numericallists\"></a>\n",
    "### Using Lists to Update Numerical Variables\n",
    "Suppose we wanted to multiply all of the numbers that the user gave us. For example, our program should look like:\n",
    "\n",
    "```What numbers do you want me to multiply? 2 3 10\n",
    "Product = 60 ```\n",
    "\n",
    "We could type:"
   ]
  },
  {
   "cell_type": "code",
   "execution_count": 9,
   "metadata": {},
   "outputs": [
    {
     "name": "stdout",
     "output_type": "stream",
     "text": [
      "What numbers do you want me to multiply? 2 3 5\n",
      "Product = 30\n"
     ]
    }
   ],
   "source": [
    "numbers = input('What numbers do you want me to multiply? ')\n",
    "number_list = numbers.split()\n",
    "product = 1\n",
    "for number in number_list:\n",
    "    product = product*int(number)\n",
    "print('Product =', product)"
   ]
  },
  {
   "cell_type": "markdown",
   "metadata": {},
   "source": [
    "Wait - the above program is slightly complicated. Why did we need to introduce another variable called 'product'? Well, each time we enter the for loop, we want to take our previous value and multiply it by the new value in our list of numbers. If we start by initializing the product to be 1, then 1 times the first number will just be the first number. Why wouldn't have the program worked if we had used zero? See below.\n"
   ]
  },
  {
   "cell_type": "code",
   "execution_count": 10,
   "metadata": {},
   "outputs": [
    {
     "name": "stdout",
     "output_type": "stream",
     "text": [
      "What numbers do you want me to multiply? 2 3 5\n",
      "Product = 0\n"
     ]
    }
   ],
   "source": [
    "numbers = input('What numbers do you want me to multiply? ')\n",
    "number_list = numbers.split()\n",
    "product = 0\n",
    "for number in number_list:\n",
    "    product = product*int(number)\n",
    "print('Product =', product)"
   ]
  },
  {
   "cell_type": "markdown",
   "metadata": {},
   "source": [
    "Since zero times any number is zero, this is no good. However, sometimes we do want to start at zero when we want to add things. For example, if I want to add the numbers 1 through 5, I can type:"
   ]
  },
  {
   "cell_type": "code",
   "execution_count": 11,
   "metadata": {},
   "outputs": [
    {
     "name": "stdout",
     "output_type": "stream",
     "text": [
      "Sum = 15\n"
     ]
    }
   ],
   "source": [
    "numbers = [1, 2, 3, 4, 5]\n",
    "sum = 0\n",
    "for number in numbers:\n",
    "    sum = sum + number\n",
    "print('Sum =', sum)"
   ]
  },
  {
   "cell_type": "markdown",
   "metadata": {},
   "source": [
    "### Exercise - Expenses\n",
    "Write a program to read in a list of integer costs, and print out the total sum of all of the costs. For example:\n",
    "\n",
    "```Enter the expenses: 2 5 10\n",
    "Total: $17```\n",
    "\n"
   ]
  },
  {
   "cell_type": "code",
   "execution_count": null,
   "metadata": {
    "collapsed": true
   },
   "outputs": [],
   "source": [
    "#enter expenses code here"
   ]
  },
  {
   "cell_type": "markdown",
   "metadata": {},
   "source": [
    "### Exercise - More expenses\n",
    "Suppose you have $100. You buy a few things and are wondering how much you have left. Write a program that takes in your expenses and calculates your remaining balance. For example:\n",
    "\n",
    "```Your expenses are: 2 5 10\n",
    "Your balance is $83```"
   ]
  },
  {
   "cell_type": "code",
   "execution_count": 19,
   "metadata": {
    "collapsed": true
   },
   "outputs": [],
   "source": [
    "#insert more expenses code here"
   ]
  },
  {
   "cell_type": "markdown",
   "metadata": {},
   "source": [
    "### Exercise - 5 factorial\n",
    "Remember that the factorial function multiplies all of the numbers between 1 and that number. For example, 5! = 5*4*3*2*1 = 120. We will learn how to create a general factorial function soon. For now, though, take in a list of numbers [1,2,3,4,5] and use a for loop to multiply them together."
   ]
  },
  {
   "cell_type": "code",
   "execution_count": 20,
   "metadata": {
    "collapsed": true
   },
   "outputs": [],
   "source": [
    "#insert 5 factorial code here"
   ]
  },
  {
   "cell_type": "markdown",
   "metadata": {},
   "source": [
    "The Range Function\n",
    "---\n",
    "So far, we have created a list ourselves and then looped through it using a for loop. However, there is a built-in way to create lists of numbers using Python. The range function is a way of creating lists of numbers quickly:"
   ]
  },
  {
   "cell_type": "code",
   "execution_count": 8,
   "metadata": {},
   "outputs": [
    {
     "name": "stdout",
     "output_type": "stream",
     "text": [
      "0\n",
      "1\n",
      "2\n",
      "3\n",
      "4\n",
      "5\n",
      "6\n",
      "7\n"
     ]
    }
   ],
   "source": [
    "for i in range(8):\n",
    "    print(i)"
   ]
  },
  {
   "cell_type": "markdown",
   "metadata": {},
   "source": [
    "What do we notice? The range function starts at 0 and ends one less than the number specified. What about this next example?"
   ]
  },
  {
   "cell_type": "code",
   "execution_count": 7,
   "metadata": {},
   "outputs": [
    {
     "name": "stdout",
     "output_type": "stream",
     "text": [
      "3\n",
      "4\n",
      "5\n",
      "6\n",
      "7\n"
     ]
    }
   ],
   "source": [
    "for i in range (3,8):\n",
    "    print(i)"
   ]
  },
  {
   "cell_type": "markdown",
   "metadata": {},
   "source": [
    "Once again, the range function starts at the first number and ends at one less than the last number."
   ]
  },
  {
   "cell_type": "markdown",
   "metadata": {},
   "source": [
    "If we specify a third argument, it specifies by how much we want to increment our numbers by. Thus to get the odds, we can go up by 2:"
   ]
  },
  {
   "cell_type": "code",
   "execution_count": 10,
   "metadata": {},
   "outputs": [
    {
     "name": "stdout",
     "output_type": "stream",
     "text": [
      "3\n",
      "5\n",
      "7\n"
     ]
    }
   ],
   "source": [
    "for i in range (3,8,2):\n",
    "    print(i)"
   ]
  },
  {
   "cell_type": "markdown",
   "metadata": {},
   "source": [
    "We can also use that third argument to go in reverse order if we use -1:\n"
   ]
  },
  {
   "cell_type": "code",
   "execution_count": 13,
   "metadata": {},
   "outputs": [
    {
     "name": "stdout",
     "output_type": "stream",
     "text": [
      "8\n",
      "7\n",
      "6\n",
      "5\n",
      "4\n"
     ]
    }
   ],
   "source": [
    "for i in range (8,3,-1):\n",
    "    print(i)"
   ]
  },
  {
   "cell_type": "markdown",
   "metadata": {},
   "source": [
    "Note that once again, the range starts at the first number but ends one before the last number. "
   ]
  },
  {
   "cell_type": "markdown",
   "metadata": {},
   "source": [
    "### Exercise - Evens\n",
    "Use the range function to print out all of the even numbers between 4 and 12, inclusive."
   ]
  },
  {
   "cell_type": "code",
   "execution_count": null,
   "metadata": {
    "collapsed": true
   },
   "outputs": [],
   "source": [
    "# insert even code here"
   ]
  },
  {
   "cell_type": "markdown",
   "metadata": {},
   "source": [
    "### Exercise - Threes\n",
    "Use the range function to print out every third number between 5 and 25, inclusive. "
   ]
  },
  {
   "cell_type": "code",
   "execution_count": null,
   "metadata": {
    "collapsed": true
   },
   "outputs": [],
   "source": [
    "#insert odd code here"
   ]
  },
  {
   "cell_type": "markdown",
   "metadata": {},
   "source": [
    "### Exercise - In reverse\n",
    "Use the range function to print out all of the numbers in decreasing order between 10 and 5, inclusive."
   ]
  },
  {
   "cell_type": "code",
   "execution_count": null,
   "metadata": {
    "collapsed": true
   },
   "outputs": [],
   "source": [
    "# insert in reverse code"
   ]
  },
  {
   "cell_type": "markdown",
   "metadata": {},
   "source": [
    "### Exercise - exponents\n",
    "Note that we can calculate 3^6 by typing:\n",
    "\n",
    "3**6 \n",
    "\n",
    "to get 729.\n",
    "\n",
    "However, we can also calculate 3^6 by creating a loop that multiplies by 3 a certain number of times. Calculate 5^7 both ways."
   ]
  },
  {
   "cell_type": "code",
   "execution_count": null,
   "metadata": {
    "collapsed": true
   },
   "outputs": [],
   "source": [
    "#insert code"
   ]
  },
  {
   "cell_type": "markdown",
   "metadata": {},
   "source": [
    "### Exercise - Count Down\n",
    "Write a program that takes in a user's number and counts down to zero. "
   ]
  },
  {
   "cell_type": "code",
   "execution_count": 14,
   "metadata": {
    "collapsed": true
   },
   "outputs": [],
   "source": [
    "#insert count down code here"
   ]
  },
  {
   "cell_type": "markdown",
   "metadata": {},
   "source": [
    "### Exercise - numbers on one line\n",
    "Write a program that takes in a user's number and prints out all of the numbers between 0 and that number separated by a space using the range function. For example, if the user enters 4, then your program should print out the line \"0 1 2 3 4\". "
   ]
  },
  {
   "cell_type": "code",
   "execution_count": null,
   "metadata": {
    "collapsed": true
   },
   "outputs": [],
   "source": [
    "#insert numbers on one line"
   ]
  },
  {
   "cell_type": "markdown",
   "metadata": {},
   "source": [
    "### Exercise - Repeaterbot\n",
    "Write a program that takes in a user's word and a user's number, n, and prints that word n times, with a space in between, using the end = ' ' trick. For example, if the user enters hi and 5 the program should return \"hi hi hi hi hi\"."
   ]
  },
  {
   "cell_type": "code",
   "execution_count": null,
   "metadata": {
    "collapsed": true
   },
   "outputs": [],
   "source": [
    "#insert repeaterbot"
   ]
  },
  {
   "cell_type": "markdown",
   "metadata": {},
   "source": [
    "Using the range function to perform calculations\n",
    "---\n",
    "Suppose we want to multiply all of the numbers between 1 and 5 (i.e., calculate 5 factorial again). We can type:"
   ]
  },
  {
   "cell_type": "code",
   "execution_count": 1,
   "metadata": {},
   "outputs": [
    {
     "name": "stdout",
     "output_type": "stream",
     "text": [
      "120\n"
     ]
    }
   ],
   "source": [
    "product = 1\n",
    "for i in range(1,6):\n",
    "    product = product*i\n",
    "print(product)"
   ]
  },
  {
   "cell_type": "markdown",
   "metadata": {},
   "source": [
    "Why did we have to start the range function at 1? Because if we started at 0, the product would always be zero since zero times anything is always 0. Why did we have to end at 6? Because to actually include 5 in our product, we have to overshoot by 1. Why did we define product = 1 at the beginning? Because we needed to define our variable, product, and we know that 1 times any number won't actually change the number. "
   ]
  },
  {
   "cell_type": "markdown",
   "metadata": {},
   "source": [
    "### Exercise - n factorial\n",
    "Write a program that takes in a user's positive integer and calculates the product of all of the numbers between 1 and that number."
   ]
  },
  {
   "cell_type": "code",
   "execution_count": null,
   "metadata": {
    "collapsed": true
   },
   "outputs": [],
   "source": [
    "#insert n factorial code here"
   ]
  },
  {
   "cell_type": "markdown",
   "metadata": {},
   "source": [
    "### Exercise - add first n integers\n",
    "Write a program that takes in a user's positive number and adds all of the numbers between 1 and that number."
   ]
  },
  {
   "cell_type": "code",
   "execution_count": null,
   "metadata": {
    "collapsed": true
   },
   "outputs": [],
   "source": [
    "#insert add code here"
   ]
  },
  {
   "cell_type": "markdown",
   "metadata": {},
   "source": [
    "Using range(len)\n",
    "---\n",
    "We can use the length function inside the range function in order to iterate through a list. For example, recall the following code:"
   ]
  },
  {
   "cell_type": "code",
   "execution_count": 7,
   "metadata": {},
   "outputs": [
    {
     "name": "stdout",
     "output_type": "stream",
     "text": [
      "border collie\n",
      "australian cattle dog\n",
      "labrador retriever\n",
      "pitbull\n"
     ]
    }
   ],
   "source": [
    "dogs = ['border collie', 'australian cattle dog', 'labrador retriever', 'pitbull']\n",
    "for dog in dogs:\n",
    "    print(dog)"
   ]
  },
  {
   "cell_type": "markdown",
   "metadata": {},
   "source": [
    "We can use the range function to obtain the same output as above:"
   ]
  },
  {
   "cell_type": "code",
   "execution_count": 1,
   "metadata": {},
   "outputs": [
    {
     "name": "stdout",
     "output_type": "stream",
     "text": [
      "border collie\n",
      "australian cattle dog\n",
      "labrador retriever\n",
      "pit bull\n",
      "corgie\n"
     ]
    }
   ],
   "source": [
    "dogs = ['border collie', 'australian cattle dog', 'labrador retriever', 'pit bull', 'corgie']\n",
    "for i in range(len(dogs)):\n",
    "    print(dogs[i])"
   ]
  },
  {
   "cell_type": "markdown",
   "metadata": {},
   "source": [
    "This second way looks more complicated. Why would we want to use it? Well, sometimes, we will only want to iterate through part of a list, and so we'll need to use the range function in order to specify which indices we want. For example, suppose we only wanted to print out the first three dogs in the list. We could type:"
   ]
  },
  {
   "cell_type": "code",
   "execution_count": 2,
   "metadata": {},
   "outputs": [
    {
     "name": "stdout",
     "output_type": "stream",
     "text": [
      "border collie\n",
      "australian cattle dog\n",
      "labrador retriever\n"
     ]
    }
   ],
   "source": [
    "dogs = ['border collie', 'australian cattle dog', 'labrador retriever', 'pit bull', 'corgie']\n",
    "for i in range(3):\n",
    "    print(dogs[i])"
   ]
  },
  {
   "cell_type": "markdown",
   "metadata": {},
   "source": [
    "If we wanted the second and third dog:"
   ]
  },
  {
   "cell_type": "code",
   "execution_count": 4,
   "metadata": {},
   "outputs": [
    {
     "name": "stdout",
     "output_type": "stream",
     "text": [
      "australian cattle dog\n",
      "labrador retriever\n"
     ]
    }
   ],
   "source": [
    "dogs = ['border collie', 'australian cattle dog', 'labrador retriever', 'pit bull', 'corgie']\n",
    "for i in range(1,3):\n",
    "    print(dogs[i])"
   ]
  },
  {
   "cell_type": "markdown",
   "metadata": {
    "collapsed": true
   },
   "source": [
    "Suppose we only wanted to print out the last three dogs in the list. We could type:"
   ]
  },
  {
   "cell_type": "code",
   "execution_count": 3,
   "metadata": {},
   "outputs": [
    {
     "name": "stdout",
     "output_type": "stream",
     "text": [
      "labrador retriever\n",
      "pit bull\n",
      "corgie\n"
     ]
    }
   ],
   "source": [
    "dogs = ['border collie', 'australian cattle dog', 'labrador retriever', 'pit bull', 'corgie']\n",
    "for i in range(len(dogs)-3, len(dogs)):\n",
    "    print(dogs[i])"
   ]
  },
  {
   "cell_type": "markdown",
   "metadata": {},
   "source": [
    "### Using range to print in reverse\n",
    "Suppose we had a list of dogs and we wanted to print them out in reverse. We could type:"
   ]
  },
  {
   "cell_type": "code",
   "execution_count": 6,
   "metadata": {},
   "outputs": [
    {
     "name": "stdout",
     "output_type": "stream",
     "text": [
      "corgie\n",
      "pit bull\n",
      "labrador retriever\n",
      "australian cattle dog\n",
      "border collie\n"
     ]
    }
   ],
   "source": [
    "dogs = ['border collie', 'australian cattle dog', 'labrador retriever', 'pit bull', 'corgie']\n",
    "for i in range(len(dogs)-1,-1,-1):\n",
    "    print(dogs[i])"
   ]
  },
  {
   "cell_type": "markdown",
   "metadata": {},
   "source": [
    "Wait - the code above is pretty complicated. What are all of those negative ones doing? Well, we needed len(dogs)-1 instead of len(dogs) because technically, although there are five dogs in the list, the last dog is stored in the 4th index, not the 5th. We needed the middle \"-1\" because remember that the range function always stops one short of its upper boundary. Thus, to really print out corgie, which is stored in the 0th spot, we needed to overshoot it by 1 and make our upper boundary \"-1\". The last \"-1\" is to tell Python that we'd like to go in reverse order."
   ]
  },
  {
   "cell_type": "markdown",
   "metadata": {},
   "source": [
    "### Printing Range\n",
    "One more thing about range: if you go to print a range, you might run into something that you didn't expect:"
   ]
  },
  {
   "cell_type": "code",
   "execution_count": 20,
   "metadata": {},
   "outputs": [
    {
     "name": "stdout",
     "output_type": "stream",
     "text": [
      "range(0, 5)\n"
     ]
    }
   ],
   "source": [
    "print(range(5))"
   ]
  },
  {
   "cell_type": "markdown",
   "metadata": {},
   "source": [
    "If you actually want to print the numbers in the range, you'll need to print its list:'"
   ]
  },
  {
   "cell_type": "code",
   "execution_count": 21,
   "metadata": {
    "scrolled": true
   },
   "outputs": [
    {
     "name": "stdout",
     "output_type": "stream",
     "text": [
      "[0, 1, 2, 3, 4]\n"
     ]
    }
   ],
   "source": [
    "print(list(range(5)))"
   ]
  },
  {
   "cell_type": "markdown",
   "metadata": {},
   "source": [
    "### Exercise - two ways\n",
    "Make a list of 6 colors. Iterate through the list first by not using the range function and then by using the range function."
   ]
  },
  {
   "cell_type": "code",
   "execution_count": 16,
   "metadata": {
    "collapsed": true
   },
   "outputs": [],
   "source": [
    "#insert two ways code"
   ]
  },
  {
   "cell_type": "markdown",
   "metadata": {},
   "source": [
    "### Exercise - list of colors\n",
    "Make a list of 6 colors and use the range function to print out the last 4 elements in the list. "
   ]
  },
  {
   "cell_type": "code",
   "execution_count": null,
   "metadata": {
    "collapsed": true
   },
   "outputs": [],
   "source": [
    "#insert list of colors code below"
   ]
  },
  {
   "cell_type": "markdown",
   "metadata": {},
   "source": [
    "### Exercise - sports\n",
    "Make a list of 5 sports. Iterate through the list first by not using the range function and then by using the range function."
   ]
  },
  {
   "cell_type": "code",
   "execution_count": null,
   "metadata": {
    "collapsed": true
   },
   "outputs": [],
   "source": [
    "#insert sports code"
   ]
  },
  {
   "cell_type": "markdown",
   "metadata": {},
   "source": [
    "### Exercise - sentence\n",
    "Take in a user's sentence. Break the sentence up into words and use the range function to print out each word on a different line. Make each word capitalized."
   ]
  },
  {
   "cell_type": "code",
   "execution_count": null,
   "metadata": {
    "collapsed": true
   },
   "outputs": [],
   "source": [
    "#insert sentence code below"
   ]
  },
  {
   "cell_type": "markdown",
   "metadata": {},
   "source": [
    "### Exercise - backwards sentence\n",
    "Take in a user's sentence. Break the sentence up into words and use the range function to print out each word IN REVERSE ORDER on a separate line. For example, \"hello goodbye hola\" would turn into \"hola goodbye hello.\""
   ]
  },
  {
   "cell_type": "code",
   "execution_count": 5,
   "metadata": {
    "collapsed": true
   },
   "outputs": [],
   "source": [
    "#insert backwards sentence"
   ]
  },
  {
   "cell_type": "markdown",
   "metadata": {},
   "source": [
    "Strings as Lists\n",
    "---\n",
    "<a class=\"anchor\" id=\"stringsaslists\"></a>"
   ]
  },
  {
   "cell_type": "markdown",
   "metadata": {},
   "source": [
    "Speaking of lists, we can think of words as lists of letters. Suppose we want to print out every letter of a user's word on a separate line. We could type:\n"
   ]
  },
  {
   "cell_type": "code",
   "execution_count": 15,
   "metadata": {
    "scrolled": true
   },
   "outputs": [
    {
     "name": "stdout",
     "output_type": "stream",
     "text": [
      "gimme a word: hello\n",
      "h\n",
      "e\n",
      "l\n",
      "l\n",
      "o\n"
     ]
    }
   ],
   "source": [
    "word = input('gimme a word: ')\n",
    "for letter in word:\n",
    "    print(letter)"
   ]
  },
  {
   "cell_type": "markdown",
   "metadata": {},
   "source": [
    "We can also use the range function:"
   ]
  },
  {
   "cell_type": "code",
   "execution_count": 9,
   "metadata": {},
   "outputs": [
    {
     "name": "stdout",
     "output_type": "stream",
     "text": [
      "gimme a word: hello\n",
      "h\n",
      "e\n",
      "l\n",
      "l\n",
      "o\n"
     ]
    }
   ],
   "source": [
    "word = input('gimme a word: ')\n",
    "for i in range(len(word)):\n",
    "    print(word[i])"
   ]
  },
  {
   "cell_type": "markdown",
   "metadata": {},
   "source": [
    "We could also print them out on the same line by typing:"
   ]
  },
  {
   "cell_type": "code",
   "execution_count": 8,
   "metadata": {},
   "outputs": [
    {
     "name": "stdout",
     "output_type": "stream",
     "text": [
      "gimme a word: hello\n",
      "h e l l o "
     ]
    }
   ],
   "source": [
    "word = input('gimme a word: ')\n",
    "for i in range(len(word)):\n",
    "    print(word[i], end=' ')"
   ]
  },
  {
   "cell_type": "markdown",
   "metadata": {},
   "source": [
    "### List of Letters\n",
    "There is a shorter way to make a list of letters. Use the function \"list\". Type:"
   ]
  },
  {
   "cell_type": "code",
   "execution_count": 1,
   "metadata": {},
   "outputs": [
    {
     "name": "stdout",
     "output_type": "stream",
     "text": [
      "['h', 'e', 'l', 'l', 'o']\n",
      "e\n"
     ]
    }
   ],
   "source": [
    "word = 'hello'\n",
    "print(list(word))\n",
    "print(word[1])"
   ]
  },
  {
   "cell_type": "markdown",
   "metadata": {},
   "source": [
    "### Strings are immutable\n",
    "Strings are immutable, meaning that you can't change a letter in them. For example, if you tried changing the \"e\" in hello to a \"a\", you would get an error:"
   ]
  },
  {
   "cell_type": "code",
   "execution_count": 2,
   "metadata": {},
   "outputs": [
    {
     "ename": "TypeError",
     "evalue": "'str' object does not support item assignment",
     "output_type": "error",
     "traceback": [
      "\u001b[0;31m---------------------------------------------------------------------------\u001b[0m",
      "\u001b[0;31mTypeError\u001b[0m                                 Traceback (most recent call last)",
      "\u001b[0;32m<ipython-input-2-aab29cdb9bf1>\u001b[0m in \u001b[0;36m<module>\u001b[0;34m()\u001b[0m\n\u001b[0;32m----> 1\u001b[0;31m \u001b[0mword\u001b[0m\u001b[0;34m[\u001b[0m\u001b[0;36m1\u001b[0m\u001b[0;34m]\u001b[0m \u001b[0;34m=\u001b[0m \u001b[0;34m'a'\u001b[0m\u001b[0;34m\u001b[0m\u001b[0m\n\u001b[0m",
      "\u001b[0;31mTypeError\u001b[0m: 'str' object does not support item assignment"
     ]
    }
   ],
   "source": [
    "word[1] = 'a'"
   ]
  },
  {
   "cell_type": "markdown",
   "metadata": {},
   "source": [
    "### Exercise - YOUR NAME!\n",
    "Write a program that takes in a name and prints out each letter of your name in capital letters on the same line wither periods in between. For example, if the user types \"joe\", the program should return J.O.E."
   ]
  },
  {
   "cell_type": "code",
   "execution_count": null,
   "metadata": {
    "collapsed": true
   },
   "outputs": [],
   "source": [
    "#insert your name code"
   ]
  },
  {
   "cell_type": "markdown",
   "metadata": {},
   "source": [
    "### Exercise - every other\n",
    "Print out every other letter of a user's word."
   ]
  },
  {
   "cell_type": "code",
   "execution_count": 19,
   "metadata": {
    "collapsed": true
   },
   "outputs": [],
   "source": [
    "#insert secret message code here"
   ]
  },
  {
   "cell_type": "markdown",
   "metadata": {},
   "source": [
    "### Exercise - secret message\n",
    "Print out every third letter of the word 'pabycdtqrhaeoytn'. The word should make sense."
   ]
  },
  {
   "cell_type": "code",
   "execution_count": 18,
   "metadata": {
    "collapsed": true
   },
   "outputs": [],
   "source": [
    "#insert secret message code here"
   ]
  },
  {
   "cell_type": "markdown",
   "metadata": {},
   "source": [
    "### Exercise - reverse word\n",
    "Take in a user's word and print the word in reverse on the same line. For example, \"hello\" would become \"olleh\"."
   ]
  },
  {
   "cell_type": "code",
   "execution_count": null,
   "metadata": {
    "collapsed": true
   },
   "outputs": [],
   "source": [
    "#insert reverse word"
   ]
  },
  {
   "cell_type": "markdown",
   "metadata": {},
   "source": [
    "Parsing strings\n",
    "---\n",
    "Often, we want to look into a string and find a substring. This is called parcing, or slicing. We can slice strings and words by using notation similar to range notation. Suppose we want to print the first three letters of the word \"hello\", we can type:"
   ]
  },
  {
   "cell_type": "code",
   "execution_count": 23,
   "metadata": {},
   "outputs": [
    {
     "name": "stdout",
     "output_type": "stream",
     "text": [
      "hel\n"
     ]
    }
   ],
   "source": [
    "word = 'hello'\n",
    "print(word[0:3])"
   ]
  },
  {
   "cell_type": "markdown",
   "metadata": {
    "collapsed": true
   },
   "source": [
    "What if we wanted to print the last three? We could type:"
   ]
  },
  {
   "cell_type": "code",
   "execution_count": 27,
   "metadata": {},
   "outputs": [
    {
     "name": "stdout",
     "output_type": "stream",
     "text": [
      "llo\n"
     ]
    }
   ],
   "source": [
    "word = 'hello'\n",
    "print(word[2:6])"
   ]
  },
  {
   "cell_type": "markdown",
   "metadata": {},
   "source": [
    "What if we wanted to print every other letter?"
   ]
  },
  {
   "cell_type": "code",
   "execution_count": 25,
   "metadata": {},
   "outputs": [
    {
     "name": "stdout",
     "output_type": "stream",
     "text": [
      "hlo\n"
     ]
    }
   ],
   "source": [
    "word = 'hello'\n",
    "print(word[0:6:2])"
   ]
  },
  {
   "cell_type": "markdown",
   "metadata": {},
   "source": [
    "To shorten our language, we can use colons. Suppose we wanted to print out the first three letters and the last three again. We could type:"
   ]
  },
  {
   "cell_type": "code",
   "execution_count": 28,
   "metadata": {},
   "outputs": [
    {
     "name": "stdout",
     "output_type": "stream",
     "text": [
      "hel\n",
      "llo\n"
     ]
    }
   ],
   "source": [
    "word = 'hello'\n",
    "print(word[:3])\n",
    "print(word[2:])"
   ]
  },
  {
   "cell_type": "markdown",
   "metadata": {},
   "source": [
    "Every other letter?"
   ]
  },
  {
   "cell_type": "code",
   "execution_count": 32,
   "metadata": {},
   "outputs": [
    {
     "name": "stdout",
     "output_type": "stream",
     "text": [
      "hlo\n"
     ]
    }
   ],
   "source": [
    "word = 'hello'\n",
    "print(word[::2])"
   ]
  },
  {
   "cell_type": "markdown",
   "metadata": {},
   "source": [
    "To print out the whole word, the whole word except the last letter, and the whole word in reverse, type:"
   ]
  },
  {
   "cell_type": "code",
   "execution_count": 33,
   "metadata": {},
   "outputs": [
    {
     "name": "stdout",
     "output_type": "stream",
     "text": [
      "hello\n",
      "hell\n",
      "olleh\n"
     ]
    }
   ],
   "source": [
    "word = 'hello'\n",
    "print(word[:])\n",
    "print(word[:-1])\n",
    "print(word[::-1])"
   ]
  },
  {
   "cell_type": "markdown",
   "metadata": {},
   "source": [
    "Wow, this is a much easier way to reverse a string than the loop we used before! Does this work on lists, too? Yes! Suppose we want to reverse the list of dogs again. We can type:"
   ]
  },
  {
   "cell_type": "code",
   "execution_count": 10,
   "metadata": {},
   "outputs": [
    {
     "name": "stdout",
     "output_type": "stream",
     "text": [
      "['corgie', 'pit bull', 'labrador retriever', 'australian cattle dog', 'border collie']\n"
     ]
    }
   ],
   "source": [
    "dogs = ['border collie', 'australian cattle dog', 'labrador retriever', 'pit bull', 'corgie']\n",
    "print(dogs[::-1])"
   ]
  },
  {
   "cell_type": "markdown",
   "metadata": {},
   "source": [
    "### Exercise - different friends\n",
    "Make a list of five friends. Print out the first 2 friends, the last 2 friends, and the middle 3 friends."
   ]
  },
  {
   "cell_type": "raw",
   "metadata": {},
   "source": [
    "#insert different friends"
   ]
  },
  {
   "cell_type": "markdown",
   "metadata": {},
   "source": [
    "### Exercise - more friends\n",
    "Use colons to print out all your friends except the first one, all of your friends except the last one, and then your friend list in reverse."
   ]
  },
  {
   "cell_type": "code",
   "execution_count": null,
   "metadata": {
    "collapsed": true
   },
   "outputs": [],
   "source": [
    "#insert more friends"
   ]
  },
  {
   "cell_type": "markdown",
   "metadata": {},
   "source": [
    "### Exercise - your friend's friends\n",
    "Take in a user's list of friends (makes sure that they have at least four friends). Split the input into a list of friends. Use colons to print out the last three friends in your friend's list. "
   ]
  },
  {
   "cell_type": "code",
   "execution_count": null,
   "metadata": {
    "collapsed": true
   },
   "outputs": [],
   "source": [
    "#insert your friend's friends"
   ]
  },
  {
   "cell_type": "markdown",
   "metadata": {},
   "source": [
    "### Exercise - wacky word\n",
    "Encode a word so that every other letter makes sense. Write a program that uses the range function to print out the correct word on one line."
   ]
  },
  {
   "cell_type": "code",
   "execution_count": null,
   "metadata": {
    "collapsed": true
   },
   "outputs": [],
   "source": [
    "#insert wacky word"
   ]
  },
  {
   "cell_type": "markdown",
   "metadata": {},
   "source": [
    "More String Commands\n",
    "---\n",
    "<a class=\"anchor\" id=\"stringcommands\"></a>\n",
    "\n",
    "Suppose you want to find the location of a word in a phrase. You can use the .find() command. Look at the example below:\n"
   ]
  },
  {
   "cell_type": "code",
   "execution_count": 36,
   "metadata": {},
   "outputs": [
    {
     "name": "stdout",
     "output_type": "stream",
     "text": [
      "10\n"
     ]
    }
   ],
   "source": [
    "phrase = 'I love my dog, she is the best dog!'\n",
    "print(phrase.find('dog'))"
   ]
  },
  {
   "cell_type": "markdown",
   "metadata": {},
   "source": [
    "The reason why 10 prints out is because the \"d\" for the first dog is located in the 10th index of the string. If, however, we wanted to print out the location of the LAST occurence of the word \"dog\", I would use the reverse find command, .rfind():\n"
   ]
  },
  {
   "cell_type": "code",
   "execution_count": 37,
   "metadata": {},
   "outputs": [
    {
     "name": "stdout",
     "output_type": "stream",
     "text": [
      "30\n"
     ]
    }
   ],
   "source": [
    "phrase = 'I love my dog, she is the best dog!'\n",
    "print(phrase.rfind('dog'))"
   ]
  },
  {
   "cell_type": "markdown",
   "metadata": {},
   "source": [
    "If we want to count the number of times dog occurs, we can type:"
   ]
  },
  {
   "cell_type": "code",
   "execution_count": 45,
   "metadata": {},
   "outputs": [
    {
     "name": "stdout",
     "output_type": "stream",
     "text": [
      "2\n"
     ]
    }
   ],
   "source": [
    "phrase = 'I love my dog, she is the best dog!'\n",
    "print(phrase.count('dog'))"
   ]
  },
  {
   "cell_type": "markdown",
   "metadata": {},
   "source": [
    "What if you wanted to replace a string with a different string? Use the replace function:"
   ]
  },
  {
   "cell_type": "code",
   "execution_count": 38,
   "metadata": {},
   "outputs": [
    {
     "name": "stdout",
     "output_type": "stream",
     "text": [
      "I love my cat she is the best cat!\n"
     ]
    }
   ],
   "source": [
    "phrase = 'I love my dog, she is the best dog!'\n",
    "print(phrase.replace('dog', 'cat'))"
   ]
  },
  {
   "cell_type": "markdown",
   "metadata": {},
   "source": [
    "We have already learned to split a sentence into words by using the split command:"
   ]
  },
  {
   "cell_type": "code",
   "execution_count": 39,
   "metadata": {},
   "outputs": [
    {
     "name": "stdout",
     "output_type": "stream",
     "text": [
      "['I', 'love', 'my', 'dog', 'she', 'is', 'the', 'best', 'dog!']\n"
     ]
    }
   ],
   "source": [
    "phrase = 'I love my dog, she is the best dog!'\n",
    "print(phrase.split())"
   ]
  },
  {
   "cell_type": "markdown",
   "metadata": {},
   "source": [
    "However, we can split a string using anything we want. What you choose to split by is called the delimiter. Suppose we want to split the phrase according to a comma delimiter. We can type:"
   ]
  },
  {
   "cell_type": "code",
   "execution_count": 40,
   "metadata": {},
   "outputs": [
    {
     "name": "stdout",
     "output_type": "stream",
     "text": [
      "['I love my dog', ' she is the best dog!']\n"
     ]
    }
   ],
   "source": [
    "phrase = 'I love my dog, she is the best dog!'\n",
    "print(phrase.split(','))"
   ]
  },
  {
   "cell_type": "markdown",
   "metadata": {},
   "source": [
    "### Summary of String Indexing\n",
    "\n",
    "Okay, so remember that .split() breaks up a sentence into words. To reference the first word, we would type word[0]. To reference the first letter of the first word, we would need to type word[0][0]. Heres a few more examples:"
   ]
  },
  {
   "cell_type": "code",
   "execution_count": 14,
   "metadata": {},
   "outputs": [
    {
     "name": "stdout",
     "output_type": "stream",
     "text": [
      "each word: this is a sentence\n",
      "first and last letter of first word: t s\n",
      "first and last letter of last word: s e\n"
     ]
    }
   ],
   "source": [
    "sentence = 'this is a sentence'\n",
    "words = sentence.split()\n",
    "print('each word:', words[0], words[1], words[2], words[3])\n",
    "print('first and last letter of first word:', words[0][0], words[0][-1])\n",
    "print('first and last letter of last word:',  words[-1][0], words[-1][-1])"
   ]
  },
  {
   "cell_type": "markdown",
   "metadata": {},
   "source": [
    "Let's suppose we had a list of several sentences. And we wanted to print out the second sentence, the second word in the second sentence, and the second letter in the second word of the second sentence. Then, we would need three separate indicies:"
   ]
  },
  {
   "cell_type": "code",
   "execution_count": 2,
   "metadata": {},
   "outputs": [
    {
     "name": "stdout",
     "output_type": "stream",
     "text": [
      "2nd sentence: this is my second\n",
      "2nd word of 2nd sentence: is\n",
      "2nd letter of 2nd word of 2nd sentence: s\n"
     ]
    }
   ],
   "source": [
    "sentences = ['my first sentence', 'this is my second', 'my final sentence']\n",
    "print('2nd sentence:', sentences[1])\n",
    "print('2nd word of 2nd sentence:', sentences[1].split()[1])\n",
    "print('2nd letter of 2nd word of 2nd sentence:', sentences[1].split()[1][1])"
   ]
  },
  {
   "cell_type": "markdown",
   "metadata": {},
   "source": [
    "### Exercise - Python\n",
    "Consider the following sentences: \"Python is the best word. Python is the best computer language. Python is also the best snake.\"\n",
    "\n",
    "Count the number of times Python occurs. Replace the word \"Python\" with the word \"Boa\". Split the string wherever the word \"Boa\" occurs."
   ]
  },
  {
   "cell_type": "code",
   "execution_count": 44,
   "metadata": {
    "collapsed": true
   },
   "outputs": [],
   "source": [
    "#insert python code"
   ]
  },
  {
   "cell_type": "markdown",
   "metadata": {},
   "source": [
    "### Exercise - email\n",
    "Write a program that takes in a user's email address (i.e., kanyewest@gmail.com) and returns just the username (i.e., \"kanyewest\") by using a delimiter."
   ]
  },
  {
   "cell_type": "code",
   "execution_count": 3,
   "metadata": {
    "collapsed": true
   },
   "outputs": [],
   "source": [
    "#insert email code"
   ]
  },
  {
   "cell_type": "markdown",
   "metadata": {
    "collapsed": true
   },
   "source": [
    "### Exercise - web address\n",
    "Write a program that takes in a web address and returns the part after the \"http://\" or \"https://\" by using a delimiter. For example, http://www.gmail.com would return www.gmail.com."
   ]
  },
  {
   "cell_type": "code",
   "execution_count": 11,
   "metadata": {
    "collapsed": true
   },
   "outputs": [],
   "source": [
    "#insert web address"
   ]
  },
  {
   "cell_type": "markdown",
   "metadata": {},
   "source": [
    "### Copying Lists\n",
    "---\n",
    "<a class=\"anchor\" id=\"stringcommands\"></a>\n",
    "One word of warning as we move on from lists. When we copy lists, this is called aliasing. We need to be very careful when we do this. Consider the following code:"
   ]
  },
  {
   "cell_type": "code",
   "execution_count": 46,
   "metadata": {},
   "outputs": [
    {
     "name": "stdout",
     "output_type": "stream",
     "text": [
      "['pit bull', 'labrador', 'border collie']\n",
      "['pit bull', 'labrador', 'border collie']\n"
     ]
    }
   ],
   "source": [
    "mydogs = ['pit bull', 'labrador', 'border collie']\n",
    "yourdogs = mydogs\n",
    "print(mydogs)\n",
    "print(yourdogs)"
   ]
  },
  {
   "cell_type": "markdown",
   "metadata": {},
   "source": [
    "Okay, so our lists are the same. Will they be the same if we edit the yourdogs list?"
   ]
  },
  {
   "cell_type": "code",
   "execution_count": 51,
   "metadata": {
    "scrolled": true
   },
   "outputs": [
    {
     "name": "stdout",
     "output_type": "stream",
     "text": [
      "['german shepherd', 'labrador', 'border collie']\n",
      "['german shepherd', 'labrador', 'border collie']\n"
     ]
    }
   ],
   "source": [
    "mydogs = ['pit bull', 'labrador', 'border collie']\n",
    "yourdogs = mydogs\n",
    "yourdogs[0] = 'german shepherd'\n",
    "print(mydogs)\n",
    "print(yourdogs)"
   ]
  },
  {
   "cell_type": "markdown",
   "metadata": {},
   "source": [
    "Whoa! Both lists changed even though I only updated one manually. Will they be the same if we edit the mydogs list?"
   ]
  },
  {
   "cell_type": "code",
   "execution_count": 48,
   "metadata": {},
   "outputs": [
    {
     "name": "stdout",
     "output_type": "stream",
     "text": [
      "['german shephard', 'labrador', 'border collie']\n",
      "['german shephard', 'labrador', 'border collie']\n"
     ]
    }
   ],
   "source": [
    "mydogs = ['pit bull', 'labrador', 'border collie']\n",
    "yourdogs = mydogs\n",
    "mydogs[0] = 'german shephard'\n",
    "print(mydogs)\n",
    "print(yourdogs)"
   ]
  },
  {
   "cell_type": "markdown",
   "metadata": {},
   "source": [
    "Strange! Even though we edit only one list, both lists change. \"yourdogs\" will always be identical to \"mydogs\"! For our purposes, avoid copying lists whenever possible!\n"
   ]
  },
  {
   "cell_type": "markdown",
   "metadata": {},
   "source": [
    "Logical Statements\n",
    "---\n",
    "<a class=\"anchor\" id=\"logical\"></a>\n",
    "\n",
    "Every if statement evaluates to *True* or *False*. *True* and *False* are Python keywords, which have special meanings attached to them. You can test for the following conditions in your if statements:\n",
    "\n",
    "- equality (==)\n",
    "- inequality (!=)\n",
    "- other inequalities\n",
    "    - greater than (>)\n",
    "    - greater than or equal to (>=)\n",
    "    - less than (<)\n",
    "    - less than or equal to (<=)\n"
   ]
  },
  {
   "cell_type": "markdown",
   "metadata": {},
   "source": [
    "Equality and Inequalities\n",
    "---\n",
    "Two items are *equal* if they have the same value. You can test for equality between numbers, strings, and a number of other objects which you will learn about later. Some of these results may be surprising, so take a careful look at the examples below.\n",
    "\n",
    "In Python, as in many programming languages, two equals signs tests for equality.\n",
    "\n",
    "**Watch out!** Be careful of accidentally using one equals sign, which can really throw things off because that one equals sign actually sets your item to the value you are testing for!"
   ]
  },
  {
   "cell_type": "code",
   "execution_count": 9,
   "metadata": {},
   "outputs": [
    {
     "data": {
      "text/plain": [
       "True"
      ]
     },
     "execution_count": 9,
     "metadata": {},
     "output_type": "execute_result"
    }
   ],
   "source": [
    "5 == 5"
   ]
  },
  {
   "cell_type": "code",
   "execution_count": 10,
   "metadata": {},
   "outputs": [
    {
     "data": {
      "text/plain": [
       "False"
      ]
     },
     "execution_count": 10,
     "metadata": {},
     "output_type": "execute_result"
    }
   ],
   "source": [
    "4 == 5"
   ]
  },
  {
   "cell_type": "code",
   "execution_count": 11,
   "metadata": {},
   "outputs": [
    {
     "data": {
      "text/plain": [
       "True"
      ]
     },
     "execution_count": 11,
     "metadata": {},
     "output_type": "execute_result"
    }
   ],
   "source": [
    "5 == 5.0"
   ]
  },
  {
   "cell_type": "code",
   "execution_count": 12,
   "metadata": {},
   "outputs": [
    {
     "data": {
      "text/plain": [
       "False"
      ]
     },
     "execution_count": 12,
     "metadata": {},
     "output_type": "execute_result"
    }
   ],
   "source": [
    "'doug' == 'Doug'"
   ]
  },
  {
   "cell_type": "code",
   "execution_count": 13,
   "metadata": {},
   "outputs": [
    {
     "data": {
      "text/plain": [
       "True"
      ]
     },
     "execution_count": 13,
     "metadata": {},
     "output_type": "execute_result"
    }
   ],
   "source": [
    "'Doug' == 'Doug'"
   ]
  },
  {
   "cell_type": "code",
   "execution_count": 14,
   "metadata": {},
   "outputs": [
    {
     "data": {
      "text/plain": [
       "True"
      ]
     },
     "execution_count": 14,
     "metadata": {},
     "output_type": "execute_result"
    }
   ],
   "source": [
    "'Doug'.lower() == 'doug'"
   ]
  },
  {
   "cell_type": "code",
   "execution_count": 15,
   "metadata": {},
   "outputs": [
    {
     "data": {
      "text/plain": [
       "True"
      ]
     },
     "execution_count": 15,
     "metadata": {},
     "output_type": "execute_result"
    }
   ],
   "source": [
    "int('5') == 5"
   ]
  },
  {
   "cell_type": "code",
   "execution_count": 16,
   "metadata": {},
   "outputs": [
    {
     "data": {
      "text/plain": [
       "True"
      ]
     },
     "execution_count": 16,
     "metadata": {},
     "output_type": "execute_result"
    }
   ],
   "source": [
    "5 != 4"
   ]
  },
  {
   "cell_type": "code",
   "execution_count": 17,
   "metadata": {},
   "outputs": [
    {
     "data": {
      "text/plain": [
       "False"
      ]
     },
     "execution_count": 17,
     "metadata": {},
     "output_type": "execute_result"
    }
   ],
   "source": [
    "6 <=5 "
   ]
  },
  {
   "cell_type": "markdown",
   "metadata": {},
   "source": [
    "### Exercise - big numbers\n",
    "Use Booleans to figure out what number is bigger, 2^10 or 3^7."
   ]
  },
  {
   "cell_type": "code",
   "execution_count": null,
   "metadata": {
    "collapsed": true
   },
   "outputs": [],
   "source": [
    "#insert code"
   ]
  },
  {
   "cell_type": "markdown",
   "metadata": {},
   "source": [
    "### Exercise - big numbers 2\n",
    "Use Booleans to figure out what number is bigger, 2^32 or 4^16."
   ]
  },
  {
   "cell_type": "code",
   "execution_count": null,
   "metadata": {
    "collapsed": true
   },
   "outputs": [],
   "source": [
    "#insert code"
   ]
  },
  {
   "cell_type": "markdown",
   "metadata": {},
   "source": [
    "### Checking if an item is in a list\n",
    "\n",
    "We can also check to see if an item is or isn't in a list:"
   ]
  },
  {
   "cell_type": "code",
   "execution_count": 18,
   "metadata": {},
   "outputs": [
    {
     "name": "stdout",
     "output_type": "stream",
     "text": [
      "True\n",
      "False\n",
      "False\n",
      "True\n"
     ]
    }
   ],
   "source": [
    "dogs = ['pit bull', 'labrador', 'border collie']\n",
    "print( 'pit bull' in dogs)\n",
    "print('pit bull' not in dogs)\n",
    "print('german shepherd' in dogs)\n",
    "print('german shepherd' not in dogs)"
   ]
  },
  {
   "cell_type": "markdown",
   "metadata": {},
   "source": [
    "### Assignment versus comparison\n",
    "\n",
    "Note that there is a BIG difference between = and ==. Look at the code below:"
   ]
  },
  {
   "cell_type": "code",
   "execution_count": 20,
   "metadata": {},
   "outputs": [
    {
     "name": "stdout",
     "output_type": "stream",
     "text": [
      "Hi, Joe!\n"
     ]
    }
   ],
   "source": [
    "name = \"Joe\"\n",
    "if name == \"Joe\":\n",
    "    print(\"Hi, Joe!\")"
   ]
  },
  {
   "cell_type": "markdown",
   "metadata": {},
   "source": [
    "In the code below, nothing would print because Jack's name isn't Joe:"
   ]
  },
  {
   "cell_type": "code",
   "execution_count": 21,
   "metadata": {
    "collapsed": true
   },
   "outputs": [],
   "source": [
    "name = \"Jack\"\n",
    "if name == \"Joe\":\n",
    "    print(\"Hi, Joe!\")"
   ]
  },
  {
   "cell_type": "markdown",
   "metadata": {},
   "source": [
    "### Exercise - Z\n",
    "Write a program that takes in a user's word and figures out if there is a \"Z\" in the word."
   ]
  },
  {
   "cell_type": "code",
   "execution_count": 24,
   "metadata": {
    "collapsed": true
   },
   "outputs": [],
   "source": [
    "#insert Z code"
   ]
  },
  {
   "cell_type": "markdown",
   "metadata": {},
   "source": [
    "### Exercise - unlucky\n",
    "Write a program that takes in a list of numbers and figures out if the number 13 is in the list."
   ]
  },
  {
   "cell_type": "code",
   "execution_count": 25,
   "metadata": {
    "collapsed": true
   },
   "outputs": [],
   "source": [
    "#insert code here"
   ]
  },
  {
   "cell_type": "markdown",
   "metadata": {},
   "source": [
    "### Exercise - Python\n",
    "Write a program that takes in a user's sentence and figures out if the word \"Python\" is in the sentence. "
   ]
  },
  {
   "cell_type": "code",
   "execution_count": null,
   "metadata": {
    "collapsed": true
   },
   "outputs": [],
   "source": [
    "#insert code here"
   ]
  },
  {
   "cell_type": "markdown",
   "metadata": {},
   "source": [
    "### Exercise - Repeat\n",
    "Write a program that takes in a user's sentence and figures out if the first word in the sentence appears again. For example, if my sentence is \"Python is a better language because Python is easy to read\" then the program would return \"Python is repeated!\""
   ]
  },
  {
   "cell_type": "code",
   "execution_count": null,
   "metadata": {
    "collapsed": true
   },
   "outputs": [],
   "source": [
    "#insert repeat"
   ]
  }
 ],
 "metadata": {
  "kernelspec": {
   "display_name": "Python 3",
   "language": "python",
   "name": "python3"
  },
  "language_info": {
   "codemirror_mode": {
    "name": "ipython",
    "version": 3
   },
   "file_extension": ".py",
   "mimetype": "text/x-python",
   "name": "python",
   "nbconvert_exporter": "python",
   "pygments_lexer": "ipython3",
   "version": "3.7.3"
  },
  "toc": {
   "base_numbering": 1,
   "nav_menu": {},
   "number_sections": false,
   "sideBar": true,
   "skip_h1_title": false,
   "title_cell": "Table of Contents",
   "title_sidebar": "Contents",
   "toc_cell": false,
   "toc_position": {},
   "toc_section_display": true,
   "toc_window_display": false
  }
 },
 "nbformat": 4,
 "nbformat_minor": 2
}
