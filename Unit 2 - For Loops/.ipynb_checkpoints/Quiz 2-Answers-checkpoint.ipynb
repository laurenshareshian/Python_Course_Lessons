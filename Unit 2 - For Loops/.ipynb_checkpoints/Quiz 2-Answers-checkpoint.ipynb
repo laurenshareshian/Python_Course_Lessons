{
 "cells": [
  {
   "cell_type": "markdown",
   "metadata": {},
   "source": [
    "1.) The code below should take in a user's name, and print each letter and the index of each letter on a new line. For example, if a user enters \"Max\", the code should print:\n",
    "\n",
    "M is in index 0\n",
    "\n",
    "a is in index 1\n",
    "\n",
    "x is in index 2\n",
    "\n",
    "There are two errors in the code below:"
   ]
  },
  {
   "cell_type": "code",
   "execution_count": 4,
   "metadata": {},
   "outputs": [
    {
     "name": "stdout",
     "output_type": "stream",
     "text": [
      "What is your name? max\n"
     ]
    },
    {
     "ename": "TypeError",
     "evalue": "'str' object cannot be interpreted as an integer",
     "output_type": "error",
     "traceback": [
      "\u001b[0;31m---------------------------------------------------------------------------\u001b[0m",
      "\u001b[0;31mTypeError\u001b[0m                                 Traceback (most recent call last)",
      "\u001b[0;32m<ipython-input-4-cc055642fdcf>\u001b[0m in \u001b[0;36m<module>\u001b[0;34m()\u001b[0m\n\u001b[1;32m      1\u001b[0m \u001b[0mname\u001b[0m \u001b[0;34m=\u001b[0m \u001b[0minput\u001b[0m\u001b[0;34m(\u001b[0m\u001b[0;34m'What is your name? '\u001b[0m\u001b[0;34m)\u001b[0m\u001b[0;34m\u001b[0m\u001b[0m\n\u001b[0;32m----> 2\u001b[0;31m \u001b[0;32mfor\u001b[0m \u001b[0mi\u001b[0m \u001b[0;32min\u001b[0m \u001b[0mrange\u001b[0m\u001b[0;34m(\u001b[0m\u001b[0mname\u001b[0m\u001b[0;34m)\u001b[0m\u001b[0;34m:\u001b[0m\u001b[0;34m\u001b[0m\u001b[0m\n\u001b[0m\u001b[1;32m      3\u001b[0m     \u001b[0mprint\u001b[0m\u001b[0;34m(\u001b[0m\u001b[0mname\u001b[0m\u001b[0;34m[\u001b[0m\u001b[0mi\u001b[0m\u001b[0;34m]\u001b[0m \u001b[0;34m+\u001b[0m \u001b[0;34m' is in index '\u001b[0m \u001b[0;34m+\u001b[0m \u001b[0mi\u001b[0m\u001b[0;34m)\u001b[0m\u001b[0;34m\u001b[0m\u001b[0m\n",
      "\u001b[0;31mTypeError\u001b[0m: 'str' object cannot be interpreted as an integer"
     ]
    }
   ],
   "source": [
    "name = input('What is your name? ')\n",
    "for i in range(name):\n",
    "    print(name[i] + ' is in index ' + i)"
   ]
  },
  {
   "cell_type": "markdown",
   "metadata": {},
   "source": [
    "Rewrite the code here with no errors:"
   ]
  },
  {
   "cell_type": "code",
   "execution_count": 2,
   "metadata": {},
   "outputs": [
    {
     "name": "stdout",
     "output_type": "stream",
     "text": [
      "What is your name? Max\n",
      "M is in index 0\n",
      "a is in index 1\n",
      "x is in index 2\n"
     ]
    }
   ],
   "source": [
    "#insert exercise 1 code here\n",
    "name = input('What is your name? ')\n",
    "for i in range(len(name)):\n",
    "    print(name[i] + ' is in index ' + str(i))"
   ]
  },
  {
   "cell_type": "markdown",
   "metadata": {},
   "source": [
    "2.) The code below takes a list of five sports and prints out the middle three sports. "
   ]
  },
  {
   "cell_type": "code",
   "execution_count": 5,
   "metadata": {},
   "outputs": [
    {
     "name": "stdout",
     "output_type": "stream",
     "text": [
      "soccer\n",
      "baseball\n",
      "football\n"
     ]
    }
   ],
   "source": [
    "sports = ['tennis', 'soccer', 'baseball', 'football', 'track']\n",
    "for sport in sports:\n",
    "    if sport != 'tennis':\n",
    "        if sport != 'track':\n",
    "            print(sport)"
   ]
  },
  {
   "cell_type": "markdown",
   "metadata": {},
   "source": [
    "Use the range function to print these sports out. Hint: You will no longer need the \"for sport in sports\" or \"if\" lines."
   ]
  },
  {
   "cell_type": "code",
   "execution_count": 4,
   "metadata": {},
   "outputs": [
    {
     "name": "stdout",
     "output_type": "stream",
     "text": [
      "soccer\n",
      "baseball\n",
      "football\n"
     ]
    }
   ],
   "source": [
    "#insert exercise #2 code here\n",
    "sports = ['tennis', 'soccer', 'baseball', 'football', 'track']\n",
    "for i in range(1,4):\n",
    "    print(sports[i])"
   ]
  },
  {
   "cell_type": "markdown",
   "metadata": {},
   "source": [
    "3.) Print out the word \"pizza\" in reverse by adding JUST ONE LINE of code below."
   ]
  },
  {
   "cell_type": "code",
   "execution_count": 5,
   "metadata": {},
   "outputs": [
    {
     "name": "stdout",
     "output_type": "stream",
     "text": [
      "azzip\n"
     ]
    }
   ],
   "source": [
    "word = 'pizza'\n",
    "#insert another line of code below\n",
    "print(word[::-1])"
   ]
  },
  {
   "cell_type": "markdown",
   "metadata": {},
   "source": [
    "4.) Replace all of the z's with o's and x's with a's to decode the message below:\n",
    "\n"
   ]
  },
  {
   "cell_type": "code",
   "execution_count": 6,
   "metadata": {},
   "outputs": [
    {
     "name": "stdout",
     "output_type": "stream",
     "text": [
      "Despacito ooo la la\n"
     ]
    }
   ],
   "source": [
    "message = 'Despxcitz zzz lx lx'\n",
    "#insert code here\n",
    "message = message.replace('z', 'o')\n",
    "message = message.replace('x', 'a')\n",
    "print(message)"
   ]
  },
  {
   "cell_type": "markdown",
   "metadata": {},
   "source": [
    "5.) To decode the message, find every fourth character in the string, starting from the 2nd character, then print this result in reverse order."
   ]
  },
  {
   "cell_type": "code",
   "execution_count": 13,
   "metadata": {},
   "outputs": [
    {
     "name": "stdout",
     "output_type": "stream",
     "text": [
      "I love computer science!\n",
      "\n",
      "I love computer science!\n"
     ]
    }
   ],
   "source": [
    "message = 'y!oooeyyycpeenpooevxoictacaabspqr lmnrijkeabctsvuuytrpmopmabcoyxwctcv pqreabcvdebodddlccc bcdIb'\n",
    "#insert code here\n",
    "for i in range(len(message)-2,0,-4):\n",
    "    print(message[i], end='')\n",
    "#OR\n",
    "print('\\n')\n",
    "print(message[1::4][::-1])"
   ]
  },
  {
   "cell_type": "markdown",
   "metadata": {},
   "source": [
    "6.) Take in to lists of numbers. Sort them. If the smallest two numbers of both lists are equal, print \"Your smallest two numbers are the same!\"\n",
    "\n",
    "For example, your output might look like this:\n",
    "\n",
    "Give me one list: 4 9 1 3 7\n",
    "\n",
    "Give me another list: 6 8 1 3 5\n",
    "\n",
    "The smallest two numbers are the same!"
   ]
  },
  {
   "cell_type": "code",
   "execution_count": 21,
   "metadata": {},
   "outputs": [
    {
     "name": "stdout",
     "output_type": "stream",
     "text": [
      "Give me one list:  3 1 17 5\n",
      "Give me another list: 16 9 1 3\n",
      "The smallest two numbers are the same!\n",
      "[1, 3, 5, 17] [1, 3, 9, 16]\n"
     ]
    }
   ],
   "source": [
    "#insert code here\n",
    "letter_list1 = input('Give me one list:  ')\n",
    "letter_list1 = letter_list1.split()\n",
    "number_list1 = []\n",
    "for i in range(len(letter_list1)):\n",
    "    number_list1.append(int(letter_list1[i]))\n",
    "number_list1.sort()\n",
    "\n",
    "letter_list2 = input('Give me another list: ')\n",
    "letter_list2 = letter_list2.split()\n",
    "number_list2 = []\n",
    "for i in range(len(letter_list2)):\n",
    "    number_list2.append(int(letter_list2[i]))\n",
    "number_list2.sort()\n",
    "\n",
    "if number_list1[0] == number_list2[0]:\n",
    "    if number_list1[1] == number_list2[1]:\n",
    "        print('The smallest two numbers are the same!')\n"
   ]
  },
  {
   "cell_type": "markdown",
   "metadata": {},
   "source": [
    "7.) Ask the user to give you two integers, separated by a space, in the same input line. Calculate the product of all of the integers between those numbers, inclusive. You can assume that the first number is less than or equal to the second number. For example, your output will look like this:\n",
    "\n",
    "Give me two numbers, separated by a space: 3 5\n",
    "\n",
    "The product of all the numbers between is 60."
   ]
  },
  {
   "cell_type": "code",
   "execution_count": 30,
   "metadata": {},
   "outputs": [
    {
     "name": "stdout",
     "output_type": "stream",
     "text": [
      "Give me two numbers, separated by a space: 3 5\n",
      "The product is 60\n"
     ]
    }
   ],
   "source": [
    "#insert exercise 7 code here\n",
    "numbers = input('Give me two numbers, separated by a space: ')\n",
    "numbers = numbers.split()\n",
    "product = 1\n",
    "for i in range(int(numbers[0]), int(numbers[1])+1):\n",
    "    product = i*product\n",
    "print('The product is', product)"
   ]
  },
  {
   "cell_type": "markdown",
   "metadata": {},
   "source": [
    "### Challenge\n",
    "Calculate the product of all of the ODD numbers between two numbers that a user gives you. For example, if the user gives you 3 and 5 or 3 and 6 or 2 and 5 or 2 and 6, the product should be 15. Also, no longer assume that the first number is less than or equal to the second number. If the user enters 5 and 3, then the product should still be 15."
   ]
  },
  {
   "cell_type": "code",
   "execution_count": 37,
   "metadata": {},
   "outputs": [
    {
     "name": "stdout",
     "output_type": "stream",
     "text": [
      "Give me two numbers, separated by a space: 2 5\n",
      "The product is 15\n"
     ]
    }
   ],
   "source": [
    "#insert challenge code here\n",
    "numbers = input('Give me two numbers, separated by a space: ')\n",
    "numbers = numbers.split()\n",
    "product = 1\n",
    "small = min(int(numbers[0]),int(numbers[1]))\n",
    "large = max(int(numbers[0]),int(numbers[1]))\n",
    "if small % 2 == 1:\n",
    "    if large % 2 == 1:\n",
    "        for i in range(small, large + 1, 2):\n",
    "            product = i*product\n",
    "    else:\n",
    "        for i in range(small, large, 2):\n",
    "            product = i*product    \n",
    "\n",
    "if small % 2 == 0:\n",
    "    if large % 2 == 0:\n",
    "        for i in range(small+1, large, 2):\n",
    "            product = i*product\n",
    "    else:\n",
    "        for i in range(small+1, large+1, 2):\n",
    "            product = i*product \n",
    "print('The product is', product)"
   ]
  },
  {
   "cell_type": "code",
   "execution_count": null,
   "metadata": {
    "collapsed": true
   },
   "outputs": [],
   "source": []
  },
  {
   "cell_type": "code",
   "execution_count": null,
   "metadata": {
    "collapsed": true
   },
   "outputs": [],
   "source": []
  }
 ],
 "metadata": {
  "kernelspec": {
   "display_name": "Python 3",
   "language": "python",
   "name": "python3"
  },
  "language_info": {
   "codemirror_mode": {
    "name": "ipython",
    "version": 3
   },
   "file_extension": ".py",
   "mimetype": "text/x-python",
   "name": "python",
   "nbconvert_exporter": "python",
   "pygments_lexer": "ipython3",
   "version": "3.6.0"
  }
 },
 "nbformat": 4,
 "nbformat_minor": 2
}
