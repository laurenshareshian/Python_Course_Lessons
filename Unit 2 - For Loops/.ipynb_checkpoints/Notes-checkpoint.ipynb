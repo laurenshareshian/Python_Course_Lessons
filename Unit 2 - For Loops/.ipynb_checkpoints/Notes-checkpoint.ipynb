{
 "cells": [
  {
   "cell_type": "markdown",
   "metadata": {
    "slideshow": {
     "slide_type": "slide"
    }
   },
   "source": [
    "Suppose you want to ask the user for two numbers and multiply all numbers between those numbers (inclusive). How would you do it?"
   ]
  },
  {
   "cell_type": "code",
   "execution_count": 3,
   "metadata": {
    "slideshow": {
     "slide_type": "subslide"
    }
   },
   "outputs": [
    {
     "name": "stdout",
     "output_type": "stream",
     "text": [
      "What is your smaller number? 3\n",
      "What is your larger number? 6\n",
      "3\n",
      "4\n",
      "5\n",
      "6\n",
      "360\n"
     ]
    }
   ],
   "source": [
    "smaller = int(input('What is your smaller number? '))\n",
    "larger = int(input('What is your larger number? '))\n",
    "product = 1\n",
    "for i in range(smaller, larger+1):\n",
    "    print(i)\n",
    "    product = product*i\n",
    "print(product)"
   ]
  },
  {
   "cell_type": "markdown",
   "metadata": {
    "slideshow": {
     "slide_type": "subslide"
    }
   },
   "source": [
    "Suppose you want to ask the user for two numbers and multiply all the numbers between those numbers (non-inclusive). How would you do it?"
   ]
  },
  {
   "cell_type": "code",
   "execution_count": 4,
   "metadata": {
    "slideshow": {
     "slide_type": "subslide"
    }
   },
   "outputs": [
    {
     "name": "stdout",
     "output_type": "stream",
     "text": [
      "What is your smaller number? 3\n",
      "What is your larger number? 6\n",
      "4\n",
      "5\n",
      "20\n"
     ]
    }
   ],
   "source": [
    "smaller = int(input('What is your smaller number? '))\n",
    "larger = int(input('What is your larger number? '))\n",
    "product = 1\n",
    "for i in range(smaller+1, larger):\n",
    "    print(i)\n",
    "    product = product*i\n",
    "print(product)"
   ]
  },
  {
   "cell_type": "markdown",
   "metadata": {
    "slideshow": {
     "slide_type": "subslide"
    }
   },
   "source": [
    "Suppose you want to ask the user for two numbers and multiply every other number between those numbers (non-inclusive). How would you do it?"
   ]
  },
  {
   "cell_type": "code",
   "execution_count": 6,
   "metadata": {
    "slideshow": {
     "slide_type": "subslide"
    }
   },
   "outputs": [
    {
     "name": "stdout",
     "output_type": "stream",
     "text": [
      "What is your smaller number? 3\n",
      "What is your larger number? 8\n",
      "4\n",
      "6\n",
      "24\n"
     ]
    }
   ],
   "source": [
    "smaller = int(input('What is your smaller number? '))\n",
    "larger = int(input('What is your larger number? '))\n",
    "product = 1\n",
    "for i in range(smaller+1, larger, 2):\n",
    "    print(i)\n",
    "    product = product*i\n",
    "print(product)"
   ]
  },
  {
   "cell_type": "markdown",
   "metadata": {
    "slideshow": {
     "slide_type": "subslide"
    }
   },
   "source": [
    "Suppose you wanted to print out the cheer \"2, 4, 6, 8 Who do we appreciate? 8, 6, 4, 2 Not You.\""
   ]
  },
  {
   "cell_type": "code",
   "execution_count": 1,
   "metadata": {
    "slideshow": {
     "slide_type": "subslide"
    }
   },
   "outputs": [
    {
     "name": "stdout",
     "output_type": "stream",
     "text": [
      "2, 4, 6, 8, Who do we appreciate? 8, 6, 4, 2, Not you.\n"
     ]
    }
   ],
   "source": [
    "for i in range(2,9,2):\n",
    "    print(i, end=', ')\n",
    "print('Who do we appreciate?', end = ' ')\n",
    "for i in range(8, 1, -2):\n",
    "    print(i, end=', ')\n",
    "print('Not you.')"
   ]
  },
  {
   "cell_type": "markdown",
   "metadata": {
    "slideshow": {
     "slide_type": "subslide"
    }
   },
   "source": [
    "Repeaterbot solution 1"
   ]
  },
  {
   "cell_type": "code",
   "execution_count": 10,
   "metadata": {
    "slideshow": {
     "slide_type": "subslide"
    }
   },
   "outputs": [
    {
     "name": "stdout",
     "output_type": "stream",
     "text": [
      "hi hi hi hi hi \n"
     ]
    }
   ],
   "source": [
    "word = 'hi'\n",
    "number = 5\n",
    "print((word+ ' ')*number)"
   ]
  },
  {
   "cell_type": "markdown",
   "metadata": {
    "slideshow": {
     "slide_type": "subslide"
    }
   },
   "source": [
    "Repeaterbot solution 2"
   ]
  },
  {
   "cell_type": "code",
   "execution_count": 3,
   "metadata": {
    "slideshow": {
     "slide_type": "subslide"
    }
   },
   "outputs": [
    {
     "name": "stdout",
     "output_type": "stream",
     "text": [
      "hi hi hi hi hi "
     ]
    }
   ],
   "source": [
    "word = 'hi'\n",
    "number = 5\n",
    "for i in range(number):\n",
    "    print(word, end = ' ')"
   ]
  },
  {
   "cell_type": "markdown",
   "metadata": {
    "slideshow": {
     "slide_type": "subslide"
    }
   },
   "source": [
    "backwards sentence solution "
   ]
  },
  {
   "cell_type": "code",
   "execution_count": 16,
   "metadata": {
    "slideshow": {
     "slide_type": "subslide"
    }
   },
   "outputs": [
    {
     "name": "stdout",
     "output_type": "stream",
     "text": [
      "Gimme a sentence: my name is lauren\n",
      "lauren\n",
      "is\n",
      "name\n",
      "my\n"
     ]
    }
   ],
   "source": [
    "sentence = input('Gimme a sentence: ')\n",
    "sentence = sentence.split()\n",
    "for i in range(len(sentence)-1, -1, -1):\n",
    "    print(sentence[i])"
   ]
  },
  {
   "cell_type": "markdown",
   "metadata": {
    "collapsed": true,
    "slideshow": {
     "slide_type": "slide"
    }
   },
   "source": [
    "What does immutable mean?"
   ]
  },
  {
   "cell_type": "markdown",
   "metadata": {
    "slideshow": {
     "slide_type": "subslide"
    }
   },
   "source": [
    "Are lists immutable?"
   ]
  },
  {
   "cell_type": "markdown",
   "metadata": {
    "slideshow": {
     "slide_type": "fragment"
    }
   },
   "source": [
    "No!"
   ]
  },
  {
   "cell_type": "code",
   "execution_count": 1,
   "metadata": {
    "slideshow": {
     "slide_type": "fragment"
    }
   },
   "outputs": [
    {
     "name": "stdout",
     "output_type": "stream",
     "text": [
      "['tennis', 'baseball', 'football']\n"
     ]
    }
   ],
   "source": [
    "sports = ['soccer', 'baseball', 'football']\n",
    "sports[0] = 'tennis'\n",
    "print(sports)"
   ]
  },
  {
   "cell_type": "markdown",
   "metadata": {
    "slideshow": {
     "slide_type": "fragment"
    }
   },
   "source": [
    "Are strings immutable?"
   ]
  },
  {
   "cell_type": "markdown",
   "metadata": {
    "slideshow": {
     "slide_type": "fragment"
    }
   },
   "source": [
    "Yes!"
   ]
  },
  {
   "cell_type": "code",
   "execution_count": 2,
   "metadata": {
    "slideshow": {
     "slide_type": "fragment"
    }
   },
   "outputs": [
    {
     "ename": "TypeError",
     "evalue": "'str' object does not support item assignment",
     "output_type": "error",
     "traceback": [
      "\u001b[0;31m---------------------------------------------------------------------------\u001b[0m",
      "\u001b[0;31mTypeError\u001b[0m                                 Traceback (most recent call last)",
      "\u001b[0;32m<ipython-input-2-a36d8f4015a9>\u001b[0m in \u001b[0;36m<module>\u001b[0;34m()\u001b[0m\n\u001b[1;32m      1\u001b[0m \u001b[0mword\u001b[0m \u001b[0;34m=\u001b[0m \u001b[0;34m'lauren'\u001b[0m\u001b[0;34m\u001b[0m\u001b[0m\n\u001b[0;32m----> 2\u001b[0;31m \u001b[0mword\u001b[0m\u001b[0;34m[\u001b[0m\u001b[0;36m0\u001b[0m\u001b[0;34m]\u001b[0m \u001b[0;34m=\u001b[0m \u001b[0;34m'z'\u001b[0m\u001b[0;34m\u001b[0m\u001b[0m\n\u001b[0m",
      "\u001b[0;31mTypeError\u001b[0m: 'str' object does not support item assignment"
     ]
    }
   ],
   "source": [
    "word = 'lauren'\n",
    "word[0] = 'z'"
   ]
  },
  {
   "cell_type": "markdown",
   "metadata": {
    "slideshow": {
     "slide_type": "slide"
    }
   },
   "source": [
    "Exercise - your name"
   ]
  },
  {
   "cell_type": "code",
   "execution_count": 2,
   "metadata": {},
   "outputs": [
    {
     "name": "stdout",
     "output_type": "stream",
     "text": [
      "What is your name? lauren\n",
      "L.A.U.R.E.N."
     ]
    }
   ],
   "source": [
    "name = input('What is your name? ')\n",
    "for letter in name:\n",
    "    print(letter.upper() + '.', end = '')"
   ]
  },
  {
   "cell_type": "code",
   "execution_count": 5,
   "metadata": {},
   "outputs": [
    {
     "name": "stdout",
     "output_type": "stream",
     "text": [
      "What is your name? lauren\n",
      "L.A.U.R.E.N."
     ]
    }
   ],
   "source": [
    "name = input('What is your name? ')\n",
    "for i in range(len(name)):\n",
    "    print(name[i].upper() + '.', end = '')"
   ]
  },
  {
   "cell_type": "code",
   "execution_count": 9,
   "metadata": {
    "slideshow": {
     "slide_type": "slide"
    }
   },
   "outputs": [
    {
     "name": "stdout",
     "output_type": "stream",
     "text": [
      "['a', 'e', 'l', 'n', 'r', 'u']\n",
      "['a', 'l', 'n', 'r', 'u', 'y']\n",
      "['l', 'a', 'u', 'y', 'r', 'n']\n"
     ]
    }
   ],
   "source": [
    "word1 = 'lauren'\n",
    "word2 = 'lauyrn'\n",
    "word1 = list(word1)\n",
    "word2 = list(word2)\n",
    "word1.sort()\n",
    "print(word1)\n",
    "print(sorted(word2))\n",
    "print(word2)"
   ]
  },
  {
   "cell_type": "code",
   "execution_count": null,
   "metadata": {
    "collapsed": true,
    "slideshow": {
     "slide_type": "slide"
    }
   },
   "outputs": [],
   "source": []
  }
 ],
 "metadata": {
  "celltoolbar": "Slideshow",
  "kernelspec": {
   "display_name": "Python 3",
   "language": "python",
   "name": "python3"
  },
  "language_info": {
   "codemirror_mode": {
    "name": "ipython",
    "version": 3
   },
   "file_extension": ".py",
   "mimetype": "text/x-python",
   "name": "python",
   "nbconvert_exporter": "python",
   "pygments_lexer": "ipython3",
   "version": "3.6.0"
  }
 },
 "nbformat": 4,
 "nbformat_minor": 2
}
