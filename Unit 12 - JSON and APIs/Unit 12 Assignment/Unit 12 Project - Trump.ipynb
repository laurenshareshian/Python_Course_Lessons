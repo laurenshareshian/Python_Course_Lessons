{
 "cells": [
  {
   "cell_type": "markdown",
   "metadata": {},
   "source": [
    "In this project, you will use your knowledge of datetime and matplotlib to plot the number of Donald's tweets versus the a.) date, b.) day of the week and c.) time of the day. Also, you will analyze his most used words. \n",
    "\n",
    "First, to get his tweets, we'll actually need to make a loop and hit the twitter API multiple times (since he's got a lotttt of tweets and Twitter has a limit to the amount of tweets that you can request at once. This next code will get all of these tweets and save them to a file called donald.json:"
   ]
  },
  {
   "cell_type": "code",
   "execution_count": null,
   "metadata": {
    "collapsed": true
   },
   "outputs": [],
   "source": [
    "import twurl2\n",
    "import json\n",
    "import hidden\n",
    "\n",
    "outfile = open('donald.json', 'w')\n",
    "wrap_list=[] #since I need to make a twitter API call repeatedly I will wrap the JSON info into a list\n",
    "\n",
    "TWITTER_URL = 'https://api.twitter.com/1.1/statuses/user_timeline.json'\n",
    "acct = 'realdonaldtrump'\n",
    "twittercount=200 #pull 200 tweets at a time (the max)\n",
    "secrets = hidden.oauth()\n",
    "full_url=''.join([TWITTER_URL,'?','count=',str(twittercount),'&', 'screen_name=', acct])\n",
    "user_timeline = twurl2.oauth_req( full_url, secrets['token_key'], secrets['token_secret'], \"GET\" )\n",
    "js=json.loads(user_timeline)\n",
    "print(0, js[0]['text'], js[0]['id'], js[0]['created_at']) #print most recent tweet\n",
    "wrap_list.append(js)\n",
    "\n",
    "\n",
    "count=1\n",
    "old_max_id=0\n",
    "max_id=js[len(js) - 1]['id']\n",
    "\n",
    "while old_max_id!=max_id:\n",
    "    old_max_id=max_id\n",
    "    full_url=''.join([TWITTER_URL,'?','count=',str(twittercount),'&', 'screen_name=', acct, '&', 'max_id=', str(max_id)])\n",
    "    user_timeline = twurl2.oauth_req( full_url, secrets['token_key'], secrets['token_secret'], \"GET\" )\n",
    "    js = json.loads(user_timeline)\n",
    "    print(count, js[0]['text'], js[0]['id'], js[0]['created_at']) #print one every 200 tweets\n",
    "    max_id=js[len(js) - 1]['id']\n",
    "    wrap_list.append(js)\n",
    "    count=count+1\n",
    "\n",
    "\n",
    "json.dump(wrap_list, outfile)\n",
    "outfile.close()"
   ]
  },
  {
   "cell_type": "markdown",
   "metadata": {},
   "source": [
    "1.Load the file in json format and store it as \"js\"."
   ]
  },
  {
   "cell_type": "code",
   "execution_count": null,
   "metadata": {
    "collapsed": true
   },
   "outputs": [],
   "source": [
    "# insert 1\n",
    "with open('donalddata.json') as json_data:\n",
    "    js = json.load(json_data)"
   ]
  },
  {
   "cell_type": "markdown",
   "metadata": {},
   "source": [
    "2.One added level of complexity is that Donald typically tweets from the Eastern Time Zone but not necessarily. Let's convert the Twitter data (in UTC time) to Eastern Time Zone time so that we are always comparing apples to apples (and so it's easy to see when he's tweeting at 9 pm his time, for example). The following code converts all of the tweet times to list of datetime objects in the correct time zone:"
   ]
  },
  {
   "cell_type": "code",
   "execution_count": null,
   "metadata": {
    "collapsed": true
   },
   "outputs": [],
   "source": [
    "import pytz\n",
    "\n",
    "date = []\n",
    "\n",
    "tz = pytz.timezone('US/Eastern')\n",
    "for i in range(len(js)):\n",
    "    date.append(parse(js[i]['created_at']).astimezone(tz))\n",
    "    \n",
    "    #do i need this?\n",
    "    date_list = []\n",
    "    mydate = datetime.datetime.strptime(row.strftime(\"%d %b %Y\"), '%d %b %Y')\n",
    "    date_list.append(mydate)\n"
   ]
  },
  {
   "cell_type": "markdown",
   "metadata": {},
   "source": [
    "3.Plot the date versus the number of tweets on that date. Label your axes."
   ]
  },
  {
   "cell_type": "code",
   "execution_count": null,
   "metadata": {
    "collapsed": true
   },
   "outputs": [],
   "source": [
    "#insert 3\n",
    "    \n",
    "#histogram instead?\n",
    "\n",
    "count_days={}\n",
    "for day in date_list:\n",
    "    if day not in count_days:\n",
    "        count_days[day]=1\n",
    "    else:\n",
    "        count_days[day]+=1\n",
    "\n",
    "days_count=[]\n",
    "days=[]\n",
    "for day in count_days:\n",
    "    days.append(day)\n",
    "    days_count.append(count_days[day])\n",
    "\n",
    "print('most tweets per day:', max(days_count), 'on date', days[days_count.index(max(days_count))].date())\n",
    "\n",
    "plt.figure(1)\n",
    "plt.subplot(311)\n",
    "\n",
    "dates = matplotlib.dates.date2num(days)\n",
    "plt.plot_date(days, days_count)\n",
    "\n",
    "plt.ylabel('number of tweets per day')\n",
    "plt.xlabel('month')\n",
    "plt.title('Trump Twitter Activity')"
   ]
  },
  {
   "cell_type": "markdown",
   "metadata": {},
   "source": [
    "4.Use datetime to create a list called \"weekdays\" of the days of the week (Mon, Tues, Wed, ...) and then make a plot of day of the week vs. number of tweets on each day of the week."
   ]
  },
  {
   "cell_type": "code",
   "execution_count": null,
   "metadata": {
    "collapsed": true
   },
   "outputs": [],
   "source": [
    "#insert 4\n",
    "\n",
    "day_of_week=[]\n",
    "\n",
    "tz = pytz.timezone('US/Eastern') #convert from UTC time to Eastern Standard Time since Trump is mostly on east coast\n",
    "\n",
    "for j in range(len(js)):\n",
    "    row=parse(js[j]['created_at']).astimezone(tz)\n",
    "    day_of_week.append(int(row.strftime(\"%a\")))\n",
    "\n",
    "weekday_list=['Mon', 'Tue', 'Wed', \"Thu\", 'Fri', 'Sat', 'Sun']\n",
    "weekday_count=[]\n",
    "for day in weekday_list:\n",
    "    weekday_count.append(weekdays.count(day))\n",
    "\n",
    "plt.subplot(312)\n",
    "y2_pos = np.arange(len(weekday_list))\n",
    "plt.bar(y2_pos,weekday_count, align='center', alpha=0.5)\n",
    "plt.xticks(y2_pos,weekday_list)\n",
    "plt.ylabel('number of tweets')\n",
    "plt.xlabel('day')"
   ]
  },
  {
   "cell_type": "markdown",
   "metadata": {},
   "source": [
    "5.Use datetime to create a list called \"hours\" that saves the hour of day that Trump tweeted. Then make a plot of time of day versus number of tweets."
   ]
  },
  {
   "cell_type": "code",
   "execution_count": null,
   "metadata": {
    "collapsed": true
   },
   "outputs": [],
   "source": [
    "#insert 5\n",
    "\n",
    "hours=[]\n",
    "\n",
    "tz = pytz.timezone('US/Eastern') #convert from UTC time to Eastern Standard Time since Trump is mostly on east coast\n",
    "\n",
    "for j in range(len(js)):\n",
    "    row=parse(js[j]['created_at']).astimezone(tz)\n",
    "    hours.append(int(row.strftime(\"%H\")))\n",
    "\n",
    "hour_list=np.arange(0,24,1)\n",
    "hour_count=[]\n",
    "for hour in hour_list:\n",
    "    hour_count.append(hours.count(hour))\n",
    "\n",
    "\n",
    "plt.subplot(313)\n",
    "y3_pos = np.arange(len(hour_list))\n",
    "plt.bar(y3_pos,hour_count, align='center', alpha=0.5)\n",
    "plt.xticks(y3_pos,hour_list)\n",
    "plt.ylabel('number of tweets')\n",
    "plt.xlabel('hour in Eastern Standard Time')\n",
    "\n",
    "\n"
   ]
  },
  {
   "cell_type": "markdown",
   "metadata": {},
   "source": [
    "6.Now we'll explore Trump's most frequently used words. To do this, create a loop that iterates through each tweet and saves them all to one long string called \"all_tweets\"."
   ]
  },
  {
   "cell_type": "code",
   "execution_count": null,
   "metadata": {
    "collapsed": true
   },
   "outputs": [],
   "source": [
    "#insert 6"
   ]
  },
  {
   "cell_type": "markdown",
   "metadata": {},
   "source": [
    "7.Make the entire string lower case (since we want Hillary and hillary to be equivalent). Also, strip all of the punctuation. Do do that, we can use the following code:"
   ]
  },
  {
   "cell_type": "code",
   "execution_count": null,
   "metadata": {
    "collapsed": true
   },
   "outputs": [],
   "source": [
    "import unicodedata\n",
    "import sys\n",
    "\n",
    "#get rid of unicode to allow removal of punctuation\n",
    "tbl = dict.fromkeys(i for i in range(sys.maxunicode) if unicodedata.category(chr(i)).startswith('P'))\n",
    "def remove_punctuation(text):\n",
    "    return text.translate(tbl)\n",
    "\n",
    "all_tweets=remove_punctuation(all_tweets)\n",
    "print(all_tweets[0:100])"
   ]
  },
  {
   "cell_type": "markdown",
   "metadata": {},
   "source": [
    "8.Create a sorted frequency table in reverse order of his most frequently used words. Only print the words that occur at least ten times."
   ]
  },
  {
   "cell_type": "code",
   "execution_count": null,
   "metadata": {
    "collapsed": true
   },
   "outputs": [],
   "source": [
    "counts = {}\n",
    "for word in words:\n",
    "    if word not in counts:\n",
    "            counts[word] = 1\n",
    "    else:\n",
    "            counts[word] += 1\n",
    "\n",
    "lst = list()\n",
    "for key, val in counts.items():\n",
    "    try:\n",
    "        lst.append( (val, str(key) ))\n",
    "    except:\n",
    "        continue\n",
    "    lst.sort(reverse=True)\n",
    "\n",
    "for i in range(len(lst)):\n",
    "    if lst[i][0]>=10:\n",
    "        print(lst[i])"
   ]
  }
 ],
 "metadata": {
  "kernelspec": {
   "display_name": "Python 3",
   "language": "python",
   "name": "python3"
  },
  "language_info": {
   "codemirror_mode": {
    "name": "ipython",
    "version": 3
   },
   "file_extension": ".py",
   "mimetype": "text/x-python",
   "name": "python",
   "nbconvert_exporter": "python",
   "pygments_lexer": "ipython3",
   "version": "3.6.0"
  }
 },
 "nbformat": 4,
 "nbformat_minor": 2
}
