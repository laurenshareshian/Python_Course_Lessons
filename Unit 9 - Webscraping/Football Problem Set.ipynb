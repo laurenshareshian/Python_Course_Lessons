{
 "cells": [
  {
   "cell_type": "code",
   "execution_count": 3,
   "metadata": {
    "collapsed": true
   },
   "outputs": [],
   "source": [
    "import requests\n",
    "from bs4 import BeautifulSoup\n",
    "import numpy as np\n",
    "import pandas as pd\n",
    "import matplotlib.pyplot as plt\n",
    "%matplotlib inline"
   ]
  },
  {
   "cell_type": "markdown",
   "metadata": {},
   "source": [
    "1.) We are interested in how well ESPN does at predicting how well a player will perform in fantasy football. \n",
    "\n",
    "Go to the ESPN website from 2017 here to see how many fantasy points each player had ACTUALLY scored by the end of the season.\n",
    "\n",
    "http://games.espn.com/ffl/leaders?\n",
    "\n",
    "Notice at the end of the \"Offensive players\" tab it says \"Next\". Click on \"Next a few times to see how the website url changes.\n",
    "\n",
    "The webpages start at index 0 and increment by 50. Create a list called urls that contains the first 6 urls. Do this by using a for loop and not by typing them in manually."
   ]
  },
  {
   "cell_type": "code",
   "execution_count": null,
   "metadata": {},
   "outputs": [],
   "source": [
    "#insert 1"
   ]
  },
  {
   "cell_type": "markdown",
   "metadata": {},
   "source": [
    "2.Go to the first url and use pd.read_html to read in the info. Save the dataframe with the name \"table\"."
   ]
  },
  {
   "cell_type": "code",
   "execution_count": null,
   "metadata": {
    "collapsed": true
   },
   "outputs": [],
   "source": [
    "#insert 2"
   ]
  },
  {
   "cell_type": "markdown",
   "metadata": {},
   "source": [
    "3.Drop the three non-player rows from the table. Make sure the changes save."
   ]
  },
  {
   "cell_type": "code",
   "execution_count": null,
   "metadata": {},
   "outputs": [],
   "source": [
    "#insert 3"
   ]
  },
  {
   "cell_type": "markdown",
   "metadata": {},
   "source": [
    "4.Okay. Now you are going to loop through and add the dataframes you get from visiting the other urls to the bottom of the dataframe you got from the first url. You can do this by using the following command within the for loop:\n",
    "\n",
    "table = pd.concat([table, new_table])\n",
    "\n",
    "Be sure to drop the first TWO rows from the new table that you read in each time before you add them to the old table (since the first two rows don't contain player names). Also be sure NOT to read the first URL in again or else you'll have a bunch of duplicates."
   ]
  },
  {
   "cell_type": "code",
   "execution_count": null,
   "metadata": {
    "collapsed": true
   },
   "outputs": [],
   "source": [
    "#insert 4"
   ]
  },
  {
   "cell_type": "markdown",
   "metadata": {},
   "source": [
    "5.Reduce the dataframe to just two columns: the player name renamed as \"player\" and the player total points renamed as \"2017 points\"."
   ]
  },
  {
   "cell_type": "code",
   "execution_count": null,
   "metadata": {
    "collapsed": true
   },
   "outputs": [],
   "source": [
    "#insert 5"
   ]
  },
  {
   "cell_type": "markdown",
   "metadata": {},
   "source": [
    "6.Drop rows that are missing ANY entries. Then, reset the index. Be sure these changes save."
   ]
  },
  {
   "cell_type": "code",
   "execution_count": null,
   "metadata": {
    "collapsed": true
   },
   "outputs": [],
   "source": [
    "#insert 6"
   ]
  },
  {
   "cell_type": "markdown",
   "metadata": {},
   "source": [
    "7.Notice that the player names contain the name, team, and position. We will want to break this up. First, create a list called playernames that just contains the player names. Do this by splitting the name by spaces and using the join command to join all but the last two elements in the split with a space between them. "
   ]
  },
  {
   "cell_type": "code",
   "execution_count": null,
   "metadata": {
    "collapsed": true
   },
   "outputs": [],
   "source": [
    "#insert 7"
   ]
  },
  {
   "cell_type": "markdown",
   "metadata": {},
   "source": [
    "8.Notice that there is still a comma in a few of the entries. Copy your code above below and correct it to split on a comma if there is still a comma remaining and saving only the correct part of the name. You should now have a correct list called playernames.\n"
   ]
  },
  {
   "cell_type": "code",
   "execution_count": 11,
   "metadata": {
    "collapsed": true
   },
   "outputs": [],
   "source": [
    "#insert 8"
   ]
  },
  {
   "cell_type": "markdown",
   "metadata": {},
   "source": [
    "9.Create a list called positions that contains just the player positions and a list called teams that just contains the teams."
   ]
  },
  {
   "cell_type": "code",
   "execution_count": 13,
   "metadata": {
    "collapsed": true
   },
   "outputs": [],
   "source": [
    "#insert 9"
   ]
  },
  {
   "cell_type": "markdown",
   "metadata": {},
   "source": [
    "10.Create a new data frame called \"df1\" where the player name called \"player\" is in the first column, the player team is in the second column, the player position is in the third column, and the 2017 points is in the fourth column."
   ]
  },
  {
   "cell_type": "code",
   "execution_count": 15,
   "metadata": {},
   "outputs": [],
   "source": [
    "#insert 10"
   ]
  },
  {
   "cell_type": "markdown",
   "metadata": {},
   "source": [
    "11.Now go to this website to see what ESPN projected the player rankings to be BEFORE the season had started:\n",
    "\n",
    "http://www.espn.com/fantasy/football/story/_/page/17RanksPreseason200PPR/2017-fantasy-football-ppr-rankings-top-200\n",
    "\n",
    "Use pd.read_html to read the data in. "
   ]
  },
  {
   "cell_type": "code",
   "execution_count": 18,
   "metadata": {
    "collapsed": true
   },
   "outputs": [],
   "source": [
    "#insert 11"
   ]
  },
  {
   "cell_type": "markdown",
   "metadata": {},
   "source": [
    "12.Save just the Player/Position/Team column to a dataframe called \"df2\". Rename the column \"player\"."
   ]
  },
  {
   "cell_type": "code",
   "execution_count": 20,
   "metadata": {},
   "outputs": [],
   "source": [
    "#insert 12"
   ]
  },
  {
   "cell_type": "markdown",
   "metadata": {},
   "source": [
    "13.We want to merge these two data frames. In order to do this, we need the player names to match up exactly. Update the \"df2\" data frame above to include only the player names - not the numbers, positions, or teams. Use a split and a join command again to do this."
   ]
  },
  {
   "cell_type": "code",
   "execution_count": 22,
   "metadata": {},
   "outputs": [],
   "source": [
    "#insert 13"
   ]
  },
  {
   "cell_type": "markdown",
   "metadata": {},
   "source": [
    "14.We'll want to create another column for what ESPN projected their ranking to be. Luckily, since they are in order, an index of 0 correponds to a ranking of 1, an index of 1 corresponds to a ranking of 2, etc. We can use the index and a list comprehension to create a ranking column:"
   ]
  },
  {
   "cell_type": "code",
   "execution_count": 23,
   "metadata": {},
   "outputs": [
    {
     "data": {
      "text/html": [
       "<div>\n",
       "<table border=\"1\" class=\"dataframe\">\n",
       "  <thead>\n",
       "    <tr style=\"text-align: right;\">\n",
       "      <th></th>\n",
       "      <th>player</th>\n",
       "      <th>ranking</th>\n",
       "    </tr>\n",
       "  </thead>\n",
       "  <tbody>\n",
       "    <tr>\n",
       "      <th>0</th>\n",
       "      <td>David Johnson</td>\n",
       "      <td>1</td>\n",
       "    </tr>\n",
       "    <tr>\n",
       "      <th>1</th>\n",
       "      <td>Le'Veon Bell</td>\n",
       "      <td>2</td>\n",
       "    </tr>\n",
       "    <tr>\n",
       "      <th>2</th>\n",
       "      <td>Antonio Brown</td>\n",
       "      <td>3</td>\n",
       "    </tr>\n",
       "    <tr>\n",
       "      <th>3</th>\n",
       "      <td>Ezekiel Elliott</td>\n",
       "      <td>4</td>\n",
       "    </tr>\n",
       "    <tr>\n",
       "      <th>4</th>\n",
       "      <td>Odell Beckham Jr.</td>\n",
       "      <td>5</td>\n",
       "    </tr>\n",
       "  </tbody>\n",
       "</table>\n",
       "</div>"
      ],
      "text/plain": [
       "              player  ranking\n",
       "0      David Johnson        1\n",
       "1       Le'Veon Bell        2\n",
       "2      Antonio Brown        3\n",
       "3    Ezekiel Elliott        4\n",
       "4  Odell Beckham Jr.        5"
      ]
     },
     "execution_count": 23,
     "metadata": {},
     "output_type": "execute_result"
    }
   ],
   "source": [
    "df2['ranking'] = [int(x)+1 for x in df2.index]\n",
    "df2.head()"
   ]
  },
  {
   "cell_type": "markdown",
   "metadata": {},
   "source": [
    "15.Okay, we are ready to merge these two dataframes. We'll use \"inner\" to denote that we only want to consider players that are in BOTH dataframes and we'll use \"on=player\" to denote that we want to merge the dataframes based on the player column. Merging data frames is a HUGE part of real world data science."
   ]
  },
  {
   "cell_type": "code",
   "execution_count": 27,
   "metadata": {},
   "outputs": [
    {
     "data": {
      "text/html": [
       "<div>\n",
       "<table border=\"1\" class=\"dataframe\">\n",
       "  <thead>\n",
       "    <tr style=\"text-align: right;\">\n",
       "      <th></th>\n",
       "      <th>2017 points</th>\n",
       "      <th>player</th>\n",
       "      <th>positions</th>\n",
       "      <th>teams</th>\n",
       "      <th>ranking</th>\n",
       "    </tr>\n",
       "  </thead>\n",
       "  <tbody>\n",
       "    <tr>\n",
       "      <th>0</th>\n",
       "      <td>347.9</td>\n",
       "      <td>Russell Wilson</td>\n",
       "      <td>QB</td>\n",
       "      <td>Sea</td>\n",
       "      <td>79</td>\n",
       "    </tr>\n",
       "    <tr>\n",
       "      <th>1</th>\n",
       "      <td>341.6</td>\n",
       "      <td>Le'Veon Bell</td>\n",
       "      <td>RB</td>\n",
       "      <td>Pit</td>\n",
       "      <td>2</td>\n",
       "    </tr>\n",
       "    <tr>\n",
       "      <th>2</th>\n",
       "      <td>320.4</td>\n",
       "      <td>Alvin Kamara</td>\n",
       "      <td>RB</td>\n",
       "      <td>NO</td>\n",
       "      <td>152</td>\n",
       "    </tr>\n",
       "    <tr>\n",
       "      <th>3</th>\n",
       "      <td>310.3</td>\n",
       "      <td>Antonio Brown</td>\n",
       "      <td>WR</td>\n",
       "      <td>Pit</td>\n",
       "      <td>3</td>\n",
       "    </tr>\n",
       "    <tr>\n",
       "      <th>4</th>\n",
       "      <td>309.8</td>\n",
       "      <td>DeAndre Hopkins</td>\n",
       "      <td>Q</td>\n",
       "      <td>WR</td>\n",
       "      <td>28</td>\n",
       "    </tr>\n",
       "  </tbody>\n",
       "</table>\n",
       "</div>"
      ],
      "text/plain": [
       "  2017 points           player positions teams  ranking\n",
       "0       347.9   Russell Wilson        QB   Sea       79\n",
       "1       341.6     Le'Veon Bell        RB   Pit        2\n",
       "2       320.4     Alvin Kamara        RB    NO      152\n",
       "3       310.3    Antonio Brown        WR   Pit        3\n",
       "4       309.8  DeAndre Hopkins         Q    WR       28"
      ]
     },
     "execution_count": 27,
     "metadata": {},
     "output_type": "execute_result"
    }
   ],
   "source": [
    "results = pd.merge(df1, df2, how='inner', on = ['player'])\n",
    "results.head()"
   ]
  },
  {
   "cell_type": "markdown",
   "metadata": {},
   "source": [
    "16.Drop any rows that have any missing values. There might not be, but perform this operation just in case."
   ]
  },
  {
   "cell_type": "code",
   "execution_count": 26,
   "metadata": {
    "collapsed": true
   },
   "outputs": [],
   "source": [
    "#insert 16"
   ]
  },
  {
   "cell_type": "markdown",
   "metadata": {},
   "source": [
    "17.View all of the column data types using one command."
   ]
  },
  {
   "cell_type": "code",
   "execution_count": 28,
   "metadata": {},
   "outputs": [],
   "source": [
    "#insert 17"
   ]
  },
  {
   "cell_type": "markdown",
   "metadata": {},
   "source": [
    "18.Change the data type of 2017 points to a float."
   ]
  },
  {
   "cell_type": "code",
   "execution_count": 29,
   "metadata": {
    "collapsed": true
   },
   "outputs": [],
   "source": [
    "#insert 18"
   ]
  },
  {
   "cell_type": "markdown",
   "metadata": {},
   "source": [
    "19.Plot ESPN ranking on the x-axis versus 2017 points scored on the y-axis. Label your axes."
   ]
  },
  {
   "cell_type": "code",
   "execution_count": 31,
   "metadata": {},
   "outputs": [],
   "source": [
    "#insert 19"
   ]
  },
  {
   "cell_type": "markdown",
   "metadata": {},
   "source": [
    "20.Is there a downward trend? Why does this make sense?"
   ]
  },
  {
   "cell_type": "code",
   "execution_count": 355,
   "metadata": {
    "collapsed": true
   },
   "outputs": [],
   "source": [
    "#insert 20"
   ]
  },
  {
   "cell_type": "markdown",
   "metadata": {},
   "source": [
    "21.Go back to the Unit 4 Assignment to remind yourself how to superimpose the line of best fit onto the graph above. Do so below."
   ]
  },
  {
   "cell_type": "code",
   "execution_count": 36,
   "metadata": {},
   "outputs": [],
   "source": [
    "#insert 21"
   ]
  },
  {
   "cell_type": "markdown",
   "metadata": {},
   "source": [
    "22.Print the slope and intercept of the line. "
   ]
  },
  {
   "cell_type": "code",
   "execution_count": 33,
   "metadata": {},
   "outputs": [],
   "source": [
    "#insert 22"
   ]
  },
  {
   "cell_type": "markdown",
   "metadata": {},
   "source": [
    "23.Create another column in the results dataframe called \"predicted points\" that lists the predicted points from the line of best fit for each player. Note: you can do this in one line. Don't use a loop."
   ]
  },
  {
   "cell_type": "code",
   "execution_count": 37,
   "metadata": {},
   "outputs": [],
   "source": [
    "#insert 23"
   ]
  },
  {
   "cell_type": "markdown",
   "metadata": {},
   "source": [
    "24.Create another column called \"residual\" that lists the difference between the actual 2017 points and the predicted ESPN points. Do this in one line."
   ]
  },
  {
   "cell_type": "code",
   "execution_count": 39,
   "metadata": {
    "collapsed": true
   },
   "outputs": [],
   "source": [
    "#insert 24"
   ]
  },
  {
   "cell_type": "markdown",
   "metadata": {},
   "source": [
    "25.Sort the dataframe by predicted points from lowest to highest to see the most overrated players."
   ]
  },
  {
   "cell_type": "code",
   "execution_count": 41,
   "metadata": {},
   "outputs": [],
   "source": [
    "#insert 25"
   ]
  },
  {
   "cell_type": "markdown",
   "metadata": {},
   "source": [
    "26.R-squared is a measure of how well your model fits your data. R-squared gives the fraction of the data's variation accounted for by the model. Use the function below to calculate R-squared of your model. "
   ]
  },
  {
   "cell_type": "code",
   "execution_count": 42,
   "metadata": {},
   "outputs": [],
   "source": [
    "def rsquared(x, y, y_predicted):                   \n",
    "    ybar = np.sum(y)/len(y)          \n",
    "    ssreg = np.sum((y_predicted-ybar)**2)  \n",
    "    sstot = np.sum((y - ybar)**2)  \n",
    "    return ssreg / sstot\n",
    "\n",
    "#insert your function call here"
   ]
  },
  {
   "cell_type": "markdown",
   "metadata": {},
   "source": [
    "27.That R-squared was very low. Let's try to do better.\n",
    "\n",
    "Up until now, you've only been able to create predictive models with numerical variables (e.g. rankings, points, etc.) However, we can also create regression models using categorical variables (such as football position!) Very exciting. \n",
    "\n",
    "In addition, up until now, you have probably only calculated a linear regression line when you have a single input variable. Today, we'll use multiple linear regression (where the input will be a matrix instead of a single vector).\n",
    "\n",
    "Our goal will be to use ESPN rankings (numerical) AND player position (categorical) to predict their fantasy points.\n",
    "\n",
    "Step 1: Create a new dataframe from the results dataframe called onehot that includes just the positions and ranking columns. (I'll explain why it's called onehot in a minute)."
   ]
  },
  {
   "cell_type": "code",
   "execution_count": 44,
   "metadata": {},
   "outputs": [],
   "source": [
    "#insert 27"
   ]
  },
  {
   "cell_type": "markdown",
   "metadata": {},
   "source": [
    "28.Now, a major step towards performing regression when there are categorical variables involved is first creating a matrix (called a one-hot matrix) where each position corresponds to a different column in the matrix. For example, if a player is a QB, he'll have a 1 in the QB column and a 0 in all of the other position columns. \n",
    "\n",
    "We can create this matrix easily using a package called patsy. First download it. Type into your terminal:\n",
    "\n",
    "pip install --upgrade patsy\n",
    "\n",
    "Then run the following code."
   ]
  },
  {
   "cell_type": "code",
   "execution_count": 45,
   "metadata": {},
   "outputs": [
    {
     "name": "stderr",
     "output_type": "stream",
     "text": [
      "/Users/shareshianl/anaconda/lib/python3.6/site-packages/ipykernel/__main__.py:3: SettingWithCopyWarning: \n",
      "A value is trying to be set on a copy of a slice from a DataFrame\n",
      "\n",
      "See the caveats in the documentation: http://pandas.pydata.org/pandas-docs/stable/indexing.html#indexing-view-versus-copy\n",
      "  app.launch_new_instance()\n"
     ]
    },
    {
     "data": {
      "text/html": [
       "<div>\n",
       "<table border=\"1\" class=\"dataframe\">\n",
       "  <thead>\n",
       "    <tr style=\"text-align: right;\">\n",
       "      <th></th>\n",
       "      <th>ranking</th>\n",
       "      <th>Intercept</th>\n",
       "      <th>positions[T.QB]</th>\n",
       "      <th>positions[T.RB]</th>\n",
       "      <th>positions[T.TE]</th>\n",
       "      <th>positions[T.WR]</th>\n",
       "    </tr>\n",
       "  </thead>\n",
       "  <tbody>\n",
       "    <tr>\n",
       "      <th>0</th>\n",
       "      <td>79</td>\n",
       "      <td>1.0</td>\n",
       "      <td>1.0</td>\n",
       "      <td>0.0</td>\n",
       "      <td>0.0</td>\n",
       "      <td>0.0</td>\n",
       "    </tr>\n",
       "    <tr>\n",
       "      <th>1</th>\n",
       "      <td>2</td>\n",
       "      <td>1.0</td>\n",
       "      <td>0.0</td>\n",
       "      <td>1.0</td>\n",
       "      <td>0.0</td>\n",
       "      <td>0.0</td>\n",
       "    </tr>\n",
       "    <tr>\n",
       "      <th>2</th>\n",
       "      <td>152</td>\n",
       "      <td>1.0</td>\n",
       "      <td>0.0</td>\n",
       "      <td>1.0</td>\n",
       "      <td>0.0</td>\n",
       "      <td>0.0</td>\n",
       "    </tr>\n",
       "    <tr>\n",
       "      <th>3</th>\n",
       "      <td>3</td>\n",
       "      <td>1.0</td>\n",
       "      <td>0.0</td>\n",
       "      <td>0.0</td>\n",
       "      <td>0.0</td>\n",
       "      <td>1.0</td>\n",
       "    </tr>\n",
       "    <tr>\n",
       "      <th>4</th>\n",
       "      <td>28</td>\n",
       "      <td>1.0</td>\n",
       "      <td>0.0</td>\n",
       "      <td>0.0</td>\n",
       "      <td>0.0</td>\n",
       "      <td>0.0</td>\n",
       "    </tr>\n",
       "  </tbody>\n",
       "</table>\n",
       "</div>"
      ],
      "text/plain": [
       "   ranking  Intercept  positions[T.QB]  positions[T.RB]  positions[T.TE]  \\\n",
       "0       79        1.0              1.0              0.0              0.0   \n",
       "1        2        1.0              0.0              1.0              0.0   \n",
       "2      152        1.0              0.0              1.0              0.0   \n",
       "3        3        1.0              0.0              0.0              0.0   \n",
       "4       28        1.0              0.0              0.0              0.0   \n",
       "\n",
       "   positions[T.WR]  \n",
       "0              0.0  \n",
       "1              0.0  \n",
       "2              0.0  \n",
       "3              1.0  \n",
       "4              0.0  "
      ]
     },
     "execution_count": 45,
     "metadata": {},
     "output_type": "execute_result"
    }
   ],
   "source": [
    "import patsy\n",
    "positions = patsy.dmatrix('positions',data=onehot,return_type='dataframe')\n",
    "onehot.drop(['positions'], axis=1, inplace=True)\n",
    "onehot = onehot.join(positions)\n",
    "onehot.head()"
   ]
  },
  {
   "cell_type": "markdown",
   "metadata": {},
   "source": [
    "29.Okay. Our input is going to be this matrix and our output is going to be the 2017 points. We'll need to download the scikit-learn package in order to use the the multiple linear regression model. scikit-learn is the most popular package for maching learning algorithms using Python. So exciting!!!\n",
    "\n",
    "Type this into your terminal:\n",
    "\n",
    "pip install -U scikit-learn\n",
    "\n",
    "Then, run the following code."
   ]
  },
  {
   "cell_type": "code",
   "execution_count": 46,
   "metadata": {},
   "outputs": [
    {
     "name": "stdout",
     "output_type": "stream",
     "text": [
      "R-squared 0.26203706276\n"
     ]
    },
    {
     "name": "stderr",
     "output_type": "stream",
     "text": [
      "/Users/shareshianl/anaconda/lib/python3.6/site-packages/scipy/linalg/basic.py:1018: RuntimeWarning: internal gelsd driver lwork query error, required iwork dimension not returned. This is likely the result of LAPACK bug 0038, fixed in LAPACK 3.2.2 (released July 21, 2010). Falling back to 'gelss' driver.\n",
      "  warnings.warn(mesg, RuntimeWarning)\n"
     ]
    }
   ],
   "source": [
    "from sklearn.linear_model import LinearRegression\n",
    "\n",
    "X = onehot\n",
    "y = results['2017 points']\n",
    "\n",
    "clf = LinearRegression()\n",
    "clf.fit(X, y)\n",
    "clf.predict(X)\n",
    "print('R-squared', clf.score(X,y))"
   ]
  },
  {
   "cell_type": "markdown",
   "metadata": {},
   "source": [
    "30.Wow! Our R-squared increased three-fold when we incorporated the player position into our input. Let's visualize what is going on with this multiple linear regression by creating the following plot below:"
   ]
  },
  {
   "cell_type": "code",
   "execution_count": 47,
   "metadata": {},
   "outputs": [
    {
     "data": {
      "text/plain": [
       "<matplotlib.legend.Legend at 0x11fd5f470>"
      ]
     },
     "execution_count": 47,
     "metadata": {},
     "output_type": "execute_result"
    },
    {
     "data": {
      "image/png": "[encoded data removed]",
      "text/plain": [
       "<matplotlib.figure.Figure at 0x11fce6048>"
      ]
     },
     "metadata": {},
     "output_type": "display_data"
    }
   ],
   "source": [
    "#Let's break things down by position:\n",
    "quarterbacks = results[results['positions'] == 'QB']\n",
    "runningbacks = results[results['positions'] == 'RB']\n",
    "receivers = results[results['positions'] == 'WR']\n",
    "tightends = results[results['positions'] == 'TE']\n",
    "kickers = results[results['positions'] == 'K']\n",
    "\n",
    "fig, ax = plt.subplots(figsize=(7,7))\n",
    "\n",
    "ax.scatter(quarterbacks.ranking, quarterbacks['2017 points'],  color='blue', label='qb')\n",
    "ax.scatter(runningbacks.ranking, runningbacks['2017 points'],  color='red', label='rb')\n",
    "ax.scatter(receivers.ranking, receivers['2017 points'],  color='yellow', label = 'wr')\n",
    "ax.scatter(tightends.ranking, tightends['2017 points'],  color='green', label = 'te')\n",
    "ax.scatter(kickers.ranking, kickers['2017 points'],  color='purple', label = 'k')\n",
    "ax.plot(X.ranking, clf.predict(X), 'k.', label = 'predictions')\n",
    "ax.set_xlabel('ESPN projected pre-season player ranking 2017')\n",
    "ax.set_ylabel('Total ESPN Fantasy Points that player scored in 2017')\n",
    "ax.set_title('Position matters!')\n",
    "ax.legend(loc='best')"
   ]
  },
  {
   "cell_type": "markdown",
   "metadata": {},
   "source": [
    "31.Explain in your own words why your multiple linear regression model is plotting the black dots in the manner that you see above."
   ]
  },
  {
   "cell_type": "code",
   "execution_count": null,
   "metadata": {
    "collapsed": true
   },
   "outputs": [],
   "source": [
    "#different linear lines for different positions"
   ]
  },
  {
   "cell_type": "markdown",
   "metadata": {},
   "source": [
    "Note: You've just explored the very beginnings of using Python to perform machine learning! Machine learning is a pretty ill defined term, but according to Wikipedia, \"Machine learning explores the construction and study of algorithms that can learn from and make predictions on data.\" \n",
    "\n",
    "You have just learned the multiple linear regression sci-kit learn method to make predictions on how many fantasy points an NFL player will score. There are many MUCH better methods (RidgeCV, GradientBoostingRegressor, etc.)\n",
    "\n",
    "There are also better measures for how well a model does. (The adjusted R-squared measure is MUCH better than the R-squared measure. If you've taken stats, you can read more about the difference between the two measures here: http://blog.minitab.com/blog/adventures-in-statistics-2/multiple-regession-analysis-use-adjusted-r-squared-and-predicted-r-squared-to-include-the-correct-number-of-variables ).\n",
    "\n",
    "In addition, we just committed the cardinal sin of data science in the above example, which is to use our entire dataset to train our model. In practice, we should have used just a subset of the player data to train our model (i.e., to calculate the line of best fit) and then we should have calculated how well our model did at predicting the test set values (the players that we didn't include in our training model).\n",
    "\n",
    "To learn more, this is a great first tutorial on how to use sci-kit learn for machine learning:\n",
    "\n",
    "https://www.datacamp.com/community/tutorials/machine-learning-python\n",
    "\n",
    "More docs are here:\n",
    "\n",
    "http://scikit-learn.org/stable/tutorial/basic/tutorial.html\n",
    "\n",
    "And Andrew Ng's online Machine Learning course is famous:\n",
    "\n",
    "https://www.coursera.org/learn/machine-learning\n",
    "\n",
    "\n"
   ]
  },
  {
   "cell_type": "code",
   "execution_count": null,
   "metadata": {
    "collapsed": true
   },
   "outputs": [],
   "source": []
  }
 ],
 "metadata": {
  "kernelspec": {
   "display_name": "Python 3",
   "language": "python",
   "name": "python3"
  },
  "language_info": {
   "codemirror_mode": {
    "name": "ipython",
    "version": 3
   },
   "file_extension": ".py",
   "mimetype": "text/x-python",
   "name": "python",
   "nbconvert_exporter": "python",
   "pygments_lexer": "ipython3",
   "version": "3.6.0"
  }
 },
 "nbformat": 4,
 "nbformat_minor": 2
}
