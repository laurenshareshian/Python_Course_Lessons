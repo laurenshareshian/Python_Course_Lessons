{
 "cells": [
  {
   "cell_type": "code",
   "execution_count": 1,
   "metadata": {
    "collapsed": true
   },
   "outputs": [],
   "source": [
    "import requests\n",
    "from bs4 import BeautifulSoup\n",
    "from selenium import webdriver\n",
    "from selenium.webdriver.common.keys import Keys\n",
    "import numpy as np\n",
    "import pandas as pd\n",
    "import matplotlib.pyplot as plt\n",
    "%matplotlib inline"
   ]
  },
  {
   "cell_type": "markdown",
   "metadata": {},
   "source": [
    "1.We are going to explore the top 100 movie releases of 2017 using the dataset here:\n",
    "\n",
    "http://www.boxofficemojo.com/yearly/chart/?yr=2017&p=.htm\n",
    "\n",
    "First, read in the 100 movie table using pd.read_html."
   ]
  },
  {
   "cell_type": "code",
   "execution_count": 29,
   "metadata": {
    "collapsed": true
   },
   "outputs": [],
   "source": [
    "#insert 1"
   ]
  },
  {
   "cell_type": "markdown",
   "metadata": {},
   "source": [
    "2.Only rows 6 through 106 and the odd columns 1,3,5 and 7 contain valuable info that we will use. Save this reduced table to a dataframe called movies. (Hint: you can use iloc.) Then reset the index. Be sure the changes save!"
   ]
  },
  {
   "cell_type": "code",
   "execution_count": 30,
   "metadata": {
    "collapsed": true
   },
   "outputs": [],
   "source": [
    "#insert 2"
   ]
  },
  {
   "cell_type": "markdown",
   "metadata": {},
   "source": [
    "3.Rename the columns to be movie, total gross, opening gross, open date."
   ]
  },
  {
   "cell_type": "code",
   "execution_count": 31,
   "metadata": {
    "collapsed": true
   },
   "outputs": [],
   "source": [
    "#insert 3"
   ]
  },
  {
   "cell_type": "markdown",
   "metadata": {},
   "source": [
    "4.You can strip the dollar signs and commas from the total gross using list comprehensions. Study the code carefully below and run it:"
   ]
  },
  {
   "cell_type": "code",
   "execution_count": 5,
   "metadata": {
    "collapsed": true
   },
   "outputs": [],
   "source": [
    "movies['total gross'] = [x.strip('$') for x in movies['total gross']]\n",
    "movies['total gross'] = [x.replace(',', '') for x in movies['total gross']]"
   ]
  },
  {
   "cell_type": "markdown",
   "metadata": {},
   "source": [
    "5.Strip the dollar signs from the open gross column using a similar list comprehension."
   ]
  },
  {
   "cell_type": "code",
   "execution_count": 6,
   "metadata": {
    "collapsed": true
   },
   "outputs": [],
   "source": [
    "#insert 5"
   ]
  },
  {
   "cell_type": "markdown",
   "metadata": {},
   "source": [
    "6.Change the gross columns to integer data types."
   ]
  },
  {
   "cell_type": "code",
   "execution_count": 32,
   "metadata": {
    "collapsed": true
   },
   "outputs": [],
   "source": [
    "#insert 6"
   ]
  },
  {
   "cell_type": "markdown",
   "metadata": {},
   "source": [
    "7.Plot total gross on the x axis and open gross on the y-axis."
   ]
  },
  {
   "cell_type": "code",
   "execution_count": 33,
   "metadata": {
    "collapsed": true
   },
   "outputs": [],
   "source": [
    "#insert 7"
   ]
  },
  {
   "cell_type": "markdown",
   "metadata": {},
   "source": [
    "8.Create another column called ratio that is given by the opening gross divided by the total gross. Do it in one line."
   ]
  },
  {
   "cell_type": "code",
   "execution_count": 34,
   "metadata": {
    "collapsed": true
   },
   "outputs": [],
   "source": [
    "#insert 8"
   ]
  },
  {
   "cell_type": "markdown",
   "metadata": {},
   "source": [
    "9.Sort the ratio from smallest to largest to find the biggest \"sleeper\" hit (meaning, the movie that didn't make that much in its opening weekend but made a lot of money later.)"
   ]
  },
  {
   "cell_type": "code",
   "execution_count": 35,
   "metadata": {
    "collapsed": true
   },
   "outputs": [],
   "source": [
    "#insert 9"
   ]
  },
  {
   "cell_type": "markdown",
   "metadata": {},
   "source": [
    "10.Plot a histogram of the ratios. Make the rwidth by 0.9 and make the bins start at 0 and end at 1 in increments of 0.1. Label the axes."
   ]
  },
  {
   "cell_type": "code",
   "execution_count": 36,
   "metadata": {
    "collapsed": true
   },
   "outputs": [],
   "source": [
    "#insert 10"
   ]
  },
  {
   "cell_type": "markdown",
   "metadata": {},
   "source": [
    "11.Update the open date column to include the year 2017. For example, the string 06/22 should become the string 06/22/2017. You can do this in one line."
   ]
  },
  {
   "cell_type": "code",
   "execution_count": 37,
   "metadata": {
    "collapsed": true
   },
   "outputs": [],
   "source": [
    "#insert 11"
   ]
  },
  {
   "cell_type": "markdown",
   "metadata": {},
   "source": [
    "12.Use the built-in pandas datetime capability to convert the opening date column to a datetime object in one line."
   ]
  },
  {
   "cell_type": "code",
   "execution_count": 10,
   "metadata": {
    "collapsed": true
   },
   "outputs": [],
   "source": [
    "#insert 12"
   ]
  },
  {
   "cell_type": "markdown",
   "metadata": {},
   "source": [
    "13.Make another column called \"open month\" that just includes the opening month of the opening date. Use pandas datetime to do this in one line. Hint - google the following search term:\n",
    "\n",
    "python pandas extract year from datetime\n"
   ]
  },
  {
   "cell_type": "code",
   "execution_count": 11,
   "metadata": {
    "collapsed": true
   },
   "outputs": [],
   "source": [
    "#insert 13"
   ]
  },
  {
   "cell_type": "markdown",
   "metadata": {},
   "source": [
    "14.Create a frequency table (not a graph) to find the most popular month for blockbuster hits."
   ]
  },
  {
   "cell_type": "code",
   "execution_count": 38,
   "metadata": {
    "collapsed": true
   },
   "outputs": [],
   "source": [
    "#insert 14"
   ]
  },
  {
   "cell_type": "markdown",
   "metadata": {},
   "source": [
    "15.Create a histogram of the months. Make the rwidth be 0.9 and the bins start at 0.5 and end at 13.5 in increments of 1."
   ]
  },
  {
   "cell_type": "code",
   "execution_count": 39,
   "metadata": {
    "collapsed": true
   },
   "outputs": [],
   "source": [
    "#insert 15"
   ]
  },
  {
   "cell_type": "markdown",
   "metadata": {},
   "source": [
    "16.Okay. Now we're going to add director info to our dataframe, which wasn't included on the website up above. Create an empty string column for the director in your dataframe called \"director\"."
   ]
  },
  {
   "cell_type": "code",
   "execution_count": 40,
   "metadata": {
    "collapsed": true
   },
   "outputs": [],
   "source": [
    "#insert 16"
   ]
  },
  {
   "cell_type": "markdown",
   "metadata": {},
   "source": [
    "17.Go to the website http://www.boxofficemojo.com/yearly/chart/?yr=2017&p=.htm . Find the XPath of the first movie name listed. Copy and paste the XPath link below:"
   ]
  },
  {
   "cell_type": "code",
   "execution_count": 41,
   "metadata": {
    "collapsed": true
   },
   "outputs": [],
   "source": [
    "#insert 17"
   ]
  },
  {
   "cell_type": "markdown",
   "metadata": {},
   "source": [
    "18.Use Selenium to click on the movie name link and then print the director's name below."
   ]
  },
  {
   "cell_type": "code",
   "execution_count": 42,
   "metadata": {
    "collapsed": true
   },
   "outputs": [],
   "source": [
    "#insert 18"
   ]
  },
  {
   "cell_type": "markdown",
   "metadata": {},
   "source": [
    "19.Okay, so we'll want to iterate through all of the movies in the list located at http://www.boxofficemojo.com/yearly/chart/?yr=2017&p=.htm , click on their links, and save their directors. But we may run into a problem. Write the XPaths of the first and second movies in the list below. Is it the same as the first? If not, what is different?"
   ]
  },
  {
   "cell_type": "code",
   "execution_count": 108,
   "metadata": {
    "collapsed": true
   },
   "outputs": [],
   "source": [
    "#insert 19"
   ]
  },
  {
   "cell_type": "markdown",
   "metadata": {},
   "source": [
    "20.To get around this, we actually won't search by the exact XPath, because that is too specific. Right click and then inspect the first movie in the list again. You should see:\n",
    "\n",
    "href=\"/movies/?id=starwars8.htm\"....\n",
    "\n",
    "The id will change from one movie to another but all of them start out as: \n",
    "\n",
    "href=\"/movies/...\"\n",
    "\n",
    "How do we search for this part? We can use \"contains\" to type:\n",
    "\n",
    "movie_infos = driver.find_elements_by_xpath( '//a[contains(@href, \"/movies/\")]')\n",
    "\n",
    "Note: The command above is PLURAL (\"find_elements\" instead of find_element.\") This list will contain ALL of the movies, so you will need a loop to iterate through each movie.\n",
    "\n",
    "Second note: You'll want to save the HREF of each movie to a list called urls. Hint: look back to the get_attribute command in the Unit 11 Assignment if you forget how to do this.\n"
   ]
  },
  {
   "cell_type": "code",
   "execution_count": 28,
   "metadata": {
    "collapsed": true
   },
   "outputs": [],
   "source": [
    "#insert 20"
   ]
  },
  {
   "cell_type": "markdown",
   "metadata": {},
   "source": [
    "21.The first url found is not actually the first movie in the list. Delete this first unnecessary url from the list."
   ]
  },
  {
   "cell_type": "code",
   "execution_count": 14,
   "metadata": {
    "collapsed": true
   },
   "outputs": [],
   "source": [
    "#insert 21"
   ]
  },
  {
   "cell_type": "markdown",
   "metadata": {},
   "source": [
    "22.Use Selenium to go to visit the first URL in your updated list of urls and print the director that you find from it."
   ]
  },
  {
   "cell_type": "code",
   "execution_count": 43,
   "metadata": {
    "collapsed": true
   },
   "outputs": [],
   "source": [
    "#insert 22"
   ]
  },
  {
   "cell_type": "markdown",
   "metadata": {},
   "source": [
    "23.Iterate through all of the urls in your list, finding each director. As you iterate through the list, immediately update your dataframe to include the director in the director column. \n",
    "\n",
    "First hint: Remember you can update the dataframe entry by typing something like:\n",
    "\n",
    "movies['director'][i] = director name\n",
    "\n",
    "**Second hint: One of your urls might mess up. Insert a try/except in order to try to get the director name, but if it fails, print the movie and the url that gave you the error.**\n",
    "\n",
    "**Third hint: you'll notice that some of the XPaths end in \"td[2]/font/a\" and some end in just \"td[2]/font\". MAKE SURE YOUR XPATH SEARCH TERM ENDS IN SIMPLY \"td[2]/font\" or else you'll miss a lot of the movies.**\n",
    "\n",
    "**Fourth hint: The boxofficemojo website will stop working after 20 hits or so because it knows that you are scraping it so it begins throttling you. To overcome this problem, put a 5 second sleep timer between each website hit and then return to your computer in 15 minutes or so.**\n"
   ]
  },
  {
   "cell_type": "code",
   "execution_count": 44,
   "metadata": {
    "collapsed": true
   },
   "outputs": [],
   "source": [
    "#insert 23"
   ]
  },
  {
   "cell_type": "markdown",
   "metadata": {
    "collapsed": true
   },
   "source": [
    "24.What is the url that messes up? Go to its link to investigate why. Describe the error below."
   ]
  },
  {
   "cell_type": "code",
   "execution_count": null,
   "metadata": {
    "collapsed": true
   },
   "outputs": [],
   "source": [
    "#insert 24"
   ]
  },
  {
   "cell_type": "markdown",
   "metadata": {},
   "source": [
    "25.You definitely won't want to run the above code again because it takes so long. Pickle your dataframe so you can work with it later. If you forget how to pickle, go to the bottom of the Unit 8 Assignment."
   ]
  },
  {
   "cell_type": "code",
   "execution_count": 19,
   "metadata": {
    "collapsed": true
   },
   "outputs": [],
   "source": [
    "#insert 25"
   ]
  },
  {
   "cell_type": "markdown",
   "metadata": {},
   "source": [
    "25.Read the dataframe back in (and call it movies again) from the pickle file to make sure it saved correctly."
   ]
  },
  {
   "cell_type": "code",
   "execution_count": 45,
   "metadata": {
    "collapsed": true
   },
   "outputs": [],
   "source": [
    "#insert 25"
   ]
  },
  {
   "cell_type": "markdown",
   "metadata": {
    "collapsed": true
   },
   "source": [
    "26.Drop the movies from the dataframe that didn't have a director listed. (Note: You won't be able to use dropna since technically none of the entries are null since you initialized them all to be an empty string ''. However, you can exclude those entries from the dataframe using an expression that involves a \"!=\" symbol.\n"
   ]
  },
  {
   "cell_type": "code",
   "execution_count": 46,
   "metadata": {
    "collapsed": true
   },
   "outputs": [],
   "source": [
    "#insert 26"
   ]
  },
  {
   "cell_type": "markdown",
   "metadata": {},
   "source": [
    "27.Re-pickle your dataframe so that your changes are saved."
   ]
  },
  {
   "cell_type": "code",
   "execution_count": 23,
   "metadata": {
    "collapsed": true
   },
   "outputs": [],
   "source": [
    "#insert 27"
   ]
  },
  {
   "cell_type": "markdown",
   "metadata": {},
   "source": [
    "28.Use value_counts in decending order on the director dataframe to view which director had the most top 100 movies in 2017."
   ]
  },
  {
   "cell_type": "code",
   "execution_count": 47,
   "metadata": {
    "collapsed": true
   },
   "outputs": [],
   "source": [
    "#insert 28"
   ]
  },
  {
   "cell_type": "markdown",
   "metadata": {},
   "source": [
    "29.Print all of the movie info for the movies that this director made."
   ]
  },
  {
   "cell_type": "code",
   "execution_count": 48,
   "metadata": {
    "collapsed": true
   },
   "outputs": [],
   "source": [
    "#insert 29"
   ]
  }
 ],
 "metadata": {
  "kernelspec": {
   "display_name": "Python 3",
   "language": "python",
   "name": "python3"
  },
  "language_info": {
   "codemirror_mode": {
    "name": "ipython",
    "version": 3
   },
   "file_extension": ".py",
   "mimetype": "text/x-python",
   "name": "python",
   "nbconvert_exporter": "python",
   "pygments_lexer": "ipython3",
   "version": "3.6.0"
  }
 },
 "nbformat": 4,
 "nbformat_minor": 2
}
