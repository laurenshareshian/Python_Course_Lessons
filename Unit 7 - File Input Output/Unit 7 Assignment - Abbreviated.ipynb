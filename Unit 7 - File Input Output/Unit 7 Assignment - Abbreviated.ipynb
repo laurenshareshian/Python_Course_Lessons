{
 "cells": [
  {
   "cell_type": "markdown",
   "metadata": {},
   "source": [
    "Contents\n",
    "---\n",
    "- [File Input](#input)\n",
    "- [Delimiters](#delimiters)\n",
    "- [CSV files](#csv)\n",
    "- [File Output](#output)\n",
    "- [Files in other locations](#locations)"
   ]
  },
  {
   "cell_type": "markdown",
   "metadata": {},
   "source": [
    "File Input\n",
    "---\n",
    "<a class=\"anchor\" id=\"input\"></a>\n",
    "So far, we have just taken in short words and sentences from the user. However, in reality we will want to examine much larger sets of text, including word documents, spreadsheets, and web pages.  In order to do this, we need to learn how to tell Python to look through a file.\n",
    "\n",
    "If your Python program is in the same folder that the text file that you would like to read is in, then we just need the open command. Suppose we want to read the lyrics in a file saved as \"kanye.txt\":"
   ]
  },
  {
   "cell_type": "markdown",
   "metadata": {},
   "source": [
    "If we try the following code, we will get an error: "
   ]
  },
  {
   "cell_type": "code",
   "execution_count": 7,
   "metadata": {
    "scrolled": true
   },
   "outputs": [
    {
     "ename": "TypeError",
     "evalue": "'_io.TextIOWrapper' object is not subscriptable",
     "output_type": "error",
     "traceback": [
      "\u001b[0;31m---------------------------------------------------------------------------\u001b[0m",
      "\u001b[0;31mTypeError\u001b[0m                                 Traceback (most recent call last)",
      "\u001b[0;32m<ipython-input-7-c5b2602d4c13>\u001b[0m in \u001b[0;36m<module>\u001b[0;34m()\u001b[0m\n\u001b[1;32m      1\u001b[0m \u001b[0mf\u001b[0m \u001b[0;34m=\u001b[0m \u001b[0mopen\u001b[0m\u001b[0;34m(\u001b[0m\u001b[0;34m'kanye.txt'\u001b[0m\u001b[0;34m)\u001b[0m\u001b[0;34m\u001b[0m\u001b[0m\n\u001b[0;32m----> 2\u001b[0;31m \u001b[0mprint\u001b[0m\u001b[0;34m(\u001b[0m\u001b[0mf\u001b[0m\u001b[0;34m[\u001b[0m\u001b[0;36m0\u001b[0m\u001b[0;34m:\u001b[0m\u001b[0;36m3\u001b[0m\u001b[0;34m]\u001b[0m\u001b[0;34m)\u001b[0m\u001b[0;34m\u001b[0m\u001b[0m\n\u001b[0m",
      "\u001b[0;31mTypeError\u001b[0m: '_io.TextIOWrapper' object is not subscriptable"
     ]
    }
   ],
   "source": [
    "f = open('data/kanye.txt')\n",
    "print(f)"
   ]
  },
  {
   "cell_type": "markdown",
   "metadata": {},
   "source": [
    "Instead, we'll need to use the .read command. Remember to always put your file name in quotations!"
   ]
  },
  {
   "cell_type": "code",
   "execution_count": 1,
   "metadata": {},
   "outputs": [
    {
     "name": "stdout",
     "output_type": "stream",
     "text": [
      "Oh, when it all, it all falls down\n",
      "I'm telling you, oh, it all falls down\n",
      "\n",
      "\n",
      "Oh, when it all, it all falls down\n",
      "I'm telling you, oh, it all falls down\n",
      "\n",
      "\n",
      "Man, I promise, she's so self conscious\n",
      "She has no idea what she's doing in college\n",
      "That major that she majored in don't make no money\n",
      "But she won't drop out, her parents will look at her funny\n",
      "\n",
      "\n",
      "Now, tell me that ain't insecure\n",
      "The concept of school seems so secure\n",
      "Sophomore, three years, ain't picked a career\n",
      "She like, screw it, I'll just stay down here and do hair\n",
      "\n",
      "\n",
      "'Cause that's enough money to buy her a few pairs of new airs\n",
      "'Cause her baby daddy don't really care\n",
      "She's so precious with the peer pressure\n",
      "Couldn't afford a car so she named her daughter Alexus\n",
      "\n",
      "\n",
      "She had hair so long that it looked like weave\n",
      "Then she cut it all off now she look like Eve\n",
      "And she be dealing with some issues that you can't believe\n",
      "Single black female, addicted to retail and well\n",
      "\n",
      "\n",
      "Oh, when it all, it all falls down\n",
      "I'm telling you oh, it all falls down\n",
      "\n",
      "\n",
      "Man I promise, I'm so self conscious\n",
      "That's why you always see me with at least one of my watches\n",
      "Rollies and Pasha's done drove me crazy\n",
      "I can't even pronounce nothing, pass that Versace\n",
      "\n",
      "\n",
      "Then I spent 400 bucks on this\n",
      "Just to be like you ain't up on this\n",
      "And I can't even go to the grocery store\n",
      "Without some ones that's clean and a shirt with a team\n",
      "\n",
      "\n",
      "It seems we living the American dream\n",
      "The people highest up got the lowest self esteem\n",
      "The prettiest people do the ugliest things\n",
      "For the road to riches and diamond rings\n",
      "\n",
      "\n",
      "We shine because they hate us, floss 'cause they degrade us\n",
      "We trying to buy back our 40 acres\n",
      "And for that paper, look how low we a'stoop\n",
      "Even if you in a Benz, you still a brotha in a coop\n",
      "\n",
      "\n",
      "Oh, when it all, it all falls down\n",
      "I'm telling you, oh, it all falls down\n",
      "\n",
      "\n",
      "I say f the police, that's how I treat 'em\n",
      "We buy our way out of jail, but we can't buy freedom\n",
      "We'a buy a lot of clothes but we don't really need 'em\n",
      "Things we buy to cover up what's inside\n",
      "\n",
      "\n",
      "'Cause they made us hate ourself and love they wealth\n",
      "That's why shorty's hollering, \"Where the ballas' at?\"\n",
      "Drug dealer buy Jordans, crackhead buy crack\n",
      "And a white man get paid off of all a dat\n",
      "\n",
      "\n",
      "But I ain't even gon' act holier than thou\n",
      "'Cause f it, I went to Jacob with 25 thou\n",
      "Before I had a house and I'd do it again\n",
      "'Cause I wanna be on 106 and Park pushing a Benz\n",
      "\n",
      "\n",
      "I wanna act ballerific like it's all terrific\n",
      "I got a couple past due bills, I won't get specific\n",
      "I got a problem with spending before I get it\n",
      "We all self conscious, I'm just the first to admit it\n",
      "\n",
      "\n",
      "Oh, when it all, it all falls down\n",
      "I'm telling you, ohh, it all falls down\n",
      "Oh, when it all, it all falls down\n",
      "I'm telling you, ohh, it all falls down\n",
      "Oh, when it all, it all falls down\n",
      "I'm telling you, ohh, it all falls down\n",
      "Oh, when it all, it all falls down\n",
      "I'm telling you, ohh, it all falls down\n",
      "\n",
      "\n",
      "(I's can't keep workin' like this\n",
      "This grave shift is like a slave ship)\n",
      "\n"
     ]
    }
   ],
   "source": [
    "f = open('data/kanye.txt').read()\n",
    "print(f)"
   ]
  },
  {
   "cell_type": "markdown",
   "metadata": {},
   "source": [
    "If we wanted to read the first 10 lines of the song, we might try typing:"
   ]
  },
  {
   "cell_type": "code",
   "execution_count": 2,
   "metadata": {},
   "outputs": [
    {
     "name": "stdout",
     "output_type": "stream",
     "text": [
      "Oh, when i\n"
     ]
    }
   ],
   "source": [
    "f = open('data/kanye.txt').read()\n",
    "print(f[0:10])"
   ]
  },
  {
   "cell_type": "markdown",
   "metadata": {},
   "source": [
    "Uh, oh, this gives us the first 10 characters, not the first 10 lines. Read is a useful function for manipulating files in cases when you want to process the entire contents of a file, but it isn't very good when dealing with large files. To read all of the lines at once, we can use the readlines command, and then print out the first ten lines in a list:\n"
   ]
  },
  {
   "cell_type": "code",
   "execution_count": 3,
   "metadata": {},
   "outputs": [
    {
     "name": "stdout",
     "output_type": "stream",
     "text": [
      "['Oh, when it all, it all falls down\\n', \"I'm telling you, oh, it all falls down\\n\", '\\n', '\\n', 'Oh, when it all, it all falls down\\n', \"I'm telling you, oh, it all falls down\\n\", '\\n', '\\n', \"Man, I promise, she's so self conscious\\n\", \"She has no idea what she's doing in college\\n\"]\n"
     ]
    }
   ],
   "source": [
    "f = open('data/kanye.txt').readlines()\n",
    "print(f[0:10])"
   ]
  },
  {
   "cell_type": "markdown",
   "metadata": {},
   "source": [
    "Actually, for very large files, it's really not ideal to read the whole file all at once. Rather, we can read one line at a time using the following code:"
   ]
  },
  {
   "cell_type": "code",
   "execution_count": 4,
   "metadata": {},
   "outputs": [
    {
     "name": "stdout",
     "output_type": "stream",
     "text": [
      "Oh, when it all, it all falls down\n",
      "\n",
      "I'm telling you, oh, it all falls down\n",
      "\n",
      "\n",
      "\n",
      "\n",
      "\n",
      "Oh, when it all, it all falls down\n",
      "\n",
      "I'm telling you, oh, it all falls down\n",
      "\n",
      "\n",
      "\n",
      "\n",
      "\n",
      "Man, I promise, she's so self conscious\n",
      "\n",
      "She has no idea what she's doing in college\n",
      "\n",
      "That major that she majored in don't make no money\n",
      "\n",
      "But she won't drop out, her parents will look at her funny\n",
      "\n",
      "\n",
      "\n",
      "\n",
      "\n",
      "Now, tell me that ain't insecure\n",
      "\n",
      "The concept of school seems so secure\n",
      "\n",
      "Sophomore, three years, ain't picked a career\n",
      "\n",
      "She like, screw it, I'll just stay down here and do hair\n",
      "\n",
      "\n",
      "\n",
      "\n",
      "\n",
      "'Cause that's enough money to buy her a few pairs of new airs\n",
      "\n",
      "'Cause her baby daddy don't really care\n",
      "\n",
      "She's so precious with the peer pressure\n",
      "\n",
      "Couldn't afford a car so she named her daughter Alexus\n",
      "\n",
      "\n",
      "\n",
      "\n",
      "\n",
      "She had hair so long that it looked like weave\n",
      "\n",
      "Then she cut it all off now she look like Eve\n",
      "\n",
      "And she be dealing with some issues that you can't believe\n",
      "\n",
      "Single black female, addicted to retail and well\n",
      "\n",
      "\n",
      "\n",
      "\n",
      "\n",
      "Oh, when it all, it all falls down\n",
      "\n",
      "I'm telling you oh, it all falls down\n",
      "\n",
      "\n",
      "\n",
      "\n",
      "\n",
      "Man I promise, I'm so self conscious\n",
      "\n",
      "That's why you always see me with at least one of my watches\n",
      "\n",
      "Rollies and Pasha's done drove me crazy\n",
      "\n",
      "I can't even pronounce nothing, pass that Versace\n",
      "\n",
      "\n",
      "\n",
      "\n",
      "\n",
      "Then I spent 400 bucks on this\n",
      "\n",
      "Just to be like you ain't up on this\n",
      "\n",
      "And I can't even go to the grocery store\n",
      "\n",
      "Without some ones that's clean and a shirt with a team\n",
      "\n",
      "\n",
      "\n",
      "\n",
      "\n",
      "It seems we living the American dream\n",
      "\n",
      "The people highest up got the lowest self esteem\n",
      "\n",
      "The prettiest people do the ugliest things\n",
      "\n",
      "For the road to riches and diamond rings\n",
      "\n",
      "\n",
      "\n",
      "\n",
      "\n",
      "We shine because they hate us, floss 'cause they degrade us\n",
      "\n",
      "We trying to buy back our 40 acres\n",
      "\n",
      "And for that paper, look how low we a'stoop\n",
      "\n",
      "Even if you in a Benz, you still a brotha in a coop\n",
      "\n",
      "\n",
      "\n",
      "\n",
      "\n",
      "Oh, when it all, it all falls down\n",
      "\n",
      "I'm telling you, oh, it all falls down\n",
      "\n",
      "\n",
      "\n",
      "\n",
      "\n",
      "I say f the police, that's how I treat 'em\n",
      "\n",
      "We buy our way out of jail, but we can't buy freedom\n",
      "\n",
      "We'a buy a lot of clothes but we don't really need 'em\n",
      "\n",
      "Things we buy to cover up what's inside\n",
      "\n",
      "\n",
      "\n",
      "\n",
      "\n",
      "'Cause they made us hate ourself and love they wealth\n",
      "\n",
      "That's why shorty's hollering, \"Where the ballas' at?\"\n",
      "\n",
      "Drug dealer buy Jordans, crackhead buy crack\n",
      "\n",
      "And a white man get paid off of all a dat\n",
      "\n",
      "\n",
      "\n",
      "\n",
      "\n",
      "But I ain't even gon' act holier than thou\n",
      "\n",
      "'Cause f it, I went to Jacob with 25 thou\n",
      "\n",
      "Before I had a house and I'd do it again\n",
      "\n",
      "'Cause I wanna be on 106 and Park pushing a Benz\n",
      "\n",
      "\n",
      "\n",
      "\n",
      "\n",
      "I wanna act ballerific like it's all terrific\n",
      "\n",
      "I got a couple past due bills, I won't get specific\n",
      "\n",
      "I got a problem with spending before I get it\n",
      "\n",
      "We all self conscious, I'm just the first to admit it\n",
      "\n",
      "\n",
      "\n",
      "\n",
      "\n",
      "Oh, when it all, it all falls down\n",
      "\n",
      "I'm telling you, ohh, it all falls down\n",
      "\n",
      "Oh, when it all, it all falls down\n",
      "\n",
      "I'm telling you, ohh, it all falls down\n",
      "\n",
      "Oh, when it all, it all falls down\n",
      "\n",
      "I'm telling you, ohh, it all falls down\n",
      "\n",
      "Oh, when it all, it all falls down\n",
      "\n",
      "I'm telling you, ohh, it all falls down\n",
      "\n",
      "\n",
      "\n",
      "\n",
      "\n",
      "(I's can't keep workin' like this\n",
      "\n",
      "This grave shift is like a slave ship)\n",
      "\n"
     ]
    }
   ],
   "source": [
    "for line in open('data/kanye.txt'):   \n",
    "    print(line)"
   ]
  },
  {
   "cell_type": "markdown",
   "metadata": {},
   "source": [
    "There are a lot of extra spaces between the lyrics. We can use the strip command to delete them: "
   ]
  },
  {
   "cell_type": "code",
   "execution_count": 5,
   "metadata": {},
   "outputs": [
    {
     "name": "stdout",
     "output_type": "stream",
     "text": [
      "Oh, when it all, it all falls down\n",
      "I'm telling you, oh, it all falls down\n",
      "\n",
      "\n",
      "Oh, when it all, it all falls down\n",
      "I'm telling you, oh, it all falls down\n",
      "\n",
      "\n",
      "Man, I promise, she's so self conscious\n",
      "She has no idea what she's doing in college\n",
      "That major that she majored in don't make no money\n",
      "But she won't drop out, her parents will look at her funny\n",
      "\n",
      "\n",
      "Now, tell me that ain't insecure\n",
      "The concept of school seems so secure\n",
      "Sophomore, three years, ain't picked a career\n",
      "She like, screw it, I'll just stay down here and do hair\n",
      "\n",
      "\n",
      "'Cause that's enough money to buy her a few pairs of new airs\n",
      "'Cause her baby daddy don't really care\n",
      "She's so precious with the peer pressure\n",
      "Couldn't afford a car so she named her daughter Alexus\n",
      "\n",
      "\n",
      "She had hair so long that it looked like weave\n",
      "Then she cut it all off now she look like Eve\n",
      "And she be dealing with some issues that you can't believe\n",
      "Single black female, addicted to retail and well\n",
      "\n",
      "\n",
      "Oh, when it all, it all falls down\n",
      "I'm telling you oh, it all falls down\n",
      "\n",
      "\n",
      "Man I promise, I'm so self conscious\n",
      "That's why you always see me with at least one of my watches\n",
      "Rollies and Pasha's done drove me crazy\n",
      "I can't even pronounce nothing, pass that Versace\n",
      "\n",
      "\n",
      "Then I spent 400 bucks on this\n",
      "Just to be like you ain't up on this\n",
      "And I can't even go to the grocery store\n",
      "Without some ones that's clean and a shirt with a team\n",
      "\n",
      "\n",
      "It seems we living the American dream\n",
      "The people highest up got the lowest self esteem\n",
      "The prettiest people do the ugliest things\n",
      "For the road to riches and diamond rings\n",
      "\n",
      "\n",
      "We shine because they hate us, floss 'cause they degrade us\n",
      "We trying to buy back our 40 acres\n",
      "And for that paper, look how low we a'stoop\n",
      "Even if you in a Benz, you still a brotha in a coop\n",
      "\n",
      "\n",
      "Oh, when it all, it all falls down\n",
      "I'm telling you, oh, it all falls down\n",
      "\n",
      "\n",
      "I say f the police, that's how I treat 'em\n",
      "We buy our way out of jail, but we can't buy freedom\n",
      "We'a buy a lot of clothes but we don't really need 'em\n",
      "Things we buy to cover up what's inside\n",
      "\n",
      "\n",
      "'Cause they made us hate ourself and love they wealth\n",
      "That's why shorty's hollering, \"Where the ballas' at?\"\n",
      "Drug dealer buy Jordans, crackhead buy crack\n",
      "And a white man get paid off of all a dat\n",
      "\n",
      "\n",
      "But I ain't even gon' act holier than thou\n",
      "'Cause f it, I went to Jacob with 25 thou\n",
      "Before I had a house and I'd do it again\n",
      "'Cause I wanna be on 106 and Park pushing a Benz\n",
      "\n",
      "\n",
      "I wanna act ballerific like it's all terrific\n",
      "I got a couple past due bills, I won't get specific\n",
      "I got a problem with spending before I get it\n",
      "We all self conscious, I'm just the first to admit it\n",
      "\n",
      "\n",
      "Oh, when it all, it all falls down\n",
      "I'm telling you, ohh, it all falls down\n",
      "Oh, when it all, it all falls down\n",
      "I'm telling you, ohh, it all falls down\n",
      "Oh, when it all, it all falls down\n",
      "I'm telling you, ohh, it all falls down\n",
      "Oh, when it all, it all falls down\n",
      "I'm telling you, ohh, it all falls down\n",
      "\n",
      "\n",
      "(I's can't keep workin' like this\n",
      "This grave shift is like a slave ship)\n"
     ]
    }
   ],
   "source": [
    "for line in open('data/kanye.txt'):   \n",
    "    print(line.strip())"
   ]
  },
  {
   "cell_type": "markdown",
   "metadata": {},
   "source": [
    "Since opening the \"kanye.txt\" file was successful, the operating system returned us a file handle. The file handle is not the actual data contained in the file, but instead it is a “handle” that we can use to read the data. You are given a handle if the requested file exists and you have the proper permissions to read the file.\n",
    "\n",
    "If the file does not exist, open will fail with a traceback and you will not get a handle to access the contents of the file:"
   ]
  },
  {
   "cell_type": "code",
   "execution_count": 6,
   "metadata": {},
   "outputs": [
    {
     "ename": "FileNotFoundError",
     "evalue": "[Errno 2] No such file or directory: 'missingfile.txt'",
     "output_type": "error",
     "traceback": [
      "\u001b[0;31m---------------------------------------------------------------------------\u001b[0m",
      "\u001b[0;31mFileNotFoundError\u001b[0m                         Traceback (most recent call last)",
      "\u001b[0;32m<ipython-input-6-3892a4b4c30f>\u001b[0m in \u001b[0;36m<module>\u001b[0;34m()\u001b[0m\n\u001b[0;32m----> 1\u001b[0;31m \u001b[0mf\u001b[0m \u001b[0;34m=\u001b[0m \u001b[0mopen\u001b[0m\u001b[0;34m(\u001b[0m\u001b[0;34m'missingfile.txt'\u001b[0m\u001b[0;34m)\u001b[0m\u001b[0;34m\u001b[0m\u001b[0m\n\u001b[0m",
      "\u001b[0;31mFileNotFoundError\u001b[0m: [Errno 2] No such file or directory: 'missingfile.txt'"
     ]
    }
   ],
   "source": [
    "f = open('missingfile.txt')"
   ]
  },
  {
   "cell_type": "markdown",
   "metadata": {},
   "source": [
    "Often times, the first line of data file contains headers, i.e., labels for the columns. For example, consider this football data:"
   ]
  },
  {
   "cell_type": "code",
   "execution_count": 6,
   "metadata": {},
   "outputs": [
    {
     "name": "stdout",
     "output_type": "stream",
     "text": [
      "Team,Games,Wins,Losses,Draws,Goals,Goals Allowed,Points\n",
      "Arsenal,38,26,9,3,79,36,87\n",
      "Liverpool,38,24,8,6,67,30,80\n",
      "Manchester United,38,24,5,9,87,45,77\n",
      "Newcastle,38,21,8,9,74,52,71\n",
      "Leeds,38,18,12,8,53,37,66\n",
      "Chelsea,38,17,13,8,66,38,64\n",
      "West_Ham,38,15,8,15,48,57,53\n",
      "Aston_Villa,38,12,14,12,46,47,50\n",
      "Tottenham,38,14,8,16,49,53,50\n",
      "Blackburn,38,12,10,16,55,51,46\n",
      "Southampton,38,12,9,17,46,54,45\n",
      "Middlesbrough,38,12,9,17,35,47,45\n",
      "Fulham,38,10,14,14,36,44,44\n",
      "Charlton,38,10,14,14,38,49,44\n",
      "Everton,38,11,10,17,45,57,43\n",
      "Bolton,38,9,13,16,44,62,40\n",
      "Sunderland,38,10,10,18,29,51,40\n",
      "Ipswich,38,9,9,20,41,64,36\n",
      "Derby,38,8,6,24,33,63,30\n",
      "Leicester,38,5,13,20,30,64,28\n"
     ]
    }
   ],
   "source": [
    "for line in open('data/football.txt'):   \n",
    "    print(line.strip())"
   ]
  },
  {
   "cell_type": "markdown",
   "metadata": {},
   "source": [
    "A good way to insure that the file is properly closed is to use the \"with\" keyword. The advantage is that the file is properly closed after its suite finishes - you don't need to remember to put \"f.close()\" at the end of the line:"
   ]
  },
  {
   "cell_type": "code",
   "execution_count": 7,
   "metadata": {},
   "outputs": [
    {
     "name": "stdout",
     "output_type": "stream",
     "text": [
      "Team,Games,Wins,Losses,Draws,Goals,Goals Allowed,Points\n",
      "Arsenal,38,26,9,3,79,36,87\n",
      "Liverpool,38,24,8,6,67,30,80\n",
      "Manchester United,38,24,5,9,87,45,77\n",
      "Newcastle,38,21,8,9,74,52,71\n",
      "Leeds,38,18,12,8,53,37,66\n",
      "Chelsea,38,17,13,8,66,38,64\n",
      "West_Ham,38,15,8,15,48,57,53\n",
      "Aston_Villa,38,12,14,12,46,47,50\n",
      "Tottenham,38,14,8,16,49,53,50\n",
      "Blackburn,38,12,10,16,55,51,46\n",
      "Southampton,38,12,9,17,46,54,45\n",
      "Middlesbrough,38,12,9,17,35,47,45\n",
      "Fulham,38,10,14,14,36,44,44\n",
      "Charlton,38,10,14,14,38,49,44\n",
      "Everton,38,11,10,17,45,57,43\n",
      "Bolton,38,9,13,16,44,62,40\n",
      "Sunderland,38,10,10,18,29,51,40\n",
      "Ipswich,38,9,9,20,41,64,36\n",
      "Derby,38,8,6,24,33,63,30\n",
      "Leicester,38,5,13,20,30,64,28\n"
     ]
    }
   ],
   "source": [
    "with open('data/football.txt') as f:\n",
    "    for line in f:\n",
    "        print(line.strip())"
   ]
  },
  {
   "cell_type": "markdown",
   "metadata": {},
   "source": [
    "If we don't want to store the header row, we can use \"next\":"
   ]
  },
  {
   "cell_type": "code",
   "execution_count": 8,
   "metadata": {},
   "outputs": [
    {
     "name": "stdout",
     "output_type": "stream",
     "text": [
      "Arsenal,38,26,9,3,79,36,87\n",
      "Liverpool,38,24,8,6,67,30,80\n",
      "Manchester United,38,24,5,9,87,45,77\n",
      "Newcastle,38,21,8,9,74,52,71\n",
      "Leeds,38,18,12,8,53,37,66\n",
      "Chelsea,38,17,13,8,66,38,64\n",
      "West_Ham,38,15,8,15,48,57,53\n",
      "Aston_Villa,38,12,14,12,46,47,50\n",
      "Tottenham,38,14,8,16,49,53,50\n",
      "Blackburn,38,12,10,16,55,51,46\n",
      "Southampton,38,12,9,17,46,54,45\n",
      "Middlesbrough,38,12,9,17,35,47,45\n",
      "Fulham,38,10,14,14,36,44,44\n",
      "Charlton,38,10,14,14,38,49,44\n",
      "Everton,38,11,10,17,45,57,43\n",
      "Bolton,38,9,13,16,44,62,40\n",
      "Sunderland,38,10,10,18,29,51,40\n",
      "Ipswich,38,9,9,20,41,64,36\n",
      "Derby,38,8,6,24,33,63,30\n",
      "Leicester,38,5,13,20,30,64,28\n"
     ]
    }
   ],
   "source": [
    "with open('data/football.txt') as f:\n",
    "    next(f)\n",
    "    for line in f:\n",
    "        print(line.strip())"
   ]
  },
  {
   "cell_type": "markdown",
   "metadata": {},
   "source": [
    "If you want to store the header for later, you can use readline:"
   ]
  },
  {
   "cell_type": "code",
   "execution_count": 9,
   "metadata": {},
   "outputs": [
    {
     "name": "stdout",
     "output_type": "stream",
     "text": [
      "Arsenal,38,26,9,3,79,36,87\n",
      "Liverpool,38,24,8,6,67,30,80\n",
      "Manchester United,38,24,5,9,87,45,77\n",
      "Newcastle,38,21,8,9,74,52,71\n",
      "Leeds,38,18,12,8,53,37,66\n",
      "Chelsea,38,17,13,8,66,38,64\n",
      "West_Ham,38,15,8,15,48,57,53\n",
      "Aston_Villa,38,12,14,12,46,47,50\n",
      "Tottenham,38,14,8,16,49,53,50\n",
      "Blackburn,38,12,10,16,55,51,46\n",
      "Southampton,38,12,9,17,46,54,45\n",
      "Middlesbrough,38,12,9,17,35,47,45\n",
      "Fulham,38,10,14,14,36,44,44\n",
      "Charlton,38,10,14,14,38,49,44\n",
      "Everton,38,11,10,17,45,57,43\n",
      "Bolton,38,9,13,16,44,62,40\n",
      "Sunderland,38,10,10,18,29,51,40\n",
      "Ipswich,38,9,9,20,41,64,36\n",
      "Derby,38,8,6,24,33,63,30\n",
      "Leicester,38,5,13,20,30,64,28\n",
      "header: Team,Games,Wins,Losses,Draws,Goals,Goals Allowed,Points\n",
      "\n"
     ]
    }
   ],
   "source": [
    "with open('data/football.txt') as f:\n",
    "    header = f.readline()\n",
    "    for line in f:\n",
    "        print(line.strip())\n",
    "    print('header:', header)"
   ]
  },
  {
   "cell_type": "markdown",
   "metadata": {},
   "source": [
    "When would storing the header separately be useful? Suppose we want to find the average number of wins of all the teams. If the header string \"Wins\" had been stored in the same list as the numerical wins, then we wouldn't be able to take the average of numbers and the word \"Wins\". First, let us store the team names and their wins in separate lists and print them:"
   ]
  },
  {
   "cell_type": "code",
   "execution_count": 10,
   "metadata": {},
   "outputs": [
    {
     "name": "stdout",
     "output_type": "stream",
     "text": [
      "Team:  Arsenal  \t Wins:  26\n",
      "Team:  Liverpool  \t Wins:  24\n",
      "Team:  Manchester United  \t Wins:  24\n",
      "Team:  Newcastle  \t Wins:  21\n",
      "Team:  Leeds  \t Wins:  18\n",
      "Team:  Chelsea  \t Wins:  17\n",
      "Team:  West_Ham  \t Wins:  15\n",
      "Team:  Aston_Villa  \t Wins:  12\n",
      "Team:  Tottenham  \t Wins:  14\n",
      "Team:  Blackburn  \t Wins:  12\n",
      "Team:  Southampton  \t Wins:  12\n",
      "Team:  Middlesbrough  \t Wins:  12\n",
      "Team:  Fulham  \t Wins:  10\n",
      "Team:  Charlton  \t Wins:  10\n",
      "Team:  Everton  \t Wins:  11\n",
      "Team:  Bolton  \t Wins:  9\n",
      "Team:  Sunderland  \t Wins:  10\n",
      "Team:  Ipswich  \t Wins:  9\n",
      "Team:  Derby  \t Wins:  8\n",
      "Team:  Leicester  \t Wins:  5\n"
     ]
    }
   ],
   "source": [
    "with open('data/football.txt') as f:\n",
    "    header = f.readline().split(',')\n",
    "    teams = []\n",
    "    wins = []\n",
    "    for line in f:\n",
    "        team_info = line.strip().split(',')\n",
    "        teams.append(team_info[0])\n",
    "        wins.append(int(team_info[2]))\n",
    "        print('Team: ', teams[-1], ' \\t Wins: ', wins[-1])"
   ]
  },
  {
   "cell_type": "markdown",
   "metadata": {},
   "source": [
    "Notice in the code above, we needed to use the .split(',') command to split each line of team info (which was a single string) into a list of the team's info. We also needed to put \"int\" around each win to denote that we wanted it treated as an integer, not a string. "
   ]
  },
  {
   "cell_type": "markdown",
   "metadata": {},
   "source": [
    "To find the average wins, we can use the following code. Notice that we want to access team_info[2] and header[2] since Wins is the third column in the list."
   ]
  },
  {
   "cell_type": "code",
   "execution_count": 11,
   "metadata": {},
   "outputs": [
    {
     "name": "stdout",
     "output_type": "stream",
     "text": [
      "Wins 13.95\n"
     ]
    }
   ],
   "source": [
    "with open('data/football.txt') as f:\n",
    "    header = f.readline().split(',')\n",
    "    wins = []\n",
    "    for line in f:\n",
    "        team_info = line.strip().split(',')\n",
    "        wins.append(int(team_info[2]))\n",
    "\n",
    "print(header[2], sum(wins)/len(wins))"
   ]
  },
  {
   "cell_type": "markdown",
   "metadata": {},
   "source": [
    "### Exercise - Football 1\n",
    "Find the average number of losses. Print out the word \"Losses\" by referencing the correct header item and then the average number of losses."
   ]
  },
  {
   "cell_type": "code",
   "execution_count": null,
   "metadata": {
    "collapsed": true
   },
   "outputs": [],
   "source": [
    "#insert football 1"
   ]
  },
  {
   "cell_type": "markdown",
   "metadata": {},
   "source": [
    "### Exercise - Football 2\n",
    "Read the football file in. Use it to find the team that has the maximum wins. Then print \"Max Wins: 26 by Arsenal\" by referencing:\n",
    "- the header to produce the word \"Wins\"\n",
    "- the max(wins) to produce the number 26\n",
    "- incorporating wins.index(max(wins) to reference the team Arsenal"
   ]
  },
  {
   "cell_type": "code",
   "execution_count": null,
   "metadata": {
    "collapsed": true
   },
   "outputs": [],
   "source": [
    "#insert football 2"
   ]
  },
  {
   "cell_type": "markdown",
   "metadata": {},
   "source": [
    "### Exercise - Football 3\n",
    "Print the team with the maximum number of losses using the same conditions as above.\n"
   ]
  },
  {
   "cell_type": "code",
   "execution_count": null,
   "metadata": {
    "collapsed": true
   },
   "outputs": [],
   "source": [
    "#insert football 3"
   ]
  },
  {
   "cell_type": "markdown",
   "metadata": {},
   "source": [
    "## Counting"
   ]
  },
  {
   "cell_type": "markdown",
   "metadata": {},
   "source": [
    "Suppose we want to count the number of lines in which \"falls\" appears in the Kanye lyrics. In this case, we will want to break up each sentence into a list of words using the split command: "
   ]
  },
  {
   "cell_type": "code",
   "execution_count": 12,
   "metadata": {},
   "outputs": [
    {
     "name": "stdout",
     "output_type": "stream",
     "text": [
      "16\n"
     ]
    }
   ],
   "source": [
    "count = 0\n",
    "for line in open('data/kanye.txt'):   \n",
    "    words = line.strip().split()\n",
    "    if 'falls' in words:\n",
    "        count = count +1\n",
    "        \n",
    "print(count)"
   ]
  },
  {
   "cell_type": "markdown",
   "metadata": {},
   "source": [
    "Suppose you wanted to print out what lines in the file \"falls\" is contained on. In that case, we can use the enumerate function. The enumerate function iterates through items in a list and creates an index for them. Let's do an easier example first. Let's say I had a list of colors and I wanted to print the color and its index on a separate line. I would type:"
   ]
  },
  {
   "cell_type": "code",
   "execution_count": 13,
   "metadata": {},
   "outputs": [
    {
     "name": "stdout",
     "output_type": "stream",
     "text": [
      "0 red\n",
      "1 blue\n",
      "2 yellow\n",
      "3 blue\n",
      "4 green\n"
     ]
    }
   ],
   "source": [
    "colors = ['red', 'blue', 'yellow', 'blue', 'green']\n",
    "for index, color in enumerate(colors):\n",
    "    print(index, color)"
   ]
  },
  {
   "cell_type": "markdown",
   "metadata": {},
   "source": [
    "Now, we can use enumerate to print the lines that \"falls\" is on:"
   ]
  },
  {
   "cell_type": "code",
   "execution_count": 14,
   "metadata": {},
   "outputs": [
    {
     "name": "stdout",
     "output_type": "stream",
     "text": [
      "falls is on line 0\n",
      "falls is on line 1\n",
      "falls is on line 4\n",
      "falls is on line 5\n",
      "falls is on line 32\n",
      "falls is on line 33\n",
      "falls is on line 60\n",
      "falls is on line 61\n",
      "falls is on line 88\n",
      "falls is on line 89\n",
      "falls is on line 90\n",
      "falls is on line 91\n",
      "falls is on line 92\n",
      "falls is on line 93\n",
      "falls is on line 94\n",
      "falls is on line 95\n"
     ]
    }
   ],
   "source": [
    "count = 0\n",
    "for index, line in enumerate(open('data/kanye.txt')):   \n",
    "    words = line.strip().split()\n",
    "    if 'falls' in words:\n",
    "        print('falls is on line', index)\n"
   ]
  },
  {
   "cell_type": "markdown",
   "metadata": {},
   "source": [
    "Okay, let's put everything together. Suppose we want to break up the kanye file into words. We'll make a dictionary of the words and their corresponding frequencies. Then, we'll print out the list of words in decending order of frequency. Let's do it:"
   ]
  },
  {
   "cell_type": "code",
   "execution_count": 15,
   "metadata": {
    "scrolled": false
   },
   "outputs": [
    {
     "name": "stdout",
     "output_type": "stream",
     "text": [
      "30 it\n",
      "20 all\n",
      "17 down\n",
      "16 i\n",
      "16 falls\n",
      "16 a\n",
      "12 the\n",
      "12 oh,\n",
      "12 and\n",
      "10 i'm\n"
     ]
    }
   ],
   "source": [
    "#create the dictionary of words and frequencies:\n",
    "word_dict = {}\n",
    "for line in open('data/kanye.txt'):\n",
    "    for word in line.split():\n",
    "        word = word.lower()\n",
    "        word_dict[word] = word_dict.get(word,0) + 1\n",
    "\n",
    "#create a list of tuples to sort the words\n",
    "word_list = []\n",
    "for key,val in word_dict.items():\n",
    "    word_list.append((val,key))\n",
    "\n",
    "#print the list in reverse\n",
    "word_list.sort(reverse = True)\n",
    "\n",
    "for key,value in word_list[0:10]:\n",
    "    print(key, value)"
   ]
  },
  {
   "cell_type": "markdown",
   "metadata": {},
   "source": [
    "What happens if I had created the list of tuples in the order (key,val) instead of (val,key)? It would have sorted alphabetically:"
   ]
  },
  {
   "cell_type": "code",
   "execution_count": 16,
   "metadata": {},
   "outputs": [
    {
     "name": "stdout",
     "output_type": "stream",
     "text": [
      "you, 7\n",
      "you 6\n",
      "years, 1\n",
      "workin' 1\n",
      "won't 2\n",
      "without 1\n",
      "with 6\n",
      "will 1\n",
      "why 2\n",
      "white 1\n"
     ]
    }
   ],
   "source": [
    "#create a list of tuples to sort the words\n",
    "word_list = []\n",
    "for key,val in word_dict.items():\n",
    "    word_list.append((key,val))\n",
    "\n",
    "#print the list in reverse order\n",
    "word_list.sort(reverse = True)\n",
    "\n",
    "for key,value in word_list[0:10]:\n",
    "    print(key, value)"
   ]
  },
  {
   "cell_type": "markdown",
   "metadata": {},
   "source": [
    "What happens if we had forgotten .split()? It would have counted the frequency of letters instead of words:"
   ]
  },
  {
   "cell_type": "code",
   "execution_count": 17,
   "metadata": {},
   "outputs": [
    {
     "name": "stdout",
     "output_type": "stream",
     "text": [
      "524  \n",
      "238 e\n",
      "189 a\n",
      "179 t\n",
      "177 l\n",
      "168 o\n",
      "142 s\n",
      "131 n\n",
      "131 h\n",
      "129 i\n"
     ]
    }
   ],
   "source": [
    "#create the dictionary of words and frequencies:\n",
    "word_dict = {}\n",
    "for line in open('data/kanye.txt'):\n",
    "    for word in line:\n",
    "        word_dict[word] = word_dict.get(word,0) + 1\n",
    "\n",
    "#create a list to sort the words\n",
    "word_list = []\n",
    "for key,val in word_dict.items():\n",
    "    word_list.append((val,key))\n",
    "\n",
    "#print the list in reverse order\n",
    "word_list.sort(reverse = True)\n",
    "\n",
    "for key,value in word_list[0:10]:\n",
    "    print(key, value)"
   ]
  },
  {
   "cell_type": "markdown",
   "metadata": {},
   "source": [
    "### Exercise - Dance 1\n",
    "Write a program that reads the file dance.txt. It should print the words and counts in decending order of frequency."
   ]
  },
  {
   "cell_type": "code",
   "execution_count": 60,
   "metadata": {
    "collapsed": true
   },
   "outputs": [],
   "source": [
    "#insert dance code"
   ]
  },
  {
   "cell_type": "markdown",
   "metadata": {},
   "source": [
    "### Exercise - Dance 2\n",
    "Print out the words and their counts in alphabetically ascending order."
   ]
  },
  {
   "cell_type": "code",
   "execution_count": 61,
   "metadata": {
    "collapsed": true
   },
   "outputs": [],
   "source": [
    "#insert dance again code"
   ]
  },
  {
   "cell_type": "markdown",
   "metadata": {},
   "source": [
    "### Exercise - Dance 3\n",
    "Write a program that prints out the LYRICS that contain any permutation of the word \"present\", such as \"Present\" or \"presently\"."
   ]
  },
  {
   "cell_type": "code",
   "execution_count": 6,
   "metadata": {
    "collapsed": true
   },
   "outputs": [],
   "source": [
    "#insert dance again again code"
   ]
  },
  {
   "cell_type": "markdown",
   "metadata": {},
   "source": [
    "### Exercise - Dance 4\n",
    "Write a program that prints out the LINE NUMBERS of the lyrics that contain any permutation of the word \"present\", such as \"Present\" or \"presently\"."
   ]
  },
  {
   "cell_type": "code",
   "execution_count": null,
   "metadata": {
    "collapsed": true
   },
   "outputs": [],
   "source": [
    "#insert dance 4"
   ]
  },
  {
   "cell_type": "markdown",
   "metadata": {},
   "source": [
    "### Exercise - find kanye\n",
    "Suppose we wanted to create a program that doesn't check whether \"kanye\" is a word in the line but checks whether the letters in that line could form the word \"Kanye.\" For example, the line \"But she won't drop out, her parents will look at her funny\" contains the letters k, a, n, y, and e. Write a program that prints the locations of the lines that form the word \"Kanye\" in the kanye.txt file. \n",
    "\n",
    "To do this, write a more general function called find_word that takes in a word and a file and returns a list of the locations of the lines that form the word."
   ]
  },
  {
   "cell_type": "code",
   "execution_count": null,
   "metadata": {
    "collapsed": true
   },
   "outputs": [],
   "source": [
    "#insert kanye"
   ]
  },
  {
   "cell_type": "markdown",
   "metadata": {},
   "source": [
    "Delimiters\n",
    "---\n",
    "<a class=\"anchor\" id=\"delimiters\"></a>\n",
    "\n",
    "Up until now, we have been mostly breaking up sentences by words using .split() with the parenthesis blank. However, we can choose to break up the sentence by any delimiter we want. Consider, for example, the student.txt file:"
   ]
  },
  {
   "cell_type": "code",
   "execution_count": 18,
   "metadata": {},
   "outputs": [
    {
     "name": "stdout",
     "output_type": "stream",
     "text": [
      "Jane Doe, 2000, 101 Main St\n",
      "John Doe, 2001, 123 Oak St\n",
      "Ann Ko, 1999, 57 Tree St\n",
      "Paul Smith, 2000, 60 Spring St\n",
      "Sarah McDonald, 2001, 101 MLK Blvd\n"
     ]
    }
   ],
   "source": [
    "for line in open('data/students.txt'):\n",
    "    print(line.strip())"
   ]
  },
  {
   "cell_type": "markdown",
   "metadata": {},
   "source": [
    "In this case, we want to break up each line by commas. To do this, type:"
   ]
  },
  {
   "cell_type": "code",
   "execution_count": 19,
   "metadata": {},
   "outputs": [
    {
     "name": "stdout",
     "output_type": "stream",
     "text": [
      "['Jane Doe', ' 2000', ' 101 Main St']\n",
      "['John Doe', ' 2001', ' 123 Oak St']\n",
      "['Ann Ko', ' 1999', ' 57 Tree St']\n",
      "['Paul Smith', ' 2000', ' 60 Spring St']\n",
      "['Sarah McDonald', ' 2001', ' 101 MLK Blvd']\n"
     ]
    }
   ],
   "source": [
    "for line in open('data/students.txt'):\n",
    "    words = line.strip().split(',')\n",
    "    print(words)"
   ]
  },
  {
   "cell_type": "markdown",
   "metadata": {},
   "source": [
    "We could then keep separate name, birth year, and address lists by typing:\n"
   ]
  },
  {
   "cell_type": "code",
   "execution_count": 20,
   "metadata": {},
   "outputs": [
    {
     "name": "stdout",
     "output_type": "stream",
     "text": [
      "['Jane Doe', 'John Doe', 'Ann Ko', 'Paul Smith', 'Sarah McDonald']\n",
      "[' 2000', ' 2001', ' 1999', ' 2000', ' 2001']\n",
      "[' 101 Main St', ' 123 Oak St', ' 57 Tree St', ' 60 Spring St', ' 101 MLK Blvd']\n"
     ]
    }
   ],
   "source": [
    "name_list = []\n",
    "birth_year_list = []\n",
    "address_list = []\n",
    "for line in open('data/students.txt'):\n",
    "    words = line.strip().split(',')\n",
    "    name_list.append(words[0])\n",
    "    birth_year_list.append(words[1])\n",
    "    address_list.append(words[2])\n",
    "print(name_list)\n",
    "print(birth_year_list)\n",
    "print(address_list)"
   ]
  },
  {
   "cell_type": "markdown",
   "metadata": {},
   "source": [
    "Notice that there are a lot of extra spaces on each side of some of the words, so we may want to strip that:"
   ]
  },
  {
   "cell_type": "code",
   "execution_count": 21,
   "metadata": {},
   "outputs": [
    {
     "name": "stdout",
     "output_type": "stream",
     "text": [
      "['Jane Doe', 'John Doe', 'Ann Ko', 'Paul Smith', 'Sarah McDonald']\n",
      "['2000', '2001', '1999', '2000', '2001']\n",
      "['101 Main St', '123 Oak St', '57 Tree St', '60 Spring St', '101 MLK Blvd']\n"
     ]
    }
   ],
   "source": [
    "name_list = []\n",
    "birth_year_list = []\n",
    "address_list = []\n",
    "for line in open('data/students.txt'):\n",
    "    words = line.strip().split(',')\n",
    "    name_list.append(words[0].strip())\n",
    "    birth_year_list.append(words[1].strip())\n",
    "    address_list.append(words[2].strip())\n",
    "print(name_list)\n",
    "print(birth_year_list)\n",
    "print(address_list)"
   ]
  },
  {
   "cell_type": "markdown",
   "metadata": {},
   "source": [
    "When searching through a file, we may only care about lines that begin with certain strings. For example, consider this file:"
   ]
  },
  {
   "cell_type": "code",
   "execution_count": 22,
   "metadata": {},
   "outputs": [
    {
     "name": "stdout",
     "output_type": "stream",
     "text": [
      "From: janedoe@gmail.com Sat Jan 5 2008\n",
      "To: jackdoe@aol.com\n",
      "Subject: Saturday Party\n",
      "\n",
      "From: annesmith@gmail.com Sun Jan 6 2008\n",
      "To: bobpaul@amazon.com\n",
      "Subject: I’m mad at you\n",
      "\n",
      "From: jackmac@mac.com Mon Jan 7 2008\n",
      "To: catdancy@gmail.com\n",
      "Subject: Not safe for work\n",
      "\n",
      "From: paullauren@gmail.com Tues Jan 9 2008\n",
      "To: mikejoy@aol.com\n",
      "Subject: For sale\n"
     ]
    }
   ],
   "source": [
    "for line in open('data/mailbox.txt'):\n",
    "    print(line.strip())"
   ]
  },
  {
   "cell_type": "markdown",
   "metadata": {},
   "source": [
    "### Exercise - sports 1\n",
    "Open the file sports.txt. Break up each line by the delimiter \"-\". Then print a list of what each student plays in the spring. For example, each line should say something like \"Brenda plays track in the spring.\""
   ]
  },
  {
   "cell_type": "code",
   "execution_count": 62,
   "metadata": {
    "collapsed": true
   },
   "outputs": [],
   "source": [
    "#insert sports code"
   ]
  },
  {
   "cell_type": "markdown",
   "metadata": {},
   "source": [
    "### Exercise - sports 2\n",
    "Print a count of how many students are enrolled in each sport. For example, your output will contain something like \"2 students play soccer\""
   ]
  },
  {
   "cell_type": "code",
   "execution_count": 63,
   "metadata": {
    "collapsed": true
   },
   "outputs": [],
   "source": [
    "#insert sports again code"
   ]
  },
  {
   "cell_type": "markdown",
   "metadata": {},
   "source": [
    "### Exercise - Football 5\n",
    "Break up the football.txt data using comma delimiters. Store the team names in a list. Make sure to skip the header."
   ]
  },
  {
   "cell_type": "code",
   "execution_count": 11,
   "metadata": {
    "collapsed": true
   },
   "outputs": [],
   "source": [
    "#insert football"
   ]
  },
  {
   "cell_type": "markdown",
   "metadata": {},
   "source": [
    "### Exercise - Football 6\n",
    "Store the football.txt data as a list of lists for the different team data. Then, find the team that has the minimum absolute value difference between their goals and goals allowed. (Hint: the answer should be Aston Villa.)"
   ]
  },
  {
   "cell_type": "code",
   "execution_count": 1,
   "metadata": {
    "collapsed": true
   },
   "outputs": [],
   "source": [
    "#insert football 2"
   ]
  },
  {
   "cell_type": "markdown",
   "metadata": {},
   "source": [
    "CSV Files\n",
    "---\n",
    "<a class=\"anchor\" id=\"csv\"></a>\n",
    "The so-called CSV (Comma Separated Values) format is the most common import and export format for spreadsheets and databases. For example, you can always store an Excel or Google sheet in CSV format. We can read them as follows:"
   ]
  },
  {
   "cell_type": "code",
   "execution_count": 23,
   "metadata": {},
   "outputs": [
    {
     "name": "stdout",
     "output_type": "stream",
     "text": [
      "['name', ' degree', ' title', ' email']\n",
      "['Scarlett L. Bellamy', ' Sc.D.', 'Associate Professor of Biostatistics', 'bellamys@mail.med.upenn.edu']\n",
      "['Warren B. Bilker', 'Ph.D.', 'Professor of Biostatistics', 'warren@upenn.edu']\n",
      "['Matthew W Bryan', ' PhD', 'Assistant Professor of Biostatistics', 'bryanma@upenn.edu']\n",
      "['Jinbo Chen', ' Ph.D.', 'Associate Professor of Biostatistics', 'jinboche@upenn.edu']\n",
      "['Susan S Ellenberg', ' Ph.D.', 'Professor of Biostatistics', 'sellenbe@upenn.edu']\n",
      "['Jonas H. Ellenberg', ' Ph.D.', 'Professor of Biostatistics', 'jellenbe@mail.med.upenn.edu']\n",
      "['Rui Feng', ' Ph.D', 'Assistant Professor of Biostatistics', 'ruifeng@upenn.edu']\n",
      "['Benjamin C. French', ' PhD', 'Associate Professor of Biostatistics', 'bcfrench@mail.med.upenn.edu']\n",
      "['Phyllis A. Gimotty', ' Ph.D', 'Professor of Biostatistics', 'pgimotty@upenn.edu']\n",
      "['Wensheng Guo', ' Ph.D', 'Professor of Biostatistics', 'wguo@mail.med.upenn.edu']\n",
      "['Yenchih Hsu', ' Ph.D.', 'Assistant Professor of Biostatistics', 'hsu9@mail.med.upenn.edu']\n",
      "['Rebecca A Hubbard', ' PhD', 'Associate Professor of Biostatistics', 'rhubb@mail.med.upenn.edu']\n",
      "['Wei-Ting Hwang', ' Ph.D.', 'Associate Professor of Biostatistics', 'whwang@mail.med.upenn.edu']\n",
      "['Marshall M. Joffe', ' MD MPH Ph.D', 'Professor of Biostatistics', 'mjoffe@mail.med.upenn.edu']\n",
      "['J. Richard Landis', ' B.S.Ed. M.S. Ph.D.', 'Professor of Biostatistics', 'jrlandis@mail.med.upenn.edu']\n",
      "['Yimei Li', ' Ph.D.', 'Assistant Professor of Biostatistics', 'liy3@email.chop.edu']\n",
      "['Mingyao Li', ' Ph.D.', 'Associate Professor of Biostatistics', 'mingyao@mail.med.upenn.edu']\n",
      "['Hongzhe Li', ' Ph.D', 'Professor of Biostatistics', 'hongzhe@upenn.edu']\n",
      "['A. Russell Localio', ' JD MA MPH MS PhD', 'Associate Professor of Biostatistics', 'rlocalio@upenn.edu']\n",
      "['Nandita Mitra', ' Ph.D.', 'Associate Professor of Biostatistics', 'nanditam@mail.med.upenn.edu']\n",
      "['Knashawn H. Morales', ' Sc.D.', 'Associate Professor of Biostatistics', 'knashawn@mail.med.upenn.edu']\n",
      "['Kathleen Joy Propert', ' Sc.D.', 'Professor of Biostatistics', 'propert@mail.med.upenn.edu']\n",
      "['Mary E. Putt', ' PhD ScD', 'Professor of Biostatistics', 'mputt@mail.med.upenn.edu']\n",
      "['Sarah Jane Ratcliffe', ' Ph.D.', 'Associate Professor of Biostatistics', 'sratclif@upenn.edu']\n",
      "['Michelle Elana Ross', ' PhD', 'Assistant Professor is Biostatistics', 'michross@upenn.edu']\n",
      "['Jason A. Roy', ' Ph.D.', 'Associate Professor of Biostatistics', 'jaroy@mail.med.upenn.edu']\n",
      "['Mary D. Sammel', ' Sc.D.', 'Professor of Biostatistics', 'msammel@cceb.med.upenn.edu']\n",
      "['Pamela Ann Shaw', ' PhD', 'Assistant Professor of Biostatistics', 'shawp@upenn.edu']\n",
      "['Russell Takeshi Shinohara', '0', 'Assistant Professor of Biostatistics', 'rshi@mail.med.upenn.edu']\n",
      "['Haochang Shou', ' Ph.D.', 'Assistant Professor of Biostatistics', 'hshou@mail.med.upenn.edu']\n",
      "['Justine Shults', ' Ph.D.', 'Professor of Biostatistics', 'jshults@mail.med.upenn.edu']\n",
      "['Alisa Jane Stephens', ' Ph.D.', 'Assistant Professor of Biostatistics', 'alisaste@mail.med.upenn.edu']\n",
      "['Andrea Beth Troxel', ' ScD', 'Professor of Biostatistics', 'atroxel@mail.med.upenn.edu']\n",
      "['Rui Xiao', ' PhD', 'Assistant Professor of Biostatistics', 'rxiao@mail.med.upenn.edu']\n",
      "['Sharon Xiangwen Xie', ' Ph.D.', 'Associate Professor of Biostatistics', 'sxie@mail.med.upenn.edu']\n",
      "['Dawei Xie', ' PhD', 'Assistant Professor of Biostatistics', 'dxie@upenn.edu']\n",
      "['Wei (Peter) Yang', ' Ph.D.', 'Assistant Professor of Biostatistics', 'weiyang@mail.med.upenn.edu']\n"
     ]
    }
   ],
   "source": [
    "import csv\n",
    "\n",
    "degree=[]\n",
    "\n",
    "with open('data/faculty.csv') as csvfile:\n",
    "    data = csv.reader(csvfile, delimiter=',')\n",
    "    for row in data:\n",
    "        print(row)"
   ]
  },
  {
   "cell_type": "markdown",
   "metadata": {},
   "source": [
    "Notice that the first row is a header. If you wanted to skip it, you could type:"
   ]
  },
  {
   "cell_type": "code",
   "execution_count": 24,
   "metadata": {},
   "outputs": [
    {
     "name": "stdout",
     "output_type": "stream",
     "text": [
      "['Scarlett L. Bellamy', ' Sc.D.', 'Associate Professor of Biostatistics', 'bellamys@mail.med.upenn.edu']\n",
      "['Warren B. Bilker', 'Ph.D.', 'Professor of Biostatistics', 'warren@upenn.edu']\n",
      "['Matthew W Bryan', ' PhD', 'Assistant Professor of Biostatistics', 'bryanma@upenn.edu']\n",
      "['Jinbo Chen', ' Ph.D.', 'Associate Professor of Biostatistics', 'jinboche@upenn.edu']\n",
      "['Susan S Ellenberg', ' Ph.D.', 'Professor of Biostatistics', 'sellenbe@upenn.edu']\n",
      "['Jonas H. Ellenberg', ' Ph.D.', 'Professor of Biostatistics', 'jellenbe@mail.med.upenn.edu']\n",
      "['Rui Feng', ' Ph.D', 'Assistant Professor of Biostatistics', 'ruifeng@upenn.edu']\n",
      "['Benjamin C. French', ' PhD', 'Associate Professor of Biostatistics', 'bcfrench@mail.med.upenn.edu']\n",
      "['Phyllis A. Gimotty', ' Ph.D', 'Professor of Biostatistics', 'pgimotty@upenn.edu']\n",
      "['Wensheng Guo', ' Ph.D', 'Professor of Biostatistics', 'wguo@mail.med.upenn.edu']\n",
      "['Yenchih Hsu', ' Ph.D.', 'Assistant Professor of Biostatistics', 'hsu9@mail.med.upenn.edu']\n",
      "['Rebecca A Hubbard', ' PhD', 'Associate Professor of Biostatistics', 'rhubb@mail.med.upenn.edu']\n",
      "['Wei-Ting Hwang', ' Ph.D.', 'Associate Professor of Biostatistics', 'whwang@mail.med.upenn.edu']\n",
      "['Marshall M. Joffe', ' MD MPH Ph.D', 'Professor of Biostatistics', 'mjoffe@mail.med.upenn.edu']\n",
      "['J. Richard Landis', ' B.S.Ed. M.S. Ph.D.', 'Professor of Biostatistics', 'jrlandis@mail.med.upenn.edu']\n",
      "['Yimei Li', ' Ph.D.', 'Assistant Professor of Biostatistics', 'liy3@email.chop.edu']\n",
      "['Mingyao Li', ' Ph.D.', 'Associate Professor of Biostatistics', 'mingyao@mail.med.upenn.edu']\n",
      "['Hongzhe Li', ' Ph.D', 'Professor of Biostatistics', 'hongzhe@upenn.edu']\n",
      "['A. Russell Localio', ' JD MA MPH MS PhD', 'Associate Professor of Biostatistics', 'rlocalio@upenn.edu']\n",
      "['Nandita Mitra', ' Ph.D.', 'Associate Professor of Biostatistics', 'nanditam@mail.med.upenn.edu']\n",
      "['Knashawn H. Morales', ' Sc.D.', 'Associate Professor of Biostatistics', 'knashawn@mail.med.upenn.edu']\n",
      "['Kathleen Joy Propert', ' Sc.D.', 'Professor of Biostatistics', 'propert@mail.med.upenn.edu']\n",
      "['Mary E. Putt', ' PhD ScD', 'Professor of Biostatistics', 'mputt@mail.med.upenn.edu']\n",
      "['Sarah Jane Ratcliffe', ' Ph.D.', 'Associate Professor of Biostatistics', 'sratclif@upenn.edu']\n",
      "['Michelle Elana Ross', ' PhD', 'Assistant Professor is Biostatistics', 'michross@upenn.edu']\n",
      "['Jason A. Roy', ' Ph.D.', 'Associate Professor of Biostatistics', 'jaroy@mail.med.upenn.edu']\n",
      "['Mary D. Sammel', ' Sc.D.', 'Professor of Biostatistics', 'msammel@cceb.med.upenn.edu']\n",
      "['Pamela Ann Shaw', ' PhD', 'Assistant Professor of Biostatistics', 'shawp@upenn.edu']\n",
      "['Russell Takeshi Shinohara', '0', 'Assistant Professor of Biostatistics', 'rshi@mail.med.upenn.edu']\n",
      "['Haochang Shou', ' Ph.D.', 'Assistant Professor of Biostatistics', 'hshou@mail.med.upenn.edu']\n",
      "['Justine Shults', ' Ph.D.', 'Professor of Biostatistics', 'jshults@mail.med.upenn.edu']\n",
      "['Alisa Jane Stephens', ' Ph.D.', 'Assistant Professor of Biostatistics', 'alisaste@mail.med.upenn.edu']\n",
      "['Andrea Beth Troxel', ' ScD', 'Professor of Biostatistics', 'atroxel@mail.med.upenn.edu']\n",
      "['Rui Xiao', ' PhD', 'Assistant Professor of Biostatistics', 'rxiao@mail.med.upenn.edu']\n",
      "['Sharon Xiangwen Xie', ' Ph.D.', 'Associate Professor of Biostatistics', 'sxie@mail.med.upenn.edu']\n",
      "['Dawei Xie', ' PhD', 'Assistant Professor of Biostatistics', 'dxie@upenn.edu']\n",
      "['Wei (Peter) Yang', ' Ph.D.', 'Assistant Professor of Biostatistics', 'weiyang@mail.med.upenn.edu']\n"
     ]
    }
   ],
   "source": [
    "import csv\n",
    "\n",
    "degree=[]\n",
    "\n",
    "with open('data/faculty.csv') as csvfile:\n",
    "    data = csv.reader(csvfile, delimiter=',')\n",
    "    next(data)\n",
    "    for row in data:\n",
    "        print(row)\n",
    "            "
   ]
  },
  {
   "cell_type": "markdown",
   "metadata": {},
   "source": [
    "### Writing to a csv file\n",
    "\n",
    "Suppose we want to CREATE a csv file instead of reading its contents in. We will use \"w\" to denote write. We did not need to use \"r\" to read in a file because that is the default.\n",
    "\n",
    "If we wanted to write the three emails below to a csv file, we could type:"
   ]
  },
  {
   "cell_type": "code",
   "execution_count": 25,
   "metadata": {},
   "outputs": [],
   "source": [
    "emails = ['janedoe@gmail.com', 'jackdoe@amazon.com', 'sallysmith@aol.com']    \n",
    "\n",
    "with open('data/emails.csv', 'w') as csvfile:\n",
    "    myfile = csv.writer(csvfile)\n",
    "    myfile.writerow(['list_of_emails'])\n",
    "    for email in emails:\n",
    "        myfile.writerow([email])"
   ]
  },
  {
   "cell_type": "markdown",
   "metadata": {},
   "source": [
    "Notice that csv.writer returns a writer object responsible for converting the user’s data into delimited strings on the given file-like object. Then, we actually add data to the file using the \"writerow\" command.\n",
    "\n",
    "Also notice that we needed to put each string that we wanted to write to the csv file inside brackets. (In our case, \"email\" needs to be between brackets. Otherwise, it would create a space between each letter in the string.\n",
    "\n",
    "To check that I created the emails file correctly, I can read it back in:"
   ]
  },
  {
   "cell_type": "code",
   "execution_count": 26,
   "metadata": {},
   "outputs": [
    {
     "name": "stdout",
     "output_type": "stream",
     "text": [
      "['list_of_emails']\n",
      "['janedoe@gmail.com']\n",
      "['jackdoe@amazon.com']\n",
      "['sallysmith@aol.com']\n"
     ]
    }
   ],
   "source": [
    "with open('data/emails.csv') as csvfile:\n",
    "    data = csv.reader(csvfile, delimiter=',')\n",
    "    for row in data:\n",
    "        print(row)"
   ]
  },
  {
   "cell_type": "markdown",
   "metadata": {},
   "source": [
    "### Exercise - Degrees\n",
    "\n",
    "Write a program that reads in faculty.csv and creates a dictionary of each degree (standardized to not include periods) and the count of each title. \n",
    "\n",
    "Your program should print: {'0': 1, 'PhD': 31, 'MPH': 2, 'ScD': 6, 'MS': 2, 'BSEd': 1, 'MA': 1, 'MD': 1, 'JD': 1}\n",
    "\n",
    "Hint: One way to get rid of periods is to use .replace('.' , '')"
   ]
  },
  {
   "cell_type": "code",
   "execution_count": null,
   "metadata": {
    "collapsed": true
   },
   "outputs": [],
   "source": [
    "# insert degrees"
   ]
  },
  {
   "cell_type": "markdown",
   "metadata": {},
   "source": [
    "### Exercise - Title\n",
    "Write a program that reads in faculty.csv and creates a dictionary of each title and count. \n",
    "\n",
    "Your program should print: {'Professor of Biostatistics': 13, 'Assistant Professor of Biostatistics': 12, 'Associate Professor of Biostatistics': 12}\n",
    "\n",
    "Note: You'll need to account for a typo in the csv file by using \"replace\". Note: this is called data cleaning and is a HUUUUUUGE (not necessarily fun) part of data science."
   ]
  },
  {
   "cell_type": "code",
   "execution_count": null,
   "metadata": {
    "collapsed": true
   },
   "outputs": [],
   "source": [
    "#insert title"
   ]
  },
  {
   "cell_type": "markdown",
   "metadata": {},
   "source": [
    "### Exercise - email\n",
    "Write a program that reads in faculty.csv and creates a unique list of the domain names (after the \"@\" symbol in the email address). Your program should print: ['cceb.med.upenn.edu', 'email.chop.edu', 'upenn.edu', 'mail.med.upenn.edu']. You may use set if you choose."
   ]
  },
  {
   "cell_type": "code",
   "execution_count": null,
   "metadata": {
    "collapsed": true
   },
   "outputs": [],
   "source": [
    "#insert email"
   ]
  },
  {
   "cell_type": "markdown",
   "metadata": {},
   "source": [
    "### Exercise - last name\n",
    "Write a program that reads in faculty.csv and creates a dictionary such that they key is the last name and the value is a list of the degree, title, and email. Be careful to account for duplicate last names. For example:\n",
    "\n",
    "'Bellamy': [[' Sc.D.', 'Associate Professor of Biostatistics', 'bellamys@mail.med.upenn.edu']]\n",
    "\n",
    "and\n",
    "\n",
    "'Li': [[' Ph.D.', 'Assistant Professor of Biostatistics', 'liy3@email.chop.edu'], [' Ph.D.', 'Associate Professor of Biostatistics', 'mingyao@mail.med.upenn.edu'], [' Ph.D', 'Professor of Biostatistics', 'hongzhe@upenn.edu']]"
   ]
  },
  {
   "cell_type": "code",
   "execution_count": null,
   "metadata": {
    "collapsed": true
   },
   "outputs": [],
   "source": [
    "#insert last name"
   ]
  },
  {
   "cell_type": "markdown",
   "metadata": {},
   "source": [
    "### Exercise - tuple\n",
    "Write a program that reads in faculty.csv and creates a dictionary such that the key is a tuple of the name and the value is the list of the degree, title, and email. You can assume each tuple name is unique. For example:\n",
    "\n",
    "('Benjamin', 'C.', 'French'): [' PhD',\n",
    "  'Associate Professor of Biostatistics',\n",
    "  'bcfrench@mail.med.upenn.edu']\n",
    "  \n",
    "  \n",
    " ('Dawei', 'Xie'): [' PhD',\n",
    "  'Assistant Professor of Biostatistics',\n",
    "  'dxie@upenn.edu']"
   ]
  },
  {
   "cell_type": "code",
   "execution_count": null,
   "metadata": {
    "collapsed": true
   },
   "outputs": [],
   "source": [
    "#insert tuple"
   ]
  },
  {
   "cell_type": "markdown",
   "metadata": {},
   "source": [
    "### Exercise - write names\n",
    "\n",
    "Write a program that reads in faculty.csv and writes the names of the professors to a list called names.csv. You should include a header in the file such that the first line says \"Professor Names\".\n",
    "\n",
    "Note: to check that you did it correctly, you can always read your \"names.csv\" file back in to view it."
   ]
  },
  {
   "cell_type": "code",
   "execution_count": null,
   "metadata": {
    "collapsed": true
   },
   "outputs": [],
   "source": [
    "#insert write names"
   ]
  },
  {
   "cell_type": "markdown",
   "metadata": {},
   "source": [
    "More File Output\n",
    "---\n",
    "<a class=\"anchor\" id=\"output\"></a>\n",
    "\n",
    "When we read in a file, we didn't need to include 'r' for \"read\", because r is a default parameter. To write a file, you have to open it with mode 'w' as a second parameter:"
   ]
  },
  {
   "cell_type": "code",
   "execution_count": 27,
   "metadata": {},
   "outputs": [
    {
     "name": "stdout",
     "output_type": "stream",
     "text": [
      "<_io.TextIOWrapper name='data/output.txt' mode='w' encoding='UTF-8'>\n"
     ]
    }
   ],
   "source": [
    "fout = open('data/output.txt', 'w')\n",
    "print(fout)"
   ]
  },
  {
   "cell_type": "markdown",
   "metadata": {},
   "source": [
    "If the file already exists, opening it in write mode clears out the old data and starts fresh, so be careful! If the file doesn’t exist, a new one is created."
   ]
  },
  {
   "cell_type": "markdown",
   "metadata": {},
   "source": [
    "The write method of the file handle object puts data into the file. The file object keeps track of where it is, so if you call write again, it adds the new data to the end.\n",
    "\n",
    "When you are done writing, you have to close the file to make sure that the last bit of data is physically written to the disk so it will not be lost if the power goes off."
   ]
  },
  {
   "cell_type": "code",
   "execution_count": 28,
   "metadata": {},
   "outputs": [],
   "source": [
    "fout = open('data/output.txt', 'w')\n",
    "\n",
    "line1 = \"Oh, when it all, it all falls down,\\n\"\n",
    "fout.write(line1)\n",
    "\n",
    "line2 = \"I'm telling you, oh, it all falls down,\\n\"\n",
    "fout.write(line2)\n",
    "\n",
    "fout.close()"
   ]
  },
  {
   "cell_type": "markdown",
   "metadata": {},
   "source": [
    "Note in the above code that we had to add new line characters. The print statement automatically appends a newline, but the write method does not add the newline automatically. If you want each sentence to be on a different line, you'll need to add a \"\\n\""
   ]
  },
  {
   "cell_type": "markdown",
   "metadata": {},
   "source": [
    "To make sure that we actually wrote to that file, we can open it and read it:\n"
   ]
  },
  {
   "cell_type": "code",
   "execution_count": 29,
   "metadata": {},
   "outputs": [
    {
     "name": "stdout",
     "output_type": "stream",
     "text": [
      "Oh, when it all, it all falls down,\n",
      "\n",
      "I'm telling you, oh, it all falls down,\n",
      "\n"
     ]
    }
   ],
   "source": [
    "for line in open('data/output.txt'):\n",
    "    print(line)"
   ]
  },
  {
   "cell_type": "markdown",
   "metadata": {},
   "source": [
    "A good way to insure that the file is properly closed is to use the \"with\" keyword. The advantage is that the file is properly closed after its suite finishes - you don't need to remember to put \"f.close()\" at the end of the line:"
   ]
  },
  {
   "cell_type": "code",
   "execution_count": 30,
   "metadata": {},
   "outputs": [],
   "source": [
    "with open('data/output.txt', 'w') as fout:\n",
    "\n",
    "    line1 = \"Oh, when it all, it all falls down,\\n\"\n",
    "    fout.write(line1)\n",
    "\n",
    "    line2 = \"I'm telling you, oh, it all falls down,\\n\"\n",
    "    fout.write(line2)"
   ]
  },
  {
   "cell_type": "markdown",
   "metadata": {},
   "source": [
    "If we want to clear that file and rewrite the numbers between 1 and 10, we can type:"
   ]
  },
  {
   "cell_type": "code",
   "execution_count": 6,
   "metadata": {
    "collapsed": true
   },
   "outputs": [],
   "source": [
    "fout = open('data/output.txt', 'w')\n",
    "for i in range(1,11):\n",
    "    fout.write('Number:'+str(i)+'\\n')\n",
    "fout.close()"
   ]
  },
  {
   "cell_type": "markdown",
   "metadata": {},
   "source": [
    "Once again, let's check our work:"
   ]
  },
  {
   "cell_type": "code",
   "execution_count": 31,
   "metadata": {},
   "outputs": [
    {
     "name": "stdout",
     "output_type": "stream",
     "text": [
      "Oh, when it all, it all falls down,\n",
      "\n",
      "I'm telling you, oh, it all falls down,\n",
      "\n"
     ]
    }
   ],
   "source": [
    "for line in open('data/output.txt'):\n",
    "    print(line)"
   ]
  },
  {
   "cell_type": "markdown",
   "metadata": {},
   "source": [
    "Note: we needed to use plus signs instead of commas. Write does not accept commas between words like print does:"
   ]
  },
  {
   "cell_type": "code",
   "execution_count": 32,
   "metadata": {},
   "outputs": [
    {
     "ename": "TypeError",
     "evalue": "write() takes exactly one argument (3 given)",
     "output_type": "error",
     "traceback": [
      "\u001b[0;31m---------------------------------------------------------------------------\u001b[0m",
      "\u001b[0;31mTypeError\u001b[0m                                 Traceback (most recent call last)",
      "\u001b[0;32m<ipython-input-32-9b9df599862a>\u001b[0m in \u001b[0;36m<module>\u001b[0;34m\u001b[0m\n\u001b[1;32m      1\u001b[0m \u001b[0mfout\u001b[0m \u001b[0;34m=\u001b[0m \u001b[0mopen\u001b[0m\u001b[0;34m(\u001b[0m\u001b[0;34m'data/output.txt'\u001b[0m\u001b[0;34m,\u001b[0m \u001b[0;34m'w'\u001b[0m\u001b[0;34m)\u001b[0m\u001b[0;34m\u001b[0m\u001b[0;34m\u001b[0m\u001b[0m\n\u001b[1;32m      2\u001b[0m \u001b[0;32mfor\u001b[0m \u001b[0mi\u001b[0m \u001b[0;32min\u001b[0m \u001b[0mrange\u001b[0m\u001b[0;34m(\u001b[0m\u001b[0;36m1\u001b[0m\u001b[0;34m,\u001b[0m\u001b[0;36m11\u001b[0m\u001b[0;34m)\u001b[0m\u001b[0;34m:\u001b[0m\u001b[0;34m\u001b[0m\u001b[0;34m\u001b[0m\u001b[0m\n\u001b[0;32m----> 3\u001b[0;31m     \u001b[0mfout\u001b[0m\u001b[0;34m.\u001b[0m\u001b[0mwrite\u001b[0m\u001b[0;34m(\u001b[0m\u001b[0;34m'Number:'\u001b[0m\u001b[0;34m,\u001b[0m\u001b[0mstr\u001b[0m\u001b[0;34m(\u001b[0m\u001b[0mi\u001b[0m\u001b[0;34m)\u001b[0m\u001b[0;34m,\u001b[0m\u001b[0;34m'\\n'\u001b[0m\u001b[0;34m)\u001b[0m\u001b[0;34m\u001b[0m\u001b[0;34m\u001b[0m\u001b[0m\n\u001b[0m\u001b[1;32m      4\u001b[0m \u001b[0mfout\u001b[0m\u001b[0;34m.\u001b[0m\u001b[0mclose\u001b[0m\u001b[0;34m(\u001b[0m\u001b[0;34m)\u001b[0m\u001b[0;34m\u001b[0m\u001b[0;34m\u001b[0m\u001b[0m\n",
      "\u001b[0;31mTypeError\u001b[0m: write() takes exactly one argument (3 given)"
     ]
    }
   ],
   "source": [
    "fout = open('data/output.txt', 'w')\n",
    "for i in range(1,11):\n",
    "    fout.write('Number:',str(i),'\\n')\n",
    "fout.close()"
   ]
  },
  {
   "cell_type": "markdown",
   "metadata": {},
   "source": [
    "Suppose we wanted to continue adding the numbers 11 through 20 to the same text file. If we write to the file again, denoted by a \"w\", we'll end up clearing out the numbers 1-10 and replacing them with 11-20. If we want to append to the file created already, denoted by \"a\", then we can create all numbers 1-20:"
   ]
  },
  {
   "cell_type": "code",
   "execution_count": 33,
   "metadata": {},
   "outputs": [],
   "source": [
    "fout = open('data/output.txt', 'a')\n",
    "for i in range(11,21):\n",
    "    fout.write('Number:'+str(i)+'\\n')\n",
    "fout.close()"
   ]
  },
  {
   "cell_type": "markdown",
   "metadata": {},
   "source": [
    "Let's check:"
   ]
  },
  {
   "cell_type": "code",
   "execution_count": 34,
   "metadata": {},
   "outputs": [
    {
     "name": "stdout",
     "output_type": "stream",
     "text": [
      "Number:11\n",
      "\n",
      "Number:12\n",
      "\n",
      "Number:13\n",
      "\n",
      "Number:14\n",
      "\n",
      "Number:15\n",
      "\n",
      "Number:16\n",
      "\n",
      "Number:17\n",
      "\n",
      "Number:18\n",
      "\n",
      "Number:19\n",
      "\n",
      "Number:20\n",
      "\n"
     ]
    }
   ],
   "source": [
    "for line in open('data/output.txt'):\n",
    "    print(line)"
   ]
  },
  {
   "cell_type": "markdown",
   "metadata": {},
   "source": [
    "### Exercise - multiples\n",
    "Write a program that stores the first 100 multiples of 7, each on a different line, in a file called 7."
   ]
  },
  {
   "cell_type": "code",
   "execution_count": 85,
   "metadata": {
    "collapsed": true
   },
   "outputs": [],
   "source": [
    "#insert multiples"
   ]
  },
  {
   "cell_type": "markdown",
   "metadata": {},
   "source": [
    "### Exercise - kanye\n",
    "Write a program that calculates Kanye's most used words in kanye.txt and prints them to a file, in decending order of frequency.\n"
   ]
  },
  {
   "cell_type": "code",
   "execution_count": 86,
   "metadata": {
    "collapsed": true
   },
   "outputs": [],
   "source": [
    "#insert kanye"
   ]
  }
 ],
 "metadata": {
  "kernelspec": {
   "display_name": "Python 3",
   "language": "python",
   "name": "python3"
  },
  "language_info": {
   "codemirror_mode": {
    "name": "ipython",
    "version": 3
   },
   "file_extension": ".py",
   "mimetype": "text/x-python",
   "name": "python",
   "nbconvert_exporter": "python",
   "pygments_lexer": "ipython3",
   "version": "3.7.3"
  }
 },
 "nbformat": 4,
 "nbformat_minor": 2
}
