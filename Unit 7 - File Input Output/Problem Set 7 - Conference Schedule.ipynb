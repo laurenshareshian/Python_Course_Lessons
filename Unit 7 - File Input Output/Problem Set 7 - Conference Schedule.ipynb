{
 "cells": [
  {
   "cell_type": "markdown",
   "metadata": {
    "collapsed": true
   },
   "source": [
    "1.)You'll be working with a CSV file of sophomore and junior parent/teacher conferences. Read in the file called \"conferences.csv\". Save the header column as \"header\" and save the rest of the data into a list of lists called \"conferences\"."
   ]
  },
  {
   "cell_type": "code",
   "execution_count": null,
   "metadata": {
    "collapsed": true
   },
   "outputs": [],
   "source": [
    "#insert 1"
   ]
  },
  {
   "cell_type": "markdown",
   "metadata": {},
   "source": [
    "2.) Create a list called \"advisors\" that contains all of the advisors. Then print out a unique list of advisors (hint: use set) and the number of unique advisors."
   ]
  },
  {
   "cell_type": "code",
   "execution_count": null,
   "metadata": {
    "collapsed": true
   },
   "outputs": [],
   "source": [
    "#insert 2"
   ]
  },
  {
   "cell_type": "markdown",
   "metadata": {},
   "source": [
    "3.) It took several lines of code to make that advisor list. There is an easier way to do it. You can use what is called a list comprehension. Type:\n",
    "\n",
    "advisors = [row[5] for row in conferences]\n",
    "\n",
    "Verify that you get the same unique set of advisors and advisor length using this list comprehension. Google \"list comprehensions\" to read more if you want to write more elegant Pythonic code in less lines."
   ]
  },
  {
   "cell_type": "code",
   "execution_count": null,
   "metadata": {
    "collapsed": true
   },
   "outputs": [],
   "source": [
    "#insert 3"
   ]
  },
  {
   "cell_type": "markdown",
   "metadata": {},
   "source": [
    "4.) Make a dictionary where the key is the advisor and the value is the list of their advisees in form \"first name last name\". For example:\n",
    "\n",
    "'Henry': ['Jillian Hunter', 'Rachel Pippenger', ...]"
   ]
  },
  {
   "cell_type": "code",
   "execution_count": null,
   "metadata": {
    "collapsed": true
   },
   "outputs": [],
   "source": [
    "#insert 4"
   ]
  },
  {
   "cell_type": "markdown",
   "metadata": {},
   "source": [
    "5.) Access your dictionary to determine how many advisor conferences Lauren has and who the advisees are."
   ]
  },
  {
   "cell_type": "code",
   "execution_count": null,
   "metadata": {
    "collapsed": true
   },
   "outputs": [],
   "source": [
    "#insert 5"
   ]
  },
  {
   "cell_type": "markdown",
   "metadata": {},
   "source": [
    "6.) Create a list of tuples to sort in decreasing order the advisors and the number of advisee conferences that they have. Who has the most?"
   ]
  },
  {
   "cell_type": "code",
   "execution_count": null,
   "metadata": {
    "collapsed": true
   },
   "outputs": [],
   "source": [
    "#insert 6"
   ]
  },
  {
   "cell_type": "markdown",
   "metadata": {},
   "source": [
    "7.) Create a dictionary where the key is the grade level and the value is the number of kids in that grade. "
   ]
  },
  {
   "cell_type": "code",
   "execution_count": null,
   "metadata": {
    "collapsed": true
   },
   "outputs": [],
   "source": [
    "#insert 7"
   ]
  },
  {
   "cell_type": "markdown",
   "metadata": {},
   "source": [
    "8.) What are the names of the students that aren't in the 10th or 11th grade?"
   ]
  },
  {
   "cell_type": "code",
   "execution_count": null,
   "metadata": {
    "collapsed": true
   },
   "outputs": [],
   "source": [
    "#insert 8"
   ]
  },
  {
   "cell_type": "markdown",
   "metadata": {},
   "source": [
    "9.) Print out how many students have their advisor also as one of their teachers and/or dorm parents."
   ]
  },
  {
   "cell_type": "code",
   "execution_count": null,
   "metadata": {
    "collapsed": true
   },
   "outputs": [],
   "source": [
    "#insert 9"
   ]
  },
  {
   "cell_type": "markdown",
   "metadata": {},
   "source": [
    "10.) Find students that Lauren both teaches and advises."
   ]
  },
  {
   "cell_type": "code",
   "execution_count": null,
   "metadata": {
    "collapsed": true
   },
   "outputs": [],
   "source": [
    "#insert 10"
   ]
  },
  {
   "cell_type": "markdown",
   "metadata": {},
   "source": [
    "11.) Make a dictionary called teachers where the key is the teacher name and the value is the number of conferences that they need to attend. (Note: you don't want to overcount conferences - even if a teacher is also an advisor, that student's conference should only count for one.) Hint: you might want to use set."
   ]
  },
  {
   "cell_type": "code",
   "execution_count": null,
   "metadata": {
    "collapsed": true
   },
   "outputs": [],
   "source": [
    "#insert 11"
   ]
  },
  {
   "cell_type": "markdown",
   "metadata": {},
   "source": [
    "12.) Lauren doesn't want to look at a huge conference schedule. She only wants to see her students. Write to a file called \"lauren.txt\" that only contains the name of Lauren's students and the days and times of their conferences. Since you are writing to a regular text file and not a csv file, don't use csv.writer. Instead, write to a simple text file and separate the info with commas."
   ]
  },
  {
   "cell_type": "code",
   "execution_count": null,
   "metadata": {
    "collapsed": true
   },
   "outputs": [],
   "source": [
    "#insert 12"
   ]
  },
  {
   "cell_type": "markdown",
   "metadata": {},
   "source": [
    "13.) Lauren knows the conferences are taking part on Feb 14-16. She only cares to know if they are on Wed, Thurs, or Fri. Read in the lauren.txt file and change the dates to just the abbreviated weekday. For example, \"Wednesday, February 14\" would change to just \"Wed\". Create the \"lauren_abbrev.txt\" file with the student name, abbreviated day, and time info."
   ]
  },
  {
   "cell_type": "code",
   "execution_count": null,
   "metadata": {
    "collapsed": true
   },
   "outputs": [],
   "source": [
    "#insert 13"
   ]
  },
  {
   "cell_type": "markdown",
   "metadata": {},
   "source": [
    "Extra Credit: Advisor double bookings can't happen, meaning a teacher can't have an advisee conference and another student's conference at the same time. Write a program that finds any double bookings."
   ]
  },
  {
   "cell_type": "code",
   "execution_count": null,
   "metadata": {
    "collapsed": true
   },
   "outputs": [],
   "source": [
    "#insert extra credit"
   ]
  }
 ],
 "metadata": {
  "kernelspec": {
   "display_name": "Python 3",
   "language": "python",
   "name": "python3"
  },
  "language_info": {
   "codemirror_mode": {
    "name": "ipython",
    "version": 3
   },
   "file_extension": ".py",
   "mimetype": "text/x-python",
   "name": "python",
   "nbconvert_exporter": "python",
   "pygments_lexer": "ipython3",
   "version": "3.6.0"
  }
 },
 "nbformat": 4,
 "nbformat_minor": 2
}
