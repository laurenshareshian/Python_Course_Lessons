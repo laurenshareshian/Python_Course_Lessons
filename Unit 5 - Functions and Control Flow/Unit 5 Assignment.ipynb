{
 "cells": [
  {
   "cell_type": "markdown",
   "metadata": {},
   "source": [
    "Contents\n",
    "---\n",
    "- [Functions](#functions)\n",
    "- [Default, Positional, and Keyword arguments](#default)\n",
    "- [Accepting an arbirary number of arguments](#arbitrary)\n",
    "- [If name == 'main' ](#main)\n",
    "- [Try Except](#try)\n",
    "- [Break, Continue, Pass](#break)"
   ]
  },
  {
   "cell_type": "markdown",
   "metadata": {},
   "source": [
    "Functions\n",
    "---\n",
    "<a class=\"anchor\" id=\"functions\"></a>"
   ]
  },
  {
   "cell_type": "markdown",
   "metadata": {},
   "source": [
    "Functions are a set of actions that we group together, and give a name to. You have already used a number of functions from the core Python language, such as string.title() and list.sort() and sum(). We can define our own functions, which allows us to \"teach\" Python new behavior. The general syntax of a function that takes in one argument looks like this:\n",
    "```python\n",
    "# Let's define a function.\n",
    "def function_name(argument_1):\n",
    "\t# Do whatever we want this function to do,\n",
    "\t#  using argument_1 and argument_2\n",
    "    return function_value #return whatever thing your function has calculated\n",
    "\n",
    "# Use function_name to call the function.\n",
    "function_name(value_1)\n",
    "```"
   ]
  },
  {
   "cell_type": "markdown",
   "metadata": {},
   "source": [
    "Here's an example. Let's make a function called add_one that takes in a number and returns that number plus one:"
   ]
  },
  {
   "cell_type": "code",
   "execution_count": 6,
   "metadata": {},
   "outputs": [
    {
     "name": "stdout",
     "output_type": "stream",
     "text": [
      "6\n"
     ]
    }
   ],
   "source": [
    "def sum_one(number):\n",
    "    new_number = number + 1\n",
    "    return new_number\n",
    "\n",
    "print(sum_one(5))"
   ]
  },
  {
   "cell_type": "markdown",
   "metadata": {},
   "source": [
    "In fact, we don't even need to store new_number as a new variable. We can simplify our code to:"
   ]
  },
  {
   "cell_type": "code",
   "execution_count": 11,
   "metadata": {},
   "outputs": [
    {
     "name": "stdout",
     "output_type": "stream",
     "text": [
      "6\n"
     ]
    }
   ],
   "source": [
    "def sum_one(number):\n",
    "    return number + 1\n",
    "\n",
    "print(sum_one(5))"
   ]
  },
  {
   "cell_type": "markdown",
   "metadata": {},
   "source": [
    "We can also take in more than one argument. Suppose we want to take in two numbers and add them. Type:"
   ]
  },
  {
   "cell_type": "code",
   "execution_count": 12,
   "metadata": {},
   "outputs": [
    {
     "name": "stdout",
     "output_type": "stream",
     "text": [
      "12\n"
     ]
    }
   ],
   "source": [
    "def sum_two(number1, number2):\n",
    "    return number1+number2\n",
    "\n",
    "print(sum_two(5,7))"
   ]
  },
  {
   "cell_type": "markdown",
   "metadata": {},
   "source": [
    "We can take in more than one type of variable. For example, suppose we want to take in a number and string and repeat the string that many times. We could type:"
   ]
  },
  {
   "cell_type": "code",
   "execution_count": 13,
   "metadata": {},
   "outputs": [
    {
     "name": "stdout",
     "output_type": "stream",
     "text": [
      "hellohellohellohellohello\n"
     ]
    }
   ],
   "source": [
    "def repeater(number, word):\n",
    "    return number*word\n",
    "\n",
    "print(repeater(5, 'hello'))"
   ]
  },
  {
   "cell_type": "markdown",
   "metadata": {},
   "source": [
    "We can also take in a list of numbers and add them. Type:"
   ]
  },
  {
   "cell_type": "code",
   "execution_count": 1,
   "metadata": {},
   "outputs": [
    {
     "name": "stdout",
     "output_type": "stream",
     "text": [
      "15\n"
     ]
    }
   ],
   "source": [
    "def add(numlist):\n",
    "    mysum = 0\n",
    "    for num in numlist:\n",
    "        mysum = mysum + num\n",
    "    return mysum\n",
    "\n",
    "print(add([1,2,3,4,5]))"
   ]
  },
  {
   "cell_type": "markdown",
   "metadata": {},
   "source": [
    "Remember, though, that there is a built-in sum function in Python that does this already:"
   ]
  },
  {
   "cell_type": "code",
   "execution_count": 4,
   "metadata": {},
   "outputs": [
    {
     "data": {
      "text/plain": [
       "<function sum>"
      ]
     },
     "execution_count": 4,
     "metadata": {},
     "output_type": "execute_result"
    }
   ],
   "source": [
    "sum"
   ]
  },
  {
   "cell_type": "markdown",
   "metadata": {},
   "source": [
    "For our example, it gives us:"
   ]
  },
  {
   "cell_type": "code",
   "execution_count": 2,
   "metadata": {},
   "outputs": [
    {
     "name": "stdout",
     "output_type": "stream",
     "text": [
      "15\n"
     ]
    }
   ],
   "source": [
    "print(sum([1,2,3,4,5]))"
   ]
  },
  {
   "cell_type": "markdown",
   "metadata": {},
   "source": [
    "Let's write a function that announces that two people are getting married:"
   ]
  },
  {
   "cell_type": "code",
   "execution_count": 5,
   "metadata": {},
   "outputs": [
    {
     "name": "stdout",
     "output_type": "stream",
     "text": [
      "Sarah and Dave are getting married. \n",
      "You are invited!\n",
      "Lauren and Paul are getting married. \n",
      "You are invited!\n"
     ]
    }
   ],
   "source": [
    "def wedding(name1, name2):\n",
    "    phrase1 = f'{name1} and {name2} are getting married. \\n'\n",
    "    phrase2 = \"You are invited!\"\n",
    "    return phrase1 + phrase2\n",
    "\n",
    "print(wedding('Sarah', 'Dave'))\n",
    "print(wedding('Lauren', 'Paul'))\n"
   ]
  },
  {
   "cell_type": "markdown",
   "metadata": {},
   "source": [
    "What would happen if we printed the statements instead of including a return line?"
   ]
  },
  {
   "cell_type": "code",
   "execution_count": 6,
   "metadata": {},
   "outputs": [
    {
     "name": "stdout",
     "output_type": "stream",
     "text": [
      "Sarah and Dave are getting married. \n",
      "You are invited!\n",
      "None\n",
      "Lauren and Paul are getting married. \n",
      "You are invited!\n",
      "None\n"
     ]
    }
   ],
   "source": [
    "def wedding(name1, name2):\n",
    "    phrase1 = f'{name1} and {name2} are getting married. \\n'\n",
    "    phrase2 = \"You are invited!\"\n",
    "    print(phrase1 + phrase2)\n",
    "    \n",
    "print(wedding('Sarah', 'Dave'))\n",
    "print(wedding('Lauren', 'Paul'))\n"
   ]
  },
  {
   "cell_type": "markdown",
   "metadata": {},
   "source": [
    "Your statements would still get printed, but \"None\" would also get printed indicated that your function did not return any values. If you don't want to print \"None\", you can get rid of the print statement around the function call:"
   ]
  },
  {
   "cell_type": "code",
   "execution_count": 7,
   "metadata": {},
   "outputs": [
    {
     "name": "stdout",
     "output_type": "stream",
     "text": [
      "Sarah and Dave are getting married. \n",
      "\n",
      "You are invited!\n",
      "Lauren and Paul are getting married. \n",
      "\n",
      "You are invited!\n"
     ]
    }
   ],
   "source": [
    "def wedding(name1, name2):\n",
    "    print(f'{name1} and {name2} are getting married. \\n')\n",
    "    print(\"You are invited!\")\n",
    "\n",
    "wedding('Sarah', 'Dave')\n",
    "wedding('Lauren', 'Paul')"
   ]
  },
  {
   "cell_type": "markdown",
   "metadata": {},
   "source": [
    "### A common error: order\n",
    "You need to create your function before you call it. For example, if you had switched the order of the above program, you would get an error, because you haven't defined the wedding function yet."
   ]
  },
  {
   "cell_type": "code",
   "execution_count": 9,
   "metadata": {},
   "outputs": [
    {
     "ename": "NameError",
     "evalue": "name 'wedding2' is not defined",
     "output_type": "error",
     "traceback": [
      "\u001b[0;31m---------------------------------------------------------------------------\u001b[0m",
      "\u001b[0;31mNameError\u001b[0m                                 Traceback (most recent call last)",
      "\u001b[0;32m<ipython-input-9-cea7c3a0dcd3>\u001b[0m in \u001b[0;36m<module>\u001b[0;34m()\u001b[0m\n\u001b[0;32m----> 1\u001b[0;31m \u001b[0mprint\u001b[0m\u001b[0;34m(\u001b[0m\u001b[0mwedding2\u001b[0m\u001b[0;34m(\u001b[0m\u001b[0;34m'Sarah'\u001b[0m\u001b[0;34m,\u001b[0m \u001b[0;34m'Dave'\u001b[0m\u001b[0;34m)\u001b[0m\u001b[0;34m)\u001b[0m\u001b[0;34m\u001b[0m\u001b[0m\n\u001b[0m\u001b[1;32m      2\u001b[0m \u001b[0mprint\u001b[0m\u001b[0;34m(\u001b[0m\u001b[0mwedding2\u001b[0m\u001b[0;34m(\u001b[0m\u001b[0;34m'Lauren'\u001b[0m\u001b[0;34m,\u001b[0m \u001b[0;34m'Paul'\u001b[0m\u001b[0;34m)\u001b[0m\u001b[0;34m)\u001b[0m\u001b[0;34m\u001b[0m\u001b[0m\n\u001b[1;32m      3\u001b[0m \u001b[0;34m\u001b[0m\u001b[0m\n\u001b[1;32m      4\u001b[0m \u001b[0;34m\u001b[0m\u001b[0m\n\u001b[1;32m      5\u001b[0m \u001b[0;32mdef\u001b[0m \u001b[0mwedding2\u001b[0m\u001b[0;34m(\u001b[0m\u001b[0mname1\u001b[0m\u001b[0;34m,\u001b[0m \u001b[0mname2\u001b[0m\u001b[0;34m)\u001b[0m\u001b[0;34m:\u001b[0m\u001b[0;34m\u001b[0m\u001b[0m\n",
      "\u001b[0;31mNameError\u001b[0m: name 'wedding2' is not defined"
     ]
    }
   ],
   "source": [
    "print(wedding2('Sarah', 'Dave'))\n",
    "print(wedding2('Lauren', 'Paul'))\n",
    "\n",
    "\n",
    "def wedding2(name1, name2):\n",
    "    print(f\"{name1} and {name2} are getting married.\")\n",
    "    print(\"You are invited!\")"
   ]
  },
  {
   "cell_type": "markdown",
   "metadata": {},
   "source": [
    "### A common error: TypeError\n",
    "If you don't put in the correct number of arguments, you will get an argument error. For example, the wedding function takes in two arguments. What if I only call it with one?"
   ]
  },
  {
   "cell_type": "code",
   "execution_count": 10,
   "metadata": {},
   "outputs": [
    {
     "ename": "TypeError",
     "evalue": "wedding() missing 1 required positional argument: 'name2'",
     "output_type": "error",
     "traceback": [
      "\u001b[0;31m---------------------------------------------------------------------------\u001b[0m",
      "\u001b[0;31mTypeError\u001b[0m                                 Traceback (most recent call last)",
      "\u001b[0;32m<ipython-input-10-93952cdb5e11>\u001b[0m in \u001b[0;36m<module>\u001b[0;34m()\u001b[0m\n\u001b[1;32m      3\u001b[0m     \u001b[0mprint\u001b[0m\u001b[0;34m(\u001b[0m\u001b[0;34m\"You are invited!\"\u001b[0m\u001b[0;34m)\u001b[0m\u001b[0;34m\u001b[0m\u001b[0m\n\u001b[1;32m      4\u001b[0m \u001b[0;34m\u001b[0m\u001b[0m\n\u001b[0;32m----> 5\u001b[0;31m \u001b[0mprint\u001b[0m\u001b[0;34m(\u001b[0m\u001b[0mwedding\u001b[0m\u001b[0;34m(\u001b[0m\u001b[0;34m'Sarah'\u001b[0m\u001b[0;34m)\u001b[0m\u001b[0;34m)\u001b[0m\u001b[0;34m\u001b[0m\u001b[0m\n\u001b[0m",
      "\u001b[0;31mTypeError\u001b[0m: wedding() missing 1 required positional argument: 'name2'"
     ]
    }
   ],
   "source": [
    "def wedding(name1, name2):\n",
    "    print(f\"{name1} and {name2} are getting married.\")\n",
    "    print(\"You are invited!\")\n",
    "\n",
    "print(wedding('Sarah'))\n"
   ]
  },
  {
   "cell_type": "markdown",
   "metadata": {},
   "source": [
    "You will also get this error if you input the wrong type of argument. For example, we'll get an error below if we give the add_5 function a string instead of a number:"
   ]
  },
  {
   "cell_type": "code",
   "execution_count": 35,
   "metadata": {},
   "outputs": [
    {
     "ename": "TypeError",
     "evalue": "must be str, not int",
     "output_type": "error",
     "traceback": [
      "\u001b[0;31m---------------------------------------------------------------------------\u001b[0m",
      "\u001b[0;31mTypeError\u001b[0m                                 Traceback (most recent call last)",
      "\u001b[0;32m<ipython-input-35-da05861669a0>\u001b[0m in \u001b[0;36m<module>\u001b[0;34m()\u001b[0m\n\u001b[1;32m      2\u001b[0m     \u001b[0;32mreturn\u001b[0m \u001b[0mnumber\u001b[0m \u001b[0;34m+\u001b[0m \u001b[0;36m5\u001b[0m\u001b[0;34m\u001b[0m\u001b[0m\n\u001b[1;32m      3\u001b[0m \u001b[0;34m\u001b[0m\u001b[0m\n\u001b[0;32m----> 4\u001b[0;31m \u001b[0mprint\u001b[0m\u001b[0;34m(\u001b[0m\u001b[0madd_5\u001b[0m\u001b[0;34m(\u001b[0m\u001b[0;34m'hello'\u001b[0m\u001b[0;34m)\u001b[0m\u001b[0;34m)\u001b[0m\u001b[0;34m\u001b[0m\u001b[0m\n\u001b[0m",
      "\u001b[0;32m<ipython-input-35-da05861669a0>\u001b[0m in \u001b[0;36madd_5\u001b[0;34m(number)\u001b[0m\n\u001b[1;32m      1\u001b[0m \u001b[0;32mdef\u001b[0m \u001b[0madd_5\u001b[0m\u001b[0;34m(\u001b[0m\u001b[0mnumber\u001b[0m\u001b[0;34m)\u001b[0m\u001b[0;34m:\u001b[0m\u001b[0;34m\u001b[0m\u001b[0m\n\u001b[0;32m----> 2\u001b[0;31m     \u001b[0;32mreturn\u001b[0m \u001b[0mnumber\u001b[0m \u001b[0;34m+\u001b[0m \u001b[0;36m5\u001b[0m\u001b[0;34m\u001b[0m\u001b[0m\n\u001b[0m\u001b[1;32m      3\u001b[0m \u001b[0;34m\u001b[0m\u001b[0m\n\u001b[1;32m      4\u001b[0m \u001b[0mprint\u001b[0m\u001b[0;34m(\u001b[0m\u001b[0madd_5\u001b[0m\u001b[0;34m(\u001b[0m\u001b[0;34m'hello'\u001b[0m\u001b[0;34m)\u001b[0m\u001b[0;34m)\u001b[0m\u001b[0;34m\u001b[0m\u001b[0m\n",
      "\u001b[0;31mTypeError\u001b[0m: must be str, not int"
     ]
    }
   ],
   "source": [
    "def add_5(number):\n",
    "    return number + 5\n",
    "\n",
    "print(add_5('hello'))"
   ]
  },
  {
   "cell_type": "markdown",
   "metadata": {},
   "source": [
    "### Returning different values\n",
    "You may want to return different things based on the function input. Consider the following example:"
   ]
  },
  {
   "cell_type": "code",
   "execution_count": 31,
   "metadata": {},
   "outputs": [
    {
     "name": "stdout",
     "output_type": "stream",
     "text": [
      "odd\n"
     ]
    }
   ],
   "source": [
    "def even_or_odd(number):\n",
    "    if number % 2 == 0:\n",
    "        return 'even'\n",
    "    else: \n",
    "        return 'odd'\n",
    "\n",
    "print(even_or_odd(17))"
   ]
  },
  {
   "cell_type": "markdown",
   "metadata": {},
   "source": [
    "We can also return booleans:"
   ]
  },
  {
   "cell_type": "code",
   "execution_count": 32,
   "metadata": {},
   "outputs": [
    {
     "name": "stdout",
     "output_type": "stream",
     "text": [
      "False\n"
     ]
    }
   ],
   "source": [
    "def is_even(number):\n",
    "    if number % 2 == 0:\n",
    "        return True\n",
    "    else:\n",
    "        return False\n",
    "\n",
    "print(is_even(17))"
   ]
  },
  {
   "cell_type": "markdown",
   "metadata": {},
   "source": [
    "### Exercise - Greeting\n",
    "Write a function called greeting that takes in a users' first and last name separately and returns a nicely formatted greeting, \"Hello, full_name!\"."
   ]
  },
  {
   "cell_type": "code",
   "execution_count": null,
   "metadata": {
    "collapsed": true
   },
   "outputs": [],
   "source": [
    "#insert greeting code"
   ]
  },
  {
   "cell_type": "markdown",
   "metadata": {},
   "source": [
    "### Exercise - students\n",
    "Write a function called classroll that takes in a list of students and returns the list in alphabetical order with the first letter of each student's name capitalized."
   ]
  },
  {
   "cell_type": "code",
   "execution_count": 30,
   "metadata": {
    "collapsed": true
   },
   "outputs": [],
   "source": [
    "#insert students code"
   ]
  },
  {
   "cell_type": "markdown",
   "metadata": {},
   "source": [
    "### Exercise - temperature\n",
    "Write a program that takes in the temperature in Celsius and converts it to degrees Fahrenheit, given by F = (9/5) C + 32. "
   ]
  },
  {
   "cell_type": "code",
   "execution_count": 2,
   "metadata": {
    "collapsed": true
   },
   "outputs": [],
   "source": [
    "#insert temperature code"
   ]
  },
  {
   "cell_type": "markdown",
   "metadata": {},
   "source": [
    "### Exercise - multiple of 5\n",
    "Write a function called mult_of_five that returns True if the number is a multiple of 5 and false otherwise."
   ]
  },
  {
   "cell_type": "code",
   "execution_count": null,
   "metadata": {
    "collapsed": true
   },
   "outputs": [],
   "source": [
    "#insert multiple of 5 code"
   ]
  },
  {
   "cell_type": "markdown",
   "metadata": {},
   "source": [
    "### Exercise - product\n",
    "Write a function that takes in a list of numbers and returns their product"
   ]
  },
  {
   "cell_type": "code",
   "execution_count": null,
   "metadata": {
    "collapsed": true
   },
   "outputs": [],
   "source": [
    "#insert product code"
   ]
  },
  {
   "cell_type": "markdown",
   "metadata": {},
   "source": [
    "### Exercise - factorial\n",
    "Write a function that takes in a number, n, and returns its factorial. For example, 5 would return 5*4*3*2*1 = 120."
   ]
  },
  {
   "cell_type": "code",
   "execution_count": 36,
   "metadata": {
    "collapsed": true
   },
   "outputs": [],
   "source": [
    "#insert factorial"
   ]
  },
  {
   "cell_type": "markdown",
   "metadata": {},
   "source": [
    "### Exercise - counts\n",
    "Write a function that takes in a list of words and returns a different list of counts of the words in increasing order. For example, if the list is [hello, hello, goodbye, hello, goodbye, adios, hola], then the function would return [1,1,2,3] in increasing order."
   ]
  },
  {
   "cell_type": "code",
   "execution_count": 33,
   "metadata": {
    "collapsed": true
   },
   "outputs": [],
   "source": [
    "#insert counts"
   ]
  },
  {
   "cell_type": "markdown",
   "metadata": {},
   "source": [
    "### Exercise - minimum\n",
    "Write a function called mymin that finds the minimum number in a list. DO NOT use the built in function min or sort. Instead, write the algorithm yourself."
   ]
  },
  {
   "cell_type": "code",
   "execution_count": 37,
   "metadata": {
    "collapsed": true
   },
   "outputs": [],
   "source": [
    "#insert minimum code"
   ]
  },
  {
   "cell_type": "markdown",
   "metadata": {},
   "source": [
    "## Docstrings\n",
    "\n",
    "A docstring is a string literal that occurs as the first statement in a module, function, class, or method definition. It should explain what the function does. Be sure to mention what the input arguments are and what the function returns. We use three single quotation marks to denote a docstring. \n",
    "\n",
    "Here is an example:\n"
   ]
  },
  {
   "cell_type": "code",
   "execution_count": 2,
   "metadata": {
    "collapsed": true
   },
   "outputs": [],
   "source": [
    "def repeater(word, number):\n",
    "    '''Takes in a string and a number and returns that string repeated that many times.'''\n",
    "    return word*number"
   ]
  },
  {
   "cell_type": "markdown",
   "metadata": {},
   "source": [
    "Now type Shift-Tab inside the cell below to get this docstring info:"
   ]
  },
  {
   "cell_type": "code",
   "execution_count": null,
   "metadata": {},
   "outputs": [],
   "source": [
    "repeater"
   ]
  },
  {
   "cell_type": "markdown",
   "metadata": {},
   "source": [
    "All of the built-in Python functions have docstrings that you can use Shift-Tab on. For example, type Shift-Tab in the cell below."
   ]
  },
  {
   "cell_type": "code",
   "execution_count": null,
   "metadata": {
    "collapsed": true
   },
   "outputs": [],
   "source": [
    "sorted"
   ]
  },
  {
   "cell_type": "markdown",
   "metadata": {},
   "source": [
    "### Exercise - docstrings: \n",
    "Insert docstrings into all of the previous exercises."
   ]
  },
  {
   "cell_type": "code",
   "execution_count": null,
   "metadata": {
    "collapsed": true
   },
   "outputs": [],
   "source": [
    "#write done here when you are done"
   ]
  },
  {
   "cell_type": "markdown",
   "metadata": {},
   "source": [
    "Default Arguments\n",
    "---\n",
    "<a class=\"anchor\" id=\"default\"></a>\n",
    "\n"
   ]
  },
  {
   "cell_type": "markdown",
   "metadata": {},
   "source": [
    "Recall our wedding example that required two inputs. What if we forgot to include them?"
   ]
  },
  {
   "cell_type": "code",
   "execution_count": 12,
   "metadata": {},
   "outputs": [
    {
     "ename": "TypeError",
     "evalue": "wedding() missing 2 required positional arguments: 'name1' and 'name2'",
     "output_type": "error",
     "traceback": [
      "\u001b[0;31m---------------------------------------------------------------------------\u001b[0m",
      "\u001b[0;31mTypeError\u001b[0m                                 Traceback (most recent call last)",
      "\u001b[0;32m<ipython-input-12-d4875edf10a7>\u001b[0m in \u001b[0;36m<module>\u001b[0;34m()\u001b[0m\n\u001b[1;32m      4\u001b[0m     \u001b[0;32mreturn\u001b[0m \u001b[0mphrase1\u001b[0m\u001b[0;34m+\u001b[0m\u001b[0mphrase2\u001b[0m\u001b[0;34m\u001b[0m\u001b[0m\n\u001b[1;32m      5\u001b[0m \u001b[0;34m\u001b[0m\u001b[0m\n\u001b[0;32m----> 6\u001b[0;31m \u001b[0mprint\u001b[0m\u001b[0;34m(\u001b[0m\u001b[0mwedding\u001b[0m\u001b[0;34m(\u001b[0m\u001b[0;34m)\u001b[0m\u001b[0;34m)\u001b[0m\u001b[0;34m\u001b[0m\u001b[0m\n\u001b[0m",
      "\u001b[0;31mTypeError\u001b[0m: wedding() missing 2 required positional arguments: 'name1' and 'name2'"
     ]
    }
   ],
   "source": [
    "def wedding(name1, name2):\n",
    "    phrase1 = f\"{name1} and {name2} are getting married.\"\n",
    "    phrase2 = \"\\nYou are invited!\"\n",
    "    return phrase1+phrase2\n",
    "\n",
    "print(wedding())"
   ]
  },
  {
   "cell_type": "markdown",
   "metadata": {},
   "source": [
    "We can avoid errors by specifying default argument values. We'll do this as follows:"
   ]
  },
  {
   "cell_type": "code",
   "execution_count": 14,
   "metadata": {},
   "outputs": [
    {
     "name": "stdout",
     "output_type": "stream",
     "text": [
      "Mr. and Mrs. are getting married.\n",
      "You are invited!\n"
     ]
    }
   ],
   "source": [
    "def wedding(name1 = 'Mr.', name2 = \"Mrs.\"):\n",
    "    phrase1 = f\"{name1} and {name2} are getting married.\"\n",
    "    phrase2 = \"\\nYou are invited!\"\n",
    "    return phrase1+phrase2\n",
    "\n",
    "print(wedding())"
   ]
  },
  {
   "cell_type": "markdown",
   "metadata": {},
   "source": [
    "As another example, for our repeated code, we can specify a default word and number:"
   ]
  },
  {
   "cell_type": "code",
   "execution_count": 42,
   "metadata": {},
   "outputs": [
    {
     "name": "stdout",
     "output_type": "stream",
     "text": [
      "repeatrepeatrepeatrepeatrepeat\n"
     ]
    }
   ],
   "source": [
    "def repeater(number = 5, word = 'repeat'):\n",
    "    return number*word\n",
    "\n",
    "print(repeater())"
   ]
  },
  {
   "cell_type": "markdown",
   "metadata": {},
   "source": [
    "However, we can override the default values by actually typing in values when we call the function:"
   ]
  },
  {
   "cell_type": "code",
   "execution_count": 2,
   "metadata": {},
   "outputs": [
    {
     "name": "stdout",
     "output_type": "stream",
     "text": [
      "hellohellohello\n"
     ]
    }
   ],
   "source": [
    "def repeater(number = 5, word = 'repeat'):\n",
    "    return number*word\n",
    "\n",
    "print(repeater(3, 'hello'))"
   ]
  },
  {
   "cell_type": "markdown",
   "metadata": {},
   "source": [
    "### Exercise - Temperature Again\n",
    "Rewrite your temperature exercise to return the temperature in Fahrenheit of 0 degrees Celsius if no temperature is specified."
   ]
  },
  {
   "cell_type": "code",
   "execution_count": null,
   "metadata": {
    "collapsed": true
   },
   "outputs": [],
   "source": [
    "#insert temperature again"
   ]
  },
  {
   "cell_type": "markdown",
   "metadata": {},
   "source": [
    "### Exercise - Factorial Again\n",
    "Rewrite your factorial exercise to return the factorial of 5 if no number is specified."
   ]
  },
  {
   "cell_type": "code",
   "execution_count": null,
   "metadata": {
    "collapsed": true
   },
   "outputs": [],
   "source": [
    "#insert factorial again"
   ]
  },
  {
   "cell_type": "markdown",
   "metadata": {},
   "source": [
    "### Positional Arguments\n",
    "We'll run into errors if we specify the arguments in the wrong order:\n"
   ]
  },
  {
   "cell_type": "code",
   "execution_count": 18,
   "metadata": {},
   "outputs": [
    {
     "ename": "AttributeError",
     "evalue": "'int' object has no attribute 'title'",
     "output_type": "error",
     "traceback": [
      "\u001b[0;31m---------------------------------------------------------------------------\u001b[0m",
      "\u001b[0;31mAttributeError\u001b[0m                            Traceback (most recent call last)",
      "\u001b[0;32m<ipython-input-18-0ed59c46ccad>\u001b[0m in \u001b[0;36m<module>\u001b[0;34m()\u001b[0m\n\u001b[1;32m      6\u001b[0m     \u001b[0mprint\u001b[0m\u001b[0;34m(\u001b[0m\u001b[0;34mf\"Age: {age}\\n\"\u001b[0m\u001b[0;34m)\u001b[0m\u001b[0;34m\u001b[0m\u001b[0m\n\u001b[1;32m      7\u001b[0m \u001b[0;34m\u001b[0m\u001b[0m\n\u001b[0;32m----> 8\u001b[0;31m \u001b[0mdescribe_person\u001b[0m\u001b[0;34m(\u001b[0m\u001b[0;36m71\u001b[0m\u001b[0;34m,\u001b[0m \u001b[0;34m'brian'\u001b[0m\u001b[0;34m,\u001b[0m \u001b[0;34m'kernighan'\u001b[0m\u001b[0;34m)\u001b[0m\u001b[0;34m\u001b[0m\u001b[0m\n\u001b[0m",
      "\u001b[0;32m<ipython-input-18-0ed59c46ccad>\u001b[0m in \u001b[0;36mdescribe_person\u001b[0;34m(first_name, last_name, age)\u001b[0m\n\u001b[1;32m      2\u001b[0m     \u001b[0;31m# This function takes in a person's first and last name, and their age.\u001b[0m\u001b[0;34m\u001b[0m\u001b[0;34m\u001b[0m\u001b[0m\n\u001b[1;32m      3\u001b[0m     \u001b[0;31m# It then prints this information out in a simple format.\u001b[0m\u001b[0;34m\u001b[0m\u001b[0;34m\u001b[0m\u001b[0m\n\u001b[0;32m----> 4\u001b[0;31m     \u001b[0mprint\u001b[0m\u001b[0;34m(\u001b[0m\u001b[0;34mf\"First name: {first_name.title()}\"\u001b[0m\u001b[0;34m)\u001b[0m\u001b[0;34m\u001b[0m\u001b[0m\n\u001b[0m\u001b[1;32m      5\u001b[0m     \u001b[0mprint\u001b[0m\u001b[0;34m(\u001b[0m\u001b[0;34mf\"Last name: {last_name.title()}\"\u001b[0m\u001b[0;34m)\u001b[0m\u001b[0;34m\u001b[0m\u001b[0m\n\u001b[1;32m      6\u001b[0m     \u001b[0mprint\u001b[0m\u001b[0;34m(\u001b[0m\u001b[0;34mf\"Age: {age}\\n\"\u001b[0m\u001b[0;34m)\u001b[0m\u001b[0;34m\u001b[0m\u001b[0m\n",
      "\u001b[0;31mAttributeError\u001b[0m: 'int' object has no attribute 'title'"
     ]
    }
   ],
   "source": [
    "def describe_person(first_name, last_name, age):\n",
    "    # This function takes in a person's first and last name, and their age.\n",
    "    # It then prints this information out in a simple format.\n",
    "    print(f\"First name: {first_name.title()}\")\n",
    "    print(f\"Last name: {last_name.title()}\")\n",
    "    print(f\"Age: {age}\\n\")\n",
    "\n",
    "describe_person(71, 'brian', 'kernighan')\n"
   ]
  },
  {
   "cell_type": "markdown",
   "metadata": {},
   "source": [
    "### Keyword arguments\n",
    "However, if we use keyword arguments when we call the function, then we can specify the order of the arguments in any order we choose. We can do this by referring to the argument names when we call the function:"
   ]
  },
  {
   "cell_type": "code",
   "execution_count": 20,
   "metadata": {},
   "outputs": [
    {
     "name": "stdout",
     "output_type": "stream",
     "text": [
      "First name: Brian\n",
      "Last name: Kernighan\n",
      "Age: 71\n",
      "\n",
      "First name: Brian\n",
      "Last name: Kernighan\n",
      "Age: 71\n",
      "\n"
     ]
    }
   ],
   "source": [
    "def describe_person(first_name, last_name, age):\n",
    "    # This function takes in a person's first and last name,and their age.\n",
    "    # It then prints this information out in a simple format.\n",
    "    print(f\"First name: {first_name.title()}\")\n",
    "    print(f\"Last name: {last_name.title()}\")\n",
    "    print(f\"Age: {age}\\n\")\n",
    "\n",
    "describe_person(age=71, first_name='brian', last_name='kernighan')\n",
    "describe_person(first_name='brian', age=71, last_name='kernighan')"
   ]
  },
  {
   "cell_type": "markdown",
   "metadata": {},
   "source": [
    "### Mixing positional and keyword arguments\n",
    "\n",
    "It can make good sense sometimes to mix positional and keyword arguments. In our previous example, we can expect this function to always take in a first name and a last name. Before we start mixing positional and keyword arguments, let's add another piece of information to our description of a person. Let's also go back to using just positional arguments for a moment:"
   ]
  },
  {
   "cell_type": "code",
   "execution_count": 21,
   "metadata": {},
   "outputs": [
    {
     "name": "stdout",
     "output_type": "stream",
     "text": [
      "First name: Brian\n",
      "Last name: Kernighan\n",
      "Age: 71\n",
      "\n",
      "Favorite language: C\n",
      "\n",
      "First name: Ken\n",
      "Last name: Thompson\n",
      "Age: 70\n",
      "\n",
      "Favorite language: Go\n",
      "\n",
      "First name: Adele\n",
      "Last name: Goldberg\n",
      "Age: 68\n",
      "\n",
      "Favorite language: Smalltalk\n",
      "\n"
     ]
    }
   ],
   "source": [
    "def describe_person(first_name, last_name, age, favorite_language):\n",
    "    # This function takes in a person's first and last name,\n",
    "    #  their age, and their favorite language.\n",
    "    # It then prints this information out in a simple format.\n",
    "    print(f\"First name: {first_name.title()}\")\n",
    "    print(f\"Last name: {last_name.title()}\")\n",
    "    print(f\"Age: {age}\\n\")\n",
    "    print(f\"Favorite language: {favorite_language}\\n\")\n",
    "\n",
    "describe_person('brian', 'kernighan', 71, 'C')\n",
    "describe_person('ken', 'thompson', 70, 'Go')\n",
    "describe_person('adele', 'goldberg', 68, 'Smalltalk')"
   ]
  },
  {
   "cell_type": "markdown",
   "metadata": {},
   "source": [
    "We can expect anyone who uses this function to supply a first name and a last name, in that order. But now we are starting to include some information that might not apply to everyone. We can address this by keeping positional arguments for the first name and last name, but expect keyword arguments for everything else. We can show this works by adding a few more people, and having different information about each person:"
   ]
  },
  {
   "cell_type": "code",
   "execution_count": 23,
   "metadata": {},
   "outputs": [
    {
     "name": "stdout",
     "output_type": "stream",
     "text": [
      "First name: Brian\n",
      "Last name: Kernighan\n",
      "Favorite language: C\n",
      "\n",
      "\n",
      "First name: Ken\n",
      "Last name: Thompson\n",
      "Age: 70\n",
      "\n",
      "\n",
      "\n",
      "First name: Adele\n",
      "Last name: Goldberg\n",
      "Age: 68\n",
      "\n",
      "Favorite language: Smalltalk\n",
      "\n",
      "\n",
      "First name: Dennis\n",
      "Last name: Ritchie\n",
      "Favorite language: C\n",
      "Died: 2011\n",
      "\n",
      "\n",
      "First name: Guido\n",
      "Last name: Van Rossum\n",
      "Favorite language: Python\n",
      "\n",
      "\n"
     ]
    }
   ],
   "source": [
    "def describe_person(first_name, last_name, age=None, favorite_language=None, died=None):\n",
    "    # This function takes in a person's first and last name,\n",
    "    #  their age, and their favorite language.\n",
    "    # It then prints this information out in a simple format.\n",
    "    \n",
    "    # Required information:\n",
    "    print(f\"First name: {first_name.title()}\")\n",
    "    print(f\"Last name: {last_name.title()}\")\n",
    "    \n",
    "    # Optional information:\n",
    "    if age:\n",
    "        print(f\"Age: {age}\\n\")\n",
    "    if favorite_language:\n",
    "        print(f\"Favorite language: {favorite_language}\")\n",
    "    if died:\n",
    "        print(f\"Died: {died}\")\n",
    "    \n",
    "    # Blank line at end.\n",
    "    print(\"\\n\")\n",
    "\n",
    "describe_person('brian', 'kernighan', favorite_language='C')\n",
    "describe_person('ken', 'thompson', age=70)\n",
    "describe_person('adele', 'goldberg', age=68, favorite_language='Smalltalk')\n",
    "describe_person('dennis', 'ritchie', favorite_language='C', died=2011)\n",
    "describe_person('guido', 'van rossum', favorite_language='Python')"
   ]
  },
  {
   "cell_type": "markdown",
   "metadata": {},
   "source": [
    "Everyone needs a first and last name, but everthing else is optional. This code takes advantage of the Python keyword `None`, which acts as an empty value for a variable. This way, the user is free to supply any of the 'extra' values they care to. Any arguments that don't receive a value are not displayed. Python matches these extra values by name, rather than by position. This is a very common and useful way to define functions."
   ]
  },
  {
   "cell_type": "markdown",
   "metadata": {},
   "source": [
    "### Exercise -  Sports Teams\n",
    "Write a function that takes in two arguments, the name of a city and the name of a sports team from that city. It prints out a statement that says something like \"The Eagles are from Philadelphia\", for example. Call your function several times, by typing in the city and sport in the correct order."
   ]
  },
  {
   "cell_type": "code",
   "execution_count": 52,
   "metadata": {
    "collapsed": true
   },
   "outputs": [],
   "source": [
    "#insert sports team code"
   ]
  },
  {
   "cell_type": "markdown",
   "metadata": {},
   "source": [
    "### Exercise -  Sports Teams #2\n",
    "Call your sports team function by using keyword arguments."
   ]
  },
  {
   "cell_type": "code",
   "execution_count": 3,
   "metadata": {
    "collapsed": true
   },
   "outputs": [],
   "source": [
    "# insert Sports Teams again"
   ]
  },
  {
   "cell_type": "markdown",
   "metadata": {},
   "source": [
    "### Exercise -  Sports Teams #3\n",
    "Add keyword arguments for team color and mascot. The program should print additional lines such as \"The team color is blue\" if the user includes those when it calls the function. Otherwise, it should just print out the city and team."
   ]
  },
  {
   "cell_type": "code",
   "execution_count": 4,
   "metadata": {
    "collapsed": true
   },
   "outputs": [],
   "source": [
    "#insert sports team #3"
   ]
  },
  {
   "cell_type": "markdown",
   "metadata": {},
   "source": [
    "### Exercise - favorite number and word\n",
    "- Write a function that takes in two arguments, a word and a number. Print the word repeated that many times.\n",
    "- Call your function three times, using a mix of positional and keyword arguments."
   ]
  },
  {
   "cell_type": "code",
   "execution_count": null,
   "metadata": {
    "collapsed": true
   },
   "outputs": [],
   "source": [
    "#insert favorite number and word code"
   ]
  },
  {
   "cell_type": "markdown",
   "metadata": {},
   "source": [
    "### Exercise - student info\n",
    "Write a function that takes in a student's first name and age. It can also take in the student's favorite sport and favorite class if the student specifies.\n",
    "\n",
    "Example 1:\n",
    "\n",
    "George is 17.\n",
    "\n",
    "Example 2: \n",
    "\n",
    "Anne is 17.\n",
    "\n",
    "Favorite sport: soccer\n",
    "\n",
    "Favorite class: math\n"
   ]
  },
  {
   "cell_type": "code",
   "execution_count": null,
   "metadata": {
    "collapsed": true
   },
   "outputs": [],
   "source": [
    "#insert student info"
   ]
  },
  {
   "cell_type": "markdown",
   "metadata": {},
   "source": [
    "Accepting an arbitrary number of arguments\n",
    "---\n",
    "<a class=\"anchor\" id=\"arbitrary\"></a>"
   ]
  },
  {
   "cell_type": "markdown",
   "metadata": {},
   "source": [
    "Python gives us a syntax for letting a function accept an arbitrary number of arguments. If we place an argument at the end of the list of arguments, with an asterisk in front of it, that argument will collect any remaining values from the calling statement into a tuple. Here is an example demonstrating how this works:"
   ]
  },
  {
   "cell_type": "code",
   "execution_count": 36,
   "metadata": {},
   "outputs": [
    {
     "name": "stdout",
     "output_type": "stream",
     "text": [
      "\n",
      "arg_1: 1\n",
      "arg_2: 2\n",
      "arg_3: ()\n",
      "\n",
      "arg_1: 1\n",
      "arg_2: 2\n",
      "arg_3: (3,)\n",
      "\n",
      "arg_1: 1\n",
      "arg_2: 2\n",
      "arg_3: (3, 4)\n",
      "\n",
      "arg_1: 1\n",
      "arg_2: 2\n",
      "arg_3: (3, 4, 5)\n"
     ]
    }
   ],
   "source": [
    "def example_function(arg_1, arg_2, *arg_3):\n",
    "    # Let's look at the argument values.\n",
    "    print('\\narg_1:', arg_1)\n",
    "    print('arg_2:', arg_2)\n",
    "    print('arg_3:', arg_3)\n",
    "    \n",
    "example_function(1, 2)\n",
    "example_function(1, 2, 3)\n",
    "example_function(1, 2, 3, 4)\n",
    "example_function(1, 2, 3, 4, 5)"
   ]
  },
  {
   "cell_type": "markdown",
   "metadata": {},
   "source": [
    "You can use a loop to process these other arguments:\n"
   ]
  },
  {
   "cell_type": "code",
   "execution_count": 56,
   "metadata": {},
   "outputs": [
    {
     "name": "stdout",
     "output_type": "stream",
     "text": [
      "\n",
      "arg_1: 1\n",
      "arg_2: 2\n",
      "\n",
      "arg_1: 1\n",
      "arg_2: 2\n",
      "arg_3 value: 3\n",
      "\n",
      "arg_1: 1\n",
      "arg_2: 2\n",
      "arg_3 value: 3\n",
      "arg_3 value: 4\n",
      "\n",
      "arg_1: 1\n",
      "arg_2: 2\n",
      "arg_3 value: 3\n",
      "arg_3 value: 4\n",
      "arg_3 value: 5\n"
     ]
    }
   ],
   "source": [
    "def example_function(arg_1, arg_2, *arg_3):\n",
    "    # Let's look at the argument values.\n",
    "    print('\\narg_1:', arg_1)\n",
    "    print('arg_2:', arg_2)\n",
    "    for value in arg_3:\n",
    "        print('arg_3 value:', value)\n",
    "\n",
    "example_function(1, 2)\n",
    "example_function(1, 2, 3)\n",
    "example_function(1, 2, 3, 4)\n",
    "example_function(1, 2, 3, 4, 5)"
   ]
  },
  {
   "cell_type": "markdown",
   "metadata": {},
   "source": [
    "You can add two or more numbers using the following code:"
   ]
  },
  {
   "cell_type": "code",
   "execution_count": 24,
   "metadata": {},
   "outputs": [
    {
     "name": "stdout",
     "output_type": "stream",
     "text": [
      "The sum of your numbers is 3.\n",
      "The sum of your numbers is 6.\n",
      "The sum of your numbers is 16.\n"
     ]
    }
   ],
   "source": [
    "def adder(num_1, num_2, *nums):\n",
    "    # This function adds the given numbers together,\n",
    "    #  and prints the sum.\n",
    "    \n",
    "    # Start by adding the first two numbers, which\n",
    "    #  will always be present.\n",
    "    mysum = num_1 + num_2\n",
    "    \n",
    "    # Then add any other numbers that were sent.\n",
    "    for num in nums:\n",
    "        mysum = mysum + num\n",
    "        \n",
    "    # Print the results.\n",
    "    print(f\"The sum of your numbers is {mysum}.\")\n",
    "    \n",
    "# Let's add some numbers.\n",
    "adder(1,2)\n",
    "adder(1, 2, 3)\n",
    "adder(1,2,3,10)"
   ]
  },
  {
   "cell_type": "markdown",
   "metadata": {},
   "source": [
    "### Exercise - product\n",
    "Write a function that finds the product of three or more numbers.\n"
   ]
  },
  {
   "cell_type": "code",
   "execution_count": 58,
   "metadata": {
    "collapsed": true
   },
   "outputs": [],
   "source": [
    "#insert produce code here"
   ]
  },
  {
   "cell_type": "markdown",
   "metadata": {},
   "source": [
    "### Exercise - wedding\n",
    "Write a function that takes in two or more names. For the first two names, print \"Name1 and Name2 are getting married.\" If there are addition arguments, print out their names as guest names. For example:\n",
    "\n",
    "Lauren and Paul are getting married.\n",
    "\n",
    "John is a guest.\n",
    "\n",
    "Jack is a guest."
   ]
  },
  {
   "cell_type": "code",
   "execution_count": 59,
   "metadata": {
    "collapsed": true
   },
   "outputs": [],
   "source": [
    "#insert wedding code"
   ]
  },
  {
   "cell_type": "markdown",
   "metadata": {},
   "source": [
    "if __name__ == \"__main__\": main()\n",
    "---\n",
    "<a class=\"anchor\" id=\"main\"></a>\n",
    "\n",
    "As we start building more complicated programs, we will have many different functions in use. We can define a main function that executes the nested functions in the order we need. At the end of the program, we'll have a line that says __name__ == \"__main__\": main() that executes the program. Suppose we want to add two numbers together and then double them. We can type:"
   ]
  },
  {
   "cell_type": "code",
   "execution_count": 29,
   "metadata": {},
   "outputs": [
    {
     "name": "stdout",
     "output_type": "stream",
     "text": [
      "2(3+5)=16\n"
     ]
    }
   ],
   "source": [
    "def sum_two(x,y):\n",
    "    return x+y\n",
    "\n",
    "def double(number):\n",
    "    return 2*number\n",
    "\n",
    "def main():\n",
    "    x = 3\n",
    "    y = 5\n",
    "    \n",
    "    summed = sum_two(x,y)\n",
    "    twice = double(summed)\n",
    "    \n",
    "    print(f'2({x}+{y})={twice}')\n",
    "\n",
    "if __name__ == \"__main__\":\n",
    "    main()"
   ]
  },
  {
   "cell_type": "markdown",
   "metadata": {},
   "source": [
    "Analyze the code above. The function main doesn't need to have any arguments. What are the double underscores on name and main doing? We'll learn about those later. They are special method names used by Python."
   ]
  },
  {
   "cell_type": "markdown",
   "metadata": {},
   "source": [
    "As another example, let's write two functions. One that alphabetizes are class roster and one that writes the first letter in uppercase:"
   ]
  },
  {
   "cell_type": "code",
   "execution_count": 44,
   "metadata": {},
   "outputs": [
    {
     "name": "stdout",
     "output_type": "stream",
     "text": [
      "['Abby', 'Bobby', 'Jack', 'Megan']\n"
     ]
    }
   ],
   "source": [
    "def name_sorter(namelist):\n",
    "    return sorted(namelist)\n",
    "\n",
    "def capitalizer(namelist):\n",
    "    for i in range(len(namelist)):\n",
    "        namelist[i] = namelist[i].title()\n",
    "    return namelist\n",
    "\n",
    "def main():\n",
    "    namelist = ['jack', 'abby', 'megan', 'bobby']\n",
    "    namelist = name_sorter(namelist)\n",
    "    print(capitalizer(namelist))\n",
    "    \n",
    "\n",
    "if __name__ == \"__main__\":\n",
    "    main()"
   ]
  },
  {
   "cell_type": "markdown",
   "metadata": {},
   "source": [
    "### Exercise - subtract one and triple\n",
    "Write two functions, subtract_one that subtracts one from a number and triple that multiplies a number by three. In your main program, ask the user for a number and then execute the subtraction and multiplication codes. "
   ]
  },
  {
   "cell_type": "code",
   "execution_count": 66,
   "metadata": {
    "collapsed": true
   },
   "outputs": [],
   "source": [
    "#insert subtract code"
   ]
  },
  {
   "cell_type": "markdown",
   "metadata": {},
   "source": [
    "### Exercise - Exclamation and Capitalization\n",
    "Write one function, caps, that capitalizes the first letter of every word in a sentence and returns that sentence. Write another function, shout, that replaces the end punctuation of the sentence with an exclamation point. Write a main function that asks the user for a sentence and then applies both functions."
   ]
  },
  {
   "cell_type": "code",
   "execution_count": 67,
   "metadata": {
    "collapsed": true
   },
   "outputs": [],
   "source": [
    "#insert exclamation code"
   ]
  },
  {
   "cell_type": "markdown",
   "metadata": {
    "collapsed": true
   },
   "source": [
    "### Exercise - your class grade\n",
    "Write two functions, one called average and one called grade. Your average function should compute the numerical average of a list of three assignments you enter. Your other function, grade, should convert your numerical grade to a letter grade based on: A 90+, B 80+, C 70+, D 60+ F below 60."
   ]
  },
  {
   "cell_type": "code",
   "execution_count": 3,
   "metadata": {
    "collapsed": true
   },
   "outputs": [],
   "source": [
    "#insert class grade code"
   ]
  },
  {
   "cell_type": "markdown",
   "metadata": {
    "collapsed": true
   },
   "source": [
    "### Exercise - your class grade again\n",
    "Do the above exercise again, but this time, you will not know how many assignments that will be in the list. (Hint: Use an asterisk)."
   ]
  },
  {
   "cell_type": "code",
   "execution_count": 45,
   "metadata": {
    "collapsed": true
   },
   "outputs": [],
   "source": [
    "#insert class grade again"
   ]
  },
  {
   "cell_type": "markdown",
   "metadata": {},
   "source": [
    "Try Except\n",
    "---\n",
    "<a class=\"anchor\" id=\"try\"></a>\n",
    "\n",
    "Try Except commands are very helpful when you want your program to continue running when it encounters an error. If an error is encountered, a try block code execution is stopped and transferred down to the except block. Here's an example when we try to divide by zero:"
   ]
  },
  {
   "cell_type": "code",
   "execution_count": 48,
   "metadata": {},
   "outputs": [
    {
     "name": "stdout",
     "output_type": "stream",
     "text": [
      "cant divide by zero\n",
      "but the program is still running!\n"
     ]
    }
   ],
   "source": [
    "def divide(x,y):\n",
    "    try:\n",
    "        return y/x\n",
    "    except:\n",
    "        print('cant divide by zero')\n",
    "divide(0,5)\n",
    "print('but the program is still running!')"
   ]
  },
  {
   "cell_type": "markdown",
   "metadata": {},
   "source": [
    "Note that if you hadn't used a try command, your code would have errored out:"
   ]
  },
  {
   "cell_type": "code",
   "execution_count": 49,
   "metadata": {},
   "outputs": [
    {
     "ename": "ZeroDivisionError",
     "evalue": "division by zero",
     "output_type": "error",
     "traceback": [
      "\u001b[0;31m---------------------------------------------------------------------------\u001b[0m",
      "\u001b[0;31mZeroDivisionError\u001b[0m                         Traceback (most recent call last)",
      "\u001b[0;32m<ipython-input-49-5737c9bc400c>\u001b[0m in \u001b[0;36m<module>\u001b[0;34m()\u001b[0m\n\u001b[1;32m      1\u001b[0m \u001b[0;32mdef\u001b[0m \u001b[0mdivide\u001b[0m\u001b[0;34m(\u001b[0m\u001b[0mx\u001b[0m\u001b[0;34m,\u001b[0m\u001b[0my\u001b[0m\u001b[0;34m)\u001b[0m\u001b[0;34m:\u001b[0m\u001b[0;34m\u001b[0m\u001b[0m\n\u001b[1;32m      2\u001b[0m     \u001b[0;32mreturn\u001b[0m \u001b[0my\u001b[0m\u001b[0;34m/\u001b[0m\u001b[0mx\u001b[0m\u001b[0;34m\u001b[0m\u001b[0m\n\u001b[0;32m----> 3\u001b[0;31m \u001b[0mdivide\u001b[0m\u001b[0;34m(\u001b[0m\u001b[0;36m0\u001b[0m\u001b[0;34m,\u001b[0m\u001b[0;36m5\u001b[0m\u001b[0;34m)\u001b[0m\u001b[0;34m\u001b[0m\u001b[0m\n\u001b[0m",
      "\u001b[0;32m<ipython-input-49-5737c9bc400c>\u001b[0m in \u001b[0;36mdivide\u001b[0;34m(x, y)\u001b[0m\n\u001b[1;32m      1\u001b[0m \u001b[0;32mdef\u001b[0m \u001b[0mdivide\u001b[0m\u001b[0;34m(\u001b[0m\u001b[0mx\u001b[0m\u001b[0;34m,\u001b[0m\u001b[0my\u001b[0m\u001b[0;34m)\u001b[0m\u001b[0;34m:\u001b[0m\u001b[0;34m\u001b[0m\u001b[0m\n\u001b[0;32m----> 2\u001b[0;31m     \u001b[0;32mreturn\u001b[0m \u001b[0my\u001b[0m\u001b[0;34m/\u001b[0m\u001b[0mx\u001b[0m\u001b[0;34m\u001b[0m\u001b[0m\n\u001b[0m\u001b[1;32m      3\u001b[0m \u001b[0mdivide\u001b[0m\u001b[0;34m(\u001b[0m\u001b[0;36m0\u001b[0m\u001b[0;34m,\u001b[0m\u001b[0;36m5\u001b[0m\u001b[0;34m)\u001b[0m\u001b[0;34m\u001b[0m\u001b[0m\n",
      "\u001b[0;31mZeroDivisionError\u001b[0m: division by zero"
     ]
    }
   ],
   "source": [
    "def divide(x,y):\n",
    "    return y/x\n",
    "divide(0,5)"
   ]
  },
  {
   "cell_type": "markdown",
   "metadata": {},
   "source": [
    "Here's another example. Suppose we want to convert a string to a number. If the user doesn't give us a number to be converted, we can ask for another number:\n"
   ]
  },
  {
   "cell_type": "code",
   "execution_count": 50,
   "metadata": {},
   "outputs": [
    {
     "name": "stdout",
     "output_type": "stream",
     "text": [
      "Give me a number:hello\n",
      "hello cannot be converted to a number\n",
      "Give me a number that works: 5\n",
      "5\n"
     ]
    }
   ],
   "source": [
    "def string_to_int(word):\n",
    "    try:\n",
    "        return int(word)\n",
    "    except:\n",
    "        print(word, 'cannot be converted to a number')\n",
    "        new_word = input('Give me a number that works: ')\n",
    "        return int(new_word)\n",
    "\n",
    "number = input('Give me a number:')\n",
    "print(string_to_int(number))"
   ]
  },
  {
   "cell_type": "markdown",
   "metadata": {},
   "source": [
    "### Exercise - Repeat Word again\n",
    "\n",
    "Define a function, repeat_word, that takes in a number, n,  and a word and repeats the word that many times. Use a try/except to ask the user for a number if they don't give you a number the first time."
   ]
  },
  {
   "cell_type": "code",
   "execution_count": null,
   "metadata": {
    "collapsed": true
   },
   "outputs": [],
   "source": [
    "#insert repeat word again"
   ]
  },
  {
   "cell_type": "markdown",
   "metadata": {},
   "source": [
    "### Exercise - Average\n",
    "\n",
    "Write a function, average, that takes in a list of numbers and calculates the average of the numbers. Use a try/except to ask the user for a nonempty list of numbers if they try giving you an empty list."
   ]
  },
  {
   "cell_type": "code",
   "execution_count": null,
   "metadata": {
    "collapsed": true
   },
   "outputs": [],
   "source": [
    "#insert average"
   ]
  },
  {
   "cell_type": "markdown",
   "metadata": {},
   "source": [
    "### Exercise - email address\n",
    "Write a program that tries to take in a user's email address (e.g., kanyewest@gmail.com) and return the username part \"kanyewest\". If the user input does not contain an email address in the valid form, print \"give me a correct email address!\" and ask for another email address. "
   ]
  },
  {
   "cell_type": "code",
   "execution_count": 51,
   "metadata": {
    "collapsed": true
   },
   "outputs": [],
   "source": [
    "### insert email address code"
   ]
  },
  {
   "cell_type": "markdown",
   "metadata": {},
   "source": [
    "Break, Continue, Pass\n",
    "---\n",
    "<a class=\"anchor\" id=\"break\"></a>\n",
    "\n",
    "### Pass\n",
    "\n",
    "Sometimes when we are building complicated programs, we want to fill some parts in but leave other parts for later. For example, let's return to our favorite cafeteria food example. If lunch today is pizza, I want to tell my friend that pizza is my favorite food. If lunch today is pasta, I'm not sure what I want to tell the user yet. If food is anything else, though, I want to go out to lunch. I can create a running program without yet knowing what I want to do about pasta by using a pass statement:"
   ]
  },
  {
   "cell_type": "code",
   "execution_count": 53,
   "metadata": {},
   "outputs": [
    {
     "name": "stdout",
     "output_type": "stream",
     "text": [
      "What is for lunch today? pasta\n"
     ]
    }
   ],
   "source": [
    "lunch = input('What is for lunch today? ')\n",
    "if lunch == 'pizza':\n",
    "    print('Pizza is my favorite!!!')\n",
    "elif lunch == 'pasta':\n",
    "    pass\n",
    "else:\n",
    "    print(\"Meh, let's go off campus for lunch.\")\n"
   ]
  },
  {
   "cell_type": "markdown",
   "metadata": {},
   "source": [
    "Pass functions are also often useful when you want to build several functions to use eventually but you have not built them all yet. For example, suppose you want to make two functions, one that capitalizes the first letter of every student and another list that sorts them alpabetically. Perhaps you build the capitalization program first but you haven't built the sorting program yet. You can write:"
   ]
  },
  {
   "cell_type": "code",
   "execution_count": 54,
   "metadata": {},
   "outputs": [
    {
     "name": "stdout",
     "output_type": "stream",
     "text": [
      "['Brett', 'Annie', 'Veronica', 'Mary']\n"
     ]
    }
   ],
   "source": [
    "def capitalize(class_list):\n",
    "    upper_case=[]\n",
    "    for name in class_list:\n",
    "        upper_case.append(name.title())\n",
    "    return upper_case\n",
    "\n",
    "def sortlist(class_list):\n",
    "    pass\n",
    "    return class_list\n",
    "\n",
    "myclass = ['brett', 'annie', 'veronica', 'mary']\n",
    "print(sortlist(capitalize(myclass)))"
   ]
  },
  {
   "cell_type": "markdown",
   "metadata": {},
   "source": [
    "### Exercise - sum and double\n",
    "Write two functions, one called add_two that adds two numbers and one called double that doubles a number. However, instead of writing the doubling function, use a \"pass\" in order to fill in the function later. Then return double(add_two(5,7))."
   ]
  },
  {
   "cell_type": "code",
   "execution_count": null,
   "metadata": {
    "collapsed": true
   },
   "outputs": [],
   "source": [
    "#insert sum and double"
   ]
  },
  {
   "cell_type": "markdown",
   "metadata": {},
   "source": [
    "### Break Statements\n",
    "\n",
    "For many programs, you might want to stop a loop early if you have found what you are looking for or have encountered a problem. To do this, you can use a break statement to exit the loop early. Breaks can be used in both for and while loops. For example, suppose you are trying to figure out if a number is prime. Well, you only need to find one factor other than 1 and the number itself in order to determine that the number is not prime. You can use a break statement in this case:\n"
   ]
  },
  {
   "cell_type": "code",
   "execution_count": 55,
   "metadata": {},
   "outputs": [
    {
     "name": "stdout",
     "output_type": "stream",
     "text": [
      "36 is not prime\n",
      "37 is prime\n"
     ]
    }
   ],
   "source": [
    "def is_prime(n):\n",
    "    prime = True\n",
    "    for i in range(2,n):\n",
    "        if n % i == 0:\n",
    "            prime = False\n",
    "            print(n, 'is not prime')\n",
    "            break\n",
    "\n",
    "    if prime == True:\n",
    "        print(n, 'is prime')\n",
    "\n",
    "is_prime(36)\n",
    "is_prime(37)"
   ]
  },
  {
   "cell_type": "markdown",
   "metadata": {},
   "source": [
    "As another example, suppose you want to make a number called count that takes in two numbers, start and stop, and prints all the numbers between them, except if 13 is between them. In that case, you want to stop because you are superstitious. You can use a break:"
   ]
  },
  {
   "cell_type": "code",
   "execution_count": 56,
   "metadata": {},
   "outputs": [
    {
     "name": "stdout",
     "output_type": "stream",
     "text": [
      "10\n",
      "11\n",
      "12\n",
      "uh, oh, 13 is unlucky!\n"
     ]
    }
   ],
   "source": [
    "def counting(start,stop):\n",
    "    for i in range(start,stop+1):\n",
    "        if i == 13:\n",
    "            print('uh, oh,', i , 'is unlucky!')\n",
    "            break\n",
    "        print(i)\n",
    "counting(10,20)"
   ]
  },
  {
   "cell_type": "markdown",
   "metadata": {},
   "source": [
    "### Exercise - Name Hate\n",
    "Write a program that takes in a list of students and reads them off one at a time. If the list includes the name \"Harvey Weinstein\", though, break out of the loop and say \"I hate the name Harvey Weinstein!\""
   ]
  },
  {
   "cell_type": "code",
   "execution_count": null,
   "metadata": {
    "collapsed": true
   },
   "outputs": [],
   "source": [
    "#insert name hate code here"
   ]
  },
  {
   "cell_type": "markdown",
   "metadata": {},
   "source": [
    "### Exercise - Lucky number\n",
    "Write a program that takes in a number, n, and lists all of the factors of that number. However, if 5 is a factor, break the loop to print \"5 is my lucky number!\"."
   ]
  },
  {
   "cell_type": "code",
   "execution_count": null,
   "metadata": {
    "collapsed": true
   },
   "outputs": [],
   "source": [
    "#insert lucky number code here"
   ]
  },
  {
   "cell_type": "markdown",
   "metadata": {},
   "source": [
    "### Continue\n",
    "While break statements break out of the loop completely, the continue statement in Python returns the control to the beginning of the loop. The continue statement rejects all the remaining statements in the current iteration of the loop and moves the control back to the top of the loop. Continue statements can be used in for and while loops. \n",
    "\n",
    "For example, return to our superstitious example. Suppose we want to count all numbers between start and stop and not end the program if we get to 13, but rather warn the user that they hit an unlucky number. We can use a continue statement:"
   ]
  },
  {
   "cell_type": "code",
   "execution_count": 57,
   "metadata": {},
   "outputs": [
    {
     "name": "stdout",
     "output_type": "stream",
     "text": [
      "10\n",
      "11\n",
      "12\n",
      "uh, oh, 13 is unlucky!\n",
      "14\n",
      "15\n",
      "16\n",
      "17\n",
      "18\n",
      "19\n",
      "20\n"
     ]
    }
   ],
   "source": [
    "def counting(start,stop):\n",
    "    for i in range(start,stop+1):\n",
    "        if i == 13:\n",
    "            print('uh, oh,', i , 'is unlucky!')\n",
    "            continue   \n",
    "        print(i)\n",
    "counting(10,20)"
   ]
  },
  {
   "cell_type": "markdown",
   "metadata": {},
   "source": [
    "Note that 13 didn't get printed by the print(i) statement. That is because the continue statement immediately disregards anything below it and returns to the top of the loop.\n",
    "\n",
    "As another example, suppose you want to take in a word and capitalize letters that are vowels and add in periods to letters that are not vowels. We can use a continue statement to stop the loop before printing out periods after vowels:"
   ]
  },
  {
   "cell_type": "code",
   "execution_count": 59,
   "metadata": {},
   "outputs": [
    {
     "name": "stdout",
     "output_type": "stream",
     "text": [
      "h.\n",
      "E\n",
      "l.\n",
      "l.\n",
      "O\n"
     ]
    }
   ],
   "source": [
    "def crazy_punctuation(word):\n",
    "    for letter in word:\n",
    "        if letter in ['a', 'e', 'i', 'o', 'u']:\n",
    "            print(letter.upper())\n",
    "            continue\n",
    "        print(letter+'.')\n",
    "crazy_punctuation('hello')"
   ]
  },
  {
   "cell_type": "markdown",
   "metadata": {},
   "source": [
    "Note what would have happened if you got rid of the continue statement. The vowels would have gotten printed out twice:"
   ]
  },
  {
   "cell_type": "code",
   "execution_count": 60,
   "metadata": {},
   "outputs": [
    {
     "name": "stdout",
     "output_type": "stream",
     "text": [
      "h.\n",
      "E\n",
      "e.\n",
      "l.\n",
      "l.\n",
      "O\n",
      "o.\n"
     ]
    }
   ],
   "source": [
    "def crazy_punctuation(word):\n",
    "    for letter in word:\n",
    "        if letter in ['a', 'e', 'i', 'o', 'u']:\n",
    "            print(letter.upper())\n",
    "        print(letter+'.')\n",
    "crazy_punctuation('hello')"
   ]
  },
  {
   "cell_type": "markdown",
   "metadata": {},
   "source": [
    "### Exercise - Name Hate again\n",
    "Write a program that takes in a list of students and reads them off one at a time. If the list includes the name \"Harvey\", though, print \"I hate the name Harvey!\", before continuing to read the rest of the students."
   ]
  },
  {
   "cell_type": "code",
   "execution_count": 61,
   "metadata": {
    "collapsed": true
   },
   "outputs": [],
   "source": [
    "#insert name hate code"
   ]
  },
  {
   "cell_type": "markdown",
   "metadata": {},
   "source": [
    "### Exercise - Lucky number again\n",
    "Write a program that takes in a number, n, and lists all of the factors of that number. If 5 is a factor, though, instead of just printing the number print instead \"5 is my lucky number!\", before continuing to print the rest of the factors."
   ]
  },
  {
   "cell_type": "code",
   "execution_count": null,
   "metadata": {
    "collapsed": true
   },
   "outputs": [],
   "source": [
    "#insert lucky number again\n"
   ]
  }
 ],
 "metadata": {
  "kernelspec": {
   "display_name": "Python 3",
   "language": "python",
   "name": "python3"
  },
  "language_info": {
   "codemirror_mode": {
    "name": "ipython",
    "version": 3
   },
   "file_extension": ".py",
   "mimetype": "text/x-python",
   "name": "python",
   "nbconvert_exporter": "python",
   "pygments_lexer": "ipython3",
   "version": "3.6.0"
  }
 },
 "nbformat": 4,
 "nbformat_minor": 2
}
