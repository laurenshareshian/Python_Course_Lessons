{
 "cells": [
  {
   "cell_type": "markdown",
   "metadata": {},
   "source": [
    "## Problem 1: Function Composition\n",
    "Recall that the function $h(x)=\\sin{(2x+1)}$ can be written as a composition of the functions $f(x)=\\sin(x)$ and $g(x)=2x+1$. Separately write **`f`**, **`g`**, and **`h`** functions and then verify that $h(x)$ returns the same value as $f(g(x))$ for several values of $x$."
   ]
  },
  {
   "cell_type": "code",
   "execution_count": 1,
   "metadata": {},
   "outputs": [],
   "source": [
    "#insert 1"
   ]
  },
  {
   "cell_type": "markdown",
   "metadata": {},
   "source": [
    "## Problem 2: is_prime\n",
    "Write a function called **`is_prime`** that takes in a number, n, and returns True if the number is prime and False if it is not. \n",
    "\n",
    "- If the program finds a divisor of n then it should return False instead of continuing to check for more divisors.\n",
    "\n",
    "- Remember that you only need to check up to the factor $\\sqrt n+1$ in order to be more efficient.\n",
    "\n",
    "- Make sure that your program deals appropriately with edge cases such as the numbers -1, 0, 1, and decimals such as 5.5. One way of checking that n is an integer is verifying that ```n % 1 == 0```."
   ]
  },
  {
   "cell_type": "code",
   "execution_count": 2,
   "metadata": {},
   "outputs": [],
   "source": [
    "#insert 2"
   ]
  },
  {
   "cell_type": "markdown",
   "metadata": {},
   "source": [
    "## Problem 3: all_primes\n",
    "Write a function called **`all_primes`** that takes in a lower and upper number and returns a **list** of all the primes between those numbers, inclusive. You should call your **`is_prime`** function within this **`all_primes`** function.\n",
    "\n",
    "For example, ```all_primes(3,11)``` should return ```[3, 5, 7, 11]```."
   ]
  },
  {
   "cell_type": "code",
   "execution_count": 3,
   "metadata": {},
   "outputs": [],
   "source": [
    "#insert 3"
   ]
  },
  {
   "cell_type": "markdown",
   "metadata": {},
   "source": [
    "## Problem 4: the_coolest\n",
    "\n",
    "Write a function called **`the_coolest`** that accepts a **list** of integer arguments and returns the number closest to the number 73.  If two numbers are the same distance from 73, the first number passed to the function is the coolest.\n",
    "\n",
    "For example, ```the_coolest([68, 60, 74, 73])``` should return 73."
   ]
  },
  {
   "cell_type": "code",
   "execution_count": 4,
   "metadata": {},
   "outputs": [],
   "source": [
    "#insert 4"
   ]
  },
  {
   "cell_type": "markdown",
   "metadata": {},
   "source": [
    "## Problem 5: the_coolest again\n",
    "\n",
    "Write a function called **`the_coolest_again`** that accepts **2 or more integer arguments** and returns the number closest to the number 73.  If two numbers are the same distance from 73, the first number passed to the function is the coolest.\n",
    "\n",
    "For example, \n",
    "```the_coolest(71, 72, 74, 75, 76)``` should return 72, ```the_coolest(71, 72)``` should return 72, and ```the_coolest(71)``` should return a TypeError."
   ]
  },
  {
   "cell_type": "code",
   "execution_count": 5,
   "metadata": {},
   "outputs": [],
   "source": [
    "#insert 5"
   ]
  },
  {
   "cell_type": "markdown",
   "metadata": {},
   "source": [
    "## Problem 6\n",
    "You are entering data for a dating website. You will write three functions.\n",
    "\n",
    "1.Write a function called **`feet_to_inches`** that takes in heights in the string form (ex: 5'10'') and returns the integer value (ex: 70) inches.  \n",
    "\n",
    "2.Write a function called **`height_classifier`** that classifies your height. It takes in an integer value for height in inches and returns string labels. If you are 72 inches or above, return 'tall'. If you are less than 72 inches but greater or equal to 66 inches, return 'medium'. If you are less than 66 inches, return \"short.\" \n",
    "\n",
    "3.Write a different function called **`matchmaker`**. If you are classified as short or medium, print \"Agnes is interested.\" If you are classified as medium or tall, print \"Bertha is interested.\" \n",
    "\n",
    "Combine these functions so that when a person enters their height in the form 5'7'' it prints their prospective suitor.\n",
    "\n",
    "Make sure that you specify what type of form the user should give you their input in (inches, etc.) or that your program is dynamic enough to deal with different types of input."
   ]
  },
  {
   "cell_type": "code",
   "execution_count": 6,
   "metadata": {},
   "outputs": [],
   "source": [
    "#insert 6"
   ]
  },
  {
   "cell_type": "markdown",
   "metadata": {},
   "source": [
    "## Problem 7\n",
    "Write a function called **`student_data`** that takes in a student's first and last name. In addition, it may accept additional arguments of the student's email address, advisor, or list of sports played. This function will not return anything but instead print out a summary output using f-strings.  For example, an input of ```student_data('Jack', 'Black', 'jackblack@gmail.com', 'Lauren', ['soccer', 'basketball', 'tennis'])``` would return the output:\n",
    "```\n",
    "Student first name: Jack\n",
    "\n",
    "Student last name: Black\n",
    "\n",
    "Email address: jackblack@oes.edu\n",
    "\n",
    "Advisor: Lauren\n",
    "\n",
    "Jack plays soccer.\n",
    "\n",
    "Jack plays basketball.\n",
    "\n",
    "Jack plays tennis.\n",
    "```\n",
    "\n",
    "And an input of ```student_data('Jack', 'Black')``` would simply return the output:\n",
    "```\n",
    "Student first name: Jack\n",
    "\n",
    "Student last name: Black\n",
    "```"
   ]
  },
  {
   "cell_type": "code",
   "execution_count": 7,
   "metadata": {},
   "outputs": [],
   "source": [
    "#insert 7"
   ]
  },
  {
   "cell_type": "markdown",
   "metadata": {},
   "source": [
    "## Problem 8\n",
    "A class has a list of names, names = ['Lauren', 'Paul', 'James', 'Ryan', 'Mary', 'Betsy], and the list of times they walked into class, times = [7.57, 7.59, 8.00, 8.02, 8.05, 7.59]. Write a function called **`class_roll`** that reads through the list of names. Greet each student. Use the continue method so that \"You're late!\" only gets printed if the student arrived after 8:00.\n",
    "\n",
    "For example, \n",
    "\n",
    "```class_roll( ['Lauren', 'Paul', 'James', 'Ryan', 'Mary', 'Betsy'], [7.57, 7.59, 8.00, 8.02, 8.05, 7.59])``` would output:\n",
    "\n",
    "```\n",
    "Hi, Lauren!\n",
    "Hi, Paul!\n",
    "Hi, James!\n",
    "You're late!\n",
    "Hi, Ryan!\n",
    "You're late!\n",
    "Hi, Mary!\n",
    "You're late!\n",
    "Hi, Betsy!\n",
    "```"
   ]
  },
  {
   "cell_type": "code",
   "execution_count": 8,
   "metadata": {},
   "outputs": [],
   "source": [
    "#insert 8"
   ]
  },
  {
   "cell_type": "markdown",
   "metadata": {},
   "source": [
    "### Problem 9 Intro\n",
    "\n",
    "There are several types of common exceptions.\n",
    "\n",
    "The first type of error is **ZeroDivisionError**. When we try to divide by zero, we get a zero exception. For example:"
   ]
  },
  {
   "cell_type": "code",
   "execution_count": 17,
   "metadata": {},
   "outputs": [
    {
     "ename": "ZeroDivisionError",
     "evalue": "division by zero",
     "output_type": "error",
     "traceback": [
      "\u001b[0;31m---------------------------------------------------------------------------\u001b[0m",
      "\u001b[0;31mZeroDivisionError\u001b[0m                         Traceback (most recent call last)",
      "\u001b[0;32m<ipython-input-17-b495d849d462>\u001b[0m in \u001b[0;36m<module>\u001b[0;34m\u001b[0m\n\u001b[1;32m      1\u001b[0m \u001b[0mx\u001b[0m \u001b[0;34m=\u001b[0m \u001b[0;36m0\u001b[0m\u001b[0;34m\u001b[0m\u001b[0;34m\u001b[0m\u001b[0m\n\u001b[0;32m----> 2\u001b[0;31m \u001b[0mprint\u001b[0m\u001b[0;34m(\u001b[0m\u001b[0;36m1\u001b[0m\u001b[0;34m/\u001b[0m\u001b[0mx\u001b[0m\u001b[0;34m)\u001b[0m\u001b[0;34m\u001b[0m\u001b[0;34m\u001b[0m\u001b[0m\n\u001b[0m\u001b[1;32m      3\u001b[0m \u001b[0;34m\u001b[0m\u001b[0m\n\u001b[1;32m      4\u001b[0m \u001b[0mprint\u001b[0m\u001b[0;34m(\u001b[0m\u001b[0;34m\"Done trying to divide\"\u001b[0m\u001b[0;34m)\u001b[0m\u001b[0;34m\u001b[0m\u001b[0;34m\u001b[0m\u001b[0m\n",
      "\u001b[0;31mZeroDivisionError\u001b[0m: division by zero"
     ]
    }
   ],
   "source": [
    "x = 0\n",
    "print(1/x)\n",
    "\n",
    "print(\"Done trying to divide\")"
   ]
  },
  {
   "cell_type": "markdown",
   "metadata": {},
   "source": [
    "Notice that in the code above, the program errors out and we never get to the last print statement. We can catch this exception and allow our code to continue running by typing:"
   ]
  },
  {
   "cell_type": "code",
   "execution_count": 18,
   "metadata": {},
   "outputs": [
    {
     "name": "stdout",
     "output_type": "stream",
     "text": [
      "You can't divide by zero!\n",
      "Done trying to divide.\n"
     ]
    }
   ],
   "source": [
    "x = 0\n",
    "try:\n",
    "    print(1/x)\n",
    "except ZeroDivisionError:\n",
    "    print(\"You can't divide by zero!\")\n",
    "    \n",
    "print(\"Done trying to divide.\")"
   ]
  },
  {
   "cell_type": "markdown",
   "metadata": {},
   "source": [
    "Another type of error is a **ValueError**. A value is the information that is stored within a certain object. To encounter a ValueError in Python means that there is a problem with the content of the object you tried to assign the value to. One example of ValueError would be if we tried to convert an invalid string to an integer using int. Notice that the first line runs, since \"2\" can be converted to the integer 2, but the second line creates an error, since the word \"two\" cannot be converted to the integer 2:"
   ]
  },
  {
   "cell_type": "code",
   "execution_count": 19,
   "metadata": {},
   "outputs": [
    {
     "name": "stdout",
     "output_type": "stream",
     "text": [
      "2\n"
     ]
    },
    {
     "ename": "ValueError",
     "evalue": "invalid literal for int() with base 10: 'two'",
     "output_type": "error",
     "traceback": [
      "\u001b[0;31m---------------------------------------------------------------------------\u001b[0m",
      "\u001b[0;31mValueError\u001b[0m                                Traceback (most recent call last)",
      "\u001b[0;32m<ipython-input-19-dd2ec71e0a8c>\u001b[0m in \u001b[0;36m<module>\u001b[0;34m\u001b[0m\n\u001b[1;32m      1\u001b[0m \u001b[0mprint\u001b[0m\u001b[0;34m(\u001b[0m\u001b[0mint\u001b[0m\u001b[0;34m(\u001b[0m\u001b[0;34m\"2\"\u001b[0m\u001b[0;34m)\u001b[0m\u001b[0;34m)\u001b[0m\u001b[0;34m\u001b[0m\u001b[0;34m\u001b[0m\u001b[0m\n\u001b[0;32m----> 2\u001b[0;31m \u001b[0mprint\u001b[0m\u001b[0;34m(\u001b[0m\u001b[0mint\u001b[0m\u001b[0;34m(\u001b[0m\u001b[0;34m\"two\"\u001b[0m\u001b[0;34m)\u001b[0m\u001b[0;34m)\u001b[0m\u001b[0;34m\u001b[0m\u001b[0;34m\u001b[0m\u001b[0m\n\u001b[0m",
      "\u001b[0;31mValueError\u001b[0m: invalid literal for int() with base 10: 'two'"
     ]
    }
   ],
   "source": [
    "print(int(\"2\"))\n",
    "print(int(\"two\"))"
   ]
  },
  {
   "cell_type": "markdown",
   "metadata": {},
   "source": [
    "We can remedy this with an exception:"
   ]
  },
  {
   "cell_type": "code",
   "execution_count": 47,
   "metadata": {},
   "outputs": [
    {
     "name": "stdout",
     "output_type": "stream",
     "text": [
      "Sorry, you can't convert that word to an integer.\n"
     ]
    }
   ],
   "source": [
    "x = \"two\"\n",
    "try:\n",
    "    print(int(x))\n",
    "except ValueError:\n",
    "    print(\"Sorry, you can't convert that word to an integer.\")"
   ]
  },
  {
   "cell_type": "markdown",
   "metadata": {},
   "source": [
    "**TypeErrors** occur when an operation is applied to an object of an incorrect type. For example, the operation \"int\" can convert a string to an integer. It cannot convert a list to an integer:"
   ]
  },
  {
   "cell_type": "code",
   "execution_count": 23,
   "metadata": {},
   "outputs": [
    {
     "ename": "TypeError",
     "evalue": "int() argument must be a string, a bytes-like object or a number, not 'list'",
     "output_type": "error",
     "traceback": [
      "\u001b[0;31m---------------------------------------------------------------------------\u001b[0m",
      "\u001b[0;31mTypeError\u001b[0m                                 Traceback (most recent call last)",
      "\u001b[0;32m<ipython-input-23-3be5ae08c6eb>\u001b[0m in \u001b[0;36m<module>\u001b[0;34m\u001b[0m\n\u001b[0;32m----> 1\u001b[0;31m \u001b[0mprint\u001b[0m\u001b[0;34m(\u001b[0m\u001b[0mint\u001b[0m\u001b[0;34m(\u001b[0m\u001b[0;34m[\u001b[0m\u001b[0;36m1\u001b[0m\u001b[0;34m,\u001b[0m\u001b[0;36m2\u001b[0m\u001b[0;34m,\u001b[0m\u001b[0;36m4\u001b[0m\u001b[0;34m]\u001b[0m\u001b[0;34m)\u001b[0m\u001b[0;34m)\u001b[0m\u001b[0;34m\u001b[0m\u001b[0;34m\u001b[0m\u001b[0m\n\u001b[0m",
      "\u001b[0;31mTypeError\u001b[0m: int() argument must be a string, a bytes-like object or a number, not 'list'"
     ]
    }
   ],
   "source": [
    "print(int([1,2,4]))"
   ]
  },
  {
   "cell_type": "markdown",
   "metadata": {},
   "source": [
    "We'll catch this exception as well:"
   ]
  },
  {
   "cell_type": "code",
   "execution_count": 24,
   "metadata": {},
   "outputs": [
    {
     "name": "stdout",
     "output_type": "stream",
     "text": [
      "Sorry, you need to give me a string.\n"
     ]
    }
   ],
   "source": [
    "x = [1,2,3,4]\n",
    "try:\n",
    "    print(int(x))\n",
    "except TypeError:\n",
    "    print(\"Sorry, you need to give me a string.\")"
   ]
  },
  {
   "cell_type": "markdown",
   "metadata": {},
   "source": [
    "### Problem 9a: reciprocal\n",
    "Write a function called `reciprocal` that takes in an x and returns the reciprocal value, $1/x$. Use labeled exceptions with corresponding error messages that account for division by zero, type, and value errors."
   ]
  },
  {
   "cell_type": "code",
   "execution_count": 9,
   "metadata": {},
   "outputs": [],
   "source": [
    "#insert 9a"
   ]
  },
  {
   "cell_type": "markdown",
   "metadata": {},
   "source": [
    "### Problem 9b: reciprocal again\n",
    "Update your `reciprocal` function so that it continues to ask the user for valid input until the user provides one, at which point it returns the reciprocal value. You can call the reciprocal function recursively to do this (ex: ```return reciprocal(x)```)."
   ]
  },
  {
   "cell_type": "code",
   "execution_count": 10,
   "metadata": {},
   "outputs": [],
   "source": [
    "#insert 9b"
   ]
  },
  {
   "cell_type": "markdown",
   "metadata": {
    "collapsed": true
   },
   "source": [
    "## Problem 10a.\n",
    "\n",
    "Write a function called **`plotter`** that takes in the minimum, maximum, and step size on the x-axis on which you want a function plotted. It should also take in a function - use np.sqrt and np.sin as examples. The plotter should then plot the graph over that interval.\n",
    "\n",
    "For example, ```plotter(np.sin, 0, 10, 0.5)``` will create a plot."
   ]
  },
  {
   "cell_type": "code",
   "execution_count": 11,
   "metadata": {},
   "outputs": [],
   "source": [
    "#insert 10a"
   ]
  },
  {
   "cell_type": "markdown",
   "metadata": {},
   "source": [
    "## Problem 10b. \n",
    "Now try to insert the function x\\*\\*2 into your plotter function. You will probably get an error, because you haven't defined x\\*\\*2 as a function yet. Define a function called **`square`** that returns x\\*\\*2. Now try it in your plotter function. It should now work."
   ]
  },
  {
   "cell_type": "code",
   "execution_count": 12,
   "metadata": {},
   "outputs": [],
   "source": [
    "#insert 10b"
   ]
  },
  {
   "cell_type": "markdown",
   "metadata": {},
   "source": [
    "## Problem 11a.\n",
    "\n",
    "Write a function called `is_unique` that takes in a string and returns True if the letters in the string are unique and False if they are not. There are many ways to do this problem, but first do this problem by sorting the list of letters and using a for loop to determine whether two adjacent letters are the same.\n",
    "\n",
    "```is_unique('unique')``` would return False, since there are two u's."
   ]
  },
  {
   "cell_type": "code",
   "execution_count": 13,
   "metadata": {},
   "outputs": [],
   "source": [
    "#insert 11a"
   ]
  },
  {
   "cell_type": "markdown",
   "metadata": {},
   "source": [
    "## Problem 11b.\n",
    "\n",
    "Another common way to approach these problems is using character arrays. The built-in Python function `ord` gives you the Ascii code for each character. The letter \"A\" corresponds to the ASCII code 65, for example. View a few of the codes here:\n",
    "\n",
    "![alt text](ascii.png)"
   ]
  },
  {
   "cell_type": "code",
   "execution_count": 11,
   "metadata": {},
   "outputs": [
    {
     "name": "stdout",
     "output_type": "stream",
     "text": [
      "65\n",
      "66\n",
      "97\n",
      "57\n",
      "33\n",
      "32\n",
      "10\n"
     ]
    }
   ],
   "source": [
    "print(ord(\"A\"))\n",
    "print(ord(\"B\"))\n",
    "print(ord(\"a\"))\n",
    "print(ord(\"9\"))\n",
    "print(ord(\"!\"))\n",
    "print(ord(\" \"))\n",
    "print(ord(\"\\n\"))"
   ]
  },
  {
   "cell_type": "markdown",
   "metadata": {},
   "source": [
    "We can create an `is_unique` function by creating an empty character array corresponding to the number of characters in the table above (127) and then updating each value in the array to correspond to the number of times that letter occurs. For example, in the word \"AARDVARK\", index 65 of the character array would contain the value 3 since the character A (with an ASCII code of 65) occurs three times in the word. Make sure that you understand what the code below is doing because you will need it in the problems to follow:"
   ]
  },
  {
   "cell_type": "code",
   "execution_count": 56,
   "metadata": {},
   "outputs": [
    {
     "name": "stdout",
     "output_type": "stream",
     "text": [
      "False\n",
      "True\n"
     ]
    }
   ],
   "source": [
    "def is_unique(str1): \n",
    "  \n",
    "    # initialize a character array where each value in the array will correspond to the\n",
    "    # number of times the corresponding character (in the table above) occurs in the string\n",
    "    chars = [0]*128\n",
    "    \n",
    "    # fill in the character array with all of the frequency values\n",
    "    for letter in str1:\n",
    "        if chars[ord(letter)] == 1:     #if a character has already occurred in the string, \n",
    "            return False                #then the string is not unique, in which case return false\n",
    "  \n",
    "        chars[ord(letter)] = 1       #if the current character has not occurred before in the string, update its frequency to 1\n",
    "    \n",
    "    return True\n",
    "\n",
    "  \n",
    "print(is_unique('hello'))\n",
    "print(is_unique('helo')) "
   ]
  },
  {
   "cell_type": "markdown",
   "metadata": {},
   "source": [
    "## 12 Palindrome\n",
    "Write a code called `is_palindrome` that returns True if the word is a permutation of a palindrome and False if it is not. Examples of palindromes: radar, redder, racecar, level. Therefore, daarr is a permutation of a palindrome, since it can be rewritten as radar. Use a character array in your program."
   ]
  },
  {
   "cell_type": "code",
   "execution_count": 14,
   "metadata": {},
   "outputs": [],
   "source": [
    "#insert 12"
   ]
  },
  {
   "cell_type": "markdown",
   "metadata": {},
   "source": [
    "## 13 One Away\n",
    "There are three types of edits that can be performed on strings: insert a character, remove a character, or replace a character. Given two strings, write a function to check if they are one (or zero) edits away. Your program will return True or False. Use two character arrays.\n",
    "\n",
    "Example:\n",
    "\n",
    "pale, ple – TRUE\n",
    "\n",
    "pales, pale – TRUE\n",
    "\n",
    "pale, bale – TRUE\n",
    "\n",
    "pale, bake – FALSE"
   ]
  },
  {
   "cell_type": "code",
   "execution_count": 15,
   "metadata": {},
   "outputs": [],
   "source": [
    "#insert 13"
   ]
  }
 ],
 "metadata": {
  "kernelspec": {
   "display_name": "Python 3",
   "language": "python",
   "name": "python3"
  },
  "language_info": {
   "codemirror_mode": {
    "name": "ipython",
    "version": 3
   },
   "file_extension": ".py",
   "mimetype": "text/x-python",
   "name": "python",
   "nbconvert_exporter": "python",
   "pygments_lexer": "ipython3",
   "version": "3.7.3"
  }
 },
 "nbformat": 4,
 "nbformat_minor": 1
}
