{
 "cells": [
  {
   "cell_type": "markdown",
   "metadata": {},
   "source": [
    "## Problem 1\n",
    "\n",
    "Write a function called **`the_coolest`** that accepts 2 or more integer arguments and returns the number closest to the number 73.  If two numbers are the same distance from 73, the first number passed to the function is the coolest."
   ]
  },
  {
   "cell_type": "code",
   "execution_count": 7,
   "metadata": {},
   "outputs": [],
   "source": [
    "#insert 1 here\n",
    "\n",
    "def the_coolest(x, y, *z):\n",
    "    pass\n"
   ]
  },
  {
   "cell_type": "markdown",
   "metadata": {},
   "source": [
    "## Problem 2\n",
    "Write a function that asks for an input and then returns the square of that input.  If the input is not a number, the code will clarify and specifically ask for a number and then square that number. Make sure your function continues to ask the user for a proper number until it receives one and then squares it."
   ]
  },
  {
   "cell_type": "code",
   "execution_count": 2,
   "metadata": {
    "collapsed": true
   },
   "outputs": [],
   "source": [
    "#insert 2 here"
   ]
  },
  {
   "cell_type": "markdown",
   "metadata": {},
   "source": [
    "## Problem 3\n",
    "You are entering data for a dating website. Write a function called **`height_classifier`** that classifies your height. If you are 6' or above, return 'tall'. If you are less than 6' but greater or equal to 5'6, return 'medium'. If you are less than 5'6'', return \"short.\" \n",
    "\n",
    "Then, write a different function called **`matchmaker`**. If you are classified as short, return \"Agnes is interested.\" If you are classified as medium, return \"Bertha is interested.\" If you are classified as tall, return \"Helga is interested.\"\n",
    "\n",
    "Combine these functions so that when a person enters their height it spits out their prospective suitor.\n",
    "\n",
    "Make sure that you specify what type of form the user should give you their input in (inches, etc.) or that your program is dynamic enough to deal with different types of input."
   ]
  },
  {
   "cell_type": "code",
   "execution_count": 0,
   "metadata": {
    "collapsed": true
   },
   "outputs": [],
   "source": [
    "#insert 3"
   ]
  },
  {
   "cell_type": "markdown",
   "metadata": {},
   "source": [
    "## Problem 4\n",
    "Write a function called **`student_data`** that takes in a student's first and last name. In addition, it may accept additional arguments of the student's email address and advisor. It can also take in a student's list of sports. Use f-strings to make the output easier to create. For example, your output may look like:\n",
    "\n",
    "Student first name: Jack\n",
    "\n",
    "Student last name: Black\n",
    "\n",
    "Email address: jackblack@oes.edu\n",
    "\n",
    "Advisor: Lauren Shareshian\n",
    "\n",
    "Jack plays soccer.\n",
    "\n",
    "Jack plays basketball.\n",
    "\n",
    "Jack plays tennis.\n",
    "\n",
    "Student first name: Lara\n",
    "\n",
    "Student last name: Clara\n",
    "\n",
    "Clara plays cross country.\n"
   ]
  },
  {
   "cell_type": "code",
   "execution_count": 3,
   "metadata": {
    "collapsed": true
   },
   "outputs": [],
   "source": [
    "#insert 4"
   ]
  },
  {
   "cell_type": "markdown",
   "metadata": {},
   "source": [
    "## Problem 5\n",
    "Write a function called **`prime`** that takes in a user's number and determines if it is prime. If it finds a divisor of that prime then it should break out of the program and print \"Your number is not prime.\" Make sure your program deals appropriately with edge cases such as the numbers -1, 0, 1, and decimals such as 5.5."
   ]
  },
  {
   "cell_type": "code",
   "execution_count": 4,
   "metadata": {
    "collapsed": true
   },
   "outputs": [],
   "source": [
    "#insert 5"
   ]
  },
  {
   "cell_type": "markdown",
   "metadata": {},
   "source": [
    "## Problem 6\n",
    "Write a function that takes in a user's lower and upper number and returns all primes between those numbers. It should break out of the loop if it finds a divisor of the current prime number in question, but it should not break out of the entire program."
   ]
  },
  {
   "cell_type": "code",
   "execution_count": 5,
   "metadata": {
    "collapsed": true
   },
   "outputs": [],
   "source": [
    "#insert 6"
   ]
  },
  {
   "cell_type": "markdown",
   "metadata": {},
   "source": [
    "## Problem 7\n",
    "A class has a list of names, names = ['Lauren', 'Paul', 'James', 'Ryan', 'Mary', 'Betsy], and the list of times they walked into class, times = [7.57, 7.59, 7.59, 8.00, 8.02, 8.05]. Write a function called **`class_roll`** that reads through the list of names. If the student got there at 8:00 am or before, print the name. If the student arrived after 8:00 am, use the continue method to not print the name but instead print \"You're late!\""
   ]
  },
  {
   "cell_type": "code",
   "execution_count": 6,
   "metadata": {
    "collapsed": true
   },
   "outputs": [],
   "source": [
    "#insert 7"
   ]
  },
  {
   "cell_type": "markdown",
   "metadata": {},
   "source": [
    "## Problem 8\n",
    "Write a function called **`paragraph_splitter`** that takes a paragraph and splits it into sentences using the '.' delimiter. Write a function called **`sentence_splitter`** that splits a single sentence into a list of words. Write a function called **`capitalizer`** that capitalizes the first letter of each word in a list of words and returns it as a sentence. Print the sentences in this capitalized form on separate lines. For instance, an input of:\n",
    "\n",
    "'I like Kanye. Kanye is crazy. Kanye is the best.' \n",
    "\n",
    "would return:\n",
    "\n",
    "I Like Kanye\n",
    "\n",
    "Kanye Is Crazy\n",
    "\n",
    "Kanye Is The Best"
   ]
  },
  {
   "cell_type": "code",
   "execution_count": 0,
   "metadata": {
    "collapsed": true
   },
   "outputs": [],
   "source": [
    "#insert 8"
   ]
  },
  {
   "cell_type": "markdown",
   "metadata": {
    "collapsed": true
   },
   "source": [
    "## Problem 9a.\n",
    "\n",
    "Write a function called **`plotter`** that takes in the minimum, maximum, and step size on the x-axis on which you want a function plotted. It should also take in a function - use np.sqrt and np.sin as examples. The plotter should then plot the graph over that interval."
   ]
  },
  {
   "cell_type": "code",
   "execution_count": 18,
   "metadata": {
    "collapsed": true
   },
   "outputs": [],
   "source": [
    "#insert 9a"
   ]
  },
  {
   "cell_type": "markdown",
   "metadata": {},
   "source": [
    "## Problem 9b. \n",
    "Now try to insert the function x\\*\\*2 into your plotter function. You will probably get an error, because you haven't defined x\\*\\*2 as a function yet. Define a function called **`square`** that returns x\\*\\*2. Now try it in your plotter function. It should now work."
   ]
  },
  {
   "cell_type": "code",
   "execution_count": 0,
   "metadata": {
    "collapsed": true
   },
   "outputs": [],
   "source": [
    "#insert 9b"
   ]
  },
  {
   "cell_type": "markdown",
   "metadata": {},
   "source": [
    "## Extra Credit: One away\n",
    "\n",
    "### NOTE: YOU CANNOT SEEK HELP FROM ANY HUMANS OR THE INTERNET ON THIS PROBLEM. WE JUST WANT YOU TO TRY YOUR BEST. IF YOU SEEK HELP, WE WILL KNOW!!!!!!!!\n",
    "\n",
    "There are three types of edits that can be performed on strings: insert a character, remove a character, or replace a character. Given two strings, write a function to check if they are one (or zero) edits away.\n",
    "\n",
    "Example:\n",
    "\n",
    "pale, ple – TRUE\n",
    "\n",
    "pales, pale – TRUE\n",
    "\n",
    "pale, bale – TRUE\n",
    "\n",
    "pale, bake – FALSE"
   ]
  },
  {
   "cell_type": "code",
   "execution_count": 12,
   "metadata": {},
   "outputs": [],
   "source": [
    "#insert extra credit\n",
    "def one_away(word1, word2):\n",
    "    pass\n",
    "\n",
    "\n"
   ]
  }
 ],
 "metadata": {
  "kernelspec": {
   "display_name": "Python 3",
   "language": "python",
   "name": "python3"
  },
  "language_info": {
   "codemirror_mode": {
    "name": "ipython",
    "version": 3
   },
   "file_extension": ".py",
   "mimetype": "text/x-python",
   "name": "python",
   "nbconvert_exporter": "python",
   "pygments_lexer": "ipython3",
   "version": "3.7.3"
  }
 },
 "nbformat": 4,
 "nbformat_minor": 1
}
