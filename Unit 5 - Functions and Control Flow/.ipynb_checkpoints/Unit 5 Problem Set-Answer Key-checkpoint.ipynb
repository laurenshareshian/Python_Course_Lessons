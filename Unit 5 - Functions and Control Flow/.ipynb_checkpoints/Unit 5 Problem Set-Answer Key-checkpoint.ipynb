{
 "cells": [
  {
   "cell_type": "markdown",
   "metadata": {},
   "source": [
    "1. Write a function called the_coolest that accepts 2 or more integer arguments and returns the number closest to the number 73.  If two numbers are the same distance from 73, the first number passed to the function is the coolest."
   ]
  },
  {
   "cell_type": "code",
   "execution_count": 7,
   "metadata": {},
   "outputs": [
    {
     "name": "stdout",
     "output_type": "stream",
     "text": [
      "74\n"
     ]
    }
   ],
   "source": [
    "#insert 1 here\n",
    "\n",
    "def the_coolest(num1,*num2):\n",
    "    dist = abs(num1-73)\n",
    "    minnum = num1\n",
    "    for num in num2:\n",
    "        if abs(num-73) < dist:\n",
    "            dist = abs(num-73)\n",
    "            minnum = num\n",
    "    print(minnum)\n",
    "\n",
    "the_coolest(71,74,75)"
   ]
  },
  {
   "cell_type": "markdown",
   "metadata": {},
   "source": [
    "2.Write a function that asks for an input and then returns the square of that input.  If the input is not a number, the code will clarify and specifically ask for a number and then square that number."
   ]
  },
  {
   "cell_type": "code",
   "execution_count": 2,
   "metadata": {
    "collapsed": true
   },
   "outputs": [],
   "source": [
    "#insert 2 here"
   ]
  },
  {
   "cell_type": "markdown",
   "metadata": {},
   "source": [
    "3.You are entering data for a dating website. Write a function called height_classifier that classifies your height. If you are 6' or above, return 'tall'. If you are less than 6' but greater or equal to 5'6, return 'medium'. If you are less than 5'6'', return \"short.\" \n",
    "\n",
    "Then, write a different function called matchmaker. If you are classified as short, return \"Agnes is interested.\" If you are classified as medium, return \"Bertha is interested.\" If you are classified as tall, return \"Helga is interested.\"\n",
    "\n",
    "Combine these functions so that when a person enters their height it spits out their prospective suitor."
   ]
  },
  {
   "cell_type": "code",
   "execution_count": null,
   "metadata": {
    "collapsed": true
   },
   "outputs": [],
   "source": [
    "#insert 3"
   ]
  },
  {
   "cell_type": "markdown",
   "metadata": {},
   "source": [
    "4.Write a function called student_data that takes in a student's first and last name. In addition, it may accept additional arguments of the student's email address and advisor. It can also take in a student's list of sports. Use .format notation. For example, your output may look like:\n",
    "\n",
    "Student first name: Jack\n",
    "\n",
    "Student last name: Black\n",
    "\n",
    "Email address: jackblack@oes.edu\n",
    "\n",
    "Advisor: Lauren Shareshian\n",
    "\n",
    "Jack plays soccer.\n",
    "\n",
    "Jack plays basketball.\n",
    "\n",
    "Jack plays tennis.\n",
    "\n",
    "Student first name: Lara\n",
    "\n",
    "Student last name: Clara\n",
    "\n",
    "Clara plays cross country.\n"
   ]
  },
  {
   "cell_type": "code",
   "execution_count": 3,
   "metadata": {
    "collapsed": true
   },
   "outputs": [],
   "source": [
    "#insert 4"
   ]
  },
  {
   "cell_type": "markdown",
   "metadata": {},
   "source": [
    "5.Write a function called prime that takes in a user's number and determines if it is prime. If it finds a divisor of that prime then it should break out of the program and print \"Your number is not prime.\""
   ]
  },
  {
   "cell_type": "code",
   "execution_count": 4,
   "metadata": {
    "collapsed": true
   },
   "outputs": [],
   "source": [
    "#insert 5"
   ]
  },
  {
   "cell_type": "markdown",
   "metadata": {},
   "source": [
    "6.Write a program that takes in a user's lower and upper number and returns all primes between those numbers. It should break out of the loop if it finds a divisor of the current prime number in question, but it should not break out of the entire program."
   ]
  },
  {
   "cell_type": "code",
   "execution_count": 5,
   "metadata": {
    "collapsed": true
   },
   "outputs": [],
   "source": [
    "#insert 6"
   ]
  },
  {
   "cell_type": "markdown",
   "metadata": {},
   "source": [
    "7.A class has a list of names, names = ['Lauren', 'Paul', 'James', 'Ryan', 'Mary', 'Betsy], and the list of times they walked into class, times = [7.57, 7.59, 7.59, 8.00, 8.02, 8.05]. Write a function called class_roll that reads through the list of names. If the student got there at 8:00 am or before, print the name. If the student arrived after 8:00 am, use the continue method to not print the name but instead print \"You're late!\""
   ]
  },
  {
   "cell_type": "code",
   "execution_count": 6,
   "metadata": {
    "collapsed": true
   },
   "outputs": [],
   "source": [
    "#insert 7"
   ]
  },
  {
   "cell_type": "markdown",
   "metadata": {},
   "source": [
    "8.Write a function called paragraph_splitter that takes a paragraph and splits it into sentences using the '.' delimiter. Write a function called sentence_splitter that splits a single sentence into a list of words. Write a function called capitalizer that capitalizes the first letter of each word in a list of words and returns it as a sentence. Print the sentences in this capitalized form."
   ]
  },
  {
   "cell_type": "code",
   "execution_count": 13,
   "metadata": {},
   "outputs": [
    {
     "name": "stdout",
     "output_type": "stream",
     "text": [
      "You Are The Best\n",
      "I Am The Best\n",
      "Maeby Is The Best\n"
     ]
    }
   ],
   "source": [
    "def paragraph_splitter(paragraph):\n",
    "    return paragraph.split('.')\n",
    "def sentence_splitter(sentence):\n",
    "    return sentence.split()\n",
    "def capitalizer(words):\n",
    "    for i in range(len(words)):\n",
    "        words[i]=words[i].title()\n",
    "    return ' '.join(words)\n",
    "paragraph = 'you are the best. I am the best. Maeby is the best'\n",
    "sentences = paragraph_splitter(paragraph)\n",
    "for sentence in sentences:\n",
    "    print(capitalizer(sentence_splitter(sentence)))"
   ]
  },
  {
   "cell_type": "markdown",
   "metadata": {
    "collapsed": true
   },
   "source": [
    "Write a function called plotter that takes in the minimum, maximum, and step size on the x-axis on which you want a function plotted. It should also take in a function - use np.sqrt and np.sin as examples. The plotter should then plot the graph over that interval."
   ]
  },
  {
   "cell_type": "code",
   "execution_count": 1,
   "metadata": {},
   "outputs": [
    {
     "data": {
      "image/png": "[encoded data removed]",
      "text/plain": [
       "<matplotlib.figure.Figure at 0x107b81828>"
      ]
     },
     "metadata": {},
     "output_type": "display_data"
    }
   ],
   "source": [
    "import matplotlib.pyplot as plt\n",
    "%matplotlib inline\n",
    "import numpy as np\n",
    "\n",
    "def plotter(func, num1, num2, num3):\n",
    "    x = np.arange(num1,num2,num3)\n",
    "    y=func(x)\n",
    "    plt.plot(x,y,'.');\n",
    "plotter(np.sin, 0, 10, 0.5)"
   ]
  },
  {
   "cell_type": "code",
   "execution_count": null,
   "metadata": {
    "collapsed": true
   },
   "outputs": [],
   "source": []
  }
 ],
 "metadata": {
  "kernelspec": {
   "display_name": "Python 3",
   "language": "python",
   "name": "python3"
  },
  "language_info": {
   "codemirror_mode": {
    "name": "ipython",
    "version": 3
   },
   "file_extension": ".py",
   "mimetype": "text/x-python",
   "name": "python",
   "nbconvert_exporter": "python",
   "pygments_lexer": "ipython3",
   "version": "3.6.0"
  }
 },
 "nbformat": 4,
 "nbformat_minor": 2
}
