{
 "cells": [
  {
   "cell_type": "markdown",
   "metadata": {},
   "source": [
    "# Unit 9 Problem Set, Part 1\n",
    "\n",
    "In this problem set we will build a set of classes that will be used to play the card game, Blackjack. If you have never played, then you can find the simple rules here: https://www.bicyclecards.com/how-to-play/blackjack/\n"
   ]
  },
  {
   "cell_type": "markdown",
   "metadata": {},
   "source": [
    "## The Card class"
   ]
  },
  {
   "cell_type": "markdown",
   "metadata": {},
   "source": [
    "Think about a deck of cards. What do you need to know in order to tell one card from another? \n",
    "\n",
    "There are thirteen different ranks, from Ace to King. There are four different suits: Clubs, Diamonds, Hearts, and Spades. So, to know everything about a single card you need its rank and its suit. In card games, such as blackjack, where the cards are worth a certain number of points, it is also helpful to have a third variable, called value that is an integer related to a card's rank.\n",
    "\n",
    "Create a class named Card. Include three attributes, rank and suit (both strings) and value (int), as well as methods for getting the attributes, use the names getRank(), getSuit(), and getValue(). Don't forget the initializing (__init__) and the toString (__str__) methods."
   ]
  },
  {
   "cell_type": "code",
   "execution_count": null,
   "metadata": {
    "collapsed": true
   },
   "outputs": [],
   "source": []
  },
  {
   "cell_type": "markdown",
   "metadata": {},
   "source": [
    "Now test that you can create a few cards. Make several instances of different cards: try Ace of Spades and Eight of Hearts. Make sure that your getter and toString methods work. Note that c.getRank() and c.rank should give you the exact same outputs."
   ]
  },
  {
   "cell_type": "code",
   "execution_count": null,
   "metadata": {
    "collapsed": true
   },
   "outputs": [],
   "source": []
  },
  {
   "cell_type": "markdown",
   "metadata": {},
   "source": [
    "## The Deck class"
   ]
  },
  {
   "cell_type": "markdown",
   "metadata": {},
   "source": [
    "A typical deck of cards has one of each rank in one of each suit, for a total of 52 cards. The attribute of our Deck class will be a single list of Card objects or instances. That means, you will need to send three lists to the initializing method: ranks, suits, and values. Then use a double for-loop to create the Cards (by calling the initializing method of the Card Class) and add them to the list. Consider testing this part before moving on to writing the methods. To help, here are three lists that you can use in your coding below:\n",
    "\n",
    "ranks = ['Two','Three','Four','Five','Six','Seven','Eight','Nine','Ten','Jack','Queen','King','Ace']\n",
    "\n",
    "suits = ['Clubs', 'Diamonds', 'Hearts', 'Spades']\n",
    "\n",
    "values = [2,3,4,5,6,7,8,9,10,10,10,10,11]\n",
    "\n",
    "One obvious method that you will need is a shuffle() method. This method should reorder the deck randomly. \n",
    "\n",
    "Finally, create a method called get_top_card(). This method should return the card with index 0, and remove it from the deck. "
   ]
  },
  {
   "cell_type": "code",
   "execution_count": null,
   "metadata": {
    "collapsed": true
   },
   "outputs": [],
   "source": []
  },
  {
   "cell_type": "markdown",
   "metadata": {},
   "source": [
    "Use the cell below to test your deck method. Create a deck and test your methods. Hint: check the length of your deck to make sure that the get_top_card method is removing a card from the deck. "
   ]
  },
  {
   "cell_type": "code",
   "execution_count": null,
   "metadata": {
    "collapsed": true
   },
   "outputs": [],
   "source": []
  },
  {
   "cell_type": "markdown",
   "metadata": {},
   "source": [
    "## The Blackjack class"
   ]
  },
  {
   "cell_type": "markdown",
   "metadata": {},
   "source": [
    "When a 'single' program is built from several classes, it is common to have a runner class that is not intended to create objects. We will name our runner class, Blackjack. Since we will not be creating instances of this class, we do not need an initializing method. We will need methods as follows (notice that they are named so that anyone will know what they do): player_turn(), computer_turn(), deal(), hand_value(), check_bust(), check_blackjack(), find_winner(), and finally a main method to control the order of when methods will be called. See below for an outline of the main method. Your job is to finish the main and write the rest of the methods."
   ]
  },
  {
   "cell_type": "code",
   "execution_count": 2,
   "metadata": {},
   "outputs": [],
   "source": [
    "class Blackjack:\n",
    "        \n",
    "        def deal(self, deck, tally):\n",
    "            pass\n",
    "        \n",
    "        def check_bust(self, tally):\n",
    "            pass\n",
    "        \n",
    "        def check_blackjack(self, tally):\n",
    "            pass\n",
    "            \n",
    "        #player method\n",
    "        def player_turn(self, deck, player_sum):\n",
    "            pass\n",
    "        \n",
    "        #computer method\n",
    "        def computer_turn(self, deck, comp_sum):\n",
    "            pass\n",
    "        \n",
    "        def find_winner(self, player_sum, comp_sum):\n",
    "            pass\n",
    "        \n",
    "        def main(self):\n",
    "        \n",
    "            game = Blackjack()\n",
    "            \n",
    "            #create a deck object\n",
    "            ranks = ['Two','Three','Four','Five','Six','Seven','Eight','Nine','Ten','Jack','Queen','King','Ace']\n",
    "            suits = ['Clubs', 'Diamonds', 'Hearts', 'Spades']\n",
    "            values = [2,3,4,5,6,7,8,9,10,10,10,10,11]\n",
    "#            need stuff\n",
    "\n",
    "\n",
    "\n",
    "\n",
    "            #deal the first four cards\n",
    "#            need stuff\n",
    "\n",
    "#           player turn\n",
    "#            need stuff\n",
    "\n",
    "#           computer turn\n",
    "#            need stuff\n",
    "\n",
    "#           find winner\n",
    "#            need stuff\n",
    "        \n"
   ]
  },
  {
   "cell_type": "code",
   "execution_count": 4,
   "metadata": {},
   "outputs": [],
   "source": [
    "#use this cell to run your program\n",
    "if __name__ == '__main__':\n",
    "    Blackjack().main()"
   ]
  },
  {
   "cell_type": "code",
   "execution_count": null,
   "metadata": {
    "collapsed": true
   },
   "outputs": [],
   "source": []
  }
 ],
 "metadata": {
  "kernelspec": {
   "display_name": "Python 3",
   "language": "python",
   "name": "python3"
  },
  "language_info": {
   "codemirror_mode": {
    "name": "ipython",
    "version": 3
   },
   "file_extension": ".py",
   "mimetype": "text/x-python",
   "name": "python",
   "nbconvert_exporter": "python",
   "pygments_lexer": "ipython3",
   "version": "3.6.5"
  }
 },
 "nbformat": 4,
 "nbformat_minor": 2
}
