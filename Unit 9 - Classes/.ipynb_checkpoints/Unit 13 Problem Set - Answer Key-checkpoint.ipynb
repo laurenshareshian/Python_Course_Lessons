{
 "cells": [
  {
   "cell_type": "markdown",
   "metadata": {},
   "source": [
    "# Unit 13 Problem Set\n",
    "\n",
    "In this problem set we will build a set of classes that will be used to play the card game, Blackjack. If you have never played, then you can find the simple rules here: https://en.wikipedia.org/wiki/Blackjack\n"
   ]
  },
  {
   "cell_type": "markdown",
   "metadata": {},
   "source": [
    "## The Card class"
   ]
  },
  {
   "cell_type": "markdown",
   "metadata": {},
   "source": [
    "Think about a deck of cards. What do you need to know in order to tell one card from another? \n",
    "\n",
    "There are thirteen different ranks, from Ace to King. There are four different suits: Clubs, Diamonds, Hearts, and Spades. So, to know everything about a single card you need its rank and its suit. In card games, such as blackjack, where the cards are worth a certain number of points, it is also helpful to have a third variable, called value that is an integer related to a cards rank.\n",
    "\n",
    "Create a class named Card. Include three attributes, rank and suit (both strings) and value (int), as well as methods for getting the attributes, use the names getRank(), getSuit(), and getValue(). Don't forget the initializing (__init__) and the toString (__str__) methods."
   ]
  },
  {
   "cell_type": "code",
   "execution_count": 1,
   "metadata": {
    "collapsed": true
   },
   "outputs": [],
   "source": [
    "class Card:\n",
    "    def __init__(self,rank,suit,value):\n",
    "        self.rank = rank\n",
    "        self.suit = suit\n",
    "        self.value = value\n",
    "    \n",
    "    def getRank(self):\n",
    "        return self.rank\n",
    "    \n",
    "    def getSuit(self):\n",
    "        return self.suit   \n",
    "\n",
    "    def getValue(self):\n",
    "        return self.value\n",
    "    \n",
    "    def __str__(self):\n",
    "        return 'Your card is a {} {} with value {}.'.format(self.rank,self.suit,self.value)\n"
   ]
  },
  {
   "cell_type": "markdown",
   "metadata": {},
   "source": [
    "Now test that you can create a few cards. Make several instances of different cards: try Ace of Spades and Eight of Hearts. Make sure that your getter and toString methods work. When everything works, comment out each line of your test so that we can run all cells later without redoing the test."
   ]
  },
  {
   "cell_type": "code",
   "execution_count": null,
   "metadata": {
    "collapsed": true
   },
   "outputs": [],
   "source": [
    "c = Card('Ace', 'Hearts', 10)\n",
    "print(c)\n",
    "print(c.getRank())\n",
    "print(c.rank)"
   ]
  },
  {
   "cell_type": "markdown",
   "metadata": {},
   "source": [
    "## The Deck class"
   ]
  },
  {
   "cell_type": "markdown",
   "metadata": {},
   "source": [
    "A typical deck of cards has one of each rank in one of each suit, for a total of 52 cards. The attribute of our Deck class will be a single list of Card objects or instances. That means, you will need to send three lists to the initializing method: ranks, suits, and values. Then use a double for-loop to create the Cards (by calling the initializing method of the Card Class) and add them to the list. Consider testing this part before moving on to writing the methods. To help, here are three lists that you can use in your coding below:\n",
    "ranks = ['Two','Three','Four','Five','Six','Seven','Eight','Nine','Ten','Jack','Queen','King','Ace']\n",
    "suits = ['Clubs', 'Diamonds', 'Hearts', 'Spades']\n",
    "values = [2,3,4,5,6,7,8,9,10,10,10,10,11]\n",
    "\n",
    "One obvious method that you will need is a shuffle() method. This method should reorder the deck randomly. There are many ways to do this, the simplest is to go through the deck one card at a time and trade places with a random location. Again, test this once you are finished.\n",
    "\n",
    "Finally, create a method called get_top_card(). This method should return the card with index 0, and remove it from the deck. Test this once you are finished."
   ]
  },
  {
   "cell_type": "code",
   "execution_count": 2,
   "metadata": {
    "collapsed": true
   },
   "outputs": [],
   "source": [
    "import random\n",
    "\n",
    "class Deck:\n",
    "    def __init__(self,ranks,suits,values):\n",
    "        cardlist = []\n",
    "        for suit in suits:\n",
    "            for rank in ranks:\n",
    "                cardlist.append(Card(suit,rank, values[ranks.index(rank)]))\n",
    "                self.cardlist = cardlist\n",
    "                \n",
    "    def shuffle(self):\n",
    "        random.shuffle(self.cardlist)\n",
    "        return self.cardlist\n",
    "    \n",
    "    def get_top_card(self):\n",
    "        return self.cardlist.pop(0)\n",
    "                                      \n",
    "ranks = ['Two','Three','Four','Five','Six','Seven','Eight','Nine','Ten','Jack','Queen','King','Ace']\n",
    "suits = ['Clubs', 'Diamonds', 'Hearts', 'Spades']\n",
    "values = [2,3,4,5,6,7,8,9,10,10,10,10,11]\n"
   ]
  },
  {
   "cell_type": "markdown",
   "metadata": {},
   "source": [
    "Use the cell below to test your deck method. Create a deck and test your methods. Hint: check the length of your deck to make sure that the get_top_card method is removing a card from the deck. When it works, comment out each line of your test again."
   ]
  },
  {
   "cell_type": "code",
   "execution_count": 38,
   "metadata": {},
   "outputs": [
    {
     "name": "stdout",
     "output_type": "stream",
     "text": [
      "7 Spades Seven\n",
      "51\n"
     ]
    }
   ],
   "source": [
    "deck = Deck(ranks,suits,values)\n",
    "deck.shuffle()\n",
    "card = deck.get_top_card()\n",
    "print(card.value, card.rank, card.suit)\n",
    "print(len(deck.cardlist))"
   ]
  },
  {
   "cell_type": "markdown",
   "metadata": {},
   "source": [
    "## The Blackjack class"
   ]
  },
  {
   "cell_type": "markdown",
   "metadata": {},
   "source": [
    "When a 'single' program is built from several classes, it is common to have a runner class that is not intended to create objects. We will name our runner class, Blackjack. Since we will not be creating instances of this class, we do not need an initializing method. The attributes we will need are a single Deck object, and two lists that correspond to the player's hand and the computer's hand. We will also need methods as follows (notice that they are named so that anyone will know what they do): player_turn(), computer_turn(), deal(), hand_value(), check_bust(), find_winner(), and finally a main method to control the order of when methods will be called. See below for an outline of the main method. Your job is to finish the main and write the rest of the methods."
   ]
  },
  {
   "cell_type": "code",
   "execution_count": 59,
   "metadata": {},
   "outputs": [
    {
     "name": "stdout",
     "output_type": "stream",
     "text": [
      "Six of Clubs\n",
      "Queen of Spades\n",
      "Nine of Spades\n",
      "King of Clubs\n",
      "---player turn---\n",
      "player count 15\n",
      "Do you want another card? y/n: n\n",
      "---computer turn---\n",
      "Comp wins! Comp: 20 Player: 15\n"
     ]
    }
   ],
   "source": [
    "class Blackjack:\n",
    "        \n",
    "        def deal(self, deck, tally):\n",
    "            card = deck.get_top_card()\n",
    "            print(card.suit, 'of', card.rank)\n",
    "            tally = tally + card.value\n",
    "            return tally\n",
    "        \n",
    "        def check_bust(self, tally):\n",
    "            if tally > 21:\n",
    "                print('Bust!')\n",
    "                return False\n",
    "            else:\n",
    "                return True\n",
    "        \n",
    "        def check_blackjack(self, tally):\n",
    "            if tally == 21:\n",
    "                print('Blackjack!')\n",
    "                return False\n",
    "            else:\n",
    "                return True\n",
    "            \n",
    "        #player method\n",
    "        def player_turn(self, deck, player_sum):\n",
    "            print('---player turn---')\n",
    "            if self.check_blackjack(player_sum) == False:\n",
    "                play = False\n",
    "            else:\n",
    "                play = True\n",
    "                \n",
    "            while play == True:\n",
    "                print('player count', player_sum)\n",
    "                ask = input('Do you want another card? y/n: ')\n",
    "                if ask == 'y':\n",
    "                    player_sum = self.deal(deck, player_sum)\n",
    "                    if self.check_blackjack(player_sum) == False or self.check_bust(player_sum) == False:\n",
    "                        play = False\n",
    "                else:\n",
    "                    play = False\n",
    "            return player_sum\n",
    "        #computer method\n",
    "        def computer_turn(self, deck, comp_sum):\n",
    "            print('---computer turn---')\n",
    "            self.check_blackjack(comp_sum)\n",
    "            while comp_sum <= 16:\n",
    "                comp_sum = self.deal(deck,comp_sum)\n",
    "                print('computer', comp_sum)\n",
    "                if self.check_blackjack(comp_sum) == False or self.check_bust(comp_sum) == False:\n",
    "                    break\n",
    "                if comp_sum >=17:\n",
    "                    break\n",
    "            return comp_sum\n",
    "        \n",
    "        def find_winner(self, player_sum, comp_sum):\n",
    "            if 21 >= comp_sum > player_sum:\n",
    "                    print('Comp wins!', 'Comp:', comp_sum, 'Player:', player_sum)\n",
    "            elif 21 >= player_sum > comp_sum:\n",
    "                    print('Player wins!', 'Comp:', comp_sum, 'Player:', player_sum)\n",
    "            elif player_sum == comp_sum <=21:\n",
    "                print('Tie!', 'Comp:', comp_sum, 'Player:', player_sum)\n",
    "            elif player_sum > 21:\n",
    "                print('Comp wins!', 'Comp:', comp_sum, 'Player:', player_sum)\n",
    "            else:\n",
    "                print('Player wins!', 'Comp:', comp_sum, 'Player:', player_sum)\n",
    "          \n",
    "        def main(self):\n",
    "        \n",
    "            game = Blackjack()\n",
    "            \n",
    "            #create a deck object\n",
    "            ranks = ['Two','Three','Four','Five','Six','Seven','Eight','Nine','Ten','Jack','Queen','King','Ace']\n",
    "            suits = ['Clubs', 'Diamonds', 'Hearts', 'Spades']\n",
    "            values = [2,3,4,5,6,7,8,9,10,10,10,10,11]\n",
    "            deck = Deck(ranks, suits, values)\n",
    "            deck.shuffle()\n",
    "\n",
    "            #deal the first four cards\n",
    "            player_sum = 0\n",
    "            comp_sum = 0\n",
    "            player_sum = game.deal(deck, player_sum)\n",
    "            comp_sum = game.deal(deck, comp_sum)\n",
    "            player_sum = game.deal(deck, player_sum)\n",
    "            comp_sum = game.deal(deck, comp_sum)\n",
    "\n",
    "#           player turn\n",
    "            player_sum = game.player_turn(deck, player_sum)\n",
    "\n",
    "\n",
    "#           computer turn\n",
    "            if player_sum <= 21:\n",
    "                 comp_sum = game.computer_turn(deck, comp_sum)\n",
    "\n",
    "#           find winner\n",
    "            game.find_winner(player_sum, comp_sum)\n",
    "        \n",
    "if __name__ == '__main__':\n",
    "    Blackjack().main()"
   ]
  },
  {
   "cell_type": "code",
   "execution_count": null,
   "metadata": {
    "collapsed": true
   },
   "outputs": [],
   "source": []
  },
  {
   "cell_type": "code",
   "execution_count": null,
   "metadata": {
    "collapsed": true
   },
   "outputs": [],
   "source": []
  }
 ],
 "metadata": {
  "kernelspec": {
   "display_name": "Python 3",
   "language": "python",
   "name": "python3"
  },
  "language_info": {
   "codemirror_mode": {
    "name": "ipython",
    "version": 3
   },
   "file_extension": ".py",
   "mimetype": "text/x-python",
   "name": "python",
   "nbconvert_exporter": "python",
   "pygments_lexer": "ipython3",
   "version": "3.6.0"
  }
 },
 "nbformat": 4,
 "nbformat_minor": 2
}
