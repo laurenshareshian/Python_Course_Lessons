{
 "cells": [
  {
   "cell_type": "markdown",
   "metadata": {},
   "source": [
    "Contents\n",
    "---\n",
    "- [Classes](#classes)\n",
    "- [More classes](#moreclasses)\n",
    "- [Terminology](#terminology)\n",
    "- [Subclasses](#subclasses)\n",
    "- [Decorators](#decorators)\n",
    "- [Args and Kwargs](#args)"
   ]
  },
  {
   "cell_type": "markdown",
   "metadata": {},
   "source": [
    "Classes\n",
    "---\n",
    "<a class=\"anchor\" id=\"classes\"></a>\n",
    "The following lesson is edited from lessons from two Pythonistas, Jess Hamrick and Diane Chen.\n"
   ]
  },
  {
   "cell_type": "markdown",
   "metadata": {},
   "source": [
    "### Instances \n",
    "\n",
    "Data structures like lists and strings are extremely useful, but sometimes they aren’t enough to represent something you’re trying to implement. For example, let’s say we needed to keep track of a bunch of pets. We could represent a pet using a list by specifying the first element of the list as the pet’s name and the second element of the list as the pet’s species. This is very arbitrary and nonintuitive, however – how do you know which element is supposed to be which?\n",
    "\n",
    "Classes give us the ability to create more complicated data structures that contain arbitrary content. We can create a Pet class that keeps track of the name and species of the pet in usefully named attributes called name and species, respectively.\n",
    "\n",
    "Before we get into creating a class itself, we need to understand an important distinction. A class is something that just contains structure – it defines how something should be laid out or structured, but doesn’t actually fill in the content. For example, a Pet class may say that a pet needs to have a name and a species, but it will not actually say what the pet’s name or species is.\n",
    "\n",
    "This is where instances come in. An instance is a specific copy of the class that does contain all of the content. For example, if I create a pet polly, with name \"Polly\" and species \"Parrot\", then polly is an instance of Pet.\n",
    "\n",
    "This can sometimes be a very difficult concept to master, so let’s look at it from another angle. Let’s say that the government has a particular tax form that it requires everybody to fill out. Everybody has to fill out the same type of form, but the content that people put into the form differs from person to person. A class is like the form: it specifies what content should exist. Your copy of the form with your specific information if like an instance of the class: it specifies what the content actually is.\n",
    "\n",
    "\n",
    "Now that we have an idea of what a class is and what the difference between a class and an instance is, let’s look at a real class. Examine the following code carefully:"
   ]
  },
  {
   "cell_type": "code",
   "execution_count": 1,
   "metadata": {},
   "outputs": [],
   "source": [
    "class Pet:\n",
    "    \n",
    "    def __init__(self, name, species):\n",
    "        self.name = name\n",
    "        self.species = species\n",
    "    \n",
    "    def getName(self):\n",
    "        return self.name\n",
    "    \n",
    "    def getSpecies(self):\n",
    "        return self.species\n",
    "    \n",
    "    def __str__(self):\n",
    "        return f\"{self.name} is a {self.species}\"\n",
    "    \n",
    "polly = Pet(\"Polly\", \"Parrot\")"
   ]
  },
  {
   "cell_type": "markdown",
   "metadata": {},
   "source": [
    "Let's go through all of the lines in the Pet code above carefully.\n",
    "\n",
    "### Line 1\n",
    "\n",
    "This is the basic line for creating a class. The first word, class, indicates that we are creating a class. The second word, Pet, indicates the name of the class. Notice that the names of classes are ALWAYS capitalized, and that variables always start with a lowercase letter. This is so a programmer can easily tell the two apart. \n",
    "\n",
    "The print statement below lets us know that Pet is a __class__."
   ]
  },
  {
   "cell_type": "code",
   "execution_count": 2,
   "metadata": {},
   "outputs": [
    {
     "name": "stdout",
     "output_type": "stream",
     "text": [
      "<class '__main__.Pet'>\n"
     ]
    }
   ],
   "source": [
    "print(Pet)"
   ]
  },
  {
   "cell_type": "markdown",
   "metadata": {},
   "source": [
    "### Lines 3-5\n",
    "\n",
    "When we create a new pet, we need to initialize (that is, specify) it with a name and a species. The __init__ method (method is just a special term for functions that are part of a class) is a special Python function that is called when an instance of a class is first created. For example, when running the code ```polly = Pet(\"Polly\", \"Parrot\")```, the __init__ method is called with values polly, \"Polly\", and \"Parrot\" for the variables self, name, and species, respectively.\n",
    "\n",
    "The self variable is the instance of the class. Remember that instances have the structure of the class but that the values within an instance may vary from instance to instance. So, we want to specify that our instance (self) has different values in it than some other possible instance. That is why we say ```self.name = name``` instead of ```Pet.name = name```.\n",
    "\n",
    "You might have noticed that the __init__ method (as well as other methods in the Pet class) have this self variable, but that when you call the method (e.g. polly = Pet(\"Polly\", \"Parrot\")), you only have to pass in two values. Why don’t we have to pass in the self parameter? This phenomena is a special behavior of Python: when you call a method of an instance, Python automatically figures out what self should be (from the instance) and passes it to the function. In the case of __init__, Python first creates self and then passes it in. We’ll talk a little bit more about this below when we discuss the getName and getSpecies methods.\n",
    "\n",
    "You can print out Polly's, __attributes__, name and species,  by typing:"
   ]
  },
  {
   "cell_type": "code",
   "execution_count": 7,
   "metadata": {},
   "outputs": [
    {
     "name": "stdout",
     "output_type": "stream",
     "text": [
      "Polly\n",
      "Parrot\n"
     ]
    }
   ],
   "source": [
    "polly = Pet(\"Polly\", \"Parrot\")\n",
    "print(polly.name)\n",
    "print(polly.species)"
   ]
  },
  {
   "cell_type": "markdown",
   "metadata": {},
   "source": [
    "### Lines 7-11\n",
    "\n",
    "We can also define methods to get the contents of the instance. The getName method takes an instance of a Pet as a parameter and looks up the pet’s name. Similarly, the getSpecies method takes an instance of a Pet as a parameter and looks up the pet’s species. Again, we require the self parameter so that the function knows which instance of Pet to operate on: it needs to be able to find out the content.\n",
    "\n",
    "As mentioned before, we don’t actually have to pass in the self parameter because Python automatically figures it out. To make it a little bit clearer as to what is going on, we can look at two different ways of calling getName. The first way is the standard way of doing it: polly.getName(). The second, while not conventional, is equivalent: Pet.getName(polly). Note how in the second example we had to pass in the instance because we did not call the method via the instance. Python can’t figure out what the instance is if it doesn’t have any information about it.\n",
    "\n",
    "In the code below, Python tells us that getSpecies is a __method__ of the class Pet:\n"
   ]
  },
  {
   "cell_type": "code",
   "execution_count": 25,
   "metadata": {},
   "outputs": [
    {
     "name": "stdout",
     "output_type": "stream",
     "text": [
      "<bound method Pet.getSpecies of <__main__.Pet object at 0x1090e95c0>>\n"
     ]
    }
   ],
   "source": [
    "print(polly.getSpecies)"
   ]
  },
  {
   "cell_type": "markdown",
   "metadata": {},
   "source": [
    "We can also tell that getSpecies is a method from its type:"
   ]
  },
  {
   "cell_type": "code",
   "execution_count": 26,
   "metadata": {},
   "outputs": [
    {
     "name": "stdout",
     "output_type": "stream",
     "text": [
      "<class 'method'>\n"
     ]
    }
   ],
   "source": [
    "print(type(polly.getSpecies))"
   ]
  },
  {
   "cell_type": "markdown",
   "metadata": {},
   "source": [
    "Both statements below are equivalent ways of having Python tell us that Polly's species is a Parrot."
   ]
  },
  {
   "cell_type": "code",
   "execution_count": 9,
   "metadata": {},
   "outputs": [
    {
     "name": "stdout",
     "output_type": "stream",
     "text": [
      "Parrot\n",
      "Parrot\n"
     ]
    }
   ],
   "source": [
    "print(polly.getSpecies())\n",
    "print(Pet.getSpecies(polly))"
   ]
  },
  {
   "cell_type": "markdown",
   "metadata": {},
   "source": [
    "Notice that in the lines above, polly.getSpecies versus polly.getSpecies() outputs very different looking things...whenever you get something that you don't expect in this chapter, it's worth asking yourself...did I forget parenthesis?"
   ]
  },
  {
   "cell_type": "markdown",
   "metadata": {},
   "source": [
    "### Lines 13-14\n",
    "\n",
    "This __str__ method (often called toString) is a special function that is defined for all classes in Python (you have have noticed that methods beginning and ending with a double underscore are special). You can specify your own version of any built-in method, known as overriding the method. By overriding the __str__ method specifically, we can define the behavior when we try to print an instance of the Pet class using the print keyword.\n"
   ]
  },
  {
   "cell_type": "markdown",
   "metadata": {},
   "source": [
    "\"Polly is a Parrot\" or something similar will get printed whenever we print an instance of the Pet class due to what we defined in the __str__ method."
   ]
  },
  {
   "cell_type": "code",
   "execution_count": 5,
   "metadata": {},
   "outputs": [
    {
     "name": "stdout",
     "output_type": "stream",
     "text": [
      "Polly is a Parrot\n"
     ]
    }
   ],
   "source": [
    "print(polly)"
   ]
  },
  {
   "cell_type": "markdown",
   "metadata": {},
   "source": [
    "We can also define other pets and view their outputs:"
   ]
  },
  {
   "cell_type": "code",
   "execution_count": 6,
   "metadata": {},
   "outputs": [
    {
     "name": "stdout",
     "output_type": "stream",
     "text": [
      "Cat\n",
      "Ginger\n",
      "Ginger is a Cat\n",
      "Dog\n",
      "Clifford\n",
      "Clifford is a Dog\n"
     ]
    }
   ],
   "source": [
    "ginger = Pet(\"Ginger\", \"Cat\")\n",
    "print(ginger.getSpecies())\n",
    "print(ginger.getName())\n",
    "print(ginger)\n",
    "\n",
    "clifford = Pet(\"Clifford\", \"Dog\")\n",
    "print(clifford.getSpecies())\n",
    "print(clifford.getName())\n",
    "print(clifford)"
   ]
  },
  {
   "cell_type": "markdown",
   "metadata": {},
   "source": [
    "Let's do another example of a class. Let's make a point class, where we take in a point and the x and y coordinates are attributes of the point:"
   ]
  },
  {
   "cell_type": "code",
   "execution_count": 7,
   "metadata": {
    "collapsed": true
   },
   "outputs": [],
   "source": [
    "class Point:\n",
    "    def __init__(self,x,y):\n",
    "        self.x = x\n",
    "        self.y = y"
   ]
  },
  {
   "cell_type": "markdown",
   "metadata": {},
   "source": [
    "Now let's create an instance and prints the instance's attributes, x and y:"
   ]
  },
  {
   "cell_type": "code",
   "execution_count": 8,
   "metadata": {},
   "outputs": [
    {
     "name": "stdout",
     "output_type": "stream",
     "text": [
      "1\n",
      "2\n"
     ]
    }
   ],
   "source": [
    "p = Point(1,2)\n",
    "print(p.x)\n",
    "print(p.y)"
   ]
  },
  {
   "cell_type": "markdown",
   "metadata": {},
   "source": [
    "Notice what happens if we just print the instance P:"
   ]
  },
  {
   "cell_type": "code",
   "execution_count": 9,
   "metadata": {},
   "outputs": [
    {
     "name": "stdout",
     "output_type": "stream",
     "text": [
      "<__main__.Point object at 0x1111bd048>\n"
     ]
    }
   ],
   "source": [
    "print(p)"
   ]
  },
  {
   "cell_type": "markdown",
   "metadata": {},
   "source": [
    "If we add a __str__ method, we can override this printout:"
   ]
  },
  {
   "cell_type": "code",
   "execution_count": 11,
   "metadata": {
    "collapsed": true
   },
   "outputs": [],
   "source": [
    "class Point:\n",
    "    def __init__(self,x,y):\n",
    "        self.x = x\n",
    "        self.y = y\n",
    "        \n",
    "    def __str__(self): \n",
    "        return f'Point {self.x},{self.y}'"
   ]
  },
  {
   "cell_type": "code",
   "execution_count": 12,
   "metadata": {},
   "outputs": [
    {
     "name": "stdout",
     "output_type": "stream",
     "text": [
      "Point 1,2\n"
     ]
    }
   ],
   "source": [
    "p = Point(1,2)\n",
    "print(p)"
   ]
  },
  {
   "cell_type": "markdown",
   "metadata": {},
   "source": [
    "We can make a get_magnitude method that finds the magnitude of the point:"
   ]
  },
  {
   "cell_type": "code",
   "execution_count": 13,
   "metadata": {},
   "outputs": [
    {
     "name": "stdout",
     "output_type": "stream",
     "text": [
      "5.0\n"
     ]
    }
   ],
   "source": [
    "import math\n",
    "\n",
    "class Point:\n",
    "    def __init__(self,x,y):\n",
    "        self.x = x\n",
    "        self.y = y\n",
    "\n",
    "    def get_magnitude(self):\n",
    "        return math.sqrt(self.x**2+self.y**2)\n",
    "    \n",
    "    def __str__(self): \n",
    "        return f'Point {self.x},{self.y}'\n",
    "    \n",
    "p = Point(3,4)\n",
    "print(p.get_magnitude())"
   ]
  },
  {
   "cell_type": "markdown",
   "metadata": {},
   "source": [
    "Note that we didn't need to put anything inside the parenthesis when we calculated p.get_magnitude(). This should remind you of the methods list.sort(), string.split(), and string.upper() that you've been using all year!!! There are many methods that don't require any additional input. You can see below some built-in methods to lists, strings, and dictionaries that you are familiar with:"
   ]
  },
  {
   "cell_type": "code",
   "execution_count": 34,
   "metadata": {},
   "outputs": [
    {
     "name": "stdout",
     "output_type": "stream",
     "text": [
      "<method 'sort' of 'list' objects>\n",
      "<method 'split' of 'str' objects>\n",
      "<method 'upper' of 'str' objects>\n",
      "<method 'items' of 'dict' objects>\n"
     ]
    }
   ],
   "source": [
    "print(list.sort)\n",
    "print(str.split)\n",
    "print(str.upper)\n",
    "print(dict.items)"
   ]
  },
  {
   "cell_type": "markdown",
   "metadata": {},
   "source": [
    "### Classes Intro Exercises\n",
    "\n",
    "### Exercise 1- Point\n",
    "Add two methods to the Point class example above called reflection_over_y and reflection_over_x that returns the coordinates of (x,y) reflected over those axes. For example, reflecting (3,4) over the y-axis would return (-3,4)."
   ]
  },
  {
   "cell_type": "code",
   "execution_count": null,
   "metadata": {
    "collapsed": true
   },
   "outputs": [],
   "source": [
    "#insert exercise 1"
   ]
  },
  {
   "cell_type": "markdown",
   "metadata": {},
   "source": [
    "### Exercise 2 - Circle\n",
    "\n",
    "Define a Circle class that takes in a radius. Its two attributes defined inside the init method should be the radius and the area. If you run the following:\n",
    "\n",
    "```python\n",
    "c = Circle(2)\n",
    "\n",
    "print(c)\n",
    "```\n",
    "then it should print:\n",
    "\n",
    "\"Circle of radius 2 and area 12.566370614359172.\""
   ]
  },
  {
   "cell_type": "code",
   "execution_count": null,
   "metadata": {
    "collapsed": true
   },
   "outputs": [],
   "source": [
    "#insert exercise 2"
   ]
  },
  {
   "cell_type": "markdown",
   "metadata": {},
   "source": [
    "### Exercise 3 - Circumference of Circle\n",
    "\n",
    "Add two methods called diameter and circumference to your Circle class that return the diameter and the circumference."
   ]
  },
  {
   "cell_type": "code",
   "execution_count": null,
   "metadata": {
    "collapsed": true
   },
   "outputs": [],
   "source": [
    "#insert exercise 3"
   ]
  },
  {
   "cell_type": "markdown",
   "metadata": {},
   "source": [
    "### Exercise 4 - Student\n",
    "\n",
    "Create a Student class that contains full_name, grade, and gender they identify with (M, F, or Other) as attributes. Override the string method so that prints output in the form \"Jack Doe is in grade 10.\" "
   ]
  },
  {
   "cell_type": "code",
   "execution_count": null,
   "metadata": {
    "collapsed": true
   },
   "outputs": [],
   "source": [
    "#insert exercise 4"
   ]
  },
  {
   "cell_type": "markdown",
   "metadata": {},
   "source": [
    "### Exercise 5 - Student methods \n",
    "Create a method called first_name that returns the student's first name and a method called upperclassmen that returns True if the student is in grade 11 or 12 or False if the student is in grade 9 or 10. Also edit the string method so that instead of printing things in the form \"Jack Doe is in grade 10\" it prints \"Jack is in grade 10\" by using the first_name method inside the string method."
   ]
  },
  {
   "cell_type": "code",
   "execution_count": null,
   "metadata": {
    "collapsed": true
   },
   "outputs": [],
   "source": [
    "#insert exercise 5"
   ]
  },
  {
   "cell_type": "markdown",
   "metadata": {},
   "source": [
    "More Classes\n",
    "---\n",
    "<a class=\"anchor\" id=\"moreclasses\"></a>\n",
    "\n",
    "Let's return to our Point class example and add another method, double, that returns the coordinates stretched by a factor of two, but doesn't change the original point:"
   ]
  },
  {
   "cell_type": "code",
   "execution_count": 14,
   "metadata": {},
   "outputs": [
    {
     "name": "stdout",
     "output_type": "stream",
     "text": [
      "(6, 8)\n",
      "Point 3,4\n"
     ]
    }
   ],
   "source": [
    "import math\n",
    "\n",
    "class Point:\n",
    "    def __init__(self,x,y):\n",
    "        self.x = x\n",
    "        self.y = y\n",
    "\n",
    "    def get_magnitude(self):\n",
    "        return math.sqrt(self.x**2+self.y**2)\n",
    "    \n",
    "    def double(self):\n",
    "        return 2*self.x, 2*self.y\n",
    "    \n",
    "    def __str__(self): \n",
    "        return f'Point {self.x},{self.y}'\n",
    "    \n",
    "p = Point(3,4)\n",
    "print(p.double())\n",
    "print(p)"
   ]
  },
  {
   "cell_type": "markdown",
   "metadata": {},
   "source": [
    "If we wanted the doubling method actually to change the original point, we would edit self.x and self.y WITHIN the double method, instead of just returning them in the return statement:"
   ]
  },
  {
   "cell_type": "code",
   "execution_count": 15,
   "metadata": {},
   "outputs": [
    {
     "name": "stdout",
     "output_type": "stream",
     "text": [
      "(6, 8)\n",
      "Point 6,8\n"
     ]
    }
   ],
   "source": [
    "import math\n",
    "\n",
    "class Point:\n",
    "    def __init__(self,x,y):\n",
    "        self.x = x\n",
    "        self.y = y\n",
    "\n",
    "    def get_magnitude(self):\n",
    "        return math.sqrt(self.x**2+self.y**2)\n",
    "    \n",
    "    def double(self):\n",
    "        self.x = 2*self.x\n",
    "        self.y = 2*self.y\n",
    "        return self.x, self.y\n",
    "    \n",
    "    def __str__(self): \n",
    "        return f'Point {self.x},{self.y}'\n",
    "    \n",
    "p = Point(3,4)\n",
    "print(p.double())\n",
    "print(p)"
   ]
  },
  {
   "cell_type": "markdown",
   "metadata": {},
   "source": [
    "Suppose we want to add a shift method that shifts the point by a given horizontal and vertical distance. Let's do that below."
   ]
  },
  {
   "cell_type": "code",
   "execution_count": 17,
   "metadata": {},
   "outputs": [
    {
     "name": "stdout",
     "output_type": "stream",
     "text": [
      "4 11\n"
     ]
    }
   ],
   "source": [
    "import math\n",
    "\n",
    "class Point:\n",
    "    def __init__(self,x,y):\n",
    "        self.x = x\n",
    "        self.y = y\n",
    "\n",
    "    def get_magnitude(self):\n",
    "        return math.sqrt(self.x**2+self.y**2)\n",
    "\n",
    "    def double(self):\n",
    "        return 2*self.x, 2*self.y\n",
    "    \n",
    "    def shift(self,hor,vert): \n",
    "        self.x = self.x+hor\n",
    "        self.y = self.y+vert\n",
    "        \n",
    "    def __str__(self): \n",
    "        return f'Point {self.x},{self.y}'\n",
    "    \n",
    "p = Point(3,4)\n",
    "p.shift(1,7)\n",
    "print(p.x, p.y)"
   ]
  },
  {
   "cell_type": "markdown",
   "metadata": {},
   "source": [
    "Once again, p.shift(1,7) should remind you of things you have previously done like sorting lists, where you simply put \"mylist.sort()\" on one line instead of \"mylist = mylist.sort()\". Think about the difference between the output of the following print statements:"
   ]
  },
  {
   "cell_type": "code",
   "execution_count": 36,
   "metadata": {},
   "outputs": [
    {
     "name": "stdout",
     "output_type": "stream",
     "text": [
      "Point 4,11\n",
      "None\n"
     ]
    }
   ],
   "source": [
    "p = Point(3,4)\n",
    "p.shift(1,7)\n",
    "print(p)\n",
    "\n",
    "p = p.shift(1,7)\n",
    "print(p)"
   ]
  },
  {
   "cell_type": "markdown",
   "metadata": {},
   "source": [
    "We can think of the shift method above as UPDATING the attributes, x and y, within its method but NOT returning anything. That's why we get \"None\" when we print it. The built-in method list.sort() works the same way. We say that the sort method edits the list \"IN PLACE\"."
   ]
  },
  {
   "cell_type": "markdown",
   "metadata": {},
   "source": [
    "As another example, let's create a unit circle method that returns True if the point is on the unit circle (meaning if its magnitude is equal to 1, and False if it is not. We can use the get_magnitude method within the unit circle method:\n"
   ]
  },
  {
   "cell_type": "code",
   "execution_count": 19,
   "metadata": {},
   "outputs": [
    {
     "name": "stdout",
     "output_type": "stream",
     "text": [
      "1.0\n",
      "True\n"
     ]
    }
   ],
   "source": [
    "import math\n",
    "\n",
    "class Point:\n",
    "    def __init__(self,x,y):\n",
    "        self.x = x\n",
    "        self.y = y\n",
    "\n",
    "    def get_magnitude(self):\n",
    "        return math.sqrt(self.x**2+self.y**2)\n",
    "\n",
    "    def double(self):\n",
    "        return 2*self.x, 2*self.y\n",
    "    \n",
    "    def unit_circle(self):\n",
    "        if self.get_magnitude() == 1:\n",
    "            return True\n",
    "        else:\n",
    "            return False\n",
    "    \n",
    "    def shift(self,hor,vert): \n",
    "        self.x = self.x+hor\n",
    "        self.y = self.y+vert\n",
    "        \n",
    "    def __str__(self): \n",
    "        return f'Point {self.x},{self.y}'\n",
    "    \n",
    "p = Point(0.6, 0.8)\n",
    "print(p.get_magnitude())\n",
    "print(p.unit_circle())"
   ]
  },
  {
   "cell_type": "markdown",
   "metadata": {},
   "source": [
    "Let's add a resultant method that sums the respective coordinates of two points:"
   ]
  },
  {
   "cell_type": "code",
   "execution_count": 20,
   "metadata": {},
   "outputs": [
    {
     "name": "stdout",
     "output_type": "stream",
     "text": [
      "8 11\n",
      "5 7\n"
     ]
    }
   ],
   "source": [
    "import math\n",
    "\n",
    "class Point:\n",
    "    def __init__(self,x,y):\n",
    "        self.x = x\n",
    "        self.y = y\n",
    "\n",
    "    def get_magnitude(self):\n",
    "        return math.sqrt(self.x**2+self.y**2)\n",
    "\n",
    "    def double(self):\n",
    "        return 2*self.x, 2*self.y\n",
    "    \n",
    "    def shift(self,hor,vert): \n",
    "        self.x = self.x+hor\n",
    "        self.y = self.y+vert\n",
    "\n",
    "    def resultant(self, other_point): \n",
    "        self.x = self.x + other_point.x\n",
    "        self.y = self.y + other_point.y\n",
    "        \n",
    "    def __str__(self): \n",
    "        return f'Point {self.x},{self.y}'\n",
    "\n",
    "p = Point(3,4)\n",
    "q = Point(5,7)\n",
    "p.resultant(q)\n",
    "print(p.x, p.y)\n",
    "print(q.x, q.y)"
   ]
  },
  {
   "cell_type": "markdown",
   "metadata": {},
   "source": [
    "Notice that in the above code, only the p coordinates were permanently changed. If we wanted to change both we could edit the other_point within the resultant method, too:"
   ]
  },
  {
   "cell_type": "code",
   "execution_count": 17,
   "metadata": {},
   "outputs": [
    {
     "name": "stdout",
     "output_type": "stream",
     "text": [
      "8 11\n",
      "8 11\n"
     ]
    }
   ],
   "source": [
    "import math\n",
    "\n",
    "class Point:\n",
    "    def __init__(self,x,y):\n",
    "        self.x = x\n",
    "        self.y = y\n",
    "\n",
    "    def get_magnitude(self):\n",
    "        return math.sqrt(self.x**2+self.y**2)\n",
    "\n",
    "    def double(self):\n",
    "        return 2*self.x, 2*self.y\n",
    "    \n",
    "    def shift(self,hor,vert): \n",
    "        self.x = self.x+hor\n",
    "        self.y = self.y+vert\n",
    "\n",
    "    def resultant(self, other_point): \n",
    "        oldx = self.x\n",
    "        oldy=self.y\n",
    "        self.x = self.x + other_point.x\n",
    "        self.y = self.y + other_point.y\n",
    "        other_point.x = oldx + other_point.x\n",
    "        other_point.y = oldy + other_point.y\n",
    "        \n",
    "    def __str__(self): \n",
    "        return 'Point {},{}'.format(self.x, self.y)\n",
    "\n",
    "p = Point(3,4)\n",
    "q = Point(5,7)\n",
    "p.resultant(q)\n",
    "print(p.x, p.y)\n",
    "print(q.x, q.y)"
   ]
  },
  {
   "cell_type": "markdown",
   "metadata": {},
   "source": [
    "### More Classes Exercises\n",
    "\n",
    "### Exercise 6 - Reflections\n",
    "\n",
    "Redo your reflection_over_x and reflection_over_y methods from your previous exercises so that the point actually changes if you apply these methods to the point."
   ]
  },
  {
   "cell_type": "code",
   "execution_count": null,
   "metadata": {
    "collapsed": true
   },
   "outputs": [],
   "source": [
    "#insert exercise 6"
   ]
  },
  {
   "cell_type": "markdown",
   "metadata": {},
   "source": [
    "### Exercise 7 - Reflection over the origin\n",
    "Recall that a reflection over the origin means a reflection over BOTH of the axes. Write a method called reflection_over_origin that reflects a point over the origin and changes the original point. As practice with calling methods within other methods, YOU MUST CALL the reflection_over_x and reflection_over_y methods WITHIN YOUR NEW FUNCTION."
   ]
  },
  {
   "cell_type": "code",
   "execution_count": null,
   "metadata": {
    "collapsed": true
   },
   "outputs": [],
   "source": [
    "#insert exercise 7"
   ]
  },
  {
   "cell_type": "markdown",
   "metadata": {},
   "source": [
    "### Exercise 8 - Formal Greeting\n",
    "Update your Student class so that it contains a formal_greeting method that updates self.full_name to include a salutation of \"Mr.\", \"Ms.\", or \"Mx.\" if the student identifies as male, female, or other. \n",
    "\n",
    "If a user types:\n",
    "\n",
    "``` python\n",
    "jack = Student(\"Jack Doe\", 11, \"M\")\n",
    "jack.formal()\n",
    "print(jack)```\n",
    "\n",
    "then \"Mr. Jack Doe is in grade 11.\" should get printed."
   ]
  },
  {
   "cell_type": "code",
   "execution_count": null,
   "metadata": {
    "collapsed": true
   },
   "outputs": [],
   "source": [
    "#insert exercise 8"
   ]
  },
  {
   "cell_type": "markdown",
   "metadata": {},
   "source": [
    "### Exercise 9 - Informal Greeting\n",
    "Update your Student class so that it contains an informal_greeting method that updates self.full_name to include a salutation of the user's choosing at the beginning of their name. \n",
    "\n",
    "If a user types:\n",
    "\n",
    "``` python\n",
    "jack = Student(\"Jack Doe\", 11, \"M\")\n",
    "jack.informal(\"The Funkiest\")\n",
    "print(jack)```\n",
    "\n",
    "then \"The Funkiest Jack Doe is in grade 11.\" should get printed."
   ]
  },
  {
   "cell_type": "code",
   "execution_count": null,
   "metadata": {
    "collapsed": true
   },
   "outputs": [],
   "source": [
    "#insert exercise 9"
   ]
  },
  {
   "cell_type": "markdown",
   "metadata": {},
   "source": [
    "### Exercise 10 - bank account\n",
    "Create a class called BankAccount. In the init method, define an attribute self.name and an attribute self.balance to be equal to zero. (This is the equivalent of opening an account but not putting in any money yet).\n",
    "\n",
    "Add a __str__ method that prints \"Kanye's balance: 0\" (Or whatever the name and balance actually are, since it won't always be zero.)."
   ]
  },
  {
   "cell_type": "code",
   "execution_count": 37,
   "metadata": {
    "collapsed": true
   },
   "outputs": [],
   "source": [
    "#insert 10"
   ]
  },
  {
   "cell_type": "markdown",
   "metadata": {},
   "source": [
    "### Exercise 11 - bank account -- deposit\n",
    "Add a method to the class called deposit that takes in an amount and alters the balance by adding the deposit amount to the balance. \n",
    "\n",
    "If you type the following:\n",
    "\n",
    "```python\n",
    "my_account = BankAccount('Kanye')\n",
    "my_account.deposit(20)\n",
    "print(my_account.balance)\n",
    "print(my_account)```\n",
    "\n",
    "\n",
    "should return:\n",
    "\n",
    "```python\n",
    "20\n",
    "Kanyes balance: 20```\n"
   ]
  },
  {
   "cell_type": "code",
   "execution_count": 19,
   "metadata": {
    "collapsed": true
   },
   "outputs": [],
   "source": [
    "#insert 11"
   ]
  },
  {
   "cell_type": "markdown",
   "metadata": {},
   "source": [
    "### Exercise 12 - bank account -- withdraw\n",
    "Add a method to the class called withdraw that takes in an amount and alters the balance by deducting the withdrawal amount. \n"
   ]
  },
  {
   "cell_type": "code",
   "execution_count": 16,
   "metadata": {},
   "outputs": [],
   "source": [
    "#insert 12"
   ]
  },
  {
   "cell_type": "markdown",
   "metadata": {},
   "source": [
    "### Exercise 13 - bank account -- transfer\n",
    "Add a method called transfer that transfers money from one account to another. One account's balance should increase by that transfer amount and the other account's balance should decrease by that transfer amount. For example, ```A_account.transfer(B_account,20)``` should transfer $20 from B_account to A_account. Use the withdraw and deposit methods within the transfer method. \n",
    "\n",
    "Hint: Look back at the resultant method in the point class example."
   ]
  },
  {
   "cell_type": "code",
   "execution_count": 21,
   "metadata": {
    "collapsed": true
   },
   "outputs": [],
   "source": [
    "#insert 13"
   ]
  },
  {
   "cell_type": "markdown",
   "metadata": {},
   "source": [
    "General terminology\n",
    "---\n",
    "<a class=\"anchor\" id=\"terminology\"></a>\n",
    "To summarize, here is a list of terminology:\n",
    "\n",
    "\n",
    "A **class** is a body of code that defines the **attributes** and **behaviors** required to accurately model something you need for your program. You can model something from the real world, such as a rocket ship or a guitar string, or you can model something from a virtual world such as a rocket in a game, or a set of physical laws for a game engine.\n",
    "\n",
    "An **attribute** is a piece of information. In code, an attribute is just a variable that is part of a class.\n",
    "\n",
    "A **behavior** is an action that is defined within a class. These are made up of **methods**, which are just functions that are defined for the class.\n",
    "\n",
    "An **object** is a particular instance of a class. An object has a certain set of values for all of the attributes (variables) in the class. You can have as many objects as you want for any one class."
   ]
  },
  {
   "cell_type": "markdown",
   "metadata": {},
   "source": [
    "Subclasses\n",
    "---\n",
    "<a class=\"anchor\" id=\"subclasses\"></a>\n",
    "\n",
    "Sometimes just defining a single class (like Pet) is not enough. For example, some pets are dogs and most dogs like to chase cats, and maybe we want to keep track of which dogs do or do not like to chase cats. Birds are also pets but they generally don’t like to chase cats. We can make another class that is a Pet but is also specifically a Dog, for example. This gives us the structure from Pet but also any structure we want to specify for Dog. Let's look at the Dog subclass below:"
   ]
  },
  {
   "cell_type": "code",
   "execution_count": 72,
   "metadata": {},
   "outputs": [
    {
     "name": "stdout",
     "output_type": "stream",
     "text": [
      "Fido is a Dog\n"
     ]
    }
   ],
   "source": [
    "class Dog(Pet):\n",
    "\n",
    "    def __init__(self, name, chases_cats):\n",
    "        Pet.__init__(self, name, \"Dog\")\n",
    "        self.chases_cats = chases_cats\n",
    "\n",
    "dog = Dog(\"Fido\", \"False\")\n",
    "print(dog)"
   ]
  },
  {
   "cell_type": "markdown",
   "metadata": {},
   "source": [
    "Let's discuss very carefully what the code above is doing. We need this line:\n",
    "\n",
    "```python\n",
    "def __init__(self, name, chases_cats):```\n",
    "\n",
    "because we need to define our own initialization function (known as overriding) that now takes in the chases_cats description.\n",
    "\n",
    "We also need this line:\n",
    "\n",
    "```python\n",
    "Pet.__init__(self, name, \"Dog\")```\n",
    "\n",
    "because we need to call the parent class initialization function, because we still want the name and species fields to be initialized."
   ]
  },
  {
   "cell_type": "markdown",
   "metadata": {},
   "source": [
    "We can now inherit all of the stuff that was built into the Pet class:"
   ]
  },
  {
   "cell_type": "code",
   "execution_count": 55,
   "metadata": {},
   "outputs": [
    {
     "name": "stdout",
     "output_type": "stream",
     "text": [
      "Fido is a Dog\n",
      "Fido\n",
      "Dog\n"
     ]
    }
   ],
   "source": [
    "fido = Dog(\"Fido\", True)\n",
    "print(fido)\n",
    "print(fido.getName())\n",
    "print(fido.getSpecies())\n"
   ]
  },
  {
   "cell_type": "markdown",
   "metadata": {},
   "source": [
    "As well as also gain the new stuff we put in the Dog class:"
   ]
  },
  {
   "cell_type": "code",
   "execution_count": 58,
   "metadata": {},
   "outputs": [
    {
     "name": "stdout",
     "output_type": "stream",
     "text": [
      "True\n"
     ]
    }
   ],
   "source": [
    "print(fido.chases_cats)"
   ]
  },
  {
   "cell_type": "markdown",
   "metadata": {},
   "source": [
    "The common saying is that 1 dog year is actually seven times that in human years. Let's also add in a new attribute, age, and a new method, human_years, that calculates a dog's age in human years:"
   ]
  },
  {
   "cell_type": "code",
   "execution_count": 65,
   "metadata": {},
   "outputs": [
    {
     "name": "stdout",
     "output_type": "stream",
     "text": [
      "21\n"
     ]
    }
   ],
   "source": [
    "class Dog(Pet):\n",
    "\n",
    "    def __init__(self, name, chases_cats, age):\n",
    "        Pet.__init__(self, name, \"Dog\")\n",
    "        self.chases_cats = chases_cats\n",
    "        self.age = age\n",
    "        \n",
    "    def human_years(self):\n",
    "        return 7*self.age\n",
    "    \n",
    "dog = Dog(\"Fido\", \"False\", 3)\n",
    "print(dog.human_years())"
   ]
  },
  {
   "cell_type": "markdown",
   "metadata": {},
   "source": [
    "One thing to be careful of is calling methods valid names. You can't refer to both the input of the dog class and the method inside the dog class as both \"age\". If you do, you will get a type error."
   ]
  },
  {
   "cell_type": "code",
   "execution_count": 1,
   "metadata": {},
   "outputs": [
    {
     "ename": "NameError",
     "evalue": "name 'Pet' is not defined",
     "output_type": "error",
     "traceback": [
      "\u001b[0;31m---------------------------------------------------------------------------\u001b[0m",
      "\u001b[0;31mNameError\u001b[0m                                 Traceback (most recent call last)",
      "\u001b[0;32m<ipython-input-1-1c6eadc1dec1>\u001b[0m in \u001b[0;36m<module>\u001b[0;34m\u001b[0m\n\u001b[0;32m----> 1\u001b[0;31m \u001b[0;32mclass\u001b[0m \u001b[0mDog\u001b[0m\u001b[0;34m(\u001b[0m\u001b[0mPet\u001b[0m\u001b[0;34m)\u001b[0m\u001b[0;34m:\u001b[0m\u001b[0;34m\u001b[0m\u001b[0;34m\u001b[0m\u001b[0m\n\u001b[0m\u001b[1;32m      2\u001b[0m \u001b[0;34m\u001b[0m\u001b[0m\n\u001b[1;32m      3\u001b[0m     \u001b[0;32mdef\u001b[0m \u001b[0m__init__\u001b[0m\u001b[0;34m(\u001b[0m\u001b[0mself\u001b[0m\u001b[0;34m,\u001b[0m \u001b[0mname\u001b[0m\u001b[0;34m,\u001b[0m \u001b[0mchases_cats\u001b[0m\u001b[0;34m,\u001b[0m \u001b[0mage\u001b[0m\u001b[0;34m)\u001b[0m\u001b[0;34m:\u001b[0m\u001b[0;34m\u001b[0m\u001b[0;34m\u001b[0m\u001b[0m\n\u001b[1;32m      4\u001b[0m         \u001b[0mPet\u001b[0m\u001b[0;34m.\u001b[0m\u001b[0m__init__\u001b[0m\u001b[0;34m(\u001b[0m\u001b[0mself\u001b[0m\u001b[0;34m,\u001b[0m \u001b[0mname\u001b[0m\u001b[0;34m,\u001b[0m \u001b[0;34m\"Dog\"\u001b[0m\u001b[0;34m)\u001b[0m\u001b[0;34m\u001b[0m\u001b[0;34m\u001b[0m\u001b[0m\n\u001b[1;32m      5\u001b[0m         \u001b[0mself\u001b[0m\u001b[0;34m.\u001b[0m\u001b[0mchases_cats\u001b[0m \u001b[0;34m=\u001b[0m \u001b[0mchases_cats\u001b[0m\u001b[0;34m\u001b[0m\u001b[0;34m\u001b[0m\u001b[0m\n",
      "\u001b[0;31mNameError\u001b[0m: name 'Pet' is not defined"
     ]
    }
   ],
   "source": [
    "class Dog(Pet):\n",
    "\n",
    "    def __init__(self, name, chases_cats, age):\n",
    "        Pet.__init__(self, name, \"Dog\")\n",
    "        self.chases_cats = chases_cats\n",
    "        self.age = age\n",
    "        \n",
    "    def age(self):\n",
    "        return 7*self.age\n",
    "    \n",
    "dog = Dog(\"Fido\", \"False\", 3)\n",
    "print(dog.age())"
   ]
  },
  {
   "cell_type": "markdown",
   "metadata": {},
   "source": [
    "As long as we change the \"age\" method to \"human_years\" method, then we are okay:"
   ]
  },
  {
   "cell_type": "code",
   "execution_count": 68,
   "metadata": {},
   "outputs": [
    {
     "name": "stdout",
     "output_type": "stream",
     "text": [
      "21\n"
     ]
    }
   ],
   "source": [
    "class Dog(Pet):\n",
    "\n",
    "    def __init__(self, name, chases_cats, age):\n",
    "        Pet.__init__(self, name, \"Dog\")\n",
    "        self.chases_cats = chases_cats\n",
    "        self.age = age\n",
    "        \n",
    "    def human_years(self):\n",
    "        return 7*self.age\n",
    "    \n",
    "dog = Dog(\"Fido\", \"False\", 3)\n",
    "print(dog.human_years())"
   ]
  },
  {
   "cell_type": "markdown",
   "metadata": {},
   "source": [
    "Another thing to note is that you will often see the line\n",
    "\n",
    "```python\n",
    "Pet.__init__(self, name, \"Dog\")```\n",
    "\n",
    "replaced with:\n",
    "\n",
    "```python\n",
    "super().__init__(name, \"Dog\")```\n",
    "\n",
    "Look at it in this code:"
   ]
  },
  {
   "cell_type": "code",
   "execution_count": 79,
   "metadata": {},
   "outputs": [
    {
     "name": "stdout",
     "output_type": "stream",
     "text": [
      "21\n"
     ]
    }
   ],
   "source": [
    "class Dog(Pet):\n",
    "\n",
    "    def __init__(self, name, chases_cats, age):\n",
    "        super().__init__(name, \"Dog\")\n",
    "        self.chases_cats = chases_cats\n",
    "        self.age = age\n",
    "        \n",
    "    def human_years(self):\n",
    "        return 7*self.age\n",
    "    \n",
    "dog = Dog(\"Fido\", \"False\", 3)\n",
    "print(dog.human_years())"
   ]
  },
  {
   "cell_type": "markdown",
   "metadata": {},
   "source": [
    "What are the upsides to using \"super\"? For one, you don't have to manually hard-code the name of the base class (in our case, Pet) into every method that uses its parent methods.\n",
    "\n",
    "Where super really comes in handy, though, is when writing multiple inheritances (perhaps a Pit Bull class is a subclass of a Dog class which is a subclass of a Pet class). When you write a class, you want other classes to be able to use it. super() has some built-in functionality that makes it easier for other classes to use the class you're writing.\n",
    "\n",
    "From now, just use super, but if you want to read more about why it is preferable, here are good places to start: \n",
    "https://stackoverflow.com/questions/222877/what-does-super-do-in-python\n",
    "\n",
    "https://stackoverflow.com/questions/576169/understanding-python-super-with-init-methods"
   ]
  },
  {
   "cell_type": "markdown",
   "metadata": {},
   "source": [
    "Recall our string method for the Pet class:"
   ]
  },
  {
   "cell_type": "code",
   "execution_count": 73,
   "metadata": {},
   "outputs": [
    {
     "name": "stdout",
     "output_type": "stream",
     "text": [
      "Fido is a Dog\n"
     ]
    }
   ],
   "source": [
    "print(dog)"
   ]
  },
  {
   "cell_type": "markdown",
   "metadata": {},
   "source": [
    "If we override the string method in the Dog subclass, the this will be the print statement that takes priority, and we will no longer see \"Fido is a Dog\" get printed:"
   ]
  },
  {
   "cell_type": "code",
   "execution_count": 83,
   "metadata": {},
   "outputs": [
    {
     "name": "stdout",
     "output_type": "stream",
     "text": [
      "Fido is 3 years old.\n"
     ]
    }
   ],
   "source": [
    "class Dog(Pet):\n",
    "\n",
    "    def __init__(self, name, chases_cats, age):\n",
    "        super().__init__(name, \"Dog\")\n",
    "        self.chases_cats = chases_cats\n",
    "        self.age = age\n",
    "        \n",
    "    def human_years(self):\n",
    "        return 7*self.age\n",
    "    \n",
    "    def __str__(self):\n",
    "        return f\"{self.name} is {self.age} years old.\"\n",
    "    \n",
    "dog = Dog(\"Fido\", \"False\", 3)\n",
    "print(dog)"
   ]
  },
  {
   "cell_type": "markdown",
   "metadata": {},
   "source": [
    "Here's another example. Python already has a string class that enables you to do common operations like find the length of the string and capitalize it. However, what if you wanted to make your own string class, called \"MyString\", that performed similar calculations? We could create one below:"
   ]
  },
  {
   "cell_type": "code",
   "execution_count": 84,
   "metadata": {},
   "outputs": [
    {
     "name": "stdout",
     "output_type": "stream",
     "text": [
      "5\n",
      "HELLO\n",
      "o\n",
      "My word is hello.\n"
     ]
    }
   ],
   "source": [
    "class MyString():\n",
    "    \n",
    "    def __init__(self, word):\n",
    "        self.word = word\n",
    "    \n",
    "    def MyLength(self):\n",
    "        return len(self.word)\n",
    "    \n",
    "    def MyCaps(self):\n",
    "        return self.word.upper()\n",
    "\n",
    "    def MyLastLetter(self):\n",
    "        return self.word[-1]\n",
    "    \n",
    "    def __str__(self):\n",
    "        return f\"My word is {self.word}.\"\n",
    "\n",
    "myword = MyString('hello')\n",
    "print(myword.MyLength())\n",
    "print(myword.MyCaps())\n",
    "print(myword.MyLastLetter())\n",
    "print(myword)"
   ]
  },
  {
   "cell_type": "markdown",
   "metadata": {},
   "source": [
    "We could define a subclass that only operates on strings that can also be considered integers. We could turn the string into an integer and then double it:"
   ]
  },
  {
   "cell_type": "code",
   "execution_count": 81,
   "metadata": {},
   "outputs": [
    {
     "name": "stdout",
     "output_type": "stream",
     "text": [
      "1002\n"
     ]
    }
   ],
   "source": [
    "class Integer(MyString):\n",
    "    def __init__(self, word):\n",
    "        super().__init__(word)\n",
    "        self.word = word\n",
    "        \n",
    "    def double(self):\n",
    "        return 2*(int(self.word))\n",
    "\n",
    "mynum = Integer('501')\n",
    "print(mynum.double())"
   ]
  },
  {
   "cell_type": "markdown",
   "metadata": {},
   "source": [
    "#### Subclasses Exercises\n",
    "\n",
    "### Exercise 14 - Bird\n",
    "Add a subclass to Pet that is a Bird. Birds should have an additional attribute that specifies whether they sing or not. It should have an additional attribute that specifies whether it is a large bird of prey or not."
   ]
  },
  {
   "cell_type": "code",
   "execution_count": 2,
   "metadata": {},
   "outputs": [],
   "source": [
    "#insert exercise 14"
   ]
  },
  {
   "cell_type": "markdown",
   "metadata": {
    "collapsed": true
   },
   "source": [
    "### Exercise 15 - Bird again \n",
    "Override the string in the Bird class so that \"Polly can fly!\" gets printed instead of \"Polly is a Parrot.\" Also add a method called max_height that takes in a maximum height argument so that entering this:\n",
    "\n",
    "```python\n",
    "polly = Bird('Polly', True, True)\n",
    "print(polly.max_height(100))\n",
    "```\n",
    "\n",
    "produces the output \"Polly can fly at a maximum height of 100 feet.\"\n"
   ]
  },
  {
   "cell_type": "code",
   "execution_count": 3,
   "metadata": {},
   "outputs": [],
   "source": [
    "#insert exercise 15"
   ]
  },
  {
   "cell_type": "markdown",
   "metadata": {},
   "source": [
    "### Exercise 16 - Food\n",
    "Write a class called Food that takes in calories, fat, and fiber. It should include a method called low_cal that checks whether the calories is less than 200. If the calories are less than 200, it should return \"low cal\", otherwise, it should return \"high cal\". It should have a similar method for low_fat to test whether the fat is above or below 10 grams. It should also override a string to say \"{...} is a food that has {...} calories, {...} fat, and {...} fiber.\""
   ]
  },
  {
   "cell_type": "code",
   "execution_count": 85,
   "metadata": {
    "collapsed": true
   },
   "outputs": [],
   "source": [
    "### insert exercise 16"
   ]
  },
  {
   "cell_type": "markdown",
   "metadata": {},
   "source": [
    "### Exercise 17 - Food again\n",
    "Create a subclass for Food called Snacks. It should have ALL of the previous attributes plus two additional attributes - one to specify whether it is gluten free or not and one to specify whether there are peanuts or not. Also override the string method to print \"{...} is a snack food.\""
   ]
  },
  {
   "cell_type": "code",
   "execution_count": 4,
   "metadata": {},
   "outputs": [],
   "source": [
    "### insert exercise 17"
   ]
  },
  {
   "cell_type": "markdown",
   "metadata": {
    "collapsed": true
   },
   "source": [
    "### Exercise 18 - MyString reverse\n",
    "Add a method to MyString that returns the string in reverse. Hint: How could you use string[???] perhaps involving colons to do this in one line?"
   ]
  },
  {
   "cell_type": "code",
   "execution_count": 5,
   "metadata": {},
   "outputs": [],
   "source": [
    "#insert exercise 18"
   ]
  },
  {
   "cell_type": "markdown",
   "metadata": {},
   "source": [
    "### Exercise 19 - MyString alphabetize\n",
    "Add a method to MyString that returns the letters of the string in alphabetical order."
   ]
  },
  {
   "cell_type": "code",
   "execution_count": 87,
   "metadata": {
    "collapsed": true
   },
   "outputs": [],
   "source": [
    "#insert exercise 19"
   ]
  },
  {
   "cell_type": "markdown",
   "metadata": {},
   "source": [
    "### Exercise 20 - Decimals\n",
    "Add a subclass for MyString called Float that only operates on strings that can also be considered floats (decimals). Write a method called half for it that halves a given decimal."
   ]
  },
  {
   "cell_type": "code",
   "execution_count": 6,
   "metadata": {},
   "outputs": [],
   "source": [
    "#insert exercise 20"
   ]
  },
  {
   "cell_type": "markdown",
   "metadata": {},
   "source": [
    "### Exercise 21 - Dachshunds\n",
    "Add an attribute to the Dog class that is breed. Then, create a subclass of the Dog class called Dachshund. Add an attribute to the Dachshund class called hotdogs, that is True if the Dachshund likes hotdogs and False if he doesn't. Also, override the string class so it says \"{Dog name} likes hotdogs: {True or False}.\""
   ]
  },
  {
   "cell_type": "code",
   "execution_count": 8,
   "metadata": {},
   "outputs": [],
   "source": [
    "#insert exercise 21"
   ]
  },
  {
   "cell_type": "markdown",
   "metadata": {
    "collapsed": true
   },
   "source": [
    "## Decorators\n",
    "---\n",
    "<a class=\"anchor\" id=\"decorators\"></a>\n",
    "\n",
    "Let's go back to the circle example and note how I round the area to three decimal places using \":0.3f\":"
   ]
  },
  {
   "cell_type": "code",
   "execution_count": 24,
   "metadata": {},
   "outputs": [
    {
     "name": "stdout",
     "output_type": "stream",
     "text": [
      "Circle with radius 2 and area 12.566.\n"
     ]
    }
   ],
   "source": [
    "import math\n",
    "\n",
    "class Circle:\n",
    "    def __init__(self, radius):\n",
    "        self.radius = radius\n",
    "        self.area = math.pi*self.radius**2\n",
    "    \n",
    "    def circumference(self):\n",
    "        return 2*math.pi*self.radius\n",
    "    \n",
    "    def __str__(self):\n",
    "        return f\"Circle with radius {self.radius} and area {self.area:0.3f}.\"\n",
    "    \n",
    "c = Circle(2)\n",
    "print(c)"
   ]
  },
  {
   "cell_type": "markdown",
   "metadata": {},
   "source": [
    "Let's see what happens when we change the radius:"
   ]
  },
  {
   "cell_type": "code",
   "execution_count": 106,
   "metadata": {},
   "outputs": [
    {
     "name": "stdout",
     "output_type": "stream",
     "text": [
      "Circle with radius 4 and area 12.566.\n"
     ]
    }
   ],
   "source": [
    "import math\n",
    "class Circle:\n",
    "    def __init__(self, radius):\n",
    "        self.radius = radius\n",
    "        self.area = math.pi*self.radius**2\n",
    "\n",
    "    def circumference(self):\n",
    "        return 2*math.pi*self.radius\n",
    "    \n",
    "    def __str__(self):\n",
    "        return f\"Circle with radius {self.radius} and area {self.area:0.3f}.\"\n",
    "\n",
    "c = Circle(2)\n",
    "c.radius = 4\n",
    "print(c)"
   ]
  },
  {
   "cell_type": "markdown",
   "metadata": {},
   "source": [
    "Uh oh. The radius changed but the area did not. If we make area a PROPERTY instead of an attribute, we can change both accordingly. To do that, we'll add a decorator, denoted with an ampersand. This will \"GET\" us the area:"
   ]
  },
  {
   "cell_type": "code",
   "execution_count": 101,
   "metadata": {},
   "outputs": [
    {
     "name": "stdout",
     "output_type": "stream",
     "text": [
      "Circle with radius 4 and area 50.265.\n"
     ]
    }
   ],
   "source": [
    "import math\n",
    "class Circle:\n",
    "    def __init__(self, radius):\n",
    "        self.radius = radius\n",
    "    \n",
    "    def circumference(self):\n",
    "        return 2*math.pi*self.radius\n",
    "    \n",
    "    @property\n",
    "    def area(self):\n",
    "        return math.pi*self.radius**2\n",
    "    \n",
    "    def __str__(self):\n",
    "        return f\"Circle with radius {self.radius} and area {self.area:0.3f}.\"\n",
    "\n",
    "c = Circle(2)\n",
    "c.radius = 4\n",
    "print(c)"
   ]
  },
  {
   "cell_type": "markdown",
   "metadata": {},
   "source": [
    "However, if we try changing the area, we'll run into a problem:"
   ]
  },
  {
   "cell_type": "code",
   "execution_count": 102,
   "metadata": {},
   "outputs": [
    {
     "ename": "AttributeError",
     "evalue": "can't set attribute",
     "output_type": "error",
     "traceback": [
      "\u001b[0;31m---------------------------------------------------------------------------\u001b[0m",
      "\u001b[0;31mAttributeError\u001b[0m                            Traceback (most recent call last)",
      "\u001b[0;32m<ipython-input-102-c7a423e95a95>\u001b[0m in \u001b[0;36m<module>\u001b[0;34m()\u001b[0m\n\u001b[0;32m----> 1\u001b[0;31m \u001b[0mc\u001b[0m\u001b[0;34m.\u001b[0m\u001b[0marea\u001b[0m \u001b[0;34m=\u001b[0m \u001b[0;36m10\u001b[0m\u001b[0;34m\u001b[0m\u001b[0m\n\u001b[0m\u001b[1;32m      2\u001b[0m \u001b[0mprint\u001b[0m\u001b[0;34m(\u001b[0m\u001b[0mc\u001b[0m\u001b[0;34m)\u001b[0m\u001b[0;34m\u001b[0m\u001b[0m\n",
      "\u001b[0;31mAttributeError\u001b[0m: can't set attribute"
     ]
    }
   ],
   "source": [
    "c.area = 10\n",
    "print(c)"
   ]
  },
  {
   "cell_type": "markdown",
   "metadata": {},
   "source": [
    "To overcome this, we'll add a property setter to \"SET\" the area:"
   ]
  },
  {
   "cell_type": "code",
   "execution_count": 103,
   "metadata": {
    "collapsed": true
   },
   "outputs": [],
   "source": [
    "import math\n",
    "class Circle:\n",
    "    def __init__(self, radius):\n",
    "        self.radius = radius\n",
    "    \n",
    "    def circumference(self):\n",
    "        return 2*math.pi*self.radius\n",
    "    \n",
    "    @property\n",
    "    def area(self):\n",
    "        return math.pi*self.radius**2\n",
    "    \n",
    "    @area.setter\n",
    "    def area(self, area):\n",
    "        self.radius = math.sqrt(area/math.pi)\n",
    "    \n",
    "    def __str__(self):\n",
    "        return f\"Circle with radius {self.radius} and area {self.area:0.3f}.\""
   ]
  },
  {
   "cell_type": "markdown",
   "metadata": {},
   "source": [
    "Now, even though we initialize the radius to be 2 below, when we change the area, the radius changes accordingly:"
   ]
  },
  {
   "cell_type": "code",
   "execution_count": 105,
   "metadata": {},
   "outputs": [
    {
     "name": "stdout",
     "output_type": "stream",
     "text": [
      "12.566370614359172\n",
      "Circle with radius 1.7841241161527712 and area 10.000.\n"
     ]
    }
   ],
   "source": [
    "c = Circle(2)\n",
    "print(c.area)\n",
    "c.area = 10\n",
    "print(c)"
   ]
  },
  {
   "cell_type": "markdown",
   "metadata": {},
   "source": [
    "Note: in our next unit in pandas, it will be tricky at first to remember when you need to use parenthesis and when you do not. For example, compare radius, area, and circumference below:"
   ]
  },
  {
   "cell_type": "code",
   "execution_count": 108,
   "metadata": {},
   "outputs": [
    {
     "name": "stdout",
     "output_type": "stream",
     "text": [
      "2\n",
      "12.566370614359172\n",
      "12.566370614359172\n"
     ]
    }
   ],
   "source": [
    "print(c.radius)\n",
    "print(c.area)\n",
    "print(c.circumference())"
   ]
  },
  {
   "cell_type": "markdown",
   "metadata": {},
   "source": [
    "From now on, remember that things that involve parenthesis are typically methods (aka functions) and things that don't have parenthesis are attributes (defined in the __init__ method) or properties (defined with decorators).\n",
    "\n",
    "By definition, a decorator is a function that takes another function and extends the behavior of the latter function without explicitly modifying it. @property is one type of decorator. The @property decorator is used to customize getters and setters for class attributes.\n",
    "\n",
    "To read a much more in-depth tutorial of decorators, check out this link:\n",
    "\n",
    "https://realpython.com/primer-on-python-decorators/"
   ]
  },
  {
   "cell_type": "markdown",
   "metadata": {},
   "source": [
    "### Decorator Exercise 22 - diameter\n",
    "Add a property and setter for diameter to the circle class. If we change the diameter, it should change the radius."
   ]
  },
  {
   "cell_type": "code",
   "execution_count": 9,
   "metadata": {},
   "outputs": [],
   "source": [
    "#insert exercise 22"
   ]
  },
  {
   "cell_type": "markdown",
   "metadata": {},
   "source": [
    "### Decorator Exercise 23 - circumference\n",
    "\n",
    "Change the circumference method in the circle class to a property and setter. If we change the circumference, it should change the radius."
   ]
  },
  {
   "cell_type": "code",
   "execution_count": null,
   "metadata": {
    "collapsed": true
   },
   "outputs": [],
   "source": [
    "#insert exercise 23"
   ]
  },
  {
   "cell_type": "markdown",
   "metadata": {},
   "source": [
    "### Decorator Exercise 24 - point\n",
    "Go back to the Point class. Add a property and setter for double. If you change the doubled version of a point, it should change the x and y coordinates to be half of the doubled version."
   ]
  },
  {
   "cell_type": "code",
   "execution_count": 10,
   "metadata": {},
   "outputs": [],
   "source": [
    "#insert exercise 24\n"
   ]
  },
  {
   "cell_type": "markdown",
   "metadata": {},
   "source": [
    "### Decorator Exercise 25 - human years\n",
    "Go back to the Dog class. Add a property and setter for human_years. If you change the human_years, it should also change the dog's age."
   ]
  },
  {
   "cell_type": "code",
   "execution_count": 11,
   "metadata": {},
   "outputs": [],
   "source": [
    "#insert exercise 25"
   ]
  },
  {
   "cell_type": "markdown",
   "metadata": {},
   "source": [
    "## \\*args and \\**kwargs\n",
    "---\n",
    "<a class=\"anchor\" id=\"args\"></a>\n",
    "Recall our Food class that contains name, calories, fat, and fiber attributes:"
   ]
  },
  {
   "cell_type": "code",
   "execution_count": 3,
   "metadata": {},
   "outputs": [
    {
     "name": "stdout",
     "output_type": "stream",
     "text": [
      "Ice Cream is a food that has 300 calories.\n"
     ]
    }
   ],
   "source": [
    "class Food(object):\n",
    "    def __init__(self, name, calories, fat, fiber):\n",
    "        self.name = name\n",
    "        self.calories = calories\n",
    "        self.fat = fat\n",
    "        self.fiber = fiber\n",
    "        \n",
    "    def __str__(self):\n",
    "        return f\"{self.name} is a food that has {self.calories} calories.\"\n",
    "\n",
    "ice_cream = Food('Ice Cream', 300, 20, 2)\n",
    "print(ice_cream)"
   ]
  },
  {
   "cell_type": "markdown",
   "metadata": {},
   "source": [
    "Giving information for name, calores, fat, and fiber every time we simply want to create a food is kind of a lot of work. How can we change the code so that we only need to enter the attributes that we care about? We can use keyword arguments. It's been a while (the Functions chapter) since we used keyword arguments, so let's quickly review:"
   ]
  },
  {
   "cell_type": "markdown",
   "metadata": {},
   "source": [
    "If we use keyword arguments when we call the function, then we can specify the order of the arguments in any order we choose. We can do this by referring to the argument names when we call the function:"
   ]
  },
  {
   "cell_type": "code",
   "execution_count": 6,
   "metadata": {},
   "outputs": [
    {
     "name": "stdout",
     "output_type": "stream",
     "text": [
      "First name: Kanye\n",
      "Last name: West\n",
      "Age: 41\n",
      "\n"
     ]
    }
   ],
   "source": [
    "def describe_person(first_name, last_name, age):\n",
    "    print(f\"First name: {first_name}\")\n",
    "    print(f\"Last name: {last_name}\")\n",
    "    print(f\"Age: {age}\\n\")\n",
    "\n",
    "describe_person(age=41, first_name='Kanye', last_name='West')"
   ]
  },
  {
   "cell_type": "markdown",
   "metadata": {},
   "source": [
    "If we add in default values for last_name and age, then the user doesn't even need to enter those if they choose not to:"
   ]
  },
  {
   "cell_type": "code",
   "execution_count": 7,
   "metadata": {},
   "outputs": [
    {
     "name": "stdout",
     "output_type": "stream",
     "text": [
      "First name: Kanye\n",
      "Last name: Not given\n",
      "Age: Unknown\n",
      "\n"
     ]
    }
   ],
   "source": [
    "def describe_person(first_name, last_name=\"Not given\", age=\"Unknown\"):\n",
    "    print(f\"First name: {first_name}\")\n",
    "    print(f\"Last name: {last_name}\")\n",
    "    print(f\"Age: {age}\\n\")\n",
    "\n",
    "describe_person(first_name='Kanye')"
   ]
  },
  {
   "cell_type": "markdown",
   "metadata": {},
   "source": [
    "If we use \"None\" as the default value, then we can use if statements to print only the info that is given:"
   ]
  },
  {
   "cell_type": "code",
   "execution_count": 12,
   "metadata": {},
   "outputs": [
    {
     "name": "stdout",
     "output_type": "stream",
     "text": [
      "First name: Kanye\n",
      "First name: Kim\n",
      "Last name: Kardashian\n"
     ]
    }
   ],
   "source": [
    "def describe_person(first_name, last_name=None, age=None):\n",
    "    print(f\"First name: {first_name}\")\n",
    "    if last_name:\n",
    "        print(f\"Last name: {last_name}\")\n",
    "    if age:\n",
    "        print(f\"Age: {age}\")\n",
    "\n",
    "describe_person(first_name='Kanye')\n",
    "describe_person(first_name='Kim', last_name=\"Kardashian\")"
   ]
  },
  {
   "cell_type": "markdown",
   "metadata": {},
   "source": [
    "Python gives us a syntax for letting a function accept an arbitrary number of arguments. If we place an argument at the end of the list of arguments, with an asterisk in front of it, that argument will collect any remaining values from the calling statement into a tuple. Here is an example demonstrating how this works:"
   ]
  },
  {
   "cell_type": "code",
   "execution_count": 17,
   "metadata": {},
   "outputs": [
    {
     "name": "stdout",
     "output_type": "stream",
     "text": [
      "\n",
      "arg_1: 1\n",
      "arg_2: 2\n",
      "arg_3: ()\n",
      "\n",
      "arg_1: 1\n",
      "arg_2: 2\n",
      "arg_3: (3,)\n",
      "\n",
      "arg_1: 1\n",
      "arg_2: 2\n",
      "arg_3: (3, 4)\n",
      "\n",
      "arg_1: 1\n",
      "arg_2: 2\n",
      "arg_3: (3, 4, 5)\n"
     ]
    }
   ],
   "source": [
    "def example_function(arg_1, arg_2, *arg_3):\n",
    "    print('\\narg_1:', arg_1)\n",
    "    print('arg_2:', arg_2)\n",
    "    print('arg_3:', arg_3)\n",
    "    \n",
    "example_function(1, 2)\n",
    "example_function(1, 2, 3)\n",
    "example_function(1, 2, 3, 4)\n",
    "example_function(1, 2, 3, 4, 5)"
   ]
  },
  {
   "cell_type": "markdown",
   "metadata": {},
   "source": [
    "Or more specific to our Kanye example, args can be kids:"
   ]
  },
  {
   "cell_type": "code",
   "execution_count": 16,
   "metadata": {},
   "outputs": [
    {
     "name": "stdout",
     "output_type": "stream",
     "text": [
      "First name: Kanye\n",
      "North\n",
      "Chicago\n",
      "Saint\n"
     ]
    }
   ],
   "source": [
    "def describe_person(first_name, *kids):\n",
    "    print(f\"First name: {first_name}\")\n",
    "    for kid in kids:\n",
    "        print(kid)\n",
    "\n",
    "describe_person('Kanye', 'North', 'Chicago', 'Saint')"
   ]
  },
  {
   "cell_type": "markdown",
   "metadata": {},
   "source": [
    "Warning, though: If you tried to keep first name as a keyword argument, you would get an error, because a positional argument (kids) cannot follow a keyword argument (first_name):"
   ]
  },
  {
   "cell_type": "code",
   "execution_count": 19,
   "metadata": {},
   "outputs": [
    {
     "ename": "SyntaxError",
     "evalue": "positional argument follows keyword argument (<ipython-input-19-10a8500e852f>, line 6)",
     "output_type": "error",
     "traceback": [
      "\u001b[0;36m  File \u001b[0;32m\"<ipython-input-19-10a8500e852f>\"\u001b[0;36m, line \u001b[0;32m6\u001b[0m\n\u001b[0;31m    describe_person(first_name='Kanye', 'North', 'Chicago', 'Saint')\u001b[0m\n\u001b[0m                                       ^\u001b[0m\n\u001b[0;31mSyntaxError\u001b[0m\u001b[0;31m:\u001b[0m positional argument follows keyword argument\n"
     ]
    }
   ],
   "source": [
    "def describe_person(first_name, *kids):\n",
    "    print(f\"First name: {first_name}\")\n",
    "    for kid in kids:\n",
    "        print(kid)\n",
    "\n",
    "describe_person(first_name='Kanye', 'North', 'Chicago', 'Saint')"
   ]
  },
  {
   "cell_type": "markdown",
   "metadata": {},
   "source": [
    "How do we avoid this? Use **kwargs:"
   ]
  },
  {
   "cell_type": "markdown",
   "metadata": {},
   "source": [
    "\\*\\*kwargs allows you to pass keyworded variable length of arguments to a function. You should use \\*\\*kwargs if you want to handle named arguments in a function. \\*\\*kwargs returns a dictionary where the keys are the variable names and the values are the inputted values:"
   ]
  },
  {
   "cell_type": "code",
   "execution_count": 34,
   "metadata": {},
   "outputs": [
    {
     "name": "stdout",
     "output_type": "stream",
     "text": [
      "{'first_name': 'Kanye', 'last_name': 'West'}\n"
     ]
    }
   ],
   "source": [
    "def describe_person(**kwargs):\n",
    "    print(kwargs)\n",
    "\n",
    "describe_person(first_name=\"Kanye\", last_name = \"West\")"
   ]
  },
  {
   "cell_type": "markdown",
   "metadata": {},
   "source": [
    "Thus, to capture just the dictionary values, we'll write:"
   ]
  },
  {
   "cell_type": "code",
   "execution_count": 41,
   "metadata": {},
   "outputs": [
    {
     "name": "stdout",
     "output_type": "stream",
     "text": [
      "First name: Kanye\n",
      "Last name: West\n"
     ]
    }
   ],
   "source": [
    "def describe_person(**kwargs):\n",
    "    first_name, last_name = kwargs['first_name'], kwargs['last_name']\n",
    "    print(f\"First name: {first_name}\")\n",
    "    print(f\"Last name: {last_name}\")\n",
    "\n",
    "describe_person(first_name=\"Kanye\", last_name = \"West\")"
   ]
  },
  {
   "cell_type": "markdown",
   "metadata": {},
   "source": [
    "To combine our arbitrary number of positional arguments (kids) and keyword arguments (first and last name), we'll write:"
   ]
  },
  {
   "cell_type": "code",
   "execution_count": 46,
   "metadata": {},
   "outputs": [
    {
     "name": "stdout",
     "output_type": "stream",
     "text": [
      "First name: Kanye\n",
      "Last name: West\n",
      "North\n",
      "Chicago\n",
      "Saint\n"
     ]
    }
   ],
   "source": [
    "def describe_person(*kids, **kwargs):\n",
    "    first_name, last_name = kwargs['first_name'], kwargs['last_name']\n",
    "    print(f\"First name: {first_name}\")\n",
    "    print(f\"Last name: {last_name}\")\n",
    "    for kid in kids:\n",
    "        print(kid)\n",
    "\n",
    "describe_person('North', 'Chicago', 'Saint', first_name='Kanye', last_name='West')"
   ]
  },
  {
   "cell_type": "markdown",
   "metadata": {},
   "source": [
    "How would we enter a default value of None for last name so that a person would not need to enter their last name? Pop is a useful command in this case. Recall that \"pop\" deletes a given item from a list (or a dictionary, in our case), and returns it so that you can store it. “pop” has an optional argument of a default in case our desired element does not exist. So if no keyword argument \"last_name\" exists, then last_name is stored as None. Now, we no longer need to take in a last name:"
   ]
  },
  {
   "cell_type": "code",
   "execution_count": 50,
   "metadata": {},
   "outputs": [
    {
     "name": "stdout",
     "output_type": "stream",
     "text": [
      "First name: Kanye\n",
      "Last name: West\n",
      "North\n",
      "Chicago\n",
      "Saint\n",
      "First name: Kim\n",
      "North\n",
      "Chicago\n",
      "Saint\n"
     ]
    }
   ],
   "source": [
    "def describe_person(*kids, **kwargs):\n",
    "    first_name = kwargs['first_name']\n",
    "    last_name = kwargs.pop('last_name', None)\n",
    "    \n",
    "    print(f\"First name: {first_name}\")\n",
    "    \n",
    "    if last_name:\n",
    "        print(f\"Last name: {last_name}\")\n",
    "        \n",
    "    for kid in kids:\n",
    "        print(kid)\n",
    "\n",
    "describe_person('North', 'Chicago', 'Saint', first_name='Kanye', last_name=\"West\")\n",
    "describe_person('North', 'Chicago', 'Saint', first_name='Kim')"
   ]
  },
  {
   "cell_type": "markdown",
   "metadata": {},
   "source": [
    "Alright, let's finally get back to classes. Suppose we want only name and calories to be required when creating a food in the Food class. Then recall the original code that we'll need to edit:"
   ]
  },
  {
   "cell_type": "code",
   "execution_count": null,
   "metadata": {
    "collapsed": true
   },
   "outputs": [],
   "source": [
    "class Food():\n",
    "    def __init__(self, name, calories, fat, fiber):\n",
    "        self.name = name\n",
    "        self.calories = calories\n",
    "        self.fat = fat\n",
    "        self.fiber = fiber\n",
    "        \n",
    "    def __str__(self):\n",
    "        return f\"{self.name} is a food that has {self.calories} calories.\"\n",
    "\n",
    "ice_cream = Food('Ice Cream', 300, 20, 2)\n",
    "print(ice_cream)"
   ]
  },
  {
   "cell_type": "markdown",
   "metadata": {},
   "source": [
    "Let's use \\*\\*kwargs to make fat and fiber optional. That way, ice cream can be defined with fat and fiber and lettuce can be defined without them:"
   ]
  },
  {
   "cell_type": "code",
   "execution_count": 4,
   "metadata": {},
   "outputs": [
    {
     "name": "stdout",
     "output_type": "stream",
     "text": [
      "Ice Cream has 300 calories. Ice Cream has 20 fat. Ice Cream has 2 fiber.\n",
      "Lettuce has 10 calories.\n"
     ]
    }
   ],
   "source": [
    "class Food():\n",
    "    def __init__(self, **kwargs):\n",
    "        self.name = kwargs.pop('name')\n",
    "        self.calories = kwargs.pop('calories')\n",
    "        self.fat = kwargs.pop('fat', None)\n",
    "        self.fiber = kwargs.pop('fiber', None)\n",
    "        \n",
    "    def __str__(self):\n",
    "        fstring = f\"{self.name} has {self.calories} calories.\"\n",
    "        if self.fat:\n",
    "            fstring += f\" {self.name} has {self.fat} fat.\"\n",
    "        if self.fiber:\n",
    "            fstring += f\" {self.name} has {self.fiber} fiber.\"\n",
    "        return fstring\n",
    "\n",
    "ice_cream = Food(name='Ice Cream', calories=300, fat=20, fiber=2)\n",
    "print(ice_cream)\n",
    "lettuce = Food(name='Lettuce', calories=10)\n",
    "print(lettuce)"
   ]
  },
  {
   "cell_type": "markdown",
   "metadata": {},
   "source": [
    "Recall that our Snack class also added gluten and peanut attributes. If we want to make them keywords that **are** required, then we can define the Snack class like this:"
   ]
  },
  {
   "cell_type": "code",
   "execution_count": 5,
   "metadata": {},
   "outputs": [
    {
     "name": "stdout",
     "output_type": "stream",
     "text": [
      "Popcorn is a snack food. Contains gluten: True. Contains peanuts: False\n"
     ]
    },
    {
     "ename": "KeyError",
     "evalue": "'gluten'",
     "output_type": "error",
     "traceback": [
      "\u001b[0;31m---------------------------------------------------------------------------\u001b[0m",
      "\u001b[0;31mKeyError\u001b[0m                                  Traceback (most recent call last)",
      "\u001b[0;32m<ipython-input-5-76daab059635>\u001b[0m in \u001b[0;36m<module>\u001b[0;34m\u001b[0m\n\u001b[1;32m     11\u001b[0m \u001b[0mprint\u001b[0m\u001b[0;34m(\u001b[0m\u001b[0msnack\u001b[0m\u001b[0;34m)\u001b[0m\u001b[0;34m\u001b[0m\u001b[0;34m\u001b[0m\u001b[0m\n\u001b[1;32m     12\u001b[0m \u001b[0;34m\u001b[0m\u001b[0m\n\u001b[0;32m---> 13\u001b[0;31m \u001b[0msnack\u001b[0m \u001b[0;34m=\u001b[0m \u001b[0mSnacks\u001b[0m\u001b[0;34m(\u001b[0m\u001b[0mname\u001b[0m\u001b[0;34m=\u001b[0m\u001b[0;34m\"Popcorn\"\u001b[0m\u001b[0;34m,\u001b[0m \u001b[0mcalories\u001b[0m\u001b[0;34m=\u001b[0m\u001b[0;36m100\u001b[0m\u001b[0;34m,\u001b[0m \u001b[0mfat\u001b[0m\u001b[0;34m=\u001b[0m\u001b[0;36m5\u001b[0m\u001b[0;34m,\u001b[0m \u001b[0mfiber\u001b[0m\u001b[0;34m=\u001b[0m\u001b[0;36m2\u001b[0m\u001b[0;34m)\u001b[0m\u001b[0;34m\u001b[0m\u001b[0;34m\u001b[0m\u001b[0m\n\u001b[0m\u001b[1;32m     14\u001b[0m \u001b[0mprint\u001b[0m\u001b[0;34m(\u001b[0m\u001b[0msnack\u001b[0m\u001b[0;34m)\u001b[0m\u001b[0;34m\u001b[0m\u001b[0;34m\u001b[0m\u001b[0m\n",
      "\u001b[0;32m<ipython-input-5-76daab059635>\u001b[0m in \u001b[0;36m__init__\u001b[0;34m(self, **kwargs)\u001b[0m\n\u001b[1;32m      1\u001b[0m \u001b[0;32mclass\u001b[0m \u001b[0mSnacks\u001b[0m\u001b[0;34m(\u001b[0m\u001b[0mFood\u001b[0m\u001b[0;34m)\u001b[0m\u001b[0;34m:\u001b[0m\u001b[0;34m\u001b[0m\u001b[0;34m\u001b[0m\u001b[0m\n\u001b[1;32m      2\u001b[0m     \u001b[0;32mdef\u001b[0m \u001b[0m__init__\u001b[0m\u001b[0;34m(\u001b[0m\u001b[0mself\u001b[0m\u001b[0;34m,\u001b[0m \u001b[0;34m**\u001b[0m\u001b[0mkwargs\u001b[0m\u001b[0;34m)\u001b[0m\u001b[0;34m:\u001b[0m\u001b[0;34m\u001b[0m\u001b[0;34m\u001b[0m\u001b[0m\n\u001b[0;32m----> 3\u001b[0;31m         \u001b[0mself\u001b[0m\u001b[0;34m.\u001b[0m\u001b[0mgluten\u001b[0m \u001b[0;34m=\u001b[0m \u001b[0mkwargs\u001b[0m\u001b[0;34m.\u001b[0m\u001b[0mpop\u001b[0m\u001b[0;34m(\u001b[0m\u001b[0;34m'gluten'\u001b[0m\u001b[0;34m)\u001b[0m\u001b[0;34m\u001b[0m\u001b[0;34m\u001b[0m\u001b[0m\n\u001b[0m\u001b[1;32m      4\u001b[0m         \u001b[0mself\u001b[0m\u001b[0;34m.\u001b[0m\u001b[0mpeanuts\u001b[0m \u001b[0;34m=\u001b[0m \u001b[0mkwargs\u001b[0m\u001b[0;34m.\u001b[0m\u001b[0mpop\u001b[0m\u001b[0;34m(\u001b[0m\u001b[0;34m'peanuts'\u001b[0m\u001b[0;34m)\u001b[0m\u001b[0;34m\u001b[0m\u001b[0;34m\u001b[0m\u001b[0m\n\u001b[1;32m      5\u001b[0m         \u001b[0msuper\u001b[0m\u001b[0;34m(\u001b[0m\u001b[0;34m)\u001b[0m\u001b[0;34m.\u001b[0m\u001b[0m__init__\u001b[0m\u001b[0;34m(\u001b[0m\u001b[0;34m**\u001b[0m\u001b[0mkwargs\u001b[0m\u001b[0;34m)\u001b[0m\u001b[0;34m\u001b[0m\u001b[0;34m\u001b[0m\u001b[0m\n",
      "\u001b[0;31mKeyError\u001b[0m: 'gluten'"
     ]
    }
   ],
   "source": [
    "class Snacks(Food):\n",
    "    def __init__(self, **kwargs):\n",
    "        self.gluten = kwargs.pop('gluten')\n",
    "        self.peanuts = kwargs.pop('peanuts')\n",
    "        super().__init__(**kwargs)\n",
    "\n",
    "    def __str__(self):\n",
    "        return f\"{self.name} is a snack food. Contains gluten: {self.gluten}. Contains peanuts: {self.peanuts}\"\n",
    "\n",
    "snack = Snacks(name=\"Popcorn\", calories=100, fat=5, fiber=2, gluten=True, peanuts=False)\n",
    "print(snack)\n",
    "\n",
    "snack = Snacks(name=\"Popcorn\", calories=100, fat=5, fiber=2)\n",
    "print(snack)"
   ]
  },
  {
   "cell_type": "markdown",
   "metadata": {},
   "source": [
    "If we want to make gluten and peanuts positional arguments instead, we can do this:"
   ]
  },
  {
   "cell_type": "code",
   "execution_count": 8,
   "metadata": {},
   "outputs": [
    {
     "name": "stdout",
     "output_type": "stream",
     "text": [
      "Popcorn is a snack food. Contains gluten: True. Contains peanuts: True\n"
     ]
    }
   ],
   "source": [
    "class Snacks(Food):\n",
    "    def __init__(self, gluten, peanuts, *args, **kwargs):\n",
    "        self.gluten = gluten\n",
    "        self.peanuts = peanuts\n",
    "        super().__init__(**kwargs)\n",
    "\n",
    "    def __str__(self):\n",
    "        return f\"{self.name} is a snack food. Contains gluten: {self.gluten}. Contains peanuts: {self.peanuts}\"\n",
    "\n",
    "snack = Snacks(True, True, name=\"Popcorn\", calories=100, fat=5, fiber=2)\n",
    "print(snack)"
   ]
  },
  {
   "cell_type": "markdown",
   "metadata": {},
   "source": [
    "Going back to the Kanye example, let's make a Person class that contains a.) first name, b.) last name and age (optional), and c.) kids (arbitrary amounts of them). In this case, we'll use both args and kwargs:"
   ]
  },
  {
   "cell_type": "code",
   "execution_count": 147,
   "metadata": {},
   "outputs": [
    {
     "name": "stdout",
     "output_type": "stream",
     "text": [
      "Kanye West is age 41 and has 3 kids.\n",
      "Lauren is age not specified\n"
     ]
    }
   ],
   "source": [
    "class Person:\n",
    "    def __init__(self, *args, **kwargs):\n",
    "        self.first_name = kwargs.pop('first_name')\n",
    "        self.last_name = kwargs.pop('last_name', None)\n",
    "        self.age = kwargs.pop('age', 'not specified')\n",
    "        self.kids = args\n",
    "        \n",
    "    def __str__(self):\n",
    "        fstring = f\"{self.first_name}\"\n",
    "        if self.last_name:\n",
    "            fstring += f\" {self.last_name}\"\n",
    "        fstring += f\" is age {self.age}\"\n",
    "        if self.kids:\n",
    "            fstring += f\" and has {len(self.kids)} kids.\"\n",
    "        return fstring\n",
    "    \n",
    "kanye = Person('Chicago', 'North', 'Saint', first_name=\"Kanye\", last_name='West', age=41)\n",
    "print(kanye)\n",
    "lauren = Person(first_name='Lauren')\n",
    "print(lauren)"
   ]
  },
  {
   "cell_type": "markdown",
   "metadata": {},
   "source": [
    "Furthermore, to make a subclass of childless people who list all of the fancy vacations they go on in a keyword variable called vacations, we can create:"
   ]
  },
  {
   "cell_type": "code",
   "execution_count": 157,
   "metadata": {},
   "outputs": [
    {
     "name": "stdout",
     "output_type": "stream",
     "text": [
      "Lauren goes on baller vacations to ['Belize', 'Argentina', 'Santorini'].\n"
     ]
    }
   ],
   "source": [
    "class Childless(Person):\n",
    "    def __init__(self, *args, **kwargs):\n",
    "        self.vacations = kwargs.pop('vacations', None)\n",
    "        super().__init__(*args, **kwargs)\n",
    "        \n",
    "    def __str__(self):\n",
    "        return f\"{self.first_name} goes on baller vacations to {self.vacations}.\"\n",
    "    \n",
    "lauren = Childless(first_name='Lauren', age=35, vacations=['Belize', 'Argentina', 'Santorini'])\n",
    "print(lauren)"
   ]
  },
  {
   "cell_type": "markdown",
   "metadata": {},
   "source": [
    "### Args & Kwargs Exercises\n",
    "\n",
    "### Exercise 26 - Pets\n",
    "Go back to your Pet class. Make the default name for name \"Pettie\". In addition to name and species, create another attribute called friends that allows the pet to have an arbitrary number of other pet friends using positional arguments."
   ]
  },
  {
   "cell_type": "code",
   "execution_count": 12,
   "metadata": {},
   "outputs": [],
   "source": [
    "#insert exercise 26"
   ]
  },
  {
   "cell_type": "markdown",
   "metadata": {},
   "source": [
    "### Exercise 27 - Dogs\n",
    "Go back to your Dog subclass. Using the new Pet class as its parent, make keyword arguments for the dog's chases_cats, age, and weight variables. Also allow a user to enter an arbitrary number of owners of the dog using positional arguments. If you enter:\n",
    "\n",
    "```python\n",
    "dog = Dog(\"Fido\", \"Owner1\", \"Owner2\", chases_cats = False, age=3, weight = 100)\n",
    "print(dog)\n",
    "```\n",
    "\n",
    "then the output should be:\n",
    "\n",
    "```python\n",
    "Fido is a dog with owners ('Owner1', 'Owner2') and weight 100 and age 3.\n",
    "```"
   ]
  },
  {
   "cell_type": "code",
   "execution_count": 13,
   "metadata": {},
   "outputs": [],
   "source": [
    "#insert exercise 27"
   ]
  },
  {
   "cell_type": "markdown",
   "metadata": {},
   "source": [
    "### Exercise 28 - Dachshund\n",
    "Go back to your Dachshund subclass. Using the new Dog class as its parent, make new attributes for the dog besides hot_dogs that allows the user to enter length and height using \\*\\*kwargs. For example, entering:\n",
    "\n",
    "```python\n",
    "dog = Dachsund(\"Fido\", \"Owner1\", \"Owner2\", chases_cats = False, age=3, weight = 100, length=10, height=5, hot_dogs = True)\n",
    "print(dog)\n",
    "```\n",
    "\n",
    "then the output should be:\n",
    "\n",
    "```python\n",
    "Fido likes hotdogs: True and his owners are ('Owner1', 'Owner2') and his length is 10 \n",
    "```"
   ]
  },
  {
   "cell_type": "code",
   "execution_count": 14,
   "metadata": {},
   "outputs": [],
   "source": [
    "#insert exercise 28"
   ]
  },
  {
   "cell_type": "markdown",
   "metadata": {},
   "source": [
    "### Exercise 29 - Books\n",
    "Create a Book class that contains attributes for author, title, original_price, and discount, all created using keyword arguments. Make the default value for original_price and discount be 0 (not None). Add a property getter and setter for sale_price. If the original price is 12 and the discount is 10 percent, then the sale price should be 10.80. If the discount is set to 50% and the sale price is 12, then the original price should be changed to 24."
   ]
  },
  {
   "cell_type": "code",
   "execution_count": 15,
   "metadata": {},
   "outputs": [],
   "source": [
    "#insert exercise 29"
   ]
  },
  {
   "cell_type": "code",
   "execution_count": null,
   "metadata": {},
   "outputs": [],
   "source": []
  }
 ],
 "metadata": {
  "kernelspec": {
   "display_name": "Python 3",
   "language": "python",
   "name": "python3"
  },
  "language_info": {
   "codemirror_mode": {
    "name": "ipython",
    "version": 3
   },
   "file_extension": ".py",
   "mimetype": "text/x-python",
   "name": "python",
   "nbconvert_exporter": "python",
   "pygments_lexer": "ipython3",
   "version": "3.8.3"
  }
 },
 "nbformat": 4,
 "nbformat_minor": 1
}
