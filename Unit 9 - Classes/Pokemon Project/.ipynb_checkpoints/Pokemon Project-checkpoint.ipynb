{
 "cells": [
  {
   "cell_type": "markdown",
   "metadata": {},
   "source": [
    "In this project, you will make a simplified Pokémon game. Here are some things to know about Pokémon:\n",
    "    \n",
    "Pokémon have different types. Here are the 18 types: "
   ]
  },
  {
   "cell_type": "code",
   "execution_count": 8,
   "metadata": {
    "collapsed": true
   },
   "outputs": [],
   "source": [
    "TYPES = [\n",
    "    'Normal',\n",
    "    'Fight',\n",
    "    'Flying',\n",
    "    'Poison',\n",
    "    'Ground',\n",
    "    'Rock',\n",
    "    'Bug',\n",
    "    'Ghost',\n",
    "    'Steel',\n",
    "    'Fire',\n",
    "    'Water',\n",
    "    'Grass',\n",
    "    'Electric',\n",
    "    'Psychic',\n",
    "    'Ice',\n",
    "    'Dragon',\n",
    "    'Dark',\n",
    "    'Fairy'\n",
    "]"
   ]
  },
  {
   "cell_type": "markdown",
   "metadata": {},
   "source": [
    "For example, Bulbasaur is a grass and poison type, Charmander is a fire type, and Squirtle is a water type. Below are 14 examples of Pokémon characters and their types:"
   ]
  },
  {
   "cell_type": "code",
   "execution_count": 1,
   "metadata": {
    "collapsed": true
   },
   "outputs": [],
   "source": [
    "CHARACTERS = {\n",
    "    'Pikachu': ['Electric'],\n",
    "    'Charizard': ['Fire', 'Flying'],\n",
    "    'Squirtle': ['Water'],\n",
    "    'Jigglypuff': ['Normal', 'Fairy'],\n",
    "    'Gengar': ['Ghost', 'Poison'],\n",
    "    'Magnemite': ['Electric', 'Steel'],\n",
    "    'Bulbasaur': ['Grass', 'Poison'],\n",
    "    'Charmander': ['Fire'],\n",
    "    'Beedrill': ['Bug', 'Poison'],\n",
    "    'Golem': ['Rock', 'Ground'],\n",
    "    'Dewgong': ['Water', 'Ice'],\n",
    "    'Hypno': ['Psychic'],\n",
    "    'Cleffa': ['Fairy'],\n",
    "    'Cutiefly': ['Fairy', 'Bug']\n",
    "}"
   ]
  },
  {
   "cell_type": "markdown",
   "metadata": {},
   "source": [
    "Consider the following events:\n",
    "\n",
    "The Pokémon battle starts.\n",
    "\n",
    "The user attacks its target.\n",
    "\n",
    "The target loses HP (hit points) and attacks back.\n",
    "\n",
    "The first one to 0 HP loses.\n",
    "\n",
    "Hit points determine how much damage a Pokémon can take. For example, Pikachu can take 35 hit points before it faints.\n",
    "\n",
    "Here are the hit points that everyone starts with:\n"
   ]
  },
  {
   "cell_type": "code",
   "execution_count": 9,
   "metadata": {
    "collapsed": true
   },
   "outputs": [],
   "source": [
    "HIT_POINTS = {\n",
    "    'Pikachu': 35,\n",
    "    'Charizard': 78,\n",
    "    'Squirtle': 44,\n",
    "    'Jigglypuff': 115,\n",
    "    'Gengar': 60 ,\n",
    "    'Magnemite': 25,\n",
    "    'Bulbasaur': 45,\n",
    "    'Charmander': 39,\n",
    "    'Beedrill': 65,\n",
    "    'Golem': 80,\n",
    "    'Dewgong': 90,\n",
    "    'Hypno': 85,\n",
    "    'Cleffa': 50,\n",
    "    'Cutiefly': 40\n",
    "}"
   ]
  },
  {
   "cell_type": "markdown",
   "metadata": {},
   "source": [
    "Each Pokémon has a list of possible attack moves that they can make. For example, Gengar and Hypno can both do a Dream Eater move. Here are some of their attack moves:"
   ]
  },
  {
   "cell_type": "code",
   "execution_count": 7,
   "metadata": {
    "collapsed": true
   },
   "outputs": [],
   "source": [
    "ATTACKS = {\n",
    "    'Pikachu': ['Thunder Shock',  'Double Kick', 'Thunderbolt'],\n",
    "    'Charizard': [ 'Crunch', 'Ember', 'Scratch', 'Wing Attack'],\n",
    "    'Squirtle': ['Tackle',  'Bubble', 'Bite'],\n",
    "    'Jigglypuff': ['Pound', 'Body Slam', 'Double Slap'],\n",
    "    'Gengar': ['Lick', 'Smog', 'Dream Eater', 'Shadow Ball'],\n",
    "    'Magnemite': [ 'Tackle', 'Flash Cannon', 'Thunder Shock', 'Thunderbolt'],\n",
    "    'Bulbasaur': ['Tackle', 'Vine Whip', 'Razor Leaf'],\n",
    "    'Charmander': ['Scratch', 'Ember', 'Fire Spin'],\n",
    "    'Beedrill': ['Peck', 'Twineedle', 'Rage', 'Fury Attack', 'Outrage'],\n",
    "    'Golem': [ 'Tackle', 'Rock Throw', 'Rock Slide', 'Earthquake'],\n",
    "    'Dewgong': ['Aqua Jet',  'Ice Shard', 'Headbutt'],\n",
    "    'Hypno': ['Pound', 'Confusion', 'Dream Eater'],\n",
    "    'Cleffa': [ 'Pound', 'Magical Leaf'],\n",
    "    'Cutiefly': ['Absorb', 'Fairy Wind', 'Struggle Bug', 'Draining Kiss']\n",
    "    \n",
    "}"
   ]
  },
  {
   "cell_type": "markdown",
   "metadata": {},
   "source": [
    "Each move has a type. For example, Gengar (a ghost/poison type) and Hypno (a psychic type) can both do a Dream Eater move (a psychic move). Here are the moves characterized by type:"
   ]
  },
  {
   "cell_type": "code",
   "execution_count": 16,
   "metadata": {
    "collapsed": true
   },
   "outputs": [],
   "source": [
    "MOVES = {\n",
    "    \"Normal\" : [ 'Scratch', 'Tackle',  'Pound', 'Rage', 'Fury Attack', 'Body Slam', 'Double Slap', 'Headbutt'] ,\n",
    "    \"Fire\" : ['Ember', 'Fire Spin'],\n",
    "    \"Water\" : ['Bubble', 'Aqua Jet'],\n",
    "    \"Electric\" : ['Thunder Shock', 'Thunderbolt'],\n",
    "    \"Grass\" : ['Vine Whip', 'Magical Leaf', 'Razor Leaf', 'Absorb'],\n",
    "    \"Ice\" : ['Ice Shard'],\n",
    "    \"Fighting\" : ['Double Kick'],\n",
    "    \"Poison\" : ['Smog'],\n",
    "    \"Ground\" : ['Earthquake'],\n",
    "    \"Flying\" : ['Wing Attack', 'Peck'],\n",
    "    \"Psychic\" : ['Confusion', 'Dream Eater'] ,\n",
    "    \"Bug\" : ['Twineedle', 'Struggle Bug'],\n",
    "    \"Rock\" : ['Rock Throw', 'Rock Slide'],\n",
    "    \"Ghost\" : ['Lick', 'Shadow Ball'] ,\n",
    "    \"Dragon\" : ['Outrage'],\n",
    "    \"Dark\" : ['Crunch', 'Bite'],\n",
    "    \"Steel\" : ['Flash Cannon'],\n",
    "    \"Fairy\" : ['Fairy Wind', 'Draining Kiss']\n",
    "}"
   ]
  },
  {
   "cell_type": "markdown",
   "metadata": {},
   "source": [
    "Pokémon types dictate whether one Pokémon's attack is strong or weak (i.e., super effective or not very effective) against another, dealing additional or reduced damage as a result. For example, a Fire type attack is strong against Bug, Steel, Grass, and Ice types, and weak against Rock Fire, Water, and Dragon types. Thus, if you choose Charmander as your Pokémon, which is a Fire type, then you are strong against Bug, Steel, Grass, and Ice attack types, and weak against Rock Fire, Water, and Dragon attack types.\n",
    "\n",
    "If your attack is a weakness of your opponent, then your attack is \"super effective\", and inflicts 2 times the typical damage done. If your attack is one of your opponent's strengths, then your attack is \"not very effective\", and delivers half the typical amount of damage done. If your attack is not a weakness or strength of the opponent, then you do a standard amount of damage (1x).\n",
    "\n",
    "For example, if you choose to use Charmander's Fire Spin (a fire type move), which is super effective against Bulbasaur (a grass type), it will cause double damage to Bulbasaur.\n",
    "\n",
    "Here is a chart:\n",
    "![title](Pokemon_images/types.png)\n",
    "\n",
    "In the dictionaries below, the key is the type of attack and the values are the Pokémon types that are strong or weak against that type of attack."
   ]
  },
  {
   "cell_type": "code",
   "execution_count": 4,
   "metadata": {
    "collapsed": true
   },
   "outputs": [],
   "source": [
    "SUPER_EFFECTIVE = {\n",
    "    \"Normal\" : [\"N/A\"],\n",
    "    \"Fire\" : [\"Grass\", \"Ice\", \"Bug\", \"Steel\"],\n",
    "    \"Water\" : [\"Fire\", \"Ground\", \"Rock\"],\n",
    "    \"Electric\" : [\"Water\", \"Flying\"],\n",
    "    \"Grass\" : [\"Water\", \"Ground\", \"Rock\"],\n",
    "    \"Ice\" : [\"Grass\", \"Ground\", \"Flying\", \"Dragon\"],\n",
    "    \"Fighting\" : [\"Normal\", \"Ice\", \"Rock\", \"Dark\", \"Steel\"],\n",
    "    \"Poison\" : [\"Grass\", \"Fairy\"],\n",
    "    \"Ground\" : [\"Fire\", \"Electric\", \"Poison\", \"Rock\", \"Steel\"],\n",
    "    \"Flying\" : [\"Grass\", \"Fighting\", \"Bug\"],\n",
    "    \"Psychic\" : [\"Fighting\", \"Poison\"],\n",
    "    \"Bug\" : [\"Grass\", \"Psychic\", \"Dark\"],\n",
    "    \"Rock\" : [\"Fire\", \"Ice\", \"Flying\", \"Bug\"],\n",
    "    \"Ghost\" : [\"Psychic\", \"Ghost\"],\n",
    "    \"Dragon\" : [\"Dragon\"],\n",
    "    \"Dark\" : [\"Psychic\", \"Ghost\"],\n",
    "    \"Steel\" : [\"Ice\", \"Rock\", \"Fairy\"],\n",
    "    \"Fairy\" : [\"Fighting\", \"Dragon\", \"Dark\"]\n",
    "}\n",
    "\n",
    "NOT_VERY_EFFECTIVE = {\n",
    "    \"Normal\" : [\"Rock\", \"Steel\"],\n",
    "    \"Fire\" : [\"Fire\", \"Water\", \"Rock\", \"Dragon\"],\n",
    "    \"Water\" : [\"Water\", \"Grass\", \"Dragon\"],\n",
    "    \"Electric\" : [\"Electric\", \"Grass\", \"Dragon\"],\n",
    "    \"Grass\" : [\"Fire\", \"Grass\", \"Poison\", \"Flying\", \"Bug\", \"Dragon\", \"Steel\"],\n",
    "    \"Ice\" : [\"Fire\", \"Water\", \"Ice\", \"Steel\"],\n",
    "    \"Fighting\" : [\"Poison\", \"Flying\", \"Psychic\", \"Bug\", \"Fairy\"],\n",
    "    \"Poison\" : [\"Poison\", \"Ground\", \"Rock\", \"Ghost\"],\n",
    "    \"Ground\" : [\"Grass\", \"Bug\"],\n",
    "    \"Flying\" : [\"Electric\", \"Rock\", \"Steel\"],\n",
    "    \"Psychic\" : [\"Psychic\", \"Steel\"],\n",
    "    \"Bug\" : [\"Fire\", \"Fighting\", \"Poison\", \"Flying\", \"Ghost\", \"Steel\", \"Fairy\"],\n",
    "    \"Rock\" : [\"Fighting\", \"Ground\", \"Steel\"],\n",
    "    \"Ghost\" : [\"Dark\"],\n",
    "    \"Dragon\" : [\"Steel\"],\n",
    "    \"Dark\" : [\"Fighting\", \"Dark\", \"Fairy\"],\n",
    "    \"Steel\" : [\"Fire\", \"Water\", \"Electric\", \"Steel\"],\n",
    "    \"Fairy\" : [\"Fire\", \"Poison\", \"Steel\"]\n",
    "}\n"
   ]
  },
  {
   "cell_type": "markdown",
   "metadata": {
    "collapsed": true
   },
   "source": [
    "Okay, so we know that certain types of attacks do half, standard, or double damage, but how do we actually calculate the damage? Well, damage depends partly on how much power each move has. Below is the power of each type of attack:"
   ]
  },
  {
   "cell_type": "code",
   "execution_count": 12,
   "metadata": {
    "collapsed": true
   },
   "outputs": [],
   "source": [
    "POWERS = {\n",
    "    'Scratch': 40,\n",
    "    'Tackle': 40,\n",
    "    'Pound': 40,\n",
    "    'Rage': 20,\n",
    "    'Fury Attack': 15,\n",
    "    'Ember': 40,\n",
    "    'Fire Spin': 35,\n",
    "    'Bubble': 40, \n",
    "    'Aqua Jet': 40,\n",
    "    'Thunder Shock': 40,\n",
    "    'Thunderbolt': 90,\n",
    "    'Vine Whip': 45,\n",
    "    'Magical Leaf': 60,\n",
    "    'Ice Shard': 40,\n",
    "    'Double Kick': 30,\n",
    "    'Earthquake': 100,\n",
    "    'Wing Attack': 60,\n",
    "    'Peck': 35,\n",
    "    'Confusion': 50,\n",
    "    'Twineedle': 25,\n",
    "    'Rock Throw': 50,\n",
    "    'Rock Slide': 75,\n",
    "    'Lick': 30,\n",
    "    'Outrage': 120,\n",
    "    'Crunch': 80,\n",
    "    'Bite': 60,\n",
    "    'Flash Cannon': 80,\n",
    "    'Smog': 30,\n",
    "    'Dream Eater': 100,\n",
    "    'Body Slam': 85,\n",
    "    'Double Slap': 15,\n",
    "    'Razor Leaf': 55,\n",
    "    'Headbutt': 70,\n",
    "    'Absorb': 20, \n",
    "    'Fairy Wind': 40, \n",
    "    'Struggle Bug': 50, \n",
    "    'Draining Kiss': 50,\n",
    "    'Shadow Ball': 80\n",
    "}"
   ]
  },
  {
   "cell_type": "markdown",
   "metadata": {},
   "source": [
    "How is damage actually calculated? According to this pretty complicated formula:\n",
    "\n",
    "$$Damage=(\\frac{(\\frac{2 \\times Level}{5}+2) \\times Power \\times \\frac{A}{D}}{50}) \\times Modifier$$\n",
    "\n",
    "Let's simplify this a bit by assuming that all Pokémon are on Level 50:\n",
    "\n",
    "$$Damage=(\\frac{22 \\times Power \\times \\frac{A}{D}}{50}) \\times Modifier$$\n",
    "\n",
    "What are A and D? A is the effective Attack stat of the attacking Pokémon and D is the is the effective Defense stat of the target Pokémon. This info for each Pokémon is listed below:"
   ]
  },
  {
   "cell_type": "code",
   "execution_count": null,
   "metadata": {
    "collapsed": true
   },
   "outputs": [],
   "source": [
    "STATS = {\n",
    "    'Pikachu': {'Attack': 55, 'Defense': 40}\n",
    "    'Charizard': {'Attack': 84, 'Defense': 78}\n",
    "    'Squirtle': {'Attack': 48, 'Defense': 65}\n",
    "    'Jigglypuff': {'Attack': 45, 'Defense': 20}\n",
    "    'Gengar': {'Attack': 65, 'Defense': 60}\n",
    "    'Magnemite': {'Attack': 35, 'Defense': 70}\n",
    "    'Bulbasaur': {'Attack': 49, 'Defense': 49}\n",
    "    'Charmander': {'Attack': 52, 'Defense': 43}\n",
    "    'Beedrill': {'Attack': 90, 'Defense': 40}\n",
    "    'Golem': {'Attack': 120, 'Defense': 130}\n",
    "    'Dewgong': {'Attack': 70, 'Defense': 80}\n",
    "    'Hypno': {'Attack': 73, 'Defense': 70}\n",
    "    'Cleffa': {'Attack': 25, 'Defense': 28}\n",
    "    'Cutiefly': {'Attack': 45, 'Defense': 40}\n",
    "}"
   ]
  },
  {
   "cell_type": "markdown",
   "metadata": {},
   "source": [
    "Actually, let's put all Pokémon data into one dictionary for simplicity:"
   ]
  },
  {
   "cell_type": "code",
   "execution_count": 21,
   "metadata": {},
   "outputs": [
    {
     "name": "stdout",
     "output_type": "stream",
     "text": [
      "{'Type': ['Electric'], 'HP': 35, 'Moves': ['Thunder Shock', 'Double Kick', 'Thunderbolt'], 'Attack': 55, 'Defense': 40}\n"
     ]
    }
   ],
   "source": [
    "POKEMONS = {\n",
    "    'Pikachu': {'Type': ['Electric'], 'HP': 35, 'Moves': ['Thunder Shock',  'Double Kick', 'Thunderbolt'], 'Attack': 55, 'Defense': 40},\n",
    "    'Charizard': {'Type': ['Fire', 'Flying'], 'HP': 78, 'Moves': [ 'Crunch', 'Ember', 'Scratch', 'Wing Attack'], 'Attack': 84, 'Defense': 78},\n",
    "    'Squirtle': {'Type': ['Water'], 'HP': 44, 'Moves': ['Tackle',  'Bubble', 'Bite'], 'Attack': 48, 'Defense': 65},\n",
    "    'Jigglypuff': {'Type': ['Normal', 'Fairy'], 'HP': 115, 'Moves': ['Pound', 'Body Slam', 'Double Slap'], 'Attack': 45, 'Defense': 20},\n",
    "    'Gengar': {'Type': ['Ghost', 'Poison'], 'HP': 60, 'Moves': ['Lick', 'Smog', 'Dream Eater', 'Shadow Ball'], 'Attack': 65, 'Defense': 60},\n",
    "    'Magnemite': {'Type': ['Electric', 'Steel'], 'HP': 25, 'Moves': [ 'Tackle', 'Flash Cannon', 'Thunder Shock', 'Thunderbolt'],  'Attack': 35, 'Defense': 70},\n",
    "    'Bulbasaur': {'Type': ['Grass', 'Poison'], 'HP': 45, 'Moves': ['Tackle', 'Vine Whip', 'Razor Leaf'], 'Attack': 49, 'Defense': 49},\n",
    "    'Charmander': {'Type': ['Fire'], 'HP': 39, 'Moves': ['Scratch', 'Ember', 'Fire Spin'], 'Attack': 52, 'Defense': 43},\n",
    "    'Beedrill': {'Type': ['Bug', 'Poison'], 'HP': 65, 'Moves': ['Peck', 'Twineedle', 'Rage', 'Fury Attack', 'Outrage'], 'Attack': 90, 'Defense': 40},\n",
    "    'Golem': {'Type': ['Rock', 'Ground'], 'HP': 80, 'Moves': [ 'Tackle', 'Rock Throw', 'Rock Slide', 'Earthquake'], 'Attack': 120, 'Defense': 130},\n",
    "    'Dewgong': {'Type': ['Water', 'Ice'], 'HP': 90, 'Moves': ['Aqua Jet',  'Ice Shard', 'Headbutt'], 'Attack': 70, 'Defense': 80},\n",
    "    'Hypno': {'Type': ['Psychic'],'HP': 85, 'Moves': ['Pound', 'Confusion', 'Dream Eater'], 'Attack': 73, 'Defense': 70},\n",
    "    'Cleffa': {'Type': ['Fairy'], 'HP': 50, 'Moves': [ 'Pound', 'Magical Leaf'], 'Attack': 25, 'Defense': 28},\n",
    "    'Cutiefly': {'Type': ['Fairy', 'Bug'], 'HP': 40, 'Moves': ['Absorb', 'Fairy Wind', 'Struggle Bug', 'Draining Kiss'], 'Attack': 45, 'Defense': 40}\n",
    "}\n",
    "\n"
   ]
  },
  {
   "cell_type": "markdown",
   "metadata": {},
   "source": [
    "What is the modifier in the damage formula above? Our simplified modifier will be:\n",
    "\n",
    "$$ Modifier = Critical \\times Random \\times Type $$\n",
    "\n",
    "Recall that type can be 0.5 (not very effective), 1 (normally effective), or 2 (super effective), depending on both the move's and target's types.\n",
    "\n",
    "Random is a random integer percentage between 0.85 and 1.00 (inclusive).\n",
    "\n",
    "Critical is 2 if you have landed a critical hit and 1 otherwise. What is a critical hit? This is the one last things to understand. A critical hit is a random event that multiplies the damage of a damage-dealing move. When one occurs, the game will display the message \"A critical hit!\" after the damage has been dealt. \n",
    "\n",
    "How does one calculate the probability that the attack was critical? Whether a move scores a critical hit is determined by comparing a random number (0 to 255) against a threshold value (also 0 to 255); if the random number is less than the threshold, T, then the Pokémon scores a critical hit. If the threshold value is T, then this means the probability (P) of scoring a critical hit is P = T / 256. \n",
    "\n",
    "How does one calculate the threshold value? The value of T is based on a Pokémon's base Speed. For a normal move, T is half the attacking pokémon's Speed: $$ T = Speed / 2 $$\n",
    "\n",
    "Therefore, the probability that you landed a critical hit based on your Pokémon's speed is: $$ P = Speed / 512 $$\n",
    "\n",
    "Therefore, there will be TWO different random components to our damage calculation, represented by Random and Critical in the formulas above, and we'll need to add another attribute, speed, to our Pokémon dictionary:"
   ]
  },
  {
   "cell_type": "code",
   "execution_count": 22,
   "metadata": {
    "collapsed": true
   },
   "outputs": [],
   "source": [
    "POKEMONS = {\n",
    "    'Pikachu': {'Type': ['Electric'], 'HP': 35, 'Moves': ['Thunder Shock',  'Double Kick', 'Thunderbolt'], 'Attack': 55, 'Defense': 40, 'Speed': 90},\n",
    "    'Charizard': {'Type': ['Fire', 'Flying'], 'HP': 78, 'Moves': [ 'Crunch', 'Ember', 'Scratch', 'Wing Attack'], 'Attack': 84, 'Defense': 78, 'Speed': 100},\n",
    "    'Squirtle': {'Type': ['Water'], 'HP': 44, 'Moves': ['Tackle',  'Bubble', 'Bite'], 'Attack': 48, 'Defense': 65, 'Speed': 43},\n",
    "    'Jigglypuff': {'Type': ['Normal', 'Fairy'], 'HP': 115, 'Moves': ['Pound', 'Body Slam', 'Double Slap'], 'Attack': 45, 'Defense': 20, 'Speed': 20},\n",
    "    'Gengar': {'Type': ['Ghost', 'Poison'], 'HP': 60, 'Moves': ['Lick', 'Smog', 'Dream Eater', 'Shadow Ball'], 'Attack': 65, 'Defense': 60, 'Speed': 110},\n",
    "    'Magnemite': {'Type': ['Electric', 'Steel'], 'HP': 25, 'Moves': [ 'Tackle', 'Flash Cannon', 'Thunder Shock', 'Thunderbolt'],  'Attack': 35, 'Defense': 70, 'Speed': 45},\n",
    "    'Bulbasaur': {'Type': ['Grass', 'Poison'], 'HP': 45, 'Moves': ['Tackle', 'Vine Whip', 'Razor Leaf'], 'Attack': 49, 'Defense': 49, 'Speed': 45},\n",
    "    'Charmander': {'Type': ['Fire'], 'HP': 39, 'Moves': ['Scratch', 'Ember', 'Fire Spin'], 'Attack': 52, 'Defense': 43, 'Speed': 65},\n",
    "    'Beedrill': {'Type': ['Bug', 'Poison'], 'HP': 65, 'Moves': ['Peck', 'Twineedle', 'Rage', 'Fury Attack', 'Outrage'], 'Attack': 90, 'Defense': 40, 'Speed': 75},\n",
    "    'Golem': {'Type': ['Rock', 'Ground'], 'HP': 80, 'Moves': [ 'Tackle', 'Rock Throw', 'Rock Slide', 'Earthquake'], 'Attack': 120, 'Defense': 130, 'Speed': 45},\n",
    "    'Dewgong': {'Type': ['Water', 'Ice'], 'HP': 90, 'Moves': ['Aqua Jet',  'Ice Shard', 'Headbutt'], 'Attack': 70, 'Defense': 80, 'Speed': 70},\n",
    "    'Hypno': {'Type': ['Psychic'],'HP': 85, 'Moves': ['Pound', 'Confusion', 'Dream Eater'], 'Attack': 73, 'Defense': 70, 'Speed': 67},\n",
    "    'Cleffa': {'Type': ['Fairy'], 'HP': 50, 'Moves': [ 'Pound', 'Magical Leaf'], 'Attack': 25, 'Defense': 28, 'Speed': 15},\n",
    "    'Cutiefly': {'Type': ['Fairy', 'Bug'], 'HP': 40, 'Moves': ['Absorb', 'Fairy Wind', 'Struggle Bug', 'Draining Kiss'], 'Attack': 45, 'Defense': 40, 'Speed': 84}\n",
    "}\n"
   ]
  },
  {
   "cell_type": "markdown",
   "metadata": {},
   "source": [
    "Now let's return to levels. When a Pokémon beats another Pokémon, he gains experience points. With enough experience points, the Pokémon achieves the next level. Levels go from 1 to 100. When a player just starts out, they have 0 experience points and are on level 1. Once they gain experience points, the function that models experience points versus level is the cube root function:\n",
    "\n",
    "$$ Level = (Experience)^{1/3} $$\n",
    "\n",
    "We can now take level into experience when calculating damage:\n",
    "\n",
    "$$Damage=(\\frac{(\\frac{2 \\times Level}{5}+2) \\times Power \\times \\frac{A}{D}}{50}) \\times Modifier$$\n",
    "\n",
    "Thus, we need to add one more key to our Pokémon dictionary, experience points, which indicates the points gained when you beat that type of Pokémon."
   ]
  },
  {
   "cell_type": "code",
   "execution_count": null,
   "metadata": {
    "collapsed": true
   },
   "outputs": [],
   "source": [
    "POKEMONS = {\n",
    "    'Pikachu': {'Type': ['Electric'], 'HP': 35, 'Moves': ['Thunder Shock',  'Double Kick', 'Thunderbolt'], 'Attack': 55, 'Defense': 40, 'Speed': 90, 'Exp': 112},\n",
    "    'Charizard': {'Type': ['Fire', 'Flying'], 'HP': 78, 'Moves': [ 'Crunch', 'Ember', 'Scratch', 'Wing Attack'], 'Attack': 84, 'Defense': 78, 'Speed': 100, 'Exp': 240},\n",
    "    'Squirtle': {'Type': ['Water'], 'HP': 44, 'Moves': ['Tackle',  'Bubble', 'Bite'], 'Attack': 48, 'Defense': 65, 'Speed': 43, 'Exp': 63},\n",
    "    'Jigglypuff': {'Type': ['Normal', 'Fairy'], 'HP': 115, 'Moves': ['Pound', 'Body Slam', 'Double Slap'], 'Attack': 45, 'Defense': 20, 'Speed': 20, 'Exp': 95},\n",
    "    'Gengar': {'Type': ['Ghost', 'Poison'], 'HP': 60, 'Moves': ['Lick', 'Smog', 'Dream Eater', 'Shadow Ball'], 'Attack': 65, 'Defense': 60, 'Speed': 110, 'Exp':225},\n",
    "    'Magnemite': {'Type': ['Electric', 'Steel'], 'HP': 25, 'Moves': [ 'Tackle', 'Flash Cannon', 'Thunder Shock', 'Thunderbolt'],  'Attack': 35, 'Defense': 70, 'Speed': 45, 'Exp': 65},\n",
    "    'Bulbasaur': {'Type': ['Grass', 'Poison'], 'HP': 45, 'Moves': ['Tackle', 'Vine Whip', 'Razor Leaf'], 'Attack': 49, 'Defense': 49, 'Speed': 45, 'Exp': 64},\n",
    "    'Charmander': {'Type': ['Fire'], 'HP': 39, 'Moves': ['Scratch', 'Ember', 'Fire Spin'], 'Attack': 52, 'Defense': 43, 'Speed': 65, 'Exp': 62},\n",
    "    'Beedrill': {'Type': ['Bug', 'Poison'], 'HP': 65, 'Moves': ['Peck', 'Twineedle', 'Rage', 'Fury Attack', 'Outrage'], 'Attack': 90, 'Defense': 40, 'Speed': 75, 'Exp': 178},\n",
    "    'Golem': {'Type': ['Rock', 'Ground'], 'HP': 80, 'Moves': [ 'Tackle', 'Rock Throw', 'Rock Slide', 'Earthquake'], 'Attack': 120, 'Defense': 130, 'Speed': 45, 'Exp': 223},\n",
    "    'Dewgong': {'Type': ['Water', 'Ice'], 'HP': 90, 'Moves': ['Aqua Jet',  'Ice Shard', 'Headbutt'], 'Attack': 70, 'Defense': 80, 'Speed': 70, 'Exp': 166},\n",
    "    'Hypno': {'Type': ['Psychic'],'HP': 85, 'Moves': ['Pound', 'Confusion', 'Dream Eater'], 'Attack': 73, 'Defense': 70, 'Speed': 67, 'Exp': 169},\n",
    "    'Cleffa': {'Type': ['Fairy'], 'HP': 50, 'Moves': [ 'Pound', 'Magical Leaf'], 'Attack': 25, 'Defense': 28, 'Speed': 15, 'Exp': 44},\n",
    "    'Cutiefly': {'Type': ['Fairy', 'Bug'], 'HP': 40, 'Moves': ['Absorb', 'Fairy Wind', 'Struggle Bug', 'Draining Kiss'], 'Attack': 45, 'Defense': 40, 'Speed': 84, 'Exp': 61}\n",
    "}"
   ]
  },
  {
   "cell_type": "markdown",
   "metadata": {},
   "source": [
    "Your task: Create a Pokémon game. \n",
    "\n",
    "1.Create a Pokémon class that contains the following information:\n",
    "\n",
    "Attributes: name, type_, HP, Attack, Defense, Speed, Experience, Moves\n",
    "\n",
    "Methods: attack, take_damage, update_level\n",
    "\n",
    "2.Create subclasses for each of the fourteen Pokémon. Make sure to use super_init.\n",
    "\n",
    "3.The user will need to choose a Bulbusaur, Charmander, or Squirtle to start with. Think carefully about user interface. How will a user play the game? How will a person that has never played before know how to play? How will a person choose which move to use based on which Pokémon they chose? Etc.\n",
    "\n",
    "4.The computer should randomly generate Pokémon for the user to fight against. Whichever Pokémon has the higher speed gets to attack first. They proceed to alternate attacking each other until one of them has fainted.\n",
    "\n",
    "5.Once a user has beaten a Pokémon, they add that Pokémon to their collection, and can then choose to use that Pokémon to fight their enemy with as well. For example, if the user starts with Bulbasaur, but then defeats a randomly generated Cutiefly, then the user can then choose to attack their new randomly generated enemy, Dewgong, with either Bulbasuar or Cutiefly. Of course, if the user lost to Cutiefly and in doing so their HP points dropped to zero or below, then the game is over, and the game should print \"Your Pokémon fainted. Game over.\"\n",
    "\n",
    "6.Extension: Pygame is a Python package designed for writing video games. It includes computer graphics and sound libraries. In the images folder you will find pictures of each Pokemon. Read some online Pygame tutorials in order to figure out how to view images of the Pokemon involved in each battle. Can you create bars for how much HP, Experience, and Level your Pokemon has?"
   ]
  },
  {
   "cell_type": "code",
   "execution_count": null,
   "metadata": {
    "collapsed": true
   },
   "outputs": [],
   "source": []
  }
 ],
 "metadata": {
  "kernelspec": {
   "display_name": "Python 3",
   "language": "python",
   "name": "python3"
  },
  "language_info": {
   "codemirror_mode": {
    "name": "ipython",
    "version": 3
   },
   "file_extension": ".py",
   "mimetype": "text/x-python",
   "name": "python",
   "nbconvert_exporter": "python",
   "pygments_lexer": "ipython3",
   "version": "3.6.0"
  }
 },
 "nbformat": 4,
 "nbformat_minor": 2
}
