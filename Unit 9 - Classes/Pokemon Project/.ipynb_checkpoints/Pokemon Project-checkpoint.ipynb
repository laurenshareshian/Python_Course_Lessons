{
 "cells": [
  {
   "cell_type": "markdown",
   "metadata": {},
   "source": [
    "In this project, you will make a simplified Pokémon game. Here are some things to know about Pokémon:\n",
    "    \n",
    "Pokémon have different types. Here are the 18 types: "
   ]
  },
  {
   "cell_type": "code",
   "execution_count": 1,
   "metadata": {
    "collapsed": true
   },
   "outputs": [],
   "source": [
    "TYPES = [\n",
    "    'Normal',\n",
    "    'Fight',\n",
    "    'Flying',\n",
    "    'Poison',\n",
    "    'Ground',\n",
    "    'Rock',\n",
    "    'Bug',\n",
    "    'Ghost',\n",
    "    'Steel',\n",
    "    'Fire',\n",
    "    'Water',\n",
    "    'Grass',\n",
    "    'Electric',\n",
    "    'Psychic',\n",
    "    'Ice',\n",
    "    'Dragon',\n",
    "    'Dark',\n",
    "    'Fairy'\n",
    "]"
   ]
  },
  {
   "cell_type": "markdown",
   "metadata": {},
   "source": [
    "For example, Bulbasaur is a grass and poison type, Charmander is a fire type, and Squirtle is a water type. Below are 14 examples of Pokémon characters and their types:"
   ]
  },
  {
   "cell_type": "code",
   "execution_count": 2,
   "metadata": {
    "collapsed": true
   },
   "outputs": [],
   "source": [
    "CHARACTERS = {\n",
    "    'Pikachu': ['Electric'],\n",
    "    'Charizard': ['Fire', 'Flying'],\n",
    "    'Squirtle': ['Water'],\n",
    "    'Jigglypuff': ['Normal', 'Fairy'],\n",
    "    'Gengar': ['Ghost', 'Poison'],\n",
    "    'Magnemite': ['Electric', 'Steel'],\n",
    "    'Bulbasaur': ['Grass', 'Poison'],\n",
    "    'Charmander': ['Fire'],\n",
    "    'Beedrill': ['Bug', 'Poison'],\n",
    "    'Golem': ['Rock', 'Ground'],\n",
    "    'Dewgong': ['Water', 'Ice'],\n",
    "    'Hypno': ['Psychic'],\n",
    "    'Cleffa': ['Fairy'],\n",
    "    'Cutiefly': ['Fairy', 'Bug']\n",
    "}"
   ]
  },
  {
   "cell_type": "markdown",
   "metadata": {},
   "source": [
    "Consider the following events:\n",
    "\n",
    "The Pokémon battle starts.\n",
    "\n",
    "One Pokémon attacks its target.\n",
    "\n",
    "The target loses HP (hit points) and attacks back.\n",
    "\n",
    "The first one to 0 HP loses.\n",
    "\n",
    "Hit points determine how much damage a Pokémon can take. For example, Pikachu can take 35 hit points before it faints.\n",
    "\n",
    "Here are the hit points that everyone starts with:\n"
   ]
  },
  {
   "cell_type": "code",
   "execution_count": 3,
   "metadata": {
    "collapsed": true
   },
   "outputs": [],
   "source": [
    "HIT_POINTS = {\n",
    "    'Pikachu': 35,\n",
    "    'Charizard': 78,\n",
    "    'Squirtle': 44,\n",
    "    'Jigglypuff': 115,\n",
    "    'Gengar': 60 ,\n",
    "    'Magnemite': 25,\n",
    "    'Bulbasaur': 45,\n",
    "    'Charmander': 39,\n",
    "    'Beedrill': 65,\n",
    "    'Golem': 80,\n",
    "    'Dewgong': 90,\n",
    "    'Hypno': 85,\n",
    "    'Cleffa': 50,\n",
    "    'Cutiefly': 40\n",
    "}"
   ]
  },
  {
   "cell_type": "markdown",
   "metadata": {},
   "source": [
    "Each Pokémon has a list of possible attack moves that they can make. For example, Gengar and Hypno can both do a Dream Eater move. Here are some of their attack moves:"
   ]
  },
  {
   "cell_type": "code",
   "execution_count": 4,
   "metadata": {
    "collapsed": true
   },
   "outputs": [],
   "source": [
    "ATTACKS = {\n",
    "    'Pikachu': ['Thunder Shock',  'Double Kick', 'Thunderbolt'],\n",
    "    'Charizard': [ 'Crunch', 'Ember', 'Scratch', 'Wing Attack'],\n",
    "    'Squirtle': ['Tackle',  'Bubble', 'Bite'],\n",
    "    'Jigglypuff': ['Pound', 'Body Slam', 'Double Slap'],\n",
    "    'Gengar': ['Lick', 'Smog', 'Dream Eater', 'Shadow Ball'],\n",
    "    'Magnemite': [ 'Tackle', 'Flash Cannon', 'Thunder Shock', 'Thunderbolt'],\n",
    "    'Bulbasaur': ['Tackle', 'Vine Whip', 'Razor Leaf'],\n",
    "    'Charmander': ['Scratch', 'Ember', 'Fire Spin'],\n",
    "    'Beedrill': ['Peck', 'Twineedle', 'Rage', 'Fury Attack', 'Outrage'],\n",
    "    'Golem': [ 'Tackle', 'Rock Throw', 'Rock Slide', 'Earthquake'],\n",
    "    'Dewgong': ['Aqua Jet',  'Ice Shard', 'Headbutt'],\n",
    "    'Hypno': ['Pound', 'Confusion', 'Dream Eater'],\n",
    "    'Cleffa': [ 'Pound', 'Magical Leaf'],\n",
    "    'Cutiefly': ['Absorb', 'Fairy Wind', 'Struggle Bug', 'Draining Kiss']\n",
    "    \n",
    "}"
   ]
  },
  {
   "cell_type": "markdown",
   "metadata": {},
   "source": [
    "Each move has a type. For example, Gengar (a ghost/poison type) and Hypno (a psychic type) can both do a Dream Eater move (a psychic move). Here are the moves characterized by type:"
   ]
  },
  {
   "cell_type": "code",
   "execution_count": 5,
   "metadata": {
    "collapsed": true
   },
   "outputs": [],
   "source": [
    "MOVES = {\n",
    "    \"Normal\" : [ 'Scratch', 'Tackle',  'Pound', 'Rage', 'Fury Attack', 'Body Slam', 'Double Slap', 'Headbutt'] ,\n",
    "    \"Fire\" : ['Ember', 'Fire Spin'],\n",
    "    \"Water\" : ['Bubble', 'Aqua Jet'],\n",
    "    \"Electric\" : ['Thunder Shock', 'Thunderbolt'],\n",
    "    \"Grass\" : ['Vine Whip', 'Magical Leaf', 'Razor Leaf', 'Absorb'],\n",
    "    \"Ice\" : ['Ice Shard'],\n",
    "    \"Fighting\" : ['Double Kick'],\n",
    "    \"Poison\" : ['Smog'],\n",
    "    \"Ground\" : ['Earthquake'],\n",
    "    \"Flying\" : ['Wing Attack', 'Peck'],\n",
    "    \"Psychic\" : ['Confusion', 'Dream Eater'] ,\n",
    "    \"Bug\" : ['Twineedle', 'Struggle Bug'],\n",
    "    \"Rock\" : ['Rock Throw', 'Rock Slide'],\n",
    "    \"Ghost\" : ['Lick', 'Shadow Ball'] ,\n",
    "    \"Dragon\" : ['Outrage'],\n",
    "    \"Dark\" : ['Crunch', 'Bite'],\n",
    "    \"Steel\" : ['Flash Cannon'],\n",
    "    \"Fairy\" : ['Fairy Wind', 'Draining Kiss']\n",
    "}"
   ]
  },
  {
   "cell_type": "markdown",
   "metadata": {},
   "source": [
    "Pokémon types dictate whether one Pokémon's attack is strong or weak (i.e., super effective or not very effective) against another, dealing additional or reduced damage as a result. For example, a Fire type attack is strong against Bug, Steel, Grass, and Ice types, and weak against Rock Fire, Water, and Dragon types. Thus, if you choose Charmander as your Pokémon, which is a Fire type, then you are strong against Bug, Steel, Grass, and Ice attack types, and weak against Rock Fire, Water, and Dragon attack types.\n",
    "\n",
    "If your attack is a weakness of your opponent, then your attack is \"super effective\", and inflicts 2 times the typical damage done. If your attack is one of your opponent's strengths, then your attack is \"not very effective\", and delivers half the typical amount of damage done. If your attack is not a weakness or strength of the opponent, then you do a standard amount of damage (1x).\n",
    "\n",
    "For example, if you choose to use Charmander's Fire Spin (a fire type move), which is super effective against Bulbasaur (a grass type), it will cause double damage to Bulbasaur.\n",
    "\n",
    "Here is a chart:\n",
    "![title](Pokemon_images/types.png)\n",
    "\n",
    "In the dictionaries below, the key is the type of attack and the values are the Pokémon types that the attack is super effective or not very effective against."
   ]
  },
  {
   "cell_type": "code",
   "execution_count": 6,
   "metadata": {
    "collapsed": true
   },
   "outputs": [],
   "source": [
    "SUPER_EFFECTIVE = {\n",
    "    \"Normal\" : [\"N/A\"],\n",
    "    \"Fire\" : [\"Grass\", \"Ice\", \"Bug\", \"Steel\"],\n",
    "    \"Water\" : [\"Fire\", \"Ground\", \"Rock\"],\n",
    "    \"Electric\" : [\"Water\", \"Flying\"],\n",
    "    \"Grass\" : [\"Water\", \"Ground\", \"Rock\"],\n",
    "    \"Ice\" : [\"Grass\", \"Ground\", \"Flying\", \"Dragon\"],\n",
    "    \"Fighting\" : [\"Normal\", \"Ice\", \"Rock\", \"Dark\", \"Steel\"],\n",
    "    \"Poison\" : [\"Grass\", \"Fairy\"],\n",
    "    \"Ground\" : [\"Fire\", \"Electric\", \"Poison\", \"Rock\", \"Steel\"],\n",
    "    \"Flying\" : [\"Grass\", \"Fighting\", \"Bug\"],\n",
    "    \"Psychic\" : [\"Fighting\", \"Poison\"],\n",
    "    \"Bug\" : [\"Grass\", \"Psychic\", \"Dark\"],\n",
    "    \"Rock\" : [\"Fire\", \"Ice\", \"Flying\", \"Bug\"],\n",
    "    \"Ghost\" : [\"Psychic\", \"Ghost\"],\n",
    "    \"Dragon\" : [\"Dragon\"],\n",
    "    \"Dark\" : [\"Psychic\", \"Ghost\"],\n",
    "    \"Steel\" : [\"Ice\", \"Rock\", \"Fairy\"],\n",
    "    \"Fairy\" : [\"Fighting\", \"Dragon\", \"Dark\"]\n",
    "}\n",
    "\n",
    "NOT_VERY_EFFECTIVE = {\n",
    "    \"Normal\" : [\"Rock\", \"Steel\"],\n",
    "    \"Fire\" : [\"Fire\", \"Water\", \"Rock\", \"Dragon\"],\n",
    "    \"Water\" : [\"Water\", \"Grass\", \"Dragon\"],\n",
    "    \"Electric\" : [\"Electric\", \"Grass\", \"Dragon\"],\n",
    "    \"Grass\" : [\"Fire\", \"Grass\", \"Poison\", \"Flying\", \"Bug\", \"Dragon\", \"Steel\"],\n",
    "    \"Ice\" : [\"Fire\", \"Water\", \"Ice\", \"Steel\"],\n",
    "    \"Fighting\" : [\"Poison\", \"Flying\", \"Psychic\", \"Bug\", \"Fairy\"],\n",
    "    \"Poison\" : [\"Poison\", \"Ground\", \"Rock\", \"Ghost\"],\n",
    "    \"Ground\" : [\"Grass\", \"Bug\"],\n",
    "    \"Flying\" : [\"Electric\", \"Rock\", \"Steel\"],\n",
    "    \"Psychic\" : [\"Psychic\", \"Steel\"],\n",
    "    \"Bug\" : [\"Fire\", \"Fighting\", \"Poison\", \"Flying\", \"Ghost\", \"Steel\", \"Fairy\"],\n",
    "    \"Rock\" : [\"Fighting\", \"Ground\", \"Steel\"],\n",
    "    \"Ghost\" : [\"Dark\"],\n",
    "    \"Dragon\" : [\"Steel\"],\n",
    "    \"Dark\" : [\"Fighting\", \"Dark\", \"Fairy\"],\n",
    "    \"Steel\" : [\"Fire\", \"Water\", \"Electric\", \"Steel\"],\n",
    "    \"Fairy\" : [\"Fire\", \"Poison\", \"Steel\"]\n",
    "}\n"
   ]
  },
  {
   "cell_type": "markdown",
   "metadata": {
    "collapsed": true
   },
   "source": [
    "Okay, so we know that certain types of attacks do half, standard, or double damage, but how do we actually calculate the damage? Well, damage depends partly on how much power each move has. Below is the power of each type of attack:"
   ]
  },
  {
   "cell_type": "code",
   "execution_count": 7,
   "metadata": {
    "collapsed": true
   },
   "outputs": [],
   "source": [
    "POWERS = {\n",
    "    'Scratch': 40,\n",
    "    'Tackle': 40,\n",
    "    'Pound': 40,\n",
    "    'Rage': 20,\n",
    "    'Fury Attack': 15,\n",
    "    'Ember': 40,\n",
    "    'Fire Spin': 35,\n",
    "    'Bubble': 40, \n",
    "    'Aqua Jet': 40,\n",
    "    'Thunder Shock': 40,\n",
    "    'Thunderbolt': 90,\n",
    "    'Vine Whip': 45,\n",
    "    'Magical Leaf': 60,\n",
    "    'Ice Shard': 40,\n",
    "    'Double Kick': 30,\n",
    "    'Earthquake': 100,\n",
    "    'Wing Attack': 60,\n",
    "    'Peck': 35,\n",
    "    'Confusion': 50,\n",
    "    'Twineedle': 25,\n",
    "    'Rock Throw': 50,\n",
    "    'Rock Slide': 75,\n",
    "    'Lick': 30,\n",
    "    'Outrage': 120,\n",
    "    'Crunch': 80,\n",
    "    'Bite': 60,\n",
    "    'Flash Cannon': 80,\n",
    "    'Smog': 30,\n",
    "    'Dream Eater': 100,\n",
    "    'Body Slam': 85,\n",
    "    'Double Slap': 15,\n",
    "    'Razor Leaf': 55,\n",
    "    'Headbutt': 70,\n",
    "    'Absorb': 20, \n",
    "    'Fairy Wind': 40, \n",
    "    'Struggle Bug': 50, \n",
    "    'Draining Kiss': 50,\n",
    "    'Shadow Ball': 80\n",
    "}"
   ]
  },
  {
   "cell_type": "markdown",
   "metadata": {},
   "source": [
    "Putting together all of the info about moves into a single dictionary, we have:"
   ]
  },
  {
   "cell_type": "code",
   "execution_count": 13,
   "metadata": {
    "collapsed": true
   },
   "outputs": [],
   "source": [
    "MOVES_DICTIONARY = {\n",
    "    'Scratch': \n",
    "    {\n",
    "        'name': 'Scratch',\n",
    "        'power': 40, \n",
    "        'type': 'Normal', \n",
    "        'super effective against': ['N/A'], \n",
    "        'not very effective against': ['Rock', 'Steel']\n",
    "    }, \n",
    "    'Tackle': \n",
    "    {\n",
    "        'name': 'Tackle',\n",
    "        'power': 40, \n",
    "        'type': 'Normal', \n",
    "        'super effective against': ['N/A'], \n",
    "        'not very effective against': ['Rock', 'Steel']\n",
    "    }, \n",
    "    'Pound': {'name': 'Pound', 'power': 40, 'type': 'Normal', 'super effective against': ['N/A'], 'not very effective against': ['Rock', 'Steel']}, \n",
    "    'Rage': {'name': 'Rage', 'power': 20, 'type': 'Normal', 'super effective against': ['N/A'], 'not very effective against': ['Rock', 'Steel']}, \n",
    "    'Fury Attack': {'name': 'Fury Attack', 'power': 15, 'type': 'Normal', 'super effective against': ['N/A'], 'not very effective against': ['Rock', 'Steel']}, \n",
    "    'Ember': {'name': 'Ember', 'power': 40, 'type': 'Fire', 'super effective against': ['Grass', 'Ice', 'Bug', 'Steel'], 'not very effective against': ['Fire', 'Water', 'Rock', 'Dragon']}, \n",
    "    'Fire Spin': {'name': 'Fire Spin', 'power': 35, 'type': 'Fire', 'super effective against': ['Grass', 'Ice', 'Bug', 'Steel'], 'not very effective against': ['Fire', 'Water', 'Rock', 'Dragon']}, \n",
    "    'Bubble': {'name': 'Bubble', 'power': 40, 'type': 'Water', 'super effective against': ['Fire', 'Ground', 'Rock'], 'not very effective against': ['Water', 'Grass', 'Dragon']}, \n",
    "    'Aqua Jet': {'name': 'Aqua Jet', 'power': 40, 'type': 'Water', 'super effective against': ['Fire', 'Ground', 'Rock'], 'not very effective against': ['Water', 'Grass', 'Dragon']}, \n",
    "    'Thunder Shock': {'name': 'Thunder Shock', 'power': 40, 'type': 'Electric', 'super effective against': ['Water', 'Flying'], 'not very effective against': ['Electric', 'Grass', 'Dragon']}, \n",
    "    'Thunderbolt': {'name': 'Thunderbolt', 'power': 90, 'type': 'Electric', 'super effective against': ['Water', 'Flying'], 'not very effective against': ['Electric', 'Grass', 'Dragon']}, \n",
    "    'Vine Whip': {'name': 'Vine Whip', 'power': 45, 'type': 'Grass', 'super effective against': ['Water', 'Ground', 'Rock'], 'not very effective against': ['Fire', 'Grass', 'Poison', 'Flying', 'Bug', 'Dragon', 'Steel']}, \n",
    "    'Magical Leaf': {'name': 'Magical Leaf', 'power': 60, 'type': 'Grass', 'super effective against': ['Water', 'Ground', 'Rock'], 'not very effective against': ['Fire', 'Grass', 'Poison', 'Flying', 'Bug', 'Dragon', 'Steel']}, \n",
    "    'Ice Shard': {'name': 'Ice Shard', 'power': 40, 'type': 'Ice', 'super effective against': ['Grass', 'Ground', 'Flying', 'Dragon'], 'not very effective against': ['Fire', 'Water', 'Ice', 'Steel']}, \n",
    "    'Double Kick': {'name': 'Double Kick', 'power': 30, 'type': 'Fighting', 'super effective against': ['Normal', 'Ice', 'Rock', 'Dark', 'Steel'], 'not very effective against': ['Poison', 'Flying', 'Psychic', 'Bug', 'Fairy']}, \n",
    "    'Earthquake': {'name': 'Earthquake', 'power': 100, 'type': 'Ground', 'super effective against': ['Fire', 'Electric', 'Poison', 'Rock', 'Steel'], 'not very effective against': ['Grass', 'Bug']}, \n",
    "    'Wing Attack': {'name': 'Wing Attack', 'power': 60, 'type': 'Flying', 'super effective against': ['Grass', 'Fighting', 'Bug'], 'not very effective against': ['Electric', 'Rock', 'Steel']}, \n",
    "    'Peck': {'name': 'Peck', 'power': 35, 'type': 'Flying', 'super effective against': ['Grass', 'Fighting', 'Bug'], 'not very effective against': ['Electric', 'Rock', 'Steel']}, \n",
    "    'Confusion': {'name': 'Confusion', 'power': 50, 'type': 'Psychic', 'super effective against': ['Fighting', 'Poison'], 'not very effective against': ['Psychic', 'Steel']}, \n",
    "    'Twineedle': {'name': 'Twineedle', 'power': 25, 'type': 'Bug', 'super effective against': ['Grass', 'Psychic', 'Dark'], 'not very effective against': ['Fire', 'Fighting', 'Poison', 'Flying', 'Ghost', 'Steel', 'Fairy']}, \n",
    "    'Rock Throw': {'name': 'Rock Throw', 'power': 50, 'type': 'Rock', 'super effective against': ['Fire', 'Ice', 'Flying', 'Bug'], 'not very effective against': ['Fighting', 'Ground', 'Steel']}, \n",
    "    'Rock Slide': {'name': 'Rock Slide', 'power': 75, 'type': 'Rock', 'super effective against': ['Fire', 'Ice', 'Flying', 'Bug'], 'not very effective against': ['Fighting', 'Ground', 'Steel']}, \n",
    "    'Lick': {'name': 'Lick', 'power': 30, 'type': 'Ghost', 'super effective against': ['Psychic', 'Ghost'], 'not very effective against': ['Dark']}, \n",
    "    'Outrage': {'name': 'Outrage', 'power': 120, 'type': 'Dragon', 'super effective against': ['Dragon'], 'not very effective against': ['Steel']}, \n",
    "    'Crunch': {'name': 'Crunch', 'power': 80, 'type': 'Dark', 'super effective against': ['Psychic', 'Ghost'], 'not very effective against': ['Fighting', 'Dark', 'Fairy']}, \n",
    "    'Bite': {'name': 'Bite', 'power': 60, 'type': 'Dark', 'super effective against': ['Psychic', 'Ghost'], 'not very effective against': ['Fighting', 'Dark', 'Fairy']}, \n",
    "    'Flash Cannon': {'name': 'Flash Cannon', 'power': 80, 'type': 'Steel', 'super effective against': ['Ice', 'Rock', 'Fairy'], 'not very effective against': ['Fire', 'Water', 'Electric', 'Steel']}, \n",
    "    'Smog': {'name': 'Smog', 'power': 30, 'type': 'Poison', 'super effective against': ['Grass', 'Fairy'], 'not very effective against': ['Poison', 'Ground', 'Rock', 'Ghost']}, \n",
    "    'Dream Eater': {'name': 'Dream Eater', 'power': 100, 'type': 'Psychic', 'super effective against': ['Fighting', 'Poison'], 'not very effective against': ['Psychic', 'Steel']}, \n",
    "    'Body Slam': {'name': 'Body Slam', 'power': 85, 'type': 'Normal', 'super effective against': ['N/A'], 'not very effective against': ['Rock', 'Steel']}, \n",
    "    'Double Slap': {'name': 'Double Slap', 'power': 15, 'type': 'Normal', 'super effective against': ['N/A'], 'not very effective against': ['Rock', 'Steel']}, \n",
    "    'Razor Leaf': {'name': 'Razor Leaf', 'power': 55, 'type': 'Grass', 'super effective against': ['Water', 'Ground', 'Rock'], 'not very effective against': ['Fire', 'Grass', 'Poison', 'Flying', 'Bug', 'Dragon', 'Steel']}, \n",
    "    'Headbutt': {'name': 'Headbutt', 'power': 70, 'type': 'Normal', 'super effective against': ['N/A'], 'not very effective against': ['Rock', 'Steel']}, \n",
    "    'Absorb': {'name': 'Absorb', 'power': 20, 'type': 'Grass', 'super effective against': ['Water', 'Ground', 'Rock'], 'not very effective against': ['Fire', 'Grass', 'Poison', 'Flying', 'Bug', 'Dragon', 'Steel']}, \n",
    "    'Fairy Wind': {'name': 'Fairy Wind', 'power': 40, 'type': 'Fairy', 'super effective against': ['Fighting', 'Dragon', 'Dark'], 'not very effective against': ['Fire', 'Poison', 'Steel']}, \n",
    "    'Struggle Bug': {'name': 'Struggle Bug', 'power': 50, 'type': 'Bug', 'super effective against': ['Grass', 'Psychic', 'Dark'], 'not very effective against': ['Fire', 'Fighting', 'Poison', 'Flying', 'Ghost', 'Steel', 'Fairy']}, \n",
    "    'Draining Kiss': {'name': 'Draining Kiss', 'power': 50, 'type': 'Fairy', 'super effective against': ['Fighting', 'Dragon', 'Dark'], 'not very effective against': ['Fire', 'Poison', 'Steel']}, \n",
    "    'Shadow Ball': {'name': 'Shadow Ball', 'power': 80, 'type': 'Ghost', 'super effective against': ['Psychic', 'Ghost'], 'not very effective against': ['Dark']}\n",
    "}"
   ]
  },
  {
   "cell_type": "markdown",
   "metadata": {},
   "source": [
    "How is damage actually calculated? According to this pretty complicated formula from this website https://bulbapedia.bulbagarden.net/wiki/Damage#Damage_calculation :\n",
    "\n",
    "$$Damage=(\\frac{(\\frac{2 \\times Level}{5}+2) \\times Power \\times \\frac{A}{D}}{50}) \\times Modifier$$\n",
    "\n",
    "Let's simplify this a bit by assuming that all Pokémon are on Level 50 temporarily:\n",
    "\n",
    "$$Damage=(\\frac{22 \\times Power \\times \\frac{A}{D}}{50}) \\times Modifier$$\n",
    "\n",
    "What are A and D? A is the effective Attack stat of the attacking Pokémon and D is the is the effective Defense stat of the defending Pokémon. This info for each Pokémon is listed below:"
   ]
  },
  {
   "cell_type": "code",
   "execution_count": null,
   "metadata": {
    "collapsed": true
   },
   "outputs": [],
   "source": [
    "STATS = {\n",
    "    'Pikachu': {'Attack': 55, 'Defense': 40},\n",
    "    'Charizard': {'Attack': 84, 'Defense': 78},\n",
    "    'Squirtle': {'Attack': 48, 'Defense': 65},\n",
    "    'Jigglypuff': {'Attack': 45, 'Defense': 20},\n",
    "    'Gengar': {'Attack': 65, 'Defense': 60},\n",
    "    'Magnemite': {'Attack': 35, 'Defense': 70},\n",
    "    'Bulbasaur': {'Attack': 49, 'Defense': 49},\n",
    "    'Charmander': {'Attack': 52, 'Defense': 43},\n",
    "    'Beedrill': {'Attack': 90, 'Defense': 40},\n",
    "    'Golem': {'Attack': 120, 'Defense': 130},\n",
    "    'Dewgong': {'Attack': 70, 'Defense': 80},\n",
    "    'Hypno': {'Attack': 73, 'Defense': 70},\n",
    "    'Cleffa': {'Attack': 25, 'Defense': 28},\n",
    "    'Cutiefly': {'Attack': 45, 'Defense': 40},\n",
    "}"
   ]
  },
  {
   "cell_type": "markdown",
   "metadata": {},
   "source": [
    "Actually, let's put all Pokémon data into one dictionary for simplicity:"
   ]
  },
  {
   "cell_type": "code",
   "execution_count": 14,
   "metadata": {
    "collapsed": true
   },
   "outputs": [],
   "source": [
    "POKEMONS = {\n",
    "    'Pikachu': {'Type': ['Electric'], 'HP': 35, 'Moves': ['Thunder Shock',  'Double Kick', 'Thunderbolt'], 'Attack': 55, 'Defense': 40},\n",
    "    'Charizard': {'Type': ['Fire', 'Flying'], 'HP': 78, 'Moves': [ 'Crunch', 'Ember', 'Scratch', 'Wing Attack'], 'Attack': 84, 'Defense': 78},\n",
    "    'Squirtle': {'Type': ['Water'], 'HP': 44, 'Moves': ['Tackle',  'Bubble', 'Bite'], 'Attack': 48, 'Defense': 65},\n",
    "    'Jigglypuff': {'Type': ['Normal', 'Fairy'], 'HP': 115, 'Moves': ['Pound', 'Body Slam', 'Double Slap'], 'Attack': 45, 'Defense': 20},\n",
    "    'Gengar': {'Type': ['Ghost', 'Poison'], 'HP': 60, 'Moves': ['Lick', 'Smog', 'Dream Eater', 'Shadow Ball'], 'Attack': 65, 'Defense': 60},\n",
    "    'Magnemite': {'Type': ['Electric', 'Steel'], 'HP': 25, 'Moves': [ 'Tackle', 'Flash Cannon', 'Thunder Shock', 'Thunderbolt'],  'Attack': 35, 'Defense': 70},\n",
    "    'Bulbasaur': {'Type': ['Grass', 'Poison'], 'HP': 45, 'Moves': ['Tackle', 'Vine Whip', 'Razor Leaf'], 'Attack': 49, 'Defense': 49},\n",
    "    'Charmander': {'Type': ['Fire'], 'HP': 39, 'Moves': ['Scratch', 'Ember', 'Fire Spin'], 'Attack': 52, 'Defense': 43},\n",
    "    'Beedrill': {'Type': ['Bug', 'Poison'], 'HP': 65, 'Moves': ['Peck', 'Twineedle', 'Rage', 'Fury Attack', 'Outrage'], 'Attack': 90, 'Defense': 40},\n",
    "    'Golem': {'Type': ['Rock', 'Ground'], 'HP': 80, 'Moves': [ 'Tackle', 'Rock Throw', 'Rock Slide', 'Earthquake'], 'Attack': 120, 'Defense': 130},\n",
    "    'Dewgong': {'Type': ['Water', 'Ice'], 'HP': 90, 'Moves': ['Aqua Jet',  'Ice Shard', 'Headbutt'], 'Attack': 70, 'Defense': 80},\n",
    "    'Hypno': {'Type': ['Psychic'],'HP': 85, 'Moves': ['Pound', 'Confusion', 'Dream Eater'], 'Attack': 73, 'Defense': 70},\n",
    "    'Cleffa': {'Type': ['Fairy'], 'HP': 50, 'Moves': [ 'Pound', 'Magical Leaf'], 'Attack': 25, 'Defense': 28},\n",
    "    'Cutiefly': {'Type': ['Fairy', 'Bug'], 'HP': 40, 'Moves': ['Absorb', 'Fairy Wind', 'Struggle Bug', 'Draining Kiss'], 'Attack': 45, 'Defense': 40}\n",
    "}\n",
    "\n"
   ]
  },
  {
   "cell_type": "markdown",
   "metadata": {},
   "source": [
    "What is the modifier in the damage formula above? Our simplified modifier will be:\n",
    "\n",
    "$$ Modifier = Critical \\times Random \\times Type $$\n",
    "\n",
    "**Random** is a random integer percentage between 0.85 and 1.00 (inclusive).\n",
    "\n",
    "Recall that **Type** can be 0.5 (not very effective), 1 (normally effective), or 2 (super effective), depending on how effective the move's type is against the defending Pokémon's type.\n",
    "\n",
    "Actually, the type can also take on the values ¼ and 4. For targets that have two types (every Pokémon is either one or two types ), such as Bulbasaur, who is both a Grass and Poison type, overall type effectiveness is the product of the effectiveness against each of its types:\n",
    "\n",
    "&nbsp;&nbsp;&nbsp;&nbsp;&nbsp;&nbsp;-If the type of a move is super effective against both of the opponent's types (such as Dig, a Ground-type move, used against an Aggron, a Steel/Rock Pokémon), then the move does 2x2=4 times the damage;\n",
    "\n",
    "&nbsp;&nbsp;&nbsp;&nbsp;&nbsp;&nbsp;-If the type of a move is not very effective against both of the opponent's types (such as Wake-Up Slap, a Fighting-type move, used against a Sigilyph, a Psychic/Flying Pokémon), then the move only does 1/2x1/2=¼ of the damage;\n",
    "\n",
    "&nbsp;&nbsp;&nbsp;&nbsp;&nbsp;&nbsp;-If the type of a move is super effective against one of the opponent's types but not very effective against the other (such as Razor Leaf, a Grass-type move, used against a Gyarados, a Water/Flying Pokémon), then the move deals normal damage 2x1/2=1;\n",
    "\n",
    "**Critical** is 2 if you have landed a critical hit and 1 otherwise. What is a critical hit? This is of the one last things to understand. A critical hit is a random event that multiplies the damage of a damage-dealing move. When one occurs, the game will display the message \"A critical hit!\" after the damage has been dealt. \n",
    "\n",
    "How does one calculate the probability that the attack was critical? The probability that an attacking Pokémon landed a critical hit based on that attacking Pokémon's speed is: $$ P = Speed / 512 $$\n",
    "\n",
    "Thus, one can generate a random  number between 0 and 511 and if that number is less than the attacking Pokémon's speed then Critical=2.\n",
    "\n",
    "Therefore, there will be TWO different random components to our damage calculation, represented by Random and Critical in the formulas above, and we'll need to add another attribute, speed, to our Pokémon dictionary:\n"
   ]
  },
  {
   "cell_type": "code",
   "execution_count": 15,
   "metadata": {
    "collapsed": true
   },
   "outputs": [],
   "source": [
    "POKEMONS = {\n",
    "    'Pikachu': {'Type': ['Electric'], 'HP': 35, 'Moves': ['Thunder Shock',  'Double Kick', 'Thunderbolt'], 'Attack': 55, 'Defense': 40, 'Speed': 90},\n",
    "    'Charizard': {'Type': ['Fire', 'Flying'], 'HP': 78, 'Moves': [ 'Crunch', 'Ember', 'Scratch', 'Wing Attack'], 'Attack': 84, 'Defense': 78, 'Speed': 100},\n",
    "    'Squirtle': {'Type': ['Water'], 'HP': 44, 'Moves': ['Tackle',  'Bubble', 'Bite'], 'Attack': 48, 'Defense': 65, 'Speed': 43},\n",
    "    'Jigglypuff': {'Type': ['Normal', 'Fairy'], 'HP': 115, 'Moves': ['Pound', 'Body Slam', 'Double Slap'], 'Attack': 45, 'Defense': 20, 'Speed': 20},\n",
    "    'Gengar': {'Type': ['Ghost', 'Poison'], 'HP': 60, 'Moves': ['Lick', 'Smog', 'Dream Eater', 'Shadow Ball'], 'Attack': 65, 'Defense': 60, 'Speed': 110},\n",
    "    'Magnemite': {'Type': ['Electric', 'Steel'], 'HP': 25, 'Moves': [ 'Tackle', 'Flash Cannon', 'Thunder Shock', 'Thunderbolt'],  'Attack': 35, 'Defense': 70, 'Speed': 45},\n",
    "    'Bulbasaur': {'Type': ['Grass', 'Poison'], 'HP': 45, 'Moves': ['Tackle', 'Vine Whip', 'Razor Leaf'], 'Attack': 49, 'Defense': 49, 'Speed': 45},\n",
    "    'Charmander': {'Type': ['Fire'], 'HP': 39, 'Moves': ['Scratch', 'Ember', 'Fire Spin'], 'Attack': 52, 'Defense': 43, 'Speed': 65},\n",
    "    'Beedrill': {'Type': ['Bug', 'Poison'], 'HP': 65, 'Moves': ['Peck', 'Twineedle', 'Rage', 'Fury Attack', 'Outrage'], 'Attack': 90, 'Defense': 40, 'Speed': 75},\n",
    "    'Golem': {'Type': ['Rock', 'Ground'], 'HP': 80, 'Moves': [ 'Tackle', 'Rock Throw', 'Rock Slide', 'Earthquake'], 'Attack': 120, 'Defense': 130, 'Speed': 45},\n",
    "    'Dewgong': {'Type': ['Water', 'Ice'], 'HP': 90, 'Moves': ['Aqua Jet',  'Ice Shard', 'Headbutt'], 'Attack': 70, 'Defense': 80, 'Speed': 70},\n",
    "    'Hypno': {'Type': ['Psychic'],'HP': 85, 'Moves': ['Pound', 'Confusion', 'Dream Eater'], 'Attack': 73, 'Defense': 70, 'Speed': 67},\n",
    "    'Cleffa': {'Type': ['Fairy'], 'HP': 50, 'Moves': [ 'Pound', 'Magical Leaf'], 'Attack': 25, 'Defense': 28, 'Speed': 15},\n",
    "    'Cutiefly': {'Type': ['Fairy', 'Bug'], 'HP': 40, 'Moves': ['Absorb', 'Fairy Wind', 'Struggle Bug', 'Draining Kiss'], 'Attack': 45, 'Defense': 40, 'Speed': 84}\n",
    "}\n"
   ]
  },
  {
   "cell_type": "markdown",
   "metadata": {},
   "source": [
    "Now let's return to levels. When a Pokémon beats another Pokémon, he gains their experience points. With enough experience points, the Pokémon achieves the next level. Levels go from 1 to 100. When a player just starts out, they have 0 experience points and are on level 1. Once they gain experience points, the function that models experience points versus level is the cube root function:\n",
    "\n",
    "$$ Level = (Experience)^{1/3} $$\n",
    "\n",
    "We can now take the level of the attacker into account when calculating damage:\n",
    "\n",
    "$$Damage=(\\frac{(\\frac{2 \\times Level}{5}+2) \\times Power \\times \\frac{A}{D}}{50}) \\times Modifier$$\n",
    "\n",
    "Thus, we need to add one more key to our Pokémon dictionary, experience points, which indicates the points gained when you beat that type of Pokémon."
   ]
  },
  {
   "cell_type": "code",
   "execution_count": 16,
   "metadata": {
    "collapsed": true
   },
   "outputs": [],
   "source": [
    "CHARACTERS = {\n",
    "    'Pikachu': {'Type': ['Electric'], 'HP': 35, 'Moves': ['Thunder Shock',  'Double Kick', 'Thunderbolt'], 'Attack': 55, 'Defense': 40, 'Speed': 90, 'Experience': 112},\n",
    "    'Charizard': {'Type': ['Fire', 'Flying'], 'HP': 78, 'Moves': [ 'Crunch', 'Ember', 'Scratch', 'Wing Attack'], 'Attack': 84, 'Defense': 78, 'Speed': 100, 'Experience': 240},\n",
    "    'Squirtle': {'Type': ['Water'], 'HP': 44, 'Moves': ['Tackle',  'Bubble', 'Bite'], 'Attack': 48, 'Defense': 65, 'Speed': 43, 'Experience': 63},\n",
    "    'Jigglypuff': {'Type': ['Normal', 'Fairy'], 'HP': 115, 'Moves': ['Pound', 'Body Slam', 'Double Slap'], 'Attack': 45, 'Defense': 20, 'Speed': 20, 'Experience': 95},\n",
    "    'Gengar': {'Type': ['Ghost', 'Poison'], 'HP': 60, 'Moves': ['Lick', 'Smog', 'Dream Eater', 'Shadow Ball'], 'Attack': 65, 'Defense': 60, 'Speed': 110, 'Experience':225},\n",
    "    'Magnemite': {'Type': ['Electric', 'Steel'], 'HP': 25, 'Moves': [ 'Tackle', 'Flash Cannon', 'Thunder Shock', 'Thunderbolt'],  'Attack': 35, 'Defense': 70, 'Speed': 45, 'Experience': 65},\n",
    "    'Bulbasaur': {'Type': ['Grass', 'Poison'], 'HP': 45, 'Moves': ['Tackle', 'Vine Whip', 'Razor Leaf'], 'Attack': 49, 'Defense': 49, 'Speed': 45, 'Experience': 64},\n",
    "    'Charmander': {'Type': ['Fire'], 'HP': 39, 'Moves': ['Scratch', 'Ember', 'Fire Spin'], 'Attack': 52, 'Defense': 43, 'Speed': 65, 'Experience': 62},\n",
    "    'Beedrill': {'Type': ['Bug', 'Poison'], 'HP': 65, 'Moves': ['Peck', 'Twineedle', 'Rage', 'Fury Attack', 'Outrage'], 'Attack': 90, 'Defense': 40, 'Speed': 75, 'Experience': 178},\n",
    "    'Golem': {'Type': ['Rock', 'Ground'], 'HP': 80, 'Moves': [ 'Tackle', 'Rock Throw', 'Rock Slide', 'Earthquake'], 'Attack': 120, 'Defense': 130, 'Speed': 45, 'Experience': 223},\n",
    "    'Dewgong': {'Type': ['Water', 'Ice'], 'HP': 90, 'Moves': ['Aqua Jet',  'Ice Shard', 'Headbutt'], 'Attack': 70, 'Defense': 80, 'Speed': 70, 'Experience': 166},\n",
    "    'Hypno': {'Type': ['Psychic'],'HP': 85, 'Moves': ['Pound', 'Confusion', 'Dream Eater'], 'Attack': 73, 'Defense': 70, 'Speed': 67, 'Experience': 169},\n",
    "    'Cleffa': {'Type': ['Fairy'], 'HP': 50, 'Moves': [ 'Pound', 'Magical Leaf'], 'Attack': 25, 'Defense': 28, 'Speed': 15, 'Experience': 44},\n",
    "    'Cutiefly': {'Type': ['Fairy', 'Bug'], 'HP': 40, 'Moves': ['Absorb', 'Fairy Wind', 'Struggle Bug', 'Draining Kiss'], 'Attack': 45, 'Defense': 40, 'Speed': 84, 'Experience': 61}\n",
    "}"
   ]
  },
  {
   "cell_type": "markdown",
   "metadata": {},
   "source": [
    "Your task: Create a Pokémon game. \n",
    "\n",
    "1.Create a Pokémon class that contains the following information:\n",
    "\n",
    "Attributes: name, type_, HP, Attack, Defense, Speed, Experience, Moves, and Level\n",
    "\n",
    "Methods must include: battle, calculate_damage, update_level\n",
    "\n",
    "2.Create subclasses for each of the fourteen Pokémon. Make sure to use super_init.\n",
    "\n",
    "3.The user will need to choose a Bulbusaur, Charmander, or Squirtle to start with. Think carefully about user interface. How will a user play the game? How will a person that has never played before know how to play? How will a person choose which move to use based on which Pokémon they chose? What if the user types in \"squirtle\" versus \"Squirtle\"? Strive to make the game user-friendly.\n",
    "\n",
    "4.The computer should randomly generate a Pokémon out of the 14 characters for the user to fight against. Whichever Pokémon has the higher speed gets to attack first. They proceed to alternate attacking each other until one of them has fainted. For simplicity, you may assume that the computer always chooses the most damaging move against the user's Pokémon.\n",
    "\n",
    "5.Once a user has beaten a Pokémon, they add that Pokémon to their collection, and can then choose to use that Pokémon to fight their next enemy with as well. For example, if the user starts with Bulbasaur, but then defeats a randomly generated Cutiefly, then the user can then choose to attack their new randomly generated enemy, Dewgong, with either Bulbusaur, Charmander, Squirtle, or Cutiefly. Of course, if the user lost to Cutiefly and in doing so their HP points dropped to zero or below, then the game is over, and the game should print \"Your Pokémon fainted. Game over.\"\n",
    "\n",
    "6.If the user has beaten a Pokémon, then their experience and level should be updated accordingly.\n",
    "\n",
    "7.The code should pass the pycodestyle linter, be well commented, and each function should have a docstring.\n",
    "\n",
    "8.Speaking of functions, this is a large project and each groupmate should be in charge of several functions. Planning out what each function's input and output should be will make the task much less daunting. Remember that you can define functions but then save writing their details for later by using \"pass\" inside the function. Breaking the program up into smaller functions like determine_critical_hit, generate_enemy, choose_move, choose_character, etc. and then using \"if __name__ == “__main__”:\" to incorporate all of your work will be a must. \n",
    "\n",
    "9.Start simple and add complexity as you go. For example, try to get each Pokemon's HP to deduct a simple 10 HP for each hit it takes. You can always add in the more complicated damage calculating formula later.\n",
    "\n",
    "10.If you need to convert a user's input into a class, this StackOverflow article may be helpful to you:\n",
    "\n",
    "https://stackoverflow.com/questions/7719466/how-to-convert-a-string-to-a-function-in-python\n",
    "\n",
    "11.Extension: Pygame is a Python package designed for writing video games. It includes computer graphics and sound libraries. In the images folder you will find pictures of each Pokemon. Read some online Pygame tutorials in order to figure out how to view images of the Pokemon involved in each battle. Can you create character images and create bars for how much HP, Experience, and Level your Pokemon has?"
   ]
  },
  {
   "cell_type": "code",
   "execution_count": null,
   "metadata": {
    "collapsed": true
   },
   "outputs": [],
   "source": []
  }
 ],
 "metadata": {
  "kernelspec": {
   "display_name": "Python 3",
   "language": "python",
   "name": "python3"
  },
  "language_info": {
   "codemirror_mode": {
    "name": "ipython",
    "version": 3
   },
   "file_extension": ".py",
   "mimetype": "text/x-python",
   "name": "python",
   "nbconvert_exporter": "python",
   "pygments_lexer": "ipython3",
   "version": "3.6.0"
  }
 },
 "nbformat": 4,
 "nbformat_minor": 2
}
