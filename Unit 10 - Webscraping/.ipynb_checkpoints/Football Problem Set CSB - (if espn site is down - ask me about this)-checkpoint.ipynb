{
 "cells": [
  {
   "cell_type": "code",
   "execution_count": 223,
   "metadata": {
    "collapsed": true
   },
   "outputs": [],
   "source": [
    "import requests\n",
    "from bs4 import BeautifulSoup\n",
    "import numpy as np\n",
    "import pandas as pd\n",
    "import matplotlib.pyplot as plt\n",
    "%matplotlib inline"
   ]
  },
  {
   "cell_type": "markdown",
   "metadata": {},
   "source": [
    "1.) We are interested in how well ESPN does at predicting how well a player will do in fantasy football. \n",
    "\n",
    "Go to this CBS website from 2017 here to see how many fantasy points each quarterback had ACTUALLY scored by the end of the season.\n",
    "\n",
    "https://www.cbssports.com/fantasy/football/stats/sortable/points/QB/ppr/stats/2017/ytd\n",
    "\n",
    "Notice how the webpage url changes if you change from quarterbacks to other positions. Create a list called urls that includes the urls for each of the positions listed."
   ]
  },
  {
   "cell_type": "code",
   "execution_count": 231,
   "metadata": {},
   "outputs": [],
   "source": [
    "#insert 1\n",
    "urls = ['https://www.cbssports.com/fantasy/football/stats/sortable/points/QB/ppr/stats/2017/ytd',\n",
    "        'https://www.cbssports.com/fantasy/football/stats/sortable/points/RB/ppr/stats/2017/ytd',\n",
    "       'https://www.cbssports.com/fantasy/football/stats/sortable/points/WR/ppr/stats/2017/ytd',\n",
    "       'https://www.cbssports.com/fantasy/football/stats/sortable/points/TE/ppr/stats/2017/ytd',\n",
    "       'https://www.cbssports.com/fantasy/football/stats/sortable/points/K/ppr/stats/2017/ytd',\n",
    "       'https://www.cbssports.com/fantasy/football/stats/sortable/points/DST/ppr/stats/2017/ytd']"
   ]
  },
  {
   "cell_type": "markdown",
   "metadata": {},
   "source": [
    "2.Go to the first url and use pd.read_html to read in the info. Save the dataframe with the players in it as \"df\"."
   ]
  },
  {
   "cell_type": "code",
   "execution_count": 232,
   "metadata": {},
   "outputs": [
    {
     "data": {
      "text/html": [
       "<div>\n",
       "<table border=\"1\" class=\"dataframe\">\n",
       "  <thead>\n",
       "    <tr style=\"text-align: right;\">\n",
       "      <th></th>\n",
       "      <th>0</th>\n",
       "      <th>1</th>\n",
       "      <th>2</th>\n",
       "      <th>3</th>\n",
       "      <th>4</th>\n",
       "      <th>5</th>\n",
       "      <th>6</th>\n",
       "      <th>7</th>\n",
       "      <th>8</th>\n",
       "      <th>9</th>\n",
       "      <th>10</th>\n",
       "      <th>11</th>\n",
       "      <th>12</th>\n",
       "      <th>13</th>\n",
       "      <th>14</th>\n",
       "      <th>15</th>\n",
       "      <th>16</th>\n",
       "      <th>17</th>\n",
       "    </tr>\n",
       "  </thead>\n",
       "  <tbody>\n",
       "    <tr>\n",
       "      <th>0</th>\n",
       "      <td>Quarterbacks - 2017 (YTD)</td>\n",
       "      <td>NaN</td>\n",
       "      <td>NaN</td>\n",
       "      <td>NaN</td>\n",
       "      <td>NaN</td>\n",
       "      <td>NaN</td>\n",
       "      <td>NaN</td>\n",
       "      <td>NaN</td>\n",
       "      <td>NaN</td>\n",
       "      <td>NaN</td>\n",
       "      <td>NaN</td>\n",
       "      <td>NaN</td>\n",
       "      <td>NaN</td>\n",
       "      <td>NaN</td>\n",
       "      <td>NaN</td>\n",
       "      <td>NaN</td>\n",
       "      <td>NaN</td>\n",
       "      <td>NaN</td>\n",
       "    </tr>\n",
       "    <tr>\n",
       "      <th>1</th>\n",
       "      <td>NaN</td>\n",
       "      <td>Passing</td>\n",
       "      <td>Rushing</td>\n",
       "      <td>Receiving</td>\n",
       "      <td>Misc</td>\n",
       "      <td>NaN</td>\n",
       "      <td>NaN</td>\n",
       "      <td>NaN</td>\n",
       "      <td>NaN</td>\n",
       "      <td>NaN</td>\n",
       "      <td>NaN</td>\n",
       "      <td>NaN</td>\n",
       "      <td>NaN</td>\n",
       "      <td>NaN</td>\n",
       "      <td>NaN</td>\n",
       "      <td>NaN</td>\n",
       "      <td>NaN</td>\n",
       "      <td>NaN</td>\n",
       "    </tr>\n",
       "    <tr>\n",
       "      <th>2</th>\n",
       "      <td>Player</td>\n",
       "      <td>ATT</td>\n",
       "      <td>CMP</td>\n",
       "      <td>YD</td>\n",
       "      <td>TD</td>\n",
       "      <td>INT</td>\n",
       "      <td>RATE</td>\n",
       "      <td>ATT</td>\n",
       "      <td>YD</td>\n",
       "      <td>AVG</td>\n",
       "      <td>TD</td>\n",
       "      <td>TARGT</td>\n",
       "      <td>RECPT</td>\n",
       "      <td>YD</td>\n",
       "      <td>AVG</td>\n",
       "      <td>TD</td>\n",
       "      <td>FL</td>\n",
       "      <td>FPTS</td>\n",
       "    </tr>\n",
       "    <tr>\n",
       "      <th>3</th>\n",
       "      <td>Russell Wilson, SEA</td>\n",
       "      <td>553</td>\n",
       "      <td>339</td>\n",
       "      <td>3983</td>\n",
       "      <td>34</td>\n",
       "      <td>11</td>\n",
       "      <td>95.4</td>\n",
       "      <td>95</td>\n",
       "      <td>586</td>\n",
       "      <td>6.17</td>\n",
       "      <td>3</td>\n",
       "      <td>0</td>\n",
       "      <td>0</td>\n",
       "      <td>0</td>\n",
       "      <td>0.00</td>\n",
       "      <td>0</td>\n",
       "      <td>3</td>\n",
       "      <td>399</td>\n",
       "    </tr>\n",
       "    <tr>\n",
       "      <th>4</th>\n",
       "      <td>Tom Brady, NE</td>\n",
       "      <td>581</td>\n",
       "      <td>385</td>\n",
       "      <td>4577</td>\n",
       "      <td>32</td>\n",
       "      <td>8</td>\n",
       "      <td>102.8</td>\n",
       "      <td>25</td>\n",
       "      <td>28</td>\n",
       "      <td>1.12</td>\n",
       "      <td>0</td>\n",
       "      <td>0</td>\n",
       "      <td>0</td>\n",
       "      <td>0</td>\n",
       "      <td>0.00</td>\n",
       "      <td>0</td>\n",
       "      <td>3</td>\n",
       "      <td>349</td>\n",
       "    </tr>\n",
       "  </tbody>\n",
       "</table>\n",
       "</div>"
      ],
      "text/plain": [
       "                          0        1        2          3     4    5      6   \\\n",
       "0  Quarterbacks - 2017 (YTD)      NaN      NaN        NaN   NaN  NaN    NaN   \n",
       "1                        NaN  Passing  Rushing  Receiving  Misc  NaN    NaN   \n",
       "2                     Player      ATT      CMP         YD    TD  INT   RATE   \n",
       "3        Russell Wilson, SEA      553      339       3983    34   11   95.4   \n",
       "4              Tom Brady, NE      581      385       4577    32    8  102.8   \n",
       "\n",
       "    7    8     9    10     11     12   13    14   15   16    17  \n",
       "0  NaN  NaN   NaN  NaN    NaN    NaN  NaN   NaN  NaN  NaN   NaN  \n",
       "1  NaN  NaN   NaN  NaN    NaN    NaN  NaN   NaN  NaN  NaN   NaN  \n",
       "2  ATT   YD   AVG   TD  TARGT  RECPT   YD   AVG   TD   FL  FPTS  \n",
       "3   95  586  6.17    3      0      0    0  0.00    0    3   399  \n",
       "4   25   28  1.12    0      0      0    0  0.00    0    3   349  "
      ]
     },
     "execution_count": 232,
     "metadata": {},
     "output_type": "execute_result"
    }
   ],
   "source": [
    "#insert 2\n",
    "tables = pd.read_html(urls[0])\n",
    "df = tables[0]\n",
    "df.head()"
   ]
  },
  {
   "cell_type": "markdown",
   "metadata": {},
   "source": [
    "3.Resave the table to include just the first and last columns of the data frame. Google a way to do this."
   ]
  },
  {
   "cell_type": "code",
   "execution_count": 272,
   "metadata": {},
   "outputs": [
    {
     "data": {
      "text/html": [
       "<div>\n",
       "<table border=\"1\" class=\"dataframe\">\n",
       "  <thead>\n",
       "    <tr style=\"text-align: right;\">\n",
       "      <th></th>\n",
       "      <th>player</th>\n",
       "      <th>position</th>\n",
       "    </tr>\n",
       "  </thead>\n",
       "  <tbody>\n",
       "    <tr>\n",
       "      <th>0</th>\n",
       "      <td>Russell Wilson, SEA</td>\n",
       "      <td>QB</td>\n",
       "    </tr>\n",
       "    <tr>\n",
       "      <th>1</th>\n",
       "      <td>Tom Brady, NE</td>\n",
       "      <td>QB</td>\n",
       "    </tr>\n",
       "    <tr>\n",
       "      <th>2</th>\n",
       "      <td>Carson Wentz, PHI</td>\n",
       "      <td>QB</td>\n",
       "    </tr>\n",
       "    <tr>\n",
       "      <th>3</th>\n",
       "      <td>Alex Smith, WAS</td>\n",
       "      <td>QB</td>\n",
       "    </tr>\n",
       "    <tr>\n",
       "      <th>4</th>\n",
       "      <td>Cam Newton, CAR</td>\n",
       "      <td>QB</td>\n",
       "    </tr>\n",
       "    <tr>\n",
       "      <th>5</th>\n",
       "      <td>Matthew Stafford, DET</td>\n",
       "      <td>QB</td>\n",
       "    </tr>\n",
       "    <tr>\n",
       "      <th>6</th>\n",
       "      <td>Philip Rivers, LAC</td>\n",
       "      <td>QB</td>\n",
       "    </tr>\n",
       "    <tr>\n",
       "      <th>7</th>\n",
       "      <td>Kirk Cousins, MIN</td>\n",
       "      <td>QB</td>\n",
       "    </tr>\n",
       "    <tr>\n",
       "      <th>8</th>\n",
       "      <td>Ben Roethlisberger, PIT</td>\n",
       "      <td>QB</td>\n",
       "    </tr>\n",
       "    <tr>\n",
       "      <th>9</th>\n",
       "      <td>Jared Goff, LAR</td>\n",
       "      <td>QB</td>\n",
       "    </tr>\n",
       "  </tbody>\n",
       "</table>\n",
       "</div>"
      ],
      "text/plain": [
       "                    player position\n",
       "0      Russell Wilson, SEA       QB\n",
       "1            Tom Brady, NE       QB\n",
       "2        Carson Wentz, PHI       QB\n",
       "3          Alex Smith, WAS       QB\n",
       "4          Cam Newton, CAR       QB\n",
       "5    Matthew Stafford, DET       QB\n",
       "6       Philip Rivers, LAC       QB\n",
       "7        Kirk Cousins, MIN       QB\n",
       "8  Ben Roethlisberger, PIT       QB\n",
       "9          Jared Goff, LAR       QB"
      ]
     },
     "execution_count": 272,
     "metadata": {},
     "output_type": "execute_result"
    }
   ],
   "source": [
    "#insert 3\n",
    "#table = tables[0].iloc[:,[0]+[-1]] # or\n",
    "df = df[df.columns[[0,-1]]]\n",
    "df[0:10]"
   ]
  },
  {
   "cell_type": "markdown",
   "metadata": {},
   "source": [
    "4.Drop the three non-player rows from the table. Be sure your changes save."
   ]
  },
  {
   "cell_type": "code",
   "execution_count": 234,
   "metadata": {},
   "outputs": [
    {
     "name": "stderr",
     "output_type": "stream",
     "text": [
      "/Users/shareshianl/anaconda/lib/python3.6/site-packages/ipykernel/__main__.py:2: SettingWithCopyWarning: \n",
      "A value is trying to be set on a copy of a slice from a DataFrame\n",
      "\n",
      "See the caveats in the documentation: http://pandas.pydata.org/pandas-docs/stable/indexing.html#indexing-view-versus-copy\n",
      "  from ipykernel import kernelapp as app\n"
     ]
    },
    {
     "data": {
      "text/html": [
       "<div>\n",
       "<table border=\"1\" class=\"dataframe\">\n",
       "  <thead>\n",
       "    <tr style=\"text-align: right;\">\n",
       "      <th></th>\n",
       "      <th>0</th>\n",
       "      <th>17</th>\n",
       "    </tr>\n",
       "  </thead>\n",
       "  <tbody>\n",
       "    <tr>\n",
       "      <th>3</th>\n",
       "      <td>Russell Wilson, SEA</td>\n",
       "      <td>399</td>\n",
       "    </tr>\n",
       "    <tr>\n",
       "      <th>4</th>\n",
       "      <td>Tom Brady, NE</td>\n",
       "      <td>349</td>\n",
       "    </tr>\n",
       "    <tr>\n",
       "      <th>5</th>\n",
       "      <td>Carson Wentz, PHI</td>\n",
       "      <td>335</td>\n",
       "    </tr>\n",
       "    <tr>\n",
       "      <th>6</th>\n",
       "      <td>Alex Smith, WAS</td>\n",
       "      <td>333</td>\n",
       "    </tr>\n",
       "    <tr>\n",
       "      <th>7</th>\n",
       "      <td>Cam Newton, CAR</td>\n",
       "      <td>330</td>\n",
       "    </tr>\n",
       "  </tbody>\n",
       "</table>\n",
       "</div>"
      ],
      "text/plain": [
       "                    0    17\n",
       "3  Russell Wilson, SEA  399\n",
       "4        Tom Brady, NE  349\n",
       "5    Carson Wentz, PHI  335\n",
       "6      Alex Smith, WAS  333\n",
       "7      Cam Newton, CAR  330"
      ]
     },
     "execution_count": 234,
     "metadata": {},
     "output_type": "execute_result"
    }
   ],
   "source": [
    "#insert 4\n",
    "df.drop(df.index[0:3], inplace = True)\n",
    "df.head()"
   ]
  },
  {
   "cell_type": "markdown",
   "metadata": {},
   "source": [
    "5.Change the column names of the table to \"player\" and \"2017_points\". \n",
    "\n",
    "Hint: Refer to the old column names as \"df.columns[0]\" and \"df.columns[-1]\" in your code instead of as \"0\" and \"17\". This will help generalize your code because not all urls have the same number of columns."
   ]
  },
  {
   "cell_type": "code",
   "execution_count": 235,
   "metadata": {},
   "outputs": [
    {
     "name": "stderr",
     "output_type": "stream",
     "text": [
      "/Users/shareshianl/anaconda/lib/python3.6/site-packages/pandas/core/frame.py:2834: SettingWithCopyWarning: \n",
      "A value is trying to be set on a copy of a slice from a DataFrame\n",
      "\n",
      "See the caveats in the documentation: http://pandas.pydata.org/pandas-docs/stable/indexing.html#indexing-view-versus-copy\n",
      "  **kwargs)\n"
     ]
    },
    {
     "data": {
      "text/html": [
       "<div>\n",
       "<table border=\"1\" class=\"dataframe\">\n",
       "  <thead>\n",
       "    <tr style=\"text-align: right;\">\n",
       "      <th></th>\n",
       "      <th>player</th>\n",
       "      <th>2017_points</th>\n",
       "    </tr>\n",
       "  </thead>\n",
       "  <tbody>\n",
       "    <tr>\n",
       "      <th>3</th>\n",
       "      <td>Russell Wilson, SEA</td>\n",
       "      <td>399</td>\n",
       "    </tr>\n",
       "    <tr>\n",
       "      <th>4</th>\n",
       "      <td>Tom Brady, NE</td>\n",
       "      <td>349</td>\n",
       "    </tr>\n",
       "    <tr>\n",
       "      <th>5</th>\n",
       "      <td>Carson Wentz, PHI</td>\n",
       "      <td>335</td>\n",
       "    </tr>\n",
       "    <tr>\n",
       "      <th>6</th>\n",
       "      <td>Alex Smith, WAS</td>\n",
       "      <td>333</td>\n",
       "    </tr>\n",
       "    <tr>\n",
       "      <th>7</th>\n",
       "      <td>Cam Newton, CAR</td>\n",
       "      <td>330</td>\n",
       "    </tr>\n",
       "  </tbody>\n",
       "</table>\n",
       "</div>"
      ],
      "text/plain": [
       "                player 2017_points\n",
       "3  Russell Wilson, SEA         399\n",
       "4        Tom Brady, NE         349\n",
       "5    Carson Wentz, PHI         335\n",
       "6      Alex Smith, WAS         333\n",
       "7      Cam Newton, CAR         330"
      ]
     },
     "execution_count": 235,
     "metadata": {},
     "output_type": "execute_result"
    }
   ],
   "source": [
    "#insert 5\n",
    "df.rename(index=str, columns={df.columns[0]: \"player\", df.columns[-1]: \"2017_points\"}, inplace = True)\n",
    "df.head()"
   ]
  },
  {
   "cell_type": "markdown",
   "metadata": {},
   "source": [
    "6.Create another column called position. Fill it with \"QB\" since all the players in that dataframe are quarterbacks."
   ]
  },
  {
   "cell_type": "code",
   "execution_count": 273,
   "metadata": {},
   "outputs": [
    {
     "data": {
      "text/html": [
       "<div>\n",
       "<table border=\"1\" class=\"dataframe\">\n",
       "  <thead>\n",
       "    <tr style=\"text-align: right;\">\n",
       "      <th></th>\n",
       "      <th>player</th>\n",
       "      <th>position</th>\n",
       "    </tr>\n",
       "  </thead>\n",
       "  <tbody>\n",
       "    <tr>\n",
       "      <th>0</th>\n",
       "      <td>Russell Wilson, SEA</td>\n",
       "      <td>QB</td>\n",
       "    </tr>\n",
       "    <tr>\n",
       "      <th>1</th>\n",
       "      <td>Tom Brady, NE</td>\n",
       "      <td>QB</td>\n",
       "    </tr>\n",
       "    <tr>\n",
       "      <th>2</th>\n",
       "      <td>Carson Wentz, PHI</td>\n",
       "      <td>QB</td>\n",
       "    </tr>\n",
       "    <tr>\n",
       "      <th>3</th>\n",
       "      <td>Alex Smith, WAS</td>\n",
       "      <td>QB</td>\n",
       "    </tr>\n",
       "    <tr>\n",
       "      <th>4</th>\n",
       "      <td>Cam Newton, CAR</td>\n",
       "      <td>QB</td>\n",
       "    </tr>\n",
       "    <tr>\n",
       "      <th>5</th>\n",
       "      <td>Matthew Stafford, DET</td>\n",
       "      <td>QB</td>\n",
       "    </tr>\n",
       "    <tr>\n",
       "      <th>6</th>\n",
       "      <td>Philip Rivers, LAC</td>\n",
       "      <td>QB</td>\n",
       "    </tr>\n",
       "    <tr>\n",
       "      <th>7</th>\n",
       "      <td>Kirk Cousins, MIN</td>\n",
       "      <td>QB</td>\n",
       "    </tr>\n",
       "    <tr>\n",
       "      <th>8</th>\n",
       "      <td>Ben Roethlisberger, PIT</td>\n",
       "      <td>QB</td>\n",
       "    </tr>\n",
       "    <tr>\n",
       "      <th>9</th>\n",
       "      <td>Jared Goff, LAR</td>\n",
       "      <td>QB</td>\n",
       "    </tr>\n",
       "  </tbody>\n",
       "</table>\n",
       "</div>"
      ],
      "text/plain": [
       "                    player position\n",
       "0      Russell Wilson, SEA       QB\n",
       "1            Tom Brady, NE       QB\n",
       "2        Carson Wentz, PHI       QB\n",
       "3          Alex Smith, WAS       QB\n",
       "4          Cam Newton, CAR       QB\n",
       "5    Matthew Stafford, DET       QB\n",
       "6       Philip Rivers, LAC       QB\n",
       "7        Kirk Cousins, MIN       QB\n",
       "8  Ben Roethlisberger, PIT       QB\n",
       "9          Jared Goff, LAR       QB"
      ]
     },
     "execution_count": 273,
     "metadata": {},
     "output_type": "execute_result"
    }
   ],
   "source": [
    "df['position'] = 'QB'\n",
    "df[0:10]"
   ]
  },
  {
   "cell_type": "markdown",
   "metadata": {},
   "source": [
    "7.Okay. Now you are going to loop through and add the dataframes you get from visiting the other urls to the bottom of the dataframe you got from the first url. You can do this by using the following command within the for loop:\n",
    "\n",
    "df = pd.concat([df, new_df])\n",
    "\n",
    "This adds the new dataframe to the bottom of the old dataframe.\n",
    "\n",
    "However, easier said than done. A few things to keep in mind:\n",
    "\n",
    "I. In your loop, be sure not to read the quarterback URL in again. You've already stored that data.\n",
    "\n",
    "II. Follow the previous steps 2-6 to create the new_df.\n",
    "\n",
    "III. However, drop just the first TWO rows (not three) from the new tables for the kicker/defense urls each time before you add them to the old table. (These positions only have two header rows instead of three).\n",
    "\n",
    "IV. Depending on your url, you'll need to label the player's position differently.\n",
    "\n",
    "V. Only after you've done all of the previous steps, then concatenate the old table with the new table within the loop."
   ]
  },
  {
   "cell_type": "code",
   "execution_count": 237,
   "metadata": {},
   "outputs": [
    {
     "data": {
      "text/html": [
       "<div>\n",
       "<table border=\"1\" class=\"dataframe\">\n",
       "  <thead>\n",
       "    <tr style=\"text-align: right;\">\n",
       "      <th></th>\n",
       "      <th>player</th>\n",
       "      <th>2017_points</th>\n",
       "      <th>position</th>\n",
       "    </tr>\n",
       "  </thead>\n",
       "  <tbody>\n",
       "    <tr>\n",
       "      <th>3</th>\n",
       "      <td>Russell Wilson, SEA</td>\n",
       "      <td>399</td>\n",
       "      <td>QB</td>\n",
       "    </tr>\n",
       "    <tr>\n",
       "      <th>4</th>\n",
       "      <td>Tom Brady, NE</td>\n",
       "      <td>349</td>\n",
       "      <td>QB</td>\n",
       "    </tr>\n",
       "    <tr>\n",
       "      <th>5</th>\n",
       "      <td>Carson Wentz, PHI</td>\n",
       "      <td>335</td>\n",
       "      <td>QB</td>\n",
       "    </tr>\n",
       "    <tr>\n",
       "      <th>6</th>\n",
       "      <td>Alex Smith, WAS</td>\n",
       "      <td>333</td>\n",
       "      <td>QB</td>\n",
       "    </tr>\n",
       "    <tr>\n",
       "      <th>7</th>\n",
       "      <td>Cam Newton, CAR</td>\n",
       "      <td>330</td>\n",
       "      <td>QB</td>\n",
       "    </tr>\n",
       "  </tbody>\n",
       "</table>\n",
       "</div>"
      ],
      "text/plain": [
       "                player 2017_points position\n",
       "3  Russell Wilson, SEA         399       QB\n",
       "4        Tom Brady, NE         349       QB\n",
       "5    Carson Wentz, PHI         335       QB\n",
       "6      Alex Smith, WAS         333       QB\n",
       "7      Cam Newton, CAR         330       QB"
      ]
     },
     "execution_count": 237,
     "metadata": {},
     "output_type": "execute_result"
    }
   ],
   "source": [
    "#insert 7\n",
    "for i in range(1,len(urls)):\n",
    "    new_df = pd.read_html(urls[i])[0]\n",
    "    new_df = new_df[new_df.columns[[0,-1]]]\n",
    "    \n",
    "    if i in [1,2,3]:\n",
    "        new_df.drop(new_df.index[0:3], inplace = True)\n",
    "    if i in [4,5]:\n",
    "        new_df.drop(new_df.index[0:2], inplace = True)\n",
    "\n",
    "    new_df.rename(index=str, columns={new_df.columns[0]: \"player\", new_df.columns[-1]: \"2017_points\"}, inplace = True)\n",
    "    \n",
    "    if i == 1:\n",
    "        new_df['position'] = 'RB'\n",
    "    if i == 2:\n",
    "        new_df['position'] = 'WR'\n",
    "    if i == 3:\n",
    "        new_df['position'] = 'TE'\n",
    "    if i == 4:\n",
    "        new_df['position'] = 'K'\n",
    "    if i == 5:\n",
    "        new_df['position'] = 'D'\n",
    "        \n",
    "    df = pd.concat([df, new_df])\n",
    "    \n",
    "df.head()"
   ]
  },
  {
   "cell_type": "markdown",
   "metadata": {},
   "source": [
    "8.Drop rows that are missing ANY entries. Then, reset the index."
   ]
  },
  {
   "cell_type": "code",
   "execution_count": 241,
   "metadata": {},
   "outputs": [
    {
     "data": {
      "text/html": [
       "<div>\n",
       "<table border=\"1\" class=\"dataframe\">\n",
       "  <thead>\n",
       "    <tr style=\"text-align: right;\">\n",
       "      <th></th>\n",
       "      <th>player</th>\n",
       "      <th>2017_points</th>\n",
       "      <th>position</th>\n",
       "    </tr>\n",
       "  </thead>\n",
       "  <tbody>\n",
       "    <tr>\n",
       "      <th>0</th>\n",
       "      <td>Russell Wilson, SEA</td>\n",
       "      <td>399</td>\n",
       "      <td>QB</td>\n",
       "    </tr>\n",
       "    <tr>\n",
       "      <th>1</th>\n",
       "      <td>Tom Brady, NE</td>\n",
       "      <td>349</td>\n",
       "      <td>QB</td>\n",
       "    </tr>\n",
       "    <tr>\n",
       "      <th>2</th>\n",
       "      <td>Carson Wentz, PHI</td>\n",
       "      <td>335</td>\n",
       "      <td>QB</td>\n",
       "    </tr>\n",
       "    <tr>\n",
       "      <th>3</th>\n",
       "      <td>Alex Smith, WAS</td>\n",
       "      <td>333</td>\n",
       "      <td>QB</td>\n",
       "    </tr>\n",
       "    <tr>\n",
       "      <th>4</th>\n",
       "      <td>Cam Newton, CAR</td>\n",
       "      <td>330</td>\n",
       "      <td>QB</td>\n",
       "    </tr>\n",
       "  </tbody>\n",
       "</table>\n",
       "</div>"
      ],
      "text/plain": [
       "                player 2017_points position\n",
       "0  Russell Wilson, SEA         399       QB\n",
       "1        Tom Brady, NE         349       QB\n",
       "2    Carson Wentz, PHI         335       QB\n",
       "3      Alex Smith, WAS         333       QB\n",
       "4      Cam Newton, CAR         330       QB"
      ]
     },
     "execution_count": 241,
     "metadata": {},
     "output_type": "execute_result"
    }
   ],
   "source": [
    "#insert 8\n",
    "df = df.dropna(how = 'any')\n",
    "df = df.reset_index(drop=True)\n",
    "df.head()"
   ]
  },
  {
   "cell_type": "markdown",
   "metadata": {},
   "source": [
    "9.Notice that the player names contain the name and team. We will want to break this up. First, create a list called playernames that just contains the player names. Do this by splitting the name by spaces and joining all but the last two elements in the split with a space between them. "
   ]
  },
  {
   "cell_type": "code",
   "execution_count": 242,
   "metadata": {},
   "outputs": [
    {
     "name": "stdout",
     "output_type": "stream",
     "text": [
      "Russell Wilson\n",
      "Tom Brady\n",
      "Carson Wentz\n",
      "Alex Smith\n",
      "Cam Newton\n",
      "Matthew Stafford\n",
      "Philip Rivers\n",
      "Kirk Cousins\n",
      "Ben Roethlisberger\n",
      "Jared Goff\n",
      "Drew Brees\n",
      "Dak Prescott\n",
      "Blake Bortles\n",
      "Case Keenum\n",
      "Matt Ryan\n",
      "Andy Dalton\n",
      "Derek Carr\n",
      "Tyrod Taylor\n",
      "Josh McCown\n",
      "Jameis Winston\n",
      "Marcus Mariota\n",
      "Eli Manning\n",
      "Jacoby Brissett\n",
      "Joe Flacco\n",
      "Deshaun Watson\n",
      "Jay Cutler\n",
      "DeShone Kizer\n",
      "Aaron Rodgers\n",
      "Trevor Siemian\n",
      "Mitchell Trubisky\n",
      "Brett Hundley\n",
      "Carson Palmer\n",
      "Jimmy Garoppolo\n",
      "C.J. Beathard\n",
      "Ryan Fitzpatrick\n",
      "Brock Osweiler\n",
      "Blaine Gabbert\n",
      "Brian Hoyer\n",
      "Drew Stanton\n",
      "Tom Savage\n",
      "Matt Moore\n",
      "T.J. Yates\n",
      "Mike Glennon\n",
      "Nick Foles\n",
      "Kevin Hogan\n",
      "Sam Bradford\n",
      "Bryce Petty\n",
      "David Fales\n",
      "Paxton Lynch\n",
      "Todd Gurley\n",
      "Le'Veon Bell\n",
      "Alvin Kamara\n",
      "Kareem Hunt\n",
      "Melvin Gordon\n",
      "Mark Ingram\n",
      "LeSean McCoy\n",
      "Carlos Hyde\n",
      "Leonard Fournette\n",
      "Christian McCaffrey\n",
      "Duke Johnson\n",
      "Ezekiel Elliott\n",
      "Devonta Freeman\n",
      "Jordan Howard\n",
      "Dion Lewis\n",
      "Lamar Miller\n",
      "Jerick McKinnon\n",
      "Alex Collins\n",
      "Frank Gore\n",
      "C.J. Anderson\n",
      "DeMarco Murray\n",
      "Tevin Coleman\n",
      "Javorius Allen\n",
      "Marshawn Lynch\n",
      "Latavius Murray\n",
      "Chris Thompson\n",
      "Theo Riddick\n",
      "Giovani Bernard\n",
      "Tarik Cohen\n",
      "Isaiah Crowell\n",
      "Bilal Powell\n",
      "Kenyan Drake\n",
      "Jamaal Williams\n",
      "Joe Mixon\n",
      "Orleans Darkwa\n",
      "Derrick Henry\n",
      "Jay Ajayi\n",
      "James White\n",
      "Rex Burkhead\n",
      "Ameer Abdullah\n",
      "Matt Forte\n",
      "Jonathan Stewart\n",
      "LeGarrette Blount\n",
      "Samaje Perine\n",
      "Austin Ekeler\n",
      "Wayne Gallman\n",
      "Marlon Mack\n",
      "Matt Breida\n",
      "Rod Smith\n",
      "Antonio Brown\n",
      "DeAndre Hopkins\n",
      "Keenan Allen\n",
      "Jarvis Landry\n",
      "Larry Fitzgerald\n",
      "Michael Thomas\n",
      "Julio Jones\n",
      "Adam Thielen\n",
      "Tyreek Hill\n",
      "A.J. Green\n",
      "Marvin Jones\n",
      "Doug Baldwin\n",
      "Davante Adams\n",
      "Golden Tate\n",
      "Brandin Cooks\n",
      "Demaryius Thomas\n",
      "Mike Evans\n",
      "Stefon Diggs\n",
      "Robby Anderson\n",
      "Alshon Jeffery\n",
      "Devin Funchess\n",
      "JuJu Smith-Schuster\n",
      "Nelson Agholor\n",
      "Dez Bryant\n",
      "Cooper Kupp\n",
      "Mohamed Sanu\n",
      "T.Y. Hilton\n",
      "Michael Crabtree\n",
      "Kenny Stills\n",
      "Jermaine Kearse\n",
      "Marquise Goodwin\n",
      "Robert Woods\n",
      "Jamison Crowder\n",
      "Randall Cobb\n",
      "Ted Ginn\n",
      "Amari Cooper\n",
      "Rishard Matthews\n",
      "Paul Richardson\n",
      "Mike Wallace\n",
      "Sammy Watkins\n",
      "Marqise Lee\n",
      "Sterling Shepard\n",
      "Danny Amendola\n",
      "Jordy Nelson\n",
      "DeSean Jackson\n",
      "Tyrell Williams\n",
      "Kelvin Benjamin\n",
      "Martavis Bryant\n",
      "Keelan Cole\n",
      "Travis Kelce\n",
      "Rob Gronkowski\n",
      "Zach Ertz\n",
      "Delanie Walker\n",
      "Evan Engram\n",
      "Jimmy Graham\n",
      "Jack Doyle\n",
      "Kyle Rudolph\n",
      "Jason Witten\n",
      "Cameron Brate\n",
      "Benjamin Watson\n",
      "Jared Cook\n",
      "Hunter Henry\n",
      "Eric Ebron\n",
      "Tyler Kroft\n",
      "Vernon Davis\n",
      "Charles Clay\n",
      "Austin Hooper\n",
      "George Kittle\n",
      "Austin Seferian-Jenkins\n",
      "O.J. Howard\n",
      "Jesse James\n",
      "Julius Thomas\n",
      "David Njoku\n",
      "Marcedes Lewis\n",
      "Antonio Gates\n",
      "Trey Burton\n",
      "Ed Dickson\n",
      "Garrett Celek\n",
      "Jermaine Gresham\n",
      "Seth DeValve\n",
      "Coby Fleener\n",
      "Stephen Anderson\n",
      "Nick O'Leary\n",
      "Jordan Reed\n",
      "Rhett Ellison\n",
      "Martellus Bennett\n",
      "Tyler Higbee\n",
      "A.J. Derby\n",
      "Zach Miller\n",
      "Luke Willson\n",
      "Ricky Seals-Jones\n",
      "Darren Fells\n",
      "Gerald Everett\n",
      "Jonnu Smith\n",
      "Demetrius Harris\n",
      "Nick Boyle\n",
      "Adam Shaheen\n",
      "Lance Kendricks\n",
      "Greg Zuerlein\n",
      "Stephen Gostkowski\n",
      "Matt Bryant\n",
      "Robbie Gould\n",
      "Justin Tucker\n",
      "Chris Boswell\n",
      "Harrison Butker\n",
      "Wil Lutz\n",
      "Matt Prater\n",
      "Kai Forbath\n",
      "Ryan Succop\n",
      "Stephen Hauschka\n",
      "Phil Dawson\n",
      "Jake Elliott\n",
      "Graham Gano\n",
      "Adam Vinatieri\n",
      "Chandler Catanzaro\n",
      "Brandon McManus\n",
      "Blair Walsh\n",
      "Ka'imi Fairbairn\n",
      "Cody Parkey\n",
      "Giorgio Tavecchio\n",
      "Randy Bullock\n",
      "Josh Lambo\n",
      "Patrick Murray\n",
      "Mason Crosby\n",
      "Aldrick Rosas\n",
      "Dan Bailey\n",
      "Zane Gonzalez\n",
      "Dustin Hopkins\n",
      "Nick Rose\n",
      "Connor Barth\n",
      "Mike Nugent\n",
      "Jason Myers\n",
      "Nick Novak\n",
      "Nick Folk\n",
      "Travis Coons\n",
      "Cairo Santos\n",
      "Younghoe Koo\n",
      "Caleb Sturgis\n",
      "Sam Ficken\n",
      "Marshall Koehn\n",
      "Jaguars\n",
      "Ravens\n",
      "Rams\n",
      "Eagles\n",
      "Seahawks\n",
      "Chargers\n",
      "Saints\n",
      "Steelers\n",
      "Lions\n",
      "Bears\n",
      "Vikings\n",
      "Panthers\n",
      "Broncos\n",
      "Cowboys\n",
      "Titans\n",
      "Chiefs\n",
      "Bills\n",
      "Patriots\n",
      "Redskins\n",
      "Cardinals\n",
      "Falcons\n",
      "Bengals\n",
      "Buccaneers\n",
      "Texans\n",
      "Dolphins\n",
      "Packers\n",
      "Giants\n",
      "49ers\n",
      "Colts\n",
      "Jets\n",
      "Raiders\n",
      "Browns\n"
     ]
    }
   ],
   "source": [
    "#insert 9\n",
    "playernames = []\n",
    "for player in df['player'].values:\n",
    "    playername = ' '.join(player.split()[0:-1])[:-1]\n",
    "    playernames.append(playername)\n",
    "    print(playername)"
   ]
  },
  {
   "cell_type": "markdown",
   "metadata": {},
   "source": [
    "10.Create a list called positions that contains just the player positions and a list called teams that just contains the teams."
   ]
  },
  {
   "cell_type": "code",
   "execution_count": 243,
   "metadata": {},
   "outputs": [],
   "source": [
    "#insert 10\n",
    "positions = df['position']\n",
    "\n",
    "teams = []\n",
    "for player in df['player'].values:\n",
    "    teams.append(player.split()[-1])"
   ]
  },
  {
   "cell_type": "markdown",
   "metadata": {},
   "source": [
    "11.Create a new data frame called \"df1\" where the player name called \"player\" is in the first column, the player team is in the second column, the player position is in the third column, and the 2017 points is in the fourth column."
   ]
  },
  {
   "cell_type": "code",
   "execution_count": 246,
   "metadata": {},
   "outputs": [
    {
     "data": {
      "text/html": [
       "<div>\n",
       "<table border=\"1\" class=\"dataframe\">\n",
       "  <thead>\n",
       "    <tr style=\"text-align: right;\">\n",
       "      <th></th>\n",
       "      <th>2017_points</th>\n",
       "      <th>player</th>\n",
       "      <th>positions</th>\n",
       "      <th>teams</th>\n",
       "    </tr>\n",
       "  </thead>\n",
       "  <tbody>\n",
       "    <tr>\n",
       "      <th>0</th>\n",
       "      <td>399</td>\n",
       "      <td>Russell Wilson</td>\n",
       "      <td>QB</td>\n",
       "      <td>SEA</td>\n",
       "    </tr>\n",
       "    <tr>\n",
       "      <th>1</th>\n",
       "      <td>349</td>\n",
       "      <td>Tom Brady</td>\n",
       "      <td>QB</td>\n",
       "      <td>NE</td>\n",
       "    </tr>\n",
       "    <tr>\n",
       "      <th>2</th>\n",
       "      <td>335</td>\n",
       "      <td>Carson Wentz</td>\n",
       "      <td>QB</td>\n",
       "      <td>PHI</td>\n",
       "    </tr>\n",
       "    <tr>\n",
       "      <th>3</th>\n",
       "      <td>333</td>\n",
       "      <td>Alex Smith</td>\n",
       "      <td>QB</td>\n",
       "      <td>WAS</td>\n",
       "    </tr>\n",
       "    <tr>\n",
       "      <th>4</th>\n",
       "      <td>330</td>\n",
       "      <td>Cam Newton</td>\n",
       "      <td>QB</td>\n",
       "      <td>CAR</td>\n",
       "    </tr>\n",
       "  </tbody>\n",
       "</table>\n",
       "</div>"
      ],
      "text/plain": [
       "  2017_points          player positions teams\n",
       "0         399  Russell Wilson        QB   SEA\n",
       "1         349       Tom Brady        QB    NE\n",
       "2         335    Carson Wentz        QB   PHI\n",
       "3         333      Alex Smith        QB   WAS\n",
       "4         330      Cam Newton        QB   CAR"
      ]
     },
     "execution_count": 246,
     "metadata": {},
     "output_type": "execute_result"
    }
   ],
   "source": [
    "#insert 11\n",
    "df1 = pd.DataFrame(data = {'player': playernames, \n",
    "                             'positions': positions, \n",
    "                             'teams': teams,\n",
    "                            '2017_points': df['2017_points']})\n",
    "df1.head()"
   ]
  },
  {
   "cell_type": "markdown",
   "metadata": {},
   "source": [
    "12.Now go to this website to see what ESPN projected the player rankings to be BEFORE the season had started:\n",
    "\n",
    "http://www.espn.com/fantasy/football/story/_/page/17RanksPreseason200PPR/2017-fantasy-football-ppr-rankings-top-200\n",
    "\n",
    "Use pd.read_html to read the data in. "
   ]
  },
  {
   "cell_type": "code",
   "execution_count": 276,
   "metadata": {},
   "outputs": [
    {
     "data": {
      "text/html": [
       "<div>\n",
       "<table border=\"1\" class=\"dataframe\">\n",
       "  <thead>\n",
       "    <tr style=\"text-align: right;\">\n",
       "      <th></th>\n",
       "      <th>Player/Position/Team</th>\n",
       "      <th>PosRank</th>\n",
       "      <th>Bye</th>\n",
       "      <th>MB</th>\n",
       "      <th>MC</th>\n",
       "      <th>TC</th>\n",
       "      <th>EK</th>\n",
       "      <th>FY</th>\n",
       "      <th>AVG</th>\n",
       "    </tr>\n",
       "  </thead>\n",
       "  <tbody>\n",
       "    <tr>\n",
       "      <th>0</th>\n",
       "      <td>1. David Johnson, RB, ARI</td>\n",
       "      <td>RB1</td>\n",
       "      <td>8</td>\n",
       "      <td>1</td>\n",
       "      <td>1</td>\n",
       "      <td>3</td>\n",
       "      <td>1</td>\n",
       "      <td>2</td>\n",
       "      <td>1.6</td>\n",
       "    </tr>\n",
       "    <tr>\n",
       "      <th>1</th>\n",
       "      <td>2. Le'Veon Bell, RB, PIT</td>\n",
       "      <td>RB2</td>\n",
       "      <td>9</td>\n",
       "      <td>2</td>\n",
       "      <td>2</td>\n",
       "      <td>2</td>\n",
       "      <td>2</td>\n",
       "      <td>1</td>\n",
       "      <td>1.8</td>\n",
       "    </tr>\n",
       "    <tr>\n",
       "      <th>2</th>\n",
       "      <td>3. Antonio Brown, WR, PIT</td>\n",
       "      <td>WR1</td>\n",
       "      <td>9</td>\n",
       "      <td>3</td>\n",
       "      <td>4</td>\n",
       "      <td>1</td>\n",
       "      <td>4</td>\n",
       "      <td>3</td>\n",
       "      <td>3.0</td>\n",
       "    </tr>\n",
       "    <tr>\n",
       "      <th>3</th>\n",
       "      <td>4. Ezekiel Elliott, RB, DAL</td>\n",
       "      <td>RB3</td>\n",
       "      <td>6</td>\n",
       "      <td>8</td>\n",
       "      <td>3</td>\n",
       "      <td>5</td>\n",
       "      <td>3</td>\n",
       "      <td>4</td>\n",
       "      <td>4.6</td>\n",
       "    </tr>\n",
       "    <tr>\n",
       "      <th>4</th>\n",
       "      <td>5. Odell Beckham Jr., WR, NYG</td>\n",
       "      <td>WR2</td>\n",
       "      <td>8</td>\n",
       "      <td>5</td>\n",
       "      <td>6</td>\n",
       "      <td>7</td>\n",
       "      <td>5</td>\n",
       "      <td>5</td>\n",
       "      <td>5.6</td>\n",
       "    </tr>\n",
       "  </tbody>\n",
       "</table>\n",
       "</div>"
      ],
      "text/plain": [
       "            Player/Position/Team PosRank  Bye MB MC TC EK FY  AVG\n",
       "0      1. David Johnson, RB, ARI     RB1    8  1  1  3  1  2  1.6\n",
       "1       2. Le'Veon Bell, RB, PIT     RB2    9  2  2  2  2  1  1.8\n",
       "2      3. Antonio Brown, WR, PIT     WR1    9  3  4  1  4  3  3.0\n",
       "3    4. Ezekiel Elliott, RB, DAL     RB3    6  8  3  5  3  4  4.6\n",
       "4  5. Odell Beckham Jr., WR, NYG     WR2    8  5  6  7  5  5  5.6"
      ]
     },
     "execution_count": 276,
     "metadata": {},
     "output_type": "execute_result"
    }
   ],
   "source": [
    "#insert 12\n",
    "table2 = pd.read_html('http://www.espn.com/fantasy/football/story/_/page/17RanksPreseason200PPR/2017-fantasy-football-ppr-rankings-top-200')\n",
    "df2=table2[1]\n",
    "df2.head()"
   ]
  },
  {
   "cell_type": "markdown",
   "metadata": {},
   "source": [
    "13.Save just the Player/Position/Team column to a dataframe called \"df2\". Rename the column \"player\"."
   ]
  },
  {
   "cell_type": "code",
   "execution_count": 277,
   "metadata": {},
   "outputs": [
    {
     "data": {
      "text/html": [
       "<div>\n",
       "<table border=\"1\" class=\"dataframe\">\n",
       "  <thead>\n",
       "    <tr style=\"text-align: right;\">\n",
       "      <th></th>\n",
       "      <th>player</th>\n",
       "    </tr>\n",
       "  </thead>\n",
       "  <tbody>\n",
       "    <tr>\n",
       "      <th>0</th>\n",
       "      <td>1. David Johnson, RB, ARI</td>\n",
       "    </tr>\n",
       "    <tr>\n",
       "      <th>1</th>\n",
       "      <td>2. Le'Veon Bell, RB, PIT</td>\n",
       "    </tr>\n",
       "    <tr>\n",
       "      <th>2</th>\n",
       "      <td>3. Antonio Brown, WR, PIT</td>\n",
       "    </tr>\n",
       "    <tr>\n",
       "      <th>3</th>\n",
       "      <td>4. Ezekiel Elliott, RB, DAL</td>\n",
       "    </tr>\n",
       "    <tr>\n",
       "      <th>4</th>\n",
       "      <td>5. Odell Beckham Jr., WR, NYG</td>\n",
       "    </tr>\n",
       "  </tbody>\n",
       "</table>\n",
       "</div>"
      ],
      "text/plain": [
       "                          player\n",
       "0      1. David Johnson, RB, ARI\n",
       "1       2. Le'Veon Bell, RB, PIT\n",
       "2      3. Antonio Brown, WR, PIT\n",
       "3    4. Ezekiel Elliott, RB, DAL\n",
       "4  5. Odell Beckham Jr., WR, NYG"
      ]
     },
     "execution_count": 277,
     "metadata": {},
     "output_type": "execute_result"
    }
   ],
   "source": [
    "#insert 13\n",
    "df2 = df2[['Player/Position/Team']]\n",
    "df2 = df2.rename(index=str, columns={'Player/Position/Team': 'player'})\n",
    "df2.head()"
   ]
  },
  {
   "cell_type": "markdown",
   "metadata": {},
   "source": [
    "14.We want to merge these two data frames. In order to do this, we need the player names to match up exactly. Update the \"df2\" data frame above to include only the player names - not the numbers, positions, or teams."
   ]
  },
  {
   "cell_type": "code",
   "execution_count": 278,
   "metadata": {},
   "outputs": [
    {
     "data": {
      "text/html": [
       "<div>\n",
       "<table border=\"1\" class=\"dataframe\">\n",
       "  <thead>\n",
       "    <tr style=\"text-align: right;\">\n",
       "      <th></th>\n",
       "      <th>player</th>\n",
       "    </tr>\n",
       "  </thead>\n",
       "  <tbody>\n",
       "    <tr>\n",
       "      <th>0</th>\n",
       "      <td>David Johnson</td>\n",
       "    </tr>\n",
       "    <tr>\n",
       "      <th>1</th>\n",
       "      <td>Le'Veon Bell</td>\n",
       "    </tr>\n",
       "    <tr>\n",
       "      <th>2</th>\n",
       "      <td>Antonio Brown</td>\n",
       "    </tr>\n",
       "    <tr>\n",
       "      <th>3</th>\n",
       "      <td>Ezekiel Elliott</td>\n",
       "    </tr>\n",
       "    <tr>\n",
       "      <th>4</th>\n",
       "      <td>Odell Beckham Jr.</td>\n",
       "    </tr>\n",
       "  </tbody>\n",
       "</table>\n",
       "</div>"
      ],
      "text/plain": [
       "              player\n",
       "0      David Johnson\n",
       "1       Le'Veon Bell\n",
       "2      Antonio Brown\n",
       "3    Ezekiel Elliott\n",
       "4  Odell Beckham Jr."
      ]
     },
     "execution_count": 278,
     "metadata": {},
     "output_type": "execute_result"
    }
   ],
   "source": [
    "#insert 14\n",
    "df2['player'] = [' '.join(player.split()[1:-2])[:-1] for player in df2['player'] ]\n",
    "df2.head()"
   ]
  },
  {
   "cell_type": "markdown",
   "metadata": {},
   "source": [
    "15.We'll want to create another column for what ESPN projected their ranking to be. Luckily, since they are in order, an index of 0 correponds to a ranking of 1, an index of 1 corresponds to a ranking of 2, etc. We can use the index and a list comprehension to create a ranking column:"
   ]
  },
  {
   "cell_type": "code",
   "execution_count": 252,
   "metadata": {},
   "outputs": [
    {
     "data": {
      "text/html": [
       "<div>\n",
       "<table border=\"1\" class=\"dataframe\">\n",
       "  <thead>\n",
       "    <tr style=\"text-align: right;\">\n",
       "      <th></th>\n",
       "      <th>player</th>\n",
       "      <th>ranking</th>\n",
       "    </tr>\n",
       "  </thead>\n",
       "  <tbody>\n",
       "    <tr>\n",
       "      <th>0</th>\n",
       "      <td>David Johnson</td>\n",
       "      <td>1</td>\n",
       "    </tr>\n",
       "    <tr>\n",
       "      <th>1</th>\n",
       "      <td>Le'Veon Bell</td>\n",
       "      <td>2</td>\n",
       "    </tr>\n",
       "    <tr>\n",
       "      <th>2</th>\n",
       "      <td>Antonio Brown</td>\n",
       "      <td>3</td>\n",
       "    </tr>\n",
       "    <tr>\n",
       "      <th>3</th>\n",
       "      <td>Ezekiel Elliott</td>\n",
       "      <td>4</td>\n",
       "    </tr>\n",
       "    <tr>\n",
       "      <th>4</th>\n",
       "      <td>Odell Beckham Jr.</td>\n",
       "      <td>5</td>\n",
       "    </tr>\n",
       "  </tbody>\n",
       "</table>\n",
       "</div>"
      ],
      "text/plain": [
       "              player  ranking\n",
       "0      David Johnson        1\n",
       "1       Le'Veon Bell        2\n",
       "2      Antonio Brown        3\n",
       "3    Ezekiel Elliott        4\n",
       "4  Odell Beckham Jr.        5"
      ]
     },
     "execution_count": 252,
     "metadata": {},
     "output_type": "execute_result"
    }
   ],
   "source": [
    "df2['ranking'] = [int(x)+1 for x in df2.index]\n",
    "df2.head()"
   ]
  },
  {
   "cell_type": "markdown",
   "metadata": {},
   "source": [
    "16.Okay, we are ready to merge these two dataframes. We'll use \"inner\" to denote that we only want to consider players that are in BOTH dataframes and we'll use \"on=player\" to denote that we want to merge the dataframes based on the player column."
   ]
  },
  {
   "cell_type": "code",
   "execution_count": 256,
   "metadata": {},
   "outputs": [
    {
     "data": {
      "text/html": [
       "<div>\n",
       "<table border=\"1\" class=\"dataframe\">\n",
       "  <thead>\n",
       "    <tr style=\"text-align: right;\">\n",
       "      <th></th>\n",
       "      <th>2017_points</th>\n",
       "      <th>player</th>\n",
       "      <th>positions</th>\n",
       "      <th>teams</th>\n",
       "      <th>ranking</th>\n",
       "    </tr>\n",
       "  </thead>\n",
       "  <tbody>\n",
       "    <tr>\n",
       "      <th>0</th>\n",
       "      <td>399</td>\n",
       "      <td>Russell Wilson</td>\n",
       "      <td>QB</td>\n",
       "      <td>SEA</td>\n",
       "      <td>79</td>\n",
       "    </tr>\n",
       "    <tr>\n",
       "      <th>1</th>\n",
       "      <td>349</td>\n",
       "      <td>Tom Brady</td>\n",
       "      <td>QB</td>\n",
       "      <td>NE</td>\n",
       "      <td>44</td>\n",
       "    </tr>\n",
       "    <tr>\n",
       "      <th>2</th>\n",
       "      <td>335</td>\n",
       "      <td>Carson Wentz</td>\n",
       "      <td>QB</td>\n",
       "      <td>PHI</td>\n",
       "      <td>163</td>\n",
       "    </tr>\n",
       "    <tr>\n",
       "      <th>3</th>\n",
       "      <td>330</td>\n",
       "      <td>Cam Newton</td>\n",
       "      <td>QB</td>\n",
       "      <td>CAR</td>\n",
       "      <td>90</td>\n",
       "    </tr>\n",
       "    <tr>\n",
       "      <th>4</th>\n",
       "      <td>319</td>\n",
       "      <td>Matthew Stafford</td>\n",
       "      <td>QB</td>\n",
       "      <td>DET</td>\n",
       "      <td>119</td>\n",
       "    </tr>\n",
       "  </tbody>\n",
       "</table>\n",
       "</div>"
      ],
      "text/plain": [
       "  2017_points            player positions teams  ranking\n",
       "0         399    Russell Wilson        QB   SEA       79\n",
       "1         349         Tom Brady        QB    NE       44\n",
       "2         335      Carson Wentz        QB   PHI      163\n",
       "3         330        Cam Newton        QB   CAR       90\n",
       "4         319  Matthew Stafford        QB   DET      119"
      ]
     },
     "execution_count": 256,
     "metadata": {},
     "output_type": "execute_result"
    }
   ],
   "source": [
    "#insert 16\n",
    "results = pd.merge(df1, df2, how='inner', on = ['player'])\n",
    "results.head()"
   ]
  },
  {
   "cell_type": "markdown",
   "metadata": {},
   "source": [
    "17.Drop any rows that have any missing values. There might not be, but perform this operation just in case."
   ]
  },
  {
   "cell_type": "code",
   "execution_count": 257,
   "metadata": {
    "collapsed": true
   },
   "outputs": [],
   "source": [
    "#insert 17\n",
    "results = results.dropna(how = 'any')"
   ]
  },
  {
   "cell_type": "markdown",
   "metadata": {},
   "source": [
    "18.View all of the column data types using one command."
   ]
  },
  {
   "cell_type": "code",
   "execution_count": 258,
   "metadata": {},
   "outputs": [
    {
     "name": "stdout",
     "output_type": "stream",
     "text": [
      "<class 'pandas.core.frame.DataFrame'>\n",
      "Int64Index: 124 entries, 0 to 123\n",
      "Data columns (total 5 columns):\n",
      "2017_points    124 non-null object\n",
      "player         124 non-null object\n",
      "positions      124 non-null object\n",
      "teams          124 non-null object\n",
      "ranking        124 non-null int64\n",
      "dtypes: int64(1), object(4)\n",
      "memory usage: 5.8+ KB\n"
     ]
    }
   ],
   "source": [
    "#insert 18\n",
    "results.info()"
   ]
  },
  {
   "cell_type": "markdown",
   "metadata": {},
   "source": [
    "19.Change the data type of 2017_points to a float."
   ]
  },
  {
   "cell_type": "code",
   "execution_count": 259,
   "metadata": {},
   "outputs": [],
   "source": [
    "#insert 19\n",
    "results['2017_points'] = results['2017_points'].astype(float)"
   ]
  },
  {
   "cell_type": "markdown",
   "metadata": {},
   "source": [
    "20.Plot ESPN ranking on the x-axis versus 2017 points scored on the y-axis. Label your axes."
   ]
  },
  {
   "cell_type": "code",
   "execution_count": 260,
   "metadata": {},
   "outputs": [
    {
     "data": {
      "text/plain": [
       "<matplotlib.text.Text at 0x1183b3828>"
      ]
     },
     "execution_count": 260,
     "metadata": {},
     "output_type": "execute_result"
    },
    {
     "data": {
      "image/png": "[encoded data removed]",
      "text/plain": [
       "<matplotlib.figure.Figure at 0x11839e160>"
      ]
     },
     "metadata": {},
     "output_type": "display_data"
    }
   ],
   "source": [
    "#insert 20\n",
    "plt.plot(results['ranking'], results['2017_points'], '.')\n",
    "plt.xlabel('espn ranking')\n",
    "plt.ylabel('fantasy points')"
   ]
  },
  {
   "cell_type": "markdown",
   "metadata": {},
   "source": [
    "21.Is there a downward trend? Why does this make sense?"
   ]
  },
  {
   "cell_type": "code",
   "execution_count": 355,
   "metadata": {
    "collapsed": true
   },
   "outputs": [],
   "source": [
    "#insert 21\n",
    "#because a ranking of 1 corresponds to the most projected points"
   ]
  },
  {
   "cell_type": "markdown",
   "metadata": {},
   "source": [
    "22.Go back to the Unit 4 Assignment to remind yourself how to superimpose the line of best fit on the graph above. Do so below."
   ]
  },
  {
   "cell_type": "code",
   "execution_count": 261,
   "metadata": {},
   "outputs": [
    {
     "data": {
      "text/plain": [
       "[<matplotlib.lines.Line2D at 0x1158e8b00>,\n",
       " <matplotlib.lines.Line2D at 0x1158e8cc0>]"
      ]
     },
     "execution_count": 261,
     "metadata": {},
     "output_type": "execute_result"
    },
    {
     "data": {
      "image/png": "[encoded data removed]",
      "text/plain": [
       "<matplotlib.figure.Figure at 0x113e1f0f0>"
      ]
     },
     "metadata": {},
     "output_type": "display_data"
    }
   ],
   "source": [
    "#insert 22\n",
    "x = results['ranking']\n",
    "y = results['2017_points']\n",
    "fit = np.polyfit(x, y,1)\n",
    "fit_fn = np.poly1d(fit) \n",
    "plt.plot(x, y,'.', x, fit_fn(x))"
   ]
  },
  {
   "cell_type": "markdown",
   "metadata": {},
   "source": [
    "23.Print the slope and intercept of the line. "
   ]
  },
  {
   "cell_type": "code",
   "execution_count": 262,
   "metadata": {},
   "outputs": [
    {
     "name": "stdout",
     "output_type": "stream",
     "text": [
      "-0.380333222194 219.224723957\n"
     ]
    }
   ],
   "source": [
    "#insert 23\n",
    "m, b = np.polyfit(x,y,1)\n",
    "print(m,b)"
   ]
  },
  {
   "cell_type": "markdown",
   "metadata": {},
   "source": [
    "24.Create another column in the results dataframe called \"predicted points\" that lists the predicted points from the line of best fit for each player. Note: you can do this in one line. Don't use a loop."
   ]
  },
  {
   "cell_type": "code",
   "execution_count": 263,
   "metadata": {
    "collapsed": true
   },
   "outputs": [],
   "source": [
    "#insert 24\n",
    "results['predicted points'] = fit_fn(results['ranking'])"
   ]
  },
  {
   "cell_type": "markdown",
   "metadata": {},
   "source": [
    "25.Create another column called \"residual\" that lists the difference between the actual 2017 points and the predicted ESPN points."
   ]
  },
  {
   "cell_type": "code",
   "execution_count": 264,
   "metadata": {},
   "outputs": [],
   "source": [
    "#insert 25\n",
    "results['residual'] = results['2017_points'] - results['predicted points']"
   ]
  },
  {
   "cell_type": "markdown",
   "metadata": {},
   "source": [
    "26.Sort the dataframe by predicted points from lowest to highest to see the most overrated players."
   ]
  },
  {
   "cell_type": "code",
   "execution_count": 265,
   "metadata": {},
   "outputs": [
    {
     "data": {
      "text/html": [
       "<div>\n",
       "<table border=\"1\" class=\"dataframe\">\n",
       "  <thead>\n",
       "    <tr style=\"text-align: right;\">\n",
       "      <th></th>\n",
       "      <th>2017_points</th>\n",
       "      <th>player</th>\n",
       "      <th>positions</th>\n",
       "      <th>teams</th>\n",
       "      <th>ranking</th>\n",
       "      <th>predicted points</th>\n",
       "      <th>residual</th>\n",
       "    </tr>\n",
       "  </thead>\n",
       "  <tbody>\n",
       "    <tr>\n",
       "      <th>111</th>\n",
       "      <td>57.0</td>\n",
       "      <td>Jordan Reed</td>\n",
       "      <td>TE</td>\n",
       "      <td>WAS</td>\n",
       "      <td>40</td>\n",
       "      <td>204.011395</td>\n",
       "      <td>-147.011395</td>\n",
       "    </tr>\n",
       "    <tr>\n",
       "      <th>123</th>\n",
       "      <td>26.0</td>\n",
       "      <td>Cairo Santos</td>\n",
       "      <td>K</td>\n",
       "      <td>NYJ</td>\n",
       "      <td>173</td>\n",
       "      <td>153.427077</td>\n",
       "      <td>-127.427077</td>\n",
       "    </tr>\n",
       "    <tr>\n",
       "      <th>112</th>\n",
       "      <td>54.0</td>\n",
       "      <td>Martellus Bennett</td>\n",
       "      <td>TE</td>\n",
       "      <td>NE</td>\n",
       "      <td>124</td>\n",
       "      <td>172.063404</td>\n",
       "      <td>-118.063404</td>\n",
       "    </tr>\n",
       "    <tr>\n",
       "      <th>122</th>\n",
       "      <td>60.0</td>\n",
       "      <td>Dustin Hopkins</td>\n",
       "      <td>K</td>\n",
       "      <td>WAS</td>\n",
       "      <td>161</td>\n",
       "      <td>157.991075</td>\n",
       "      <td>-97.991075</td>\n",
       "    </tr>\n",
       "    <tr>\n",
       "      <th>48</th>\n",
       "      <td>124.0</td>\n",
       "      <td>Jay Ajayi</td>\n",
       "      <td>RB</td>\n",
       "      <td>PHI</td>\n",
       "      <td>18</td>\n",
       "      <td>212.378726</td>\n",
       "      <td>-88.378726</td>\n",
       "    </tr>\n",
       "  </tbody>\n",
       "</table>\n",
       "</div>"
      ],
      "text/plain": [
       "     2017_points             player positions teams  ranking  \\\n",
       "111         57.0        Jordan Reed        TE   WAS       40   \n",
       "123         26.0       Cairo Santos         K   NYJ      173   \n",
       "112         54.0  Martellus Bennett        TE    NE      124   \n",
       "122         60.0     Dustin Hopkins         K   WAS      161   \n",
       "48         124.0          Jay Ajayi        RB   PHI       18   \n",
       "\n",
       "     predicted points    residual  \n",
       "111        204.011395 -147.011395  \n",
       "123        153.427077 -127.427077  \n",
       "112        172.063404 -118.063404  \n",
       "122        157.991075  -97.991075  \n",
       "48         212.378726  -88.378726  "
      ]
     },
     "execution_count": 265,
     "metadata": {},
     "output_type": "execute_result"
    }
   ],
   "source": [
    "#insert 26\n",
    "results.sort_values(by = 'residual', ascending = True).head()"
   ]
  },
  {
   "cell_type": "markdown",
   "metadata": {},
   "source": [
    "27.R-squared is a measure of how well your model fits your data. Use the function below to calculate R-squared."
   ]
  },
  {
   "cell_type": "code",
   "execution_count": 266,
   "metadata": {},
   "outputs": [
    {
     "data": {
      "text/plain": [
       "0.09873794946267796"
      ]
     },
     "execution_count": 266,
     "metadata": {},
     "output_type": "execute_result"
    }
   ],
   "source": [
    "#insert 27\n",
    "def rsquared(x, y, y_predicted):                   \n",
    "    ybar = np.sum(y)/len(y)          \n",
    "    ssreg = np.sum((y_predicted-ybar)**2)  \n",
    "    sstot = np.sum((y - ybar)**2)  \n",
    "    return ssreg / sstot\n",
    "\n",
    "rsquared(results['ranking'], \n",
    "         results['2017_points'], \n",
    "         results['predicted points'])"
   ]
  },
  {
   "cell_type": "markdown",
   "metadata": {},
   "source": [
    "28.That R-Squared was very low. Let's try to do better.\n",
    "\n",
    "Up until now, you've only been able to create predictive models with numerical variables (e.g. rankings, points, etc.) However, we can also create regression models using categorical variables (such as football position!) Very exciting. \n",
    "\n",
    "In addition, up until now, you have probably only calculated a linear regression line when you have a single input variable. Today, we'll use multiple linear regression (where the input will be a matrix instead of a single vector).\n",
    "\n",
    "Our goal will be to use ESPN rankings (numerical) AND player position (categorical) to predict their fantasy points.\n",
    "\n",
    "Step 1: Create a new dataframe from the results dataframe called onehot that includes just the positions and ranking columns. (I'll explain why it's called onehot in a minute)."
   ]
  },
  {
   "cell_type": "code",
   "execution_count": 267,
   "metadata": {},
   "outputs": [
    {
     "data": {
      "text/html": [
       "<div>\n",
       "<table border=\"1\" class=\"dataframe\">\n",
       "  <thead>\n",
       "    <tr style=\"text-align: right;\">\n",
       "      <th></th>\n",
       "      <th>ranking</th>\n",
       "      <th>positions</th>\n",
       "    </tr>\n",
       "  </thead>\n",
       "  <tbody>\n",
       "    <tr>\n",
       "      <th>0</th>\n",
       "      <td>79</td>\n",
       "      <td>QB</td>\n",
       "    </tr>\n",
       "    <tr>\n",
       "      <th>1</th>\n",
       "      <td>44</td>\n",
       "      <td>QB</td>\n",
       "    </tr>\n",
       "    <tr>\n",
       "      <th>2</th>\n",
       "      <td>163</td>\n",
       "      <td>QB</td>\n",
       "    </tr>\n",
       "    <tr>\n",
       "      <th>3</th>\n",
       "      <td>90</td>\n",
       "      <td>QB</td>\n",
       "    </tr>\n",
       "    <tr>\n",
       "      <th>4</th>\n",
       "      <td>119</td>\n",
       "      <td>QB</td>\n",
       "    </tr>\n",
       "  </tbody>\n",
       "</table>\n",
       "</div>"
      ],
      "text/plain": [
       "   ranking positions\n",
       "0       79        QB\n",
       "1       44        QB\n",
       "2      163        QB\n",
       "3       90        QB\n",
       "4      119        QB"
      ]
     },
     "execution_count": 267,
     "metadata": {},
     "output_type": "execute_result"
    }
   ],
   "source": [
    "onehot = results[['ranking','positions']]\n",
    "onehot.head()"
   ]
  },
  {
   "cell_type": "markdown",
   "metadata": {},
   "source": [
    "29.Now, a major step towards performing regression when there are categorical variables involved is first creating a matrix (called a one-hot matrix) where each position corresponds to a different column in the matrix. For example, if a player is a QB, he'll have a 1 in the QB column and a 0 in all of the others. \n",
    "\n",
    "We can do this using a package called patsy. First download it by typing into your terminal:\n",
    "\n",
    "pip install --upgrade patsy\n",
    "\n",
    "Then run the following code."
   ]
  },
  {
   "cell_type": "code",
   "execution_count": 268,
   "metadata": {},
   "outputs": [
    {
     "name": "stderr",
     "output_type": "stream",
     "text": [
      "/Users/shareshianl/anaconda/lib/python3.6/site-packages/ipykernel/__main__.py:3: SettingWithCopyWarning: \n",
      "A value is trying to be set on a copy of a slice from a DataFrame\n",
      "\n",
      "See the caveats in the documentation: http://pandas.pydata.org/pandas-docs/stable/indexing.html#indexing-view-versus-copy\n",
      "  app.launch_new_instance()\n"
     ]
    },
    {
     "data": {
      "text/html": [
       "<div>\n",
       "<table border=\"1\" class=\"dataframe\">\n",
       "  <thead>\n",
       "    <tr style=\"text-align: right;\">\n",
       "      <th></th>\n",
       "      <th>ranking</th>\n",
       "      <th>Intercept</th>\n",
       "      <th>positions[T.QB]</th>\n",
       "      <th>positions[T.RB]</th>\n",
       "      <th>positions[T.TE]</th>\n",
       "      <th>positions[T.WR]</th>\n",
       "    </tr>\n",
       "  </thead>\n",
       "  <tbody>\n",
       "    <tr>\n",
       "      <th>0</th>\n",
       "      <td>79</td>\n",
       "      <td>1.0</td>\n",
       "      <td>1.0</td>\n",
       "      <td>0.0</td>\n",
       "      <td>0.0</td>\n",
       "      <td>0.0</td>\n",
       "    </tr>\n",
       "    <tr>\n",
       "      <th>1</th>\n",
       "      <td>44</td>\n",
       "      <td>1.0</td>\n",
       "      <td>1.0</td>\n",
       "      <td>0.0</td>\n",
       "      <td>0.0</td>\n",
       "      <td>0.0</td>\n",
       "    </tr>\n",
       "    <tr>\n",
       "      <th>2</th>\n",
       "      <td>163</td>\n",
       "      <td>1.0</td>\n",
       "      <td>1.0</td>\n",
       "      <td>0.0</td>\n",
       "      <td>0.0</td>\n",
       "      <td>0.0</td>\n",
       "    </tr>\n",
       "    <tr>\n",
       "      <th>3</th>\n",
       "      <td>90</td>\n",
       "      <td>1.0</td>\n",
       "      <td>1.0</td>\n",
       "      <td>0.0</td>\n",
       "      <td>0.0</td>\n",
       "      <td>0.0</td>\n",
       "    </tr>\n",
       "    <tr>\n",
       "      <th>4</th>\n",
       "      <td>119</td>\n",
       "      <td>1.0</td>\n",
       "      <td>1.0</td>\n",
       "      <td>0.0</td>\n",
       "      <td>0.0</td>\n",
       "      <td>0.0</td>\n",
       "    </tr>\n",
       "  </tbody>\n",
       "</table>\n",
       "</div>"
      ],
      "text/plain": [
       "   ranking  Intercept  positions[T.QB]  positions[T.RB]  positions[T.TE]  \\\n",
       "0       79        1.0              1.0              0.0              0.0   \n",
       "1       44        1.0              1.0              0.0              0.0   \n",
       "2      163        1.0              1.0              0.0              0.0   \n",
       "3       90        1.0              1.0              0.0              0.0   \n",
       "4      119        1.0              1.0              0.0              0.0   \n",
       "\n",
       "   positions[T.WR]  \n",
       "0              0.0  \n",
       "1              0.0  \n",
       "2              0.0  \n",
       "3              0.0  \n",
       "4              0.0  "
      ]
     },
     "execution_count": 268,
     "metadata": {},
     "output_type": "execute_result"
    }
   ],
   "source": [
    "import patsy\n",
    "positions = patsy.dmatrix('positions',data=onehot,return_type='dataframe')\n",
    "onehot.drop(['positions'], axis=1, inplace=True)\n",
    "onehot = onehot.join(positions)\n",
    "onehot.head()"
   ]
  },
  {
   "cell_type": "markdown",
   "metadata": {},
   "source": [
    "30.Okay. Our input is going to be this matrix and our output is going to be the 2017 points. We'll need to download the scikit-learn package in order to use the the multiple linear regression model. scikit-learn is the most popular package for maching learning algorithms using Python. So exciting!!!\n",
    "\n",
    "Type this into your terminal:\n",
    "\n",
    "pip install -U scikit-learn\n",
    "\n",
    "Then, run the following code."
   ]
  },
  {
   "cell_type": "code",
   "execution_count": 194,
   "metadata": {},
   "outputs": [
    {
     "name": "stdout",
     "output_type": "stream",
     "text": [
      "R-squared 0.458742005643\n"
     ]
    },
    {
     "name": "stderr",
     "output_type": "stream",
     "text": [
      "/Users/shareshianl/anaconda/lib/python3.6/site-packages/scipy/linalg/basic.py:1018: RuntimeWarning: internal gelsd driver lwork query error, required iwork dimension not returned. This is likely the result of LAPACK bug 0038, fixed in LAPACK 3.2.2 (released July 21, 2010). Falling back to 'gelss' driver.\n",
      "  warnings.warn(mesg, RuntimeWarning)\n"
     ]
    }
   ],
   "source": [
    "from sklearn.linear_model import LinearRegression\n",
    "\n",
    "X = onehot\n",
    "y = results['2017_points']\n",
    "\n",
    "clf = LinearRegression()\n",
    "clf.fit(X, y)\n",
    "clf.predict(X)\n",
    "print('R-squared', clf.score(X,y))"
   ]
  },
  {
   "cell_type": "markdown",
   "metadata": {},
   "source": [
    "31.Wow! Our R-squared increased four-fold when we incorporated the player position into our input. Let's visualize what is going on with this multiple linear regression by creating the following plot below:"
   ]
  },
  {
   "cell_type": "code",
   "execution_count": 195,
   "metadata": {},
   "outputs": [
    {
     "data": {
      "text/plain": [
       "<matplotlib.legend.Legend at 0x11634fa20>"
      ]
     },
     "execution_count": 195,
     "metadata": {},
     "output_type": "execute_result"
    },
    {
     "data": {
      "image/png": "[encoded data removed]",
      "text/plain": [
       "<matplotlib.figure.Figure at 0x1151e0e10>"
      ]
     },
     "metadata": {},
     "output_type": "display_data"
    }
   ],
   "source": [
    "#Let's break things down by position:\n",
    "quarterbacks = results[results['positions'] == 'QB']\n",
    "runningbacks = results[results['positions'] == 'RB']\n",
    "receivers = results[results['positions'] == 'WR']\n",
    "tightends = results[results['positions'] == 'TE']\n",
    "kickers = results[results['positions'] == 'K']\n",
    "\n",
    "fig, ax = plt.subplots(figsize=(7,7))\n",
    "\n",
    "ax.scatter(quarterbacks.ranking, quarterbacks['2017_points'],  color='blue', label='qb')\n",
    "ax.scatter(runningbacks.ranking, runningbacks['2017_points'],  color='red', label='rb')\n",
    "ax.scatter(receivers.ranking, receivers['2017_points'],  color='yellow', label = 'wr')\n",
    "ax.scatter(tightends.ranking, tightends['2017_points'],  color='green', label = 'te')\n",
    "ax.scatter(kickers.ranking, kickers['2017_points'],  color='purple', label = 'k')\n",
    "ax.plot(X.ranking, clf.predict(X), 'k.', label = 'predictions')\n",
    "ax.set_xlabel('ESPN projected pre-season player ranking 2017')\n",
    "ax.set_ylabel('Total ESPN Fantasy Points that player scored in 2017')\n",
    "ax.set_title('Position matters!')\n",
    "ax.legend(loc='best')"
   ]
  },
  {
   "cell_type": "markdown",
   "metadata": {},
   "source": [
    "32.Explain in your own words why your multiple linear regression model is plotting the black dots in the manner that you see above."
   ]
  },
  {
   "cell_type": "code",
   "execution_count": null,
   "metadata": {
    "collapsed": true
   },
   "outputs": [],
   "source": [
    "#different linear lines for different positions"
   ]
  },
  {
   "cell_type": "markdown",
   "metadata": {},
   "source": [
    "Note: You've just explored the very beginnings of using Python to perform machine learning! Machine learning is a pretty ill defined term, but according to Wikipedia, \"Machine learning explores the construction and study of algorithms that can learn from and make predictions on data.\" \n",
    "\n",
    "You have just learned the multiple linear regression sci-kit learn method. There are many MUCH better methods (RidgeCV, GradientBoostingRegressor, etc.)\n",
    "\n",
    "There are also better measures for how well a model does. (The adjusted R-squared measure is MUCH better than the R-squared measure.)\n",
    "\n",
    "In addition, we just committed the cardinal sin of data science in the above example, which is to use our entire dataset to train our model. In practice, we should have used just a subset of the player data to train our model (i.e., to calculate the line of best fit) and then we should have calculated how well our model did at predicting the test set values (the players that we didn't include in our training model).\n",
    "\n",
    "To learn more, this is a great first tutorial on how to use sci-kit learn for machine learning:\n",
    "\n",
    "https://www.datacamp.com/community/tutorials/machine-learning-python\n",
    "\n",
    "More docs are here:\n",
    "\n",
    "http://scikit-learn.org/stable/tutorial/basic/tutorial.html\n",
    "\n",
    "And Andrew Ng's online Machine Learning course is famous:\n",
    "\n",
    "https://www.coursera.org/learn/machine-learning\n",
    "\n",
    "\n"
   ]
  },
  {
   "cell_type": "code",
   "execution_count": 271,
   "metadata": {},
   "outputs": [
    {
     "name": "stdout",
     "output_type": "stream",
     "text": [
      "Cam Newton\n",
      "Cameron Brate\n"
     ]
    }
   ],
   "source": [
    "results2 = pd.merge(df1, df2, how='outer', on = ['player'])\n",
    "for player in results2['player']:\n",
    "    if 'Cam' in player:\n",
    "        print(player)"
   ]
  },
  {
   "cell_type": "code",
   "execution_count": null,
   "metadata": {
    "collapsed": true
   },
   "outputs": [],
   "source": []
  }
 ],
 "metadata": {
  "kernelspec": {
   "display_name": "Python 3",
   "language": "python",
   "name": "python3"
  },
  "language_info": {
   "codemirror_mode": {
    "name": "ipython",
    "version": 3
   },
   "file_extension": ".py",
   "mimetype": "text/x-python",
   "name": "python",
   "nbconvert_exporter": "python",
   "pygments_lexer": "ipython3",
   "version": "3.6.0"
  }
 },
 "nbformat": 4,
 "nbformat_minor": 2
}
