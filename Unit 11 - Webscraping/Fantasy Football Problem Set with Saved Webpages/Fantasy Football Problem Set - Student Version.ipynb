{
 "cells": [
  {
   "cell_type": "markdown",
   "metadata": {},
   "source": [
    "In this lesson, you will investigate how well ESPN does at predicting NFL fantasy football player performance. First, import these modules."
   ]
  },
  {
   "cell_type": "code",
   "execution_count": 139,
   "metadata": {
    "collapsed": true
   },
   "outputs": [],
   "source": [
    "import numpy as np\n",
    "import pandas as pd\n",
    "import matplotlib.pyplot as plt\n",
    "%matplotlib inline"
   ]
  },
  {
   "cell_type": "markdown",
   "metadata": {},
   "source": [
    "1.) We are interested in how well ESPN does at predicting how well a player will do in fantasy football. \n",
    "\n",
    "The ESPN website from 2017 listed how many fantasy points each player had ACTUALLY scored by the end of the season. The website used to be here:\n",
    "\n",
    "http://games.espn.com/ffl/leaders\n",
    "\n",
    "and every tab had the pattern http://games.espn.com/ffl/leaders?startIndex=0, http://games.espn.com/ffl/leaders?startIndex=50, ..., http://games.espn.com/ffl/leaders?startIndex=850 , where each page contained 50 more players' info. \n",
    "\n",
    "We have saved these webpages locally, and they are called \"fftrankings0.htm\", \"fftrankings50.htm\", ..., \"fftrankings850.htm\". \n",
    "\n",
    "Create a list called \"urls\" containing each of the these fftrankings file names."
   ]
  },
  {
   "cell_type": "code",
   "execution_count": 160,
   "metadata": {
    "collapsed": true
   },
   "outputs": [],
   "source": [
    "#insert 1"
   ]
  },
  {
   "cell_type": "markdown",
   "metadata": {},
   "source": [
    "2.We can go to the first url and use pd.read_html to read in the info. \"pd.read_html\" is an awesome command when it works! It reads tables directly off of websites and saves them to a pandas dataframe. We'll save the dataframe with the name \"df\". \n",
    "\n",
    "Notice, though, that for some reason reading from the local file creates a lot of duplicates. The page is a bit buggy when it is saved locally, therefore, once you are done reading in the file, delete all of the duplicates. Google \"pandas remove duplicates\" to see how to do this in one line."
   ]
  },
  {
   "cell_type": "code",
   "execution_count": 1,
   "metadata": {
    "collapsed": true
   },
   "outputs": [],
   "source": [
    "#insert 2"
   ]
  },
  {
   "cell_type": "markdown",
   "metadata": {},
   "source": [
    "3.There are many columns. Let's only save the player name and points columns. Let's also drop the first three rows which are headers and not player names. Rename the columns \"player\" and \"2017 points.\""
   ]
  },
  {
   "cell_type": "code",
   "execution_count": 2,
   "metadata": {
    "collapsed": true
   },
   "outputs": [],
   "source": [
    "#insert 3"
   ]
  },
  {
   "cell_type": "markdown",
   "metadata": {},
   "source": [
    "4.Okay. Now we are going to loop through and add the dataframes you get from visiting the other urls to the bottom of the dataframe you got from the first url. You can do this by using the following command within the for loop:\n",
    "\n",
    "table = pd.concat([table, new_table])\n",
    "\n",
    "Each time through the for loop you should:\n",
    "\n",
    "Be sure to drop the first three rows from the new table that you read in each time before you add them to the old table (since they don't contain player names). Also, remove the duplicates. Then, only save the player name and points columns and rename those columns \"player\" and \"2017 points.\" Finally, concatenate the old table with the new each time. \n",
    "\n",
    "Your final dataframe should have 1008 rows."
   ]
  },
  {
   "cell_type": "code",
   "execution_count": 3,
   "metadata": {
    "collapsed": true
   },
   "outputs": [],
   "source": [
    "#insert 4"
   ]
  },
  {
   "cell_type": "markdown",
   "metadata": {},
   "source": [
    "5.Drop rows that are missing ANY entries. Then, reset the index. Your final dataframe should have 890 rows."
   ]
  },
  {
   "cell_type": "code",
   "execution_count": 4,
   "metadata": {
    "collapsed": true
   },
   "outputs": [],
   "source": [
    "#insert 5"
   ]
  },
  {
   "cell_type": "markdown",
   "metadata": {},
   "source": [
    "6.Notice that the player names contain the name, team, and position. We will want to break this up. First, create a list called playernames that just contains the player names and teams (we need the team, too, because there are common names like David Johnson that play on two different teams). For example, \"Todd Gurley II, LAR\" should be a player name in your playernames list."
   ]
  },
  {
   "cell_type": "code",
   "execution_count": 5,
   "metadata": {
    "collapsed": true
   },
   "outputs": [],
   "source": [
    "#insert 6"
   ]
  },
  {
   "cell_type": "markdown",
   "metadata": {},
   "source": [
    "7.We'll create a list called positions that contains just the player positions. We'll do this by splitting the phrase by spaces and saving the very last item in each phrase. In a few cases, if the name ends in something other than position (like 'Q' for questionable of 'SSPD' for suspended), we'll take the second to last item:"
   ]
  },
  {
   "cell_type": "code",
   "execution_count": 6,
   "metadata": {
    "collapsed": true
   },
   "outputs": [],
   "source": [
    "#insert 7"
   ]
  },
  {
   "cell_type": "markdown",
   "metadata": {},
   "source": [
    "8.Create a new data frame called \"df1\" where the player name called \"player\" is in the first column, the player position is in the second column, and the 2017 points is in the third column. For example, \"Todd Gurley II, LAR\t     RB\t        383.3\" should be a row in your dataframe."
   ]
  },
  {
   "cell_type": "code",
   "execution_count": 7,
   "metadata": {
    "collapsed": true
   },
   "outputs": [],
   "source": [
    "#insert 8"
   ]
  },
  {
   "cell_type": "markdown",
   "metadata": {},
   "source": [
    "9.Now go to this website to see what ESPN projected the player rankings to be BEFORE the season had started:\n",
    "\n",
    "http://www.espn.com/fantasy/football/story/_/page/17RanksPreseason200PPR/2017-fantasy-football-ppr-rankings-top-200\n",
    "\n",
    "We have also stored this locally as \"fftprojections.htm\". Use pd.read_html to read the data in from fftprojections.htm."
   ]
  },
  {
   "cell_type": "code",
   "execution_count": 8,
   "metadata": {
    "collapsed": true
   },
   "outputs": [],
   "source": [
    "#insert 9"
   ]
  },
  {
   "cell_type": "markdown",
   "metadata": {},
   "source": [
    "10.Save just the Player/Position/Team column to a dataframe called \"df2\". Rename the column \"player\". For example, \"1. David Johnson, RB, ARI\" should be contained in the dataframe."
   ]
  },
  {
   "cell_type": "code",
   "execution_count": 9,
   "metadata": {
    "collapsed": true
   },
   "outputs": [],
   "source": [
    "#insert 10"
   ]
  },
  {
   "cell_type": "markdown",
   "metadata": {},
   "source": [
    "11.We want to merge these two data frames. In order to do this, we need the player names to match up exactly. Update the \"df2\" data frame above to include only the player names and teams. For example, \"David Johnson, ARI\" should be in the dataframe."
   ]
  },
  {
   "cell_type": "code",
   "execution_count": 10,
   "metadata": {
    "collapsed": true
   },
   "outputs": [],
   "source": [
    "#insert 11"
   ]
  },
  {
   "cell_type": "markdown",
   "metadata": {},
   "source": [
    "12.We'll want to create another column for what ESPN projected their ranking to be. Luckily, since they are in order, an index of 0 correponds to a ranking of 1, an index of 1 corresponds to a ranking of 2, etc. We can use the index and a list comprehension to create a ranking column:"
   ]
  },
  {
   "cell_type": "code",
   "execution_count": 179,
   "metadata": {},
   "outputs": [
    {
     "data": {
      "text/html": [
       "<div>\n",
       "<style scoped>\n",
       "    .dataframe tbody tr th:only-of-type {\n",
       "        vertical-align: middle;\n",
       "    }\n",
       "\n",
       "    .dataframe tbody tr th {\n",
       "        vertical-align: top;\n",
       "    }\n",
       "\n",
       "    .dataframe thead th {\n",
       "        text-align: right;\n",
       "    }\n",
       "</style>\n",
       "<table border=\"1\" class=\"dataframe\">\n",
       "  <thead>\n",
       "    <tr style=\"text-align: right;\">\n",
       "      <th></th>\n",
       "      <th>player</th>\n",
       "      <th>ranking</th>\n",
       "    </tr>\n",
       "  </thead>\n",
       "  <tbody>\n",
       "    <tr>\n",
       "      <th>0</th>\n",
       "      <td>David Johnson, ARI</td>\n",
       "      <td>1</td>\n",
       "    </tr>\n",
       "    <tr>\n",
       "      <th>1</th>\n",
       "      <td>Le'Veon Bell, PIT</td>\n",
       "      <td>2</td>\n",
       "    </tr>\n",
       "    <tr>\n",
       "      <th>2</th>\n",
       "      <td>Antonio Brown, PIT</td>\n",
       "      <td>3</td>\n",
       "    </tr>\n",
       "    <tr>\n",
       "      <th>3</th>\n",
       "      <td>Ezekiel Elliott, DAL</td>\n",
       "      <td>4</td>\n",
       "    </tr>\n",
       "    <tr>\n",
       "      <th>4</th>\n",
       "      <td>Odell Beckham Jr., NYG</td>\n",
       "      <td>5</td>\n",
       "    </tr>\n",
       "  </tbody>\n",
       "</table>\n",
       "</div>"
      ],
      "text/plain": [
       "                   player  ranking\n",
       "0      David Johnson, ARI        1\n",
       "1       Le'Veon Bell, PIT        2\n",
       "2      Antonio Brown, PIT        3\n",
       "3    Ezekiel Elliott, DAL        4\n",
       "4  Odell Beckham Jr., NYG        5"
      ]
     },
     "execution_count": 179,
     "metadata": {},
     "output_type": "execute_result"
    }
   ],
   "source": [
    "df2['ranking'] = [int(x)+1 for x in df2.index]\n",
    "df2.head()"
   ]
  },
  {
   "cell_type": "markdown",
   "metadata": {},
   "source": [
    "13.Okay, we are ready to merge these two dataframes. We'll use \"inner\" to denote that we only want to consider players that are in BOTH dataframes and we'll use \"on=player\" to denote that we want to merge the dataframes based on the player column. Google \"pandas merge\" to learn the exact syntax."
   ]
  },
  {
   "cell_type": "code",
   "execution_count": 11,
   "metadata": {
    "collapsed": true
   },
   "outputs": [],
   "source": [
    "#insert 13"
   ]
  },
  {
   "cell_type": "markdown",
   "metadata": {},
   "source": [
    "14.Drop any rows that have any missing values. There might not be, but perform this operation just in case."
   ]
  },
  {
   "cell_type": "code",
   "execution_count": 12,
   "metadata": {
    "collapsed": true
   },
   "outputs": [],
   "source": [
    "#insert 14"
   ]
  },
  {
   "cell_type": "markdown",
   "metadata": {},
   "source": [
    "15.View all of the column data types using one command."
   ]
  },
  {
   "cell_type": "code",
   "execution_count": 13,
   "metadata": {
    "collapsed": true
   },
   "outputs": [],
   "source": [
    "#insert 15"
   ]
  },
  {
   "cell_type": "markdown",
   "metadata": {},
   "source": [
    "16.Change the data type of 2017 points to a float."
   ]
  },
  {
   "cell_type": "code",
   "execution_count": 14,
   "metadata": {
    "collapsed": true
   },
   "outputs": [],
   "source": [
    "#insert 16"
   ]
  },
  {
   "cell_type": "markdown",
   "metadata": {},
   "source": [
    "17.Plot ESPN ranking on the x-axis versus 2017 points scored on the y-axis. Label your axes."
   ]
  },
  {
   "cell_type": "code",
   "execution_count": 15,
   "metadata": {
    "collapsed": true
   },
   "outputs": [],
   "source": [
    "#insert 17"
   ]
  },
  {
   "cell_type": "markdown",
   "metadata": {},
   "source": [
    "18.Is there a downward trend? Why does this make sense?"
   ]
  },
  {
   "cell_type": "code",
   "execution_count": 355,
   "metadata": {
    "collapsed": true
   },
   "outputs": [],
   "source": [
    "#insert 18 inside a hashtag comment"
   ]
  },
  {
   "cell_type": "markdown",
   "metadata": {},
   "source": [
    "19.We can create a line of best fit using np.polyfit. Go back to the unit 4 assignment if you forget how."
   ]
  },
  {
   "cell_type": "code",
   "execution_count": 16,
   "metadata": {
    "collapsed": true
   },
   "outputs": [],
   "source": [
    "#insert 19"
   ]
  },
  {
   "cell_type": "markdown",
   "metadata": {},
   "source": [
    "20.Print the slope and intercept of the line. "
   ]
  },
  {
   "cell_type": "code",
   "execution_count": 17,
   "metadata": {
    "collapsed": true
   },
   "outputs": [],
   "source": [
    "#insert 20"
   ]
  },
  {
   "cell_type": "markdown",
   "metadata": {},
   "source": [
    "21.Create another column in the results dataframe called \"predicted points\" that lists the predicted points from the line of best fit for each player. Note: you can do this in one line. Don't use a loop."
   ]
  },
  {
   "cell_type": "code",
   "execution_count": 18,
   "metadata": {
    "collapsed": true
   },
   "outputs": [],
   "source": [
    "#insert 21"
   ]
  },
  {
   "cell_type": "markdown",
   "metadata": {},
   "source": [
    "22.Create another column called \"residual\" that lists the difference between the actual 2017 points and the predicted ESPN points. You can do this in one line."
   ]
  },
  {
   "cell_type": "code",
   "execution_count": 19,
   "metadata": {
    "collapsed": true
   },
   "outputs": [],
   "source": [
    "#insert 22"
   ]
  },
  {
   "cell_type": "markdown",
   "metadata": {},
   "source": [
    "23.Sort the dataframe by residual from lowest to highest to see the most overrated players."
   ]
  },
  {
   "cell_type": "code",
   "execution_count": 20,
   "metadata": {
    "collapsed": true
   },
   "outputs": [],
   "source": [
    "#insert 23"
   ]
  },
  {
   "cell_type": "markdown",
   "metadata": {},
   "source": [
    "24.R-squared is a measure of how well your model fits your data. Use the function below to calculate R-squared."
   ]
  },
  {
   "cell_type": "code",
   "execution_count": 190,
   "metadata": {},
   "outputs": [
    {
     "data": {
      "text/plain": [
       "0.15948049574772416"
      ]
     },
     "execution_count": 190,
     "metadata": {},
     "output_type": "execute_result"
    }
   ],
   "source": [
    "def rsquared(x, y, y_predicted):                   \n",
    "    ybar = np.sum(y)/len(y)          \n",
    "    ssreg = np.sum((y_predicted-ybar)**2)  \n",
    "    sstot = np.sum((y - ybar)**2)  \n",
    "    return ssreg / sstot\n",
    "\n",
    "rsquared(results['ranking'], \n",
    "         results['2017 points'], \n",
    "         results['predicted points'])"
   ]
  },
  {
   "cell_type": "markdown",
   "metadata": {},
   "source": [
    "25.That R-Squared was pretty low. Let's try to do better.\n",
    "\n",
    "Up until now, you've only been able to create predictive models with numerical variables (e.g. rankings, points, etc.) However, we can also create regression models using categorical variables (such as football position!) Very exciting. \n",
    "\n",
    "In addition, up until now, you have probably only calculated a linear regression line when you have a single input variable. Today, we'll use multiple linear regression (where the input will be a matrix instead of a single vector).\n",
    "\n",
    "Our goal will be to use ESPN rankings (numerical) AND player position (categorical) to predict their fantasy points.\n",
    "\n",
    "Step 1: Create a new dataframe from the results dataframe called onehot that includes just the positions and ranking columns. (I'll explain why it's called onehot in a minute)."
   ]
  },
  {
   "cell_type": "code",
   "execution_count": 21,
   "metadata": {
    "collapsed": true
   },
   "outputs": [],
   "source": [
    "#insert 25"
   ]
  },
  {
   "cell_type": "markdown",
   "metadata": {},
   "source": [
    "26.Now, a major step towards performing regression when there are categorical variables involved is first creating a matrix (called a one-hot matrix) where each position corresponds to a different column in the matrix. For example, if a player is a QB, he'll have a 1 in the QB column and a 0 in all of the others. \n",
    "\n",
    "We can do this using a built-in pandas function called get_dummies.\n",
    "\n",
    "Run the following code."
   ]
  },
  {
   "cell_type": "code",
   "execution_count": 192,
   "metadata": {},
   "outputs": [
    {
     "data": {
      "text/html": [
       "<div>\n",
       "<style scoped>\n",
       "    .dataframe tbody tr th:only-of-type {\n",
       "        vertical-align: middle;\n",
       "    }\n",
       "\n",
       "    .dataframe tbody tr th {\n",
       "        vertical-align: top;\n",
       "    }\n",
       "\n",
       "    .dataframe thead th {\n",
       "        text-align: right;\n",
       "    }\n",
       "</style>\n",
       "<table border=\"1\" class=\"dataframe\">\n",
       "  <thead>\n",
       "    <tr style=\"text-align: right;\">\n",
       "      <th></th>\n",
       "      <th>ranking</th>\n",
       "      <th>Q</th>\n",
       "      <th>QB</th>\n",
       "      <th>RB</th>\n",
       "      <th>SSPD</th>\n",
       "      <th>TE</th>\n",
       "      <th>WR</th>\n",
       "    </tr>\n",
       "  </thead>\n",
       "  <tbody>\n",
       "    <tr>\n",
       "      <th>0</th>\n",
       "      <td>79</td>\n",
       "      <td>0</td>\n",
       "      <td>1</td>\n",
       "      <td>0</td>\n",
       "      <td>0</td>\n",
       "      <td>0</td>\n",
       "      <td>0</td>\n",
       "    </tr>\n",
       "    <tr>\n",
       "      <th>1</th>\n",
       "      <td>2</td>\n",
       "      <td>0</td>\n",
       "      <td>0</td>\n",
       "      <td>1</td>\n",
       "      <td>0</td>\n",
       "      <td>0</td>\n",
       "      <td>0</td>\n",
       "    </tr>\n",
       "    <tr>\n",
       "      <th>2</th>\n",
       "      <td>152</td>\n",
       "      <td>0</td>\n",
       "      <td>0</td>\n",
       "      <td>1</td>\n",
       "      <td>0</td>\n",
       "      <td>0</td>\n",
       "      <td>0</td>\n",
       "    </tr>\n",
       "    <tr>\n",
       "      <th>3</th>\n",
       "      <td>3</td>\n",
       "      <td>0</td>\n",
       "      <td>0</td>\n",
       "      <td>0</td>\n",
       "      <td>0</td>\n",
       "      <td>0</td>\n",
       "      <td>1</td>\n",
       "    </tr>\n",
       "    <tr>\n",
       "      <th>4</th>\n",
       "      <td>28</td>\n",
       "      <td>1</td>\n",
       "      <td>0</td>\n",
       "      <td>0</td>\n",
       "      <td>0</td>\n",
       "      <td>0</td>\n",
       "      <td>0</td>\n",
       "    </tr>\n",
       "  </tbody>\n",
       "</table>\n",
       "</div>"
      ],
      "text/plain": [
       "   ranking  Q  QB  RB  SSPD  TE  WR\n",
       "0       79  0   1   0     0   0   0\n",
       "1        2  0   0   1     0   0   0\n",
       "2      152  0   0   1     0   0   0\n",
       "3        3  0   0   0     0   0   1\n",
       "4       28  1   0   0     0   0   0"
      ]
     },
     "execution_count": 192,
     "metadata": {},
     "output_type": "execute_result"
    }
   ],
   "source": [
    "positions = pd.get_dummies(results['positions'])\n",
    "onehot = onehot.drop('positions', axis = 1)\n",
    "onehot = onehot.join(positions)\n",
    "onehot.head()"
   ]
  },
  {
   "cell_type": "markdown",
   "metadata": {},
   "source": [
    "27.Okay. Our input is going to be this matrix and our output is going to be the 2017 points. We'll need to have the scikit-learn package in order to use the the multiple linear regression model. scikit-learn is the most popular package for maching learning algorithms using Python. So exciting!!! \n",
    "\n",
    "Try running the cell below. If it doesn't work, try downloading the scikit-learn package by typing into your terminal this:\n",
    "\n",
    "pip install -U scikit-learn\n",
    "\n",
    "or this:\n",
    "\n",
    "conda install -c anaconda scikit-learn"
   ]
  },
  {
   "cell_type": "code",
   "execution_count": 193,
   "metadata": {},
   "outputs": [
    {
     "name": "stdout",
     "output_type": "stream",
     "text": [
      "R-squared 0.32797578096044677\n"
     ]
    },
    {
     "name": "stderr",
     "output_type": "stream",
     "text": [
      "/Users/shareshianl/anaconda/lib/python3.6/site-packages/scipy/linalg/basic.py:1018: RuntimeWarning: internal gelsd driver lwork query error, required iwork dimension not returned. This is likely the result of LAPACK bug 0038, fixed in LAPACK 3.2.2 (released July 21, 2010). Falling back to 'gelss' driver.\n",
      "  warnings.warn(mesg, RuntimeWarning)\n"
     ]
    }
   ],
   "source": [
    "from sklearn.linear_model import LinearRegression\n",
    "\n",
    "X = onehot\n",
    "y = results['2017 points']\n",
    "\n",
    "clf = LinearRegression()\n",
    "clf.fit(X, y)\n",
    "clf.predict(X)\n",
    "print('R-squared', clf.score(X,y))"
   ]
  },
  {
   "cell_type": "markdown",
   "metadata": {},
   "source": [
    "28.Wow! Our R-squared doubled when we incorporated the player position into our input. Let's visualize what is going on with this multiple linear regression by creating the following plot below:"
   ]
  },
  {
   "cell_type": "code",
   "execution_count": 194,
   "metadata": {},
   "outputs": [
    {
     "data": {
      "text/plain": [
       "<matplotlib.legend.Legend at 0x118328ba8>"
      ]
     },
     "execution_count": 194,
     "metadata": {},
     "output_type": "execute_result"
    },
    {
     "data": {
      "image/png": "[encoded data removed]",
      "text/plain": [
       "<matplotlib.figure.Figure at 0x1182a4fd0>"
      ]
     },
     "metadata": {},
     "output_type": "display_data"
    }
   ],
   "source": [
    "#Let's break things down by position:\n",
    "quarterbacks = results[results['positions'] == 'QB']\n",
    "runningbacks = results[results['positions'] == 'RB']\n",
    "receivers = results[results['positions'] == 'WR']\n",
    "tightends = results[results['positions'] == 'TE']\n",
    "\n",
    "fig, ax = plt.subplots(figsize=(7,7))\n",
    "\n",
    "ax.scatter(quarterbacks.ranking, quarterbacks['2017 points'],  color='blue', label='qb')\n",
    "ax.scatter(runningbacks.ranking, runningbacks['2017 points'],  color='red', label='rb')\n",
    "ax.scatter(receivers.ranking, receivers['2017 points'],  color='yellow', label = 'wr')\n",
    "ax.scatter(tightends.ranking, tightends['2017 points'],  color='green', label = 'te')\n",
    "\n",
    "ax.plot(X.ranking, clf.predict(X), 'k.', label = 'predictions')\n",
    "ax.set_xlabel('ESPN projected pre-season player ranking 2017')\n",
    "ax.set_ylabel('Total ESPN Fantasy Points that player scored in 2017')\n",
    "ax.set_title('Position matters!')\n",
    "ax.legend(loc='best')"
   ]
  },
  {
   "cell_type": "markdown",
   "metadata": {},
   "source": [
    "29.Explain in your own words why your multiple linear regression model is plotting the black dots in the manner that you see above."
   ]
  },
  {
   "cell_type": "code",
   "execution_count": null,
   "metadata": {
    "collapsed": true
   },
   "outputs": [],
   "source": [
    "#insert 29 explanation within a hashtag"
   ]
  },
  {
   "cell_type": "markdown",
   "metadata": {},
   "source": [
    "Note: You've just explored the very beginnings of using Python to perform machine learning! Machine learning is a pretty ill defined term, but according to Wikipedia, \"Machine learning explores the construction and study of algorithms that can learn from and make predictions on data.\" \n",
    "\n",
    "You have just learned the multiple linear regression sci-kit learn method. There are many MUCH better methods (RidgeCV, GradientBoostingRegressor, etc.)\n",
    "\n",
    "There are also better measures for how well a model does. (The adjusted R-squared measure is MUCH better than the R-squared measure.)\n",
    "\n",
    "In addition, we just committed the cardinal sin of data science in the above example, which is to use our entire dataset to train our model. In practice, we should have used just a subset of the player data to train our model (i.e., to calculate the line of best fit) and then we should have calculated how well our model did at predicting the test set values (the players that we didn't include in our training model).\n",
    "\n",
    "To learn more, this is a great first tutorial on how to use sci-kit learn for machine learning:\n",
    "\n",
    "https://www.datacamp.com/community/tutorials/machine-learning-python\n",
    "\n",
    "More docs are here:\n",
    "\n",
    "http://scikit-learn.org/stable/tutorial/basic/tutorial.html\n",
    "\n",
    "And Andrew Ng's online Machine Learning course is famous:\n",
    "\n",
    "https://www.coursera.org/learn/machine-learning\n",
    "\n",
    "\n"
   ]
  }
 ],
 "metadata": {
  "kernelspec": {
   "display_name": "Python 3",
   "language": "python",
   "name": "python3"
  },
  "language_info": {
   "codemirror_mode": {
    "name": "ipython",
    "version": 3
   },
   "file_extension": ".py",
   "mimetype": "text/x-python",
   "name": "python",
   "nbconvert_exporter": "python",
   "pygments_lexer": "ipython3",
   "version": "3.6.0"
  }
 },
 "nbformat": 4,
 "nbformat_minor": 2
}
