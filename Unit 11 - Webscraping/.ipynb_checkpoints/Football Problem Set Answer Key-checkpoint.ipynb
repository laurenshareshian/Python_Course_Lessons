{
 "cells": [
  {
   "cell_type": "code",
   "execution_count": 335,
   "metadata": {
    "collapsed": true
   },
   "outputs": [],
   "source": [
    "import requests\n",
    "from bs4 import BeautifulSoup\n",
    "import numpy as np\n",
    "import pandas as pd\n",
    "import matplotlib.pyplot as plt\n",
    "%matplotlib inline"
   ]
  },
  {
   "cell_type": "markdown",
   "metadata": {},
   "source": [
    "1.) We are interested in how well ESPN does at predicting how well a player will do in fantasy football. \n",
    "\n",
    "Go to the ESPN website from 2017 here to see how many fantasy points each player had ACTUALLY scored by the end of the season.\n",
    "\n",
    "http://games.espn.com/ffl/leaders?\n",
    "\n",
    "Notice at the end of the \"Offensive players\" tab it says \"Next\". Click on \"Next a few times to see how the website url changes.\n",
    "\n",
    "The webpages start at index 0 and increment by 50. Create a list called urls that contains the first 6 urls. Do this by using a for loop. "
   ]
  },
  {
   "cell_type": "code",
   "execution_count": 336,
   "metadata": {},
   "outputs": [
    {
     "name": "stdout",
     "output_type": "stream",
     "text": [
      "['http://games.espn.com/ffl/leaders?&startIndex=0', 'http://games.espn.com/ffl/leaders?&startIndex=50', 'http://games.espn.com/ffl/leaders?&startIndex=100', 'http://games.espn.com/ffl/leaders?&startIndex=150', 'http://games.espn.com/ffl/leaders?&startIndex=200', 'http://games.espn.com/ffl/leaders?&startIndex=250']\n"
     ]
    }
   ],
   "source": [
    "urls = []\n",
    "for i in range(6):\n",
    "    urls.append('http://games.espn.com/ffl/leaders?&startIndex='+str(i*50))\n",
    "print(urls)"
   ]
  },
  {
   "cell_type": "markdown",
   "metadata": {},
   "source": [
    "2.Go to the first url and use pd.read_html to read in the info. Save the dataframe with the name \"table\"."
   ]
  },
  {
   "cell_type": "code",
   "execution_count": 337,
   "metadata": {},
   "outputs": [
    {
     "data": {
      "text/html": [
       "<div>\n",
       "<table border=\"1\" class=\"dataframe\">\n",
       "  <thead>\n",
       "    <tr style=\"text-align: right;\">\n",
       "      <th></th>\n",
       "      <th>0</th>\n",
       "      <th>1</th>\n",
       "      <th>2</th>\n",
       "      <th>3</th>\n",
       "      <th>4</th>\n",
       "      <th>5</th>\n",
       "      <th>6</th>\n",
       "      <th>7</th>\n",
       "      <th>8</th>\n",
       "      <th>9</th>\n",
       "      <th>...</th>\n",
       "      <th>1905</th>\n",
       "      <th>1906</th>\n",
       "      <th>1907</th>\n",
       "      <th>1908</th>\n",
       "      <th>1909</th>\n",
       "      <th>1910</th>\n",
       "      <th>1911</th>\n",
       "      <th>1912</th>\n",
       "      <th>1913</th>\n",
       "      <th>1914</th>\n",
       "    </tr>\n",
       "  </thead>\n",
       "  <tbody>\n",
       "    <tr>\n",
       "      <th>0</th>\n",
       "      <td>// load new edition settings  var espn = espn ...</td>\n",
       "      <td>OFFENSIVE PLAYERS</td>\n",
       "      <td>NaN</td>\n",
       "      <td>PASSING</td>\n",
       "      <td>NaN</td>\n",
       "      <td>RUSHING</td>\n",
       "      <td>NaN</td>\n",
       "      <td>RECEIVING</td>\n",
       "      <td>NaN</td>\n",
       "      <td>MISC</td>\n",
       "      <td>...</td>\n",
       "      <td>NaN</td>\n",
       "      <td>0.0</td>\n",
       "      <td>5.0</td>\n",
       "      <td>9.0</td>\n",
       "      <td>31.0</td>\n",
       "      <td>0.0</td>\n",
       "      <td>2.0</td>\n",
       "      <td>355.0</td>\n",
       "      <td>NaN</td>\n",
       "      <td>55.0</td>\n",
       "    </tr>\n",
       "    <tr>\n",
       "      <th>1</th>\n",
       "      <td>OFFENSIVE PLAYERS</td>\n",
       "      <td>NaN</td>\n",
       "      <td>PASSING</td>\n",
       "      <td>NaN</td>\n",
       "      <td>RUSHING</td>\n",
       "      <td>NaN</td>\n",
       "      <td>RECEIVING</td>\n",
       "      <td>NaN</td>\n",
       "      <td>MISC</td>\n",
       "      <td>NaN</td>\n",
       "      <td>...</td>\n",
       "      <td>NaN</td>\n",
       "      <td>NaN</td>\n",
       "      <td>NaN</td>\n",
       "      <td>NaN</td>\n",
       "      <td>NaN</td>\n",
       "      <td>NaN</td>\n",
       "      <td>NaN</td>\n",
       "      <td>NaN</td>\n",
       "      <td>NaN</td>\n",
       "      <td>NaN</td>\n",
       "    </tr>\n",
       "    <tr>\n",
       "      <th>2</th>\n",
       "      <td>PLAYER, TEAM POS</td>\n",
       "      <td>NaN</td>\n",
       "      <td>C/A</td>\n",
       "      <td>YDS</td>\n",
       "      <td>TD</td>\n",
       "      <td>INT</td>\n",
       "      <td>NaN</td>\n",
       "      <td>RUSH</td>\n",
       "      <td>YDS</td>\n",
       "      <td>TD</td>\n",
       "      <td>...</td>\n",
       "      <td>NaN</td>\n",
       "      <td>NaN</td>\n",
       "      <td>NaN</td>\n",
       "      <td>NaN</td>\n",
       "      <td>NaN</td>\n",
       "      <td>NaN</td>\n",
       "      <td>NaN</td>\n",
       "      <td>NaN</td>\n",
       "      <td>NaN</td>\n",
       "      <td>NaN</td>\n",
       "    </tr>\n",
       "    <tr>\n",
       "      <th>3</th>\n",
       "      <td>Todd Gurley II, LAR RB</td>\n",
       "      <td>NaN</td>\n",
       "      <td>0/0</td>\n",
       "      <td>0</td>\n",
       "      <td>0</td>\n",
       "      <td>0</td>\n",
       "      <td>NaN</td>\n",
       "      <td>279</td>\n",
       "      <td>1305</td>\n",
       "      <td>13</td>\n",
       "      <td>...</td>\n",
       "      <td>NaN</td>\n",
       "      <td>NaN</td>\n",
       "      <td>NaN</td>\n",
       "      <td>NaN</td>\n",
       "      <td>NaN</td>\n",
       "      <td>NaN</td>\n",
       "      <td>NaN</td>\n",
       "      <td>NaN</td>\n",
       "      <td>NaN</td>\n",
       "      <td>NaN</td>\n",
       "    </tr>\n",
       "    <tr>\n",
       "      <th>4</th>\n",
       "      <td>Russell Wilson, Sea QB</td>\n",
       "      <td>NaN</td>\n",
       "      <td>339/553</td>\n",
       "      <td>3983</td>\n",
       "      <td>34</td>\n",
       "      <td>11</td>\n",
       "      <td>NaN</td>\n",
       "      <td>95</td>\n",
       "      <td>586</td>\n",
       "      <td>3</td>\n",
       "      <td>...</td>\n",
       "      <td>NaN</td>\n",
       "      <td>NaN</td>\n",
       "      <td>NaN</td>\n",
       "      <td>NaN</td>\n",
       "      <td>NaN</td>\n",
       "      <td>NaN</td>\n",
       "      <td>NaN</td>\n",
       "      <td>NaN</td>\n",
       "      <td>NaN</td>\n",
       "      <td>NaN</td>\n",
       "    </tr>\n",
       "  </tbody>\n",
       "</table>\n",
       "<p>5 rows × 1915 columns</p>\n",
       "</div>"
      ],
      "text/plain": [
       "                                                0                  1     \\\n",
       "0  // load new edition settings  var espn = espn ...  OFFENSIVE PLAYERS   \n",
       "1                                  OFFENSIVE PLAYERS                NaN   \n",
       "2                                   PLAYER, TEAM POS                NaN   \n",
       "3                             Todd Gurley II, LAR RB                NaN   \n",
       "4                             Russell Wilson, Sea QB                NaN   \n",
       "\n",
       "      2        3        4        5          6          7     8     9     ...   \\\n",
       "0      NaN  PASSING      NaN  RUSHING        NaN  RECEIVING   NaN  MISC  ...    \n",
       "1  PASSING      NaN  RUSHING      NaN  RECEIVING        NaN  MISC   NaN  ...    \n",
       "2      C/A      YDS       TD      INT        NaN       RUSH   YDS    TD  ...    \n",
       "3      0/0        0        0        0        NaN        279  1305    13  ...    \n",
       "4  339/553     3983       34       11        NaN         95   586     3  ...    \n",
       "\n",
       "  1905 1906 1907 1908  1909 1910 1911   1912 1913  1914  \n",
       "0  NaN  0.0  5.0  9.0  31.0  0.0  2.0  355.0  NaN  55.0  \n",
       "1  NaN  NaN  NaN  NaN   NaN  NaN  NaN    NaN  NaN   NaN  \n",
       "2  NaN  NaN  NaN  NaN   NaN  NaN  NaN    NaN  NaN   NaN  \n",
       "3  NaN  NaN  NaN  NaN   NaN  NaN  NaN    NaN  NaN   NaN  \n",
       "4  NaN  NaN  NaN  NaN   NaN  NaN  NaN    NaN  NaN   NaN  \n",
       "\n",
       "[5 rows x 1915 columns]"
      ]
     },
     "execution_count": 337,
     "metadata": {},
     "output_type": "execute_result"
    }
   ],
   "source": [
    "tables = pd.read_html('http://games.espn.com/ffl/leaders?&startIndex=0')\n",
    "table = tables[0]\n",
    "table.head()"
   ]
  },
  {
   "cell_type": "markdown",
   "metadata": {},
   "source": [
    "3.Drop the three non-player rows from the table. "
   ]
  },
  {
   "cell_type": "code",
   "execution_count": 338,
   "metadata": {
    "collapsed": true
   },
   "outputs": [],
   "source": [
    "table.drop(table.index[0:3], inplace = True)"
   ]
  },
  {
   "cell_type": "markdown",
   "metadata": {},
   "source": [
    "4.Okay. Now you are going to loop through and add the dataframes you get from visiting the other urls to the bottom of the dataframe you got from the first url. You can do this by using the following command within the for loop:\n",
    "\n",
    "table = pd.concat([table, new_table])\n",
    "\n",
    "Be sure to drop the first TWO rows from the new table that you read in each time before you add them to the old table (since they don't contain player names). Also be sure NOT to read the previous URL in again."
   ]
  },
  {
   "cell_type": "code",
   "execution_count": 339,
   "metadata": {},
   "outputs": [
    {
     "data": {
      "text/html": [
       "<div>\n",
       "<table border=\"1\" class=\"dataframe\">\n",
       "  <thead>\n",
       "    <tr style=\"text-align: right;\">\n",
       "      <th></th>\n",
       "      <th>0</th>\n",
       "      <th>1</th>\n",
       "      <th>2</th>\n",
       "      <th>3</th>\n",
       "      <th>4</th>\n",
       "      <th>5</th>\n",
       "      <th>6</th>\n",
       "      <th>7</th>\n",
       "      <th>8</th>\n",
       "      <th>9</th>\n",
       "      <th>...</th>\n",
       "      <th>1905</th>\n",
       "      <th>1906</th>\n",
       "      <th>1907</th>\n",
       "      <th>1908</th>\n",
       "      <th>1909</th>\n",
       "      <th>1910</th>\n",
       "      <th>1911</th>\n",
       "      <th>1912</th>\n",
       "      <th>1913</th>\n",
       "      <th>1914</th>\n",
       "    </tr>\n",
       "  </thead>\n",
       "  <tbody>\n",
       "    <tr>\n",
       "      <th>3</th>\n",
       "      <td>Todd Gurley II, LAR RB</td>\n",
       "      <td>NaN</td>\n",
       "      <td>0/0</td>\n",
       "      <td>0</td>\n",
       "      <td>0</td>\n",
       "      <td>0</td>\n",
       "      <td>NaN</td>\n",
       "      <td>279</td>\n",
       "      <td>1305</td>\n",
       "      <td>13</td>\n",
       "      <td>...</td>\n",
       "      <td>NaN</td>\n",
       "      <td>NaN</td>\n",
       "      <td>NaN</td>\n",
       "      <td>NaN</td>\n",
       "      <td>NaN</td>\n",
       "      <td>NaN</td>\n",
       "      <td>NaN</td>\n",
       "      <td>NaN</td>\n",
       "      <td>NaN</td>\n",
       "      <td>NaN</td>\n",
       "    </tr>\n",
       "    <tr>\n",
       "      <th>4</th>\n",
       "      <td>Russell Wilson, Sea QB</td>\n",
       "      <td>NaN</td>\n",
       "      <td>339/553</td>\n",
       "      <td>3983</td>\n",
       "      <td>34</td>\n",
       "      <td>11</td>\n",
       "      <td>NaN</td>\n",
       "      <td>95</td>\n",
       "      <td>586</td>\n",
       "      <td>3</td>\n",
       "      <td>...</td>\n",
       "      <td>NaN</td>\n",
       "      <td>NaN</td>\n",
       "      <td>NaN</td>\n",
       "      <td>NaN</td>\n",
       "      <td>NaN</td>\n",
       "      <td>NaN</td>\n",
       "      <td>NaN</td>\n",
       "      <td>NaN</td>\n",
       "      <td>NaN</td>\n",
       "      <td>NaN</td>\n",
       "    </tr>\n",
       "    <tr>\n",
       "      <th>5</th>\n",
       "      <td>Le'Veon Bell, Pit RB</td>\n",
       "      <td>NaN</td>\n",
       "      <td>0/0</td>\n",
       "      <td>0</td>\n",
       "      <td>0</td>\n",
       "      <td>0</td>\n",
       "      <td>NaN</td>\n",
       "      <td>321</td>\n",
       "      <td>1291</td>\n",
       "      <td>9</td>\n",
       "      <td>...</td>\n",
       "      <td>NaN</td>\n",
       "      <td>NaN</td>\n",
       "      <td>NaN</td>\n",
       "      <td>NaN</td>\n",
       "      <td>NaN</td>\n",
       "      <td>NaN</td>\n",
       "      <td>NaN</td>\n",
       "      <td>NaN</td>\n",
       "      <td>NaN</td>\n",
       "      <td>NaN</td>\n",
       "    </tr>\n",
       "    <tr>\n",
       "      <th>6</th>\n",
       "      <td>Alvin Kamara, NO RB</td>\n",
       "      <td>NaN</td>\n",
       "      <td>0/0</td>\n",
       "      <td>0</td>\n",
       "      <td>0</td>\n",
       "      <td>0</td>\n",
       "      <td>NaN</td>\n",
       "      <td>120</td>\n",
       "      <td>728</td>\n",
       "      <td>8</td>\n",
       "      <td>...</td>\n",
       "      <td>NaN</td>\n",
       "      <td>NaN</td>\n",
       "      <td>NaN</td>\n",
       "      <td>NaN</td>\n",
       "      <td>NaN</td>\n",
       "      <td>NaN</td>\n",
       "      <td>NaN</td>\n",
       "      <td>NaN</td>\n",
       "      <td>NaN</td>\n",
       "      <td>NaN</td>\n",
       "    </tr>\n",
       "    <tr>\n",
       "      <th>7</th>\n",
       "      <td>Antonio Brown, Pit WR</td>\n",
       "      <td>NaN</td>\n",
       "      <td>0/0</td>\n",
       "      <td>0</td>\n",
       "      <td>0</td>\n",
       "      <td>0</td>\n",
       "      <td>NaN</td>\n",
       "      <td>0</td>\n",
       "      <td>0</td>\n",
       "      <td>0</td>\n",
       "      <td>...</td>\n",
       "      <td>NaN</td>\n",
       "      <td>NaN</td>\n",
       "      <td>NaN</td>\n",
       "      <td>NaN</td>\n",
       "      <td>NaN</td>\n",
       "      <td>NaN</td>\n",
       "      <td>NaN</td>\n",
       "      <td>NaN</td>\n",
       "      <td>NaN</td>\n",
       "      <td>NaN</td>\n",
       "    </tr>\n",
       "  </tbody>\n",
       "</table>\n",
       "<p>5 rows × 1915 columns</p>\n",
       "</div>"
      ],
      "text/plain": [
       "                     0    1        2     3    4    5    6    7     8    9     \\\n",
       "3  Todd Gurley II, LAR RB  NaN      0/0     0    0    0  NaN  279  1305   13   \n",
       "4  Russell Wilson, Sea QB  NaN  339/553  3983   34   11  NaN   95   586    3   \n",
       "5    Le'Veon Bell, Pit RB  NaN      0/0     0    0    0  NaN  321  1291    9   \n",
       "6     Alvin Kamara, NO RB  NaN      0/0     0    0    0  NaN  120   728    8   \n",
       "7   Antonio Brown, Pit WR  NaN      0/0     0    0    0  NaN    0     0    0   \n",
       "\n",
       "  ...  1905 1906 1907 1908 1909 1910 1911 1912 1913 1914  \n",
       "3 ...   NaN  NaN  NaN  NaN  NaN  NaN  NaN  NaN  NaN  NaN  \n",
       "4 ...   NaN  NaN  NaN  NaN  NaN  NaN  NaN  NaN  NaN  NaN  \n",
       "5 ...   NaN  NaN  NaN  NaN  NaN  NaN  NaN  NaN  NaN  NaN  \n",
       "6 ...   NaN  NaN  NaN  NaN  NaN  NaN  NaN  NaN  NaN  NaN  \n",
       "7 ...   NaN  NaN  NaN  NaN  NaN  NaN  NaN  NaN  NaN  NaN  \n",
       "\n",
       "[5 rows x 1915 columns]"
      ]
     },
     "execution_count": 339,
     "metadata": {},
     "output_type": "execute_result"
    }
   ],
   "source": [
    "for i in range(1,len(urls)):\n",
    "    new_table = pd.read_html(urls[i])[1]\n",
    "    new_table.drop(new_table.index[0:2], inplace = True)\n",
    "    table = pd.concat([table, new_table])\n",
    "table.head()"
   ]
  },
  {
   "cell_type": "markdown",
   "metadata": {},
   "source": [
    "5.Reduce the dataframe to just two columns: the player name renamed as \"player\" and the player total points renamed as \"2017 points\"."
   ]
  },
  {
   "cell_type": "code",
   "execution_count": 340,
   "metadata": {},
   "outputs": [
    {
     "data": {
      "text/html": [
       "<div>\n",
       "<table border=\"1\" class=\"dataframe\">\n",
       "  <thead>\n",
       "    <tr style=\"text-align: right;\">\n",
       "      <th></th>\n",
       "      <th>player</th>\n",
       "      <th>2017 points</th>\n",
       "    </tr>\n",
       "  </thead>\n",
       "  <tbody>\n",
       "    <tr>\n",
       "      <th>3</th>\n",
       "      <td>Todd Gurley II, LAR RB</td>\n",
       "      <td>383.3</td>\n",
       "    </tr>\n",
       "    <tr>\n",
       "      <th>4</th>\n",
       "      <td>Russell Wilson, Sea QB</td>\n",
       "      <td>347.9</td>\n",
       "    </tr>\n",
       "    <tr>\n",
       "      <th>5</th>\n",
       "      <td>Le'Veon Bell, Pit RB</td>\n",
       "      <td>341.6</td>\n",
       "    </tr>\n",
       "    <tr>\n",
       "      <th>6</th>\n",
       "      <td>Alvin Kamara, NO RB</td>\n",
       "      <td>320.4</td>\n",
       "    </tr>\n",
       "    <tr>\n",
       "      <th>7</th>\n",
       "      <td>Antonio Brown, Pit WR</td>\n",
       "      <td>310.3</td>\n",
       "    </tr>\n",
       "  </tbody>\n",
       "</table>\n",
       "</div>"
      ],
      "text/plain": [
       "                   player 2017 points\n",
       "3  Todd Gurley II, LAR RB       383.3\n",
       "4  Russell Wilson, Sea QB       347.9\n",
       "5    Le'Veon Bell, Pit RB       341.6\n",
       "6     Alvin Kamara, NO RB       320.4\n",
       "7   Antonio Brown, Pit WR       310.3"
      ]
     },
     "execution_count": 340,
     "metadata": {},
     "output_type": "execute_result"
    }
   ],
   "source": [
    "df = table[table.columns[[0,20]]]\n",
    "df = df.rename(index=str, columns={0: 'player', 20: '2017 points'})\n",
    "df.head()"
   ]
  },
  {
   "cell_type": "markdown",
   "metadata": {},
   "source": [
    "6.Drop rows that are missing ANY entries. Then, reset the index."
   ]
  },
  {
   "cell_type": "code",
   "execution_count": 341,
   "metadata": {},
   "outputs": [
    {
     "data": {
      "text/html": [
       "<div>\n",
       "<table border=\"1\" class=\"dataframe\">\n",
       "  <thead>\n",
       "    <tr style=\"text-align: right;\">\n",
       "      <th></th>\n",
       "      <th>player</th>\n",
       "      <th>2017 points</th>\n",
       "    </tr>\n",
       "  </thead>\n",
       "  <tbody>\n",
       "    <tr>\n",
       "      <th>0</th>\n",
       "      <td>Todd Gurley II, LAR RB</td>\n",
       "      <td>383.3</td>\n",
       "    </tr>\n",
       "    <tr>\n",
       "      <th>1</th>\n",
       "      <td>Russell Wilson, Sea QB</td>\n",
       "      <td>347.9</td>\n",
       "    </tr>\n",
       "    <tr>\n",
       "      <th>2</th>\n",
       "      <td>Le'Veon Bell, Pit RB</td>\n",
       "      <td>341.6</td>\n",
       "    </tr>\n",
       "    <tr>\n",
       "      <th>3</th>\n",
       "      <td>Alvin Kamara, NO RB</td>\n",
       "      <td>320.4</td>\n",
       "    </tr>\n",
       "    <tr>\n",
       "      <th>4</th>\n",
       "      <td>Antonio Brown, Pit WR</td>\n",
       "      <td>310.3</td>\n",
       "    </tr>\n",
       "  </tbody>\n",
       "</table>\n",
       "</div>"
      ],
      "text/plain": [
       "                   player 2017 points\n",
       "0  Todd Gurley II, LAR RB       383.3\n",
       "1  Russell Wilson, Sea QB       347.9\n",
       "2    Le'Veon Bell, Pit RB       341.6\n",
       "3     Alvin Kamara, NO RB       320.4\n",
       "4   Antonio Brown, Pit WR       310.3"
      ]
     },
     "execution_count": 341,
     "metadata": {},
     "output_type": "execute_result"
    }
   ],
   "source": [
    "df = df.dropna(how = 'any')\n",
    "df = df.reset_index(drop=True)\n",
    "df.head()"
   ]
  },
  {
   "cell_type": "markdown",
   "metadata": {},
   "source": [
    "7.Notice that the player names contain the name, team, and position. We will want to break this up. First, create a list called playernames that just contains the player names. Do this by splitting the name by spaces and joining all but the last two elements in the split with a space between them. "
   ]
  },
  {
   "cell_type": "code",
   "execution_count": 342,
   "metadata": {},
   "outputs": [
    {
     "name": "stdout",
     "output_type": "stream",
     "text": [
      "Todd Gurley II\n",
      "Russell Wilson\n",
      "Le'Veon Bell\n",
      "Alvin Kamara\n",
      "Antonio Brown\n",
      "DeAndre Hopkins, Ho\n",
      "Cam Newton, Ca\n",
      "Tom Brady\n",
      "Kareem Hunt\n",
      "Alex Smith\n",
      "Melvin Gordon\n",
      "Keenan Allen\n",
      "Carson Wentz, Ph\n",
      "Mark Ingram\n",
      "Kirk Cousins\n",
      "Matthew Stafford\n",
      "Philip Rivers\n",
      "LeSean McCoy\n",
      "Drew Brees\n",
      "Larry Fitzgerald\n",
      "Ben Roethlisberger\n",
      "Dak Prescott\n",
      "Jarvis Landry\n",
      "Michael Thomas\n",
      "Jared Goff\n",
      "Julio Jones\n",
      "Blake Bortles, Ja\n",
      "Tyreek Hill\n",
      "Adam Thielen\n",
      "Case Keenum\n",
      "Carlos Hyde\n",
      "Travis Kelce\n",
      "Leonard Fournette\n",
      "Christian McCaffrey\n",
      "Matt Ryan\n",
      "Rob Gronkowski\n",
      "A.J. Green, Ci\n",
      "Marvin Jones Jr.\n",
      "Golden Tate\n",
      "Doug Baldwin\n",
      "Tyrod Taylor\n",
      "Davante Adams\n",
      "Brandin Cooks, N\n",
      "Duke Johnson Jr.\n",
      "Andy Dalton\n",
      "Marcus Mariota\n",
      "Derek Carr\n",
      "Jacoby Brissett\n",
      "Demaryius Thomas\n",
      "Josh McCown, NY\n",
      "Ezekiel Elliott\n",
      "Mike Evans\n",
      "Dion Lewis\n",
      "Zach Ertz\n",
      "Jameis Winston\n",
      "Devonta Freeman, At\n",
      "Robby Anderson\n",
      "Jordan Howard\n",
      "Stefon Diggs\n",
      "JuJu Smith-Schuster\n",
      "Alshon Jeffery, Ph\n",
      "Devin Funchess\n",
      "Lamar Miller\n",
      "Nelson Agholor\n",
      "Eli Manning\n",
      "Dez Bryant\n",
      "Joe Flacco\n",
      "Jerick McKinnon\n",
      "Cooper Kupp\n",
      "Jermaine Kearse\n",
      "DeShone Kizer\n",
      "T.Y. Hilton\n",
      "C.J. Anderson\n",
      "Kenny Stills\n",
      "Delanie Walker\n",
      "Mohamed Sanu\n",
      "Frank Gore\n",
      "Evan Engram, NY\n",
      "Michael Crabtree\n",
      "DeMarco Murray\n",
      "Jimmy Graham\n",
      "Alex Collins\n",
      "Jack Doyle\n",
      "Deshaun Watson, Ho\n",
      "Marquise Goodwin\n",
      "Tevin Coleman\n",
      "Javorius Allen\n",
      "Marshawn Lynch\n",
      "Robert Woods\n",
      "Jamison Crowder\n",
      "Ted Ginn Jr.\n",
      "Randall Cobb\n",
      "Amari Cooper\n",
      "Kyle Rudolph, Mi\n",
      "Jay Cutler\n",
      "Latavius Murray\n",
      "Rishard Matthews\n",
      "Theo Riddick\n",
      "Giovani Bernard\n",
      "Chris Thompson, Ws\n",
      "Mike Wallace\n",
      "Paul Richardson\n",
      "Tarik Cohen\n",
      "Marqise Lee\n",
      "Jason Witten\n",
      "Sammy Watkins\n",
      "Bilal Powell\n",
      "Sterling Shepard, NY\n",
      "Isaiah Crowell\n",
      "Cameron Brate\n",
      "Jamaal Williams\n",
      "Kenyan Drake\n",
      "Joe Mixon\n",
      "Danny Amendola\n",
      "DeSean Jackson\n",
      "Tyrell Williams\n",
      "Orleans Darkwa\n",
      "Benjamin Watson\n",
      "Jordy Nelson\n",
      "Kelvin Benjamin\n",
      "Jay Ajayi\n",
      "Derrick Henry\n",
      "Mitchell Trubisky\n",
      "James White\n",
      "Jared Cook\n",
      "Keelan Cole\n",
      "Martavis Bryant\n",
      "Eric Ebron\n",
      "Travis Benjamin\n",
      "DeVante Parker\n",
      "Rex Burkhead\n",
      "Aaron Rodgers\n",
      "Adam Humphries\n",
      "Hunter Henry, LA\n",
      "Kendall Wright\n",
      "Ryan Grant\n",
      "Trevor Siemian, De\n",
      "Brandon LaFell\n",
      "Brett Hundley\n",
      "Ameer Abdullah\n",
      "Tyler Kroft\n",
      "Tyler Lockett\n",
      "Vernon Davis\n",
      "Matt Forte\n",
      "Josh Doctson\n",
      "Austin Hooper\n",
      "Jonathan Stewart\n",
      "Charles Clay\n",
      "Eric Decker\n",
      "Albert Wilson\n",
      "Emmanuel Sanders, De\n",
      "Will Fuller V, Ho\n",
      "Terrance Williams\n",
      "Chris Hogan\n",
      "Samaje Perine\n",
      "LeGarrette Blount\n",
      "Austin Ekeler\n",
      "George Kittle\n",
      "Deonte Thompson\n",
      "Wayne Gallman\n",
      "Matt Breida\n",
      "Marlon Mack\n",
      "Jaron Brown\n",
      "Carson Palmer\n",
      "Jeremy Maclin\n",
      "Austin Seferian-Jenkins\n",
      "O.J. Howard, T\n",
      "Allen Hurns\n",
      "Jesse James\n",
      "Julius Thomas, Mi\n",
      "J.D. McKissic\n",
      "Trent Taylor\n",
      "David Njoku\n",
      "Kenny Golladay\n",
      "J.J. Nelson\n",
      "Chris Godwin\n",
      "Rod Smith\n",
      "Corey Clement\n",
      "Ty Montgomery, G\n",
      "Cole Beasley\n",
      "Devontae Booker\n",
      "Torrey Smith\n",
      "Seth Roberts\n",
      "Pierre Garcon, S\n",
      "Roger Lewis, NY\n",
      "C.J. Beathard\n",
      "Jimmy Garoppolo\n",
      "Marcedes Lewis\n",
      "T.J. Yeldon\n",
      "Andre Ellington\n",
      "Jalen Richard\n",
      "Cordarrelle Patterson\n",
      "Peyton Barber\n",
      "DeAndre Washington\n",
      "Chris Ivory\n",
      "TJ Jones, De\n",
      "Shane Vereen\n",
      "Bennie Fowler III\n",
      "Taylor Gabriel\n",
      "Aaron Jones, G\n",
      "Trey Burton\n",
      "Ed Dickson\n",
      "Antonio Gates\n",
      "Adrian Peterson, Ar\n",
      "Garrett Celek\n",
      "Jermaine Gresham, Ar\n",
      "Donte Moncrief\n",
      "Seth DeValve\n",
      "Elijah McGuire\n",
      "Doug Martin\n",
      "Bruce Ellington, Ho\n",
      "Odell Beckham Jr., NY\n",
      "Ryan Fitzpatrick\n",
      "Charles Sims\n",
      "Brandon Coleman\n",
      "Charcandrick West\n",
      "Alfred Morris\n",
      "Zay Jones\n",
      "John Brown\n",
      "Kyle Juszczyk\n",
      "Corey Davis\n",
      "Mike Gillislee\n",
      "Rashard Higgins\n",
      "Joshua Bellamy\n",
      "Brock Osweiler\n",
      "Kerwynn Williams\n",
      "Jamaal Charles\n",
      "Dede Westbrook\n",
      "Chris Moore\n",
      "Corey Coleman\n",
      "Dalvin Cook, Mi\n",
      "Dontrelle Inman\n",
      "Stephen Anderson\n",
      "Brice Butler\n",
      "Nick O'Leary\n",
      "Brian Hoyer\n",
      "Coby Fleener, N\n",
      "Ricardo Louis\n",
      "Cody Latimer, De\n",
      "Blaine Gabbert\n",
      "Tyler Higbee\n",
      "Tavarres King, NY\n",
      "Jordan Reed, Ws\n",
      "Justin Hardy, At\n",
      "Damien Williams, Mi\n",
      "Rhett Ellison\n",
      "Martellus Bennett, N\n",
      "Danny Woodhead\n",
      "Chester Rogers\n",
      "Kenny Britt\n",
      "Josh Gordon\n",
      "Jordan Matthews, Bu\n",
      "Aldrick Robinson\n",
      "D'Onta Foreman, Ho\n",
      "Benny Cunningham\n",
      "Tyler Boyd\n",
      "Zach Miller*, Ch\n",
      "A.J. Derby\n",
      "Luke Willson\n",
      "Darren Fells\n",
      "Michael Campanaro\n",
      "Mike Davis\n",
      "Gerald Everett\n",
      "Malcolm Brown\n",
      "Tom Savage, Ho\n",
      "Mike Tolbert\n",
      "Drew Stanton, Ar\n",
      "Nick Boyle\n",
      "Ricky Seals-Jones, Ar\n",
      "Terrelle Pryor Sr., Ws\n",
      "Jarius Wright\n",
      "Taywan Taylor\n",
      "Jacquizz Rodgers\n",
      "Wendell Smallwood\n",
      "Demetrius Harris\n",
      "Geronimo Allison\n",
      "Jeremy Kerley\n",
      "Jonnu Smith, Te\n",
      "Russell Shepard\n",
      "Johnny Holton\n",
      "Alfred Blue\n",
      "Mack Hollins\n",
      "Jakeem Grant\n",
      "Lance Kendricks\n",
      "Rob Kelley, Ws\n",
      "Andre Holmes, Bu\n",
      "Tavon Austin\n",
      "Adam Shaheen\n",
      "Demarcus Robinson\n",
      "Greg Olsen\n",
      "Corey Grant\n",
      "Kendrick Bourne\n",
      "Matt Moore\n",
      "Braxton Miller\n",
      "De'Anthony Thomas, K\n",
      "Kapri Bibbs\n",
      "Laquon Treadwell\n",
      "Damiere Byrd, Ca\n",
      "Chris Carson, Se\n",
      "Virgil Green\n"
     ]
    }
   ],
   "source": [
    "playernames = []\n",
    "for player in df['player'].values:\n",
    "    playername = ' '.join(player.split()[0:-2])[:-1]\n",
    "    playernames.append(playername)\n",
    "    print(playername)"
   ]
  },
  {
   "cell_type": "markdown",
   "metadata": {},
   "source": [
    "8.Notice that there is still a comma in a few of the entries. Copy your code above below and correct it to split on a comma if there is still a comma remaining and saving only the correct part of the name. You should now have a correct list called playernames.\n"
   ]
  },
  {
   "cell_type": "code",
   "execution_count": 343,
   "metadata": {
    "collapsed": true
   },
   "outputs": [],
   "source": [
    "playernames = []\n",
    "for player in df['player'].values:\n",
    "    playername = ' '.join(player.split()[0:-2])[:-1]\n",
    "    if ',' in playername:\n",
    "        playername = ' '.join(playername.split()[:-1])[:-1]\n",
    "    playernames.append(playername)"
   ]
  },
  {
   "cell_type": "markdown",
   "metadata": {},
   "source": [
    "9.Create a list called positions that contains just the player positions and a list called teams that just contains the teams."
   ]
  },
  {
   "cell_type": "code",
   "execution_count": 344,
   "metadata": {},
   "outputs": [],
   "source": [
    "positions = []\n",
    "for player in df['player'].values:\n",
    "    positions.append(player.split()[-1])\n",
    "teams = []\n",
    "for player in df['player'].values:\n",
    "    teams.append(player.split()[-2])"
   ]
  },
  {
   "cell_type": "markdown",
   "metadata": {},
   "source": [
    "10.Create a new data frame called \"df1\" where the player name called \"player\" is in the first column, the player team is in the second column, the player position is in the third column, and the 2017 points is in the fourth column."
   ]
  },
  {
   "cell_type": "code",
   "execution_count": 345,
   "metadata": {},
   "outputs": [
    {
     "data": {
      "text/html": [
       "<div>\n",
       "<table border=\"1\" class=\"dataframe\">\n",
       "  <thead>\n",
       "    <tr style=\"text-align: right;\">\n",
       "      <th></th>\n",
       "      <th>2017 points</th>\n",
       "      <th>player</th>\n",
       "      <th>positions</th>\n",
       "      <th>teams</th>\n",
       "    </tr>\n",
       "  </thead>\n",
       "  <tbody>\n",
       "    <tr>\n",
       "      <th>0</th>\n",
       "      <td>383.3</td>\n",
       "      <td>Todd Gurley II</td>\n",
       "      <td>RB</td>\n",
       "      <td>LAR</td>\n",
       "    </tr>\n",
       "    <tr>\n",
       "      <th>1</th>\n",
       "      <td>347.9</td>\n",
       "      <td>Russell Wilson</td>\n",
       "      <td>QB</td>\n",
       "      <td>Sea</td>\n",
       "    </tr>\n",
       "    <tr>\n",
       "      <th>2</th>\n",
       "      <td>341.6</td>\n",
       "      <td>Le'Veon Bell</td>\n",
       "      <td>RB</td>\n",
       "      <td>Pit</td>\n",
       "    </tr>\n",
       "    <tr>\n",
       "      <th>3</th>\n",
       "      <td>320.4</td>\n",
       "      <td>Alvin Kamara</td>\n",
       "      <td>RB</td>\n",
       "      <td>NO</td>\n",
       "    </tr>\n",
       "    <tr>\n",
       "      <th>4</th>\n",
       "      <td>310.3</td>\n",
       "      <td>Antonio Brown</td>\n",
       "      <td>WR</td>\n",
       "      <td>Pit</td>\n",
       "    </tr>\n",
       "  </tbody>\n",
       "</table>\n",
       "</div>"
      ],
      "text/plain": [
       "  2017 points          player positions teams\n",
       "0       383.3  Todd Gurley II        RB   LAR\n",
       "1       347.9  Russell Wilson        QB   Sea\n",
       "2       341.6    Le'Veon Bell        RB   Pit\n",
       "3       320.4    Alvin Kamara        RB    NO\n",
       "4       310.3   Antonio Brown        WR   Pit"
      ]
     },
     "execution_count": 345,
     "metadata": {},
     "output_type": "execute_result"
    }
   ],
   "source": [
    "df1 = pd.DataFrame(data = {'player': playernames, \n",
    "                             'positions': positions, \n",
    "                             'teams': teams,\n",
    "                            '2017 points': df['2017 points']})\n",
    "df1.head()"
   ]
  },
  {
   "cell_type": "markdown",
   "metadata": {},
   "source": [
    "11.Now go to this website to see what ESPN projected the player rankings to be BEFORE the season had started:\n",
    "\n",
    "http://www.espn.com/fantasy/football/story/_/page/17RanksPreseason200PPR/2017-fantasy-football-ppr-rankings-top-200\n",
    "\n",
    "Use pd.read_html to read the data in. "
   ]
  },
  {
   "cell_type": "code",
   "execution_count": 346,
   "metadata": {},
   "outputs": [],
   "source": [
    "table2 = pd.read_html('http://www.espn.com/fantasy/football/story/_/page/17RanksPreseason200PPR/2017-fantasy-football-ppr-rankings-top-200')\n",
    "df2=table2[1]"
   ]
  },
  {
   "cell_type": "markdown",
   "metadata": {},
   "source": [
    "12.Save just the Player/Position/Team column to a dataframe called \"df2\". Rename the column \"player\"."
   ]
  },
  {
   "cell_type": "code",
   "execution_count": 347,
   "metadata": {},
   "outputs": [
    {
     "data": {
      "text/html": [
       "<div>\n",
       "<table border=\"1\" class=\"dataframe\">\n",
       "  <thead>\n",
       "    <tr style=\"text-align: right;\">\n",
       "      <th></th>\n",
       "      <th>player</th>\n",
       "    </tr>\n",
       "  </thead>\n",
       "  <tbody>\n",
       "    <tr>\n",
       "      <th>0</th>\n",
       "      <td>1. David Johnson, RB, ARI</td>\n",
       "    </tr>\n",
       "    <tr>\n",
       "      <th>1</th>\n",
       "      <td>2. Le'Veon Bell, RB, PIT</td>\n",
       "    </tr>\n",
       "    <tr>\n",
       "      <th>2</th>\n",
       "      <td>3. Antonio Brown, WR, PIT</td>\n",
       "    </tr>\n",
       "    <tr>\n",
       "      <th>3</th>\n",
       "      <td>4. Ezekiel Elliott, RB, DAL</td>\n",
       "    </tr>\n",
       "    <tr>\n",
       "      <th>4</th>\n",
       "      <td>5. Odell Beckham Jr., WR, NYG</td>\n",
       "    </tr>\n",
       "  </tbody>\n",
       "</table>\n",
       "</div>"
      ],
      "text/plain": [
       "                          player\n",
       "0      1. David Johnson, RB, ARI\n",
       "1       2. Le'Veon Bell, RB, PIT\n",
       "2      3. Antonio Brown, WR, PIT\n",
       "3    4. Ezekiel Elliott, RB, DAL\n",
       "4  5. Odell Beckham Jr., WR, NYG"
      ]
     },
     "execution_count": 347,
     "metadata": {},
     "output_type": "execute_result"
    }
   ],
   "source": [
    "df2 = df2[['Player/Position/Team']]\n",
    "df2 = df2.rename(index=str, columns={'Player/Position/Team': 'player'})\n",
    "df2.head()"
   ]
  },
  {
   "cell_type": "markdown",
   "metadata": {},
   "source": [
    "13.We want to merge these two data frames. In order to do this, we need the player names to match up exactly. Update the \"df2\" data frame above to include only the player names - not the numbers, positions, or teams."
   ]
  },
  {
   "cell_type": "code",
   "execution_count": 348,
   "metadata": {},
   "outputs": [
    {
     "data": {
      "text/html": [
       "<div>\n",
       "<table border=\"1\" class=\"dataframe\">\n",
       "  <thead>\n",
       "    <tr style=\"text-align: right;\">\n",
       "      <th></th>\n",
       "      <th>player</th>\n",
       "    </tr>\n",
       "  </thead>\n",
       "  <tbody>\n",
       "    <tr>\n",
       "      <th>0</th>\n",
       "      <td>David Johnson</td>\n",
       "    </tr>\n",
       "    <tr>\n",
       "      <th>1</th>\n",
       "      <td>Le'Veon Bell</td>\n",
       "    </tr>\n",
       "    <tr>\n",
       "      <th>2</th>\n",
       "      <td>Antonio Brown</td>\n",
       "    </tr>\n",
       "    <tr>\n",
       "      <th>3</th>\n",
       "      <td>Ezekiel Elliott</td>\n",
       "    </tr>\n",
       "    <tr>\n",
       "      <th>4</th>\n",
       "      <td>Odell Beckham Jr.</td>\n",
       "    </tr>\n",
       "  </tbody>\n",
       "</table>\n",
       "</div>"
      ],
      "text/plain": [
       "              player\n",
       "0      David Johnson\n",
       "1       Le'Veon Bell\n",
       "2      Antonio Brown\n",
       "3    Ezekiel Elliott\n",
       "4  Odell Beckham Jr."
      ]
     },
     "execution_count": 348,
     "metadata": {},
     "output_type": "execute_result"
    }
   ],
   "source": [
    "df2['player'] = [' '.join(player.split()[1:-2])[:-1] for player in df2['player'] ]\n",
    "df2.head()"
   ]
  },
  {
   "cell_type": "markdown",
   "metadata": {},
   "source": [
    "14.We'll want to create another column for what ESPN projected their ranking to be. Luckily, since they are in order, an index of 0 correponds to a ranking of 1, an index of 1 corresponds to a ranking of 2, etc. We can use the index and a list comprehension to create a ranking column:"
   ]
  },
  {
   "cell_type": "code",
   "execution_count": 349,
   "metadata": {},
   "outputs": [
    {
     "data": {
      "text/html": [
       "<div>\n",
       "<table border=\"1\" class=\"dataframe\">\n",
       "  <thead>\n",
       "    <tr style=\"text-align: right;\">\n",
       "      <th></th>\n",
       "      <th>player</th>\n",
       "      <th>ranking</th>\n",
       "    </tr>\n",
       "  </thead>\n",
       "  <tbody>\n",
       "    <tr>\n",
       "      <th>0</th>\n",
       "      <td>David Johnson</td>\n",
       "      <td>1</td>\n",
       "    </tr>\n",
       "    <tr>\n",
       "      <th>1</th>\n",
       "      <td>Le'Veon Bell</td>\n",
       "      <td>2</td>\n",
       "    </tr>\n",
       "    <tr>\n",
       "      <th>2</th>\n",
       "      <td>Antonio Brown</td>\n",
       "      <td>3</td>\n",
       "    </tr>\n",
       "    <tr>\n",
       "      <th>3</th>\n",
       "      <td>Ezekiel Elliott</td>\n",
       "      <td>4</td>\n",
       "    </tr>\n",
       "    <tr>\n",
       "      <th>4</th>\n",
       "      <td>Odell Beckham Jr.</td>\n",
       "      <td>5</td>\n",
       "    </tr>\n",
       "  </tbody>\n",
       "</table>\n",
       "</div>"
      ],
      "text/plain": [
       "              player  ranking\n",
       "0      David Johnson        1\n",
       "1       Le'Veon Bell        2\n",
       "2      Antonio Brown        3\n",
       "3    Ezekiel Elliott        4\n",
       "4  Odell Beckham Jr.        5"
      ]
     },
     "execution_count": 349,
     "metadata": {},
     "output_type": "execute_result"
    }
   ],
   "source": [
    "df2['ranking'] = [int(x)+1 for x in df2.index]\n",
    "df2.head()"
   ]
  },
  {
   "cell_type": "markdown",
   "metadata": {},
   "source": [
    "15.Okay, we are ready to merge these two dataframes. We'll use \"inner\" to denote that we only want to consider players that are in BOTH dataframes and we'll use \"on=player\" to denote that we want to merge the dataframes based on the player column."
   ]
  },
  {
   "cell_type": "code",
   "execution_count": 350,
   "metadata": {},
   "outputs": [
    {
     "data": {
      "text/html": [
       "<div>\n",
       "<table border=\"1\" class=\"dataframe\">\n",
       "  <thead>\n",
       "    <tr style=\"text-align: right;\">\n",
       "      <th></th>\n",
       "      <th>2017 points</th>\n",
       "      <th>player</th>\n",
       "      <th>positions</th>\n",
       "      <th>teams</th>\n",
       "      <th>ranking</th>\n",
       "    </tr>\n",
       "  </thead>\n",
       "  <tbody>\n",
       "    <tr>\n",
       "      <th>0</th>\n",
       "      <td>347.9</td>\n",
       "      <td>Russell Wilson</td>\n",
       "      <td>QB</td>\n",
       "      <td>Sea</td>\n",
       "      <td>79</td>\n",
       "    </tr>\n",
       "    <tr>\n",
       "      <th>1</th>\n",
       "      <td>341.6</td>\n",
       "      <td>Le'Veon Bell</td>\n",
       "      <td>RB</td>\n",
       "      <td>Pit</td>\n",
       "      <td>2</td>\n",
       "    </tr>\n",
       "    <tr>\n",
       "      <th>2</th>\n",
       "      <td>320.4</td>\n",
       "      <td>Alvin Kamara</td>\n",
       "      <td>RB</td>\n",
       "      <td>NO</td>\n",
       "      <td>152</td>\n",
       "    </tr>\n",
       "    <tr>\n",
       "      <th>3</th>\n",
       "      <td>310.3</td>\n",
       "      <td>Antonio Brown</td>\n",
       "      <td>WR</td>\n",
       "      <td>Pit</td>\n",
       "      <td>3</td>\n",
       "    </tr>\n",
       "    <tr>\n",
       "      <th>4</th>\n",
       "      <td>309.8</td>\n",
       "      <td>DeAndre Hopkins</td>\n",
       "      <td>Q</td>\n",
       "      <td>WR</td>\n",
       "      <td>28</td>\n",
       "    </tr>\n",
       "  </tbody>\n",
       "</table>\n",
       "</div>"
      ],
      "text/plain": [
       "  2017 points           player positions teams  ranking\n",
       "0       347.9   Russell Wilson        QB   Sea       79\n",
       "1       341.6     Le'Veon Bell        RB   Pit        2\n",
       "2       320.4     Alvin Kamara        RB    NO      152\n",
       "3       310.3    Antonio Brown        WR   Pit        3\n",
       "4       309.8  DeAndre Hopkins         Q    WR       28"
      ]
     },
     "execution_count": 350,
     "metadata": {},
     "output_type": "execute_result"
    }
   ],
   "source": [
    "results = pd.merge(df1, df2, how='inner', on = ['player'])\n",
    "results.head()"
   ]
  },
  {
   "cell_type": "markdown",
   "metadata": {},
   "source": [
    "16.Drop any rows that have any missing values. There might not be, but perform this operation just in case."
   ]
  },
  {
   "cell_type": "code",
   "execution_count": 351,
   "metadata": {
    "collapsed": true
   },
   "outputs": [],
   "source": [
    "results = results.dropna(how = 'any')"
   ]
  },
  {
   "cell_type": "markdown",
   "metadata": {},
   "source": [
    "17.View all of the column data types using one command."
   ]
  },
  {
   "cell_type": "code",
   "execution_count": 352,
   "metadata": {},
   "outputs": [
    {
     "name": "stdout",
     "output_type": "stream",
     "text": [
      "<class 'pandas.core.frame.DataFrame'>\n",
      "Int64Index: 156 entries, 0 to 155\n",
      "Data columns (total 5 columns):\n",
      "2017 points    156 non-null object\n",
      "player         156 non-null object\n",
      "positions      156 non-null object\n",
      "teams          156 non-null object\n",
      "ranking        156 non-null int64\n",
      "dtypes: int64(1), object(4)\n",
      "memory usage: 7.3+ KB\n"
     ]
    }
   ],
   "source": [
    "results.info()"
   ]
  },
  {
   "cell_type": "markdown",
   "metadata": {},
   "source": [
    "18.Change the data type of 2017 points to a float."
   ]
  },
  {
   "cell_type": "code",
   "execution_count": 353,
   "metadata": {
    "collapsed": true
   },
   "outputs": [],
   "source": [
    "results['2017 points'] = results['2017 points'].astype(float)"
   ]
  },
  {
   "cell_type": "markdown",
   "metadata": {},
   "source": [
    "19.Plot ESPN ranking on the x-axis versus 2017 points scored on the y-axis. Label your axes."
   ]
  },
  {
   "cell_type": "code",
   "execution_count": 354,
   "metadata": {},
   "outputs": [
    {
     "data": {
      "text/plain": [
       "<matplotlib.text.Text at 0x11317e630>"
      ]
     },
     "execution_count": 354,
     "metadata": {},
     "output_type": "execute_result"
    },
    {
     "data": {
      "image/png": "[encoded data removed]",
      "text/plain": [
       "<matplotlib.figure.Figure at 0x11318def0>"
      ]
     },
     "metadata": {},
     "output_type": "display_data"
    }
   ],
   "source": [
    "plt.plot(results['ranking'], results['2017 points'], '.')\n",
    "plt.xlabel('espn ranking')\n",
    "plt.ylabel('fantasy points')"
   ]
  },
  {
   "cell_type": "markdown",
   "metadata": {},
   "source": [
    "20.Is there a downward trend? Why does this make sense?"
   ]
  },
  {
   "cell_type": "code",
   "execution_count": 355,
   "metadata": {},
   "outputs": [],
   "source": [
    "#because a ranking of 1 corresponds to the most projected points"
   ]
  },
  {
   "cell_type": "markdown",
   "metadata": {},
   "source": [
    "21.Go back to the Unit 4 Assignment to remind yourself how to superimpose the line of best fit on the graph above. Do so below."
   ]
  },
  {
   "cell_type": "code",
   "execution_count": 356,
   "metadata": {},
   "outputs": [
    {
     "data": {
      "text/plain": [
       "[<matplotlib.lines.Line2D at 0x112ea7160>,\n",
       " <matplotlib.lines.Line2D at 0x112ea7320>]"
      ]
     },
     "execution_count": 356,
     "metadata": {},
     "output_type": "execute_result"
    },
    {
     "data": {
      "image/png": "[encoded data removed]",
      "text/plain": [
       "<matplotlib.figure.Figure at 0x10ff7af28>"
      ]
     },
     "metadata": {},
     "output_type": "display_data"
    }
   ],
   "source": [
    "x = results['ranking']\n",
    "y = results['2017 points']\n",
    "fit = np.polyfit(x, y,1)\n",
    "fit_fn = np.poly1d(fit) \n",
    "plt.plot(x, y,'.', x, fit_fn(x))"
   ]
  },
  {
   "cell_type": "markdown",
   "metadata": {},
   "source": [
    "22.Print the slope and intercept of the line. "
   ]
  },
  {
   "cell_type": "code",
   "execution_count": 357,
   "metadata": {},
   "outputs": [
    {
     "name": "stdout",
     "output_type": "stream",
     "text": [
      "-0.396094356609 199.219346005\n"
     ]
    }
   ],
   "source": [
    "m, b = np.polyfit(x,y,1)\n",
    "print(m,b)"
   ]
  },
  {
   "cell_type": "markdown",
   "metadata": {},
   "source": [
    "23.Create another column in the results dataframe called \"predicted points\" that lists the predicted points from the line of best fit for each player. Note: you can do this in one line. Don't use a loop."
   ]
  },
  {
   "cell_type": "code",
   "execution_count": 358,
   "metadata": {
    "collapsed": true
   },
   "outputs": [],
   "source": [
    "results['predicted points'] = fit_fn(results['ranking'])"
   ]
  },
  {
   "cell_type": "markdown",
   "metadata": {},
   "source": [
    "24.Create another column called \"residual\" that lists the difference between the actual 2017 points and the predicted ESPN points."
   ]
  },
  {
   "cell_type": "code",
   "execution_count": 359,
   "metadata": {
    "collapsed": true
   },
   "outputs": [],
   "source": [
    "results['residual'] = results['2017 points'] - results['predicted points']"
   ]
  },
  {
   "cell_type": "markdown",
   "metadata": {},
   "source": [
    "25.Sort the dataframe by predicted points from lowest to highest to see the most overrated players."
   ]
  },
  {
   "cell_type": "code",
   "execution_count": 360,
   "metadata": {},
   "outputs": [
    {
     "data": {
      "text/html": [
       "<div>\n",
       "<table border=\"1\" class=\"dataframe\">\n",
       "  <thead>\n",
       "    <tr style=\"text-align: right;\">\n",
       "      <th></th>\n",
       "      <th>2017 points</th>\n",
       "      <th>player</th>\n",
       "      <th>positions</th>\n",
       "      <th>teams</th>\n",
       "      <th>ranking</th>\n",
       "      <th>predicted points</th>\n",
       "      <th>residual</th>\n",
       "    </tr>\n",
       "  </thead>\n",
       "  <tbody>\n",
       "    <tr>\n",
       "      <th>151</th>\n",
       "      <td>50.0</td>\n",
       "      <td>Terrelle Pryor Sr.</td>\n",
       "      <td>Q</td>\n",
       "      <td>WR</td>\n",
       "      <td>26</td>\n",
       "      <td>188.920893</td>\n",
       "      <td>-138.920893</td>\n",
       "    </tr>\n",
       "    <tr>\n",
       "      <th>155</th>\n",
       "      <td>42.1</td>\n",
       "      <td>Greg Olsen</td>\n",
       "      <td>TE</td>\n",
       "      <td>Car</td>\n",
       "      <td>55</td>\n",
       "      <td>177.434156</td>\n",
       "      <td>-135.334156</td>\n",
       "    </tr>\n",
       "    <tr>\n",
       "      <th>154</th>\n",
       "      <td>43.2</td>\n",
       "      <td>Rob Kelley</td>\n",
       "      <td>Q</td>\n",
       "      <td>RB</td>\n",
       "      <td>69</td>\n",
       "      <td>171.888835</td>\n",
       "      <td>-128.688835</td>\n",
       "    </tr>\n",
       "    <tr>\n",
       "      <th>145</th>\n",
       "      <td>60.1</td>\n",
       "      <td>Jordan Reed</td>\n",
       "      <td>Q</td>\n",
       "      <td>TE</td>\n",
       "      <td>40</td>\n",
       "      <td>183.375572</td>\n",
       "      <td>-123.275572</td>\n",
       "    </tr>\n",
       "    <tr>\n",
       "      <th>135</th>\n",
       "      <td>74.0</td>\n",
       "      <td>Odell Beckham Jr.</td>\n",
       "      <td>Q</td>\n",
       "      <td>WR</td>\n",
       "      <td>5</td>\n",
       "      <td>197.238874</td>\n",
       "      <td>-123.238874</td>\n",
       "    </tr>\n",
       "  </tbody>\n",
       "</table>\n",
       "</div>"
      ],
      "text/plain": [
       "     2017 points              player positions teams  ranking  \\\n",
       "151         50.0  Terrelle Pryor Sr.         Q    WR       26   \n",
       "155         42.1          Greg Olsen        TE   Car       55   \n",
       "154         43.2          Rob Kelley         Q    RB       69   \n",
       "145         60.1         Jordan Reed         Q    TE       40   \n",
       "135         74.0   Odell Beckham Jr.         Q    WR        5   \n",
       "\n",
       "     predicted points    residual  \n",
       "151        188.920893 -138.920893  \n",
       "155        177.434156 -135.334156  \n",
       "154        171.888835 -128.688835  \n",
       "145        183.375572 -123.275572  \n",
       "135        197.238874 -123.238874  "
      ]
     },
     "execution_count": 360,
     "metadata": {},
     "output_type": "execute_result"
    }
   ],
   "source": [
    "results.sort_values(by = 'residual', ascending = True).head()"
   ]
  },
  {
   "cell_type": "markdown",
   "metadata": {},
   "source": [
    "26.R-squared is a measure of how well your model fits your data. Use the function below to calculate R-squared."
   ]
  },
  {
   "cell_type": "code",
   "execution_count": 361,
   "metadata": {},
   "outputs": [
    {
     "data": {
      "text/plain": [
       "0.09881743493395391"
      ]
     },
     "execution_count": 361,
     "metadata": {},
     "output_type": "execute_result"
    }
   ],
   "source": [
    "def rsquared(x, y, y_predicted):                   \n",
    "    ybar = np.sum(y)/len(y)          \n",
    "    ssreg = np.sum((y_predicted-ybar)**2)  \n",
    "    sstot = np.sum((y - ybar)**2)  \n",
    "    return ssreg / sstot\n",
    "\n",
    "rsquared(results['ranking'], \n",
    "         results['2017 points'], \n",
    "         results['predicted points'])"
   ]
  },
  {
   "cell_type": "markdown",
   "metadata": {},
   "source": [
    "27.That R-Squared was very low. Let's try to do better.\n",
    "\n",
    "Up until now, you've only been able to create predictive models with numerical variables (e.g. rankings, points, etc.) However, we can also create regression models using categorical variables (such as football position!) Very exciting. \n",
    "\n",
    "In addition, up until now, you have probably only calculated a linear regression line when you have a single input variable. Today, we'll use multiple linear regression (where the input will be a matrix instead of a single vector).\n",
    "\n",
    "Our goal will be to use ESPN rankings (numerical) AND player position (categorical) to predict their fantasy points.\n",
    "\n",
    "Step 1: Create a new dataframe from the results dataframe called onehot that includes just the positions and ranking columns. (I'll explain why it's called onehot in a minute)."
   ]
  },
  {
   "cell_type": "code",
   "execution_count": 362,
   "metadata": {},
   "outputs": [
    {
     "data": {
      "text/html": [
       "<div>\n",
       "<table border=\"1\" class=\"dataframe\">\n",
       "  <thead>\n",
       "    <tr style=\"text-align: right;\">\n",
       "      <th></th>\n",
       "      <th>ranking</th>\n",
       "      <th>positions</th>\n",
       "    </tr>\n",
       "  </thead>\n",
       "  <tbody>\n",
       "    <tr>\n",
       "      <th>0</th>\n",
       "      <td>79</td>\n",
       "      <td>QB</td>\n",
       "    </tr>\n",
       "    <tr>\n",
       "      <th>1</th>\n",
       "      <td>2</td>\n",
       "      <td>RB</td>\n",
       "    </tr>\n",
       "    <tr>\n",
       "      <th>2</th>\n",
       "      <td>152</td>\n",
       "      <td>RB</td>\n",
       "    </tr>\n",
       "    <tr>\n",
       "      <th>3</th>\n",
       "      <td>3</td>\n",
       "      <td>WR</td>\n",
       "    </tr>\n",
       "    <tr>\n",
       "      <th>4</th>\n",
       "      <td>28</td>\n",
       "      <td>Q</td>\n",
       "    </tr>\n",
       "  </tbody>\n",
       "</table>\n",
       "</div>"
      ],
      "text/plain": [
       "   ranking positions\n",
       "0       79        QB\n",
       "1        2        RB\n",
       "2      152        RB\n",
       "3        3        WR\n",
       "4       28         Q"
      ]
     },
     "execution_count": 362,
     "metadata": {},
     "output_type": "execute_result"
    }
   ],
   "source": [
    "onehot = results[['ranking','positions']]\n",
    "onehot.head()"
   ]
  },
  {
   "cell_type": "markdown",
   "metadata": {},
   "source": [
    "28.Now, a major step towards performing regression when there are categorical variables involved is first creating a matrix (called a one-hot matrix) where each position corresponds to a different column in the matrix. For example, if a player is a QB, he'll have a 1 in the QB column and a 0 in all of the others. \n",
    "\n",
    "We can do this using a package called patsy. First download it. Type into your terminal:\n",
    "\n",
    "pip install --upgrade patsy\n",
    "\n",
    "Then run the following code."
   ]
  },
  {
   "cell_type": "code",
   "execution_count": 363,
   "metadata": {},
   "outputs": [
    {
     "name": "stderr",
     "output_type": "stream",
     "text": [
      "/Users/shareshianl/anaconda/lib/python3.6/site-packages/ipykernel/__main__.py:3: SettingWithCopyWarning: \n",
      "A value is trying to be set on a copy of a slice from a DataFrame\n",
      "\n",
      "See the caveats in the documentation: http://pandas.pydata.org/pandas-docs/stable/indexing.html#indexing-view-versus-copy\n",
      "  app.launch_new_instance()\n"
     ]
    },
    {
     "data": {
      "text/html": [
       "<div>\n",
       "<table border=\"1\" class=\"dataframe\">\n",
       "  <thead>\n",
       "    <tr style=\"text-align: right;\">\n",
       "      <th></th>\n",
       "      <th>ranking</th>\n",
       "      <th>Intercept</th>\n",
       "      <th>positions[T.QB]</th>\n",
       "      <th>positions[T.RB]</th>\n",
       "      <th>positions[T.TE]</th>\n",
       "      <th>positions[T.WR]</th>\n",
       "    </tr>\n",
       "  </thead>\n",
       "  <tbody>\n",
       "    <tr>\n",
       "      <th>0</th>\n",
       "      <td>79</td>\n",
       "      <td>1.0</td>\n",
       "      <td>1.0</td>\n",
       "      <td>0.0</td>\n",
       "      <td>0.0</td>\n",
       "      <td>0.0</td>\n",
       "    </tr>\n",
       "    <tr>\n",
       "      <th>1</th>\n",
       "      <td>2</td>\n",
       "      <td>1.0</td>\n",
       "      <td>0.0</td>\n",
       "      <td>1.0</td>\n",
       "      <td>0.0</td>\n",
       "      <td>0.0</td>\n",
       "    </tr>\n",
       "    <tr>\n",
       "      <th>2</th>\n",
       "      <td>152</td>\n",
       "      <td>1.0</td>\n",
       "      <td>0.0</td>\n",
       "      <td>1.0</td>\n",
       "      <td>0.0</td>\n",
       "      <td>0.0</td>\n",
       "    </tr>\n",
       "    <tr>\n",
       "      <th>3</th>\n",
       "      <td>3</td>\n",
       "      <td>1.0</td>\n",
       "      <td>0.0</td>\n",
       "      <td>0.0</td>\n",
       "      <td>0.0</td>\n",
       "      <td>1.0</td>\n",
       "    </tr>\n",
       "    <tr>\n",
       "      <th>4</th>\n",
       "      <td>28</td>\n",
       "      <td>1.0</td>\n",
       "      <td>0.0</td>\n",
       "      <td>0.0</td>\n",
       "      <td>0.0</td>\n",
       "      <td>0.0</td>\n",
       "    </tr>\n",
       "  </tbody>\n",
       "</table>\n",
       "</div>"
      ],
      "text/plain": [
       "   ranking  Intercept  positions[T.QB]  positions[T.RB]  positions[T.TE]  \\\n",
       "0       79        1.0              1.0              0.0              0.0   \n",
       "1        2        1.0              0.0              1.0              0.0   \n",
       "2      152        1.0              0.0              1.0              0.0   \n",
       "3        3        1.0              0.0              0.0              0.0   \n",
       "4       28        1.0              0.0              0.0              0.0   \n",
       "\n",
       "   positions[T.WR]  \n",
       "0              0.0  \n",
       "1              0.0  \n",
       "2              0.0  \n",
       "3              1.0  \n",
       "4              0.0  "
      ]
     },
     "execution_count": 363,
     "metadata": {},
     "output_type": "execute_result"
    }
   ],
   "source": [
    "import patsy\n",
    "positions = patsy.dmatrix('positions',data=onehot,return_type='dataframe')\n",
    "onehot.drop(['positions'], axis=1, inplace=True)\n",
    "onehot = onehot.join(positions)\n",
    "onehot.head()"
   ]
  },
  {
   "cell_type": "markdown",
   "metadata": {},
   "source": [
    "29.Okay. Our input is going to be this matrix and our output is going to be the 2017 points. We'll need to download the scikit-learn package in order to use the the multiple linear regression model. scikit-learn is the most popular package for maching learning algorithms using Python. So exciting!!!\n",
    "\n",
    "Type this into your terminal:\n",
    "\n",
    "pip install -U scikit-learn\n",
    "\n",
    "Then, run the following code."
   ]
  },
  {
   "cell_type": "code",
   "execution_count": 369,
   "metadata": {},
   "outputs": [
    {
     "name": "stdout",
     "output_type": "stream",
     "text": [
      "R-squared 0.266204516204\n"
     ]
    }
   ],
   "source": [
    "from sklearn.linear_model import LinearRegression\n",
    "\n",
    "X = onehot\n",
    "y = results['2017 points']\n",
    "\n",
    "clf = LinearRegression()\n",
    "clf.fit(X, y)\n",
    "clf.predict(X)\n",
    "print('R-squared', clf.score(X,y))"
   ]
  },
  {
   "cell_type": "markdown",
   "metadata": {},
   "source": [
    "30.Wow! Our R-squared increased three-fold when we incorporated the player position into our input. Let's visualize what is going on with this multiple linear regression by creating the following plot below:"
   ]
  },
  {
   "cell_type": "code",
   "execution_count": 392,
   "metadata": {},
   "outputs": [
    {
     "data": {
      "text/plain": [
       "<matplotlib.legend.Legend at 0x112e02b00>"
      ]
     },
     "execution_count": 392,
     "metadata": {},
     "output_type": "execute_result"
    },
    {
     "data": {
      "image/png": "[encoded data removed]",
      "text/plain": [
       "<matplotlib.figure.Figure at 0x1126fefd0>"
      ]
     },
     "metadata": {},
     "output_type": "display_data"
    }
   ],
   "source": [
    "#Let's break things down by position:\n",
    "quarterbacks = results[results['positions'] == 'QB']\n",
    "runningbacks = results[results['positions'] == 'RB']\n",
    "receivers = results[results['positions'] == 'WR']\n",
    "tightends = results[results['positions'] == 'TE']\n",
    "kickers = results[results['positions'] == 'K']\n",
    "\n",
    "fig, ax = plt.subplots(figsize=(7,7))\n",
    "\n",
    "ax.scatter(quarterbacks.ranking, quarterbacks['2017 points'],  color='blue', label='qb')\n",
    "ax.scatter(runningbacks.ranking, runningbacks['2017 points'],  color='red', label='rb')\n",
    "ax.scatter(receivers.ranking, receivers['2017 points'],  color='yellow', label = 'wr')\n",
    "ax.scatter(tightends.ranking, tightends['2017 points'],  color='green', label = 'te')\n",
    "ax.scatter(kickers.ranking, kickers['2017 points'],  color='purple', label = 'k')\n",
    "ax.plot(X.ranking, clf.predict(X), 'k.', label = 'predictions')\n",
    "ax.set_xlabel('ESPN projected pre-season player ranking 2017')\n",
    "ax.set_ylabel('Total ESPN Fantasy Points that player scored in 2017')\n",
    "ax.set_title('Position matters!')\n",
    "ax.legend(loc='best')"
   ]
  },
  {
   "cell_type": "markdown",
   "metadata": {},
   "source": [
    "31.Explain in your own words why your multiple linear regression model is plotting the black dots in the manner that you see above."
   ]
  },
  {
   "cell_type": "code",
   "execution_count": null,
   "metadata": {
    "collapsed": true
   },
   "outputs": [],
   "source": [
    "#different linear lines for different positions"
   ]
  },
  {
   "cell_type": "markdown",
   "metadata": {},
   "source": [
    "Note: You've just explored the very beginnings of using Python to perform machine learning! Machine learning is a pretty ill defined term, but according to Wikipedia, \"Machine learning explores the construction and study of algorithms that can learn from and make predictions on data.\" \n",
    "\n",
    "You have just learned the multiple linear regression sci-kit learn method. There are many MUCH better methods (RidgeCV, GradientBoostingRegressor, etc.)\n",
    "\n",
    "There are also better measures for how well a model does. (The adjusted R-squared measure is MUCH better than the R-squared measure.)\n",
    "\n",
    "In addition, we just committed the cardinal sin of data science in the above example, which is to use our entire dataset to train our model. In practice, we should have used just a subset of the player data to train our model (i.e., to calculate the line of best fit) and then we should have calculated how well our model did at predicting the test set values (the players that we didn't include in our training model).\n",
    "\n",
    "To learn more, this is a great first tutorial on how to use sci-kit learn for machine learning:\n",
    "\n",
    "https://www.datacamp.com/community/tutorials/machine-learning-python\n",
    "\n",
    "More docs are here:\n",
    "\n",
    "http://scikit-learn.org/stable/tutorial/basic/tutorial.html\n",
    "\n",
    "And Andrew Ng's online Machine Learning course is famous:\n",
    "\n",
    "https://www.coursera.org/learn/machine-learning\n",
    "\n",
    "\n"
   ]
  },
  {
   "cell_type": "code",
   "execution_count": null,
   "metadata": {
    "collapsed": true
   },
   "outputs": [],
   "source": []
  }
 ],
 "metadata": {
  "kernelspec": {
   "display_name": "Python 3",
   "language": "python",
   "name": "python3"
  },
  "language_info": {
   "codemirror_mode": {
    "name": "ipython",
    "version": 3
   },
   "file_extension": ".py",
   "mimetype": "text/x-python",
   "name": "python",
   "nbconvert_exporter": "python",
   "pygments_lexer": "ipython3",
   "version": "3.6.0"
  }
 },
 "nbformat": 4,
 "nbformat_minor": 2
}
