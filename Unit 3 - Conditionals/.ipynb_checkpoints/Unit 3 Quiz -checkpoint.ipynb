{
 "cells": [
  {
   "cell_type": "markdown",
   "metadata": {},
   "source": [
    "### Question 1\n",
    "Soon, we will start web scraping and making API calls in order to get information off the internet. To do this, you'll need to know a bit about html encoding. Go to twitter.com and type in \"oregon episcopal school\" into the search bar and press enter. What does the URL look like? What happened to the spaces between oregon episcopal school? Type \"kanye west.\" What does the URL look like now? \n",
    "\n",
    "Write a program that asks for the user's search term and then returns the entire twitter search URL starting with \"https\" and ending with something like \"lang=en\" or \"src=typd\""
   ]
  },
  {
   "cell_type": "code",
   "execution_count": 43,
   "metadata": {},
   "outputs": [
    {
     "name": "stdout",
     "output_type": "stream",
     "text": [
      "search term: oregon episcopal school\n",
      "https://twitter.com/search?q=oregon%20episcopal%20school&src=typd\n"
     ]
    }
   ],
   "source": [
    "#insert question 1 here\n",
    "search = input('search term: ')\n",
    "words = search.split()\n",
    "url = 'https://twitter.com/search?q='\n",
    "for word in words:\n",
    "    url = url + word + '%20'\n",
    "url = url[0:-3]\n",
    "url = url + '&src=typd'\n",
    "print(url)"
   ]
  },
  {
   "cell_type": "markdown",
   "metadata": {},
   "source": [
    "### Question 2\n",
    "Write a program that asks for the user's favorite movie genre. If the person says \"comedy\", ask what their favorite comedic actor is. If they say \"Will Ferrell\", ask what their favorite Will Ferrell movie is. If they say \"Old School\", say \"You have awesome taste!\" Otherwise, say, \"Get some taste.\" Use a Boolean variable called good_taste."
   ]
  },
  {
   "cell_type": "code",
   "execution_count": 42,
   "metadata": {},
   "outputs": [
    {
     "name": "stdout",
     "output_type": "stream",
     "text": [
      "favorite genre? comedy\n",
      "favorite actor? Will Ferrell\n",
      "favorite movie?Old School\n",
      "good taste\n"
     ]
    }
   ],
   "source": [
    "#insert Question 2\n",
    "good_taste = False\n",
    "genre = input('favorite genre? ')\n",
    "if genre == 'comedy':\n",
    "    actor = input('favorite actor? ')\n",
    "    if actor == 'Will Ferrell':\n",
    "        movie = input('favorite movie?')\n",
    "        if movie == 'Old School':\n",
    "            good_taste = True\n",
    "if good_taste == True:\n",
    "    print('good taste')\n",
    "else:\n",
    "    print('bad taste')"
   ]
  },
  {
   "cell_type": "markdown",
   "metadata": {},
   "source": [
    "### Question 3\n",
    "Write a program that asks the user for two numbers and then returns all the primes between those two numbers (inclusive). For example, your code should work like this:\n",
    "\n",
    "First number: 5\n",
    "\n",
    "Second number: 16\n",
    "\n",
    "Primes: \n",
    "5\n",
    "\n",
    "7\n",
    "\n",
    "11\n",
    "\n",
    "13\n",
    "\n",
    "Hint: you'll probably need a for loop within a for loop."
   ]
  },
  {
   "cell_type": "code",
   "execution_count": 39,
   "metadata": {},
   "outputs": [
    {
     "name": "stdout",
     "output_type": "stream",
     "text": [
      "primes:\n",
      "5\n",
      "7\n",
      "11\n",
      "13\n"
     ]
    }
   ],
   "source": [
    "first = 5\n",
    "second = 16\n",
    "print('primes:')\n",
    "for i in range(first, second+1):\n",
    "    prime = True\n",
    "    for j in range(2,i):\n",
    "        if i % j == 0:\n",
    "            prime = False\n",
    "    if prime == True:\n",
    "        print (i)"
   ]
  },
  {
   "cell_type": "markdown",
   "metadata": {},
   "source": [
    "### Challenge:\n",
    "On your last problem set, you split number such as 574 into digits by first turning it into a string, then breaking it up into letters, and then turning each letter back into a number. However, you can use math instead to get each digit, rather than turning anything into a string. \n",
    "\n",
    "Use your math operations such as % or // to take a user's number between 0 and 999 and return the digits. For example, 574 should return 5, 7, and 4."
   ]
  },
  {
   "cell_type": "code",
   "execution_count": 41,
   "metadata": {},
   "outputs": [
    {
     "name": "stdout",
     "output_type": "stream",
     "text": [
      "5 7 4\n"
     ]
    }
   ],
   "source": [
    "i = 574\n",
    "print(i // 100, (i - (i // 100) * 100) // 10, (i - (i // 100) * 100 - ((i - (i // 100) * 100) // 10)*10))"
   ]
  }
 ],
 "metadata": {
  "kernelspec": {
   "display_name": "Python 3",
   "language": "python",
   "name": "python3"
  },
  "language_info": {
   "codemirror_mode": {
    "name": "ipython",
    "version": 3
   },
   "file_extension": ".py",
   "mimetype": "text/x-python",
   "name": "python",
   "nbconvert_exporter": "python",
   "pygments_lexer": "ipython3",
   "version": "3.7.3"
  }
 },
 "nbformat": 4,
 "nbformat_minor": 2
}
