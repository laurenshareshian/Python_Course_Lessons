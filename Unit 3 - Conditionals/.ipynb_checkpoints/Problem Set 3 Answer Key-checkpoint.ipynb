{
 "cells": [
  {
   "cell_type": "markdown",
   "metadata": {},
   "source": [
    "# Problem Set 3: Loops, Lists, Mod and Math"
   ]
  },
  {
   "cell_type": "markdown",
   "metadata": {},
   "source": [
    "--------\n",
    "### **Your Name**: \n",
    "--------"
   ]
  },
  {
   "cell_type": "markdown",
   "metadata": {},
   "source": [
    "### 1.) Repeat Exercise\n",
    "Write code that takes a string and capitalizes every occurrence of the FIRST letter AFTER the first occurrence of that letter. For example, \"babble\" would turn into \"baBBle\" and \"aardvark\" to \"aArdvArk\"."
   ]
  },
  {
   "cell_type": "code",
   "execution_count": 1,
   "metadata": {},
   "outputs": [
    {
     "name": "stdout",
     "output_type": "stream",
     "text": [
      "gimme a word: babble\n",
      "baBBle\n"
     ]
    }
   ],
   "source": [
    "#insert repeat exercise\n",
    "word = input('gimme a word: ')\n",
    "new_word = word[0]\n",
    "for i in range(1,len(word)):\n",
    "    if word[i] == word[0]:\n",
    "        new_word = new_word + word[i].upper()\n",
    "    else:\n",
    "        new_word = new_word + word[i]\n",
    "print(new_word)"
   ]
  },
  {
   "cell_type": "markdown",
   "metadata": {},
   "source": [
    "### 2.) Not Bad Exercise\n",
    "Write a program that takes a string and finds the first appearance of the word \"not\" and \"bad\". If \"bad\" follows \"not\", then replace \"not bad\" with \"good\". So, \"This dinner is not bad\" would become \"This dinner is good\". Or, \"This dinner is not so bad\" would also turn into \"This dinner is good.\" Hint: remember the .index() command."
   ]
  },
  {
   "cell_type": "code",
   "execution_count": 8,
   "metadata": {},
   "outputs": [
    {
     "name": "stdout",
     "output_type": "stream",
     "text": [
      "gimme a sentence: this dinner is not so bad but im still not hungry\n",
      "this dinner is good but im still not hungry\n"
     ]
    }
   ],
   "source": [
    "#insert not bad exercise\n",
    "sentence = input('gimme a sentence: ')\n",
    "if 'not' in sentence and 'bad' in sentence:\n",
    "    not_index = sentence.index('not')\n",
    "    bad_index = sentence.index('bad')\n",
    "    if not_index < bad_index:\n",
    "        print(sentence[0:not_index]+'good'+sentence[bad_index + 3:] )"
   ]
  },
  {
   "cell_type": "markdown",
   "metadata": {},
   "source": [
    "### 3a.) Python is the best exercise\n",
    "Ask a user what their favorite class is. If they say \"computer science\", then ask them what their favorite programming language is. If they say \"Python\", then print \"You have awesome taste!\" If they don't say computer science or they don't say Python, print \"You should get some taste.\" Do this exercise with if/then statements and no stored Boolean variables."
   ]
  },
  {
   "cell_type": "code",
   "execution_count": 9,
   "metadata": {},
   "outputs": [
    {
     "name": "stdout",
     "output_type": "stream",
     "text": [
      "What is your favorite class? computer science\n",
      "What is your favorite language? c++\n",
      "You should get some taste.\n"
     ]
    }
   ],
   "source": [
    "#insert 3a\n",
    "myclass = input('What is your favorite class? ')\n",
    "if myclass == 'computer science':\n",
    "    language = input('What is your favorite language? ')\n",
    "    if language == 'Python':\n",
    "        print('You have awesome taste!')\n",
    "    else: \n",
    "        print('You should get some taste.')\n",
    "else:\n",
    "    print('You should get some taste.')"
   ]
  },
  {
   "cell_type": "markdown",
   "metadata": {},
   "source": [
    "### 3b.) Python is the best again\n",
    "Repeat the previous exercise except now use a Boolean called good_taste, that is set to either True or False."
   ]
  },
  {
   "cell_type": "code",
   "execution_count": 10,
   "metadata": {},
   "outputs": [
    {
     "name": "stdout",
     "output_type": "stream",
     "text": [
      "What is your favorite class? computer science\n",
      "What is your favorite language? c++\n",
      "You should get some taste.\n"
     ]
    }
   ],
   "source": [
    "#insert 3b\n",
    "good_taste = False\n",
    "myclass = input('What is your favorite class? ')\n",
    "if myclass == 'computer science':\n",
    "    language = input('What is your favorite language? ')\n",
    "    if language == 'Python':\n",
    "        good_taste = True\n",
    "if good_taste ==True:\n",
    "    print('You have good taste!')\n",
    "else:\n",
    "    print('You should get some taste.')"
   ]
  },
  {
   "cell_type": "markdown",
   "metadata": {},
   "source": [
    "### 4.) Exercise - front back\n",
    "Divide a user's two strings into two halves. If a string is odd, give the middle letter to the first half. For example, \"abcde\" would get divided into \"abc\" and \"de\". Print the first two halves and then the second two halves in one combined string. For example, the strings \"abcde\" and \"xy\" would return \"abcxdey\"."
   ]
  },
  {
   "cell_type": "code",
   "execution_count": 15,
   "metadata": {},
   "outputs": [
    {
     "name": "stdout",
     "output_type": "stream",
     "text": [
      "gimme the first string: abcde\n",
      "gimme the second string: xy\n",
      "abcxdey\n"
     ]
    }
   ],
   "source": [
    "#insert front back\n",
    "string1 = input('gimme the first string: ')\n",
    "string2 = input('gimme the second string: ')\n",
    "string1first = string1[0:(len(string1)+1)//2]\n",
    "string1second = string1[(len(string1)+1)//2:]\n",
    "string2first = string2[0:(len(string2)+1)//2]\n",
    "string2second = string2[(len(string2)+1)//2:]\n",
    "print(string1first+string2first+string1second+string2second)"
   ]
  },
  {
   "cell_type": "markdown",
   "metadata": {},
   "source": [
    "### 5.) Exercise - pay\n",
    "Write a program that asks the user for their pay rate and the numbers of hours worked. Write a program that prints out their total pay if they get their normal pay rate for the first 40 hours worked and 1.5 times their hourly rate for any overtime hours worked. Use modulo."
   ]
  },
  {
   "cell_type": "code",
   "execution_count": 20,
   "metadata": {},
   "outputs": [
    {
     "name": "stdout",
     "output_type": "stream",
     "text": [
      "How many hours? 60\n",
      "What is your rate? 8\n",
      "560.0\n",
      "8.0\n",
      "240.0\n"
     ]
    }
   ],
   "source": [
    "#insert pay\n",
    "hours = int(input('How many hours? '))\n",
    "rate = float(input('What is your rate? '))\n",
    "print((hours//40)*rate*40 + (hours % 40)*1.5*rate)"
   ]
  },
  {
   "cell_type": "markdown",
   "metadata": {},
   "source": [
    "### 6.) Exercise - prime\n",
    "Take in a user's number and determine if it is prime using a Boolean variable. A prime number has only 1 and itself as factors. "
   ]
  },
  {
   "cell_type": "code",
   "execution_count": 25,
   "metadata": {},
   "outputs": [
    {
     "name": "stdout",
     "output_type": "stream",
     "text": [
      "gimme a number: 7\n",
      "your number is prime\n"
     ]
    }
   ],
   "source": [
    "#insert prime\n",
    "number = int(input('gimme a number: '))\n",
    "prime = True\n",
    "for i in range(2,number):\n",
    "    if number % i == 0:\n",
    "        prime = False\n",
    "if prime == True:\n",
    "    print('your number is prime')\n",
    "else:\n",
    "    print('your number is not prime')"
   ]
  },
  {
   "cell_type": "markdown",
   "metadata": {},
   "source": [
    "### 7) Factor Pairs\n",
    "\n",
    "Write a program that takes a positive whole number from the user and returns **ALL** the factor pairs for that number, **without repeating any pairs**.  Your result will look something like this:\n",
    "\n",
    "\n",
    "    Give me a whole number: 144\n",
    "    \n",
    "    Factor pairs of 144: \n",
    "        1,144\n",
    "        2,72\n",
    "        3,48\n",
    "        4,36\n",
    "        6,24\n",
    "        8,18\n",
    "        9,16\n",
    "        12,12\n",
    "    144 has 8 factor pairs!\n",
    "        \n",
    "If the number entered has only one factor pair (1,n) then your program should indicate that this number is prime (if it is greater than 1).\n",
    "\n",
    "    Give me a whole number: 37\n",
    "    \n",
    "    Factor pairs of 37: \n",
    "        1,37\n",
    "    \n",
    "    37 is a prime number!\n"
   ]
  },
  {
   "cell_type": "code",
   "execution_count": 34,
   "metadata": {},
   "outputs": [
    {
     "name": "stdout",
     "output_type": "stream",
     "text": [
      "Give me a whole number: 16\n",
      "Factor pairs of 16:\n",
      "1 16\n",
      "2 8\n",
      "4 4\n",
      "16 has 3 factor pairs!\n"
     ]
    }
   ],
   "source": [
    "import math\n",
    "#Factor Pairs code goes here\n",
    "number = int(input('Give me a whole number: '))\n",
    "print('Factor pairs of', str(number)+':')\n",
    "print(1,number)\n",
    "count = 1\n",
    "prime = True\n",
    "for i in range(2,int(math.sqrt(number))+1):\n",
    "    if number % i == 0:\n",
    "        prime = False\n",
    "        print(i, int(number / i))\n",
    "        count = count + 1\n",
    "if prime == True:\n",
    "    print(number, 'is a prime number!')\n",
    "else:\n",
    "    print(number, 'has', count, 'factor pairs!')"
   ]
  },
  {
   "cell_type": "markdown",
   "metadata": {},
   "source": [
    "### 8) Another Sum of Multiples\n",
    "\n",
    "Write a program that finds the sum of all the numbers between 1 and 10,000 (inclusive) that are a multiple of EITHER 3 or 5.  For example, the sum of the multiples of 3 and 5 between 1 and 10 are:\n",
    "\n",
    "$3+5+6+9+10=33$ \n",
    "\n",
    "Your result should simply print:\n",
    "\n",
    "    The sum of the numbers between 1 and 10,000 (inclusive) that are multiples of 3 or 5 is: _____________"
   ]
  },
  {
   "cell_type": "code",
   "execution_count": 38,
   "metadata": {},
   "outputs": [
    {
     "name": "stdout",
     "output_type": "stream",
     "text": [
      "Sum of the numbers between 1 and 10000 inclusive that are multiples of 3 or 5 is: 23341668\n"
     ]
    }
   ],
   "source": [
    "#Sum of multiples code\n",
    "sum = 0\n",
    "for i in range(10001):\n",
    "    if i % 3 == 0 or i % 5 == 0:\n",
    "        sum = sum + i\n",
    "print('Sum of the numbers between 1 and 10000 inclusive that are multiples of 3 or 5 is:', sum)\n"
   ]
  },
  {
   "cell_type": "markdown",
   "metadata": {},
   "source": [
    "### 9)  The Sum of Fifth Powers\n",
    "#### (inspired by a Project Euler Problem)\n",
    "\n",
    "There are only 3 numbers that can be written as the sum of the fourth power of their digits.  Two of them are:\n",
    "\n",
    "$1634 = 1^4 + 6^4 + 3^4 + 4^4$\n",
    "\n",
    "$8208 = 8^4 + 2^4 + 0^4 + 8^4$\n",
    "\n",
    "You job is to write a program that finds 6 numbers under 200,000 that can be written as the **sum of the fifth power of their digits** e.g.:\n",
    "\n",
    "$ABCD = A^5+B^5+C^5+D^5$\n"
   ]
  },
  {
   "cell_type": "code",
   "execution_count": 39,
   "metadata": {},
   "outputs": [
    {
     "name": "stdout",
     "output_type": "stream",
     "text": [
      "0\n",
      "1\n",
      "4150\n",
      "4151\n",
      "54748\n",
      "92727\n",
      "93084\n",
      "194979\n"
     ]
    }
   ],
   "source": [
    "#Sum of Fifth Power Code\n",
    "for i in range(200000):\n",
    "    mystring = str(i)\n",
    "    mylist = list(mystring)\n",
    "    mysum = 0\n",
    "    for number in mylist:\n",
    "        mysum = mysum + int(number)**5\n",
    "    if mysum == i:\n",
    "        print(i)\n",
    "        \n"
   ]
  },
  {
   "cell_type": "markdown",
   "metadata": {},
   "source": [
    "### Challenge:  Building an Efficient Network\n",
    "\n",
    "High speed stock traders on Wall Street pay big money to get their servers as close to the exchanges as possible so their trades will arrive milliseconds before other trades arrive.  Setting aside the ethical problems inherent in this tactic (for the sake of this problem, at least), you have been tasked with finding the optimum location to place your server cluster to minimize the average distance to a collection of trading markets around you.\n",
    "\n",
    "Each exchange is a node on the network, and you can choose to place your server cluster at any of those locations.\n",
    "\n",
    "To simplify the problem, we will say that you can build a straight line connection between your location and every other location, with your chosen location being the hub.  Your network is like the centralized network (a) shown below:\n",
    "\n",
    "![Network Image](http://nefke.nesawg.org/sites/default/files/network-types.png)\n",
    "\n",
    "The location of each exchange will be given as a point on an x,y coordinate plane.  Each point will be a list which is an element of a list of ALL the points.  The units are kilometers.  **Your job is to print the point with the shortest average distance to all the other points and print out the average distance**.  The sample below gives 2 sample sets of data points, but the final solution will be run with a different and larger set of points.  Note: you do NOT actually have to print a graph, but you might want to add that functionality once we learn how to plot points."
   ]
  },
  {
   "cell_type": "code",
   "execution_count": 16,
   "metadata": {},
   "outputs": [
    {
     "name": "stdout",
     "output_type": "stream",
     "text": [
      "10 -3 41.523201589525726\n"
     ]
    }
   ],
   "source": [
    "#optimum network code\n",
    "#sample collection of nodes\n",
    "#sample 1\n",
    "exchange_locations=[[-13, 16], [-36, -29], [-11, -37], [-29, -42], [48, -9], [41, -18], [10, -3], [46, -18], [45, -15], [11, 44]]\n",
    "#sample 2, if you want another example (should return [-8,-15])\n",
    "#exchange_locations=[[46, 16], [3, 37], [-44, -15], [-42, 42], [-8, -15], [7, 29], [-5, -26], [-41, 40], [-41, -27], [-45, 24], [22, -30], [-11, -19], [-2, -31], [1, -30], [18, 46]]\n",
    "\n",
    "'''\n",
    "sample 1 should produce this result:\n",
    "\n",
    "    The best node for your cluster is [10, -3] which has an average distance of 41.52 km\n",
    "\n",
    "'''\n",
    "min_dist = 1000\n",
    "min_x = 0\n",
    "min_y = 0\n",
    "import math\n",
    "for hub in exchange_locations:\n",
    "        av_distance = 0\n",
    "        for exchange in exchange_locations:\n",
    "            av_distance = av_distance + math.sqrt((hub[0]-exchange[0])**2+(hub[1]-exchange[1])**2)\n",
    "        av_distance = av_distance/(len(exchange_locations)-1)\n",
    "        if av_distance < min_dist:\n",
    "            min_dist = av_distance\n",
    "            min_x = hub[0]\n",
    "            min_y = hub[1]\n",
    "print(min_x, min_y, min_dist)\n",
    "            "
   ]
  },
  {
   "cell_type": "code",
   "execution_count": null,
   "metadata": {},
   "outputs": [],
   "source": [
    "\n",
    "            "
   ]
  },
  {
   "cell_type": "code",
   "execution_count": null,
   "metadata": {
    "collapsed": true
   },
   "outputs": [],
   "source": []
  }
 ],
 "metadata": {
  "kernelspec": {
   "display_name": "Python 3",
   "language": "python",
   "name": "python3"
  },
  "language_info": {
   "codemirror_mode": {
    "name": "ipython",
    "version": 3
   },
   "file_extension": ".py",
   "mimetype": "text/x-python",
   "name": "python",
   "nbconvert_exporter": "python",
   "pygments_lexer": "ipython3",
   "version": "3.6.0"
  }
 },
 "nbformat": 4,
 "nbformat_minor": 1
}
