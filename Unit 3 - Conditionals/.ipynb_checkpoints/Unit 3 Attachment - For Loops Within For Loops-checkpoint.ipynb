{
 "cells": [
  {
   "cell_type": "markdown",
   "metadata": {},
   "source": [
    "Recall that to test whether a number is prime or not, we wrote this code:"
   ]
  },
  {
   "cell_type": "code",
   "execution_count": 4,
   "metadata": {},
   "outputs": [
    {
     "name": "stdout",
     "output_type": "stream",
     "text": [
      "What is your number? 5\n",
      "Your number is prime.\n"
     ]
    }
   ],
   "source": [
    "number = int(input('What is your number? '))\n",
    "prime = True\n",
    "for i in range(2,number):\n",
    "    if number % i == 0:\n",
    "        prime = False\n",
    "if prime == True:\n",
    "    print('Your number is prime.')\n",
    "else:\n",
    "    print('Your number is not prime.')"
   ]
  },
  {
   "cell_type": "markdown",
   "metadata": {},
   "source": [
    "What if we wanted to find all prime numbers between a user's two given numbers? We would need a for loop within a for loop:"
   ]
  },
  {
   "cell_type": "code",
   "execution_count": 10,
   "metadata": {},
   "outputs": [
    {
     "name": "stdout",
     "output_type": "stream",
     "text": [
      "What is your first number? 3\n",
      "What is your second number? 9\n",
      "3\n",
      "5\n",
      "7\n"
     ]
    }
   ],
   "source": [
    "first = int(input('What is your first number? '))\n",
    "second = int(input('What is your second number? '))\n",
    "for i in range(first,second+1):\n",
    "    prime = True\n",
    "    for j in range(2,i):\n",
    "        if i % j == 0:\n",
    "            prime = False\n",
    "    if prime == True:\n",
    "        print(i)\n",
    "\n"
   ]
  },
  {
   "cell_type": "markdown",
   "metadata": {},
   "source": [
    "### Exercise 1:\n",
    "Ask a user for two numbers. Print all of the multiples of 3 between those two numbers (inclusive)."
   ]
  },
  {
   "cell_type": "code",
   "execution_count": 11,
   "metadata": {
    "collapsed": true
   },
   "outputs": [],
   "source": [
    "#insert Exercise 1"
   ]
  },
  {
   "cell_type": "markdown",
   "metadata": {},
   "source": [
    "### Exercise 2:\n",
    "Ask a user for two numbers. Print all odd numbers between those two numbers (inclusive)."
   ]
  },
  {
   "cell_type": "code",
   "execution_count": 12,
   "metadata": {
    "collapsed": true
   },
   "outputs": [],
   "source": [
    "#insert Exercise 2"
   ]
  },
  {
   "cell_type": "markdown",
   "metadata": {},
   "source": [
    "### Exercise 3:\n",
    "Take in a user's list of words. Print all of the words that contain a \"z\" in them. For example:\n",
    "\n",
    "Input: \n",
    "\n",
    "words = ['xanadu', 'banana', 'xray', 'telephone', 'excited']\n",
    "\n",
    "Output:\n",
    "\n",
    "xanadu\n",
    "\n",
    "xray\n",
    "\n",
    "excited\n",
    "\n",
    "(Note: you can do this by just saying \"if 'x' in word\", however, we would like you to use a second for loop.)"
   ]
  },
  {
   "cell_type": "code",
   "execution_count": null,
   "metadata": {
    "collapsed": true
   },
   "outputs": [],
   "source": [
    "#insert exercise 3"
   ]
  },
  {
   "cell_type": "markdown",
   "metadata": {},
   "source": [
    "### Exercise 4:\n",
    "Take in a user's list of sentences. Print out each sentence that contains an \"x\". For example,\n",
    "\n",
    "Input:\n",
    "\n",
    "sentences = ['I love x-rays', 'I am excited', 'My name is Lauren.\"]\n",
    "\n",
    "Output:\n",
    "\n",
    "'I love x-rays.'\n",
    "\n",
    "'I am excited.'\n",
    "\n",
    "Use three nested for loops."
   ]
  },
  {
   "cell_type": "code",
   "execution_count": null,
   "metadata": {
    "collapsed": true
   },
   "outputs": [],
   "source": [
    "#insert exercise 4"
   ]
  }
 ],
 "metadata": {
  "kernelspec": {
   "display_name": "Python 3",
   "language": "python",
   "name": "python3"
  },
  "language_info": {
   "codemirror_mode": {
    "name": "ipython",
    "version": 3
   },
   "file_extension": ".py",
   "mimetype": "text/x-python",
   "name": "python",
   "nbconvert_exporter": "python",
   "pygments_lexer": "ipython3",
   "version": "3.6.0"
  }
 },
 "nbformat": 4,
 "nbformat_minor": 2
}
