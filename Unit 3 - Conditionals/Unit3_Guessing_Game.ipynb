{
 "cells": [
  {
   "cell_type": "markdown",
   "metadata": {},
   "source": [
    "## Creating a Guessing Game \n",
    "\n",
    "Your job is to create a mildly entertaining guessing game.\n",
    "\n",
    "The basic game is just \"guess my number.\"  When you run the program, the program will ask you to guess a number between 1 and 100.  The user will keep guessing until they get it right or they have guessed more than `n` times (you decide how many times).  A game might look like this:\n",
    "\n",
    "\n",
    "    Guess a number between 1 and 100:  40\n",
    "    Sorry, that's not it :(\n",
    "    Guess again:  60\n",
    "    Sorry, that's not it :(\n",
    "    Sorry, that's not it :(\n",
    "    Guess again:  58\n",
    "    Sorry, that's not it :(\n",
    "    Sorry, that's not it :(\n",
    "    Guess again:  31\n",
    "\n",
    "    ********************\n",
    "    Yes! You got it, the number was 31!  Congratualations!\n",
    "    ********************\n",
    "\n",
    "\n",
    "Of course, this is too basic.  To improve the game, add improvements 1 at a time:\n",
    "* After a guess, tell the user the number is higher or lower\n",
    "* Add an intro splash screen when the program starts\n",
    "* Keep track of the number of guesses the player used and display that at the end\n",
    "* Provide different clues if the user is close or far away from the number (cold, hot, hotter, really cold, frigid, boiling, etc)\n",
    "* Sometimes provide different feedback or random or comments to keep the game interesting.\n",
    "* Add the option at the beginning to select Easy, Medium or Hard that changes the range from 1-10, 1-100, or 1-1000, or 1-1,000,000\n",
    "* Add your own improvements to the game!\n",
    "\n",
    "A grading rubric is available in Google Classroom.\n",
    "\n",
    "In addition to conditionals and random integer and other things we have already learned, you will need to know how to use a `while` loop.  There is an example of this below:"
   ]
  },
  {
   "cell_type": "code",
   "execution_count": null,
   "metadata": {},
   "outputs": [],
   "source": [
    "## here is an example while loop\n",
    "\n",
    "x = int(input(\"Give me a nice number\"))\n",
    "while x != 5:\n",
    "    x = int(input(\"Sorry, please give me another number\"))\n",
    "print(\"Thank you for giving me 5\")\n"
   ]
  },
  {
   "cell_type": "code",
   "execution_count": 8,
   "metadata": {},
   "outputs": [],
   "source": [
    "## Guessing Game 0.0\n",
    "## Developed by: < Your Name and Partner Name Here >\n",
    "\n",
    "'''\n",
    "Document your planning and improvements here in this long-comment block:\n",
    "TODO: Get basic game to work\n",
    "TODO: improvement 1\n",
    "TODO: improvement 2\n",
    "TODO: improvement 3\n",
    "TODO: etc\n",
    "'''\n",
    "\n",
    "## Put your Guessing Game code below\n",
    "\n"
   ]
  },
  {
   "cell_type": "code",
   "execution_count": null,
   "metadata": {},
   "outputs": [],
   "source": []
  }
 ],
 "metadata": {
  "kernelspec": {
   "display_name": "Python 3",
   "language": "python",
   "name": "python3"
  },
  "language_info": {
   "codemirror_mode": {
    "name": "ipython",
    "version": 3
   },
   "file_extension": ".py",
   "mimetype": "text/x-python",
   "name": "python",
   "nbconvert_exporter": "python",
   "pygments_lexer": "ipython3",
   "version": "3.8.3"
  },
  "toc": {
   "base_numbering": 1,
   "nav_menu": {},
   "number_sections": false,
   "sideBar": true,
   "skip_h1_title": false,
   "title_cell": "Table of Contents",
   "title_sidebar": "Contents",
   "toc_cell": false,
   "toc_position": {},
   "toc_section_display": true,
   "toc_window_display": false
  }
 },
 "nbformat": 4,
 "nbformat_minor": 2
}
