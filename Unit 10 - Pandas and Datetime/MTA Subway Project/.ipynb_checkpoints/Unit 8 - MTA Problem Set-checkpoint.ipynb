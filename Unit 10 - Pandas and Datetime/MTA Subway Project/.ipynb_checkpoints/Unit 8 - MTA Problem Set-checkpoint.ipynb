{
 "cells": [
  {
   "cell_type": "markdown",
   "metadata": {},
   "source": [
    "1.Save the Saturday, June 17th, 2017 data to a csv file. You can find it here: http://web.mta.info/developers/turnstile.html and read it in using read_csv. View the head of the dataframe."
   ]
  },
  {
   "cell_type": "code",
   "execution_count": 1,
   "metadata": {},
   "outputs": [],
   "source": [
    "#insert 1"
   ]
  },
  {
   "cell_type": "markdown",
   "metadata": {},
   "source": [
    "2.View the dataframe columns. Is there extra whitespace at the end of any of the column names? Strip all of the whitespace."
   ]
  },
  {
   "cell_type": "code",
   "execution_count": 2,
   "metadata": {},
   "outputs": [],
   "source": [
    "#insert 2"
   ]
  },
  {
   "cell_type": "markdown",
   "metadata": {},
   "source": [
    "3.In one line, determine how many rows are in your dataframe and if there are are any null entries."
   ]
  },
  {
   "cell_type": "code",
   "execution_count": 3,
   "metadata": {},
   "outputs": [],
   "source": [
    "#insert 3"
   ]
  },
  {
   "cell_type": "markdown",
   "metadata": {},
   "source": [
    "4.In one line, print out the unique STATION names. How many are there? (Hint: use set)."
   ]
  },
  {
   "cell_type": "code",
   "execution_count": 4,
   "metadata": {},
   "outputs": [],
   "source": [
    "#insert 4"
   ]
  },
  {
   "cell_type": "markdown",
   "metadata": {},
   "source": [
    "5.Okay, so we understand what station represents. But what the heck are C/A, UNIT, and SCP? Keep in mind that in the larger stations, you might have multiple areas within one station that look like this:\n",
    "\n",
    "<img src=\"image.jpg\" style=\"width: 300px;\"/>\n",
    "\n",
    "Further complicating things, there are a few station names like 14TH ST that refer to more than one station location along that street.\n",
    "\n",
    "This data set is not very well documented. Welcome to the joys of real world data science!!!\n",
    "\n",
    "Read the following two links carefully to see other people's confusion and what information they have been able to gather:\n",
    "\n",
    "https://groups.google.com/forum/#!topic/mtadeveloperresources/AMVx2WUY9iI\n",
    "\n",
    "https://groups.google.com/forum/#!searchin/mtadeveloperresources/%22remote$20unit%22%7Csort:relevance/mtadeveloperresources/z8l3ZU9cY6Y/OFlHGkFAimQJ\n",
    "\n",
    "What did Patrick O'Hara and Katie Toth have to say?"
   ]
  },
  {
   "cell_type": "code",
   "execution_count": 5,
   "metadata": {
    "collapsed": true
   },
   "outputs": [],
   "source": [
    "#insert 5"
   ]
  },
  {
   "cell_type": "markdown",
   "metadata": {},
   "source": [
    "6.To simplify our calculations right now, let's only look at ridership on Monday, June 12th, 2017. In one line, create a dataset called monday that just includes the dates listed as 06/12/2017.\n",
    "\n",
    "Then, use the command \"monday = monday.reset_index(drop=True)\" to reset the index."
   ]
  },
  {
   "cell_type": "code",
   "execution_count": 5,
   "metadata": {},
   "outputs": [],
   "source": [
    "#insert 6"
   ]
  },
  {
   "cell_type": "markdown",
   "metadata": {},
   "source": [
    "7.Create a dictionary called monday_dict mapping the tuple (C/A, UNIT,SCP, STATION) to a list of tuples containing (TIME,EXITS).\n",
    "\n",
    "For example, the key ('A002', 'R051', '02-00'00','59 ST') in your dictionary should give the value:\n",
    "\n",
    "[('00:00:00', 2104727),\n",
    " ('04:00:00', 2104729),\n",
    " ('08:00:00', 2104813),\n",
    " ('12:00:00', 2105024),\n",
    " ('16:00:00', 2105081),\n",
    " ('20:00:00', 2105134)]"
   ]
  },
  {
   "cell_type": "code",
   "execution_count": 6,
   "metadata": {},
   "outputs": [],
   "source": [
    "#insert 7"
   ]
  },
  {
   "cell_type": "markdown",
   "metadata": {},
   "source": [
    "8.Note: as you get more comfortable with pandas, you will rely more on built-in pandas capabilities and less on creating dictionaries from scratch. For example, run the following lines of code to verify that this dataframe gives you the same info that you got in Exercise 7."
   ]
  },
  {
   "cell_type": "code",
   "execution_count": null,
   "metadata": {},
   "outputs": [],
   "source": [
    "x=monday.groupby(['C/A', 'UNIT', 'SCP', 'STATION']).groups #the keys are the station pairs and the values are the row indices\n",
    "flds = ['TIME','EXITS'] #we want to make values out of the remaining columns\n",
    "monday_exits = {key: monday.loc[val,flds] for key, val in x.items()}\n",
    "monday_exits[('A002', 'R051', '02-00-00','59 ST')]"
   ]
  },
  {
   "cell_type": "markdown",
   "metadata": {},
   "source": [
    "9.What the heck do these exit numbers represent? We can assume that they represent some sort of counter on the turnstile. We can subtract the exits at t=20 minus t=0 to figure out how many riders exited this turnstile between midnight and 8 pm.\n",
    "\n",
    "Can we calculate 20 - 0 for all of the stations? No! Unfortunately, the time increments aren't standardized. Many of the times are listed in 4 hour intervals of midnight, 4 am, 8 am, etc but not all. Make a frequency chart of the times for the monday dataframe from Exercise 6.\n",
    "\n"
   ]
  },
  {
   "cell_type": "code",
   "execution_count": 7,
   "metadata": {},
   "outputs": [],
   "source": [
    "#insert 9"
   ]
  },
  {
   "cell_type": "markdown",
   "metadata": {},
   "source": [
    "10.Use your monday_dict from Exercise 7 to create a dictionary called monday_dict_diff that maps (C/A, UNIT, SCP, STATION) to the differences in exits between two consective times in order to see how many people exited through a turnstile within a given time interval.\n",
    "\n",
    "For example, the key ('A002', 'R051', '02-00-00','59 ST') should map to:\n",
    "\n",
    "[('04:00:00', 2),\n",
    " ('08:00:00', 84),\n",
    " ('12:00:00', 211),\n",
    " ('16:00:00', 57),\n",
    " ('20:00:00', 53)]"
   ]
  },
  {
   "cell_type": "code",
   "execution_count": 8,
   "metadata": {},
   "outputs": [],
   "source": [
    "#insert 10"
   ]
  },
  {
   "cell_type": "markdown",
   "metadata": {},
   "source": [
    "11.Once again, note that pandas can do the above calculation for you. If you used the monday_exits dataframe from Exercise 8, run the following code to verify that you obtain what you just got in Exercise 10. It may take a bit longer to run."
   ]
  },
  {
   "cell_type": "code",
   "execution_count": null,
   "metadata": {},
   "outputs": [],
   "source": [
    "monday_diff = {}\n",
    "\n",
    "for turnstile, slice_df in monday_exits.items():\n",
    "    diff = slice_df['EXITS'].diff().values #calculates the exit difference between each entry\n",
    "    monday_diff[turnstile] = pd.Series(diff, index=slice_df['TIME'].values) #maps turnstile to (time, exit difference) pairs\n",
    "    for i,(key, val) in enumerate(monday_diff[turnstile].items()):\n",
    "        try: #need a try because you'll get an error for NAN difference values since there is one less difference than the number of times\n",
    "            monday_exits[turnstile].at[i,'EXITS'] = val\n",
    "        except:\n",
    "            continue\n",
    "    monday_exits[turnstile] = monday_exits[turnstile].drop(0)    #drop the first time because you only calculate differences after the second time.                   \n",
    "    \n",
    "monday_exits[('A002', 'R051', '02-00-00', '59 ST')]"
   ]
  },
  {
   "cell_type": "markdown",
   "metadata": {},
   "source": [
    "12.Find how many people in total passed through a given turnstile between the hours given for 06/12/2017. For example, if a turnstile is on increments of 0,4,8,...,20, then you want to find out how many total people passed through between midnight and 8 pm. Create a dictionary called total_turnstile that maps (C/A,UNIT,SCP,STATION) to total Monday ridership. Use your dictionary from Exercise 10.\n",
    "\n",
    "Hint: the key ('A002', 'R051', '02-00-00', '59 ST') should map to 407 total riders."
   ]
  },
  {
   "cell_type": "code",
   "execution_count": 9,
   "metadata": {},
   "outputs": [],
   "source": [
    "#insert 12"
   ]
  },
  {
   "cell_type": "markdown",
   "metadata": {},
   "source": [
    "13.Use your work in Exercise 12 to create a dictionary called total_riders that maps the (C/A, UNIT, STATION) location to all riders that passed through ALL of the turnstiles in that area on Monday.\n",
    "\n",
    "Hint 1: use the get command\n",
    "\n",
    "Hint 2: ('A002', 'R051', '59 ST') should have 6704 total riders."
   ]
  },
  {
   "cell_type": "code",
   "execution_count": 10,
   "metadata": {},
   "outputs": [],
   "source": [
    "#insert 13"
   ]
  },
  {
   "cell_type": "markdown",
   "metadata": {},
   "source": [
    "14.Create a list of tuples called tuple_list using your total_riders dictionary so that you can sort the list in decending order to see busiest stations. Hint: the busiest area should be the PATH World Trade Center station."
   ]
  },
  {
   "cell_type": "code",
   "execution_count": 11,
   "metadata": {},
   "outputs": [],
   "source": [
    "#insert 14"
   ]
  },
  {
   "cell_type": "markdown",
   "metadata": {},
   "source": [
    "15.Look at the three smallest riderships in your above tuple list. Do they make sense? What about your data caused negative numbers? Welcome to the world of buggy real world data! Remove these three items from your tuple list."
   ]
  },
  {
   "cell_type": "code",
   "execution_count": 12,
   "metadata": {},
   "outputs": [],
   "source": [
    "#insert 15"
   ]
  },
  {
   "cell_type": "markdown",
   "metadata": {},
   "source": [
    "16.Create a barchart for the number of riders. You don't need to keep track of the names of each station, as that would get really messy to plot. Instead, you can just use a list comprehension to save the rider numbers to the y-values and give the stations the numbers 0,1,2,3,... for the x-values. You can use the following piece of code. Remember to add in axis labels and a title.\n",
    "\n",
    "x = range(len(tuple_list))\n",
    "\n",
    "y = [tuple_list[i][0] for i in range(len(tuple_list))]\n",
    "\n",
    "plt.bar(x,y)"
   ]
  },
  {
   "cell_type": "code",
   "execution_count": 13,
   "metadata": {},
   "outputs": [],
   "source": [
    "#insert 16"
   ]
  },
  {
   "cell_type": "markdown",
   "metadata": {},
   "source": [
    "17.Perhaps we don't care about total ridership in a 24 period. Perhaps we only care about the morning commute. Let's assume that the majority of people arrive at their work location subway exit between 8 and 9 am.  \n",
    "\n",
    "Go back up to your frequency chart in Exercise 9. Note that the most common morning commutes would be gained from subtracting 9 am - 5 am and 10 am - 6 am and 11 am - 7 am and 12pm - 8am, for the stations that are broken down by those specific four hour intervals.\n",
    "\n",
    "As a dirty way to consider only the stations that are on these time intervals, save just the rows in your original monday dataframe that contain the TIME strings '05:00:00', '06:00:00',..., '12:00:00'. Remember you can do this by using OR statements using the \"|\" symbol and remembering parenthesis. Call this new dataframe \"morning\". Be sure to reset its index."
   ]
  },
  {
   "cell_type": "code",
   "execution_count": 14,
   "metadata": {
    "collapsed": true
   },
   "outputs": [],
   "source": [
    "#insert 17"
   ]
  },
  {
   "cell_type": "markdown",
   "metadata": {},
   "source": [
    "18.Now create a morning_dict by repeating your work in Exercise 7 on this morning dataframe. The dictionary should map the tuple (C/A, UNIT, SCP,STATION) to an inner dictionary containing {TIME: EXITS} for all Monday rides.\n",
    "\n",
    "Hint: ('A002', 'R051', '02-00-00','59 ST') should map to {'08:00:00': 2104813, '12:00:00': 2105024}."
   ]
  },
  {
   "cell_type": "code",
   "execution_count": 15,
   "metadata": {},
   "outputs": [],
   "source": [
    "#insert 18"
   ]
  },
  {
   "cell_type": "markdown",
   "metadata": {},
   "source": [
    "19.We're almost ready to subtract the two consecutive times for each station to get the morning commutes. That is, if there are exactly two times for each station. Find which stations keys in your dictionary above do not contain exactly two times and delete them from the morning dictionary.\n",
    "\n",
    "How many keys are left in your morning_dict? There should be 4293."
   ]
  },
  {
   "cell_type": "code",
   "execution_count": 16,
   "metadata": {},
   "outputs": [],
   "source": [
    "#insert 19"
   ]
  },
  {
   "cell_type": "markdown",
   "metadata": {},
   "source": [
    "20.Create a dictionary called morning_differences where (C/A, UNIT, STATION) maps to an inner dictionary containing {SCP: Morning Exit Differences}.\n",
    "\n",
    "For example, ('A002', 'R051', '59 ST') should map to:\n",
    "\n",
    "{'02-00-00': 211,\n",
    " '02-00-01': 128,\n",
    " '02-03-00': 654,\n",
    " '02-03-01': 630,\n",
    " '02-03-02': 533,\n",
    " '02-03-03': 401,\n",
    " '02-03-04': 186,\n",
    " '02-03-05': 49,\n",
    " '02-03-06': 8,\n",
    " '02-05-00': 0,\n",
    " '02-05-01': 0,\n",
    " '02-06-00': 4}"
   ]
  },
  {
   "cell_type": "code",
   "execution_count": 17,
   "metadata": {},
   "outputs": [],
   "source": [
    "#insert 20"
   ]
  },
  {
   "cell_type": "markdown",
   "metadata": {},
   "source": [
    "21.Create a dictionary called total_morning_diff that maps each (C/A, Unit, Station) location to the total morning riders passing through ALL of the turnstiles in that area.\n",
    "\n",
    "Hint 1: see your work in Exercise 13.\n",
    "\n",
    "Hint 2: ('A002', 'R051','59 ST') should have 2804 morning commuter exits.\n"
   ]
  },
  {
   "cell_type": "code",
   "execution_count": 18,
   "metadata": {},
   "outputs": [],
   "source": [
    "#insert 21"
   ]
  },
  {
   "cell_type": "markdown",
   "metadata": {},
   "source": [
    "22.Create a list of sorted tuples to see the most popular morning exits.\n",
    "\n",
    "Hint:  ('R238', 'R046', 'GRD CNTRL-42 ST') should be the highest with 17,300 morning exits."
   ]
  },
  {
   "cell_type": "code",
   "execution_count": 19,
   "metadata": {},
   "outputs": [],
   "source": [
    "#insert 22"
   ]
  },
  {
   "cell_type": "markdown",
   "metadata": {},
   "source": [
    "23.We notice that the ('R204', 'R043', 'WALL ST') stop is pretty high on the Monday morning list. How can we tell if this exit is more of a commuter or tourist exit? Maybe we'll see if the total number of people is higher on a weekday than a weekend. Go back to the original df dataframe. Save only the items that contain ('R204', 'R043', 'WALL ST') to a dataframe called wallstreet and create a list of tuples where the first entry is the date and the second entry is the total ridership. \n",
    "\n",
    "Hint: there should be 9936 riders on 06/15/2017."
   ]
  },
  {
   "cell_type": "code",
   "execution_count": 20,
   "metadata": {},
   "outputs": [],
   "source": [
    "#insert 23"
   ]
  },
  {
   "cell_type": "markdown",
   "metadata": {},
   "source": [
    "24.Plot the list of tuples you made where date is the x-axis and ridership is the y-axis for this wall street station.\n",
    "\n",
    "Hint: you'll first need to use datetime to convert the dates to datetime format."
   ]
  },
  {
   "cell_type": "code",
   "execution_count": 21,
   "metadata": {},
   "outputs": [],
   "source": [
    "#insert 24"
   ]
  },
  {
   "cell_type": "markdown",
   "metadata": {},
   "source": [
    "25.Now use datetime to convert the dates to \"Mon\", \"Tues\", etc and print the days of the week with corresponding ridership. Is this a commuter stop or a tourist stop?"
   ]
  },
  {
   "cell_type": "code",
   "execution_count": 22,
   "metadata": {},
   "outputs": [],
   "source": [
    "#insert 25"
   ]
  }
 ],
 "metadata": {
  "kernelspec": {
   "display_name": "Python 3",
   "language": "python",
   "name": "python3"
  },
  "language_info": {
   "codemirror_mode": {
    "name": "ipython",
    "version": 3
   },
   "file_extension": ".py",
   "mimetype": "text/x-python",
   "name": "python",
   "nbconvert_exporter": "python",
   "pygments_lexer": "ipython3",
   "version": "3.6.0"
  }
 },
 "nbformat": 4,
 "nbformat_minor": 2
}
