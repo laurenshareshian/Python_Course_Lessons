{
 "cells": [
  {
   "cell_type": "markdown",
   "metadata": {},
   "source": [
    "Thanks to Scrabble$^{TM}$, we have easy access to a list of almost all the possible words in the English language.  In this problem, you will access this list of over 260,000 words to find some very unique words.\n",
    "\n",
    "First, your program will read the entire SOWPODS list of acceptable Scrabble$^{TM}$ words. \n",
    "\n",
    "We'll learn about file input/output more later, but for now, you can use the following code to read in all of the words in the Scrabble dictionary and save them in a list called words."
   ]
  },
  {
   "cell_type": "code",
   "execution_count": 2,
   "metadata": {
    "collapsed": true
   },
   "outputs": [],
   "source": [
    "word_file = open('sowpods.txt','r')\n",
    "\n",
    "words = []\n",
    "\n",
    "for word in word_file.readlines():\n",
    "    words.append(word.strip())"
   ]
  },
  {
   "cell_type": "markdown",
   "metadata": {},
   "source": [
    "1.What is the 10th word in the list of words?"
   ]
  },
  {
   "cell_type": "code",
   "execution_count": 1,
   "metadata": {
    "collapsed": true
   },
   "outputs": [],
   "source": [
    "#insert 1"
   ]
  },
  {
   "cell_type": "markdown",
   "metadata": {},
   "source": [
    "2.What is the fifth to last word in the list of words? What does it mean?"
   ]
  },
  {
   "cell_type": "code",
   "execution_count": 2,
   "metadata": {
    "collapsed": true
   },
   "outputs": [],
   "source": [
    "#insert 2"
   ]
  },
  {
   "cell_type": "markdown",
   "metadata": {},
   "source": [
    "3.What index is the word zymurgies in the list? What does the word mean?"
   ]
  },
  {
   "cell_type": "code",
   "execution_count": 3,
   "metadata": {
    "collapsed": true
   },
   "outputs": [],
   "source": [
    "#insert 3"
   ]
  },
  {
   "cell_type": "markdown",
   "metadata": {},
   "source": [
    "4.Create a dictionary called letter_value for each letter's values according to the following values.\n",
    "\n",
    "A=26, B=25, C=24, ..., Z=1\n"
   ]
  },
  {
   "cell_type": "code",
   "execution_count": 4,
   "metadata": {
    "collapsed": true
   },
   "outputs": [],
   "source": [
    "#insert 4"
   ]
  },
  {
   "cell_type": "markdown",
   "metadata": {},
   "source": [
    "5.The dollar value of the word kanye is 79, since:\n",
    "\n",
    "k 16, a 26, n 13, y 2, e 22\n",
    "\n",
    "sum=79\n",
    "\n",
    "Calculate the dollar value of the word breatharian. What does the word mean?"
   ]
  },
  {
   "cell_type": "code",
   "execution_count": 5,
   "metadata": {
    "collapsed": true
   },
   "outputs": [],
   "source": [
    "#insert 5"
   ]
  },
  {
   "cell_type": "markdown",
   "metadata": {},
   "source": [
    "6.Calculate the dollar value of each word in the Scrabble list without creating any new dictionaries. Which unique word has the highest dollar value and what is the word? What does the word mean?"
   ]
  },
  {
   "cell_type": "code",
   "execution_count": 6,
   "metadata": {
    "collapsed": true
   },
   "outputs": [],
   "source": [
    "#insert 6"
   ]
  },
  {
   "cell_type": "markdown",
   "metadata": {},
   "source": [
    "7.Create a dictionary called word_value in which the keys are the dollar values and the dictionary values are the list of words with that dollar value. Print the ten smallest dollar values and the ten lists of words associated with them."
   ]
  },
  {
   "cell_type": "code",
   "execution_count": 7,
   "metadata": {
    "collapsed": true
   },
   "outputs": [],
   "source": [
    "#insert 7"
   ]
  },
  {
   "cell_type": "markdown",
   "metadata": {},
   "source": [
    "8.Print the ten largest dollar values and the ten lists of words associated with them."
   ]
  },
  {
   "cell_type": "code",
   "execution_count": 8,
   "metadata": {
    "collapsed": true
   },
   "outputs": [],
   "source": [
    "#insert 8"
   ]
  },
  {
   "cell_type": "markdown",
   "metadata": {},
   "source": [
    "9.Print the dollar value that has the largest list of words associated with it. Hint: You may want to use the word_value dictionary you already have and use it to create a sorted list of tuples."
   ]
  },
  {
   "cell_type": "code",
   "execution_count": 9,
   "metadata": {
    "collapsed": true
   },
   "outputs": [],
   "source": [
    "#insert 9"
   ]
  },
  {
   "cell_type": "markdown",
   "metadata": {},
   "source": [
    "10.Use matplotlib to create a histogram of the distribution of all of the lengths of the word lists associated with each dollar value in the Scrabble list. For example, you should see a high peak around 1, since there are many words that have a unique dollar value and a peak around 2500 since there are 2542 words that have a dollar value of 129."
   ]
  },
  {
   "cell_type": "code",
   "execution_count": 10,
   "metadata": {
    "collapsed": true
   },
   "outputs": [],
   "source": [
    "#insert 10"
   ]
  },
  {
   "cell_type": "markdown",
   "metadata": {},
   "source": [
    "11.Use matplotlib to create a histogram of the distribution of all of the dollar values for each of the words. Use 1000 bins for your histogram. You should see a high peak around 129, since there are 2542 words with that dollar value."
   ]
  },
  {
   "cell_type": "code",
   "execution_count": 11,
   "metadata": {
    "collapsed": true
   },
   "outputs": [],
   "source": [
    "#insert 11"
   ]
  },
  {
   "cell_type": "markdown",
   "metadata": {},
   "source": [
    "12.Write a program called is_prime that takes in a positive integer and returns whether or not it is prime. Use a break command to write it in the least amount of lines."
   ]
  },
  {
   "cell_type": "code",
   "execution_count": 12,
   "metadata": {
    "collapsed": true
   },
   "outputs": [],
   "source": [
    "#insert 12"
   ]
  },
  {
   "cell_type": "markdown",
   "metadata": {},
   "source": [
    "13.Interestingly, Kanye's dollar value ($79) is also a prime number.  Search the entire SOWPODS list of words and find which prime number value between 175 dollars and 275 dollars has the fewest words associated with it.  Then print those words. "
   ]
  },
  {
   "cell_type": "code",
   "execution_count": 13,
   "metadata": {
    "collapsed": true
   },
   "outputs": [],
   "source": [
    "#insert 13"
   ]
  }
 ],
 "metadata": {
  "kernelspec": {
   "display_name": "Python 3",
   "language": "python",
   "name": "python3"
  },
  "language_info": {
   "codemirror_mode": {
    "name": "ipython",
    "version": 3
   },
   "file_extension": ".py",
   "mimetype": "text/x-python",
   "name": "python",
   "nbconvert_exporter": "python",
   "pygments_lexer": "ipython3",
   "version": "3.6.0"
  }
 },
 "nbformat": 4,
 "nbformat_minor": 2
}
