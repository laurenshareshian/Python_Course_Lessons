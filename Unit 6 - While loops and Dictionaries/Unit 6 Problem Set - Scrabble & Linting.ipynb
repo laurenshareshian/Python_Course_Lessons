{
 "cells": [
  {
   "cell_type": "markdown",
   "metadata": {},
   "source": [
    "### PEP8 Style Guidelines, Linters, and Magic Commands"
   ]
  },
  {
   "cell_type": "markdown",
   "metadata": {},
   "source": [
    "One of Guido Van Rossum's (the inventor of Python) key insights is that code is read much more often than it is written. The PEP 8 style guidelines are intended to improve the readability of code and make it consistent across the wide spectrum of Python code. The full list of rules is located here: \n",
    "\n",
    "https://www.python.org/dev/peps/pep-0008/\n",
    "\n",
    "Some main things to remember are:\n",
    "\n",
    "1.Indentation should be four spaces.\n",
    "\n",
    "2.Put spaces around operations like +, -, ==, etc.\n",
    "\n",
    "3.Don't put spaces around keywords or parameters (ex: def function(greeting='hello').\n",
    "\n",
    "Here is a well-styled cell of code:"
   ]
  },
  {
   "cell_type": "code",
   "execution_count": 1,
   "metadata": {},
   "outputs": [
    {
     "data": {
      "text/plain": [
       "'Hi my name is Sally and I will be 7 next year.'"
      ]
     },
     "execution_count": 1,
     "metadata": {},
     "output_type": "execute_result"
    }
   ],
   "source": [
    "def next_birthday(name='John Doe', age=18):\n",
    "    age = age + 1\n",
    "    return f'Hi my name is {name} and I will be {age} next year.'\n",
    "\n",
    "next_birthday('Sally', 6)"
   ]
  },
  {
   "cell_type": "markdown",
   "metadata": {},
   "source": [
    "In order to check that our code is clean and satisfies PEP 8 guidelines, we can use a linter. A linter or lint refers to tools that analyze source code to flag programming errors, bugs, stylistic errors, and suspicious constructs. To install a linter to use in Jupyter Notebook, open up a Terminal (on a Mac, located under Applications - Utilities - Terminal) or on a PC, under Anaconda Prompt. Then type the following:\n",
    "\n",
    "pip install pycodestyle flake8\n",
    "\n",
    "pip install pycodestyle_magic\n",
    "\n",
    "Some common installation errors:\n",
    "\n",
    "If you get an error about msgpack or some other package needing to be installed when trying to run the above commands, type \"pip install msgpack\" or \"pip install {whatever the package is} first and then try again.\n",
    "\n",
    "If you get an error involving disutils not being able to uninstall a package called pyflakes or something else, try typing first:\n",
    "\n",
    "\n",
    "pip install pycodestyle flake8 --ignore-installed pyflakes\n",
    "\n",
    "\n",
    "Now, we can use magic linting commands. Python has a set of predefined ‘magic functions’ that you can call with a command line style syntax. There are two kinds of magics, line-oriented and cell-oriented. Line magics are prefixed with the % character and work much like OS command-line calls: they get as an argument the rest of the line, where arguments are passed without parentheses or quotes. Cell magics are prefixed with a double %%, and they are functions that get as an argument not only the rest of the line, but also the lines below it in a separate argument.\n",
    "\n",
    "You have already used a line magic command in the past with plotting. Writing the line %matplotlib inline allows you to not have to write the line plt.show():\n"
   ]
  },
  {
   "cell_type": "code",
   "execution_count": 2,
   "metadata": {},
   "outputs": [
    {
     "data": {
      "text/plain": [
       "[<matplotlib.lines.Line2D at 0x106146a58>]"
      ]
     },
     "execution_count": 2,
     "metadata": {},
     "output_type": "execute_result"
    },
    {
     "data": {
      "image/png": "[encoded data removed]",
      "text/plain": [
       "<matplotlib.figure.Figure at 0x104876f98>"
      ]
     },
     "metadata": {},
     "output_type": "display_data"
    }
   ],
   "source": [
    "import matplotlib.pyplot as plt\n",
    "%matplotlib inline\n",
    "\n",
    "plt.plot([1,2,3], [1,2,3], '.')"
   ]
  },
  {
   "cell_type": "markdown",
   "metadata": {},
   "source": [
    "Now we can use a cell magic to help us with linting. First, run the cell below:"
   ]
  },
  {
   "cell_type": "code",
   "execution_count": 1,
   "metadata": {
    "collapsed": true
   },
   "outputs": [],
   "source": [
    "%load_ext pycodestyle_magic"
   ]
  },
  {
   "cell_type": "markdown",
   "metadata": {},
   "source": [
    "Now, run this cell:"
   ]
  },
  {
   "cell_type": "code",
   "execution_count": 2,
   "metadata": {},
   "outputs": [
    {
     "name": "stderr",
     "output_type": "stream",
     "text": [
      "3:1: E302 expected 2 blank lines, found 1\n",
      "3:23: E251 unexpected spaces around keyword / parameter equals\n",
      "3:25: E251 unexpected spaces around keyword / parameter equals\n",
      "3:41: E251 unexpected spaces around keyword / parameter equals\n",
      "3:43: E251 unexpected spaces around keyword / parameter equals\n",
      "4:3: E111 indentation is not a multiple of four\n",
      "4:6: E225 missing whitespace around operator\n",
      "5:3: E111 indentation is not a multiple of four\n",
      "7:1: E305 expected 2 blank lines after class or function definition, found 1\n"
     ]
    }
   ],
   "source": [
    "%%pycodestyle\n",
    "\n",
    "def next_birthday(name = 'John Doe', age = 18):\n",
    "  age=age+1\n",
    "  return f'Hi my name is {name} and I will be {age} next year.'\n",
    "\n",
    "next_birthday('Sally', 6)"
   ]
  },
  {
   "cell_type": "markdown",
   "metadata": {},
   "source": [
    "Uh oh, we've got a bunch of issues to clear up. First, it says that it expects two blank lines after %%pycodestyle. Once we add another one in, we should get rid of that error:"
   ]
  },
  {
   "cell_type": "code",
   "execution_count": 6,
   "metadata": {},
   "outputs": [
    {
     "name": "stderr",
     "output_type": "stream",
     "text": [
      "4:23: E251 unexpected spaces around keyword / parameter equals\n",
      "4:25: E251 unexpected spaces around keyword / parameter equals\n",
      "4:41: E251 unexpected spaces around keyword / parameter equals\n",
      "4:43: E251 unexpected spaces around keyword / parameter equals\n",
      "5:3: E111 indentation is not a multiple of four\n",
      "5:6: E225 missing whitespace around operator\n",
      "6:3: E111 indentation is not a multiple of four\n",
      "8:1: E305 expected 2 blank lines after class or function definition, found 1\n"
     ]
    }
   ],
   "source": [
    "%%pycodestyle\n",
    "\n",
    "\n",
    "def next_birthday(name = 'John Doe', age = 18):\n",
    "  age=age+1\n",
    "  return f'Hi my name is {name} and I will be {age} next year.'\n",
    "\n",
    "next_birthday('Sally', 6)"
   ]
  },
  {
   "cell_type": "markdown",
   "metadata": {},
   "source": [
    "Now, we should get rid of spaces around the keyword arguments and add spaces to the operations:"
   ]
  },
  {
   "cell_type": "code",
   "execution_count": 7,
   "metadata": {},
   "outputs": [
    {
     "name": "stderr",
     "output_type": "stream",
     "text": [
      "5:3: E111 indentation is not a multiple of four\n",
      "6:3: E111 indentation is not a multiple of four\n",
      "8:1: E305 expected 2 blank lines after class or function definition, found 1\n"
     ]
    }
   ],
   "source": [
    "%%pycodestyle\n",
    "\n",
    "\n",
    "def next_birthday(name='John Doe', age=18):\n",
    "  age = age + 1\n",
    "  return f'Hi my name is {name} and I will be {age} next year.'\n",
    "\n",
    "next_birthday('Sally', 6)"
   ]
  },
  {
   "cell_type": "markdown",
   "metadata": {},
   "source": [
    "Now we should fix our indentation:"
   ]
  },
  {
   "cell_type": "code",
   "execution_count": 8,
   "metadata": {},
   "outputs": [
    {
     "name": "stderr",
     "output_type": "stream",
     "text": [
      "8:1: E305 expected 2 blank lines after class or function definition, found 1\n"
     ]
    }
   ],
   "source": [
    "%%pycodestyle\n",
    "\n",
    "\n",
    "def next_birthday(name='John Doe', age=18):\n",
    "    age = age + 1\n",
    "    return f'Hi my name is {name} and I will be {age} next year.'\n",
    "\n",
    "next_birthday('Sally', 6)"
   ]
  },
  {
   "cell_type": "markdown",
   "metadata": {},
   "source": [
    "Finally, put two blank spaces after the end of your function:"
   ]
  },
  {
   "cell_type": "code",
   "execution_count": 9,
   "metadata": {
    "collapsed": true
   },
   "outputs": [],
   "source": [
    "%%pycodestyle\n",
    "\n",
    "\n",
    "def next_birthday(name='John Doe', age=18):\n",
    "    age = age + 1\n",
    "    return f'Hi my name is {name} and I will be {age} next year.'\n",
    "\n",
    "\n",
    "next_birthday('Sally', 6)"
   ]
  },
  {
   "cell_type": "markdown",
   "metadata": {},
   "source": [
    "### Exercise: Clean up the code below using a linter."
   ]
  },
  {
   "cell_type": "code",
   "execution_count": 10,
   "metadata": {},
   "outputs": [
    {
     "name": "stderr",
     "output_type": "stream",
     "text": [
      "3:1: E302 expected 2 blank lines, found 1\n",
      "3:16: E251 unexpected spaces around keyword / parameter equals\n",
      "3:18: E251 unexpected spaces around keyword / parameter equals\n",
      "3:34: E251 unexpected spaces around keyword / parameter equals\n",
      "3:36: E251 unexpected spaces around keyword / parameter equals\n",
      "4:3: E111 indentation is not a multiple of four\n",
      "4:9: E225 missing whitespace around operator\n",
      "6:3: E111 indentation is not a multiple of four\n",
      "7:58: W291 trailing whitespace\n",
      "9:1: E305 expected 2 blank lines after class or function definition, found 1\n",
      "9:15: E231 missing whitespace after ','\n"
     ]
    }
   ],
   "source": [
    "%%pycodestyle\n",
    "\n",
    "def insult(name = \"John Doe\", age = 18):\n",
    "  if age>25:\n",
    "    return f\"You're old, {name}!\"\n",
    "  else:\n",
    "    return f\"You're going to be old soon enough, {name}!\" \n",
    "\n",
    "insult('Kanye',40)\n"
   ]
  },
  {
   "cell_type": "markdown",
   "metadata": {},
   "source": [
    "One last type of magic command that is helpful is timeit. Timeit allows you to time how fast your algorithm takes to run, in order to compare which algorithm may be most efficient. \n",
    "\n",
    "Here's one example where we check all of the numbers between 2 and 16785407 before deciding if 16785408 is prime. It runs on a scale of seconds:"
   ]
  },
  {
   "cell_type": "code",
   "execution_count": 11,
   "metadata": {},
   "outputs": [
    {
     "name": "stdout",
     "output_type": "stream",
     "text": [
      "1 loop, best of 3: 1.83 s per loop\n"
     ]
    }
   ],
   "source": [
    "%%timeit\n",
    "\n",
    "def is_prime(n):\n",
    "    prime = True\n",
    "    for i in range(2,n):\n",
    "        if n % i == 0:\n",
    "            prime = False\n",
    "    return prime\n",
    "\n",
    "\n",
    "is_prime(16785408)"
   ]
  },
  {
   "cell_type": "markdown",
   "metadata": {},
   "source": [
    "We notice that if we break out of the loop with a return statement as soon as we find a divisor, we can determine that 16785408 is not prime much faster, on the scale of nanoseconds:"
   ]
  },
  {
   "cell_type": "code",
   "execution_count": 12,
   "metadata": {},
   "outputs": [
    {
     "name": "stdout",
     "output_type": "stream",
     "text": [
      "The slowest run took 6.12 times longer than the fastest. This could mean that an intermediate result is being cached.\n",
      "1000000 loops, best of 3: 819 ns per loop\n"
     ]
    }
   ],
   "source": [
    "%%timeit\n",
    "\n",
    "def is_prime(n):\n",
    "    for i in range(2,n):\n",
    "        if n % i == 0:\n",
    "            return False\n",
    "    return True\n",
    "\n",
    "\n",
    "is_prime(16785408)"
   ]
  },
  {
   "cell_type": "markdown",
   "metadata": {},
   "source": [
    "### Directions: For the remainder of the exercises below, correct all linting errors."
   ]
  },
  {
   "cell_type": "markdown",
   "metadata": {},
   "source": [
    "### Functions Review\n",
    "Before we start our scrabble problems, we want to make sure you get a quick review of functions. Recall that in your last assignment, you created frequency lists of how often items occurred. Let's make more general functions that do this that you can re-use in the future."
   ]
  },
  {
   "cell_type": "markdown",
   "metadata": {},
   "source": [
    "1.Write a function called item_frequency that takes in a list of items and returns a list of tuples containing (item, frequency) in descending order. DO NOT use the collections package. For example, \n",
    "\n",
    "```python\n",
    "item_frequency(['hi', 'my', 'name', 'kanye', 'and', 'i', 'love', 'kanye', 'and', 'if', 'my', 'name', 'wasnt', 'kanye', 'then', 'i', 'would', 'change', 'it', 'to', 'kanye']) \n",
    "```\n",
    "\n",
    "should return:\n",
    "\n",
    "```python\n",
    "[('kanye', 4),\n",
    " ('my', 2),\n",
    " ('name', 2),\n",
    " ('and', 2),\n",
    " ('i', 2),\n",
    " ('hi', 1),\n",
    " ('love', 1),\n",
    " ('if', 1),\n",
    " ('wasnt', 1),\n",
    " ('then', 1),\n",
    " ('would', 1),\n",
    " ('change', 1),\n",
    " ('it', 1),\n",
    " ('to', 1)]\n",
    " ```"
   ]
  },
  {
   "cell_type": "code",
   "execution_count": null,
   "metadata": {
    "collapsed": true
   },
   "outputs": [],
   "source": [
    "#insert exercise 1"
   ]
  },
  {
   "cell_type": "markdown",
   "metadata": {},
   "source": [
    "2.Redo the previous exercise but now use the Counter tool in the collections package as well as its most_common method. You can read its documentation here:\n",
    "\n",
    "https://docs.python.org/2/library/collections.html\n",
    "\n",
    "Note: Doing it this way should reduce your code to only two or three lines!"
   ]
  },
  {
   "cell_type": "code",
   "execution_count": 4,
   "metadata": {},
   "outputs": [
    {
     "data": {
      "text/plain": [
       "[('kanye', 4),\n",
       " ('my', 2),\n",
       " ('name', 2),\n",
       " ('and', 2),\n",
       " ('i', 2),\n",
       " ('hi', 1),\n",
       " ('love', 1),\n",
       " ('if', 1),\n",
       " ('wasnt', 1),\n",
       " ('then', 1),\n",
       " ('would', 1),\n",
       " ('change', 1),\n",
       " ('it', 1),\n",
       " ('to', 1)]"
      ]
     },
     "execution_count": 4,
     "metadata": {},
     "output_type": "execute_result"
    }
   ],
   "source": [
    "#insert exercise 2\n",
    "from collections import Counter\n",
    "\n",
    "def item_frequency(items):\n",
    "    return Counter(items).most_common()\n",
    "\n",
    "item_frequency(['hi', 'my', 'name', 'kanye', 'and', 'i', 'love', 'kanye', 'and', 'if', 'my', 'name', 'wasnt', 'kanye', 'then', 'i', 'would', 'change', 'it', 'to', 'kanye'])\n"
   ]
  },
  {
   "cell_type": "markdown",
   "metadata": {},
   "source": [
    "3.Now, make a function called word_frequency that takes in a string and returns a list of tuples containing (word, frequency) in descending order. Your function word_frequency should call your item_frequency function that you already wrote. By doing this, your new function should only be two or three lines long."
   ]
  },
  {
   "cell_type": "code",
   "execution_count": 5,
   "metadata": {},
   "outputs": [
    {
     "data": {
      "text/plain": [
       "[('lauren', 3), ('my', 2), ('name', 1), ('is', 1)]"
      ]
     },
     "execution_count": 5,
     "metadata": {},
     "output_type": "execute_result"
    }
   ],
   "source": [
    "#insert exercise 3\n",
    "\n",
    "def word_frequency(sentence):\n",
    "    words = sentence.split() #breaks string into words\n",
    "    word_tuple_list = item_frequency(words)\n",
    "    return word_tuple_list\n",
    "\n",
    "word_frequency('my name is lauren lauren lauren my')"
   ]
  },
  {
   "cell_type": "markdown",
   "metadata": {},
   "source": [
    "4.Now, make a function called letter_frequency that takes in a string and returns a list of tuples containing (letter, frequency) in descending order. Your function letter_frequency should call your item_frequency function that you already wrote. By doing this, your new function should only be two or three lines long."
   ]
  },
  {
   "cell_type": "code",
   "execution_count": 6,
   "metadata": {},
   "outputs": [
    {
     "data": {
      "text/plain": [
       "[(' ', 6),\n",
       " ('n', 4),\n",
       " ('a', 4),\n",
       " ('e', 4),\n",
       " ('m', 3),\n",
       " ('l', 3),\n",
       " ('u', 3),\n",
       " ('r', 3),\n",
       " ('y', 2),\n",
       " ('i', 1),\n",
       " ('s', 1)]"
      ]
     },
     "execution_count": 6,
     "metadata": {},
     "output_type": "execute_result"
    }
   ],
   "source": [
    "#insert exercise 4\n",
    "\n",
    "def letter_frequency(sentence):\n",
    "    letters = list(sentence) #breaks string into letters\n",
    "    letter_tuple_list = item_frequency(letters)\n",
    "    return letter_tuple_list\n",
    "\n",
    "letter_frequency('my name is lauren lauren lauren my')"
   ]
  },
  {
   "cell_type": "markdown",
   "metadata": {},
   "source": [
    "### Scrabble"
   ]
  },
  {
   "cell_type": "markdown",
   "metadata": {},
   "source": [
    "Thanks to Scrabble$^{TM}$, we have easy access to a list of almost all the possible words in the English language.  In this problem, you will access this list of over 260,000 words to find some very unique words.\n",
    "\n",
    "First, your program will read the entire SOWPODS list of acceptable Scrabble$^{TM}$ words. \n",
    "\n",
    "We'll learn about file input/output more later, but for now, you can use the following code to read in all of the words in the Scrabble dictionary and save them in a list called words."
   ]
  },
  {
   "cell_type": "code",
   "execution_count": 7,
   "metadata": {
    "collapsed": true
   },
   "outputs": [],
   "source": [
    "word_file = open('sowpods.txt','r')\n",
    "\n",
    "words = []\n",
    "\n",
    "for word in word_file.readlines():\n",
    "    words.append(word.strip())"
   ]
  },
  {
   "cell_type": "markdown",
   "metadata": {},
   "source": [
    "1.What is the 10th word in the list of words?"
   ]
  },
  {
   "cell_type": "code",
   "execution_count": 1,
   "metadata": {
    "collapsed": true
   },
   "outputs": [],
   "source": [
    "#insert 1"
   ]
  },
  {
   "cell_type": "markdown",
   "metadata": {},
   "source": [
    "2.What is the fifth to last word in the list of words? What does it mean?"
   ]
  },
  {
   "cell_type": "code",
   "execution_count": 2,
   "metadata": {
    "collapsed": true
   },
   "outputs": [],
   "source": [
    "#insert 2"
   ]
  },
  {
   "cell_type": "markdown",
   "metadata": {},
   "source": [
    "3.What index is the word zymurgies in the list? What does the word mean?"
   ]
  },
  {
   "cell_type": "code",
   "execution_count": 3,
   "metadata": {
    "collapsed": true
   },
   "outputs": [],
   "source": [
    "#insert 3"
   ]
  },
  {
   "cell_type": "markdown",
   "metadata": {},
   "source": [
    "4.Create a dictionary called letter_value for each letter's values according to the following values.\n",
    "\n",
    "A=26, B=25, C=24, ..., Z=1\n"
   ]
  },
  {
   "cell_type": "code",
   "execution_count": 4,
   "metadata": {
    "collapsed": true
   },
   "outputs": [],
   "source": [
    "#insert 4"
   ]
  },
  {
   "cell_type": "markdown",
   "metadata": {},
   "source": [
    "5.The dollar value of the word kanye is 79, since:\n",
    "\n",
    "k 16, a 26, n 13, y 2, e 22\n",
    "\n",
    "sum=79\n",
    "\n",
    "Create a function called dollar_value that takes in a word and returns the dollar value.\n",
    "\n",
    "Then calculate the dollar value of the word breatharian. What does the word mean?"
   ]
  },
  {
   "cell_type": "code",
   "execution_count": 5,
   "metadata": {
    "collapsed": true
   },
   "outputs": [],
   "source": [
    "#insert 5"
   ]
  },
  {
   "cell_type": "markdown",
   "metadata": {},
   "source": [
    "6.Calculate the dollar value of each word in the Scrabble list without creating any new dictionaries. Which unique word has the highest dollar value and what is the word? What does the word mean?"
   ]
  },
  {
   "cell_type": "code",
   "execution_count": 6,
   "metadata": {
    "collapsed": true
   },
   "outputs": [],
   "source": [
    "#insert 6"
   ]
  },
  {
   "cell_type": "markdown",
   "metadata": {},
   "source": [
    "7.Create a dictionary called word_value in which the keys are the dollar values and the dictionary values are the list of words with that dollar value. Print the ten smallest dollar values and the ten lists of words associated with them."
   ]
  },
  {
   "cell_type": "code",
   "execution_count": 7,
   "metadata": {
    "collapsed": true
   },
   "outputs": [],
   "source": [
    "#insert 7"
   ]
  },
  {
   "cell_type": "markdown",
   "metadata": {},
   "source": [
    "8.Print the ten largest dollar values and the ten lists of words associated with them."
   ]
  },
  {
   "cell_type": "code",
   "execution_count": 8,
   "metadata": {
    "collapsed": true
   },
   "outputs": [],
   "source": [
    "#insert 8"
   ]
  },
  {
   "cell_type": "markdown",
   "metadata": {},
   "source": [
    "9.Print the dollar value that has the largest list of words associated with it. Hint: You may want to use the word_value dictionary you already have and use it to create a sorted list of tuples."
   ]
  },
  {
   "cell_type": "code",
   "execution_count": 9,
   "metadata": {
    "collapsed": true
   },
   "outputs": [],
   "source": [
    "#insert 9"
   ]
  },
  {
   "cell_type": "markdown",
   "metadata": {},
   "source": [
    "10.Use matplotlib to create a histogram of the distribution of all of the lengths of the word lists associated with each dollar value in the Scrabble list. For example, you should see a high peak around 1, since many dollar values have only one word associated with them. You should also see a secondary peak around 2500, since many dollar values have around 2500 words associated with them."
   ]
  },
  {
   "cell_type": "code",
   "execution_count": 10,
   "metadata": {
    "collapsed": true
   },
   "outputs": [],
   "source": [
    "#insert 10"
   ]
  },
  {
   "cell_type": "markdown",
   "metadata": {},
   "source": [
    "11.Use matplotlib to create a histogram of the distribution of all of the dollar values for each of the words. Use 200 bins for your histogram. You should see a high peak around 129, since there are 2542 words with that dollar value."
   ]
  },
  {
   "cell_type": "code",
   "execution_count": 11,
   "metadata": {
    "collapsed": true
   },
   "outputs": [],
   "source": [
    "#insert 11"
   ]
  },
  {
   "cell_type": "markdown",
   "metadata": {},
   "source": [
    "12.Write a program called is_prime that takes in a positive integer and returns whether or not it is prime. Use return commands to write it in the least amount of lines."
   ]
  },
  {
   "cell_type": "code",
   "execution_count": 12,
   "metadata": {
    "collapsed": true
   },
   "outputs": [],
   "source": [
    "#insert 12"
   ]
  },
  {
   "cell_type": "markdown",
   "metadata": {},
   "source": [
    "13.Interestingly, Kanye's dollar value ($79) is also a prime number.  Search the entire SOWPODS list of words and find which prime number value between 175 dollars and 275 dollars has the fewest words associated with it.  Then print those words. "
   ]
  },
  {
   "cell_type": "code",
   "execution_count": 13,
   "metadata": {
    "collapsed": true
   },
   "outputs": [],
   "source": [
    "#insert 13"
   ]
  }
 ],
 "metadata": {
  "kernelspec": {
   "display_name": "Python 3",
   "language": "python",
   "name": "python3"
  },
  "language_info": {
   "codemirror_mode": {
    "name": "ipython",
    "version": 3
   },
   "file_extension": ".py",
   "mimetype": "text/x-python",
   "name": "python",
   "nbconvert_exporter": "python",
   "pygments_lexer": "ipython3",
   "version": "3.6.0"
  }
 },
 "nbformat": 4,
 "nbformat_minor": 2
}
