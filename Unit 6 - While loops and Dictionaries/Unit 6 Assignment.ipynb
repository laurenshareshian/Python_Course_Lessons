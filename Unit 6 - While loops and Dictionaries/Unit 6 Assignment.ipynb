{
 "cells": [
  {
   "cell_type": "markdown",
   "metadata": {},
   "source": [
    "Contents\n",
    "---\n",
    "- [While Loops involving Numbers](#while)\n",
    "- [While Loops involving Strings](#strings)\n",
    "- [While Loops involving Lists](#lists)\n",
    "- [Keeping count](#count)\n",
    "- [Dictionaries](#dictionaries)\n",
    "- [Tuples](#tuples)\n",
    "- [Function Arguments](#arguments)\n",
    "- [Sets](#sets)\n"
   ]
  },
  {
   "cell_type": "markdown",
   "metadata": {},
   "source": [
    "While Loops involving Numbers\n",
    "---\n",
    "<a class=\"anchor\" id=\"while\"></a>"
   ]
  },
  {
   "cell_type": "markdown",
   "metadata": {},
   "source": [
    "A while loop tests an initial condition. If that condition is true, the loop starts executing. Every time the loop finishes, the condition is reevaluated. As long as the condition remains true, the loop keeps executing. As soon as the condition becomes false, the loop stops executing. Here's an example:\n"
   ]
  },
  {
   "cell_type": "code",
   "execution_count": null,
   "metadata": {},
   "outputs": [],
   "source": [
    "number = 5\n",
    "while number < 10:\n",
    "    print(number)\n",
    "    number = number + 1"
   ]
  },
  {
   "cell_type": "markdown",
   "metadata": {},
   "source": [
    "Notice that we could have also done this with a for loop:"
   ]
  },
  {
   "cell_type": "code",
   "execution_count": null,
   "metadata": {},
   "outputs": [],
   "source": [
    "for i in range(5,10):\n",
    "    print(i)"
   ]
  },
  {
   "cell_type": "markdown",
   "metadata": {},
   "source": [
    "While loops are similar to for loops. While loops are typically better to use when you don't know how many iterations you'll need. The two major differences between for and while loops are that while loops need their counting variable  initialized in a separate line (number = 5) and then need to be manually updated (number = number + 1). \n",
    "\n",
    "Notice that your program won't work if you forgot to declare number = 5:"
   ]
  },
  {
   "cell_type": "code",
   "execution_count": null,
   "metadata": {},
   "outputs": [],
   "source": [
    "while number < 10:\n",
    "    print(number)\n",
    "    number = number + 1"
   ]
  },
  {
   "cell_type": "markdown",
   "metadata": {},
   "source": [
    "In addition, you will get an infinite loop if you don't include the \"number = number + 1\" line, because your number will always stay at 5 and thus always be less than 10:"
   ]
  },
  {
   "cell_type": "code",
   "execution_count": null,
   "metadata": {},
   "outputs": [],
   "source": [
    "number = 5\n",
    "while number < 10:\n",
    "    print(number)"
   ]
  },
  {
   "cell_type": "markdown",
   "metadata": {},
   "source": [
    "This error is called a Traceback error. \n",
    "\n",
    "We can also count backwards using while loops:"
   ]
  },
  {
   "cell_type": "code",
   "execution_count": null,
   "metadata": {},
   "outputs": [],
   "source": [
    "number = 10\n",
    "while number > 0:\n",
    "    print(number)\n",
    "    number = number -1"
   ]
  },
  {
   "cell_type": "markdown",
   "metadata": {},
   "source": [
    "#### While !=\n",
    "We can use while loops to iterate until we have reached a certain value. Here's an example:"
   ]
  },
  {
   "cell_type": "code",
   "execution_count": null,
   "metadata": {},
   "outputs": [],
   "source": [
    "number = 0\n",
    "while number != 13:\n",
    "    print(number,  'is not unlucky')\n",
    "    number += 1"
   ]
  },
  {
   "cell_type": "markdown",
   "metadata": {},
   "source": [
    "#### += and -= operators"
   ]
  },
  {
   "cell_type": "markdown",
   "metadata": {},
   "source": [
    "We can use shorthand notation to update our looping variable. Look at the two codes below:"
   ]
  },
  {
   "cell_type": "code",
   "execution_count": null,
   "metadata": {},
   "outputs": [],
   "source": [
    "number = 10\n",
    "while number > 0:\n",
    "    print(number)\n",
    "    number -= 1"
   ]
  },
  {
   "cell_type": "code",
   "execution_count": null,
   "metadata": {},
   "outputs": [],
   "source": [
    "number = 0\n",
    "while number < 10:\n",
    "    print(number)\n",
    "    number += 2"
   ]
  },
  {
   "cell_type": "markdown",
   "metadata": {},
   "source": [
    "### 1. Exercise - odds\n",
    "Write a function called odds that uses a while loop to return all of the odds between two given numbers in increasing order."
   ]
  },
  {
   "cell_type": "code",
   "execution_count": null,
   "metadata": {},
   "outputs": [],
   "source": [
    "#insert odds code\n",
    "def odds(a, b):\n",
    "    pass\n",
    "\n",
    "odds(11,25)\n",
    "            "
   ]
  },
  {
   "cell_type": "markdown",
   "metadata": {},
   "source": [
    "### 2. Exercise - evens\n",
    "Write a function called evens that uses a while loop to return all of the odds between two given numbers in increasing order."
   ]
  },
  {
   "cell_type": "code",
   "execution_count": null,
   "metadata": {},
   "outputs": [],
   "source": [
    "#insert evens code"
   ]
  },
  {
   "cell_type": "markdown",
   "metadata": {},
   "source": [
    "### 3. Exercise - factors\n",
    "Use a function called factors that uses a while loop to print out all of the factors of a given number."
   ]
  },
  {
   "cell_type": "code",
   "execution_count": null,
   "metadata": {},
   "outputs": [],
   "source": [
    "#insert factors code\n",
    "def factors(n):\n",
    "    i=1\n",
    "    print(f\"Factors of {n}:\")\n",
    "    while i<=n**(1/2):\n",
    "        if n%i==0:\n",
    "            print(i,\"x\",int(n/i))\n",
    "        i+=1\n",
    "\n",
    "factors(100)"
   ]
  },
  {
   "cell_type": "markdown",
   "metadata": {},
   "source": [
    "### 4. Exercise - prime\n",
    "Write a function called is_prime that uses a while loop to determine whether a given number is a prime or not."
   ]
  },
  {
   "cell_type": "code",
   "execution_count": null,
   "metadata": {},
   "outputs": [],
   "source": [
    "#insert prime code"
   ]
  },
  {
   "cell_type": "markdown",
   "metadata": {},
   "source": [
    "### 5. Exercise - elevator\n",
    "Write a function called elevator that takes in a starting floor and a destination floor and prints out all of the floors in between. For example elevator(5,9) returns [5,6,7,8,9]."
   ]
  },
  {
   "cell_type": "code",
   "execution_count": null,
   "metadata": {},
   "outputs": [],
   "source": [
    "#insert elevator code"
   ]
  },
  {
   "cell_type": "markdown",
   "metadata": {},
   "source": [
    "### 6. Exercise - Fibonacci numbers\n",
    "\n",
    "The Fibonnaci numbers are obtained by starting with 1 and 1 and adding the previous two numbers to obtain the next number. This produces the sequence 1,1,2,3,5,8,13,21,... Write a program that uses a for loop to print the first 20 Fibonacci numbers. Instead of storing the numbers in a list, make three variables, new_term, previous_term, and temp_term, and update them in a loop."
   ]
  },
  {
   "cell_type": "code",
   "execution_count": null,
   "metadata": {},
   "outputs": [],
   "source": [
    "#fibonnaci"
   ]
  },
  {
   "cell_type": "markdown",
   "metadata": {},
   "source": [
    "### 7. Exercise - Fibonacci numbers again\n",
    "\n",
    "The Fibonnaci numbers are obtained by starting with 1 and 1 and adding the previous two numbers to obtain the next number. This produces the sequence 1,1,2,3,5,8,13,21,... Write a program that uses a for loop to print all Fibonacci numbers less than 500. Instead of storing the numbers in a list, make three variables, new_term, previous_term, and temp_term, and update them in a loop."
   ]
  },
  {
   "cell_type": "code",
   "execution_count": null,
   "metadata": {},
   "outputs": [],
   "source": [
    "#insert Fibonacci again"
   ]
  },
  {
   "cell_type": "markdown",
   "metadata": {},
   "source": [
    "While Loops involving Strings\n",
    "---\n",
    "<a class=\"anchor\" id=\"strings\"></a>"
   ]
  },
  {
   "cell_type": "markdown",
   "metadata": {},
   "source": [
    "We often use while loops to evaluate a user's input. Look at the following example:"
   ]
  },
  {
   "cell_type": "code",
   "execution_count": null,
   "metadata": {},
   "outputs": [],
   "source": [
    "guess = input('Guess my password: ')\n",
    "while guess != 'kanye':\n",
    "    print('Incorrect, guess again!')\n",
    "    guess = input('Guess my password: ')\n",
    "print('You guessed correctly!')"
   ]
  },
  {
   "cell_type": "markdown",
   "metadata": {},
   "source": [
    "We can also use while loops asking the user for more input and stopping only when the user presses enter. For example:"
   ]
  },
  {
   "cell_type": "code",
   "execution_count": null,
   "metadata": {},
   "outputs": [],
   "source": [
    "friend = input('Give me a name of one of your friends: ')\n",
    "while friend:\n",
    "    print(friend, 'is one of your friends.')\n",
    "    friend = input('Give me another name of your friends: ')\n",
    "print('You have no more friends!')"
   ]
  },
  {
   "cell_type": "markdown",
   "metadata": {},
   "source": [
    "While Loops involving Lists\n",
    "---\n",
    "<a class=\"anchor\" id=\"lists\"></a>"
   ]
  },
  {
   "cell_type": "markdown",
   "metadata": {},
   "source": [
    "We'll often use while loops to add items to a list. Consider our previous friends example. If we want to store all of a user's friends in a list, we can type:\n"
   ]
  },
  {
   "cell_type": "code",
   "execution_count": null,
   "metadata": {},
   "outputs": [],
   "source": [
    "friend_list = []\n",
    "friend = input('Give me a name of one of your friends: ')\n",
    "while friend:\n",
    "    friend_list.append(friend)\n",
    "    friend = input('Give me another name of your friends: ')\n",
    "\n",
    "print('You have no more friends!')\n",
    "print('Your friends are',friend_list )"
   ]
  },
  {
   "cell_type": "markdown",
   "metadata": {},
   "source": [
    "To store the odd numbers between 2 and 22, we could type:"
   ]
  },
  {
   "cell_type": "code",
   "execution_count": null,
   "metadata": {},
   "outputs": [],
   "source": [
    "odds = []\n",
    "number = 3\n",
    "while number < 22:\n",
    "    odds.append(number)\n",
    "    number = number + 2\n",
    "print(odds)"
   ]
  },
  {
   "cell_type": "markdown",
   "metadata": {},
   "source": [
    "### 8. Exercise - favorite president\n",
    "Write a program that asks the user for the best president and doesn't stop until the user enters Obama.\n"
   ]
  },
  {
   "cell_type": "code",
   "execution_count": null,
   "metadata": {},
   "outputs": [],
   "source": [
    "#insert sports code\n"
   ]
  },
  {
   "cell_type": "markdown",
   "metadata": {},
   "source": [
    "### 9. Exercise - favorite number\n",
    "Write a program that asks the user for my favorite number and doesn't get it correct until they answer 32.\n"
   ]
  },
  {
   "cell_type": "code",
   "execution_count": null,
   "metadata": {},
   "outputs": [],
   "source": [
    "#insert favorite number code\n"
   ]
  },
  {
   "cell_type": "markdown",
   "metadata": {},
   "source": [
    "### 10. Exercise - friends\n",
    "Use a while loop and a list to store a user's friends until they press enter. Then print the user's list of friends in alphabetical order by using .sort().\n",
    "\n"
   ]
  },
  {
   "cell_type": "code",
   "execution_count": null,
   "metadata": {},
   "outputs": [],
   "source": [
    "#insert friends code\n"
   ]
  },
  {
   "cell_type": "markdown",
   "metadata": {},
   "source": [
    "### 11. Exercise - sports\n",
    "Write a program that asks the user for their favorite sports and creates a list of their favorite sports. The program shouldn't stop asking until the user types enter. Print the list in reverse alphabetical order."
   ]
  },
  {
   "cell_type": "code",
   "execution_count": null,
   "metadata": {},
   "outputs": [],
   "source": [
    "#insert sports code"
   ]
  },
  {
   "cell_type": "markdown",
   "metadata": {},
   "source": [
    "Keeping Count\n",
    "---\n",
    "<a class=\"anchor\" id=\"count\"></a>"
   ]
  },
  {
   "cell_type": "markdown",
   "metadata": {},
   "source": [
    "Suppose we wanted to keep track of how many reds are in a color list. We can declare a variable, red_count, to be zero, and update it every time we find a red color:"
   ]
  },
  {
   "cell_type": "code",
   "execution_count": null,
   "metadata": {},
   "outputs": [],
   "source": [
    "colors = ['red', 'red', 'blue', 'red', 'yellow', 'blue', 'yellow', 'green']\n",
    "red_count = 0\n",
    "for color in colors:\n",
    "    if color == 'red':\n",
    "        red_count = red_count + 1\n",
    "print(red_count)"
   ]
  },
  {
   "cell_type": "markdown",
   "metadata": {},
   "source": [
    "There is a built-in Python function called count that performs the above calculation for us:"
   ]
  },
  {
   "cell_type": "code",
   "execution_count": null,
   "metadata": {},
   "outputs": [],
   "source": [
    "colors = ['red', 'red', 'blue', 'red', 'yellow', 'blue', 'yellow', 'green']\n",
    "print(colors.count('red'))"
   ]
  },
  {
   "cell_type": "markdown",
   "metadata": {},
   "source": [
    "However, if we wanted to know how many unique colors were in the list, we could create a new list. See below."
   ]
  },
  {
   "cell_type": "code",
   "execution_count": null,
   "metadata": {},
   "outputs": [],
   "source": [
    "colors = ['red', 'red', 'blue', 'red', 'yellow', 'blue', 'yellow', 'green']\n",
    "unique_list = []\n",
    "for color in colors:\n",
    "    if color not in unique_list:\n",
    "        unique_list.append(color)\n",
    "print('unique colors: ', len(unique_list))"
   ]
  },
  {
   "cell_type": "markdown",
   "metadata": {},
   "source": [
    "Actually, as a short cut, we could turn the color list into a set.  We'll learn about sets at the end of this assignment, but for now we can use the trick. A set only contains unique elements."
   ]
  },
  {
   "cell_type": "code",
   "execution_count": null,
   "metadata": {},
   "outputs": [],
   "source": [
    "colors = ['red', 'red', 'blue', 'red', 'yellow', 'blue', 'yellow', 'green']\n",
    "unique_list = set(colors)\n",
    "print('unique colors: ', len(unique_list))"
   ]
  },
  {
   "cell_type": "markdown",
   "metadata": {},
   "source": [
    "Suppose we wanted to count how many times each color in the list occurred. We could use our unique list again:"
   ]
  },
  {
   "cell_type": "code",
   "execution_count": null,
   "metadata": {},
   "outputs": [],
   "source": [
    "colors = ['red', 'red', 'blue', 'red', 'yellow', 'blue', 'yellow', 'green']\n",
    "unique_list = []\n",
    "for color in colors:\n",
    "    if color not in unique_list:\n",
    "        unique_list.append(color)\n",
    "        print(color, colors.count(color))"
   ]
  },
  {
   "cell_type": "markdown",
   "metadata": {},
   "source": [
    "Or, we could use our set trick to simplify our code:"
   ]
  },
  {
   "cell_type": "code",
   "execution_count": null,
   "metadata": {},
   "outputs": [],
   "source": [
    "colors = ['red', 'red', 'blue', 'red', 'yellow', 'blue', 'yellow', 'green']\n",
    "unique_list = []\n",
    "for color in set(colors):\n",
    "        print(color, colors.count(color))"
   ]
  },
  {
   "cell_type": "markdown",
   "metadata": {},
   "source": [
    "As another example, suppose you ask a group of students for their ages and then count how many of each age there are."
   ]
  },
  {
   "cell_type": "code",
   "execution_count": null,
   "metadata": {},
   "outputs": [],
   "source": [
    "age = input('What is your age? ')\n",
    "age_list=[]\n",
    "\n",
    "while age:\n",
    "    age_list.append(age)\n",
    "    age = input('What is your age? ')\n",
    "\n",
    "for age in sorted(set(age_list)):\n",
    "    print(age, age_list.count(age))    "
   ]
  },
  {
   "cell_type": "markdown",
   "metadata": {},
   "source": [
    "### 12.  Exercise - Rock, Paper, Scissors\n",
    "Write a program that asks the user for rock, paper, or scissors until they press enter and then count the number of times that they chose each type."
   ]
  },
  {
   "cell_type": "code",
   "execution_count": null,
   "metadata": {},
   "outputs": [],
   "source": [
    "#insert rock paper scissors code"
   ]
  },
  {
   "cell_type": "markdown",
   "metadata": {},
   "source": [
    "### 13. Exercise - cars\n",
    "Write a program that asks the user for all the colors of the cars that drive by and then counts the number of times each color occurs."
   ]
  },
  {
   "cell_type": "code",
   "execution_count": null,
   "metadata": {},
   "outputs": [],
   "source": [
    "#insert cars code"
   ]
  },
  {
   "cell_type": "markdown",
   "metadata": {},
   "source": [
    "### 14. Exercise - aliens\n",
    "- Use a while loop to have the user give you a list, one at a time, of aliens of colors 'red', 'green', or 'blue'. Don't stop until the user presses enter. For example, they might enter \"red\", \"red\", \"blue\", \"green\", \"red\".\n",
    "- Red aliens are worth 5 points, green aliens are worth 10 points, and blue aliens are worth 20 points.\n",
    "- Determine the number of points a player would earn for destroying all of the aliens in their list.\n"
   ]
  },
  {
   "cell_type": "code",
   "execution_count": null,
   "metadata": {},
   "outputs": [],
   "source": [
    "#insert alien code"
   ]
  },
  {
   "cell_type": "markdown",
   "metadata": {},
   "source": [
    "### 15. Exercise - max min average\n",
    "Write a program that prompts the user for a list of numbers one at a time. When the user has stopped entering numbers, the program should compute the maximum and minimum value in the list and the average value."
   ]
  },
  {
   "cell_type": "code",
   "execution_count": null,
   "metadata": {},
   "outputs": [],
   "source": [
    "#insert max min\n",
    "num = input(\"Give me an integer:\")\n",
    "nums = []\n",
    "while num:\n",
    "    try:\n",
    "        nums.append(int(num))\n",
    "    except:\n",
    "        print(\"Please make it an INTEGER!\")\n",
    "    num = input(\"Give me another integer (or hit RETURN to end):\")\n",
    "print(max(nums))\n",
    "print(min(nums))\n",
    "print(sum(nums)/len(nums))"
   ]
  },
  {
   "cell_type": "markdown",
   "metadata": {},
   "source": [
    "### Data Structures\n",
    "A data structure is a specific way of organizing and storing data so that it can be used efficiently. There are many different kinds of data structures, each with different advantages and disadvantages that make them better suited to different tasks. We have learned lists so we will now add dictionaries, tuples, and sets to our list of data structures."
   ]
  },
  {
   "cell_type": "markdown",
   "metadata": {},
   "source": [
    "Dictionaries\n",
    "---\n",
    "<a class=\"anchor\" id=\"dictionaries\"></a>\n",
    "\n",
    "Dictionaries allow us to store connected bits of information. For example, you might store a person's name and age together.\n",
    "\n",
    "Dictionaries store information in key-value pairs, so that any one piece of information in a dictionary is connected to at least one other piece of information.\n",
    "\n",
    "\n",
    "Dictionaries do not store their information in any particular order, so you may not get your information back in the same order you entered it.\n",
    "\n",
    "Checking for membership in a dictionary is much faster than checking for membership in a list, so if order doesn't matter, dictionaries are preferable.\n",
    "\n",
    "Dictionaries are mutable, meaning you can change the items in them.\n",
    "\n",
    "\n",
    "### General Syntax\n",
    "\n",
    "A general dictionary in Python looks something like this:\n",
    "\n",
    "dictionary_name = {key_1: value_1, key_2: value_2, key_3: value_3}\n",
    "\n",
    "Since the keys and values in dictionaries can be long, we often write just one key-value pair on a line. You might see dictionaries that look more like this:\n",
    "\n",
    "dictionary_name = {key_1: value_1,\n",
    "\n",
    "                   key_2: value_2,\n",
    "                   \n",
    "                   key_3: value_3,\n",
    "                   \n",
    "                   }"
   ]
  },
  {
   "cell_type": "markdown",
   "metadata": {},
   "source": [
    "Here's an example of cars in a parking lot where the key is their color and the value is the model:"
   ]
  },
  {
   "cell_type": "code",
   "execution_count": null,
   "metadata": {},
   "outputs": [],
   "source": [
    "car_dictionary = {'red': 'corvette', 'blue': 'subaru', 'silver': 'honda', 'black': 'bmw'}\n",
    "    \n",
    "print(car_dictionary)  "
   ]
  },
  {
   "cell_type": "markdown",
   "metadata": {},
   "source": [
    "Suppose there was more than one car with each color. We could use a list as our values:"
   ]
  },
  {
   "cell_type": "code",
   "execution_count": null,
   "metadata": {},
   "outputs": [],
   "source": [
    "car_dictionary = {'red': ['corvette', 'benz'], 'blue': ['subaru', 'chevy'], 'silver': ['honda'], 'black': ['bmw', 'honda', 'toyota']}\n",
    "    \n",
    "print(car_dictionary) "
   ]
  },
  {
   "cell_type": "markdown",
   "metadata": {},
   "source": [
    "If we want to figure out the cars that are red, we can put the key in square brackets:"
   ]
  },
  {
   "cell_type": "code",
   "execution_count": null,
   "metadata": {},
   "outputs": [],
   "source": [
    "print(car_dictionary['red'])"
   ]
  },
  {
   "cell_type": "markdown",
   "metadata": {},
   "source": [
    "If we wanted to get the corvette and benz separately, we could use list notation to access them:"
   ]
  },
  {
   "cell_type": "code",
   "execution_count": null,
   "metadata": {},
   "outputs": [],
   "source": [
    "print(car_dictionary['red'][0])\n",
    "print(car_dictionary['red'][1])"
   ]
  },
  {
   "cell_type": "markdown",
   "metadata": {},
   "source": [
    "### Finding elements in a dictionary\n",
    "Suppose we wanted to know if red was a key in our dictionary. We could type:"
   ]
  },
  {
   "cell_type": "code",
   "execution_count": null,
   "metadata": {},
   "outputs": [],
   "source": [
    "print('red' in car_dictionary)"
   ]
  },
  {
   "cell_type": "markdown",
   "metadata": {},
   "source": [
    "The in operator uses different algorithms for lists and dictionaries. For lists, it uses a linear search algorithm. As the list gets longer, the search time gets longer in direct proportion to the length of the list. For dictionaries, Python uses an algorithm called a hash table that has a remarkable property—the in operator takes about the same amount of time no matter how many items there are in a dictionary!!!"
   ]
  },
  {
   "cell_type": "markdown",
   "metadata": {},
   "source": [
    "### Looping through a dictionary\n",
    "If we wanted to print out each key and value pair on a different line, we could use the .items() command:"
   ]
  },
  {
   "cell_type": "code",
   "execution_count": null,
   "metadata": {},
   "outputs": [],
   "source": [
    "for key, value in car_dictionary.items():\n",
    "    print(key, ':', value)"
   ]
  },
  {
   "cell_type": "markdown",
   "metadata": {},
   "source": [
    "If we just wanted the colors (which are the keys), we could use the .keys() command:"
   ]
  },
  {
   "cell_type": "code",
   "execution_count": null,
   "metadata": {},
   "outputs": [],
   "source": [
    "for key in car_dictionary.keys():\n",
    "    print(key)"
   ]
  },
  {
   "cell_type": "markdown",
   "metadata": {},
   "source": [
    "If we just wanted the car model (which are the values), we could use the .values() command:"
   ]
  },
  {
   "cell_type": "code",
   "execution_count": null,
   "metadata": {},
   "outputs": [],
   "source": [
    "for value in car_dictionary.values():\n",
    "    print(value)"
   ]
  },
  {
   "cell_type": "markdown",
   "metadata": {},
   "source": [
    "What if you didn't specify whether you wanted key or values? You would just get the keys:"
   ]
  },
  {
   "cell_type": "code",
   "execution_count": null,
   "metadata": {},
   "outputs": [],
   "source": [
    "for car in car_dictionary:\n",
    "    print(car)"
   ]
  },
  {
   "cell_type": "markdown",
   "metadata": {},
   "source": [
    "Common Dictionary Operations\n",
    "---\n",
    "### Adding new key-value pairs\n",
    "\n",
    "To add a new key-value pair, you give the dictionary name followed by the new key in square brackets, and set that equal to the new value. We will show this by starting with an empty dictionary, and re-creating the dictionary from the example above."
   ]
  },
  {
   "cell_type": "code",
   "execution_count": null,
   "metadata": {},
   "outputs": [],
   "source": [
    "car_dictionary={}\n",
    "car_dictionary['red'] = 'corvette'\n",
    "car_dictionary['blue'] = 'subaru'\n",
    "car_dictionary['silver'] = 'honda'\n",
    "\n",
    "print(car_dictionary)"
   ]
  },
  {
   "cell_type": "markdown",
   "metadata": {},
   "source": [
    "If we try adding a Benz to the list of red cars, it will replace the corvette instead of adding both:"
   ]
  },
  {
   "cell_type": "code",
   "execution_count": null,
   "metadata": {},
   "outputs": [],
   "source": [
    "car_dictionary['red'] = 'benz'\n",
    "\n",
    "print(car_dictionary)"
   ]
  },
  {
   "cell_type": "markdown",
   "metadata": {},
   "source": [
    "To add both, we can update the red cars to be a list:"
   ]
  },
  {
   "cell_type": "code",
   "execution_count": null,
   "metadata": {},
   "outputs": [],
   "source": [
    "car_dictionary['red'] = ['corvette', 'benz']\n",
    "\n",
    "print(car_dictionary)"
   ]
  },
  {
   "cell_type": "markdown",
   "metadata": {},
   "source": [
    "If we want to delete the silver item:"
   ]
  },
  {
   "cell_type": "code",
   "execution_count": null,
   "metadata": {},
   "outputs": [],
   "source": [
    "del car_dictionary['silver']\n",
    "print(car_dictionary)"
   ]
  },
  {
   "cell_type": "markdown",
   "metadata": {},
   "source": [
    "### 16. Exercise - Pet Names\n",
    "- Create a dictionary to hold information about pets. Each key is an animal's name, and each value is the kind of animal.\n",
    "- For example, 'ziggy': 'canary'\n",
    "- Put at least 3 key-value pairs in your dictionary.\n",
    "- Use a for loop to print out a series of statements such as \"Willie is a dog.\""
   ]
  },
  {
   "cell_type": "code",
   "execution_count": null,
   "metadata": {},
   "outputs": [],
   "source": [
    "#insert pet name code"
   ]
  },
  {
   "cell_type": "markdown",
   "metadata": {},
   "source": [
    "### 17. Exercise - Sports\n",
    "Make a dictionary that maps each students' first name in your class to the fall sport that they play. Then make a loop that prints out the info on each line, such as \"Jack plays soccer.\"\n"
   ]
  },
  {
   "cell_type": "code",
   "execution_count": null,
   "metadata": {},
   "outputs": [],
   "source": [
    "#insert sport code\n"
   ]
  },
  {
   "cell_type": "markdown",
   "metadata": {},
   "source": [
    "### 18. Exercise - Ages 1\n",
    "- Make a dictionary for the list of ages in a 12th grade class. The age should be the key and the first names should be the values. Put multiple 17 and 18 year olds and one 16 year old in the class.\n",
    "- Make a loop to print each student and their name in the form \"Peter is 17 years old.\""
   ]
  },
  {
   "cell_type": "code",
   "execution_count": null,
   "metadata": {},
   "outputs": [],
   "source": [
    "#insert ages code\n",
    "ages = {16:[\"Eleanor\"],\n",
    "       17:[\"Jonah\",\"Macy\"],\n",
    "       18:[\"Ethan\",\"Carly\"]}\n",
    "\n"
   ]
  },
  {
   "cell_type": "markdown",
   "metadata": {},
   "source": [
    "### 19. Exercise - Ages 2\n",
    "Update your dictionary to:\n",
    "- include a fifteen year old\n",
    "- delete some of the 18 year olds\n",
    "- add another 16 year old\n",
    "\n",
    "Make a loop to print each student and their name in the form \"Peter is 17 years old.\""
   ]
  },
  {
   "cell_type": "code",
   "execution_count": null,
   "metadata": {},
   "outputs": [],
   "source": [
    "#insert ages again"
   ]
  },
  {
   "cell_type": "markdown",
   "metadata": {},
   "source": [
    "## Counting in loops\n",
    "Suppose we want to ask the user for a new car coming into the parking lot. If the color is already in the list of colors, we want to add the model to the list. If the color is not in the dictionary, we need to add it to the list of keys:"
   ]
  },
  {
   "cell_type": "code",
   "execution_count": null,
   "metadata": {},
   "outputs": [],
   "source": [
    "car_dictionary = {'red': ['corvette', 'benz'], 'blue': ['subaru', 'chevy'], 'silver': ['honda'], 'black': ['bmw', 'honda', 'toyota']}\n",
    "print(car_dictionary)\n",
    "\n",
    "newcar_model = input('Model: ')\n",
    "newcar_color = input('Color: ')\n",
    "if newcar_color not in car_dictionary.keys():\n",
    "    car_dictionary[newcar_color] = [newcar_model]\n",
    "else:\n",
    "    car_dictionary[newcar_color].append(newcar_model)\n",
    "\n",
    "print(car_dictionary)"
   ]
  },
  {
   "cell_type": "markdown",
   "metadata": {},
   "source": [
    "Note: In the above code, if the car wasn't already in the list, we wanted to append  [newcar_model] instead of just newcar_model, so that each value was in list form, even if some lists only contain one element.\n",
    "\n",
    "As another example, suppose you want to keep track of the numbers of each color of car in the parking lot. We can use count:"
   ]
  },
  {
   "cell_type": "code",
   "execution_count": null,
   "metadata": {},
   "outputs": [],
   "source": [
    "for key in car_dictionary.keys():\n",
    "    print(key, ':', len(car_dictionary[key]))"
   ]
  },
  {
   "cell_type": "markdown",
   "metadata": {},
   "source": [
    "As another example, suppose we want to store a word and create a dictionary for the letters in the word. We could type:"
   ]
  },
  {
   "cell_type": "code",
   "execution_count": null,
   "metadata": {},
   "outputs": [],
   "source": [
    "word = 'abracadabra'\n",
    "d = dict()\n",
    "for letter in word:\n",
    "    if letter not in d: \n",
    "        d[letter] = 1\n",
    "    else:\n",
    "        d[letter] = d[letter] + 1\n",
    "print(d)"
   ]
  },
  {
   "cell_type": "markdown",
   "metadata": {},
   "source": [
    "Dictionaries have a method called get that takes in a key and default value. If the key appears in the dictionary, then the value is returned. Otherwise, the default value is returned. Here's any example:"
   ]
  },
  {
   "cell_type": "code",
   "execution_count": null,
   "metadata": {},
   "outputs": [],
   "source": [
    "print(d.get('a', 0) )\n",
    "print(d.get('z', 0) )"
   ]
  },
  {
   "cell_type": "markdown",
   "metadata": {},
   "source": [
    "In the above code, 0 got printed out because there were no z's in \"abracadbra\".\n",
    "\n",
    "We can use \"get\" to make our letter counting even more efficient:"
   ]
  },
  {
   "cell_type": "code",
   "execution_count": null,
   "metadata": {},
   "outputs": [],
   "source": [
    "word = 'abracadabra'\n",
    "d=dict()\n",
    "for letter in word:\n",
    "    d[letter] = d.get(letter,0)+1\n",
    "print(d)"
   ]
  },
  {
   "cell_type": "markdown",
   "metadata": {},
   "source": [
    "### More looping\n",
    "\n",
    "Here's another example. Suppose we want to make a quiz review for spanish where we make a dictionary of terms in english and spanish. The user makes guesses until their guess is correct. We can write the following code:"
   ]
  },
  {
   "cell_type": "code",
   "execution_count": null,
   "metadata": {},
   "outputs": [],
   "source": [
    "translation_dict = {'hello': 'hola', 'goodbye': 'adios', 'gracias': 'thank you', 'man': 'hombre', 'milk': 'leche'}\n",
    "for key in translation_dict:\n",
    "    correct = False\n",
    "    while correct == False:\n",
    "        guess = input(f'What is the spanish word for {key} ?')\n",
    "        if guess == translation_dict[key]:\n",
    "            print('correct!')\n",
    "            correct = True"
   ]
  },
  {
   "cell_type": "markdown",
   "metadata": {},
   "source": [
    "Dictionaries are quite useful because they allow bits of information to be connected. One of the problems with dictionaries, however, is that they are not stored in any particular order. When you retrieve all of the keys or values in your dictionary, you can't be sure what order you will get them back. There is a quick and easy way to do this, however, when you want them in a particular order. If we want to get the keys in order, we can use the sorted function:"
   ]
  },
  {
   "cell_type": "code",
   "execution_count": null,
   "metadata": {},
   "outputs": [],
   "source": [
    "for key in sorted(translation_dict.keys()):\n",
    "    print(key)"
   ]
  },
  {
   "cell_type": "markdown",
   "metadata": {},
   "source": [
    "If each key has multiple values in a list, then we'll need to sort through the list. For example, suppose we wanted to print out each color/model car combo. We would type:"
   ]
  },
  {
   "cell_type": "code",
   "execution_count": null,
   "metadata": {},
   "outputs": [],
   "source": [
    "car_dictionary = {'red': ['corvette', 'benz'], 'blue': ['subaru', 'chevy'], 'silver': ['honda'], 'black': ['bmw', 'honda', 'toyota']}\n",
    "print(car_dictionary)\n",
    "\n",
    "for key, value in car_dictionary.items():\n",
    "    for model in value:\n",
    "        print(key, model)"
   ]
  },
  {
   "cell_type": "markdown",
   "metadata": {},
   "source": [
    "### 20. Exercise - team\n",
    "Write a program that asks a user for their name and their favorite team until they press enter. Then, summarize each team's fans in the following manner:\n",
    "\n",
    "Name and team: Lauren Seahawks\n",
    "\n",
    "Name and team: Paul Blazers\n",
    "\n",
    "Name and team: Colby Seahawks\n",
    "\n",
    "\"There is/are 2 Seahawks fans: [Lauren, Colby].\"\n",
    "\n",
    "\"There is/are 1 Blazers fans: Paul.\""
   ]
  },
  {
   "cell_type": "code",
   "execution_count": null,
   "metadata": {},
   "outputs": [],
   "source": [
    "#insert teams\n",
    "\n",
    "teams = {}\n",
    "\n"
   ]
  },
  {
   "cell_type": "markdown",
   "metadata": {},
   "source": [
    "### 21. Exercise - Ages 3\n",
    "Consider the list of ages below. Make a dictionary where the age is the key and the value is the number of students with that age. Make a loop to print out how many students are each age in your class WITHOUT using the get command."
   ]
  },
  {
   "cell_type": "code",
   "execution_count": 1,
   "metadata": {},
   "outputs": [],
   "source": [
    "#insert ages again\n",
    "ages = [15, 15, 15, 16, 16, 17, 18, 15, 18, 16]\n",
    "\n",
    "    "
   ]
  },
  {
   "cell_type": "markdown",
   "metadata": {},
   "source": [
    "### 22. Exercise - Ages 4\n",
    "Make a loop to print out how many students are each age in your class USING the get command."
   ]
  },
  {
   "cell_type": "code",
   "execution_count": 6,
   "metadata": {},
   "outputs": [],
   "source": [
    "#insert ages again again\n",
    "ages = [15, 15, 15, 16, 16, 17, 18, 15, 18, 16]\n"
   ]
  },
  {
   "cell_type": "markdown",
   "metadata": {},
   "source": [
    "### 23. Exercise - sports\n",
    "Make a dictionary whose key is a sport and whose values are the kids who play that sport. (There should be some sports that have a single student and other sports who have multiple students). Print out the sport and the number of kids who play that sport on each line."
   ]
  },
  {
   "cell_type": "code",
   "execution_count": null,
   "metadata": {},
   "outputs": [],
   "source": [
    "#insert sports code\n"
   ]
  },
  {
   "cell_type": "markdown",
   "metadata": {},
   "source": [
    "### 24. Exercise - sports again\n",
    "Ask the user to update the sports dictionary above. The sport may or may not already be in the dictionary. Update the dictionary accordingly."
   ]
  },
  {
   "cell_type": "code",
   "execution_count": null,
   "metadata": {},
   "outputs": [],
   "source": [
    "#insert sports again code\n"
   ]
  },
  {
   "cell_type": "markdown",
   "metadata": {},
   "source": [
    "### 25. Exercise - guessing game\n",
    "Make a dictionary of your family members' names and their birthday years. Create a guessing game that doesn't stop until you have guessed all of their birthdays correctly. Make the quiz order go in alphabetical order of your family members' names."
   ]
  },
  {
   "cell_type": "code",
   "execution_count": null,
   "metadata": {},
   "outputs": [],
   "source": [
    "#insert guessing game\n"
   ]
  },
  {
   "cell_type": "markdown",
   "metadata": {},
   "source": [
    "Dictionaries in a Dictionary\n",
    "----\n",
    "\n",
    "\n",
    "The most powerful nesting concept we will cover right now is nesting a dictionary inside of a dictionary. Many types of web page info and database info is stored in this form in files called JSON files.\n",
    "\n",
    "\n",
    "To demonstrate nested dictionaries, let's make a dictionary of pets, with some information about each pet. The keys for this dictionary will consist of the pet's name. The values will include information such as the kind of animal, the owner, and whether the pet has been vaccinated."
   ]
  },
  {
   "cell_type": "code",
   "execution_count": null,
   "metadata": {},
   "outputs": [],
   "source": [
    "# This program stores information about pets. For each pet,\n",
    "#   we store the kind of animal, the owner's name, and\n",
    "#   the breed.\n",
    "pets = {'willie': {'kind': 'dog', 'owner': 'eric', 'vaccinated': True},\n",
    "        'walter': {'kind': 'cockroach', 'owner': 'eric', 'vaccinated': False},\n",
    "        'peso': {'kind': 'dog', 'owner': 'chloe', 'vaccinated': True},\n",
    "        }\n",
    "\n",
    "# Let's show all the information for each pet.\n",
    "print(\"Here is what I know about Willie:\")\n",
    "print(\"kind: \" + pets['willie']['kind'])\n",
    "print(\"owner: \" + pets['willie']['owner'])\n",
    "print(\"vaccinated: \" + str(pets['willie']['vaccinated']))\n",
    "\n",
    "print(\"\\nHere is what I know about Walter:\")\n",
    "print(\"kind: \" + pets['walter']['kind'])\n",
    "print(\"owner: \" + pets['walter']['owner'])\n",
    "print(\"vaccinated: \" + str(pets['walter']['vaccinated']))\n",
    "\n",
    "print(\"\\nHere is what I know about Peso:\")\n",
    "print(\"kind: \" + pets['peso']['kind'])\n",
    "print(\"owner: \" + pets['peso']['owner'])\n",
    "print(\"vaccinated: \" + str(pets['peso']['vaccinated']))"
   ]
  },
  {
   "cell_type": "markdown",
   "metadata": {},
   "source": [
    "If we want to print all of the dictionary info in a loop, we can type:"
   ]
  },
  {
   "cell_type": "code",
   "execution_count": null,
   "metadata": {},
   "outputs": [],
   "source": [
    "# This program stores information about pets. For each pet,\n",
    "#   we store the kind of animal, the owner's name, and\n",
    "#   the breed.\n",
    "pets = {'willie': {'kind': 'dog', 'owner': 'eric', 'vaccinated': True},\n",
    "        'walter': {'kind': 'cockroach', 'owner': 'eric', 'vaccinated': False},\n",
    "        'peso': {'kind': 'dog', 'owner': 'chloe', 'vaccinated': True},\n",
    "        }\n",
    "\n",
    "# Let's show all the information for each pet.\n",
    "for pet_name, pet_information in pets.items():\n",
    "    print(f\"\\nHere is what I know about {pet_name.title()}:\")\n",
    "    print(\"kind: \" + pet_information['kind'])\n",
    "    print(\"owner: \" + pet_information['owner'])\n",
    "    print(\"vaccinated: \" + str(pet_information['vaccinated']))"
   ]
  },
  {
   "cell_type": "markdown",
   "metadata": {},
   "source": [
    "Or to shorten the code even further:"
   ]
  },
  {
   "cell_type": "code",
   "execution_count": null,
   "metadata": {},
   "outputs": [],
   "source": [
    "pets = {'willie': {'kind': 'dog', 'owner': 'eric', 'vaccinated': True},\n",
    "        'walter': {'kind': 'cockroach', 'owner': 'eric', 'vaccinated': False},\n",
    "        'peso': {'kind': 'dog', 'owner': 'chloe', 'vaccinated': True},\n",
    "        }\n",
    "\n",
    "# Let's show all the information for each pet.\n",
    "for pet_name, pet_information in pets.items():\n",
    "    print(f\"\\nHere is what I know about {pet_name.title()}:\")\n",
    "    # Each animal's dictionary is in 'information'\n",
    "    for key in pet_information:\n",
    "        print(key + \": \" + str(pet_information[key]))"
   ]
  },
  {
   "cell_type": "markdown",
   "metadata": {},
   "source": [
    "### 26. Exercise - Student info\n",
    "Write a dictionary whose key is student name and whose values are a dictionary containing the student's mother's name, father's name, birth year, and phone number. Write a loop that prints the information of each student."
   ]
  },
  {
   "cell_type": "code",
   "execution_count": null,
   "metadata": {},
   "outputs": [],
   "source": [
    "#insert student info\n",
    "student_info = {\"Matt\":{\"Mother\":\"Elizabeth\",\"Father\":\"Howard\",\"Birth Year\":\"45 AD\", \"Phone Number\":\"867-5309\"},\n",
    "               \"Ian\":{\"Mother\":\"E---\",\"Father\":\"H---\",\"Birth Year\":\"2045\", \"Phone Number\":\"555-1212\"}}\n",
    "\n",
    "for student, data in student_info.items():\n",
    "    print(f\"Here is what I know about {student}:\")\n",
    "    for key, value in data.items():\n",
    "        print(f\"{key}: {value}\")\n",
    "    print()"
   ]
  },
  {
   "cell_type": "markdown",
   "metadata": {},
   "source": [
    "### 27. Exercise - colleges\n",
    "Write a dictionary whose key is the college name and whose values are a dictionary containing the school's city, the school's state, and whether or not the school is public or private. Write a loop that prints out just the public/private info in the form such as \"New York University is private.\""
   ]
  },
  {
   "cell_type": "code",
   "execution_count": null,
   "metadata": {},
   "outputs": [],
   "source": [
    "#insert colleges"
   ]
  },
  {
   "cell_type": "markdown",
   "metadata": {},
   "source": [
    "### 28. Exercise - colleges again\n",
    "Using the college dictionary above, print out all of the colleges' info using a for loop."
   ]
  },
  {
   "cell_type": "code",
   "execution_count": null,
   "metadata": {},
   "outputs": [],
   "source": [
    "#insert colleges again"
   ]
  },
  {
   "cell_type": "markdown",
   "metadata": {},
   "source": [
    "Tuples\n",
    "---\n",
    "<a class=\"anchor\" id=\"tuples\"></a>\n",
    "\n",
    "Tuples are a data structure in Python which are more or less a read-only list. That is, like strings, tuples are immutable. All of the standard read-only operations that you can perform on a list can be performed on a tuple, including finding its length, slicing, indexing, and unpacking.\n",
    "\n",
    "Tuples are hashable, which make them very efficient for retrieving information. You can read more about being hashable here:\n",
    "\n",
    "https://stackoverflow.com/questions/14535730/what-do-you-mean-by-hashable-in-python\n",
    "\n",
    "All of Python’s immutable built-in objects are hashable (such as strings and tuples), while no mutable containers (such as lists or dictionaries) are. \n",
    "\n",
    "You already saw tuples when printing in placeholder format. In the following code, (word, number) is a tuple:\n"
   ]
  },
  {
   "cell_type": "code",
   "execution_count": null,
   "metadata": {},
   "outputs": [],
   "source": [
    "word = 'abracadbra'\n",
    "number = 5\n",
    "print(f'My favorite word is {word} and my favorite number is {number}.' )"
   ]
  },
  {
   "cell_type": "markdown",
   "metadata": {},
   "source": [
    "Tuples are notated just like lists, except that the items of the tuple are enclosed in parenthesis instead of square brackets."
   ]
  },
  {
   "cell_type": "code",
   "execution_count": null,
   "metadata": {},
   "outputs": [],
   "source": [
    "wordtuple = ('hello', 'goodbye', 'thank you')\n",
    "numbertuple = (5, 7, 0, 4)\n",
    "\n",
    "print(wordtuple[1])\n",
    "print(numbertuple[0:3])"
   ]
  },
  {
   "cell_type": "markdown",
   "metadata": {},
   "source": [
    "The one thing to be careful of though, is if you want to make a tuple out of 1 item, you need to add a comma after it:"
   ]
  },
  {
   "cell_type": "code",
   "execution_count": null,
   "metadata": {},
   "outputs": [],
   "source": [
    "mytuple = (8)\n",
    "print(type(mytuple)) #not a tuple!\n",
    "\n",
    "mytuple = (8,)\n",
    "print(type(mytuple)) #now it's a tuple!"
   ]
  },
  {
   "cell_type": "markdown",
   "metadata": {},
   "source": [
    "Since tuples are immutable, you can't add items to them like you can for lists:"
   ]
  },
  {
   "cell_type": "code",
   "execution_count": null,
   "metadata": {},
   "outputs": [],
   "source": [
    "wordtuple.append(\"you're welcome\")\n",
    "print(wordtuple)"
   ]
  },
  {
   "cell_type": "markdown",
   "metadata": {},
   "source": [
    "Because tuples are immutable, you'll also get an error if you try to change one of their items:"
   ]
  },
  {
   "cell_type": "code",
   "execution_count": null,
   "metadata": {},
   "outputs": [],
   "source": [
    "wordtuple[0]='yo'"
   ]
  },
  {
   "cell_type": "markdown",
   "metadata": {},
   "source": [
    "You can convert lists to tuples by using the tuple function:"
   ]
  },
  {
   "cell_type": "code",
   "execution_count": null,
   "metadata": {},
   "outputs": [],
   "source": [
    "mylist = [5, 7, 9, 1]\n",
    "mytuple = tuple(mylist)\n",
    "print(mytuple)"
   ]
  },
  {
   "cell_type": "markdown",
   "metadata": {},
   "source": [
    "#### Comparing Tuples\n",
    "Like most other builtin Python data types, tuples can be compared using the standard comparison operators (<, >, etc). Tuples are compared element-wise. This means that the first item from both tuples are compared. If their values are not equal, then the appropriate tuple is returned. If they are equal, then the second element from both tuples is compared, and this process is repeated. Here are some examples:\n"
   ]
  },
  {
   "cell_type": "code",
   "execution_count": null,
   "metadata": {},
   "outputs": [],
   "source": [
    "a = (1,5,3)\n",
    "b = (3,1,0)\n",
    "c = (1,5,4)\n",
    "print(a < b)\n",
    "print(a < c)"
   ]
  },
  {
   "cell_type": "markdown",
   "metadata": {},
   "source": [
    "Here's another example. Suppose we have a tuple of names and ages. The names will get sorted alphabetically first and then if the names are the same, they will be sorted according to age:"
   ]
  },
  {
   "cell_type": "code",
   "execution_count": null,
   "metadata": {},
   "outputs": [],
   "source": [
    "a = ('alice', 17)\n",
    "b = ('brandon', 16)\n",
    "c = ('zach', 17)\n",
    "d = ('mike', 16)\n",
    "e = ('alex', 18)\n",
    "f = ('brandon', 14)\n",
    "students = [a, b, c, d, e, f]\n",
    "students.sort()\n",
    "print(students)"
   ]
  },
  {
   "cell_type": "markdown",
   "metadata": {},
   "source": [
    "#### Dictionaries and Tuples\n",
    "\n",
    "The dictionary command \"items\" that we have already used returns a list of tuples as a key-value pair:"
   ]
  },
  {
   "cell_type": "code",
   "execution_count": null,
   "metadata": {},
   "outputs": [],
   "source": [
    "car_dictionary = {'red': 'corvette', 'blue': 'subaru', 'silver': 'honda', 'black': 'bmw'}\n",
    "print(car_dictionary.items())"
   ]
  },
  {
   "cell_type": "markdown",
   "metadata": {},
   "source": [
    "#### Dictionaries, Lists, and Tuples\n",
    "Suppose you have a word and you want to print out the letters in the text in order of what words appear most frequently. This is a common example of how a dictionary, a tuple, and a list can be used together. Look at the code below:"
   ]
  },
  {
   "cell_type": "code",
   "execution_count": null,
   "metadata": {},
   "outputs": [],
   "source": [
    "word = 'myabracadabra'\n",
    "\n",
    "#create the dictionary of letters:\n",
    "d=dict()\n",
    "for letter in word:\n",
    "    d[letter] = d.get(letter,0)+1\n",
    "print('original dictionary', d)\n",
    "\n",
    "#create a list of tuples using the dictionary items\n",
    "dlist = []\n",
    "for key, value in d.items():\n",
    "    dlist.append((value,key))\n",
    "\n",
    "print('list of tuples:', dlist)\n",
    "\n",
    "#sort the list of tuples and print them in sorted order\n",
    "dlist.sort(reverse = True)\n",
    "\n",
    "print('sorted by letter frequency:')\n",
    "for key,value in dlist:\n",
    "    print(key, value)\n"
   ]
  },
  {
   "cell_type": "markdown",
   "metadata": {},
   "source": [
    "What if we wanted to sort the list by alphabetical letter instead of frequency? In that case, we would want to store the tuples as (key, value) instead of (value, key), so that the letter comes first:"
   ]
  },
  {
   "cell_type": "code",
   "execution_count": null,
   "metadata": {},
   "outputs": [],
   "source": [
    "word = 'myabracadabra'\n",
    "\n",
    "#create the dictionary of letters:\n",
    "d=dict()\n",
    "for letter in word:\n",
    "    d[letter] = d.get(letter,0)+1\n",
    "print('original dictionary', d)\n",
    "\n",
    "#create a list of tuples to sort the letters:\n",
    "dlist = []\n",
    "for key, value in d.items():\n",
    "    dlist.append((key, value))\n",
    "\n",
    "print('list of tuples:', dlist)\n",
    "\n",
    "dlist.sort()\n",
    "\n",
    "print('sorted by letter alphabetical order:')\n",
    "for key,value in dlist:\n",
    "    print(key, value)"
   ]
  },
  {
   "cell_type": "markdown",
   "metadata": {},
   "source": [
    "### 29. Exercise - word count\n",
    "Write a program that takes in a lonnnng sentence. It makes a dictionary to store each word. It then uses a list to print the words in increasing order of frequency."
   ]
  },
  {
   "cell_type": "code",
   "execution_count": 2,
   "metadata": {},
   "outputs": [],
   "source": [
    "#insert word count\n",
    "sent = \"When in the course it it of human events it becomes necessary for one nation to end human events it becomes necessary \"\n",
    "words = {}\n",
    "\n",
    "    "
   ]
  },
  {
   "cell_type": "markdown",
   "metadata": {},
   "source": [
    "### 30. Exercise - word count again\n",
    "Print out the word dictionary in increasing alphabetical order"
   ]
  },
  {
   "cell_type": "code",
   "execution_count": null,
   "metadata": {},
   "outputs": [],
   "source": [
    "#insert word count again"
   ]
  },
  {
   "cell_type": "markdown",
   "metadata": {},
   "source": [
    "### 31. Exercise - Ages 5\n",
    "Write a program that uses the dictionary of student ages in a class to print out the ages in decreasing order of frequency."
   ]
  },
  {
   "cell_type": "code",
   "execution_count": 5,
   "metadata": {},
   "outputs": [],
   "source": [
    "#insert ages 5\n",
    "\n",
    "\n"
   ]
  },
  {
   "cell_type": "markdown",
   "metadata": {},
   "source": [
    "### 32. Exercise - Ages 6\n",
    "Write a program that uses the dictionary of student ages in a class to print out the ages in decreasing numerical order (Age 19, Age 18, etc...)"
   ]
  },
  {
   "cell_type": "code",
   "execution_count": null,
   "metadata": {},
   "outputs": [],
   "source": [
    "#insert ages 6"
   ]
  },
  {
   "cell_type": "markdown",
   "metadata": {},
   "source": [
    "Sets\n",
    "---\n",
    "<a class=\"anchor\" id=\"sets\"></a>\n",
    "\n",
    "A set is an unordered collection of unique objects. The easiest way to think about sets is that they are like dictionaries without values; that is, the keys in a dictionary are a set. Checking whether something is in a set is very efficient compared to a data structure like a list.\n",
    "\n",
    "### Notation:\n",
    "Since [] denotes a list, {} denotes a dictionary, and () denotes a tuple, we actually need to use the word set([]) to define a set:"
   ]
  },
  {
   "cell_type": "code",
   "execution_count": null,
   "metadata": {},
   "outputs": [],
   "source": [
    "numbers = set([5,7,8,10,5,7, 'hello'])\n",
    "print(numbers)"
   ]
  },
  {
   "cell_type": "markdown",
   "metadata": {},
   "source": [
    "The first thing to notice is that the set got rid of our duplicates. 5 and 7 were only saved once in our set. Another thing to notice is that like dictionaries, since sets are not saved in one particular order, we can't reference items in them using indexing:"
   ]
  },
  {
   "cell_type": "code",
   "execution_count": null,
   "metadata": {},
   "outputs": [],
   "source": [
    "print(numbers[0])"
   ]
  },
  {
   "cell_type": "markdown",
   "metadata": {},
   "source": [
    "Like append for lists, we can add elements to sets using \"add\" and remove them using \"remove\":"
   ]
  },
  {
   "cell_type": "code",
   "execution_count": null,
   "metadata": {},
   "outputs": [],
   "source": [
    "numbers.add(1)\n",
    "numbers.remove(8)\n",
    "print(numbers)"
   ]
  },
  {
   "cell_type": "markdown",
   "metadata": {},
   "source": [
    "Another thing to know about sets is that you can only add immutable objects to them. This includes strings, numbers, and dictionaries, but excludes things like lists. For example, if I try to add the list [1,2,3] to the set \"numbers\", I will get an error:"
   ]
  },
  {
   "cell_type": "code",
   "execution_count": null,
   "metadata": {},
   "outputs": [],
   "source": [
    "numbers.add([1,2,3])"
   ]
  },
  {
   "cell_type": "markdown",
   "metadata": {},
   "source": [
    "However, we can convert a list to a set easily:"
   ]
  },
  {
   "cell_type": "code",
   "execution_count": null,
   "metadata": {},
   "outputs": [],
   "source": [
    "mylist = [1,2,3]\n",
    "myset = set(mylist)\n",
    "print(myset)"
   ]
  },
  {
   "cell_type": "markdown",
   "metadata": {},
   "source": [
    "The fact that sets only contain unique elements make it easy to determine if two lists contain the same types of items. For example, if we wanted to test whether brain and bbbbrainnnn contain the same letters, we couldn't use a list, because they are different. However, we could use sets:"
   ]
  },
  {
   "cell_type": "code",
   "execution_count": null,
   "metadata": {},
   "outputs": [],
   "source": [
    "word1 = 'brain'\n",
    "word2 = 'bbbbrainnnn'\n",
    "print(list(word1) == list(word2))\n",
    "print(set(word1) == set(word2))"
   ]
  },
  {
   "cell_type": "markdown",
   "metadata": {},
   "source": [
    "Suppose we wanted to make a letter count in a word. We could use set() to iterate through the unique letters and .count to count them:"
   ]
  },
  {
   "cell_type": "code",
   "execution_count": null,
   "metadata": {},
   "outputs": [],
   "source": [
    "word = 'bbbbrainnnn'\n",
    "for letter in set(word):\n",
    "    print (letter, list(word).count(letter))"
   ]
  },
  {
   "cell_type": "markdown",
   "metadata": {},
   "source": [
    "If we wanted to print it in alphabetical order, we could type:"
   ]
  },
  {
   "cell_type": "code",
   "execution_count": null,
   "metadata": {},
   "outputs": [],
   "source": [
    "word = 'bbbbrainnnn'\n",
    "for letter in sorted(set(word)):\n",
    "    print (letter, list(word).count(letter))"
   ]
  },
  {
   "cell_type": "markdown",
   "metadata": {},
   "source": [
    "### 33. Exercise - sentence\n",
    "Use sets to determine whether two sentences contain the same words. For example, \"hello goodbye\" and \"goodbye goodbye hello\" should register as having the same words."
   ]
  },
  {
   "cell_type": "code",
   "execution_count": null,
   "metadata": {},
   "outputs": [],
   "source": [
    "#insert sentence\n"
   ]
  },
  {
   "cell_type": "code",
   "execution_count": null,
   "metadata": {},
   "outputs": [],
   "source": [
    "d = {}\n",
    "d['test']=d.get('test',[])+['matt']\n",
    "print(d)"
   ]
  },
  {
   "cell_type": "markdown",
   "metadata": {},
   "source": [
    "### 34. Exercise - sentence again\n",
    "Use sets to create a word count of words in a sentence."
   ]
  },
  {
   "cell_type": "code",
   "execution_count": null,
   "metadata": {},
   "outputs": [],
   "source": [
    "#insert sentence again\n",
    "sent = \"When in the course of human events it IT IT becomes necessary for one nation to break from another\"\n",
    "sent = sent.lower().split()\n",
    "for word in set(sent):\n",
    "    print(word,sent.count(word))"
   ]
  },
  {
   "cell_type": "markdown",
   "metadata": {},
   "source": [
    "### 35. Exercise - sentence again again\n",
    "Print the above words and word counts in the sentence in increasing alphabetical order."
   ]
  },
  {
   "cell_type": "code",
   "execution_count": null,
   "metadata": {},
   "outputs": [],
   "source": [
    "#insert sentence again again"
   ]
  },
  {
   "cell_type": "markdown",
   "metadata": {},
   "source": [
    "### 36. Exercise - sentence again again again\n",
    "Print the above words and word counts in the sentence in increasing order of frequency."
   ]
  },
  {
   "cell_type": "code",
   "execution_count": null,
   "metadata": {},
   "outputs": [],
   "source": [
    "#insert sentence again again again"
   ]
  },
  {
   "cell_type": "markdown",
   "metadata": {},
   "source": [
    "### 37. Exercise - Colors\n",
    "Write a program that stores a list of colors (with some repeats) in a list, and then uses set notation to print out each color and the number of times that it appears in increasing alphabetical order by color."
   ]
  },
  {
   "cell_type": "code",
   "execution_count": null,
   "metadata": {},
   "outputs": [],
   "source": [
    "#insert colors "
   ]
  },
  {
   "cell_type": "markdown",
   "metadata": {},
   "source": [
    "### Union, Intersection, and Difference\n",
    "Python sets have support for the union, intersection, and difference operations. The union can be thought of as \"adding\" the two sets together. It returns a set with all of the elements that are in either set. The intersection of two sets returns a set of all the elements which are in both sets. The difference of two sets can be thought of as \"subtracting\" one set from the other. It returns the elements in the first set minus the elements in the second set. Here's an example:\n",
    "\n",
    "\n"
   ]
  },
  {
   "cell_type": "code",
   "execution_count": null,
   "metadata": {},
   "outputs": [],
   "source": [
    "mydogs = set(['labrador', 'shepherd', 'pit bull', 'corgie'])\n",
    "yourdogs = set(['pit bull', 'border collie'])\n",
    "print(mydogs | yourdogs) #union\n",
    "print(mydogs & yourdogs) #intersection\n",
    "print(mydogs - yourdogs) #difference\n",
    "print(yourdogs - mydogs) #difference\n",
    "print(yourdogs ^ mydogs) #symmetric difference (the dogs not in both)"
   ]
  },
  {
   "cell_type": "markdown",
   "metadata": {},
   "source": [
    "### 38. Exercise - sports\n",
    "Write a program that stores a set of sports that I like and a set of sports that you like (and make it so that we have some sports in common). Then using set notation print out the sports that we have in common, all the sports that we have listed, and the sports that exactly one of us likes. Make your code as efficient as possible by using the set notation commands above."
   ]
  },
  {
   "cell_type": "code",
   "execution_count": null,
   "metadata": {},
   "outputs": [],
   "source": [
    "#insert sports"
   ]
  },
  {
   "cell_type": "markdown",
   "metadata": {},
   "source": [
    "### Counter from Collections\n",
    "We have been keeping count of the frequency of things in a list by building dictionaries from scratch, but there is Python package that does this for us. All you need to do is this:"
   ]
  },
  {
   "cell_type": "code",
   "execution_count": null,
   "metadata": {},
   "outputs": [],
   "source": [
    "from collections import Counter\n",
    "\n",
    "mydict = Counter(['red', 'red', 'blue', 'red', 'yellow', 'blue', 'yellow', 'green'])\n",
    "print(mydict)"
   ]
  },
  {
   "cell_type": "markdown",
   "metadata": {},
   "source": [
    "Woohoo! Counter makes a frequency dictionary automatically. To print in sorted order of item, we could type:"
   ]
  },
  {
   "cell_type": "code",
   "execution_count": null,
   "metadata": {},
   "outputs": [],
   "source": [
    "sorted(mydict.items())"
   ]
  },
  {
   "cell_type": "markdown",
   "metadata": {},
   "source": [
    "To sort in order of frequency, we would use tuples:"
   ]
  },
  {
   "cell_type": "code",
   "execution_count": null,
   "metadata": {},
   "outputs": [],
   "source": [
    "dlist = []\n",
    "for key, value in mydict.items():\n",
    "    dlist.append((value, key))\n",
    "\n",
    "dlist.sort()\n",
    "\n",
    "print('decreasing alphabetical order:')\n",
    "for key,value in dlist:\n",
    "    print(key, value)"
   ]
  },
  {
   "cell_type": "markdown",
   "metadata": {},
   "source": [
    "Or using list comprehensions:"
   ]
  },
  {
   "cell_type": "code",
   "execution_count": null,
   "metadata": {},
   "outputs": [],
   "source": [
    "dlist = [(value, key) for key, value in mydict.items()]\n",
    "\n",
    "dlist.sort()\n",
    "\n",
    "print('decreasing alphabetical order:')\n",
    "for key,value in dlist:\n",
    "    print(key, value)"
   ]
  },
  {
   "cell_type": "markdown",
   "metadata": {},
   "source": [
    "There are also some methods built into Counter like most common:"
   ]
  },
  {
   "cell_type": "code",
   "execution_count": null,
   "metadata": {},
   "outputs": [],
   "source": [
    "mydict.most_common()[0]\n",
    "type(mydict)"
   ]
  },
  {
   "cell_type": "code",
   "execution_count": null,
   "metadata": {},
   "outputs": [],
   "source": []
  }
 ],
 "metadata": {
  "kernelspec": {
   "display_name": "Python 3",
   "language": "python",
   "name": "python3"
  },
  "language_info": {
   "codemirror_mode": {
    "name": "ipython",
    "version": 3
   },
   "file_extension": ".py",
   "mimetype": "text/x-python",
   "name": "python",
   "nbconvert_exporter": "python",
   "pygments_lexer": "ipython3",
   "version": "3.8.3"
  },
  "toc": {
   "base_numbering": 1,
   "nav_menu": {},
   "number_sections": false,
   "sideBar": true,
   "skip_h1_title": false,
   "title_cell": "Table of Contents",
   "title_sidebar": "Contents",
   "toc_cell": false,
   "toc_position": {},
   "toc_section_display": true,
   "toc_window_display": false
  }
 },
 "nbformat": 4,
 "nbformat_minor": 1
}
