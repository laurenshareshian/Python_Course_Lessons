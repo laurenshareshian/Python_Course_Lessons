{
 "cells": [
  {
   "cell_type": "markdown",
   "metadata": {
    "collapsed": false
   },
   "source": [
    "## 73 Hour Coding Challenge:  Word Golf!\n",
    "\n",
    "This is a challenging problem that will require not only all of your current coding skills but will also force you to think of new ways to accomplish things you've never done before.  LEVEL 1 will test your coding chops and perhaps even give you a false sense of confidence. The LEVELS that follow will test your mettle, your grit, your ability to endure against odds and against seemingly insurmountable challenges.  You have 73 hours to accomplish as many of the challenges listed below as you can complete.  LEVEL 1 should be doable using only the two class periods allotted to this Challenge -- climbing beyond LEVEL 1, however, will require additional grit, determination, struggle and a little moxie.  Do you have what it takes?\n",
    "\n",
    "Like most things worth doing, this won't be easy.  Like most things worth doing, you will receive no grade for the task.  There is no prize but honor, no fee but struggle, but the glory of accomplishment is real!\n",
    "\n",
    "### On to the Game:\n",
    "\n",
    "You have been contracted by a major game development company to build a gaming engine for their blockbuster game, **Word Golf**(tm).\n",
    "\n",
    "Here are the rules of **Word Golf**.  You are given two words of equal length, and you must find a path between those two words by only changing a single letter at a time to create a path of real words from the first word to the second.\n",
    "\n",
    "For example:  If you are given these two words: **CARS** and **DRAT**, you might find a path like this:\n",
    "\n",
    "    CARS -> CART -> DART -> DAFT -> DEFT -> DEBT -> DEET -> BEET -> BEAT -> BRAT -> DRAT\n",
    "\n",
    "This would be a score of 10 because there are 10 steps between these two words on this path.\n",
    "\n",
    "Your job is to create the following:\n",
    "\n",
    "### LEVEL 1 (base camp and the start of the climb)\n",
    "\n",
    "1.1: Write a function called `valid_score` that takes in 2 words of equal length and determines if they are only one Word Golf move away from each other. For example:  CART and CARS would return True, but CARS and BARN would return False.  CART only needs to change one letter T->S to get to CARS, but CARS would need to change C->B and S->N to get to BARN, so they are not \"one away.\"\n",
    "\n",
    "1.2: Write a program or function that takes in two words and a list of words and determines if the list is a  valid solution to get from word 1 to word 2.  If it is NOT a valid solution, it returns False.  If it is a valid solution, it returns the SCORE.  For example:\n",
    "```python\n",
    "valid_score('cats','yarn',['cats','cars','bars','barn','yarn']) \n",
    "```\n",
    "would return 4 because it is valid and takes four steps to get from CATS to YARN\n",
    "```python\n",
    "valid_score('cats','yarn',['cats','bars','barn','yarn'])\n",
    "```\n",
    "would return FALSE because you can't get from CATS to BARS in one step.\n",
    "* note for 1.2, you do NOT need to validate if each of the words are actually English words\n",
    "    \n",
    "SHOW YOUR SOLUTIONS BEFORE MOVING ON\n",
    "    \n"
   ]
  },
  {
   "cell_type": "code",
   "execution_count": 1,
   "metadata": {
    "collapsed": true
   },
   "outputs": [
   ],
   "source": [
    "#Level 1 Code and Functions\n"
   ]
  },
  {
   "cell_type": "markdown",
   "metadata": {
    "collapsed": true
   },
   "source": [
    "### Level 2 (the route gets steeper)\n",
    "\n",
    "2.1:  Improve your function in 1.2 to make it also check that the words are valid English words (using the SOWPODS dictionary we used for the Scrabble project).\n",
    "\n",
    "2.2:  Write a fuction that finds all the words that are \"one away\" from a given word.  For examples:\n",
    "`one_away('matt')` would return:\n",
    "\n",
    "`['batt', 'malt', 'mart', 'mast', 'mate', 'math', 'mats', 'maty', 'maut', 'mitt', 'mott', 'mutt', 'tatt', 'watt']`\n",
    "\n",
    "`one_away('chad')` returns:\n",
    "\n",
    "`['chai', 'chal', 'cham', 'chao', 'chap', 'char', 'chas', 'chat', 'chav', 'chaw', 'chay', 'chid', 'clad', 'shad']`\n",
    "   \n",
    "`one_away('lauren')` returns only \n",
    "\n",
    "`['laurel']`\n",
    "    \n",
    "SHOW YOUR SOLUTIONS BEFORE MOVING ON\n",
    "\n"
   ]
  },
  {
   "cell_type": "code",
   "execution_count": 1,
   "metadata": {
    "collapsed": false
   },
   "outputs": [
   ],
   "source": [
    "# Level 2 Code and Functions\n"
   ]
  },
  {
   "cell_type": "markdown",
   "metadata": {
    "collapsed": true
   },
   "source": [
    "### Level 3 (air is getting thinner up here, and less crowded)\n",
    "    \n",
    "3.1 Write a function that returns how close of a match one word is to another.  For example:\n",
    "\n",
    "`score_word('cars','bars')` would return 3 because 'bars' has 3 letters in the same location as 'cars'\n",
    "\n",
    "`score_word('matt','past')` would return 2 because 'past' has 2 letters in the same place as 'matt'\n",
    "    \n",
    "3.2 Write a function or group of functions that finds a path between two given words of 3 or more letters.  This program should return a valid path, even if it is not the shortest path.  Your code might not work for all possible words yet, but if you get a reasonable number of solutions for some simple paths, this is success!\n",
    "\n",
    "for example:  `find_path('cats','dogs')` might return `['cats', 'cags', 'cogs', 'dogs']`\n",
    "    \n",
    "SHOW YOUR SOLUTIONS BEFORE MOVING ON\n",
    "\n"
   ]
  },
  {
   "cell_type": "code",
   "execution_count": 3,
   "metadata": {
    "collapsed": true
   },
   "outputs": [
   ],
   "source": [
    "# Level 3 Code and Functions"
   ]
  },
  {
   "cell_type": "markdown",
   "metadata": {
    "collapsed": false
   },
   "source": [
    "### Level 4 (The Summit)\n",
    "    Improve your program or function from Level 3 to return the SHORTEST path between two given words of 3 or more letters.  Can you prove it is the shortest path?  If no path is possible, the function should state this fact.\n"
   ]
  },
  {
   "cell_type": "code",
   "execution_count": 4,
   "metadata": {
    "collapsed": true
   },
   "outputs": [
   ],
   "source": [
    "# Level 4 Code and Functions"
   ]
  }
 ],
 "metadata": {
  "kernelspec": {
   "display_name": "Python 3 (Ubuntu Linux)",
   "language": "python",
   "name": "python3"
  },
  "language_info": {
   "codemirror_mode": {
    "name": "ipython",
    "version": 3
   },
   "file_extension": ".py",
   "mimetype": "text/x-python",
   "name": "python",
   "nbconvert_exporter": "python",
   "pygments_lexer": "ipython3",
   "version": "3.6.7"
  }
 },
 "nbformat": 4,
 "nbformat_minor": 0
}