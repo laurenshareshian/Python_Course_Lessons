{
 "cells": [
  {
   "cell_type": "markdown",
   "metadata": {},
   "source": [
    "### PEP8 Style Guidelines, Linters, and Magic Commands"
   ]
  },
  {
   "cell_type": "markdown",
   "metadata": {},
   "source": [
    "One of Guido Van Rossum's (the inventor of Python) key insights is that code is read much more often than it is written. The PEP 8 style guidelines are intended to improve the readability of code and make it consistent across the wide spectrum of Python code. The full list of rules is located here: \n",
    "\n",
    "https://www.python.org/dev/peps/pep-0008/\n",
    "\n",
    "Some main things to remember are:\n",
    "\n",
    "1.Indentation should be four spaces.\n",
    "\n",
    "2.Put spaces around operations like +, -, ==, etc.\n",
    "\n",
    "3.Don't put spaces around keywords or parameters (ex: def function(greeting='hello').\n",
    "\n",
    "Here is a well-styled cell of code:"
   ]
  },
  {
   "cell_type": "code",
   "execution_count": 1,
   "metadata": {},
   "outputs": [
    {
     "data": {
      "text/plain": [
       "'Hi my name is Sally and I will be 7 next year.'"
      ]
     },
     "execution_count": 1,
     "metadata": {},
     "output_type": "execute_result"
    }
   ],
   "source": [
    "def next_birthday(name='John Doe', age=18):\n",
    "    age = age + 1\n",
    "    return f'Hi my name is {name} and I will be {age} next year.'\n",
    "\n",
    "next_birthday('Sally', 6)"
   ]
  },
  {
   "cell_type": "markdown",
   "metadata": {},
   "source": [
    "In order to check that our code is clean and satisfies PEP 8 guidelines, we can use a linter. A linter or lint refers to tools that analyze source code to flag programming errors, bugs, stylistic errors, and suspicious constructs. \n",
    "\n",
    "Now, we can use magic linting commands. Python has a set of predefined ‘magic functions’ that you can call with a command line style syntax. There are two kinds of magics, line-oriented and cell-oriented. Line magics are prefixed with the % character and work much like OS command-line calls: they get as an argument the rest of the line, where arguments are passed without parentheses or quotes. Cell magics are prefixed with a double %%, and they are functions that get as an argument not only the rest of the line, but also the lines below it in a separate argument.\n",
    "\n",
    "You have already used a line magic command in the past with plotting. Writing the line %matplotlib inline allows you to not have to write the line plt.show():\n"
   ]
  },
  {
   "cell_type": "code",
   "execution_count": 2,
   "metadata": {},
   "outputs": [
    {
     "data": {
      "text/plain": [
       "[<matplotlib.lines.Line2D at 0x11f1ed278>]"
      ]
     },
     "execution_count": 2,
     "metadata": {},
     "output_type": "execute_result"
    },
    {
     "data": {
      "image/png": "[encoded data removed]",
      "text/plain": [
       "<Figure size 432x288 with 1 Axes>"
      ]
     },
     "execution_count": 2,
     "metadata": {
      "needs_background": "light"
     },
     "output_type": "execute_result"
    }
   ],
   "source": [
    "import matplotlib.pyplot as plt\n",
    "%matplotlib inline\n",
    "\n",
    "plt.plot([1,2,3], [1,2,3], '.')"
   ]
  },
  {
   "cell_type": "markdown",
   "metadata": {},
   "source": [
    "In order to get a linter working, we'll first need to install it. Run the following cell:"
   ]
  },
  {
   "cell_type": "code",
   "execution_count": 4,
   "metadata": {},
   "outputs": [
    {
     "name": "stdout",
     "output_type": "stream",
     "text": [
      "Requirement already satisfied: pycodestyle in /usr/lib/python3/dist-packages (2.3.1)\n",
      "Requirement already satisfied: flake8 in /usr/lib/python3/dist-packages (3.5.0)\n",
      "Requirement already satisfied: pycodestyle_magic in /home/user/.local/lib/python3.6/site-packages (0.5)\n"
     ]
    }
   ],
   "source": [
    "! pip install pycodestyle flake8 --user\n",
    "! pip install pycodestyle_magic --user"
   ]
  },
  {
   "cell_type": "markdown",
   "metadata": {},
   "source": [
    "If you get any errors, try the following fixes. If you didn't get an error above, skip this cell:\n",
    "\n",
    "**Some common installation errors**:\n",
    "\n",
    "If you get an error about msgpack or some other package needing to be installed when trying to run the above commands, type \"pip install msgpack\" or \"pip install {whatever the package is} first and then try again.\n",
    "\n",
    "If you get an error involving disutils not being able to uninstall a package called pyflakes or something else, try typing first:\n",
    "\n",
    "\n",
    "pip install pycodestyle flake8 --ignore-installed pyflakes\n",
    "\n",
    "**Now go to Kernel - Restart so that you can now use the packages that you just installed. You should not need to do any of the previous steps again, just start fresh on the line below.**"
   ]
  },
  {
   "cell_type": "markdown",
   "metadata": {},
   "source": [
    "**Using a linter:**\n",
    "\n",
    "Now we can use a cell magic to help us with linting. First, run the cell below:"
   ]
  },
  {
   "cell_type": "code",
   "execution_count": 5,
   "metadata": {},
   "outputs": [],
   "source": [
    "%load_ext pycodestyle_magic\n",
    "%pycodestyle_on"
   ]
  },
  {
   "cell_type": "markdown",
   "metadata": {},
   "source": [
    "Now, run this cell:"
   ]
  },
  {
   "cell_type": "code",
   "execution_count": 6,
   "metadata": {},
   "outputs": [
    {
     "data": {
      "text/plain": [
       "'Hi my name is Sally and I will be 7 next year.'"
      ]
     },
     "execution_count": 6,
     "metadata": {},
     "output_type": "execute_result"
    },
    {
     "name": "stderr",
     "output_type": "stream",
     "text": [
      "1:23: E251 unexpected spaces around keyword / parameter equals\n",
      "1:25: E251 unexpected spaces around keyword / parameter equals\n",
      "1:41: E251 unexpected spaces around keyword / parameter equals\n",
      "1:43: E251 unexpected spaces around keyword / parameter equals\n",
      "2:3: E111 indentation is not a multiple of four\n",
      "2:6: E225 missing whitespace around operator\n",
      "3:3: E111 indentation is not a multiple of four\n",
      "5:1: E305 expected 2 blank lines after class or function definition, found 1\n",
      "1:23: E251 unexpected spaces around keyword / parameter equals\n",
      "1:25: E251 unexpected spaces around keyword / parameter equals\n",
      "1:41: E251 unexpected spaces around keyword / parameter equals\n",
      "1:43: E251 unexpected spaces around keyword / parameter equals\n",
      "2:3: E111 indentation is not a multiple of four\n",
      "2:6: E225 missing whitespace around operator\n",
      "3:3: E111 indentation is not a multiple of four\n",
      "5:1: E305 expected 2 blank lines after class or function definition, found 1\n"
     ]
    }
   ],
   "source": [
    "def next_birthday(name = 'John Doe', age = 18):\n",
    "  age=age+1\n",
    "  return f'Hi my name is {name} and I will be {age} next year.'\n",
    "\n",
    "next_birthday('Sally', 6)"
   ]
  },
  {
   "cell_type": "markdown",
   "metadata": {},
   "source": [
    "Uh oh, we've got a bunch of issues to clear up. First, it says that \"E251 unexpected spaces around keyword / parameter equals\" four times (in line 1, character #23, 25, 41, and 43.. Let's get rid of the spaces around the arguments to fix these:"
   ]
  },
  {
   "cell_type": "code",
   "execution_count": 5,
   "metadata": {},
   "outputs": [
    {
     "data": {
      "text/plain": [
       "'Hi my name is Sally and I will be 7 next year.'"
      ]
     },
     "execution_count": 5,
     "metadata": {},
     "output_type": "execute_result"
    },
    {
     "name": "stderr",
     "output_type": "stream",
     "text": [
      "2:3: E111 indentation is not a multiple of four\n",
      "2:6: E225 missing whitespace around operator\n",
      "3:3: E111 indentation is not a multiple of four\n",
      "5:1: E305 expected 2 blank lines after class or function definition, found 1\n"
     ]
    }
   ],
   "source": [
    "def next_birthday(name='John Doe', age=18):\n",
    "  age=age+1\n",
    "  return f'Hi my name is {name} and I will be {age} next year.'\n",
    "\n",
    "next_birthday('Sally', 6)"
   ]
  },
  {
   "cell_type": "markdown",
   "metadata": {},
   "source": [
    "Now we should fix our indentation:"
   ]
  },
  {
   "cell_type": "code",
   "execution_count": 6,
   "metadata": {},
   "outputs": [
    {
     "data": {
      "text/plain": [
       "'Hi my name is Sally and I will be 7 next year.'"
      ]
     },
     "execution_count": 6,
     "metadata": {},
     "output_type": "execute_result"
    },
    {
     "name": "stderr",
     "output_type": "stream",
     "text": [
      "2:8: E225 missing whitespace around operator\n",
      "5:1: E305 expected 2 blank lines after class or function definition, found 1\n"
     ]
    }
   ],
   "source": [
    "def next_birthday(name='John Doe', age=18):\n",
    "    age=age + 1\n",
    "    return f'Hi my name is {name} and I will be {age} next year.'\n",
    "\n",
    "next_birthday('Sally', 6)"
   ]
  },
  {
   "cell_type": "markdown",
   "metadata": {},
   "source": [
    "Next, let's fix our spacing around the equality operator:"
   ]
  },
  {
   "cell_type": "code",
   "execution_count": 7,
   "metadata": {},
   "outputs": [
    {
     "data": {
      "text/plain": [
       "'Hi my name is Sally and I will be 7 next year.'"
      ]
     },
     "execution_count": 7,
     "metadata": {},
     "output_type": "execute_result"
    },
    {
     "name": "stderr",
     "output_type": "stream",
     "text": [
      "5:1: E305 expected 2 blank lines after class or function definition, found 1\n"
     ]
    }
   ],
   "source": [
    "def next_birthday(name='John Doe', age=18):\n",
    "    age = age + 1\n",
    "    return f'Hi my name is {name} and I will be {age} next year.'\n",
    "\n",
    "next_birthday('Sally', 6)"
   ]
  },
  {
   "cell_type": "markdown",
   "metadata": {},
   "source": [
    "Finally, put two blank spaces after the end of your function:"
   ]
  },
  {
   "cell_type": "code",
   "execution_count": 8,
   "metadata": {},
   "outputs": [
    {
     "data": {
      "text/plain": [
       "'Hi my name is Sally and I will be 7 next year.'"
      ]
     },
     "execution_count": 8,
     "metadata": {},
     "output_type": "execute_result"
    }
   ],
   "source": [
    "def next_birthday(name='John Doe', age=18):\n",
    "    age = age + 1\n",
    "    return f'Hi my name is {name} and I will be {age} next year.'\n",
    "\n",
    "\n",
    "next_birthday('Sally', 6)"
   ]
  },
  {
   "cell_type": "markdown",
   "metadata": {},
   "source": [
    "Note: if you want to see which line number that you are on (this really helps with finding linting errors) go to View - Toggle Line Numbers."
   ]
  },
  {
   "cell_type": "markdown",
   "metadata": {},
   "source": [
    "### Exercise: Clean up the code below using a linter."
   ]
  },
  {
   "cell_type": "code",
   "execution_count": 9,
   "metadata": {},
   "outputs": [
    {
     "data": {
      "text/plain": [
       "\"You're old, Kanye!\""
      ]
     },
     "execution_count": 9,
     "metadata": {},
     "output_type": "execute_result"
    },
    {
     "name": "stderr",
     "output_type": "stream",
     "text": [
      "1:16: E251 unexpected spaces around keyword / parameter equals\n",
      "1:18: E251 unexpected spaces around keyword / parameter equals\n",
      "1:34: E251 unexpected spaces around keyword / parameter equals\n",
      "1:36: E251 unexpected spaces around keyword / parameter equals\n",
      "2:3: E111 indentation is not a multiple of four\n",
      "2:9: E225 missing whitespace around operator\n",
      "4:3: E111 indentation is not a multiple of four\n",
      "5:58: W291 trailing whitespace\n",
      "7:1: E305 expected 2 blank lines after class or function definition, found 1\n",
      "7:15: E231 missing whitespace after ','\n",
      "8:1: W391 blank line at end of file\n"
     ]
    }
   ],
   "source": [
    "def insult(name = \"John Doe\", age = 18):\n",
    "  if age>25:\n",
    "    return f\"You're old, {name}!\"\n",
    "  else:\n",
    "    return f\"You're going to be old soon enough, {name}!\" \n",
    "\n",
    "insult('Kanye',40)\n"
   ]
  },
  {
   "cell_type": "markdown",
   "metadata": {},
   "source": [
    "### timeit\n",
    "Another type of magic command that is helpful is timeit. timeit won't work with pycodestyle on so first go to Kernel - Restart Kernel to get rid of it."
   ]
  },
  {
   "cell_type": "markdown",
   "metadata": {},
   "source": [
    " Timeit allows you to time how fast your algorithm takes to run, in order to compare which algorithm may be most efficient. \n",
    "\n",
    "Here's one example where we check all of the numbers between 2 and 16785407 before deciding if 16785408 is prime. It runs on a scale of seconds:"
   ]
  },
  {
   "cell_type": "code",
   "execution_count": 8,
   "metadata": {},
   "outputs": [],
   "source": [
    "%%timeit\n",
    "\n",
    "\n",
    "def is_prime(n):\n",
    "    prime = True\n",
    "    for i in range(2, n):\n",
    "        if n % i == 0:\n",
    "            prime = False\n",
    "    return prime\n",
    "\n",
    "\n",
    "is_prime(16785408)"
   ]
  },
  {
   "cell_type": "markdown",
   "metadata": {},
   "source": [
    "We notice that if we break out of the loop with a return statement as soon as we find a divisor, we can determine that 16785408 is not prime much faster, on the scale of nanoseconds:"
   ]
  },
  {
   "cell_type": "code",
   "execution_count": 1,
   "metadata": {},
   "outputs": [
    {
     "name": "stdout",
     "output_type": "stream",
     "text": [
      "561 ns ± 39.8 ns per loop (mean ± std. dev. of 7 runs, 1000000 loops each)\n"
     ]
    }
   ],
   "source": [
    "%%timeit\n",
    "\n",
    "\n",
    "def is_prime(n):\n",
    "    for i in range(2,n):\n",
    "        if n % i == 0:\n",
    "            return False\n",
    "    return True\n",
    "\n",
    "\n",
    "is_prime(16785408)"
   ]
  },
  {
   "cell_type": "markdown",
   "metadata": {},
   "source": [
    "### Directions: For the remainder of the exercises below, correct all linting errors."
   ]
  },
  {
   "cell_type": "markdown",
   "metadata": {},
   "source": [
    "Let's turn pycodestyle back on in order to lint the exercises below:"
   ]
  },
  {
   "cell_type": "code",
   "execution_count": 2,
   "metadata": {},
   "outputs": [],
   "source": [
    "%load_ext pycodestyle_magic\n",
    "%pycodestyle_on"
   ]
  },
  {
   "cell_type": "markdown",
   "metadata": {},
   "source": [
    "### Functions Review\n",
    "Before we start our scrabble problems, we want to make sure you get a quick review of functions. Recall that in your last assignment, you created frequency lists of how often items occurred. Let's make more general functions that do this that you can re-use in the future."
   ]
  },
  {
   "cell_type": "markdown",
   "metadata": {},
   "source": [
    "1.Write a function called **item_frequency** that takes in a list of items and returns a list of tuples containing (item, frequency) in descending order. DO NOT use the collections package. For example, \n",
    "\n",
    "```python\n",
    "item_frequency(['hi', 'my', 'name', 'kanye', 'and', 'i', 'love', 'kanye', 'and', 'if', 'my', 'name', 'wasnt', 'kanye', 'then', 'i', 'would', 'change', 'it', 'to', 'kanye']) \n",
    "```\n",
    "\n",
    "should return:\n",
    "\n",
    "```python\n",
    "[('kanye', 4),\n",
    " ('my', 2),\n",
    " ('name', 2),\n",
    " ('and', 2),\n",
    " ('i', 2),\n",
    " ('hi', 1),\n",
    " ('love', 1),\n",
    " ('if', 1),\n",
    " ('wasnt', 1),\n",
    " ('then', 1),\n",
    " ('would', 1),\n",
    " ('change', 1),\n",
    " ('it', 1),\n",
    " ('to', 1)]\n",
    " ```"
   ]
  },
  {
   "cell_type": "code",
   "execution_count": 0,
   "metadata": {},
   "outputs": [],
   "source": [
    "#insert exercise 1"
   ]
  },
  {
   "cell_type": "markdown",
   "metadata": {},
   "source": [
    "To test your function, run the following cell. The test should pass:"
   ]
  },
  {
   "cell_type": "code",
   "execution_count": 3,
   "metadata": {},
   "outputs": [
    {
     "name": "stdout",
     "output_type": "stream",
     "text": [
      "Testing sorted tuples\n",
      "Passed\n"
     ]
    }
   ],
   "source": [
    "from Unit6UnitTests import *\n",
    "item_frequency_unit_test(item_frequency)"
   ]
  },
  {
   "cell_type": "markdown",
   "metadata": {},
   "source": [
    "2.Redo the previous exercise but now use the Counter tool in the collections package as well as its most_common method. You can read its documentation here:\n",
    "\n",
    "https://docs.python.org/2/library/collections.html\n",
    "\n",
    "Note: Doing it this way should reduce your code to only two or three lines!\n",
    "\n",
    "Call this new function **item_frequency_counter**."
   ]
  },
  {
   "cell_type": "code",
   "execution_count": 32,
   "metadata": {},
   "outputs": [],
   "source": [
    "#insert exercise 2"
   ]
  },
  {
   "cell_type": "markdown",
   "metadata": {},
   "source": [
    "To test your function, run the cell below:"
   ]
  },
  {
   "cell_type": "code",
   "execution_count": 5,
   "metadata": {},
   "outputs": [
    {
     "name": "stdout",
     "output_type": "stream",
     "text": [
      "Testing sorted tuples\n",
      "Passed\n"
     ]
    }
   ],
   "source": [
    "from Unit6UnitTests import *\n",
    "item_frequency_counter_unit_test(item_frequency_counter)"
   ]
  },
  {
   "cell_type": "markdown",
   "metadata": {},
   "source": [
    "3.Now, make a function called **word_frequency** that takes in a string and returns a list of tuples containing (word, frequency) in descending order. Your function word_frequency should call your **item_frequency** function that you already wrote. By doing this, your new function should only be two or three lines long."
   ]
  },
  {
   "cell_type": "code",
   "execution_count": 33,
   "metadata": {},
   "outputs": [],
   "source": [
    "#insert exercise 3"
   ]
  },
  {
   "cell_type": "markdown",
   "metadata": {},
   "source": [
    "To test your function, run the following cell. The test should pass:"
   ]
  },
  {
   "cell_type": "code",
   "execution_count": 7,
   "metadata": {},
   "outputs": [
    {
     "name": "stdout",
     "output_type": "stream",
     "text": [
      "Testing sorted tuples\n",
      "Passed\n"
     ]
    }
   ],
   "source": [
    "from Unit6UnitTests import *\n",
    "word_frequency_unit_test(word_frequency)"
   ]
  },
  {
   "cell_type": "markdown",
   "metadata": {},
   "source": [
    "4.Now, make a function called **letter_frequency** that takes in a string and returns a list of tuples containing (letter, frequency) in descending order. Your function letter_frequency should call your **item_frequency** function that you already wrote. By doing this, your new function should only be two or three lines long."
   ]
  },
  {
   "cell_type": "code",
   "execution_count": 34,
   "metadata": {},
   "outputs": [],
   "source": [
    "#insert exercise 4"
   ]
  },
  {
   "cell_type": "markdown",
   "metadata": {},
   "source": [
    "To test your function, run the following cell. The test should pass:"
   ]
  },
  {
   "cell_type": "code",
   "execution_count": 21,
   "metadata": {},
   "outputs": [],
   "source": [
    "from Unit6UnitTests import *\n",
    "letter_frequency_unit_test(letter_frequency)"
   ]
  },
  {
   "cell_type": "markdown",
   "metadata": {},
   "source": [
    "### Scrabble"
   ]
  },
  {
   "cell_type": "markdown",
   "metadata": {},
   "source": [
    "Thanks to Scrabble$^{TM}$, we have easy access to a list of almost all the possible words in the English language.  In this problem, you will access this list of over 260,000 words to find some very unique words.\n",
    "\n",
    "First, your program will read the entire SOWPODS list of acceptable Scrabble$^{TM}$ words. \n",
    "\n",
    "We'll learn about file input/output more later, but for now, you can use the following code to read in all of the words in the Scrabble dictionary and save them in a list called words."
   ]
  },
  {
   "cell_type": "code",
   "execution_count": 9,
   "metadata": {},
   "outputs": [],
   "source": [
    "word_file = open('sowpods.txt','r')\n",
    "\n",
    "words = []\n",
    "\n",
    "for word in word_file.readlines():\n",
    "    words.append(word.strip())"
   ]
  },
  {
   "cell_type": "markdown",
   "metadata": {},
   "source": [
    "1.Write a function called **ith_word** that takes in an integer, i,  and returns the ith word in the words list. What is the 10th word in the list of words?"
   ]
  },
  {
   "cell_type": "code",
   "execution_count": 35,
   "metadata": {},
   "outputs": [],
   "source": [
    "#insert 1"
   ]
  },
  {
   "cell_type": "markdown",
   "metadata": {},
   "source": [
    "To test your function, run the following cell. The test should pass:"
   ]
  },
  {
   "cell_type": "code",
   "execution_count": 11,
   "metadata": {},
   "outputs": [
    {
     "name": "stdout",
     "output_type": "stream",
     "text": [
      "Testing ith word\n",
      "Passed\n"
     ]
    }
   ],
   "source": [
    "from Unit6UnitTests import *\n",
    "ith_word_unit_test(ith_word)"
   ]
  },
  {
   "cell_type": "markdown",
   "metadata": {},
   "source": [
    "2.Write a function called **ith_to_last** that takes in an integer, i, and returns the ith to last word in the list. What is the fifth to last word in the list of words? What does it mean? Write your answer about this word inside hashtags."
   ]
  },
  {
   "cell_type": "code",
   "execution_count": 36,
   "metadata": {},
   "outputs": [],
   "source": [
    "#insert 2"
   ]
  },
  {
   "cell_type": "markdown",
   "metadata": {},
   "source": [
    "To test your function, run the following cell. The test should pass:"
   ]
  },
  {
   "cell_type": "code",
   "execution_count": 13,
   "metadata": {},
   "outputs": [
    {
     "name": "stdout",
     "output_type": "stream",
     "text": [
      "Testing ith word\n",
      "Passed\n"
     ]
    }
   ],
   "source": [
    "from Unit6UnitTests import *\n",
    "ith_to_last_unit_test(ith_to_last)"
   ]
  },
  {
   "cell_type": "markdown",
   "metadata": {},
   "source": [
    "3.Write a function called **word_to_index** that takes in a word and returns the index of the word in that list. If that word does not appear in the list, return -1. What index is the word zymurgies in the list? What does the word mean? Write your answer about this word inside hashtags."
   ]
  },
  {
   "cell_type": "code",
   "execution_count": 37,
   "metadata": {},
   "outputs": [],
   "source": [
    "#insert 3"
   ]
  },
  {
   "cell_type": "markdown",
   "metadata": {},
   "source": [
    "To test your function, run the following cell. The test should pass:"
   ]
  },
  {
   "cell_type": "code",
   "execution_count": 28,
   "metadata": {},
   "outputs": [],
   "source": [
    "from Unit6UnitTests import *\n",
    "word_to_index_unit_test(word_to_index)"
   ]
  },
  {
   "cell_type": "markdown",
   "metadata": {},
   "source": [
    "4.Create a dictionary called **letter_value** for each letter's values according to the following values.\n",
    "\n",
    "A=26, B=25, C=24, ..., Z=1\n"
   ]
  },
  {
   "cell_type": "code",
   "execution_count": 38,
   "metadata": {},
   "outputs": [],
   "source": [
    "#insert 4"
   ]
  },
  {
   "cell_type": "markdown",
   "metadata": {},
   "source": [
    "5.The dollar value of the word poo is 35, since p is worth 11 and each o is worth 12, so 35 = 11+12+12.\n",
    "\n",
    "Create a function called **dollar_value** that takes in a word and returns the dollar value. You can assume that the word will appear in the list.\n",
    "\n",
    "Then calculate the dollar value of the word breatharian. What does the word mean? Write your answer about the word inside hashtags."
   ]
  },
  {
   "cell_type": "code",
   "execution_count": 39,
   "metadata": {},
   "outputs": [],
   "source": [
    "#insert 5"
   ]
  },
  {
   "cell_type": "markdown",
   "metadata": {},
   "source": [
    "To test your function, run the following cell. The test should pass:"
   ]
  },
  {
   "cell_type": "code",
   "execution_count": 17,
   "metadata": {},
   "outputs": [
    {
     "name": "stdout",
     "output_type": "stream",
     "text": [
      "Testing dollar_value\n",
      "Passed\n",
      "Passed\n"
     ]
    }
   ],
   "source": [
    "dollar_value_unit_test(dollar_value)"
   ]
  },
  {
   "cell_type": "markdown",
   "metadata": {},
   "source": [
    "6.Write a function called **find_max** that takes in no input and returns the maximum dollar amount and the word corresponding to that dollar amount in the form of a tuple ```maxdollar, maxword```. DO NOT use any new dictionaries to write this function; rather, just call your dollar_value function repeatedly and keep track of the biggest dollar and corresponding word that you have found so far using a for loop. Which unique word has the highest dollar value and what is the word? What does the word mean? Write these answers inside a hashtag."
   ]
  },
  {
   "cell_type": "code",
   "execution_count": 40,
   "metadata": {},
   "outputs": [],
   "source": [
    "#insert 6"
   ]
  },
  {
   "cell_type": "markdown",
   "metadata": {},
   "source": [
    "To test your function, run the following cell. The test should pass:"
   ]
  },
  {
   "cell_type": "code",
   "execution_count": 19,
   "metadata": {},
   "outputs": [
    {
     "name": "stdout",
     "output_type": "stream",
     "text": [
      "Testing find_max\n",
      "Passed\n"
     ]
    }
   ],
   "source": [
    "from Unit6UnitTests import *\n",
    "find_max_unit_test(find_max)"
   ]
  },
  {
   "cell_type": "markdown",
   "metadata": {},
   "source": [
    "7.Write a function called **word_dictionary** that takes in no input and returns a dictionary called **word_value** in which the keys are the dollar values and the dictionary values are the list of words with that dollar value. "
   ]
  },
  {
   "cell_type": "code",
   "execution_count": 41,
   "metadata": {},
   "outputs": [],
   "source": [
    "#insert 7"
   ]
  },
  {
   "cell_type": "markdown",
   "metadata": {},
   "source": [
    "To test your function, run the following cell. The test should pass:"
   ]
  },
  {
   "cell_type": "code",
   "execution_count": 21,
   "metadata": {},
   "outputs": [
    {
     "name": "stdout",
     "output_type": "stream",
     "text": [
      "Testing word_dictionary\n",
      "Passed\n",
      "Passed\n",
      "Passed\n"
     ]
    }
   ],
   "source": [
    "from Unit6UnitTests import *\n",
    "word_dictionary_unit_test(word_dictionary)"
   ]
  },
  {
   "cell_type": "markdown",
   "metadata": {},
   "source": [
    "8. Create a function called **n_smallest** that takes in an integer, n, and returns a list of n tuples containing the n smallest dollar values and the n lists of words associated with them. Use your function to find the 10 smallest dollar values and the words associated with them. Use your word_dictionary function that you created above."
   ]
  },
  {
   "cell_type": "code",
   "execution_count": 42,
   "metadata": {},
   "outputs": [],
   "source": [
    "#insert 8"
   ]
  },
  {
   "cell_type": "markdown",
   "metadata": {},
   "source": [
    "To test your function, run the following cell. The test should pass:"
   ]
  },
  {
   "cell_type": "code",
   "execution_count": 37,
   "metadata": {},
   "outputs": [],
   "source": [
    "from Unit6UnitTests import *\n",
    "n_smallest_unit_test(n_smallest)"
   ]
  },
  {
   "cell_type": "markdown",
   "metadata": {},
   "source": [
    "9.Create a function called **n_largest** that takes in an integer, n, and returns a list of n tuples containing the n largest dollar values and the n lists of words associated with them. Use your function to find the 10 largest dollar values and the words associated with them. Use your word_dictionary function that you created above."
   ]
  },
  {
   "cell_type": "code",
   "execution_count": 43,
   "metadata": {},
   "outputs": [],
   "source": [
    "#insert 9"
   ]
  },
  {
   "cell_type": "markdown",
   "metadata": {},
   "source": [
    "To test your function, run the following cell. The test should pass:"
   ]
  },
  {
   "cell_type": "code",
   "execution_count": 23,
   "metadata": {},
   "outputs": [
    {
     "name": "stdout",
     "output_type": "stream",
     "text": [
      "Testing n_largest\n",
      "Passed\n"
     ]
    }
   ],
   "source": [
    "from Unit6UnitTests import *\n",
    "n_largest_unit_test(n_largest)"
   ]
  },
  {
   "cell_type": "markdown",
   "metadata": {},
   "source": [
    "10.Write a function called **max_words** that takes in nothing and finds the dollar value that has the most words associated with it. The output of the function should be returned in the form of a tuple containing the dollar amount, followed by the number of words associated with that dollar amount. Hint: You may want to use the word_value dictionary you already have and use it to create a sorted list of tuples."
   ]
  },
  {
   "cell_type": "code",
   "execution_count": 44,
   "metadata": {},
   "outputs": [],
   "source": [
    "#insert 10"
   ]
  },
  {
   "cell_type": "markdown",
   "metadata": {},
   "source": [
    "To test your function, run the following cell. The test should pass:"
   ]
  },
  {
   "cell_type": "code",
   "execution_count": 25,
   "metadata": {},
   "outputs": [
    {
     "name": "stdout",
     "output_type": "stream",
     "text": [
      "Testing max_words\n",
      "Passed\n"
     ]
    }
   ],
   "source": [
    "from Unit6UnitTests import *\n",
    "max_words_unit_test(max_words)"
   ]
  },
  {
   "cell_type": "markdown",
   "metadata": {},
   "source": [
    "11.Use matplotlib to create a histogram of the distribution of all of the dollar values for each of the words. Use 100 bins for your histogram. You should see a high peak around 129, since there are 2542 words with that dollar value."
   ]
  },
  {
   "cell_type": "code",
   "execution_count": 1,
   "metadata": {},
   "outputs": [],
   "source": [
    "#insert 11"
   ]
  },
  {
   "cell_type": "markdown",
   "metadata": {},
   "source": [
    "12.Write a program called is_prime that takes in a positive integer and returns whether or not it is prime. Use return commands in the appropriate places in order to increase efficiency and decrease the lines of code."
   ]
  },
  {
   "cell_type": "code",
   "execution_count": 2,
   "metadata": {},
   "outputs": [],
   "source": [
    "#insert 12"
   ]
  },
  {
   "cell_type": "markdown",
   "metadata": {},
   "source": [
    "To test your function, run the following cell. The test should pass:"
   ]
  },
  {
   "cell_type": "code",
   "execution_count": 45,
   "metadata": {},
   "outputs": [],
   "source": [
    "from Unit6UnitTests import *\n",
    "is_prime_unit_test(is_prime)"
   ]
  },
  {
   "cell_type": "markdown",
   "metadata": {},
   "source": [
    "13.Interestingly, Kanye's dollar value ($79) is also a prime number.  Write a function called **min_prime** that takes in two integers, m and n, and searches the entire SOWPODS list of words to find the prime number value between m dollars and n dollars that has the fewest words associated with it. \n",
    "\n",
    "You can assume that m and n are positive integers and that n is greater or equal to m. If there are multiple prime numbers that satisfy the requirements, you can just return the first prime's info.\n",
    "\n",
    "Call the is_prime function that you have already written within this new function.\n",
    "\n",
    "The output should be returned in the form of a tuple containing the prime number followed by the list of words associated with that prime number."
   ]
  },
  {
   "cell_type": "code",
   "execution_count": 3,
   "metadata": {},
   "outputs": [],
   "source": [
    "#insert 13"
   ]
  },
  {
   "cell_type": "markdown",
   "metadata": {},
   "source": [
    "To test your function, run the following cell. The test should pass:"
   ]
  },
  {
   "cell_type": "code",
   "execution_count": 30,
   "metadata": {},
   "outputs": [
    {
     "name": "stdout",
     "output_type": "stream",
     "text": [
      "Testing min_prime\n",
      "Passed\n"
     ]
    }
   ],
   "source": [
    "from Unit6UnitTests import *\n",
    "min_prime_unit_test(min_prime)"
   ]
  }
 ],
 "metadata": {
  "kernelspec": {
   "display_name": "Python 3",
   "language": "python",
   "name": "python3"
  },
  "language_info": {
   "codemirror_mode": {
    "name": "ipython",
    "version": 3
   },
   "file_extension": ".py",
   "mimetype": "text/x-python",
   "name": "python",
   "nbconvert_exporter": "python",
   "pygments_lexer": "ipython3",
   "version": "3.7.4"
  }
 },
 "nbformat": 4,
 "nbformat_minor": 1
}
