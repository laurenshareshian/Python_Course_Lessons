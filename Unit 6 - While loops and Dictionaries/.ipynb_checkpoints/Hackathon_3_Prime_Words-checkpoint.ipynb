{
 "cells": [
  {
   "cell_type": "markdown",
   "metadata": {},
   "source": [
    "## Hackathon #3: Fewest Prime Dollar Words\n",
    "\n",
    "### You will do this problem on your own laptop, NOT in CoCalc\n",
    "\n",
    "Thanks to Scrabble$^{TM}$, we have easy access to a list of almost all the possible words in the English language.  In this problem, you will access this list of over 260,000 words to find some very unique words.\n",
    "\n",
    "First, your program will read the entire SOWPODS list of acceptable Scrabble$^{TM}$ words.  Then your program will calculate the **Dollar Value** of each word.  The **Dollar Value** of a word is determined like this:\n",
    "\n",
    "    Letter A=$26, letter B=$25, letter C=$24 ... letter Z=$1\n",
    "    \n",
    "    For example: kanye is worth $79 because \n",
    "    k 16\n",
    "    a 26\n",
    "    n 13\n",
    "    y 2\n",
    "    e 22\n",
    "    sum=79\n",
    "    \n",
    "Interestingly, **Kanye**'s dollar value ($79) is also a prime number.  Your job is to search the entire SOWPODS list of words and find which prime number value between 175 dollars and 275 dollars has the **Fewest** words associated with it.  Then print those words.  If you finish early, write a Haiku using at least one of those words.\n",
    "\n",
    "Make sure you **MAKE A PLAN** and **DIVIDE THE WORKLOAD** before you start coding.\n",
    "\n",
    "\n",
    "\n"
   ]
  },
  {
   "cell_type": "code",
   "execution_count": 3,
   "metadata": {
    "collapsed": true
   },
   "outputs": [],
   "source": [
    "# Fewest Prime Value words Code Here\n",
    "\n",
    "# Save the file of all the scrabble words to the same file where you are saving your code.\n",
    "# You can download the file from here:\n",
    "# https://drive.google.com/open?id=1QMu_2s0iYdKFOJfd4N0UZNugDwqtWnRo\n",
    "\n",
    "# Here is how to access the file with the 267,751 SOWPODS words\n",
    "import os\n",
    "path=os.getcwd()\n",
    "path+='/Google Drive/Computer_Science/Projects/sowpods.txt' #you'll have to change this to match where you put the file\n",
    "word_file = open(path,'r')\n",
    "\n",
    "#to loop through each line of the file, you can use a line like this\n",
    "# for word in word_file.readlines():\n",
    "\n",
    "\n",
    "#you're on your own now\n"
   ]
  }
 ],
 "metadata": {
  "kernelspec": {
   "display_name": "Python 3",
   "language": "python",
   "name": "python3"
  },
  "language_info": {
   "codemirror_mode": {
    "name": "ipython",
    "version": 3
   },
   "file_extension": ".py",
   "mimetype": "text/x-python",
   "name": "python",
   "nbconvert_exporter": "python",
   "pygments_lexer": "ipython3",
   "version": "3.6.0"
  }
 },
 "nbformat": 4,
 "nbformat_minor": 2
}
