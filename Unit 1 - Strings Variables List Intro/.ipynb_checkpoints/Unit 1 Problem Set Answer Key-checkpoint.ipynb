{
 "cells": [
  {
   "cell_type": "markdown",
   "metadata": {},
   "source": [
    "1.Write a program that converts degrees Fahrenheit to degrees Celsius.  Your program should ask for the temperature in Fahrenheit and then print out the degrees in Celsius."
   ]
  },
  {
   "cell_type": "code",
   "execution_count": 2,
   "metadata": {},
   "outputs": [
    {
     "name": "stdout",
     "output_type": "stream",
     "text": [
      "What is your temp in Fahrenheit? 212\n",
      "Your temp in Celsius is 100.0\n"
     ]
    }
   ],
   "source": [
    "#insert #1\n",
    "temp = float(input('What is your temp in Fahrenheit? '))\n",
    "print('Your temp in Celsius is', 5/9*(temp-32))"
   ]
  },
  {
   "cell_type": "markdown",
   "metadata": {},
   "source": [
    "2a.Write  a program that asks the user for the radius of a circle.  The program will then print out the Diameter, Circumference and the Area of that circle.  Use 3.14 for pi.\n",
    "\n"
   ]
  },
  {
   "cell_type": "code",
   "execution_count": 3,
   "metadata": {},
   "outputs": [
    {
     "name": "stdout",
     "output_type": "stream",
     "text": [
      "What is your radius? 2\n",
      "Diameter: 4.0\n",
      "Circumference: 12.56\n",
      "Area: 12.56\n"
     ]
    }
   ],
   "source": [
    "#insert #2a\n",
    "radius = float(input('What is your radius? '))\n",
    "print('Diameter:', 2*radius)\n",
    "print('Circumference:', 2*3.14*radius )\n",
    "print('Area:', 3.14*radius**2 )"
   ]
  },
  {
   "cell_type": "markdown",
   "metadata": {},
   "source": [
    "2b.\tComplete Exercise 2a again but google how to import the Python math package to use Python’s built-in version of pi instead of approximating it by 3.14. Hint: you’ll need “import math” at the top of your code. You'll probably want to find the answer on Stack Overflow."
   ]
  },
  {
   "cell_type": "code",
   "execution_count": 5,
   "metadata": {},
   "outputs": [
    {
     "name": "stdout",
     "output_type": "stream",
     "text": [
      "What is your radius? 2\n",
      "Diameter: 4.0\n",
      "Circumference: 12.566370614359172\n",
      "Area: 12.566370614359172\n"
     ]
    }
   ],
   "source": [
    "#insert 2b\n",
    "import math\n",
    "radius = float(input('What is your radius? '))\n",
    "print('Diameter:', 2*radius)\n",
    "print('Circumference:', 2*math.pi*radius )\n",
    "print('Area:', math.pi*radius**2 )"
   ]
  },
  {
   "cell_type": "markdown",
   "metadata": {},
   "source": [
    "3.Write a program that asks the user to type a sentence.  The program should then print out how many words there are in the sentence and list these words in alphabetical order, one word per line, capitalized, and indicate the number of letters in each word.  For example:\n",
    "Type a sentence (do not use punctuation):  \n",
    "    \n",
    "Example Sentence: What is the airspeed velocity of an unladen swallow\n",
    "\n",
    "Your sentence contains 9 words.  These words are:\n",
    "    \n",
    "    \n",
    "AIRSPEED (8)\n",
    "\n",
    "AN (2)\n",
    "\n",
    "IS (2)\n",
    "\n",
    "OF (2)\n",
    "\n",
    "SWALLOW (7)\n",
    "\n",
    "THE (3)\n",
    "\n",
    "UNLADEN (7)\n",
    "\n",
    "VELOCITY (8)\n",
    "\n",
    "WHAT (4)\n"
   ]
  },
  {
   "cell_type": "code",
   "execution_count": 10,
   "metadata": {},
   "outputs": [
    {
     "name": "stdout",
     "output_type": "stream",
     "text": [
      "Give me a sentence: hi there\n",
      "Your sentence has 2 words. These words are:\n",
      "HI (2)\n",
      "THERE (5)\n"
     ]
    }
   ],
   "source": [
    "#insert #3\n",
    "sentence = input('Give me a sentence: ')\n",
    "words = sentence.split()\n",
    "words.sort()\n",
    "print('Your sentence has', len(words), 'words. These words are:')\n",
    "for word in words:\n",
    "    print(word.upper()+' ('+str(len(word))+')')"
   ]
  },
  {
   "cell_type": "markdown",
   "metadata": {},
   "source": [
    "4.Write a program that asks the user for their first name.  The program then addresses them by their first name, but writes each letter of their name the number of times of the position of that letter.  The program then prints out their name re-written as a Palindrome by writing their name, the number of letters in their name, and their name again spelled backwards.  For example:\n",
    "What is your name? Matthew\n",
    "\n",
    "Hello, Maattttttthhhhheeeeeewwwwwww!\n",
    "\n",
    "\n",
    "Here is your name as a Palindrome:  Matthew7wehttaM\n"
   ]
  },
  {
   "cell_type": "code",
   "execution_count": 14,
   "metadata": {},
   "outputs": [
    {
     "name": "stdout",
     "output_type": "stream",
     "text": [
      "What is your name? lauren\n",
      "Hello, laauuurrrreeeeennnnnn\n",
      "lauren6nerual\n"
     ]
    }
   ],
   "source": [
    "#insert #4\n",
    "name = input('What is your name? ')\n",
    "counter = 0\n",
    "sentence = 'Hello, '\n",
    "for letter in name:\n",
    "    counter = counter + 1\n",
    "    sentence = sentence + letter*counter\n",
    "print(sentence)\n",
    "print(name + str(len(name)) + name[::-1])"
   ]
  },
  {
   "cell_type": "markdown",
   "metadata": {},
   "source": [
    "5.Ask the user for their name.  Print out that name on multiple lines in the shape of a pyramid.  There should be as many lines as there are letters in the name.  The letters should all be upper case.  The number of spaces between the letters should grow by one each line.\n",
    "\n",
    "What is your name? Matthew\n",
    "\n",
    "                     MATTHEW\n",
    "                  M A T T H E W\n",
    "               M  A  T  T  H  E  W\n",
    "            M   A   T   T   H   E   W\n",
    "         M    A    T    T    H    E    W\n",
    "      M     A     T     T     H     E     W\n",
    "    M      A      T      T      H      E      W\n",
    "   \n",
    "   \n",
    "\n"
   ]
  },
  {
   "cell_type": "code",
   "execution_count": 42,
   "metadata": {},
   "outputs": [
    {
     "name": "stdout",
     "output_type": "stream",
     "text": [
      "What is your name? lauren\n",
      "            LAUREN\n",
      "          L A U R E N \n",
      "        L  A  U  R  E  N  \n",
      "      L   A   U   R   E   N   \n",
      "    L    A    U    R    E    N    \n",
      "  L     A     U     R     E     N     \n",
      "L      A      U      R      E      N      \n"
     ]
    }
   ],
   "source": [
    "#insert #5\n",
    "name = input('What is your name? ')\n",
    "name = name.upper()\n",
    "print(2*len(name)*' ' + name)\n",
    "up_counter = 0\n",
    "down_counter = len(name)\n",
    "for letter1 in name:\n",
    "    up_counter = up_counter + 1\n",
    "    down_counter = down_counter - 1\n",
    "    line = '  '*down_counter\n",
    "    for letter2 in name:\n",
    "        line = line + letter2 + ' '*up_counter\n",
    "    print(line)"
   ]
  }
 ],
 "metadata": {
  "kernelspec": {
   "display_name": "Python 3",
   "language": "python",
   "name": "python3"
  },
  "language_info": {
   "codemirror_mode": {
    "name": "ipython",
    "version": 3
   },
   "file_extension": ".py",
   "mimetype": "text/x-python",
   "name": "python",
   "nbconvert_exporter": "python",
   "pygments_lexer": "ipython3",
   "version": "3.6.0"
  }
 },
 "nbformat": 4,
 "nbformat_minor": 2
}
