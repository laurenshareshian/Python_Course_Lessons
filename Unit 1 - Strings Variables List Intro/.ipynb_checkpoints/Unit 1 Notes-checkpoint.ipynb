{
 "cells": [
  {
   "cell_type": "markdown",
   "metadata": {
    "slideshow": {
     "slide_type": "slide"
    }
   },
   "source": [
    "Homework 1 Recap: \n",
    "\n",
    "\n",
    "Commas vs plus signs\n",
    "\n",
    "\n",
    "Commas add an extra space, plus signs dont.\n",
    "\n",
    "What tiny thing is wrong with this sentence?"
   ]
  },
  {
   "cell_type": "code",
   "execution_count": 1,
   "metadata": {
    "slideshow": {
     "slide_type": "subslide"
    }
   },
   "outputs": [
    {
     "name": "stdout",
     "output_type": "stream",
     "text": [
      "I like dogs and soccer .\n"
     ]
    }
   ],
   "source": [
    "pets = 'dogs'\n",
    "sports = 'soccer'\n",
    "print('I like', pets, 'and', sports, '.' )"
   ]
  },
  {
   "cell_type": "markdown",
   "metadata": {
    "slideshow": {
     "slide_type": "subslide"
    }
   },
   "source": [
    "What tiny thing is wrong with this sentence?"
   ]
  },
  {
   "cell_type": "code",
   "execution_count": 2,
   "metadata": {
    "slideshow": {
     "slide_type": "subslide"
    }
   },
   "outputs": [
    {
     "name": "stdout",
     "output_type": "stream",
     "text": [
      "I likedogsandsoccer.\n"
     ]
    }
   ],
   "source": [
    "pets = 'dogs'\n",
    "sports = 'soccer'\n",
    "print('I like' + pets + 'and' + sports + '.' ) "
   ]
  },
  {
   "cell_type": "markdown",
   "metadata": {
    "slideshow": {
     "slide_type": "subslide"
    }
   },
   "source": [
    "Is anything wrong with this sentence?"
   ]
  },
  {
   "cell_type": "code",
   "execution_count": null,
   "metadata": {
    "collapsed": true,
    "slideshow": {
     "slide_type": "subslide"
    }
   },
   "outputs": [],
   "source": [
    "pets = 'dogs'\n",
    "sports = 'soccer'\n",
    "print('I like', pets, 'and', sports + '.' )"
   ]
  },
  {
   "cell_type": "markdown",
   "metadata": {
    "slideshow": {
     "slide_type": "slide"
    }
   },
   "source": [
    "What is wrong with this sentence?"
   ]
  },
  {
   "cell_type": "code",
   "execution_count": 13,
   "metadata": {
    "slideshow": {
     "slide_type": "subslide"
    }
   },
   "outputs": [
    {
     "name": "stdout",
     "output_type": "stream",
     "text": [
      "Lauren's favorite movies areold school,office space, andeternal sunshine of the spotless mind.\n"
     ]
    }
   ],
   "source": [
    "movie1 = 'old school'\n",
    "movie2 = 'office space'\n",
    "movie3 = 'eternal sunshine of the spotless mind'\n",
    "message = \"Lauren's favorite movies are\" + movie1 + ',' + movie2 + ', and' + movie3 + '.'\n",
    "print(message)"
   ]
  },
  {
   "cell_type": "markdown",
   "metadata": {
    "slideshow": {
     "slide_type": "subslide"
    }
   },
   "source": [
    "What is wrong with this sentence?"
   ]
  },
  {
   "cell_type": "code",
   "execution_count": 14,
   "metadata": {
    "slideshow": {
     "slide_type": "subslide"
    }
   },
   "outputs": [
    {
     "name": "stdout",
     "output_type": "stream",
     "text": [
      "Lauren's favorite movies are old school, office space, and eternal sunshine of the spotless mind.\n"
     ]
    }
   ],
   "source": [
    "movie1 = 'old school'\n",
    "movie2 = 'office space'\n",
    "movie3 = 'eternal sunshine of the spotless mind'\n",
    "message = \"Lauren's favorite movies are \" + movie1 + ', ' + movie2 + ', and ' + movie3 + '.'\n",
    "print(message)"
   ]
  },
  {
   "cell_type": "markdown",
   "metadata": {
    "slideshow": {
     "slide_type": "subslide"
    }
   },
   "source": [
    "The correct version..."
   ]
  },
  {
   "cell_type": "code",
   "execution_count": 15,
   "metadata": {
    "slideshow": {
     "slide_type": "subslide"
    }
   },
   "outputs": [
    {
     "name": "stdout",
     "output_type": "stream",
     "text": [
      "LAUREN'S FAVORITE MOVIES ARE OLD SCHOOL, OFFICE SPACE, AND ETERNAL SUNSHINE OF THE SPOTLESS MIND.\n"
     ]
    }
   ],
   "source": [
    "movie1 = 'old school'\n",
    "movie2 = 'office space'\n",
    "movie3 = 'eternal sunshine of the spotless mind'\n",
    "message = \"Lauren's favorite movies are \" + movie1 + ', ' + movie2 + ', and ' + movie3 + '.'\n",
    "print(message.upper())"
   ]
  },
  {
   "cell_type": "markdown",
   "metadata": {
    "slideshow": {
     "slide_type": "slide"
    }
   },
   "source": [
    "What would this code print out?"
   ]
  },
  {
   "cell_type": "code",
   "execution_count": 1,
   "metadata": {
    "slideshow": {
     "slide_type": "subslide"
    }
   },
   "outputs": [
    {
     "name": "stdout",
     "output_type": "stream",
     "text": [
      "I have 2 dogs .\n"
     ]
    }
   ],
   "source": [
    "pets = 'dogs'\n",
    "number = 2\n",
    "print('I have', number, pets, '.')"
   ]
  },
  {
   "cell_type": "markdown",
   "metadata": {
    "slideshow": {
     "slide_type": "subslide"
    }
   },
   "source": [
    "What about this?"
   ]
  },
  {
   "cell_type": "code",
   "execution_count": 2,
   "metadata": {
    "slideshow": {
     "slide_type": "subslide"
    }
   },
   "outputs": [
    {
     "name": "stdout",
     "output_type": "stream",
     "text": [
      "I have 2 dogs.\n"
     ]
    }
   ],
   "source": [
    "pets = 'dogs'\n",
    "number = 2\n",
    "print('I have', number, pets + '.')"
   ]
  },
  {
   "cell_type": "markdown",
   "metadata": {
    "slideshow": {
     "slide_type": "subslide"
    }
   },
   "source": [
    "What about this? What is the error message telling you?"
   ]
  },
  {
   "cell_type": "code",
   "execution_count": 3,
   "metadata": {
    "slideshow": {
     "slide_type": "subslide"
    }
   },
   "outputs": [
    {
     "ename": "TypeError",
     "evalue": "must be str, not int",
     "output_type": "error",
     "traceback": [
      "\u001b[0;31m---------------------------------------------------------------------------\u001b[0m",
      "\u001b[0;31mTypeError\u001b[0m                                 Traceback (most recent call last)",
      "\u001b[0;32m<ipython-input-3-18fecb54c32d>\u001b[0m in \u001b[0;36m<module>\u001b[0;34m()\u001b[0m\n\u001b[1;32m      1\u001b[0m \u001b[0mpets\u001b[0m \u001b[0;34m=\u001b[0m \u001b[0;34m'dogs'\u001b[0m\u001b[0;34m\u001b[0m\u001b[0m\n\u001b[1;32m      2\u001b[0m \u001b[0mnumber\u001b[0m \u001b[0;34m=\u001b[0m \u001b[0;36m2\u001b[0m\u001b[0;34m\u001b[0m\u001b[0m\n\u001b[0;32m----> 3\u001b[0;31m \u001b[0mprint\u001b[0m\u001b[0;34m(\u001b[0m\u001b[0;34m'I have'\u001b[0m \u001b[0;34m+\u001b[0m \u001b[0mnumber\u001b[0m \u001b[0;34m+\u001b[0m \u001b[0mpets\u001b[0m \u001b[0;34m+\u001b[0m \u001b[0;34m'.'\u001b[0m\u001b[0;34m)\u001b[0m\u001b[0;34m\u001b[0m\u001b[0m\n\u001b[0m",
      "\u001b[0;31mTypeError\u001b[0m: must be str, not int"
     ]
    }
   ],
   "source": [
    "pets = 'dogs'\n",
    "number = 2\n",
    "print('I have' + number + pets + '.')"
   ]
  },
  {
   "cell_type": "markdown",
   "metadata": {
    "slideshow": {
     "slide_type": "subslide"
    }
   },
   "source": [
    "What about this?"
   ]
  },
  {
   "cell_type": "code",
   "execution_count": 4,
   "metadata": {
    "slideshow": {
     "slide_type": "subslide"
    }
   },
   "outputs": [
    {
     "name": "stdout",
     "output_type": "stream",
     "text": [
      "I have2dogs.\n"
     ]
    }
   ],
   "source": [
    "pets = 'dogs'\n",
    "number = 2\n",
    "print('I have' + str(number) + pets + '.')"
   ]
  },
  {
   "cell_type": "markdown",
   "metadata": {
    "slideshow": {
     "slide_type": "subslide"
    }
   },
   "source": [
    "What about this?"
   ]
  },
  {
   "cell_type": "code",
   "execution_count": 5,
   "metadata": {
    "slideshow": {
     "slide_type": "subslide"
    }
   },
   "outputs": [
    {
     "name": "stdout",
     "output_type": "stream",
     "text": [
      "I have 2 dogs.\n"
     ]
    }
   ],
   "source": [
    "pets = 'dogs'\n",
    "number = 2\n",
    "print('I have ' + str(number) + ' ' + pets + '.')"
   ]
  },
  {
   "cell_type": "markdown",
   "metadata": {
    "slideshow": {
     "slide_type": "slide"
    }
   },
   "source": [
    "Full name exercise"
   ]
  },
  {
   "cell_type": "code",
   "execution_count": 6,
   "metadata": {
    "slideshow": {
     "slide_type": "subslide"
    }
   },
   "outputs": [
    {
     "name": "stdout",
     "output_type": "stream",
     "text": [
      "What is your first name? lauren\n",
      "What is your last name, lauren? shareshian\n",
      "Your full name is lauren shareshian.\n"
     ]
    }
   ],
   "source": [
    "first_name = input('What is your first name? ')\n",
    "last_name = input('What is your last name, ' + first_name +'? ')\n",
    "print('Your full name is ' + first_name + ' ' + last_name + '.')"
   ]
  },
  {
   "cell_type": "code",
   "execution_count": null,
   "metadata": {
    "collapsed": true,
    "slideshow": {
     "slide_type": "subslide"
    }
   },
   "outputs": [],
   "source": [
    "If your code has a weird bug...try this..."
   ]
  },
  {
   "cell_type": "code",
   "execution_count": 36,
   "metadata": {
    "collapsed": true,
    "slideshow": {
     "slide_type": "subslide"
    }
   },
   "outputs": [],
   "source": [
    "first_name = input('What is your first name? ')\n",
    "question = 'What is your last name, ' + first_name +'? '\n",
    "last_name = input(question)\n",
    "print('Your full name is ' + first_name + ' ' + last_name + '.')"
   ]
  },
  {
   "cell_type": "markdown",
   "metadata": {
    "slideshow": {
     "slide_type": "slide"
    }
   },
   "source": [
    "How happy are you?"
   ]
  },
  {
   "cell_type": "code",
   "execution_count": 7,
   "metadata": {
    "slideshow": {
     "slide_type": "subslide"
    }
   },
   "outputs": [
    {
     "name": "stdout",
     "output_type": "stream",
     "text": [
      "How happy are you? 5\n",
      "^_ _ _ _ _ ^\n"
     ]
    }
   ],
   "source": [
    "level = int(input('How happy are you? '))\n",
    "print('^' + '_ '*level + '^')"
   ]
  },
  {
   "cell_type": "markdown",
   "metadata": {
    "slideshow": {
     "slide_type": "subslide"
    }
   },
   "source": [
    "You do have one weird extra space there, how can we deal with it?"
   ]
  },
  {
   "cell_type": "code",
   "execution_count": 9,
   "metadata": {
    "slideshow": {
     "slide_type": "subslide"
    }
   },
   "outputs": [
    {
     "name": "stdout",
     "output_type": "stream",
     "text": [
      "How happy are you? 5\n",
      "^_ _ _ _ _^\n"
     ]
    }
   ],
   "source": [
    "level = int(input('How happy are you? '))\n",
    "print('^' + '_ '*(level-1) + '_^')"
   ]
  },
  {
   "cell_type": "markdown",
   "metadata": {
    "slideshow": {
     "slide_type": "slide"
    }
   },
   "source": [
    "I have a list of my favorite movies ['Old School', 'Office Space', 'Eternal Sunshine']\n",
    "\n",
    "\n",
    "Suppose Office Space has been replaced by a movie I just saw, The Big Sick. How would I change that entry?\n"
   ]
  },
  {
   "cell_type": "code",
   "execution_count": 1,
   "metadata": {
    "slideshow": {
     "slide_type": "subslide"
    }
   },
   "outputs": [
    {
     "name": "stdout",
     "output_type": "stream",
     "text": [
      "['old school', 'the big sick', 'eternal sunshine']\n"
     ]
    }
   ],
   "source": [
    "movies = ['old school', 'office space', 'eternal sunshine']\n",
    "movies[1] = 'the big sick'\n",
    "print(movies)"
   ]
  },
  {
   "cell_type": "markdown",
   "metadata": {
    "slideshow": {
     "slide_type": "slide"
    }
   },
   "source": [
    "I have a list of my favorite movies ['Old School', 'Office Space', 'Eternal Sunshine']\n",
    "\n",
    "\n",
    "Suppose I really can't choose between Office Space and The Big Sick so I won't to have a list of all four movies. How would I do that?"
   ]
  },
  {
   "cell_type": "code",
   "execution_count": 2,
   "metadata": {
    "slideshow": {
     "slide_type": "subslide"
    }
   },
   "outputs": [
    {
     "name": "stdout",
     "output_type": "stream",
     "text": [
      "['old school', 'office space', 'eternal sunshine', 'the big sick']\n"
     ]
    }
   ],
   "source": [
    "movies = ['old school', 'office space', 'eternal sunshine']\n",
    "movies.append('the big sick')\n",
    "print(movies)"
   ]
  },
  {
   "cell_type": "markdown",
   "metadata": {
    "slideshow": {
     "slide_type": "slide"
    }
   },
   "source": [
    "What if I wanted to sort the movies in alphabetical order?"
   ]
  },
  {
   "cell_type": "code",
   "execution_count": 3,
   "metadata": {
    "slideshow": {
     "slide_type": "subslide"
    }
   },
   "outputs": [
    {
     "name": "stdout",
     "output_type": "stream",
     "text": [
      "['eternal sunshine', 'office space', 'old school']\n"
     ]
    }
   ],
   "source": [
    "movies = ['old school', 'office space', 'eternal sunshine']\n",
    "movies.sort()\n",
    "print(movies)"
   ]
  },
  {
   "cell_type": "markdown",
   "metadata": {
    "slideshow": {
     "slide_type": "slide"
    }
   },
   "source": [
    "Be careful! What happens if you print movies.sort() ?"
   ]
  },
  {
   "cell_type": "code",
   "execution_count": 5,
   "metadata": {
    "slideshow": {
     "slide_type": "subslide"
    }
   },
   "outputs": [
    {
     "name": "stdout",
     "output_type": "stream",
     "text": [
      "['eternal sunshine', 'office space', 'old school']\n"
     ]
    }
   ],
   "source": [
    "movies = ['old school', 'office space', 'eternal sunshine']\n",
    "print(movies.sort())"
   ]
  },
  {
   "cell_type": "markdown",
   "metadata": {
    "slideshow": {
     "slide_type": "slide"
    }
   },
   "source": [
    "What is the difference between delete, remove, and pop?\n",
    "\n",
    "What is the input of each function? \n",
    "\n",
    "What is the output of each function?"
   ]
  },
  {
   "cell_type": "markdown",
   "metadata": {
    "slideshow": {
     "slide_type": "subslide"
    }
   },
   "source": [
    "Delete\n",
    "    \n",
    "input: index\n",
    "    \n",
    "    \n",
    "output: list with the item in that index deleted"
   ]
  },
  {
   "cell_type": "code",
   "execution_count": 6,
   "metadata": {
    "slideshow": {
     "slide_type": "subslide"
    }
   },
   "outputs": [
    {
     "name": "stdout",
     "output_type": "stream",
     "text": [
      "['old school', 'eternal sunshine']\n"
     ]
    }
   ],
   "source": [
    "movies = ['old school', 'office space', 'eternal sunshine']\n",
    "del movies[1]\n",
    "print(movies)"
   ]
  },
  {
   "cell_type": "markdown",
   "metadata": {
    "slideshow": {
     "slide_type": "subslide"
    }
   },
   "source": [
    "Remove\n",
    "\n",
    "input: entry in list\n",
    "\n",
    "output: list with that entry deleted"
   ]
  },
  {
   "cell_type": "code",
   "execution_count": 7,
   "metadata": {
    "slideshow": {
     "slide_type": "subslide"
    }
   },
   "outputs": [
    {
     "name": "stdout",
     "output_type": "stream",
     "text": [
      "['old school', 'eternal sunshine']\n"
     ]
    }
   ],
   "source": [
    "movies = ['old school', 'office space', 'eternal sunshine']\n",
    "movies.remove('office space')\n",
    "print(movies)"
   ]
  },
  {
   "cell_type": "markdown",
   "metadata": {
    "slideshow": {
     "slide_type": "subslide"
    }
   },
   "source": [
    "Pop\n",
    "\n",
    "input: index\n",
    "    \n",
    "output: list with the item in that index deleted AND that deleted entry saved"
   ]
  },
  {
   "cell_type": "code",
   "execution_count": 10,
   "metadata": {
    "slideshow": {
     "slide_type": "subslide"
    }
   },
   "outputs": [
    {
     "name": "stdout",
     "output_type": "stream",
     "text": [
      "['old school', 'eternal sunshine']\n",
      "office space\n"
     ]
    }
   ],
   "source": [
    "movies = ['old school', 'office space', 'eternal sunshine']\n",
    "deleted_movie = movies.pop(1)\n",
    "print(movies)\n",
    "print(deleted_movie)"
   ]
  },
  {
   "cell_type": "markdown",
   "metadata": {
    "slideshow": {
     "slide_type": "subslide"
    }
   },
   "source": [
    "What happens if I put 'office space' into pop instead of its index number, 1?"
   ]
  },
  {
   "cell_type": "code",
   "execution_count": 12,
   "metadata": {},
   "outputs": [
    {
     "ename": "TypeError",
     "evalue": "'str' object cannot be interpreted as an integer",
     "output_type": "error",
     "traceback": [
      "\u001b[0;31m---------------------------------------------------------------------------\u001b[0m",
      "\u001b[0;31mTypeError\u001b[0m                                 Traceback (most recent call last)",
      "\u001b[0;32m<ipython-input-12-fb3b4a9d249c>\u001b[0m in \u001b[0;36m<module>\u001b[0;34m()\u001b[0m\n\u001b[1;32m      1\u001b[0m \u001b[0mmovies\u001b[0m \u001b[0;34m=\u001b[0m \u001b[0;34m[\u001b[0m\u001b[0;34m'old school'\u001b[0m\u001b[0;34m,\u001b[0m \u001b[0;34m'office space'\u001b[0m\u001b[0;34m,\u001b[0m \u001b[0;34m'eternal sunshine'\u001b[0m\u001b[0;34m]\u001b[0m\u001b[0;34m\u001b[0m\u001b[0m\n\u001b[0;32m----> 2\u001b[0;31m \u001b[0mdeleted_movie\u001b[0m \u001b[0;34m=\u001b[0m \u001b[0mmovies\u001b[0m\u001b[0;34m.\u001b[0m\u001b[0mpop\u001b[0m\u001b[0;34m(\u001b[0m\u001b[0;34m'office space'\u001b[0m\u001b[0;34m)\u001b[0m\u001b[0;34m\u001b[0m\u001b[0m\n\u001b[0m",
      "\u001b[0;31mTypeError\u001b[0m: 'str' object cannot be interpreted as an integer"
     ]
    }
   ],
   "source": [
    "movies = ['old school', 'office space', 'eternal sunshine']\n",
    "deleted_movie = movies.pop('office space')"
   ]
  },
  {
   "cell_type": "markdown",
   "metadata": {
    "collapsed": true,
    "slideshow": {
     "slide_type": "slide"
    }
   },
   "source": [
    "Proper Nouns Exercise"
   ]
  },
  {
   "cell_type": "code",
   "execution_count": 3,
   "metadata": {
    "collapsed": true,
    "slideshow": {
     "slide_type": "subslide"
    }
   },
   "outputs": [],
   "source": [
    "nouns = ['seattle', 'portland', 'los angeles', 'san francisco']\n",
    "nouns.sort(reverse = True)\n",
    "for noun in nouns:\n",
    "    print(noun.title())"
   ]
  },
  {
   "cell_type": "markdown",
   "metadata": {
    "slideshow": {
     "slide_type": "slide"
    }
   },
   "source": [
    "Colors exercise"
   ]
  },
  {
   "cell_type": "code",
   "execution_count": 7,
   "metadata": {
    "collapsed": true,
    "slideshow": {
     "slide_type": "subslide"
    }
   },
   "outputs": [],
   "source": [
    "colors = ['red', 'blue', 'cyan', 'magenta', 'marigold']\n",
    "for color in colors:\n",
    "    print(color.title()+' is in the index '+str(colors.index(color))+' position.')"
   ]
  },
  {
   "cell_type": "markdown",
   "metadata": {
    "slideshow": {
     "slide_type": "slide"
    }
   },
   "source": [
    "Exercise exercise"
   ]
  },
  {
   "cell_type": "code",
   "execution_count": 26,
   "metadata": {},
   "outputs": [
    {
     "name": "stdout",
     "output_type": "stream",
     "text": [
      "Which days did you exercise? mon wed thurs\n",
      "Days you exercised: 3\n",
      "Days you were lazy: 4\n"
     ]
    }
   ],
   "source": [
    "days = input('Which days did you exercise? ')\n",
    "num_of_days = len(days.split())\n",
    "print('Days you exercised: ' + str(num_of_days))\n",
    "print('Days you were lazy: ' + str(7 - num_of_days))"
   ]
  },
  {
   "cell_type": "markdown",
   "metadata": {
    "slideshow": {
     "slide_type": "slide"
    }
   },
   "source": [
    "Printing things on one line"
   ]
  },
  {
   "cell_type": "code",
   "execution_count": 28,
   "metadata": {
    "slideshow": {
     "slide_type": "subslide"
    }
   },
   "outputs": [
    {
     "name": "stdout",
     "output_type": "stream",
     "text": [
      "red blue green\n",
      "14\n"
     ]
    }
   ],
   "source": [
    "colors = ['red', 'blue', 'green']\n",
    "sentence = ''\n",
    "for color in colors:\n",
    "    sentence = sentence + color + ' '\n",
    "sentence = sentence.rstrip()\n",
    "print(sentence)\n",
    "print(len(sentence))"
   ]
  },
  {
   "cell_type": "code",
   "execution_count": 23,
   "metadata": {
    "slideshow": {
     "slide_type": "subslide"
    }
   },
   "outputs": [
    {
     "name": "stdout",
     "output_type": "stream",
     "text": [
      "red blue green\n",
      "14\n"
     ]
    }
   ],
   "source": [
    "colors = ['red', 'blue', 'green']\n",
    "sentence = ''\n",
    "for color in colors:\n",
    "    sentence = sentence + color + ' '\n",
    "sentence = sentence.rstrip()\n",
    "print(sentence)\n",
    "print(len(sentence))"
   ]
  },
  {
   "cell_type": "code",
   "execution_count": 29,
   "metadata": {
    "slideshow": {
     "slide_type": "subslide"
    }
   },
   "outputs": [
    {
     "name": "stdout",
     "output_type": "stream",
     "text": [
      "red blue green "
     ]
    }
   ],
   "source": [
    "colors = ['red', 'blue', 'green']\n",
    "for color in colors:\n",
    "    print(color, end = ' ')"
   ]
  },
  {
   "cell_type": "code",
   "execution_count": 31,
   "metadata": {
    "slideshow": {
     "slide_type": "subslide"
    }
   },
   "outputs": [
    {
     "name": "stdout",
     "output_type": "stream",
     "text": [
      "red blue green\n",
      "14\n"
     ]
    }
   ],
   "source": [
    "colors = ['red', 'blue', 'green']\n",
    "sentence = ' '.join(colors)\n",
    "print(sentence)\n",
    "print(len(sentence))"
   ]
  },
  {
   "cell_type": "markdown",
   "metadata": {
    "collapsed": true,
    "slideshow": {
     "slide_type": "slide"
    }
   },
   "source": [
    "I like exercise"
   ]
  },
  {
   "cell_type": "code",
   "execution_count": 9,
   "metadata": {
    "slideshow": {
     "slide_type": "slide"
    }
   },
   "outputs": [
    {
     "name": "stdout",
     "output_type": "stream",
     "text": [
      "Joe. I like Jack. I like Jane\n"
     ]
    }
   ],
   "source": [
    "names = ['Joe', 'Jack', 'Jane']\n",
    "sentence = '. I like '.join(names)\n",
    "print(sentence)"
   ]
  },
  {
   "cell_type": "code",
   "execution_count": 10,
   "metadata": {
    "slideshow": {
     "slide_type": "subslide"
    }
   },
   "outputs": [
    {
     "name": "stdout",
     "output_type": "stream",
     "text": [
      "I like Joe. I like Jack. I like Jane.\n"
     ]
    }
   ],
   "source": [
    "names = ['Joe', 'Jack', 'Jane']\n",
    "sentence = '. I like '.join(names)\n",
    "sentence = ''.join(['I like ', sentence, '.'])\n",
    "print(sentence)"
   ]
  },
  {
   "cell_type": "code",
   "execution_count": 1,
   "metadata": {},
   "outputs": [
    {
     "name": "stdout",
     "output_type": "stream",
     "text": [
      "Four score and seven years ago\n",
      "Our fathers [sic] set forth\n",
      "on this continent\n",
      "a new nation\n",
      "Conceived in liberty\n",
      "and dedicated to a proposition\n",
      "that all men [sic] are created equal.\n"
     ]
    }
   ],
   "source": [
    "#splitting a string into a list using different separators\n",
    "my_string=\"Four score and seven years ago/Our fathers [sic] set forth/on this continent/a new nation/Conceived in liberty/and dedicated to a proposition/that all men [sic] are created equal.\"\n",
    "my_list=my_string.split(\"/\")\n",
    "#print(my_list)\n",
    "for line in my_list:\n",
    "    print(line)"
   ]
  },
  {
   "cell_type": "code",
   "execution_count": 2,
   "metadata": {},
   "outputs": [
    {
     "name": "stdout",
     "output_type": "stream",
     "text": [
      "Your\n",
      "father\n",
      "was\n",
      "a\n",
      "hamster\n"
     ]
    }
   ],
   "source": [
    "#Looping Through a list\n",
    "my_list=['Your','father','was','a','hamster']\n",
    "for word in my_list:\n",
    "    print(word)"
   ]
  },
  {
   "cell_type": "code",
   "execution_count": 3,
   "metadata": {},
   "outputs": [
    {
     "name": "stdout",
     "output_type": "stream",
     "text": [
      "M\n",
      "aa\n",
      "ttt\n",
      "tttt\n",
      "hhhhh\n",
      "eeeeee\n",
      "wwwwwww\n"
     ]
    }
   ],
   "source": [
    "#Keeping track of where you are in a list\n",
    "counter=0\n",
    "name=\"Matthew\"\n",
    "for letter in name:\n",
    "    counter= counter+1 #this will increment counter by 1 each time through the loop\n",
    "    # counter+=1 is another way to do this\n",
    "    print(letter*counter)"
   ]
  },
  {
   "cell_type": "code",
   "execution_count": 4,
   "metadata": {},
   "outputs": [
    {
     "name": "stdout",
     "output_type": "stream",
     "text": [
      "three\n"
     ]
    }
   ],
   "source": [
    "#displaying only some elements of a list\n",
    "number_list=['one','two','three','four','five','six','seven']\n",
    "\n",
    "#reference just one element of the list\n",
    "print(number_list[2])\n",
    "\n",
    "#which element is this?  What is it's index?\n"
   ]
  },
  {
   "cell_type": "code",
   "execution_count": 5,
   "metadata": {},
   "outputs": [
    {
     "name": "stdout",
     "output_type": "stream",
     "text": [
      "['one', 'two', 'three', 'four']\n"
     ]
    }
   ],
   "source": [
    "\n",
    "number_list=['one','two','three','four','five','six','seven']\n",
    "\n",
    "#reference a range of elements, e.g. just index 1 through index 4\n",
    "print(number_list[0:4])"
   ]
  },
  {
   "cell_type": "code",
   "execution_count": 6,
   "metadata": {},
   "outputs": [
    {
     "name": "stdout",
     "output_type": "stream",
     "text": [
      "['one', 'two', 'three', 'four', 'five', 'six', 'seven']\n",
      "['one', 'two', 'three', 'four', 'five', 'six', 'seven']\n",
      "['one', 'two', 'three', 'four', 'five', 'six', 'seven']\n",
      "['one', 'two', 'three', 'four', 'five', 'six', 'seven']\n"
     ]
    }
   ],
   "source": [
    "number_list=['one','two','three','four','five','six','seven']\n",
    "#reference all the elements\n",
    "print(number_list[0:7])\n",
    "#or, better\n",
    "print(number_list[0:])\n",
    "#or\n",
    "print(number_list)\n",
    "#or\n",
    "print(number_list[::])"
   ]
  },
  {
   "cell_type": "code",
   "execution_count": 7,
   "metadata": {},
   "outputs": [
    {
     "name": "stdout",
     "output_type": "stream",
     "text": [
      "['one', 'three', 'five', 'seven']\n"
     ]
    }
   ],
   "source": [
    "number_list=['one','two','three','four','five','six','seven']\n",
    "\n",
    "#every other element\n",
    "print(number_list[::2])"
   ]
  },
  {
   "cell_type": "code",
   "execution_count": 8,
   "metadata": {},
   "outputs": [
    {
     "name": "stdout",
     "output_type": "stream",
     "text": [
      "seven\n"
     ]
    }
   ],
   "source": [
    "number_list=['one','two','three','four','five','six','seven']\n",
    "\n",
    "#last element\n",
    "print(number_list[-1])"
   ]
  },
  {
   "cell_type": "code",
   "execution_count": 9,
   "metadata": {},
   "outputs": [
    {
     "name": "stdout",
     "output_type": "stream",
     "text": [
      "['two', 'three', 'four', 'five', 'six']\n"
     ]
    }
   ],
   "source": [
    "number_list=['one','two','three','four','five','six','seven']\n",
    "\n",
    "#reference all BUT first and last elements\n",
    "print(number_list[1:-1])"
   ]
  },
  {
   "cell_type": "code",
   "execution_count": 10,
   "metadata": {},
   "outputs": [
    {
     "name": "stdout",
     "output_type": "stream",
     "text": [
      "['seven', 'six', 'five', 'four', 'three', 'two', 'one']\n"
     ]
    }
   ],
   "source": [
    "number_list=['one','two','three','four','five','six','seven']\n",
    "\n",
    "#reference items in REVERSE order\n",
    "print(number_list[::-1])"
   ]
  },
  {
   "cell_type": "code",
   "execution_count": 11,
   "metadata": {},
   "outputs": [
    {
     "name": "stdout",
     "output_type": "stream",
     "text": [
      "ATTHE\n"
     ]
    }
   ],
   "source": [
    "#treating a word like a list\n",
    "name=\"Matthew\".upper()\n",
    "\n",
    "#print all BUT the first and last element of name\n",
    "print(name[1:-1])"
   ]
  },
  {
   "cell_type": "code",
   "execution_count": null,
   "metadata": {
    "collapsed": true
   },
   "outputs": [],
   "source": []
  }
 ],
 "metadata": {
  "celltoolbar": "Slideshow",
  "kernelspec": {
   "display_name": "Python 3",
   "language": "python",
   "name": "python3"
  },
  "language_info": {
   "codemirror_mode": {
    "name": "ipython",
    "version": 3
   },
   "file_extension": ".py",
   "mimetype": "text/x-python",
   "name": "python",
   "nbconvert_exporter": "python",
   "pygments_lexer": "ipython3",
   "version": "3.6.0"
  }
 },
 "nbformat": 4,
 "nbformat_minor": 2
}
