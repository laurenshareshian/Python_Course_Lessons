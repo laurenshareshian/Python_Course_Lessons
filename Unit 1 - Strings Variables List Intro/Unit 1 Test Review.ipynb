{
 "cells": [
  {
   "cell_type": "markdown",
   "metadata": {},
   "source": [
    "### 1. f strings allow you to print numbers and letters at the same time!"
   ]
  },
  {
   "cell_type": "code",
   "execution_count": 1,
   "metadata": {},
   "outputs": [
    {
     "name": "stdout",
     "output_type": "stream",
     "text": [
      "Claire is my 7th best friend\n"
     ]
    }
   ],
   "source": [
    "number = 7\n",
    "friend = 'Claire'\n",
    "print(f'{friend} is my {number}th best friend')"
   ]
  },
  {
   "cell_type": "markdown",
   "metadata": {},
   "source": [
    "### 2. You can use + signs as long as you put \"str\" around numbers:"
   ]
  },
  {
   "cell_type": "code",
   "execution_count": 5,
   "metadata": {},
   "outputs": [
    {
     "name": "stdout",
     "output_type": "stream",
     "text": [
      "Claire is my 7th best friend\n"
     ]
    }
   ],
   "source": [
    "number = 7\n",
    "friend = 'Claire'\n",
    "print(friend + \" is my \" + str(number) + \"th best friend\")"
   ]
  },
  {
   "cell_type": "markdown",
   "metadata": {},
   "source": [
    "### 3. You can use commas without str but you might get extra spaces:"
   ]
  },
  {
   "cell_type": "code",
   "execution_count": 1,
   "metadata": {},
   "outputs": [
    {
     "name": "stdout",
     "output_type": "stream",
     "text": [
      "Claire  is my  7 th best friend\n"
     ]
    }
   ],
   "source": [
    "number = 7\n",
    "friend = 'Claire'\n",
    "print(friend, \" is my \", number, \"th best friend\")"
   ]
  },
  {
   "cell_type": "markdown",
   "metadata": {},
   "source": [
    "### 4. If you try to add a string and a number you will get a TypeError:"
   ]
  },
  {
   "cell_type": "code",
   "execution_count": 3,
   "metadata": {},
   "outputs": [
    {
     "ename": "TypeError",
     "evalue": "can only concatenate str (not \"int\") to str",
     "output_type": "error",
     "traceback": [
      "\u001b[0;31m---------------------------------------------------------------------------\u001b[0m",
      "\u001b[0;31mTypeError\u001b[0m                                 Traceback (most recent call last)",
      "\u001b[0;32m<ipython-input-3-5d919a76a544>\u001b[0m in \u001b[0;36m<module>\u001b[0;34m\u001b[0m\n\u001b[1;32m      1\u001b[0m \u001b[0mnumber\u001b[0m \u001b[0;34m=\u001b[0m \u001b[0;36m7\u001b[0m\u001b[0;34m\u001b[0m\u001b[0;34m\u001b[0m\u001b[0m\n\u001b[1;32m      2\u001b[0m \u001b[0mfriend\u001b[0m \u001b[0;34m=\u001b[0m \u001b[0;34m'Claire'\u001b[0m\u001b[0;34m\u001b[0m\u001b[0;34m\u001b[0m\u001b[0m\n\u001b[0;32m----> 3\u001b[0;31m \u001b[0mprint\u001b[0m\u001b[0;34m(\u001b[0m\u001b[0mfriend\u001b[0m \u001b[0;34m+\u001b[0m \u001b[0;34m\" is my \"\u001b[0m \u001b[0;34m+\u001b[0m \u001b[0mnumber\u001b[0m \u001b[0;34m+\u001b[0m \u001b[0;34m\"th best friend\"\u001b[0m\u001b[0;34m)\u001b[0m\u001b[0;34m\u001b[0m\u001b[0;34m\u001b[0m\u001b[0m\n\u001b[0m",
      "\u001b[0;31mTypeError\u001b[0m: can only concatenate str (not \"int\") to str"
     ]
    }
   ],
   "source": [
    "number = 7\n",
    "friend = 'Claire'\n",
    "print(friend + \" is my \" + number + \"th best friend\")"
   ]
  },
  {
   "cell_type": "markdown",
   "metadata": {},
   "source": [
    "### 5. You can build an empty sentence from a list of words one word at a time:"
   ]
  },
  {
   "cell_type": "code",
   "execution_count": 6,
   "metadata": {},
   "outputs": [
    {
     "name": "stdout",
     "output_type": "stream",
     "text": [
      "dog cat lizard \n"
     ]
    }
   ],
   "source": [
    "words = ['dog', 'cat', 'lizard']\n",
    "sentence = ''\n",
    "for word in words:\n",
    "    sentence = sentence + word + ' '\n",
    "print(sentence)"
   ]
  },
  {
   "cell_type": "markdown",
   "metadata": {},
   "source": [
    "### 6. You can build a sentence in reverse one word at a time:"
   ]
  },
  {
   "cell_type": "code",
   "execution_count": 7,
   "metadata": {},
   "outputs": [
    {
     "name": "stdout",
     "output_type": "stream",
     "text": [
      "lizard cat dog \n"
     ]
    }
   ],
   "source": [
    "words = ['dog', 'cat', 'lizard']\n",
    "sentence = ''\n",
    "for word in words:\n",
    "    sentence = word + ' ' + sentence\n",
    "print(sentence)"
   ]
  },
  {
   "cell_type": "markdown",
   "metadata": {},
   "source": [
    "### 7. If you tried to build the my_sentence without first defining my_sentence, then you would get a NameError:"
   ]
  },
  {
   "cell_type": "code",
   "execution_count": 1,
   "metadata": {},
   "outputs": [
    {
     "ename": "NameError",
     "evalue": "name 'my_sentence' is not defined",
     "output_type": "error",
     "traceback": [
      "\u001b[0;31m---------------------------------------------------------------------------\u001b[0m",
      "\u001b[0;31mNameError\u001b[0m                                 Traceback (most recent call last)",
      "\u001b[0;32m<ipython-input-1-33fc98cc2dbd>\u001b[0m in \u001b[0;36m<module>\u001b[0;34m\u001b[0m\n\u001b[1;32m      1\u001b[0m \u001b[0mwords\u001b[0m \u001b[0;34m=\u001b[0m \u001b[0;34m[\u001b[0m\u001b[0;34m'dog'\u001b[0m\u001b[0;34m,\u001b[0m \u001b[0;34m'cat'\u001b[0m\u001b[0;34m,\u001b[0m \u001b[0;34m'lizard'\u001b[0m\u001b[0;34m]\u001b[0m\u001b[0;34m\u001b[0m\u001b[0;34m\u001b[0m\u001b[0m\n\u001b[1;32m      2\u001b[0m \u001b[0;32mfor\u001b[0m \u001b[0mword\u001b[0m \u001b[0;32min\u001b[0m \u001b[0mwords\u001b[0m\u001b[0;34m:\u001b[0m\u001b[0;34m\u001b[0m\u001b[0;34m\u001b[0m\u001b[0m\n\u001b[0;32m----> 3\u001b[0;31m     \u001b[0mmy_sentence\u001b[0m \u001b[0;34m=\u001b[0m \u001b[0mword\u001b[0m \u001b[0;34m+\u001b[0m \u001b[0;34m' '\u001b[0m \u001b[0;34m+\u001b[0m \u001b[0mmy_sentence\u001b[0m\u001b[0;34m\u001b[0m\u001b[0;34m\u001b[0m\u001b[0m\n\u001b[0m\u001b[1;32m      4\u001b[0m \u001b[0mprint\u001b[0m\u001b[0;34m(\u001b[0m\u001b[0mmy_sentence\u001b[0m\u001b[0;34m)\u001b[0m\u001b[0;34m\u001b[0m\u001b[0;34m\u001b[0m\u001b[0m\n",
      "\u001b[0;31mNameError\u001b[0m: name 'my_sentence' is not defined"
     ]
    }
   ],
   "source": [
    "words = ['dog', 'cat', 'lizard']\n",
    "for word in words:\n",
    "    my_sentence = word + ' ' + my_sentence\n",
    "print(my_sentence)"
   ]
  },
  {
   "cell_type": "markdown",
   "metadata": {},
   "source": [
    "### 8. You can use index to print the FIRST occurrence of an item in a list:"
   ]
  },
  {
   "cell_type": "code",
   "execution_count": 2,
   "metadata": {},
   "outputs": [
    {
     "name": "stdout",
     "output_type": "stream",
     "text": [
      "dog is in the 1th position\n",
      "cat is in the 2th position\n",
      "lizard is in the 3th position\n",
      "cat is in the 2th position\n"
     ]
    }
   ],
   "source": [
    "words = ['dog', 'cat', 'lizard', 'cat']\n",
    "for word in words:\n",
    "    print(f'{word} is in the {words.index(word)+1}th position')"
   ]
  },
  {
   "cell_type": "markdown",
   "metadata": {},
   "source": [
    "### 9. You can use a counting variable to deal with repeated items in a list:"
   ]
  },
  {
   "cell_type": "code",
   "execution_count": 20,
   "metadata": {},
   "outputs": [
    {
     "name": "stdout",
     "output_type": "stream",
     "text": [
      "dog is in the 1th position\n",
      "cat is in the 2th position\n",
      "lizard is in the 3th position\n",
      "cat is in the 4th position\n"
     ]
    }
   ],
   "source": [
    "words = ['dog', 'cat', 'lizard', 'cat']\n",
    "counter = 1\n",
    "for word in words:\n",
    "    print(f'{word} is in the {counter}th position')\n",
    "    counter = counter + 1"
   ]
  },
  {
   "cell_type": "markdown",
   "metadata": {},
   "source": [
    "### 10. There are reserved words in python. If something changes color, use \"my\" in front of it:"
   ]
  },
  {
   "cell_type": "code",
   "execution_count": null,
   "metadata": {},
   "outputs": [],
   "source": [
    "class\n",
    "for\n",
    "while\n",
    "True\n",
    "False\n",
    "list\n",
    "my_list"
   ]
  },
  {
   "cell_type": "markdown",
   "metadata": {},
   "source": [
    "### 11. Be careful - don't resave a list as list.sort() - it outputs None:"
   ]
  },
  {
   "cell_type": "code",
   "execution_count": 28,
   "metadata": {},
   "outputs": [
    {
     "name": "stdout",
     "output_type": "stream",
     "text": [
      "None\n"
     ]
    }
   ],
   "source": [
    "animals = ['dog', 'cat', 'lizard', 'donkey']\n",
    "animals = animals.sort()\n",
    "print(animals)"
   ]
  },
  {
   "cell_type": "markdown",
   "metadata": {},
   "source": [
    "### 12. Just use put .sort() alone on its own line and it will work:"
   ]
  },
  {
   "cell_type": "code",
   "execution_count": 29,
   "metadata": {},
   "outputs": [
    {
     "name": "stdout",
     "output_type": "stream",
     "text": [
      "['cat', 'dog', 'donkey', 'lizard']\n"
     ]
    }
   ],
   "source": [
    "animals = ['dog', 'cat', 'lizard', 'donkey']\n",
    "animals.sort()\n",
    "print(animals)"
   ]
  },
  {
   "cell_type": "markdown",
   "metadata": {},
   "source": [
    "### 13. Sorted only TEMPORARILY sorts the list:"
   ]
  },
  {
   "cell_type": "code",
   "execution_count": 32,
   "metadata": {},
   "outputs": [
    {
     "name": "stdout",
     "output_type": "stream",
     "text": [
      "cat\n",
      "dog\n",
      "donkey\n",
      "lizard\n",
      "['dog', 'cat', 'lizard', 'donkey']\n"
     ]
    }
   ],
   "source": [
    "animals = ['dog', 'cat', 'lizard', 'donkey']\n",
    "for animal in sorted(animals):\n",
    "    print(animal)\n",
    "print(animals)"
   ]
  },
  {
   "cell_type": "markdown",
   "metadata": {},
   "source": [
    "### 14. If you wanted to use sorted to permanently sort the list, you could redefine the list:"
   ]
  },
  {
   "cell_type": "code",
   "execution_count": 4,
   "metadata": {},
   "outputs": [
    {
     "name": "stdout",
     "output_type": "stream",
     "text": [
      "['cat', 'dog', 'donkey', 'lizard']\n"
     ]
    }
   ],
   "source": [
    "animals = ['dog', 'cat', 'lizard', 'donkey']\n",
    "animals = sorted(animals)\n",
    "print(animals)"
   ]
  },
  {
   "cell_type": "markdown",
   "metadata": {},
   "source": [
    "### 15. If you want to reverse a list ALPHABETICALLY, use .sort(reverse=True):"
   ]
  },
  {
   "cell_type": "code",
   "execution_count": 33,
   "metadata": {},
   "outputs": [
    {
     "name": "stdout",
     "output_type": "stream",
     "text": [
      "['lizard', 'donkey', 'dog', 'cat']\n"
     ]
    }
   ],
   "source": [
    "animals = ['dog', 'cat', 'lizard', 'donkey']\n",
    "animals.sort(reverse = True)\n",
    "print(animals)"
   ]
  },
  {
   "cell_type": "markdown",
   "metadata": {},
   "source": [
    "### 16. If you want to reverse the order of a list (not alphabetically), use .reverse():"
   ]
  },
  {
   "cell_type": "code",
   "execution_count": 5,
   "metadata": {},
   "outputs": [
    {
     "name": "stdout",
     "output_type": "stream",
     "text": [
      "['donkey', 'lizard', 'cat', 'dog']\n"
     ]
    }
   ],
   "source": [
    "animals = ['dog', 'cat', 'lizard', 'donkey']\n",
    "animals.reverse()\n",
    "print(animals)"
   ]
  },
  {
   "cell_type": "markdown",
   "metadata": {},
   "source": [
    "### 17. You can split a sentence into words using .split():"
   ]
  },
  {
   "cell_type": "code",
   "execution_count": 36,
   "metadata": {},
   "outputs": [
    {
     "name": "stdout",
     "output_type": "stream",
     "text": [
      "gimme a sentencehi my name is\n",
      "hi\n",
      "my\n",
      "name\n",
      "is\n"
     ]
    }
   ],
   "source": [
    "sentence = input('gimme a sentence')\n",
    "words = sentence.split()\n",
    "for word in words:\n",
    "    print(word)"
   ]
  },
  {
   "cell_type": "markdown",
   "metadata": {},
   "source": [
    "### 18. To split a sentence into a list of NUMBERS, you need to put \"int\" around EACH item in the list:"
   ]
  },
  {
   "cell_type": "code",
   "execution_count": 38,
   "metadata": {},
   "outputs": [
    {
     "name": "stdout",
     "output_type": "stream",
     "text": [
      "gimme a sentence3 5 7\n",
      "6\n",
      "10\n",
      "14\n"
     ]
    }
   ],
   "source": [
    "numbers = input('gimme a sentence')\n",
    "numbers = numbers.split()\n",
    "for number in numbers:\n",
    "    print(2*int(number))"
   ]
  },
  {
   "cell_type": "markdown",
   "metadata": {},
   "source": [
    "### 19. You CAN'T put \"int\" around a sentence containing multiple numbers because you will get a TypeError:"
   ]
  },
  {
   "cell_type": "code",
   "execution_count": 39,
   "metadata": {},
   "outputs": [
    {
     "name": "stdout",
     "output_type": "stream",
     "text": [
      "gimme a sentence3 5 7\n"
     ]
    },
    {
     "ename": "TypeError",
     "evalue": "int() argument must be a string, a bytes-like object or a number, not 'list'",
     "output_type": "error",
     "traceback": [
      "\u001b[0;31m---------------------------------------------------------------------------\u001b[0m",
      "\u001b[0;31mTypeError\u001b[0m                                 Traceback (most recent call last)",
      "\u001b[0;32m<ipython-input-39-f982faa21001>\u001b[0m in \u001b[0;36m<module>\u001b[0;34m()\u001b[0m\n\u001b[1;32m      1\u001b[0m \u001b[0mnumbers\u001b[0m \u001b[0;34m=\u001b[0m \u001b[0minput\u001b[0m\u001b[0;34m(\u001b[0m\u001b[0;34m'gimme a sentence'\u001b[0m\u001b[0;34m)\u001b[0m\u001b[0;34m\u001b[0m\u001b[0m\n\u001b[0;32m----> 2\u001b[0;31m \u001b[0mnumbers\u001b[0m \u001b[0;34m=\u001b[0m \u001b[0mint\u001b[0m\u001b[0;34m(\u001b[0m\u001b[0mnumbers\u001b[0m\u001b[0;34m.\u001b[0m\u001b[0msplit\u001b[0m\u001b[0;34m(\u001b[0m\u001b[0;34m)\u001b[0m\u001b[0;34m)\u001b[0m\u001b[0;34m\u001b[0m\u001b[0m\n\u001b[0m",
      "\u001b[0;31mTypeError\u001b[0m: int() argument must be a string, a bytes-like object or a number, not 'list'"
     ]
    }
   ],
   "source": [
    "numbers = input('gimme a sentence')\n",
    "numbers = int(numbers.split())"
   ]
  },
  {
   "cell_type": "markdown",
   "metadata": {},
   "source": [
    "### 20. You can split using delimiters other than spaces (like dashes). Notice that the delimiter is REMOVED from all items in the list. "
   ]
  },
  {
   "cell_type": "code",
   "execution_count": 25,
   "metadata": {},
   "outputs": [
    {
     "name": "stdout",
     "output_type": "stream",
     "text": [
      "[' hi ', ' my ', ' name ', ' is']\n"
     ]
    }
   ],
   "source": [
    "sentence = ' hi - my - name - is'\n",
    "words = sentence.split('-')\n",
    "print(words)"
   ]
  },
  {
   "cell_type": "markdown",
   "metadata": {},
   "source": [
    "### 21. You can use strip to remove the remaining whitespace:"
   ]
  },
  {
   "cell_type": "code",
   "execution_count": 26,
   "metadata": {},
   "outputs": [
    {
     "name": "stdout",
     "output_type": "stream",
     "text": [
      "hi\n",
      "my\n",
      "name\n",
      "is\n"
     ]
    }
   ],
   "source": [
    "sentence = ' hi - my - name - is'\n",
    "words = sentence.split('-')\n",
    "for word in words:\n",
    "    print(word.strip())"
   ]
  },
  {
   "cell_type": "markdown",
   "metadata": {
    "collapsed": true
   },
   "source": [
    "### 22. You CANNOT split a word into letters using split:"
   ]
  },
  {
   "cell_type": "code",
   "execution_count": 6,
   "metadata": {},
   "outputs": [
    {
     "name": "stdout",
     "output_type": "stream",
     "text": [
      "['study']\n"
     ]
    }
   ],
   "source": [
    "word = 'study'\n",
    "letters = word.split()\n",
    "print(letters)"
   ]
  },
  {
   "cell_type": "markdown",
   "metadata": {},
   "source": [
    "### 23. To split a word into letters, you can use \"list\". You can use \"len\" to get the length of the list:"
   ]
  },
  {
   "cell_type": "code",
   "execution_count": 19,
   "metadata": {},
   "outputs": [
    {
     "name": "stdout",
     "output_type": "stream",
     "text": [
      "['s', 't', 'u', 'd', 'y']\n",
      "5\n"
     ]
    }
   ],
   "source": [
    "word = 'study'\n",
    "letters = list(word)\n",
    "print(letters)\n",
    "print(len(letters))"
   ]
  },
  {
   "cell_type": "markdown",
   "metadata": {},
   "source": [
    "### 24. To iterate through each letter in a word, you can use a for loop:"
   ]
  },
  {
   "cell_type": "code",
   "execution_count": 8,
   "metadata": {},
   "outputs": [
    {
     "name": "stdout",
     "output_type": "stream",
     "text": [
      "s\n",
      "t\n",
      "u\n",
      "d\n",
      "y\n"
     ]
    }
   ],
   "source": [
    "word = 'study'\n",
    "for letter in word:\n",
    "    print(letter)"
   ]
  },
  {
   "cell_type": "markdown",
   "metadata": {},
   "source": [
    "### 25. Enumerate allows us to iterate through the index and the item of each item in a list:"
   ]
  },
  {
   "cell_type": "code",
   "execution_count": 10,
   "metadata": {},
   "outputs": [
    {
     "name": "stdout",
     "output_type": "stream",
     "text": [
      "0 s\n",
      "1 t\n",
      "2 u\n",
      "3 d\n",
      "4 y\n"
     ]
    }
   ],
   "source": [
    "for i, letter in enumerate(word):\n",
    "    print(i, letter)"
   ]
  },
  {
   "cell_type": "markdown",
   "metadata": {},
   "source": [
    "### 26. If we multiply a string by an integer, we repeat that string that many times:"
   ]
  },
  {
   "cell_type": "code",
   "execution_count": 12,
   "metadata": {},
   "outputs": [
    {
     "name": "stdout",
     "output_type": "stream",
     "text": [
      "\n",
      "t\n",
      "uu\n",
      "ddd\n",
      "yyyy\n"
     ]
    }
   ],
   "source": [
    "for i, letter in enumerate(word):\n",
    "    print(i*letter)"
   ]
  },
  {
   "cell_type": "markdown",
   "metadata": {},
   "source": [
    "### Practice Coding Question #1: The Dead Parrot\n",
    "\n",
    "The first line of this code includes a paragraph as a long string.  Your task is to:\n",
    "\n",
    "    1. Turn the long string into a python list where each element is one sentence from the message\n",
    "    2. Print each sentence on it's own line\n",
    "    3. For full credit:\n",
    "        a. each of the sentences your program prints should end with a period, and\n",
    "        b. there should be no extra spaces or periods printed"
   ]
  },
  {
   "cell_type": "code",
   "execution_count": 17,
   "metadata": {},
   "outputs": [],
   "source": [
    "#this is the long string your will use\n",
    "message=\"It's not pining, it's passed on. This parrot is no more. It has ceased to be. It's expired and gone to meet its maker. This is a late parrot. It's a stiff. Bereft of life, it rests in peace. If you hadn't nailed it to the perch, it would be pushing up daisies. It's rung down the curtain and joined the choir invisible. This is an ex-parrot.\"\n",
    "\n",
    "#insert code below"
   ]
  },
  {
   "cell_type": "markdown",
   "metadata": {},
   "source": [
    "### Practice Coding Question #2:         $2^x$ vs $x^2$\n",
    "\n",
    "Write a program that prints a visual model of the growth of $2^x$ and $x^2$ for all the integers 0 to an integer, x, that the user specifies.  To do this, you should:\n",
    "\n",
    "1. Ask the user for a number.\n",
    "2.  Label the first model 2^x.\n",
    "3.  Then, model $2^x$ by looping through the list of numbers provided and print $2^x$ asterisks (*).  One line or each value of x\n",
    "4.  Then, label the second model 2^x\n",
    "5.  Then, model $x^2$ by looping through the list of numbers provided and print $x^2$ asterisks (*).  One line for each value of x\n",
    "____\n",
    "Your final output, should look like this:\n",
    "```\n",
    "2^x\n",
    "0: *\n",
    "1: **\n",
    "2: ****\n",
    "3: ********\n",
    "4: ****************\n",
    "5: ********************************\n",
    "6: ****************************************************************\n",
    "\n",
    "x^2\n",
    "0: \n",
    "1: *\n",
    "2: ****\n",
    "3: *********\n",
    "4: ****************\n",
    "5: *************************\n",
    "6: ************************************\n",
    "```"
   ]
  },
  {
   "cell_type": "code",
   "execution_count": 18,
   "metadata": {},
   "outputs": [],
   "source": [
    "#insert code here"
   ]
  }
 ],
 "metadata": {
  "kernelspec": {
   "display_name": "Python 3",
   "language": "python",
   "name": "python3"
  },
  "language_info": {
   "codemirror_mode": {
    "name": "ipython",
    "version": 3
   },
   "file_extension": ".py",
   "mimetype": "text/x-python",
   "name": "python",
   "nbconvert_exporter": "python",
   "pygments_lexer": "ipython3",
   "version": "3.7.3"
  }
 },
 "nbformat": 4,
 "nbformat_minor": 2
}
