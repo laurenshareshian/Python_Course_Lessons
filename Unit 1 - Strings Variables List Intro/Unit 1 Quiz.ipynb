{
 "cells": [
  {
   "cell_type": "markdown",
   "metadata": {
    "collapsed": false
   },
   "source": [
    "## 1)  A Bug in the Spam\n",
    "\n",
    "The code below, as it is currently written, produces an error.  Your job is to:\n",
    "    1.  Run the code and find the error in the code\n",
    "    2.  Put a comment symbol at the front of that\"Bad\" line, so it won't execute (but don't erase the \"Bad\" line\")\n",
    "    3.  Add a comment above that code indicating why that line doesn't work properly\n",
    "    4.  Below the \"Bad\" line, rewrite a new line that works properly\n",
    "    \n",
    "---\n",
    "If you are successful, the final output should look like this:\n",
    "\n",
    "    Menu Item #1 => Egg and Spam\n",
    "    Menu Item #2 => Egg, bacon and Spam\n",
    "    Menu Item #3 => Egg, bacon, sausage and Spam\n",
    "    Menu Item #4 => Spam, Spam, Egg Sausage and Spam\n",
    "    Menu Item #5 => Spam, Spam, Spam, Spam, Spam, Spam, baked beans, Spam, Spam, Spam and Spam\n",
    "    Menu Item #6 => Spam, Spam, Spam, egg and Spam\n",
    "    Menu Item #7 => Spam, bacon, sausage and Spam\n",
    "    Menu Item #8 => Spam, egg, Spam, Spam, bacon and Spam"
   ]
  },
  {
   "cell_type": "code",
   "execution_count": 1,
   "metadata": {
    "trusted": true
   },
   "outputs": [
    {
     "ename": "TypeError",
     "evalue": "Can't convert 'int' object to str implicitly",
     "output_type": "error",
     "traceback": [
      "\u001b[0;31m---------------------------------------------------------------------------\u001b[0m",
      "\u001b[0;31mTypeError\u001b[0m                                 Traceback (most recent call last)",
      "\u001b[0;32m<ipython-input-1-44b5da21d578>\u001b[0m in \u001b[0;36m<module>\u001b[0;34m()\u001b[0m\n\u001b[1;32m      7\u001b[0m \u001b[0mmy_spam_dishes\u001b[0m\u001b[0;34m.\u001b[0m\u001b[0msort\u001b[0m\u001b[0;34m(\u001b[0m\u001b[0;34m)\u001b[0m\u001b[0;34m\u001b[0m\u001b[0m\n\u001b[1;32m      8\u001b[0m \u001b[0;32mfor\u001b[0m \u001b[0mspam\u001b[0m \u001b[0;32min\u001b[0m \u001b[0mmy_spam_dishes\u001b[0m\u001b[0;34m:\u001b[0m\u001b[0;34m\u001b[0m\u001b[0m\n\u001b[0;32m----> 9\u001b[0;31m     \u001b[0mprint\u001b[0m\u001b[0;34m(\u001b[0m\u001b[0;34m'\\tMenu Item #'\u001b[0m\u001b[0;34m+\u001b[0m \u001b[0mmy_spam_dishes\u001b[0m\u001b[0;34m.\u001b[0m\u001b[0mindex\u001b[0m\u001b[0;34m(\u001b[0m\u001b[0mspam\u001b[0m\u001b[0;34m)\u001b[0m\u001b[0;34m+\u001b[0m\u001b[0;36m1\u001b[0m\u001b[0;34m,\u001b[0m\u001b[0mend\u001b[0m\u001b[0;34m=\u001b[0m\u001b[0;34m\" => \"\u001b[0m\u001b[0;34m)\u001b[0m\u001b[0;34m\u001b[0m\u001b[0m\n\u001b[0m\u001b[1;32m     10\u001b[0m     \u001b[0mprint\u001b[0m\u001b[0;34m(\u001b[0m\u001b[0mspam\u001b[0m\u001b[0;34m)\u001b[0m\u001b[0;34m\u001b[0m\u001b[0m\n",
      "\u001b[0;31mTypeError\u001b[0m: Can't convert 'int' object to str implicitly"
     ]
    }
   ],
   "source": [
    "#A program to print my favorite foods with spam\n",
    "\n",
    "my_spam_dishes=['Egg and Spam','Egg, bacon and Spam','Egg, bacon, sausage and Spam',\n",
    "                'Spam, bacon, sausage and Spam','Spam, egg, Spam, Spam, bacon and Spam',\n",
    "                'Spam, Spam, Spam, egg and Spam','Spam, Spam, Egg Sausage and Spam',\n",
    "                'Spam, Spam, Spam, Spam, Spam, Spam, baked beans, Spam, Spam, Spam and Spam']\n",
    "my_spam_dishes.sort()\n",
    "for spam in my_spam_dishes:\n",
    "    print('\\tMenu Item #'+ my_spam_dishes.index(spam)+1,end=\" => \")\n",
    "    print(spam)"
   ]
  },
  {
   "cell_type": "markdown",
   "metadata": {
    "collapsed": false
   },
   "source": [
    "## 2)  To Be, Or Not To Be. \n",
    "\n",
    "    1.  Break up the sentence into words.\n",
    "    2.  Print them out in REVERSE alphabetical order.\n",
    "    3.  All the words should be lowercase"
   ]
  },
  {
   "cell_type": "code",
   "execution_count": 7,
   "metadata": {
    "collapsed": false
   },
   "outputs": [
   ],
   "source": [
    "#insert #2 code here\n",
    "sentence = 'To Be Or Not To Be That Is The Question.'"
   ]
  },
  {
   "cell_type": "markdown",
   "metadata": {
    "collapsed": false
   },
   "source": [
    "---\n",
    "## 3) The Dead Parrot\n",
    "\n",
    "The first line of this code includes a paragraph as a long string.  Your task is to:\n",
    "\n",
    "    1.  Turn the long string into a python list where each element is one sentence from the message\n",
    "    2.  Print each sentence on it's own line"
   ]
  },
  {
   "cell_type": "code",
   "execution_count": 1,
   "metadata": {
    "trusted": true
   },
   "outputs": [
   ],
   "source": [
    "#this is the long string your will use\n",
    "message=\"It's not pining, it's passed on. This parrot is no more. It has ceased to be. It's expired and gone to meet its maker. This is a late parrot. It's a stiff. Bereft of life, it rests in peace. If you hadn't nailed it to the perch, it would be pushing up daisies. It's rung down the curtain and joined the choir invisible. This is an ex-parrot.\"\n",
    "\n",
    "#insert code below\n"
   ]
  },
  {
   "cell_type": "markdown",
   "metadata": {
    "collapsed": false
   },
   "source": [
    "## 4)  Visualizing Data:  $2^x$ vs $x^2$ \n",
    "Write a program that prints a visual model of the growth of $2^x$ and $x^2$ for all the integers 0 to 6.  To do this, you should:\n",
    "    1.  Write code that prints \"this is the first model 2^x\".\n",
    "    2.  Then, model 2^x by looping through the list of numbers provided and print 2^x asterisks (*), one line for each value of x. For example:\n",
    "    *\n",
    "    **\n",
    "    ****\n",
    "    ********\n",
    "\n",
    "    3.  Write code that prints \"this is the second model x^2\".\n",
    "    4.  Then, model x^2 by looping through the list of numbers provided and print x^2 asterisks (*), one line for each value of x. For example:\n",
    "\n",
    "    *\n",
    "    ****\n",
    "    *********\n"
   ]
  },
  {
   "cell_type": "code",
   "execution_count": 0,
   "metadata": {
    "trusted": true
   },
   "outputs": [
   ],
   "source": [
    "#here is a list of the integers to use for x\n",
    "nums=[0,1,2,3,4,5,6]\n",
    "\n",
    "#put the code for 2^x here\n",
    "\n",
    "\n",
    "#put the code for x^2 here\n"
   ]
  }
 ],
 "metadata": {
  "kernelspec": {
   "display_name": "Python 3 (Ubuntu Linux)",
   "language": "python",
   "name": "python3"
  },
  "language_info": {
   "codemirror_mode": {
    "name": "ipython",
    "version": 3
   },
   "file_extension": ".py",
   "mimetype": "text/x-python",
   "name": "python",
   "nbconvert_exporter": "python",
   "pygments_lexer": "ipython3",
   "version": "3.5.2"
  }
 },
 "nbformat": 4,
 "nbformat_minor": 0
}