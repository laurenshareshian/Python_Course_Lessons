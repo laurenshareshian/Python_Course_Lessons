{
 "cells": [
  {
   "cell_type": "markdown",
   "metadata": {
    "collapsed": false
   },
   "source": [
    "1.Write a program that converts degrees Fahrenheit to degrees Celsius.  Your program should ask for the temperature in Fahrenheit and then print out the degrees in Celsius."
   ]
  },
  {
   "cell_type": "code",
   "execution_count": 0,
   "metadata": {
    "collapsed": true
   },
   "outputs": [
   ],
   "source": [
    "#insert #1"
   ]
  },
  {
   "cell_type": "markdown",
   "metadata": {
    "collapsed": false
   },
   "source": [
    "2a.Write  a program that asks the user for the radius of a circle.  The program will then print out the Diameter, Circumference and the Area of that circle.  Use 3.14 for pi.\n",
    "\n"
   ]
  },
  {
   "cell_type": "code",
   "execution_count": 0,
   "metadata": {
    "collapsed": true
   },
   "outputs": [
   ],
   "source": [
    "#insert #2a"
   ]
  },
  {
   "cell_type": "markdown",
   "metadata": {
    "collapsed": false
   },
   "source": [
    "2b.\tComplete Exercise 2a again but google how to import the Python math package to use Python’s built-in version of pi instead of approximating it by 3.14. Hint: you’ll need “import math” at the top of your code. You'll probably want to find the answer on Stack Overflow."
   ]
  },
  {
   "cell_type": "code",
   "execution_count": 0,
   "metadata": {
    "collapsed": true
   },
   "outputs": [
   ],
   "source": [
    "#insert 2b"
   ]
  },
  {
   "cell_type": "markdown",
   "metadata": {
    "collapsed": false
   },
   "source": [
    "3.Write a program that asks the user to type a sentence.  The program should then print out how many words there are in the sentence and list these words in alphabetical order, one word per line, capitalized, and indicate the number of letters in each word.  For example:\n",
    "Type a sentence (do not use punctuation):  \n",
    "    \n",
    "Example Sentence: What is the airspeed velocity of an unladen swallow\n",
    "\n",
    "Your sentence contains 9 words.  These words are:\n",
    "    \n",
    "    \n",
    "AIRSPEED (8)\n",
    "\n",
    "AN (2)\n",
    "\n",
    "IS (2)\n",
    "\n",
    "OF (2)\n",
    "\n",
    "SWALLOW (7)\n",
    "\n",
    "THE (3)\n",
    "\n",
    "UNLADEN (7)\n",
    "\n",
    "VELOCITY (8)\n",
    "\n",
    "WHAT (4)\n"
   ]
  },
  {
   "cell_type": "code",
   "execution_count": 2,
   "metadata": {
    "collapsed": true
   },
   "outputs": [
   ],
   "source": [
    "#insert #3"
   ]
  },
  {
   "cell_type": "markdown",
   "metadata": {
    "collapsed": false
   },
   "source": [
    "4.Write a program that asks the user for their first name.  The program then addresses them by their first name, but writes each letter of their name the number of times of the position of that letter.  The program then prints out their name re-written as a Palindrome by writing their name, the number of letters in their name, and their name again spelled backwards.  For example:\n",
    "What is your name? Matthew\n",
    "\n",
    "Hello, Maattttttthhhhheeeeeewwwwwww!\n",
    "\n",
    "\n",
    "Here is your name as a Palindrome:  Matthew7wehttaM\n"
   ]
  },
  {
   "cell_type": "code",
   "execution_count": 0,
   "metadata": {
    "collapsed": true
   },
   "outputs": [
   ],
   "source": [
    "#insert #4"
   ]
  },
  {
   "cell_type": "markdown",
   "metadata": {
    "collapsed": false
   },
   "source": [
    "5.Ask the user for their name.  Print out that name on multiple lines in the shape of a pyramid.  There should be as many lines as there are letters in the name.  The letters should all be upper case.  The number of spaces between the letters should grow by one each line.\n",
    "\n",
    "What is your name? Matthew\n",
    "\n",
    "                     MATTHEW\n",
    "                  M A T T H E W\n",
    "               M  A  T  T  H  E  W\n",
    "            M   A   T   T   H   E   W\n",
    "         M    A    T    T    H    E    W\n",
    "      M     A     T     T     H     E     W\n",
    "    M      A      T      T      H      E      W\n",
    "   \n",
    "   \n",
    "\n"
   ]
  },
  {
   "cell_type": "code",
   "execution_count": 0,
   "metadata": {
    "collapsed": true
   },
   "outputs": [
   ],
   "source": [
    "#insert #5"
   ]
  }
 ],
 "metadata": {
  "kernelspec": {
   "display_name": "Python 3 (Ubuntu Linux)",
   "language": "python",
   "name": "python3"
  },
  "language_info": {
   "codemirror_mode": {
    "name": "ipython",
    "version": 3
   },
   "file_extension": ".py",
   "mimetype": "text/x-python",
   "name": "python",
   "nbconvert_exporter": "python",
   "pygments_lexer": "ipython3",
   "version": "3.6.6"
  }
 },
 "nbformat": 4,
 "nbformat_minor": 0
}