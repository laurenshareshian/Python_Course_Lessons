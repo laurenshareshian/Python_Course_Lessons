{
 "cells": [
  {
   "cell_type": "markdown",
   "metadata": {},
   "source": [
    "Selenium\n",
    "---\n",
    "<a class=\"anchor\" id=\"selenium\"></a>\n",
    "\n",
    "Often, you're going to need to go to many different websites to scrape data. The package Selenium automates this process for you. \n",
    "\n",
    "First, we'll need to download it. \n",
    "\n",
    "On a Mac, try typing into your terminal: \n",
    "\n",
    "conda install -c conda-forge selenium\n",
    "\n",
    "Then type:\n",
    "\n",
    "which chromedriver\n",
    "\n",
    "If it works, great, if not (or if you have a PC), download it directly from \n",
    "\n",
    "http://chromedriver.storage.googleapis.com/index.html \n",
    "\n",
    "After you've downloaded it, type \"which chromedriver\" into your terminal to make sure it gives you a path. Everyone will have a slighty different path. Mine is \"/usr/local/bin/chromedriver.\" Replace what mine is to what yours is in the code below. "
   ]
  },
  {
   "cell_type": "code",
   "execution_count": 1,
   "metadata": {
    "collapsed": true
   },
   "outputs": [],
   "source": [
    "from selenium import webdriver\n",
    "from selenium.webdriver.common.keys import Keys\n",
    "\n",
    "# type `which chromedriver` from shell to find chromedriver. Then change the next line!!!\n",
    "chromedriver = \"/usr/local/bin/chromedriver\"\n",
    "driver = webdriver.Chrome(chromedriver)\n",
    "driver.get(\"https://images.google.com\")"
   ]
  },
  {
   "cell_type": "markdown",
   "metadata": {},
   "source": [
    "What happened? You should have gotten a browser window that popped up and went to the google images site. Whoa! What if we want to search for Kanye West pics? We'll need to type something into the search text box. Once again, to find how to reference the text box, we'll right click on it and go to Inspect. It seems to be referenced by id=lst-ib so let's tell Chromium to look for that:"
   ]
  },
  {
   "cell_type": "code",
   "execution_count": 12,
   "metadata": {},
   "outputs": [
    {
     "name": "stdout",
     "output_type": "stream",
     "text": [
      "<selenium.webdriver.remote.webelement.WebElement (session=\"f4ab5ac08cccb88e640bdfde0d488ca7\", element=\"0.6447736553766905-1\")>\n"
     ]
    }
   ],
   "source": [
    "search_box = driver.find_element_by_id(\"lst-ib\")\n",
    "print(search_box)"
   ]
  },
  {
   "cell_type": "markdown",
   "metadata": {},
   "source": [
    "Okay, it found it. Now let's tell Chromium to type \"Kanye West\" into the search box:"
   ]
  },
  {
   "cell_type": "code",
   "execution_count": 13,
   "metadata": {
    "collapsed": true
   },
   "outputs": [],
   "source": [
    "search_box.send_keys(\"Kanye West\")"
   ]
  },
  {
   "cell_type": "markdown",
   "metadata": {},
   "source": [
    "Did you see what just happened on your google webpage? Now, let's press enter to complete our search:"
   ]
  },
  {
   "cell_type": "code",
   "execution_count": 14,
   "metadata": {
    "collapsed": true
   },
   "outputs": [],
   "source": [
    "search_box.send_keys(Keys.RETURN)"
   ]
  },
  {
   "cell_type": "markdown",
   "metadata": {},
   "source": [
    "What if we want to download the first image that comes up? Right click on it and press inspect to see that the the name is \"hN6qb_8t9e0lcM:\". Let's tell Selenium to search for this name:"
   ]
  },
  {
   "cell_type": "code",
   "execution_count": 15,
   "metadata": {
    "collapsed": true
   },
   "outputs": [],
   "source": [
    "search = driver.find_element_by_name('hN6qb_8t9e0lcM:')"
   ]
  },
  {
   "cell_type": "markdown",
   "metadata": {},
   "source": [
    "Let's click on this pic:"
   ]
  },
  {
   "cell_type": "code",
   "execution_count": 16,
   "metadata": {
    "collapsed": true
   },
   "outputs": [],
   "source": [
    "search.click()"
   ]
  },
  {
   "cell_type": "markdown",
   "metadata": {},
   "source": [
    "Now we are on a new page. If we wanted to know the url of the page we are currently on, we could type:"
   ]
  },
  {
   "cell_type": "code",
   "execution_count": 18,
   "metadata": {},
   "outputs": [
    {
     "data": {
      "text/plain": [
       "'https://www.google.com/search?tbm=isch&source=hp&biw=1200&bih=672&ei=tPimWoWRIMPk0gKEsIugCw&q=Kanye+West&oq=Kanye+West&gs_l=img.3..0l10.9153.9228.0.52295.10.2.0.0.0.0.82.138.2.2.0....0...1ac..64.img..8.2.136....0.5WPJdzhJvVg#imgrc=hN6qb_8t9e0lcM:'"
      ]
     },
     "execution_count": 18,
     "metadata": {},
     "output_type": "execute_result"
    }
   ],
   "source": [
    "driver.current_url"
   ]
  },
  {
   "cell_type": "markdown",
   "metadata": {},
   "source": [
    "Okay. This new image location is a little harder to find using id or class. Instead, we'll use XPath, which is typically the easiest way to search for something on a webpage. To do this, right click on the Kanye image, choose inspect, and see the blue text that got highlighted. Now, right click on the blue text and choose \"Copy - XPath\". It should look like this:\n",
    "\n",
    "<img src=\"xpath.jpg\" style=\"width: 200px;\"/>\n",
    "\n",
    "Now, we can paste what we just copied into this new search:"
   ]
  },
  {
   "cell_type": "code",
   "execution_count": 19,
   "metadata": {},
   "outputs": [
    {
     "data": {
      "text/plain": [
       "<selenium.webdriver.remote.webelement.WebElement (session=\"f4ab5ac08cccb88e640bdfde0d488ca7\", element=\"0.6236586095908558-2\")>"
      ]
     },
     "execution_count": 19,
     "metadata": {},
     "output_type": "execute_result"
    }
   ],
   "source": [
    "pic = search.find_element_by_xpath('//*[@id=\"irc_cc\"]/div[2]/div[1]/div[2]/div[2]/a/img')\n",
    "pic\n"
   ]
  },
  {
   "cell_type": "markdown",
   "metadata": {},
   "source": [
    "We can use the .get_attribute method to access this hyperlink:"
   ]
  },
  {
   "cell_type": "code",
   "execution_count": 20,
   "metadata": {},
   "outputs": [
    {
     "name": "stdout",
     "output_type": "stream",
     "text": [
      "https://upload.wikimedia.org/wikipedia/commons/thumb/1/11/Kanye_West_at_the_2009_Tribeca_Film_Festival.jpg/1200px-Kanye_West_at_the_2009_Tribeca_Film_Festival.jpg\n"
     ]
    }
   ],
   "source": [
    "url = pic.get_attribute('src')\n",
    "print(url)"
   ]
  },
  {
   "cell_type": "markdown",
   "metadata": {},
   "source": [
    "How can we download this picture? We can use requests to communicate with this url and write its contents to a file called kanye.jpg:"
   ]
  },
  {
   "cell_type": "code",
   "execution_count": 21,
   "metadata": {
    "collapsed": true
   },
   "outputs": [],
   "source": [
    "import requests\n",
    "\n",
    "response = requests.get(url)\n",
    "with open('kanye.jpg', 'wb') as f:\n",
    "        f.write(response.content)"
   ]
  },
  {
   "cell_type": "markdown",
   "metadata": {},
   "source": [
    "### Exercise - Selenium 1\n",
    "\n",
    "Use Selenium to go to \"http://www.boxofficemojo.com/movies/?id=matrix.htm\" http://www.boxofficemojo.com and use Selenium to print the Domestic Total Gross.\n"
   ]
  },
  {
   "cell_type": "code",
   "execution_count": 1,
   "metadata": {
    "collapsed": true
   },
   "outputs": [],
   "source": [
    "#insert 1"
   ]
  },
  {
   "cell_type": "markdown",
   "metadata": {},
   "source": [
    "### Exercise - Selenium 2\n",
    "\n",
    "Use Selenium to go to http://www.imdb.com/ and to type into the search box Kanye West. You won't quite be there yet because two names are listed. Use Selenium again to click on Kanye West."
   ]
  },
  {
   "cell_type": "code",
   "execution_count": null,
   "metadata": {
    "collapsed": true
   },
   "outputs": [],
   "source": [
    "#insert 2"
   ]
  },
  {
   "cell_type": "markdown",
   "metadata": {},
   "source": [
    "### Selenium and BeautifulSoup\n",
    "\n",
    "Here's another example. Let's use Selenium to get the temperature for all the zip codes in Portland. Let's first use BeautifulSoup to get the zip codes. If we right click - inspect the zip codes, we see that they are listed under class = Link_List_Text:"
   ]
  },
  {
   "cell_type": "code",
   "execution_count": 22,
   "metadata": {
    "collapsed": true
   },
   "outputs": [],
   "source": [
    "import requests\n",
    "from bs4 import BeautifulSoup\n",
    "url = 'http://zipcode.org/city/OR/PORTLAND'\n",
    "response = requests.get(url)\n",
    "soup = BeautifulSoup(response.text, \"html.parser\")\n",
    "\n",
    "zip_codes = []\n",
    "data = soup.findAll(class_='List_Link_Text')\n",
    "for link in data:\n",
    "    text = link.text\n",
    "    if 'Zip' in text:\n",
    "        zip_codes.append(' '.join(text.split()[0:1]))"
   ]
  },
  {
   "cell_type": "markdown",
   "metadata": {},
   "source": [
    "Next, let's use Selenium to search the temperature for the zip code 97201. Let's use right click - inspect - XPath to find the search box location:"
   ]
  },
  {
   "cell_type": "code",
   "execution_count": 59,
   "metadata": {},
   "outputs": [
    {
     "data": {
      "text/plain": [
       "'https://forecast.weather.gov/MapClick.php?lat=45.50999000000013&lon=-122.68298999999996#.Wqc0OpPwau4'"
      ]
     },
     "execution_count": 59,
     "metadata": {},
     "output_type": "execute_result"
    }
   ],
   "source": [
    "from selenium import webdriver\n",
    "from selenium.webdriver.common.keys import Keys\n",
    "\n",
    "chromedriver = \"/usr/local/bin/chromedriver\"\n",
    "driver = webdriver.Chrome(chromedriver)\n",
    "url = \"https://www.weather.gov/\"\n",
    "\n",
    "driver.get(url)\n",
    "search = driver.find_element_by_xpath('//*[@id=\"inputstring\"]')"
   ]
  },
  {
   "cell_type": "markdown",
   "metadata": {},
   "source": [
    "Note carefully what you have to do on https://forecast.weather.gov/ to access the weather. You need to click into the text box, type the zip code, press the tab button, and press enter. Let's do that using Selenium:"
   ]
  },
  {
   "cell_type": "code",
   "execution_count": null,
   "metadata": {
    "collapsed": true
   },
   "outputs": [],
   "source": [
    "search.click()\n",
    "search.send_keys(\"97201\")\n",
    "search.send_keys(\"\\t\")\n",
    "search.send_keys(Keys.RETURN)\n"
   ]
  },
  {
   "cell_type": "markdown",
   "metadata": {},
   "source": [
    "Unfortunately, we see it didn't work because the website was a little less responsive than our program. Let's add in a few one second delays to give the website time:"
   ]
  },
  {
   "cell_type": "code",
   "execution_count": 61,
   "metadata": {
    "collapsed": true
   },
   "outputs": [],
   "source": [
    "import time\n",
    "\n",
    "chromedriver = \"/usr/local/bin/chromedriver\"\n",
    "driver = webdriver.Chrome(chromedriver)\n",
    "url = \"https://www.weather.gov/\"\n",
    "\n",
    "driver.get(url)\n",
    "search = driver.find_element_by_xpath('//*[@id=\"inputstring\"]')\n",
    "\n",
    "search.click()\n",
    "search.send_keys(\"97201\")\n",
    "search.send_keys(\"\\t\")\n",
    "time.sleep(1)\n",
    "search.send_keys(Keys.RETURN)\n",
    "time.sleep(1)"
   ]
  },
  {
   "cell_type": "markdown",
   "metadata": {},
   "source": [
    "Now that we're in the correct spot, we use Selenium to find the temperature by typing right click - inspect - right click - copy XPath. \n",
    "\n",
    "Note: Notice at the end of the code below we have a [0].text. Find elements by xpath gave the items back in a list (even though there was only one temperature in it). Therefore, I needed a [0] to reference the first thing in the list."
   ]
  },
  {
   "cell_type": "code",
   "execution_count": 68,
   "metadata": {},
   "outputs": [
    {
     "data": {
      "text/plain": [
       "'63°F'"
      ]
     },
     "execution_count": 68,
     "metadata": {},
     "output_type": "execute_result"
    }
   ],
   "source": [
    "driver.find_elements_by_xpath('//*[@id=\"current_conditions-summary\"]/p[2]')[0].text"
   ]
  },
  {
   "cell_type": "markdown",
   "metadata": {},
   "source": [
    "Finally, we can iterate through all of the zip codes we found on the first website to find the temperatures at each and store them to a list."
   ]
  },
  {
   "cell_type": "code",
   "execution_count": 74,
   "metadata": {},
   "outputs": [
    {
     "name": "stdout",
     "output_type": "stream",
     "text": [
      "97201 63°F\n",
      "97202 63°F\n",
      "97203 64°F\n",
      "97204 63°F\n",
      "97205 63°F\n",
      "97206 63°F\n",
      "97207 63°F\n",
      "97208 63°F\n",
      "97209 63°F\n",
      "97210 63°F\n",
      "97211 63°F\n",
      "97212 63°F\n",
      "97213 63°F\n",
      "97214 63°F\n",
      "97220 63°F\n",
      "97221 63°F\n",
      "97215 63°F\n",
      "97216 63°F\n",
      "97217 63°F\n",
      "97218 63°F\n",
      "97219 64°F\n",
      "97222 63°F\n",
      "97223 63°F\n",
      "97227 63°F\n",
      "97228 63°F\n",
      "97229 63°F\n",
      "97231 63°F\n",
      "97232 63°F\n",
      "97233 63°F\n",
      "97236 63°F\n",
      "97256 66°F\n",
      "97258 63°F\n",
      "97266 63°F\n",
      "97268 66°F\n",
      "97269 63°F\n",
      "97280 63°F\n",
      "97290 63°F\n",
      "97291 63°F\n",
      "97292 63°F\n",
      "97293 63°F\n",
      "97224 66°F\n",
      "97225 63°F\n",
      "97230 63°F\n",
      "97238 63°F\n",
      "97239 63°F\n",
      "97240 63°F\n",
      "97242 63°F\n",
      "97267 66°F\n",
      "97281 66°F\n",
      "97282 63°F\n",
      "97283 64°F\n",
      "97286 63°F\n",
      "97294 63°F\n",
      "97296 63°F\n",
      "97298 63°F\n"
     ]
    }
   ],
   "source": [
    "temps = []\n",
    "\n",
    "for zip_code in zip_codes:\n",
    "    \n",
    "    chromedriver = \"/usr/local/bin/chromedriver\"\n",
    "    driver = webdriver.Chrome(chromedriver)\n",
    "    url = \"https://www.weather.gov/\"\n",
    "\n",
    "    driver.get(url)\n",
    "    search = driver.find_element_by_xpath('//*[@id=\"inputstring\"]')\n",
    "\n",
    "    search.click()\n",
    "    search.send_keys(zip_code)\n",
    "    search.send_keys(\"\\t\")\n",
    "    time.sleep(1)\n",
    "    search.send_keys(Keys.RETURN)\n",
    "    time.sleep(1)\n",
    "    \n",
    "    temp = driver.find_elements_by_xpath('//*[@id=\"current_conditions-summary\"]/p[2]')[0].text\n",
    "    print(zip_code, temp)\n",
    "    temps.append(temp)\n",
    "    \n",
    "    driver.close()"
   ]
  },
  {
   "cell_type": "markdown",
   "metadata": {},
   "source": [
    "### Exercise - More Selenium 1\n",
    "\n",
    "Use Selenium to go to \"http://www.boxofficemojo.com/movies/?id=matrix.htm\" http://www.boxofficemojo.com and use Selenium to print the genres.\n",
    "Hint: driver.find_elements_by_xpath may contain more than one thing so you might need to loop through it."
   ]
  },
  {
   "cell_type": "code",
   "execution_count": 2,
   "metadata": {},
   "outputs": [],
   "source": [
    "#insert 1"
   ]
  },
  {
   "cell_type": "markdown",
   "metadata": {},
   "source": [
    "### Exercise - More Selenium 2\n",
    "Use Selenium and XPath to click on the tab that says \"Similar Movies.\" Print the new url location."
   ]
  },
  {
   "cell_type": "code",
   "execution_count": 3,
   "metadata": {},
   "outputs": [],
   "source": [
    "#insert 2"
   ]
  },
  {
   "cell_type": "markdown",
   "metadata": {},
   "source": [
    "### Exercise - More Selenium 3\n",
    "Use pd.read_html to read in the table of similar movies that you are viewing on the similar movie page that you are now on."
   ]
  },
  {
   "cell_type": "code",
   "execution_count": 4,
   "metadata": {},
   "outputs": [],
   "source": [
    "#insert 3"
   ]
  },
  {
   "cell_type": "markdown",
   "metadata": {
    "collapsed": true
   },
   "source": [
    "### Exercise - More Selenium 4\n",
    "Use Selenium to log in to your gmail and send an email to your friend with the subject line \"I'M A BOT!\"\n"
   ]
  },
  {
   "cell_type": "code",
   "execution_count": 75,
   "metadata": {
    "collapsed": true
   },
   "outputs": [],
   "source": [
    "#insert more selenium 4"
   ]
  }
 ],
 "metadata": {
  "kernelspec": {
   "display_name": "Python 3",
   "language": "python",
   "name": "python3"
  },
  "language_info": {
   "codemirror_mode": {
    "name": "ipython",
    "version": 3
   },
   "file_extension": ".py",
   "mimetype": "text/x-python",
   "name": "python",
   "nbconvert_exporter": "python",
   "pygments_lexer": "ipython3",
   "version": "3.6.0"
  }
 },
 "nbformat": 4,
 "nbformat_minor": 2
}
