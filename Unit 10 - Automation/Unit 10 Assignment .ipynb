{
 "cells": [
  {
   "cell_type": "markdown",
   "metadata": {},
   "source": [
    "Selenium\n",
    "---\n",
    "<a class=\"anchor\" id=\"selenium\"></a>\n",
    "\n",
    "Often, you're going to need to go to many different websites to scrape data. The package Selenium automates this process for you. \n",
    "\n",
    "First, we'll need to download it. \n",
    "\n",
    "On a Mac, try typing into your terminal: \n",
    "\n",
    "conda install -c conda-forge selenium\n",
    "\n",
    "Then type:\n",
    "\n",
    "which chromedriver\n",
    "\n",
    "If it works, great, if not (or if you have a PC), download it directly from \n",
    "\n",
    "http://chromedriver.storage.googleapis.com/index.html \n",
    "\n",
    "After you've downloaded it, type \"which chromedriver\" into your terminal to make sure it gives you a path. Everyone will have a slighty different path. Mine is \"/usr/local/bin/chromedriver.\" Replace what mine is to what yours is in the code below. "
   ]
  },
  {
   "cell_type": "code",
   "execution_count": 11,
   "metadata": {
    "collapsed": true
   },
   "outputs": [],
   "source": [
    "from selenium import webdriver\n",
    "from selenium.webdriver.common.keys import Keys\n",
    "\n",
    "# type `which chromedriver` from shell to find chromedriver. Then change the next line!!!\n",
    "chromedriver = \"/usr/local/bin/chromedriver\"\n",
    "driver = webdriver.Chrome(chromedriver)\n",
    "driver.get(\"https://images.google.com\")"
   ]
  },
  {
   "cell_type": "markdown",
   "metadata": {},
   "source": [
    "What happened? You should have gotten a browser window that popped up and went to the google images site. Whoa! What if we want to search for Kanye West pics? We'll need to type something into the search text box. Once again, to find how to reference the text box, we'll right click on it and go to Inspect. It seems to be referenced by id=lst-ib so let's tell Chromium to look for that:"
   ]
  },
  {
   "cell_type": "code",
   "execution_count": 12,
   "metadata": {},
   "outputs": [
    {
     "name": "stdout",
     "output_type": "stream",
     "text": [
      "<selenium.webdriver.remote.webelement.WebElement (session=\"f6f404ab229c597142f27c44e78c2b6c\", element=\"0.7130442854657795-1\")>\n"
     ]
    }
   ],
   "source": [
    "search_box = driver.find_element_by_id(\"lst-ib\")\n",
    "print(search_box)"
   ]
  },
  {
   "cell_type": "markdown",
   "metadata": {},
   "source": [
    "Okay, it found it. Now let's tell Chromium to type \"Kanye West\" into the search box:"
   ]
  },
  {
   "cell_type": "code",
   "execution_count": 13,
   "metadata": {
    "collapsed": true
   },
   "outputs": [],
   "source": [
    "search_box.send_keys(\"Kanye West\")"
   ]
  },
  {
   "cell_type": "markdown",
   "metadata": {},
   "source": [
    "Did you see what just happened on your google webpage? Now, let's press enter to complete our search:"
   ]
  },
  {
   "cell_type": "code",
   "execution_count": 14,
   "metadata": {
    "collapsed": true
   },
   "outputs": [],
   "source": [
    "search_box.send_keys(Keys.RETURN)"
   ]
  },
  {
   "cell_type": "markdown",
   "metadata": {},
   "source": [
    "What if we want to download the first image that comes up? Right click on it and press inspect to see that the the name is \"hN6qb_8t9e0lcM:\". Let's tell Selenium to search for this name:"
   ]
  },
  {
   "cell_type": "code",
   "execution_count": 15,
   "metadata": {
    "collapsed": true
   },
   "outputs": [],
   "source": [
    "search = driver.find_element_by_name('hN6qb_8t9e0lcM:')"
   ]
  },
  {
   "cell_type": "markdown",
   "metadata": {},
   "source": [
    "Let's click on this pic:"
   ]
  },
  {
   "cell_type": "code",
   "execution_count": 16,
   "metadata": {
    "collapsed": true
   },
   "outputs": [],
   "source": [
    "search.click()"
   ]
  },
  {
   "cell_type": "markdown",
   "metadata": {},
   "source": [
    "Now we are on a new page. If we wanted to know the url of the page we are currently on, we could type:"
   ]
  },
  {
   "cell_type": "code",
   "execution_count": 17,
   "metadata": {},
   "outputs": [
    {
     "data": {
      "text/plain": [
       "'https://www.google.com/search?tbm=isch&source=hp&biw=1200&bih=672&ei=m6OoWsebGcrmjwOv3I-gBw&q=Kanye+West&oq=Kanye+West&gs_l=img.3..0l10.6200.6305.0.8044.10.2.0.0.0.0.63.126.2.2.0....0...1ac.1.64.img..8.2.125....0.sNStaiTEoGs#imgrc=hN6qb_8t9e0lcM:'"
      ]
     },
     "execution_count": 17,
     "metadata": {},
     "output_type": "execute_result"
    }
   ],
   "source": [
    "driver.current_url"
   ]
  },
  {
   "cell_type": "markdown",
   "metadata": {},
   "source": [
    "Okay. This new image location is a little harder to find using id or class. Instead, we'll use XPath, which is typically the easiest way to search for something on a webpage. To do this, right click on the Kanye image, choose inspect, and see the blue text that got highlighted. Now, right click on the blue text and choose \"Copy - XPath\". It should look like this:\n",
    "\n",
    "<img src=\"xpath.jpg\" style=\"width: 200px;\"/>\n",
    "\n",
    "Now, we can paste what we just copied into this new search:"
   ]
  },
  {
   "cell_type": "code",
   "execution_count": 18,
   "metadata": {},
   "outputs": [
    {
     "data": {
      "text/plain": [
       "<selenium.webdriver.remote.webelement.WebElement (session=\"f6f404ab229c597142f27c44e78c2b6c\", element=\"0.6801560610758997-2\")>"
      ]
     },
     "execution_count": 18,
     "metadata": {},
     "output_type": "execute_result"
    }
   ],
   "source": [
    "pic = search.find_element_by_xpath('//*[@id=\"irc_cc\"]/div[2]/div[1]/div[2]/div[2]/a/img')\n",
    "pic\n"
   ]
  },
  {
   "cell_type": "markdown",
   "metadata": {},
   "source": [
    "What pieces of info might this pic include? To find out, right click-Inspect the Kanye picture again and investigate the text that comes up in blue. It should include something like \"src=...\" We can obtain this info using the following command:"
   ]
  },
  {
   "cell_type": "code",
   "execution_count": 19,
   "metadata": {},
   "outputs": [
    {
     "name": "stdout",
     "output_type": "stream",
     "text": [
      "https://upload.wikimedia.org/wikipedia/commons/thumb/1/11/Kanye_West_at_the_2009_Tribeca_Film_Festival.jpg/1200px-Kanye_West_at_the_2009_Tribeca_Film_Festival.jpg\n"
     ]
    }
   ],
   "source": [
    "url = pic.get_attribute('src')\n",
    "print(url)"
   ]
  },
  {
   "cell_type": "markdown",
   "metadata": {},
   "source": [
    "What else is located in the blue text? We see something like \"class=...\". We can obtain the class by typing:"
   ]
  },
  {
   "cell_type": "code",
   "execution_count": 20,
   "metadata": {},
   "outputs": [
    {
     "name": "stdout",
     "output_type": "stream",
     "text": [
      "irc_mi\n"
     ]
    }
   ],
   "source": [
    "url = pic.get_attribute('class')\n",
    "print(url)"
   ]
  },
  {
   "cell_type": "markdown",
   "metadata": {},
   "source": [
    "How can we download this picture? We can use requests to communicate with this url and write its contents to a file called kanye.jpg:"
   ]
  },
  {
   "cell_type": "code",
   "execution_count": 21,
   "metadata": {
    "collapsed": true
   },
   "outputs": [],
   "source": [
    "import requests\n",
    "\n",
    "response = requests.get(url)\n",
    "with open('kanye.jpg', 'wb') as f:\n",
    "        f.write(response.content)"
   ]
  },
  {
   "cell_type": "markdown",
   "metadata": {},
   "source": [
    "How do we close the web browser window? Type:"
   ]
  },
  {
   "cell_type": "code",
   "execution_count": null,
   "metadata": {
    "collapsed": true
   },
   "outputs": [],
   "source": [
    "driver.close()"
   ]
  },
  {
   "cell_type": "markdown",
   "metadata": {},
   "source": [
    "### Exercise - Selenium 1\n",
    "\n",
    "Use Selenium to go to http://www.boxofficemojo.com/movies/?id=matrix.htm and use Selenium to print the Domestic Total Gross.\n"
   ]
  },
  {
   "cell_type": "code",
   "execution_count": 1,
   "metadata": {
    "collapsed": true
   },
   "outputs": [],
   "source": [
    "#insert 1"
   ]
  },
  {
   "cell_type": "markdown",
   "metadata": {},
   "source": [
    "### Exercise - Selenium 2\n",
    "\n",
    "Use Selenium to go to http://www.imdb.com/ and to type into the search box Kanye West. You won't quite be there yet because two names are listed. Use Selenium again to click on Kanye West."
   ]
  },
  {
   "cell_type": "code",
   "execution_count": null,
   "metadata": {
    "collapsed": true
   },
   "outputs": [],
   "source": [
    "#insert 2"
   ]
  },
  {
   "cell_type": "markdown",
   "metadata": {},
   "source": [
    "### Exercise 3 - Selenium\n",
    "Once you are on Kanye's page, find the src of his face and the id of his face."
   ]
  },
  {
   "cell_type": "code",
   "execution_count": null,
   "metadata": {
    "collapsed": true
   },
   "outputs": [],
   "source": [
    "#insert 3"
   ]
  },
  {
   "cell_type": "markdown",
   "metadata": {},
   "source": [
    "### Exercise 4 - Selenium\n",
    "While still on Kanye's face page, find the href of his birth year."
   ]
  },
  {
   "cell_type": "code",
   "execution_count": null,
   "metadata": {
    "collapsed": true
   },
   "outputs": [],
   "source": [
    "#insert 4"
   ]
  },
  {
   "cell_type": "markdown",
   "metadata": {},
   "source": [
    "### Selenium and BeautifulSoup\n",
    "\n",
    "Here's another example. Let's use Selenium to get the temperature for all the zip codes in Portland. Let's first use BeautifulSoup to get the zip codes. If we right click - inspect the zip codes, we see that they are listed under class = Link_List_Text:"
   ]
  },
  {
   "cell_type": "code",
   "execution_count": 6,
   "metadata": {
    "collapsed": true
   },
   "outputs": [],
   "source": [
    "import requests\n",
    "from bs4 import BeautifulSoup\n",
    "url = 'http://zipcode.org/city/OR/PORTLAND'\n",
    "response = requests.get(url)\n",
    "soup = BeautifulSoup(response.text, \"html.parser\")\n",
    "\n",
    "zip_codes = []\n",
    "data = soup.findAll(class_='List_Link_Text')\n",
    "for link in data:\n",
    "    text = link.text\n",
    "    if 'Zip' in text:\n",
    "        zip_codes.append(' '.join(text.split()[0:1]))"
   ]
  },
  {
   "cell_type": "markdown",
   "metadata": {},
   "source": [
    "Next, let's use Selenium to search the temperature for the zip code 97201. Let's use right click - inspect - XPath to find the search box location:"
   ]
  },
  {
   "cell_type": "code",
   "execution_count": 2,
   "metadata": {
    "collapsed": true
   },
   "outputs": [],
   "source": [
    "from selenium import webdriver\n",
    "from selenium.webdriver.common.keys import Keys\n",
    "\n",
    "chromedriver = \"/usr/local/bin/chromedriver\"\n",
    "driver = webdriver.Chrome(chromedriver)\n",
    "url = \"https://www.weather.gov/\"\n",
    "\n",
    "driver.get(url)\n",
    "search = driver.find_element_by_xpath('//*[@id=\"inputstring\"]')"
   ]
  },
  {
   "cell_type": "markdown",
   "metadata": {},
   "source": [
    "Note carefully what you have to do on https://forecast.weather.gov/ to access the weather. You need to click into the text box, type the zip code, press the tab button, and press enter. Let's do that using Selenium:"
   ]
  },
  {
   "cell_type": "code",
   "execution_count": 3,
   "metadata": {
    "collapsed": true
   },
   "outputs": [],
   "source": [
    "search.click()\n",
    "search.send_keys(\"97201\")\n",
    "search.send_keys(\"\\t\")\n",
    "search.send_keys(Keys.RETURN)\n"
   ]
  },
  {
   "cell_type": "markdown",
   "metadata": {},
   "source": [
    "Unfortunately, we see it didn't work because the website was a little less responsive than our program. Let's add in a few one second delays to give the website time:"
   ]
  },
  {
   "cell_type": "code",
   "execution_count": 4,
   "metadata": {
    "collapsed": true
   },
   "outputs": [],
   "source": [
    "import time\n",
    "\n",
    "chromedriver = \"/usr/local/bin/chromedriver\"\n",
    "driver = webdriver.Chrome(chromedriver)\n",
    "url = \"https://www.weather.gov/\"\n",
    "\n",
    "driver.get(url)\n",
    "search = driver.find_element_by_xpath('//*[@id=\"inputstring\"]')\n",
    "\n",
    "search.click()\n",
    "search.send_keys(\"97201\")\n",
    "search.send_keys(\"\\t\")\n",
    "time.sleep(1)\n",
    "search.send_keys(Keys.RETURN)\n",
    "time.sleep(1)"
   ]
  },
  {
   "cell_type": "markdown",
   "metadata": {},
   "source": [
    "Now that we're in the correct spot, we use Selenium to find the temperature by typing right click - inspect - right click - copy XPath. \n"
   ]
  },
  {
   "cell_type": "code",
   "execution_count": 25,
   "metadata": {},
   "outputs": [
    {
     "data": {
      "text/plain": [
       "'48°F'"
      ]
     },
     "execution_count": 25,
     "metadata": {},
     "output_type": "execute_result"
    }
   ],
   "source": [
    "driver.find_element_by_xpath('//*[@id=\"current_conditions-summary\"]/p[2]').text"
   ]
  },
  {
   "cell_type": "markdown",
   "metadata": {},
   "source": [
    "Finally, we can iterate through the first 10 zip codes of the zip codes we found on the first website to find the temperatures at each and store them to a list."
   ]
  },
  {
   "cell_type": "code",
   "execution_count": 8,
   "metadata": {},
   "outputs": [
    {
     "name": "stdout",
     "output_type": "stream",
     "text": [
      "97201 48°F\n",
      "97202 48°F\n",
      "97203 48°F\n",
      "97204 48°F\n",
      "97205 48°F\n",
      "97206 48°F\n",
      "97207 48°F\n",
      "97208 48°F\n",
      "97209 48°F\n",
      "97210 48°F\n"
     ]
    }
   ],
   "source": [
    "from selenium import webdriver\n",
    "from selenium.webdriver.common.keys import Keys\n",
    "import time\n",
    "\n",
    "temps = []\n",
    "\n",
    "for i in range(10):\n",
    "    \n",
    "    chromedriver = \"/usr/local/bin/chromedriver\"\n",
    "    driver = webdriver.Chrome(chromedriver)\n",
    "    url = \"https://www.weather.gov/\"\n",
    "\n",
    "    driver.get(url)\n",
    "    search = driver.find_element_by_xpath('//*[@id=\"inputstring\"]')\n",
    "\n",
    "    search.click()\n",
    "    search.send_keys(zip_codes[i])\n",
    "    search.send_keys(\"\\t\")\n",
    "    time.sleep(1)\n",
    "    search.send_keys(Keys.RETURN)\n",
    "    time.sleep(1)\n",
    "    \n",
    "    temp = driver.find_element_by_xpath('//*[@id=\"current_conditions-summary\"]/p[2]').text\n",
    "    print(zip_codes[i], temp)\n",
    "    temps.append(temp)\n",
    "    \n",
    "    driver.close()"
   ]
  },
  {
   "cell_type": "markdown",
   "metadata": {},
   "source": [
    "As one more example, note that there is a PLURAL form driver.find_elements_by_xpath if there is more than one element that you want to find on the page. For example, suppose that I wanted to print all of the Genres located in the chart at the bottom of this page:\n",
    "\n",
    "http://www.boxofficemojo.com/movies/?id=pulpfiction.htm\n",
    "\n",
    "Right click-inspect the first genre \"Cannes Film Festival - Palme D'Or winners\". \n",
    "\n",
    "Notice that it contains:\n",
    "\n",
    "href=\"/genres/chart/?id=cannes.htm\"\n",
    "\n",
    "All of the genres contain this general form \"href=\"/genres/chart...\"\n",
    "\n",
    "To generalize our search to all hrefs that contain this first part, we can use the \"contains\" command and then iterate through all of the hits:"
   ]
  },
  {
   "cell_type": "code",
   "execution_count": 27,
   "metadata": {},
   "outputs": [
    {
     "name": "stdout",
     "output_type": "stream",
     "text": [
      "Cannes Film Festival - Palme D'Or winners\n",
      "Crime Time\n",
      "Hitman / Assassin\n"
     ]
    }
   ],
   "source": [
    "from selenium import webdriver\n",
    "from selenium.webdriver.common.keys import Keys\n",
    "\n",
    "chromedriver = \"/usr/local/bin/chromedriver\"\n",
    "driver = webdriver.Chrome(chromedriver)\n",
    "matrix_url = \"http://www.boxofficemojo.com/movies/?id=pulpfiction.htm\"\n",
    "driver.get(matrix_url)\n",
    "genre_selector = '//a[contains(@href, \"/genres/chart/\")]/b'\n",
    "for genre_anchor in driver.find_elements_by_xpath(genre_selector):\n",
    "    print(genre_anchor.text)\n",
    "driver.close()\n"
   ]
  },
  {
   "cell_type": "markdown",
   "metadata": {},
   "source": [
    "### Exercise - More Selenium 1\n",
    "\n",
    "Use Selenium to go to http://www.boxofficemojo.com/movies/?id=batmanforever.htm and use Selenium to print out all of the genres. \n"
   ]
  },
  {
   "cell_type": "code",
   "execution_count": 2,
   "metadata": {
    "collapsed": true
   },
   "outputs": [],
   "source": [
    "#insert 1"
   ]
  },
  {
   "cell_type": "markdown",
   "metadata": {},
   "source": [
    "### Exercise - More Selenium 2\n",
    "Use Selenium and XPath to click on the tab that says \"Similar Movies.\" Print the new url location."
   ]
  },
  {
   "cell_type": "code",
   "execution_count": 3,
   "metadata": {
    "collapsed": true
   },
   "outputs": [],
   "source": [
    "#insert 2"
   ]
  },
  {
   "cell_type": "markdown",
   "metadata": {},
   "source": [
    "### Exercise - More Selenium 3\n",
    "Use pd.read_html to read in the table of similar movies that you are viewing on the similar movie page that you are now on."
   ]
  },
  {
   "cell_type": "code",
   "execution_count": 4,
   "metadata": {
    "collapsed": true
   },
   "outputs": [],
   "source": [
    "#insert 3"
   ]
  },
  {
   "cell_type": "markdown",
   "metadata": {
    "collapsed": true
   },
   "source": [
    "### Exercise - More Selenium 4\n",
    "Use Selenium to log in to your gmail and send an email to your friend with the subject line \"I'M A BOT!\"\n"
   ]
  },
  {
   "cell_type": "code",
   "execution_count": 75,
   "metadata": {
    "collapsed": true
   },
   "outputs": [],
   "source": [
    "#insert more selenium 4"
   ]
  }
 ],
 "metadata": {
  "kernelspec": {
   "display_name": "Python 3",
   "language": "python",
   "name": "python3"
  },
  "language_info": {
   "codemirror_mode": {
    "name": "ipython",
    "version": 3
   },
   "file_extension": ".py",
   "mimetype": "text/x-python",
   "name": "python",
   "nbconvert_exporter": "python",
   "pygments_lexer": "ipython3",
   "version": "3.6.0"
  }
 },
 "nbformat": 4,
 "nbformat_minor": 2
}
